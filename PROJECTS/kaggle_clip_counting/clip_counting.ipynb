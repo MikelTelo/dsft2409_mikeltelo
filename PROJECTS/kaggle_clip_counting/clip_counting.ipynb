{
 "cells": [
  {
   "cell_type": "code",
   "execution_count": 6,
   "metadata": {},
   "outputs": [],
   "source": [
    "#!pip uninstall -y tensorflow tensorflow-intel tensorflow-gpu"
   ]
  },
  {
   "cell_type": "code",
   "execution_count": 7,
   "metadata": {},
   "outputs": [],
   "source": [
    "#!pip uninstall -y tensorflow-io-gcs-filesystem 0.31.0\n",
    "#!pip uninstall -y tensorflow-estimator         2.13.0"
   ]
  },
  {
   "cell_type": "code",
   "execution_count": 8,
   "metadata": {},
   "outputs": [],
   "source": [
    "#!pip cache purge"
   ]
  },
  {
   "cell_type": "code",
   "execution_count": 9,
   "metadata": {},
   "outputs": [],
   "source": [
    "#!pip install --upgrade pip"
   ]
  },
  {
   "cell_type": "code",
   "execution_count": 10,
   "metadata": {},
   "outputs": [],
   "source": [
    "#!pip install tensorflow==2.15.0 --upgrade"
   ]
  },
  {
   "cell_type": "code",
   "execution_count": 11,
   "metadata": {},
   "outputs": [],
   "source": [
    "#!pip list | findstr tensorflow"
   ]
  },
  {
   "cell_type": "code",
   "execution_count": 12,
   "metadata": {},
   "outputs": [
    {
     "data": {
      "text/plain": [
       "'\\nimport tensorflow as tf\\n\\n# Verificar dispositivos disponibles\\nprint(\"Dispositivos disponibles:\")\\nprint(tf.config.list_physical_devices())\\n'"
      ]
     },
     "execution_count": 12,
     "metadata": {},
     "output_type": "execute_result"
    }
   ],
   "source": [
    "'''\n",
    "import tensorflow as tf\n",
    "\n",
    "# Verificar dispositivos disponibles\n",
    "print(\"Dispositivos disponibles:\")\n",
    "print(tf.config.list_physical_devices())\n",
    "'''"
   ]
  },
  {
   "cell_type": "code",
   "execution_count": 13,
   "metadata": {},
   "outputs": [
    {
     "data": {
      "text/plain": [
       "'\\n# 📚 IMPORTAR LIBRERÍAS PRINCIPALES\\nimport tensorflow as tf\\nimport os\\n\\n# ⚙️ CONFIGURAR USO DE GPU\\ngpus = tf.config.list_physical_devices(\\'GPU\\')\\nif gpus:\\n    try:\\n        # Configurar solo la primera GPU\\n        tf.config.experimental.set_memory_growth(gpus[0], True)\\n        tf.config.set_visible_devices(gpus[0], \\'GPU\\')\\n        print(\"✅ GPU configurada correctamente.\")\\n    except RuntimeError as e:\\n        print(e)\\nelse:\\n    print(\"❌ No se encontró GPU. Usando CPU.\")\\n'"
      ]
     },
     "execution_count": 13,
     "metadata": {},
     "output_type": "execute_result"
    }
   ],
   "source": [
    "'''\n",
    "# 📚 IMPORTAR LIBRERÍAS PRINCIPALES\n",
    "import tensorflow as tf\n",
    "import os\n",
    "\n",
    "# ⚙️ CONFIGURAR USO DE GPU\n",
    "gpus = tf.config.list_physical_devices('GPU')\n",
    "if gpus:\n",
    "    try:\n",
    "        # Configurar solo la primera GPU\n",
    "        tf.config.experimental.set_memory_growth(gpus[0], True)\n",
    "        tf.config.set_visible_devices(gpus[0], 'GPU')\n",
    "        print(\"✅ GPU configurada correctamente.\")\n",
    "    except RuntimeError as e:\n",
    "        print(e)\n",
    "else:\n",
    "    print(\"❌ No se encontró GPU. Usando CPU.\")\n",
    "'''"
   ]
  },
  {
   "cell_type": "code",
   "execution_count": 14,
   "metadata": {},
   "outputs": [
    {
     "name": "stdout",
     "output_type": "stream",
     "text": [
      "Dispositivos disponibles:\n",
      "[PhysicalDevice(name='/physical_device:CPU:0', device_type='CPU')]\n"
     ]
    }
   ],
   "source": [
    "# ✅ Forzar el uso de CPU en TensorFlow\n",
    "import tensorflow as tf\n",
    "import os\n",
    "os.environ['CUDA_VISIBLE_DEVICES'] = '-1'  # Desactiva las GPUs explícitamente\n",
    "\n",
    "# ✅ Verificar dispositivos disponibles\n",
    "print(\"Dispositivos disponibles:\")\n",
    "print(tf.config.list_physical_devices())"
   ]
  },
  {
   "cell_type": "code",
   "execution_count": 15,
   "metadata": {},
   "outputs": [],
   "source": [
    "# 📚 Librerías Necesarias\n",
    "import tensorflow as tf\n",
    "from tensorflow.keras.models import Sequential\n",
    "from tensorflow.keras.layers import Conv2D, MaxPooling2D, Flatten, Dense, Dropout, BatchNormalization\n",
    "from tensorflow.keras.callbacks import EarlyStopping, ReduceLROnPlateau\n",
    "from sklearn.metrics import mean_squared_error, r2_score\n",
    "from sklearn.model_selection import train_test_split\n",
    "from sklearn.preprocessing import MinMaxScaler\n",
    "import pandas as pd\n",
    "import numpy as np\n",
    "import os\n",
    "import matplotlib.pyplot as plt\n",
    "import joblib\n",
    "\n",
    "# ✅ Parámetros Globales optimizados para CPU\n",
    "IMG_SIZE = (128, 128)  # Tamaño de las imágenes\n",
    "BATCH_SIZE = 16        # Reduce el tamaño del batch para evitar sobrecarga\n",
    "EPOCHS = 30            # Menos épocas para iteraciones más rápidas\n",
    "COLOR_MODE = 'grayscale'  # Imágenes en escala de grises\n",
    "AUTOTUNE = tf.data.AUTOTUNE"
   ]
  },
  {
   "cell_type": "code",
   "execution_count": 16,
   "metadata": {},
   "outputs": [],
   "source": [
    "# ✅ Rutas de Datos\n",
    "ruta_train_csv = r'D:\\Archivos de usuarios\\Mikel Telo\\OneDrive\\Documentos\\TB-DS-BIO-23.09.24\\REPOSITORIOS\\Mikel\\clip_count\\train.csv'\n",
    "ruta_test_csv = r'D:\\Archivos de usuarios\\Mikel Telo\\OneDrive\\Documentos\\TB-DS-BIO-23.09.24\\REPOSITORIOS\\Mikel\\clip_count\\test.csv'\n",
    "ruta_train_img = r'D:\\Archivos de usuarios\\Mikel Telo\\OneDrive\\Documentos\\TB-DS-BIO-23.09.24\\REPOSITORIOS\\Mikel\\clip_count\\train'\n",
    "ruta_test_img = r'D:\\Archivos de usuarios\\Mikel Telo\\OneDrive\\Documentos\\TB-DS-BIO-23.09.24\\REPOSITORIOS\\Mikel\\clip_count\\test'\n",
    "\n",
    "# ✅ Cargar Datos\n",
    "df_train = pd.read_csv(ruta_train_csv)\n",
    "df_test = pd.read_csv(ruta_test_csv)\n",
    "\n",
    "# ✅ Preprocesamiento de Imágenes optimizado para CPU\n",
    "def cargar_datos(df, ruta_img, es_entrenamiento=True):\n",
    "    ids = df['id'].values\n",
    "    labels = df['clip_count'].values if 'clip_count' in df.columns else None\n",
    "    \n",
    "    def preprocesar_imagen(id, label=None):\n",
    "        img_path = tf.strings.join([ruta_img, \"/clips-\", tf.strings.as_string(id), \".png\"])\n",
    "        img = tf.io.read_file(img_path)\n",
    "        img = tf.image.decode_png(img, channels=1)\n",
    "        img = tf.image.resize(img, IMG_SIZE)\n",
    "        img = img / 255.0\n",
    "        return (img, tf.cast(label, tf.float32)) if label is not None else img\n",
    "    \n",
    "    if es_entrenamiento:\n",
    "        dataset = tf.data.Dataset.from_tensor_slices((ids, labels))\n",
    "        dataset = dataset.map(\n",
    "            lambda id, label: preprocesar_imagen(id, label),\n",
    "            num_parallel_calls=tf.data.AUTOTUNE  # Optimiza la paralelización\n",
    "        )\n",
    "        dataset = dataset.cache()  # Guarda en caché para evitar recargar imágenes\n",
    "        dataset = dataset.shuffle(buffer_size=1000)  # Ajusta según la memoria disponible\n",
    "    else:\n",
    "        dataset = tf.data.Dataset.from_tensor_slices(ids)\n",
    "        dataset = dataset.map(\n",
    "            lambda id: preprocesar_imagen(id),\n",
    "            num_parallel_calls=tf.data.AUTOTUNE\n",
    "        )\n",
    "    \n",
    "    dataset = dataset.batch(BATCH_SIZE).prefetch(buffer_size=tf.data.AUTOTUNE)\n",
    "    return dataset\n",
    "\n",
    "# ✅ Crear Datasets\n",
    "df_train, df_val = train_test_split(df_train, test_size=0.2, random_state=42)\n",
    "dataset_train = cargar_datos(df_train, ruta_train_img, es_entrenamiento=True)\n",
    "dataset_val = cargar_datos(df_val, ruta_train_img, es_entrenamiento=True)\n",
    "dataset_test = cargar_datos(df_test, ruta_test_img, es_entrenamiento=False)"
   ]
  },
  {
   "cell_type": "code",
   "execution_count": 17,
   "metadata": {},
   "outputs": [
    {
     "name": "stdout",
     "output_type": "stream",
     "text": [
      "WARNING:tensorflow:From c:\\Users\\mikel\\AppData\\Local\\Programs\\Python\\Python39\\lib\\site-packages\\keras\\src\\backend.py:873: The name tf.get_default_graph is deprecated. Please use tf.compat.v1.get_default_graph instead.\n",
      "\n",
      "WARNING:tensorflow:From c:\\Users\\mikel\\AppData\\Local\\Programs\\Python\\Python39\\lib\\site-packages\\keras\\src\\layers\\pooling\\max_pooling2d.py:161: The name tf.nn.max_pool is deprecated. Please use tf.nn.max_pool2d instead.\n",
      "\n",
      "Model: \"sequential\"\n",
      "_________________________________________________________________\n",
      " Layer (type)                Output Shape              Param #   \n",
      "=================================================================\n",
      " conv2d (Conv2D)             (None, 126, 126, 32)      320       \n",
      "                                                                 \n",
      " batch_normalization (Batch  (None, 126, 126, 32)      128       \n",
      " Normalization)                                                  \n",
      "                                                                 \n",
      " max_pooling2d (MaxPooling2  (None, 63, 63, 32)        0         \n",
      " D)                                                              \n",
      "                                                                 \n",
      " conv2d_1 (Conv2D)           (None, 61, 61, 64)        18496     \n",
      "                                                                 \n",
      " batch_normalization_1 (Bat  (None, 61, 61, 64)        256       \n",
      " chNormalization)                                                \n",
      "                                                                 \n",
      " max_pooling2d_1 (MaxPoolin  (None, 30, 30, 64)        0         \n",
      " g2D)                                                            \n",
      "                                                                 \n",
      " conv2d_2 (Conv2D)           (None, 28, 28, 128)       73856     \n",
      "                                                                 \n",
      " batch_normalization_2 (Bat  (None, 28, 28, 128)       512       \n",
      " chNormalization)                                                \n",
      "                                                                 \n",
      " max_pooling2d_2 (MaxPoolin  (None, 14, 14, 128)       0         \n",
      " g2D)                                                            \n",
      "                                                                 \n",
      " flatten (Flatten)           (None, 25088)             0         \n",
      "                                                                 \n",
      " dense (Dense)               (None, 256)               6422784   \n",
      "                                                                 \n",
      " dropout (Dropout)           (None, 256)               0         \n",
      "                                                                 \n",
      " dense_1 (Dense)             (None, 1)                 257       \n",
      "                                                                 \n",
      "=================================================================\n",
      "Total params: 6516609 (24.86 MB)\n",
      "Trainable params: 6516161 (24.86 MB)\n",
      "Non-trainable params: 448 (1.75 KB)\n",
      "_________________________________________________________________\n"
     ]
    }
   ],
   "source": [
    "# ✅ Definir el Modelo CNN\n",
    "def crear_modelo():\n",
    "    modelo = Sequential([\n",
    "        Conv2D(32, (3, 3), activation='relu', input_shape=(128, 128, 1)),\n",
    "        BatchNormalization(),\n",
    "        MaxPooling2D((2, 2)),\n",
    "        \n",
    "        Conv2D(64, (3, 3), activation='relu'),\n",
    "        BatchNormalization(),\n",
    "        MaxPooling2D((2, 2)),\n",
    "        \n",
    "        Conv2D(128, (3, 3), activation='relu'),\n",
    "        BatchNormalization(),\n",
    "        MaxPooling2D((2, 2)),\n",
    "        \n",
    "        Flatten(),\n",
    "        Dense(256, activation='relu'),\n",
    "        Dropout(0.5),\n",
    "        Dense(1, activation='linear')  # Salida de regresión\n",
    "    ])\n",
    "    \n",
    "    modelo.compile(\n",
    "        optimizer=tf.keras.optimizers.Adam(learning_rate=0.001),\n",
    "        loss='mean_squared_error',\n",
    "        metrics=[tf.keras.metrics.RootMeanSquaredError(name='rmse')]\n",
    "    )\n",
    "    return modelo\n",
    "\n",
    "# ✅ Crear Modelo\n",
    "modelo = crear_modelo()\n",
    "modelo.summary()"
   ]
  },
  {
   "cell_type": "code",
   "execution_count": 18,
   "metadata": {},
   "outputs": [
    {
     "name": "stdout",
     "output_type": "stream",
     "text": [
      "Epoch 1/30\n",
      "WARNING:tensorflow:From c:\\Users\\mikel\\AppData\\Local\\Programs\\Python\\Python39\\lib\\site-packages\\keras\\src\\utils\\tf_utils.py:492: The name tf.ragged.RaggedTensorValue is deprecated. Please use tf.compat.v1.ragged.RaggedTensorValue instead.\n",
      "\n",
      "750/750 [==============================] - 156s 205ms/step - loss: 124.1991 - rmse: 11.1445 - val_loss: 109.0508 - val_rmse: 10.4427 - lr: 0.0010\n",
      "Epoch 2/30\n",
      "750/750 [==============================] - 140s 187ms/step - loss: 85.2662 - rmse: 9.2340 - val_loss: 60.1087 - val_rmse: 7.7530 - lr: 0.0010\n",
      "Epoch 3/30\n",
      "750/750 [==============================] - 132s 176ms/step - loss: 75.1998 - rmse: 8.6718 - val_loss: 29.6739 - val_rmse: 5.4474 - lr: 0.0010\n",
      "Epoch 4/30\n",
      "750/750 [==============================] - 145s 193ms/step - loss: 67.8790 - rmse: 8.2389 - val_loss: 146.7863 - val_rmse: 12.1155 - lr: 0.0010\n",
      "Epoch 5/30\n",
      "750/750 [==============================] - 130s 173ms/step - loss: 69.3998 - rmse: 8.3307 - val_loss: 208.7249 - val_rmse: 14.4473 - lr: 0.0010\n",
      "Epoch 6/30\n",
      "750/750 [==============================] - 141s 188ms/step - loss: 68.0365 - rmse: 8.2484 - val_loss: 64.9065 - val_rmse: 8.0565 - lr: 0.0010\n",
      "Epoch 7/30\n",
      "750/750 [==============================] - 134s 179ms/step - loss: 62.4139 - rmse: 7.9002 - val_loss: 11.0512 - val_rmse: 3.3243 - lr: 0.0010\n",
      "Epoch 8/30\n",
      "750/750 [==============================] - 139s 185ms/step - loss: 63.1733 - rmse: 7.9482 - val_loss: 796.4770 - val_rmse: 28.2219 - lr: 0.0010\n",
      "Epoch 9/30\n",
      "750/750 [==============================] - 136s 181ms/step - loss: 59.2038 - rmse: 7.6944 - val_loss: 180.3220 - val_rmse: 13.4284 - lr: 0.0010\n",
      "Epoch 10/30\n",
      "750/750 [==============================] - 121s 162ms/step - loss: 57.1728 - rmse: 7.5613 - val_loss: 44.5519 - val_rmse: 6.6747 - lr: 0.0010\n",
      "Epoch 11/30\n",
      "750/750 [==============================] - 118s 157ms/step - loss: 62.5150 - rmse: 7.9066 - val_loss: 459.7188 - val_rmse: 21.4411 - lr: 0.0010\n",
      "Epoch 12/30\n",
      "750/750 [==============================] - 118s 158ms/step - loss: 58.2652 - rmse: 7.6332 - val_loss: 6070.5015 - val_rmse: 77.9134 - lr: 0.0010\n",
      "Epoch 13/30\n",
      "750/750 [==============================] - 118s 158ms/step - loss: 46.4506 - rmse: 6.8155 - val_loss: 7.2718 - val_rmse: 2.6966 - lr: 5.0000e-04\n",
      "Epoch 14/30\n",
      "750/750 [==============================] - 136s 182ms/step - loss: 44.9041 - rmse: 6.7011 - val_loss: 13.2059 - val_rmse: 3.6340 - lr: 5.0000e-04\n",
      "Epoch 15/30\n",
      "750/750 [==============================] - 146s 195ms/step - loss: 44.8804 - rmse: 6.6993 - val_loss: 17.0095 - val_rmse: 4.1243 - lr: 5.0000e-04\n",
      "Epoch 16/30\n",
      "750/750 [==============================] - 140s 187ms/step - loss: 44.4888 - rmse: 6.6700 - val_loss: 29.0824 - val_rmse: 5.3928 - lr: 5.0000e-04\n",
      "Epoch 17/30\n",
      "750/750 [==============================] - 150s 200ms/step - loss: 42.6359 - rmse: 6.5296 - val_loss: 47.3643 - val_rmse: 6.8822 - lr: 5.0000e-04\n",
      "Epoch 18/30\n",
      "750/750 [==============================] - 152s 203ms/step - loss: 44.5436 - rmse: 6.6741 - val_loss: 8.1218 - val_rmse: 2.8499 - lr: 5.0000e-04\n",
      "Epoch 19/30\n",
      "750/750 [==============================] - 168s 224ms/step - loss: 39.6373 - rmse: 6.2958 - val_loss: 44.1475 - val_rmse: 6.6444 - lr: 2.5000e-04\n",
      "Epoch 20/30\n",
      "750/750 [==============================] - 144s 192ms/step - loss: 40.3958 - rmse: 6.3558 - val_loss: 53.1186 - val_rmse: 7.2883 - lr: 2.5000e-04\n",
      "Epoch 21/30\n",
      "750/750 [==============================] - 140s 187ms/step - loss: 40.2953 - rmse: 6.3479 - val_loss: 35.0960 - val_rmse: 5.9242 - lr: 2.5000e-04\n",
      "Epoch 22/30\n",
      "750/750 [==============================] - 148s 198ms/step - loss: 39.8271 - rmse: 6.3109 - val_loss: 28.5148 - val_rmse: 5.3399 - lr: 2.5000e-04\n",
      "Epoch 23/30\n",
      "750/750 [==============================] - 131s 174ms/step - loss: 39.2355 - rmse: 6.2638 - val_loss: 6.3836 - val_rmse: 2.5266 - lr: 2.5000e-04\n",
      "Epoch 24/30\n",
      "750/750 [==============================] - 135s 181ms/step - loss: 38.8295 - rmse: 6.2313 - val_loss: 52.7595 - val_rmse: 7.2636 - lr: 2.5000e-04\n",
      "Epoch 25/30\n",
      "750/750 [==============================] - 138s 184ms/step - loss: 40.0988 - rmse: 6.3324 - val_loss: 43.7354 - val_rmse: 6.6133 - lr: 2.5000e-04\n",
      "Epoch 26/30\n",
      "750/750 [==============================] - 150s 201ms/step - loss: 38.3680 - rmse: 6.1942 - val_loss: 18.4502 - val_rmse: 4.2954 - lr: 2.5000e-04\n",
      "Epoch 27/30\n",
      "750/750 [==============================] - 150s 201ms/step - loss: 38.7385 - rmse: 6.2240 - val_loss: 7.4906 - val_rmse: 2.7369 - lr: 2.5000e-04\n",
      "Epoch 28/30\n",
      "750/750 [==============================] - 160s 213ms/step - loss: 39.8509 - rmse: 6.3128 - val_loss: 65.7378 - val_rmse: 8.1079 - lr: 2.5000e-04\n",
      "Epoch 29/30\n",
      "750/750 [==============================] - 150s 200ms/step - loss: 37.1748 - rmse: 6.0971 - val_loss: 19.1616 - val_rmse: 4.3774 - lr: 1.2500e-04\n",
      "Epoch 30/30\n",
      "750/750 [==============================] - 149s 198ms/step - loss: 37.0907 - rmse: 6.0902 - val_loss: 10.2427 - val_rmse: 3.2004 - lr: 1.2500e-04\n"
     ]
    },
    {
     "data": {
      "image/png": "[encoded data removed]",
      "text/plain": [
       "<Figure size 640x480 with 1 Axes>"
      ]
     },
     "metadata": {},
     "output_type": "display_data"
    }
   ],
   "source": [
    "# ✅ Callbacks\n",
    "early_stop = EarlyStopping(patience=10, restore_best_weights=True)\n",
    "reduce_lr = ReduceLROnPlateau(factor=0.5, patience=5)\n",
    "\n",
    "# ✅ Entrenar Modelo\n",
    "historial = modelo.fit(\n",
    "    dataset_train,\n",
    "    validation_data=dataset_val,\n",
    "    epochs=EPOCHS,\n",
    "    callbacks=[early_stop, reduce_lr]\n",
    ")\n",
    "\n",
    "# ✅ Graficar Métricas\n",
    "plt.plot(historial.history['rmse'], label='RMSE (Train)')\n",
    "plt.plot(historial.history['val_rmse'], label='RMSE (Validation)')\n",
    "plt.legend()\n",
    "plt.show()"
   ]
  },
  {
   "cell_type": "code",
   "execution_count": 19,
   "metadata": {},
   "outputs": [
    {
     "name": "stdout",
     "output_type": "stream",
     "text": [
      "750/750 [==============================] - 32s 43ms/step - loss: 8.6015 - rmse: 2.9328\n",
      "188/188 [==============================] - 8s 40ms/step - loss: 10.2427 - rmse: 3.2004\n",
      "🔹 RMSE (Train): 2.93\n",
      "🔹 RMSE (Validation): 3.20\n",
      "313/313 [==============================] - 30s 92ms/step\n",
      "✅ Archivo 'submission.csv' generado correctamente.\n"
     ]
    }
   ],
   "source": [
    "# ✅ Evaluación\n",
    "train_loss, train_rmse = modelo.evaluate(dataset_train)\n",
    "val_loss, val_rmse = modelo.evaluate(dataset_val)\n",
    "print(f\"🔹 RMSE (Train): {train_rmse:.2f}\")\n",
    "print(f\"🔹 RMSE (Validation): {val_rmse:.2f}\")\n",
    "\n",
    "# ✅ Predicciones\n",
    "predicciones = modelo.predict(dataset_test).flatten()\n",
    "df_test['clip_count'] = np.round(predicciones).astype(int)\n",
    "\n",
    "# ✅ Guardar Resultados\n",
    "df_test[['id', 'clip_count']].to_csv('submission.csv', index=False)\n",
    "print(\"✅ Archivo 'submission.csv' generado correctamente.\")"
   ]
  },
  {
   "cell_type": "code",
   "execution_count": 20,
   "metadata": {},
   "outputs": [
    {
     "name": "stderr",
     "output_type": "stream",
     "text": [
      "c:\\Users\\mikel\\AppData\\Local\\Programs\\Python\\Python39\\lib\\site-packages\\keras\\src\\engine\\training.py:3103: UserWarning: You are saving your model as an HDF5 file via `model.save()`. This file format is considered legacy. We recommend using instead the native Keras format, e.g. `model.save('my_model.keras')`.\n",
      "  saving_api.save_model(\n"
     ]
    },
    {
     "name": "stdout",
     "output_type": "stream",
     "text": [
      "✅ Modelo guardado como 'modelo_clip_count.h5'\n"
     ]
    }
   ],
   "source": [
    "# Guardar el modelo final\n",
    "modelo.save('modelo_final/modelo_clip_count.h5')\n",
    "print(\"✅ Modelo guardado como 'modelo_clip_count.h5'\")"
   ]
  },
  {
   "cell_type": "code",
   "execution_count": 22,
   "metadata": {},
   "outputs": [
    {
     "data": {
      "text/html": [
       "<div>\n",
       "<style scoped>\n",
       "    .dataframe tbody tr th:only-of-type {\n",
       "        vertical-align: middle;\n",
       "    }\n",
       "\n",
       "    .dataframe tbody tr th {\n",
       "        vertical-align: top;\n",
       "    }\n",
       "\n",
       "    .dataframe thead th {\n",
       "        text-align: right;\n",
       "    }\n",
       "</style>\n",
       "<table border=\"1\" class=\"dataframe\">\n",
       "  <thead>\n",
       "    <tr style=\"text-align: right;\">\n",
       "      <th></th>\n",
       "      <th>id</th>\n",
       "      <th>clip_count</th>\n",
       "    </tr>\n",
       "  </thead>\n",
       "  <tbody>\n",
       "    <tr>\n",
       "      <th>count</th>\n",
       "      <td>5000.000000</td>\n",
       "      <td>5000.00000</td>\n",
       "    </tr>\n",
       "    <tr>\n",
       "      <th>mean</th>\n",
       "      <td>47500.500000</td>\n",
       "      <td>35.32500</td>\n",
       "    </tr>\n",
       "    <tr>\n",
       "      <th>std</th>\n",
       "      <td>1443.520003</td>\n",
       "      <td>20.53037</td>\n",
       "    </tr>\n",
       "    <tr>\n",
       "      <th>min</th>\n",
       "      <td>45001.000000</td>\n",
       "      <td>1.00000</td>\n",
       "    </tr>\n",
       "    <tr>\n",
       "      <th>25%</th>\n",
       "      <td>46250.750000</td>\n",
       "      <td>17.00000</td>\n",
       "    </tr>\n",
       "    <tr>\n",
       "      <th>50%</th>\n",
       "      <td>47500.500000</td>\n",
       "      <td>35.00000</td>\n",
       "    </tr>\n",
       "    <tr>\n",
       "      <th>75%</th>\n",
       "      <td>48750.250000</td>\n",
       "      <td>53.00000</td>\n",
       "    </tr>\n",
       "    <tr>\n",
       "      <th>max</th>\n",
       "      <td>50000.000000</td>\n",
       "      <td>74.00000</td>\n",
       "    </tr>\n",
       "  </tbody>\n",
       "</table>\n",
       "</div>"
      ],
      "text/plain": [
       "                 id  clip_count\n",
       "count   5000.000000  5000.00000\n",
       "mean   47500.500000    35.32500\n",
       "std     1443.520003    20.53037\n",
       "min    45001.000000     1.00000\n",
       "25%    46250.750000    17.00000\n",
       "50%    47500.500000    35.00000\n",
       "75%    48750.250000    53.00000\n",
       "max    50000.000000    74.00000"
      ]
     },
     "execution_count": 22,
     "metadata": {},
     "output_type": "execute_result"
    }
   ],
   "source": [
    "df_test.describe()"
   ]
  },
  {
   "cell_type": "code",
   "execution_count": 23,
   "metadata": {},
   "outputs": [
    {
     "data": {
      "text/html": [
       "<div>\n",
       "<style scoped>\n",
       "    .dataframe tbody tr th:only-of-type {\n",
       "        vertical-align: middle;\n",
       "    }\n",
       "\n",
       "    .dataframe tbody tr th {\n",
       "        vertical-align: top;\n",
       "    }\n",
       "\n",
       "    .dataframe thead th {\n",
       "        text-align: right;\n",
       "    }\n",
       "</style>\n",
       "<table border=\"1\" class=\"dataframe\">\n",
       "  <thead>\n",
       "    <tr style=\"text-align: right;\">\n",
       "      <th></th>\n",
       "      <th>id</th>\n",
       "      <th>clip_count</th>\n",
       "    </tr>\n",
       "  </thead>\n",
       "  <tbody>\n",
       "    <tr>\n",
       "      <th>count</th>\n",
       "      <td>12000.000000</td>\n",
       "      <td>12000.000000</td>\n",
       "    </tr>\n",
       "    <tr>\n",
       "      <th>mean</th>\n",
       "      <td>37514.099917</td>\n",
       "      <td>37.310333</td>\n",
       "    </tr>\n",
       "    <tr>\n",
       "      <th>std</th>\n",
       "      <td>4328.652185</td>\n",
       "      <td>21.913635</td>\n",
       "    </tr>\n",
       "    <tr>\n",
       "      <th>min</th>\n",
       "      <td>30001.000000</td>\n",
       "      <td>0.000000</td>\n",
       "    </tr>\n",
       "    <tr>\n",
       "      <th>25%</th>\n",
       "      <td>33771.750000</td>\n",
       "      <td>18.000000</td>\n",
       "    </tr>\n",
       "    <tr>\n",
       "      <th>50%</th>\n",
       "      <td>37510.500000</td>\n",
       "      <td>37.000000</td>\n",
       "    </tr>\n",
       "    <tr>\n",
       "      <th>75%</th>\n",
       "      <td>41245.500000</td>\n",
       "      <td>56.000000</td>\n",
       "    </tr>\n",
       "    <tr>\n",
       "      <th>max</th>\n",
       "      <td>45000.000000</td>\n",
       "      <td>75.000000</td>\n",
       "    </tr>\n",
       "  </tbody>\n",
       "</table>\n",
       "</div>"
      ],
      "text/plain": [
       "                 id    clip_count\n",
       "count  12000.000000  12000.000000\n",
       "mean   37514.099917     37.310333\n",
       "std     4328.652185     21.913635\n",
       "min    30001.000000      0.000000\n",
       "25%    33771.750000     18.000000\n",
       "50%    37510.500000     37.000000\n",
       "75%    41245.500000     56.000000\n",
       "max    45000.000000     75.000000"
      ]
     },
     "execution_count": 23,
     "metadata": {},
     "output_type": "execute_result"
    }
   ],
   "source": [
    "df_train.describe()"
   ]
  }
 ],
 "metadata": {
  "kernelspec": {
   "display_name": "Python 3",
   "language": "python",
   "name": "python3"
  },
  "language_info": {
   "codemirror_mode": {
    "name": "ipython",
    "version": 3
   },
   "file_extension": ".py",
   "mimetype": "text/x-python",
   "name": "python",
   "nbconvert_exporter": "python",
   "pygments_lexer": "ipython3",
   "version": "3.9.6"
  }
 },
 "nbformat": 4,
 "nbformat_minor": 2
}
