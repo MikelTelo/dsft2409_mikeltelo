{
 "cells": [
  {
   "cell_type": "code",
   "execution_count": 1,
   "metadata": {},
   "outputs": [
    {
     "name": "stdout",
     "output_type": "stream",
     "text": [
      "WARNING:tensorflow:From c:\\Users\\mikel\\AppData\\Local\\Programs\\Python\\Python39\\lib\\site-packages\\keras\\src\\losses.py:2976: The name tf.losses.sparse_softmax_cross_entropy is deprecated. Please use tf.compat.v1.losses.sparse_softmax_cross_entropy instead.\n",
      "\n",
      "WARNING:tensorflow:From c:\\Users\\mikel\\AppData\\Local\\Programs\\Python\\Python39\\lib\\site-packages\\keras\\src\\backend.py:1398: The name tf.executing_eagerly_outside_functions is deprecated. Please use tf.compat.v1.executing_eagerly_outside_functions instead.\n",
      "\n",
      "WARNING:tensorflow:From c:\\Users\\mikel\\AppData\\Local\\Programs\\Python\\Python39\\lib\\site-packages\\keras\\src\\layers\\normalization\\batch_normalization.py:979: The name tf.nn.fused_batch_norm is deprecated. Please use tf.compat.v1.nn.fused_batch_norm instead.\n",
      "\n",
      "✅ Modelo cargado correctamente.\n"
     ]
    }
   ],
   "source": [
    "import tensorflow as tf\n",
    "import pandas as pd\n",
    "import numpy as np\n",
    "\n",
    "# ✅ Cargar el modelo guardado\n",
    "modelo = tf.keras.models.load_model(\n",
    "    'modelo_final/modelo_clip_count.h5',\n",
    "    compile=False  # Evita recompilar si no vas a reentrenar\n",
    ")\n",
    "\n",
    "# ✅ Compilar el modelo (opcional si necesitas métricas)\n",
    "modelo.compile(\n",
    "    optimizer=tf.keras.optimizers.Adam(learning_rate=0.001),\n",
    "    loss='mean_squared_error',\n",
    "    metrics=[tf.keras.metrics.RootMeanSquaredError(name='rmse')]\n",
    ")\n",
    "\n",
    "print(\"✅ Modelo cargado correctamente.\")"
   ]
  },
  {
   "cell_type": "code",
   "execution_count": 2,
   "metadata": {},
   "outputs": [
    {
     "name": "stdout",
     "output_type": "stream",
     "text": [
      "157/157 [==============================] - 17s 107ms/step\n",
      "✅ Archivo 'submission_final.csv' generado correctamente.\n"
     ]
    }
   ],
   "source": [
    "# ✅ Rutas de Datos para Test\n",
    "ruta_test_csv = r'D:\\Archivos de usuarios\\Mikel Telo\\OneDrive\\Documentos\\TB-DS-BIO-23.09.24\\REPOSITORIOS\\Mikel\\clip_count\\test.csv'\n",
    "ruta_test_img = r'D:\\Archivos de usuarios\\Mikel Telo\\OneDrive\\Documentos\\TB-DS-BIO-23.09.24\\REPOSITORIOS\\Mikel\\clip_count\\test'\n",
    "\n",
    "# ✅ Cargar datos de prueba\n",
    "df_test = pd.read_csv(ruta_test_csv)\n",
    "\n",
    "# ✅ Preprocesar imágenes\n",
    "def preprocesar_imagen(id):\n",
    "    img_path = tf.strings.join([ruta_test_img, \"/clips-\", tf.strings.as_string(id), \".png\"])\n",
    "    img = tf.io.read_file(img_path)\n",
    "    img = tf.image.decode_png(img, channels=1)\n",
    "    img = tf.image.resize(img, (128, 128))\n",
    "    img = img / 255.0\n",
    "    return img\n",
    "\n",
    "dataset_test = tf.data.Dataset.from_tensor_slices(df_test['id'].values)\n",
    "dataset_test = dataset_test.map(lambda id: preprocesar_imagen(id))\n",
    "dataset_test = dataset_test.batch(32).prefetch(tf.data.AUTOTUNE)\n",
    "\n",
    "# ✅ Realizar predicciones\n",
    "predicciones = modelo.predict(dataset_test).flatten()\n",
    "\n",
    "# ✅ Agregar predicciones al DataFrame\n",
    "df_test['clip_count'] = np.round(predicciones).astype(int)\n",
    "\n",
    "# ✅ Asegurar valores en rango esperado\n",
    "df_test['clip_count'] = np.clip(df_test['clip_count'], 1, 74)\n",
    "\n",
    "# ✅ Guardar el archivo de salida\n",
    "df_test[['id', 'clip_count']].to_csv('submission_final.csv', index=False)\n",
    "print(\"✅ Archivo 'submission_final.csv' generado correctamente.\")"
   ]
  },
  {
   "cell_type": "code",
   "execution_count": 3,
   "metadata": {},
   "outputs": [
    {
     "name": "stdout",
     "output_type": "stream",
     "text": [
      "157/157 [==============================] - 3s 17ms/step - loss: 0.0000e+00 - rmse: 0.0000e+00\n",
      "🔹 Pérdida: 0.00\n",
      "🔹 RMSE: 0.00\n"
     ]
    }
   ],
   "source": [
    "# ✅ Evaluar el modelo\n",
    "loss, rmse = modelo.evaluate(dataset_test)\n",
    "print(f\"🔹 Pérdida: {loss:.2f}\")\n",
    "print(f\"🔹 RMSE: {rmse:.2f}\")"
   ]
  }
 ],
 "metadata": {
  "kernelspec": {
   "display_name": "Python 3",
   "language": "python",
   "name": "python3"
  },
  "language_info": {
   "codemirror_mode": {
    "name": "ipython",
    "version": 3
   },
   "file_extension": ".py",
   "mimetype": "text/x-python",
   "name": "python",
   "nbconvert_exporter": "python",
   "pygments_lexer": "ipython3",
   "version": "3.9.6"
  }
 },
 "nbformat": 4,
 "nbformat_minor": 2
}
