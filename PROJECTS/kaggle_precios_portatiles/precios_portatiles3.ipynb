{
 "cells": [
  {
   "cell_type": "code",
   "execution_count": 4,
   "metadata": {},
   "outputs": [],
   "source": [
    "import pandas as pd\n",
    "import numpy as np\n",
    "from sklearn.model_selection import train_test_split\n",
    "\n",
    "# Cargar los datos\n",
    "train_df = pd.read_csv('data/train.csv')\n",
    "test_df = pd.read_csv('data/test.csv')\n",
    "\n",
    "# Procesar la columna 'Weight' y convertirla a numérico\n",
    "train_df['Weight'] = train_df['Weight'].str.replace('kg', '').astype(float)\n",
    "test_df['Weight'] = test_df['Weight'].str.replace('kg', '').astype(float)\n",
    "\n",
    "# Procesar la columna 'Ram' y convertirla a numérico\n",
    "train_df['Ram'] = train_df['Ram'].str.replace('GB', '').astype(int)\n",
    "test_df['Ram'] = test_df['Ram'].str.replace('GB', '').astype(int)\n",
    "\n",
    "# Extraer la resolución de pantalla\n",
    "train_df[['res_width', 'res_height']] = train_df['ScreenResolution'].str.extract(r'(\\d{3,4})x(\\d{3,4})').astype(float)\n",
    "test_df[['res_width', 'res_height']] = test_df['ScreenResolution'].str.extract(r'(\\d{3,4})x(\\d{3,4})').astype(float)\n",
    "\n",
    "# Procesar la columna 'Memory' y convertirla a numérico\n",
    "def parse_memory(memory_str):\n",
    "    if isinstance(memory_str, str):\n",
    "        memory_str = memory_str.strip().lower()\n",
    "        if 'gb' in memory_str:\n",
    "            return int(float(memory_str.split('gb')[0].strip()))\n",
    "        elif 'tb' in memory_str:\n",
    "            return int(float(memory_str.split('tb')[0].strip()) * 1024)\n",
    "    return 0\n",
    "\n",
    "train_df['Memory'] = train_df['Memory'].apply(parse_memory)\n",
    "test_df['Memory'] = test_df['Memory'].apply(parse_memory)\n",
    "\n",
    "# Seleccionar las características que usaremos para el modelo\n",
    "features_to_use_improved = ['Inches', 'Ram', 'Weight', 'Memory', 'res_width', 'res_height']\n",
    "\n",
    "# Crear los conjuntos de entrenamiento y prueba\n",
    "X_train_improved = train_df[features_to_use_improved]\n",
    "X_test_improved = test_df[features_to_use_improved]\n",
    "\n",
    "# Separar la variable objetivo (target)\n",
    "y_train = train_df['Price_euros']\n",
    "\n",
    "# Dividir los datos en conjunto de entrenamiento y validación\n",
    "X_train_split, X_val_split, y_train_split, y_val_split = train_test_split(X_train_improved, y_train, test_size=0.2, random_state=42)\n",
    "\n",
    "# Aplicar la transformación logarítmica para hacer la distribución más normal\n",
    "y_train_log = np.log1p(y_train_split)\n",
    "y_val_log = np.log1p(y_val_split)\n"
   ]
  },
  {
   "cell_type": "code",
   "execution_count": 5,
   "metadata": {},
   "outputs": [
    {
     "name": "stdout",
     "output_type": "stream",
     "text": [
      "Fitting 3 folds for each of 6561 candidates, totalling 19683 fits\n",
      "Mejores parámetros encontrados: {'alpha': 0.2, 'colsample_bytree': 0.7, 'gamma': 0, 'lambda': 0.1, 'learning_rate': 0.1, 'max_depth': 6, 'n_estimators': 100, 'subsample': 1}\n",
      "MAE del modelo optimizado: 234.1372663187329\n"
     ]
    }
   ],
   "source": [
    "from sklearn.model_selection import GridSearchCV\n",
    "from xgboost import XGBRegressor\n",
    "from sklearn.metrics import mean_absolute_error\n",
    "import numpy as np\n",
    "\n",
    "# Definir el modelo XGBoost\n",
    "xgb_model = XGBRegressor(random_state=42, n_jobs=-1)\n",
    "\n",
    "# Definir el espacio de búsqueda de los hiperparámetros\n",
    "param_grid = {\n",
    "    'n_estimators': [100, 200, 300],  # Número de árboles\n",
    "    'max_depth': [6, 10, 12],          # Profundidad máxima de los árboles\n",
    "    'learning_rate': [0.01, 0.05, 0.1], # Tasa de aprendizaje\n",
    "    'subsample': [0.7, 0.8, 1],         # Proporción de muestras a usar\n",
    "    'colsample_bytree': [0.7, 0.8, 1],   # Proporción de características a usar\n",
    "    'gamma': [0, 0.1, 0.2],            # Regularización gamma\n",
    "    'alpha': [0, 0.1, 0.2],            # Regularización L1\n",
    "    'lambda': [0, 0.1, 0.2]            # Regularización L2\n",
    "}\n",
    "\n",
    "# Crear el GridSearchCV con validación cruzada\n",
    "grid_search = GridSearchCV(estimator=xgb_model, param_grid=param_grid, \n",
    "                           cv=3, scoring='neg_mean_absolute_error', \n",
    "                           n_jobs=-1, verbose=2)\n",
    "\n",
    "# Ajustar el modelo con la búsqueda de hiperparámetros\n",
    "grid_search.fit(X_train_split, y_train_log)\n",
    "\n",
    "# Mostrar los mejores parámetros encontrados\n",
    "best_params = grid_search.best_params_\n",
    "print(f'Mejores parámetros encontrados: {best_params}')\n",
    "\n",
    "# Predecir con el mejor modelo\n",
    "best_xgb_model = grid_search.best_estimator_\n",
    "y_pred_xgb_log = best_xgb_model.predict(X_val_split)\n",
    "\n",
    "# Invertir la transformación logarítmica para obtener los valores originales\n",
    "y_pred_xgb = np.expm1(y_pred_xgb_log)\n",
    "\n",
    "# Calcular el MAE para el modelo optimizado\n",
    "mae_xgb = mean_absolute_error(y_val_split, y_pred_xgb)\n",
    "print(f'MAE del modelo optimizado: {mae_xgb}')\n",
    "\n"
   ]
  },
  {
   "cell_type": "code",
   "execution_count": 6,
   "metadata": {},
   "outputs": [
    {
     "name": "stdout",
     "output_type": "stream",
     "text": [
      "Archivo de predicciones guardado como laptop_price_predictions.csv\n"
     ]
    },
    {
     "name": "stderr",
     "output_type": "stream",
     "text": [
      "C:\\Users\\mikel\\AppData\\Local\\Temp\\ipykernel_21888\\2811501838.py:9: SettingWithCopyWarning: \n",
      "A value is trying to be set on a copy of a slice from a DataFrame.\n",
      "Try using .loc[row_indexer,col_indexer] = value instead\n",
      "\n",
      "See the caveats in the documentation: https://pandas.pydata.org/pandas-docs/stable/user_guide/indexing.html#returning-a-view-versus-a-copy\n",
      "  output_df['Price_euros'] = y_pred_test\n"
     ]
    }
   ],
   "source": [
    "# Predecir en el conjunto de prueba\n",
    "y_pred_test_log = best_xgb_model.predict(X_test_improved)\n",
    "\n",
    "# Invertir la transformación logarítmica para obtener los valores de precio originales\n",
    "y_pred_test = np.expm1(y_pred_test_log)\n",
    "\n",
    "# Crear un DataFrame con los resultados\n",
    "output_df = test_df[['id']]\n",
    "output_df['Price_euros'] = y_pred_test\n",
    "\n",
    "# Guardar el archivo CSV de salida\n",
    "output_df.to_csv('laptop_price_predictions.csv', index=False)\n",
    "print('Archivo de predicciones guardado como laptop_price_predictions.csv')\n"
   ]
  }
 ],
 "metadata": {
  "kernelspec": {
   "display_name": "Python 3",
   "language": "python",
   "name": "python3"
  },
  "language_info": {
   "codemirror_mode": {
    "name": "ipython",
    "version": 3
   },
   "file_extension": ".py",
   "mimetype": "text/x-python",
   "name": "python",
   "nbconvert_exporter": "python",
   "pygments_lexer": "ipython3",
   "version": "3.9.6"
  }
 },
 "nbformat": 4,
 "nbformat_minor": 2
}
