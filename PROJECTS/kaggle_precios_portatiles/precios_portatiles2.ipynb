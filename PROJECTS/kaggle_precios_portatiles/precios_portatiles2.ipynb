{
 "cells": [
  {
   "cell_type": "code",
   "execution_count": 6,
   "metadata": {},
   "outputs": [],
   "source": [
    "import pandas as pd\n",
    "import numpy as np\n",
    "from sklearn.model_selection import train_test_split\n",
    "\n",
    "# Cargar los datos\n",
    "train_df = pd.read_csv('data/train.csv')\n",
    "test_df = pd.read_csv('data/test.csv')\n",
    "\n",
    "# Procesar la columna 'Weight' y convertirla a numérico\n",
    "train_df['Weight'] = train_df['Weight'].str.replace('kg', '').astype(float)\n",
    "test_df['Weight'] = test_df['Weight'].str.replace('kg', '').astype(float)\n",
    "\n",
    "# Procesar la columna 'Ram' y convertirla a numérico\n",
    "train_df['Ram'] = train_df['Ram'].str.replace('GB', '').astype(int)\n",
    "test_df['Ram'] = test_df['Ram'].str.replace('GB', '').astype(int)\n",
    "\n",
    "# Extraer la resolución de pantalla\n",
    "train_df[['res_width', 'res_height']] = train_df['ScreenResolution'].str.extract(r'(\\d{3,4})x(\\d{3,4})').astype(float)\n",
    "test_df[['res_width', 'res_height']] = test_df['ScreenResolution'].str.extract(r'(\\d{3,4})x(\\d{3,4})').astype(float)\n",
    "\n",
    "# Procesar la columna 'Memory' y convertirla a numérico\n",
    "def parse_memory(memory_str):\n",
    "    if isinstance(memory_str, str):\n",
    "        memory_str = memory_str.strip().lower()\n",
    "        if 'gb' in memory_str:\n",
    "            return int(float(memory_str.split('gb')[0].strip()))\n",
    "        elif 'tb' in memory_str:\n",
    "            return int(float(memory_str.split('tb')[0].strip()) * 1024)\n",
    "    return 0\n",
    "\n",
    "train_df['Memory'] = train_df['Memory'].apply(parse_memory)\n",
    "test_df['Memory'] = test_df['Memory'].apply(parse_memory)\n",
    "\n",
    "# Seleccionar las características que usaremos para el modelo\n",
    "features_to_use_improved = ['Inches', 'Ram', 'Weight', 'Memory', 'res_width', 'res_height']\n",
    "\n",
    "# Crear los conjuntos de entrenamiento y prueba\n",
    "X_train_improved = train_df[features_to_use_improved]\n",
    "X_test_improved = test_df[features_to_use_improved]\n",
    "\n",
    "# Separar la variable objetivo (target)\n",
    "y_train = train_df['Price_euros']\n",
    "\n",
    "# Dividir los datos en conjunto de entrenamiento y validación\n",
    "X_train_split, X_val_split, y_train_split, y_val_split = train_test_split(X_train_improved, y_train, test_size=0.2, random_state=42)\n",
    "\n",
    "# Aplicar la transformación logarítmica para hacer la distribución más normal\n",
    "y_train_log = np.log1p(y_train_split)\n",
    "y_val_log = np.log1p(y_val_split)\n"
   ]
  },
  {
   "cell_type": "code",
   "execution_count": 7,
   "metadata": {},
   "outputs": [
    {
     "name": "stdout",
     "output_type": "stream",
     "text": [
      "MAE del modelo XGBoost: 238.9112600391159\n"
     ]
    }
   ],
   "source": [
    "from xgboost import XGBRegressor\n",
    "from sklearn.metrics import mean_absolute_error\n",
    "\n",
    "# Crear el modelo XGBoost\n",
    "xgb_model_simple = XGBRegressor(\n",
    "    n_estimators=100,        # Usamos 100 árboles\n",
    "    max_depth=10,             # Profundidad máxima de los árboles\n",
    "    learning_rate=0.1,       # Tasa de aprendizaje\n",
    "    subsample=0.8,           # Proporción de muestras a usar\n",
    "    colsample_bytree=0.8,    # Proporción de características a usar\n",
    "    random_state=42,         # Fijamos una semilla para reproducibilidad\n",
    "    n_jobs=-1                # Usamos todos los núcleos disponibles para el entrenamiento\n",
    ")\n",
    "\n",
    "# Entrenar el modelo\n",
    "xgb_model_simple.fit(X_train_split, y_train_log)\n",
    "\n",
    "# Predecir en el conjunto de validación\n",
    "y_pred_xgb_simple_log = xgb_model_simple.predict(X_val_split)\n",
    "\n",
    "# Invertir la transformación logarítmica para obtener los valores originales\n",
    "y_pred_xgb_simple = np.expm1(y_pred_xgb_simple_log)\n",
    "\n",
    "# Calcular el MAE\n",
    "mae_xgb_simple = mean_absolute_error(y_val_split, y_pred_xgb_simple)\n",
    "\n",
    "print(f'MAE del modelo XGBoost: {mae_xgb_simple}')\n"
   ]
  },
  {
   "cell_type": "code",
   "execution_count": 8,
   "metadata": {},
   "outputs": [
    {
     "name": "stdout",
     "output_type": "stream",
     "text": [
      "Archivo de predicciones guardado como laptop_price_predictions.csv\n"
     ]
    },
    {
     "name": "stderr",
     "output_type": "stream",
     "text": [
      "C:\\Users\\mikel\\AppData\\Local\\Temp\\ipykernel_8504\\3021490609.py:9: SettingWithCopyWarning: \n",
      "A value is trying to be set on a copy of a slice from a DataFrame.\n",
      "Try using .loc[row_indexer,col_indexer] = value instead\n",
      "\n",
      "See the caveats in the documentation: https://pandas.pydata.org/pandas-docs/stable/user_guide/indexing.html#returning-a-view-versus-a-copy\n",
      "  output_df['Price_euros'] = y_pred_test\n"
     ]
    }
   ],
   "source": [
    "# Predecir en el conjunto de prueba\n",
    "y_pred_test_log = xgb_model_simple.predict(X_test_improved)\n",
    "\n",
    "# Invertir la transformación logarítmica para obtener los valores de precio originales\n",
    "y_pred_test = np.expm1(y_pred_test_log)\n",
    "\n",
    "# Crear un DataFrame con los resultados\n",
    "output_df = test_df[['id']]\n",
    "output_df['Price_euros'] = y_pred_test\n",
    "\n",
    "# Guardar el archivo CSV de salida\n",
    "output_df.to_csv('laptop_price_predictions.csv', index=False)\n",
    "print('Archivo de predicciones guardado como laptop_price_predictions.csv')\n"
   ]
  }
 ],
 "metadata": {
  "kernelspec": {
   "display_name": "Python 3",
   "language": "python",
   "name": "python3"
  },
  "language_info": {
   "codemirror_mode": {
    "name": "ipython",
    "version": 3
   },
   "file_extension": ".py",
   "mimetype": "text/x-python",
   "name": "python",
   "nbconvert_exporter": "python",
   "pygments_lexer": "ipython3",
   "version": "3.9.6"
  }
 },
 "nbformat": 4,
 "nbformat_minor": 2
}
