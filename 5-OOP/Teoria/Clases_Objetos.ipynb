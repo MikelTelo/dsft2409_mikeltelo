{
 "cells": [
  {
   "cell_type": "markdown",
   "metadata": {},
   "source": [
    "![imagen](./img/python.jpg)"
   ]
  },
  {
   "cell_type": "markdown",
   "metadata": {},
   "source": [
    "# Clases y Objetos en Python\n",
    "\n",
    "Como sabes, Python es un lenguaje de programación orientado a objetos. ¿Esto qué es? El código se organiza en elementos denominados objetos, que vienen definidos por clases. Es una manera de expresar en lenguaje máquina cosas de la vida real.\n",
    "\n",
    "1. [Clases](#1.-Clases)\n",
    "1. [Atributos](#2.-Atributos)\n",
    "3. [Constructor](#3.-Constructor)\n",
    "4. [Métodos](#4.-Métodos)\n",
    "5. [Documentación](#5.-Documentación)\n",
    "6. [Resumen](#6.-Resumen)"
   ]
  },
  {
   "cell_type": "markdown",
   "metadata": {},
   "source": [
    "## 1. Clases\n",
    "Las clases son la manera que tenemos de describir los objetos. Hasta ahora hemos visto clases básicas que vienen incluidas en Python como *int*, *str* o clases algo más complejas como los *dict*. Pero, **¿y si queremos crear nuestros propios objetos?** En los lenguajes orientados a objetos tenemos la posibilidad de definir nuevos objetos que se asemejen más a nuestros casos de uso y hagan la programación más sencilla de desarrollar y entender.\n",
    "\n",
    "**Un número entero es un objeto de la clase *int* que posee unas características diferentes a un texto**, que es de la clase *str*. Por ejemplo, **¿cómo sabemos que un coche es un coche?** ¿qué características tiene? Los coches tienen una marca, una cantidad de caballos, hay unos automáticos, otros no… De esta manera traducimos a lenguaje de maquina, a programación, un concepto que tenemos nosotros muy claro e interiorizado.\n",
    " \n",
    "Hasta ahora, hemos visto varias clases, por ejemplo la clase *str*. Cuando veiamos el tipo de dato, Python imprimía por pantalla `str`. Y al ser `str`, tenía unas propiedades que no tenían otros objetos, como las funciones .upper() o .lower().\n",
    "\n",
    "La sintaxis para crear una clase es:\n",
    "```Python\n",
    "class NombreClase:\n",
    "    # Cosas de la clase\n",
    "```\n",
    "\n",
    "Normalmente para el nombre de la clase se usa *CamelCase*, que quiere decir que se define en minúscila, sin espacios ni guiones, y jugando con las mayúsculas para diferenciar palabras.\n",
    "\n",
    "Mira cómo es la [clase *built_in* de *String*](https://docs.python.org/3/library/stdtypes.html#str)"
   ]
  },
  {
   "cell_type": "code",
   "execution_count": 1,
   "metadata": {},
   "outputs": [],
   "source": [
    "class Coche:\n",
    "    # Cosas de la clase\n",
    "    pass"
   ]
  },
  {
   "cell_type": "markdown",
   "metadata": {},
   "source": [
    "La sentencia `pass` se usa para forzar el fin de la clase *Coche*. La hemos declarado, pero no lleva nada. Python demanda una definición de la clase y podemos ignorar esa demanda mediante la sentencia `pass`."
   ]
  },
  {
   "cell_type": "code",
   "execution_count": 2,
   "metadata": {},
   "outputs": [
    {
     "name": "stdout",
     "output_type": "stream",
     "text": [
      "<class 'type'>\n"
     ]
    }
   ],
   "source": [
    "print(type(Coche))"
   ]
  },
  {
   "cell_type": "markdown",
   "metadata": {},
   "source": [
    "Bien, coche es de tipo `type`, claro porque **no es un objeto con tal**, sino que es una clase. Cuando creemos coches, estos serán de clase *Coche*, es decir, de tipo *Coche*, por lo que tiene sentido que *Coche* sea de tipo `type`."
   ]
  },
  {
   "cell_type": "markdown",
   "metadata": {},
   "source": [
    "### Clase vs Objeto\n",
    "**La clase se usa para definir algo**. Al igual que con las funciones. Creamos el esqueleto de lo que será un objeto de esa clase. Por tanto, **una vez tengamos la clase definida, instanciaremos un objeto de esa clase**.  Es como crear el concepto de coche, con todas sus características y funcionalidades. Después, a lo largo del programa, podremos crear objetos de tipo coche, que se ajusten a lo definido en la clase coche. Cada coche tendrá una marca, una potencia, etc…"
   ]
  },
  {
   "cell_type": "code",
   "execution_count": 2,
   "metadata": {},
   "outputs": [
    {
     "name": "stdout",
     "output_type": "stream",
     "text": [
      "<__main__.Coche object at 0x000002485A8B1510>\n",
      "<class 'type'>\n",
      "<class '__main__.Coche'>\n"
     ]
    }
   ],
   "source": [
    "primer_coche = Coche()\n",
    "print(primer_coche)\n",
    "print(type(Coche))\n",
    "print(type(primer_coche))"
   ]
  },
  {
   "cell_type": "markdown",
   "metadata": {},
   "source": [
    "Ahora sí tenemos un objeto de tipo Coche, que se llama `primer_coche`. Cuando imprimimos su tipo, vemos que es de tipo Coche, y cuando lo imprimes el objeto por pantalla, simplemente nos dice su tipo y un identificador.\n",
    "\n",
    "Podremos crear todos los coches que queramos"
   ]
  },
  {
   "cell_type": "code",
   "execution_count": 6,
   "metadata": {},
   "outputs": [
    {
     "name": "stdout",
     "output_type": "stream",
     "text": [
      "False\n",
      "True\n"
     ]
    }
   ],
   "source": [
    "citroen = Coche()\n",
    "seat = Coche()\n",
    "\n",
    "print(citroen == seat)\n",
    "print(type(citroen) == type(seat))"
   ]
  },
  {
   "cell_type": "markdown",
   "metadata": {},
   "source": [
    "De momento todos nuestros coches son iguales, no hemos definido bien la clase, por lo que va a ser difícil diferenciar un coche de otro. Vamos a ver cómo lograr esa diferenciación."
   ]
  },
  {
   "cell_type": "markdown",
   "metadata": {},
   "source": [
    "![imagen](./img/dogs.jpg)"
   ]
  },
  {
   "cell_type": "markdown",
   "metadata": {},
   "source": [
    "## 2. Atributos\n",
    "Son las **características que definen a los objetos de una clase**. La marca, el color, potencia del coche. Estos son atributos, que se definen de manera genérica en la clase y luego cada objeto *Coche* tendrá un valor para cada uno de sus atributos.\n",
    "\n",
    "Los atributos los definimos tras la declaración de la clase. Y luego se accede a ellos mediante la sintaxis `objeto.atributo`\n",
    "\n",
    "Vamos a empezar a definir atributos en los coches."
   ]
  },
  {
   "cell_type": "code",
   "execution_count": 7,
   "metadata": {},
   "outputs": [],
   "source": [
    "class Coche:\n",
    "    # Atributos de la clase\n",
    "    puertas = 4\n",
    "    ruedas = 4"
   ]
  },
  {
   "cell_type": "markdown",
   "metadata": {},
   "source": [
    "Ahora todos los coches que creamos, tendrán 4 puertas y 4 ruedas."
   ]
  },
  {
   "cell_type": "code",
   "execution_count": 9,
   "metadata": {},
   "outputs": [
    {
     "name": "stdout",
     "output_type": "stream",
     "text": [
      "4\n",
      "4\n",
      "4\n",
      "4\n"
     ]
    }
   ],
   "source": [
    "citroen = Coche()\n",
    "\n",
    "print(citroen.puertas)\n",
    "print(citroen.ruedas)\n",
    "\n",
    "seat = Coche()\n",
    "print(seat.puertas)\n",
    "print(seat.ruedas)"
   ]
  },
  {
   "cell_type": "code",
   "execution_count": 10,
   "metadata": {},
   "outputs": [
    {
     "name": "stdout",
     "output_type": "stream",
     "text": [
      "4\n"
     ]
    }
   ],
   "source": [
    "coche_miguel = Coche()\n",
    "print(coche_miguel.puertas)"
   ]
  },
  {
   "cell_type": "markdown",
   "metadata": {},
   "source": [
    "También podemos modificar los atributos. Esto Python lo hace muy sencillo, los cambiamos directamente reasignando valores. En otros lenguajes de programación hay que implementar esto mediante métodos  denominados `getters` y `setters`."
   ]
  },
  {
   "cell_type": "code",
   "execution_count": 11,
   "metadata": {},
   "outputs": [
    {
     "name": "stdout",
     "output_type": "stream",
     "text": [
      "2\n",
      "4\n"
     ]
    }
   ],
   "source": [
    "citroen = Coche()\n",
    "citroen.puertas = 2\n",
    "print(citroen.puertas)\n",
    "print(citroen.ruedas)"
   ]
  },
  {
   "cell_type": "code",
   "execution_count": 12,
   "metadata": {},
   "outputs": [],
   "source": [
    "citroen.motor = \"Gasolina\""
   ]
  },
  {
   "cell_type": "code",
   "execution_count": 13,
   "metadata": {},
   "outputs": [
    {
     "name": "stdout",
     "output_type": "stream",
     "text": [
      "Gasolina\n"
     ]
    }
   ],
   "source": [
    "print(citroen.motor)"
   ]
  },
  {
   "cell_type": "code",
   "execution_count": 14,
   "metadata": {},
   "outputs": [
    {
     "ename": "AttributeError",
     "evalue": "'Coche' object has no attribute 'motor'",
     "output_type": "error",
     "traceback": [
      "\u001b[1;31m---------------------------------------------------------------------------\u001b[0m",
      "\u001b[1;31mAttributeError\u001b[0m                            Traceback (most recent call last)",
      "Cell \u001b[1;32mIn[14], line 2\u001b[0m\n\u001b[0;32m      1\u001b[0m seat \u001b[38;5;241m=\u001b[39m Coche()\n\u001b[1;32m----> 2\u001b[0m \u001b[38;5;28mprint\u001b[39m(\u001b[43mseat\u001b[49m\u001b[38;5;241;43m.\u001b[39;49m\u001b[43mmotor\u001b[49m)\n",
      "\u001b[1;31mAttributeError\u001b[0m: 'Coche' object has no attribute 'motor'"
     ]
    }
   ],
   "source": [
    "seat = Coche()\n",
    "print(seat.motor)"
   ]
  },
  {
   "cell_type": "markdown",
   "metadata": {},
   "source": [
    "<table align=\"left\">\n",
    " <tr><td width=\"80\"><img src=\"./img/error.png\" style=\"width:auto;height:auto\"></td>\n",
    "     <td style=\"text-align:left\">\n",
    "         <h3>ERRORES atributos que no existen</h3>\n",
    "         \n",
    " </td></tr>\n",
    "</table>"
   ]
  },
  {
   "cell_type": "code",
   "execution_count": 15,
   "metadata": {},
   "outputs": [
    {
     "ename": "AttributeError",
     "evalue": "'Coche' object has no attribute 'motor'",
     "output_type": "error",
     "traceback": [
      "\u001b[1;31m---------------------------------------------------------------------------\u001b[0m",
      "\u001b[1;31mAttributeError\u001b[0m                            Traceback (most recent call last)",
      "Cell \u001b[1;32mIn[15], line 1\u001b[0m\n\u001b[1;32m----> 1\u001b[0m \u001b[38;5;28mprint\u001b[39m(\u001b[43mseat\u001b[49m\u001b[38;5;241;43m.\u001b[39;49m\u001b[43mmotor\u001b[49m)\n",
      "\u001b[1;31mAttributeError\u001b[0m: 'Coche' object has no attribute 'motor'"
     ]
    }
   ],
   "source": [
    "print(seat.motor)"
   ]
  },
  {
   "cell_type": "markdown",
   "metadata": {},
   "source": [
    "Seguimos sin poder diferenciar claramente un coche de otro, pero ya vamos definiendo sus características, que será posible ir modificándolas tanto en la inicialización del objeto, como después. De momento, tenemos características comunes a todos los coches... o no, ¿todos los coches tienen 4 puertas?"
   ]
  },
  {
   "cell_type": "markdown",
   "metadata": {},
   "source": [
    "## 3. Constructor\n",
    "Cuando creamos un objeto de la clase *Coche*, tenemos que definirlo bien para diferenciarlo de otros coches. Esa definición inicial se realiza en el constructor de la clase. Son unos argumentos de entrada que nos pide el objeto, para definir esa instancia de otras instancias de la misma clase.\n",
    "\n",
    "**¿Cómo definimos esto?** Mediante la sentencia `__init__`, dentro de la clase."
   ]
  },
  {
   "cell_type": "code",
   "execution_count": null,
   "metadata": {},
   "outputs": [],
   "source": [
    "def minusculas(texto):\n",
    "    texto = texto.lower()"
   ]
  },
  {
   "cell_type": "code",
   "execution_count": 16,
   "metadata": {},
   "outputs": [],
   "source": [
    "class Coche:\n",
    "    # Atributos de la clase\n",
    "    # puertas = 4\n",
    "    ruedas = 4\n",
    "    # Constructor\n",
    "    def __init__(self, marca_coche, año, puertas=4):\n",
    "        self.marca = marca_coche\n",
    "        self.año = año\n",
    "        self.puertas = puertas"
   ]
  },
  {
   "cell_type": "markdown",
   "metadata": {},
   "source": [
    "En la declaración del constructor hemos metido la palabra `self`. **Lo tendremos que poner siempre**. Hace referencia a la propia instancia de coche, es decir, a cuando creemos coches nuevos.\n",
    "\n",
    "En este caso estamos diferenciando los atributos comunes de la clase *Coche*, de los atributos particulares de los coches, como por ejemplo, la marca. Por eso la marca va junto con `self`, porque no hace referencia a la clase genércia de coche, sino a cada coche que creemos."
   ]
  },
  {
   "cell_type": "code",
   "execution_count": 22,
   "metadata": {},
   "outputs": [],
   "source": [
    "citroen = Coche(\"Citroen\", 2010, 2)"
   ]
  },
  {
   "cell_type": "code",
   "execution_count": 23,
   "metadata": {},
   "outputs": [
    {
     "name": "stdout",
     "output_type": "stream",
     "text": [
      "4\n",
      "Citroen\n",
      "2010\n",
      "2\n"
     ]
    }
   ],
   "source": [
    "print(citroen.ruedas)\n",
    "print(citroen.marca)\n",
    "print(citroen.año)\n",
    "print(citroen.puertas)"
   ]
  },
  {
   "cell_type": "code",
   "execution_count": 24,
   "metadata": {},
   "outputs": [],
   "source": [
    "fiat_1 = Coche(\"Fiat\", 2010, 2)\n",
    "fiat_2 = Coche(\"Fiat\", 2010, 4)"
   ]
  },
  {
   "cell_type": "code",
   "execution_count": 25,
   "metadata": {},
   "outputs": [
    {
     "name": "stdout",
     "output_type": "stream",
     "text": [
      "{'marca': 'Citroen', 'año': 2010, 'puertas': 2}\n"
     ]
    }
   ],
   "source": [
    "print(citroen.__dict__)"
   ]
  },
  {
   "cell_type": "markdown",
   "metadata": {},
   "source": [
    "Ahora ya podemos diferenciar los coches por su marca. Para acceder al atributo de la marca, lo hacemos igual que con los anteriores."
   ]
  },
  {
   "cell_type": "code",
   "execution_count": 26,
   "metadata": {},
   "outputs": [
    {
     "name": "stdout",
     "output_type": "stream",
     "text": [
      "Citroen\n",
      "2012\n",
      "4\n",
      "Seat\n",
      "2008\n",
      "4\n",
      "Renault\n",
      "2015\n",
      "4\n"
     ]
    }
   ],
   "source": [
    "citroen = Coche(\"Citroen\", 2012)\n",
    "\n",
    "seat = Coche(\"Seat\", 2008)\n",
    "\n",
    "renault = Coche(\"Renault\", 2015)\n",
    "\n",
    "print(citroen.marca)\n",
    "print(citroen.año)\n",
    "print(citroen.ruedas)\n",
    "print(seat.marca)\n",
    "print(seat.año)\n",
    "print(seat.ruedas)\n",
    "print(renault.marca)\n",
    "print(renault.año)\n",
    "print(renault.ruedas)"
   ]
  },
  {
   "cell_type": "code",
   "execution_count": 27,
   "metadata": {},
   "outputs": [
    {
     "name": "stdout",
     "output_type": "stream",
     "text": [
      "{'marca': 'Citroen', 'año': 2012, 'puertas': 4}\n",
      "{'marca': 'Seat', 'año': 2008, 'puertas': 4}\n",
      "{'marca': 'Renault', 'año': 2015, 'puertas': 4}\n"
     ]
    }
   ],
   "source": [
    "print(citroen.__dict__)\n",
    "print(seat.__dict__)\n",
    "print(renault.__dict__)"
   ]
  },
  {
   "cell_type": "markdown",
   "metadata": {},
   "source": [
    "Ya podemos solucionar el tema de que no todos los coches tienen 4 puertas"
   ]
  },
  {
   "cell_type": "code",
   "execution_count": 29,
   "metadata": {},
   "outputs": [],
   "source": [
    "class Coche:\n",
    "    ruedas = 4\n",
    "\n",
    "    def __init__(self, marca_coche, num_puertas):\n",
    "        self.marca = marca_coche\n",
    "        self.num_puertas = num_puertas"
   ]
  },
  {
   "cell_type": "code",
   "execution_count": 30,
   "metadata": {},
   "outputs": [
    {
     "name": "stdout",
     "output_type": "stream",
     "text": [
      "Citroen\n",
      "4\n",
      "2\n"
     ]
    }
   ],
   "source": [
    "coche_miguel = Coche(\"Citroen\", 2)\n",
    "print(coche_miguel.marca)\n",
    "print(coche_miguel.ruedas)\n",
    "print(coche_miguel.num_puertas)"
   ]
  },
  {
   "cell_type": "markdown",
   "metadata": {},
   "source": [
    "<table align=\"left\">\n",
    " <tr><td width=\"80\"><img src=\"./img/ejercicio.png\" style=\"width:auto;height:auto\"></td>\n",
    "     <td style=\"text-align:left\">\n",
    "         <h3>Ejercicio. Crea tu clase coche</h3>\n",
    "\n",
    "Crea tu propia clase coche a partir de la que acabamos de ver. La clase coche tiene que llevar un par de atributos comunes a todos los coches (ruedas:int, retrovisores:int) , y otros tres que los introduciremos mediante el constructor (marca:str, puertas:int, gasolina:bool). Instanciála en un objeto e imprime por pantalla sus atributos.\n",
    "         \n",
    " </td></tr>\n",
    "</table>"
   ]
  },
  {
   "cell_type": "code",
   "execution_count": 28,
   "metadata": {},
   "outputs": [],
   "source": [
    "class Coche:\n",
    "    ruedas = 4\n",
    "    retrovisores = 3\n",
    "\n",
    "    def __init__(self, marca:str, puertas:int, gasolina:bool=True):\n",
    "        self.marca = marca\n",
    "        self.puertas = puertas\n",
    "        self.gasolina = gasolina"
   ]
  },
  {
   "cell_type": "code",
   "execution_count": 36,
   "metadata": {},
   "outputs": [],
   "source": [
    "coche_miguel = Coche(\"BMW\", 4)"
   ]
  },
  {
   "cell_type": "code",
   "execution_count": 37,
   "metadata": {},
   "outputs": [
    {
     "data": {
      "text/plain": [
       "4"
      ]
     },
     "execution_count": 37,
     "metadata": {},
     "output_type": "execute_result"
    }
   ],
   "source": [
    "coche_miguel.puertas"
   ]
  },
  {
   "cell_type": "code",
   "execution_count": 38,
   "metadata": {},
   "outputs": [
    {
     "data": {
      "text/plain": [
       "True"
      ]
     },
     "execution_count": 38,
     "metadata": {},
     "output_type": "execute_result"
    }
   ],
   "source": [
    "coche_miguel.gasolina"
   ]
  },
  {
   "cell_type": "code",
   "execution_count": 39,
   "metadata": {},
   "outputs": [],
   "source": [
    "coche_javi = Coche(\"Mazda\", 4)"
   ]
  },
  {
   "cell_type": "code",
   "execution_count": 40,
   "metadata": {},
   "outputs": [],
   "source": [
    "coche_celeste = Coche(\"Audi\", 6, False)"
   ]
  },
  {
   "cell_type": "code",
   "execution_count": 42,
   "metadata": {},
   "outputs": [
    {
     "name": "stdout",
     "output_type": "stream",
     "text": [
      "4\n",
      "4\n",
      "4\n"
     ]
    }
   ],
   "source": [
    "print(coche_miguel.ruedas)\n",
    "print(coche_javi.ruedas)\n",
    "print(coche_celeste.ruedas)"
   ]
  },
  {
   "cell_type": "code",
   "execution_count": 43,
   "metadata": {},
   "outputs": [
    {
     "name": "stdout",
     "output_type": "stream",
     "text": [
      "BMW\n",
      "Mazda\n",
      "Audi\n"
     ]
    }
   ],
   "source": [
    "print(coche_miguel.marca)\n",
    "print(coche_javi.marca)\n",
    "print(coche_celeste.marca)"
   ]
  },
  {
   "cell_type": "markdown",
   "metadata": {},
   "source": [
    "## 4. Métodos\n",
    "Son funciones que podemos definir dentro de las clases. Estas funciones cambiarán el estado de algún atributo o realizarán calculos que nos sirvan de output. Un ejemplo sencillo puede ser, un método de la clase coche que saque la potencia en kilovatios, en vez de en caballos. O si tiene un estado de mantenimiento (ITV pasada o no), que modifique ese estado.\n",
    "\n",
    "El constructor es un tipo de método. La diferencia con el resto de métodos radica en su nombre, `__init__`. La sintaxis para definir los métodos es como si fuese una función. Y luego para llamar al método se utiliza `objeto.metodo(argumentos_metodo)`. Esto ya lo hemos usado anteriormente, cuando haciamos un `string.lower()`, simplemente llamábamos al método `lower()`, que no requería de argumentos, de la clase *string*."
   ]
  },
  {
   "cell_type": "code",
   "execution_count": 45,
   "metadata": {},
   "outputs": [],
   "source": [
    "class Coche:\n",
    "    ruedas = 4\n",
    "\n",
    "    def __init__(self, marca_coche, num_puertas):\n",
    "        self.marca_coche = marca_coche\n",
    "        self.num_puertas = num_puertas\n",
    "    \n",
    "    def show_caracs(self, var_1):\n",
    "        return \"Marca: \" + self.marca_coche + \". Num Puertas: \" + str(self.num_puertas) + \". Num Ruedas: \" + str(self.ruedas) + '. Var_1 por aquí ' + str(var_1)"
   ]
  },
  {
   "cell_type": "code",
   "execution_count": 46,
   "metadata": {},
   "outputs": [
    {
     "name": "stdout",
     "output_type": "stream",
     "text": [
      "Marca: Audi. Num Puertas: 4. Num Ruedas: 4. Var_1 por aquí 5\n"
     ]
    }
   ],
   "source": [
    "mi_coche = Coche(\"Audi\", 4)\n",
    "print(mi_coche.show_caracs(5))"
   ]
  },
  {
   "cell_type": "code",
   "execution_count": 47,
   "metadata": {},
   "outputs": [
    {
     "name": "stdout",
     "output_type": "stream",
     "text": [
      "Marca: Audi. Num Puertas: 4. Num Ruedas: 4. Var_1 por aquí 2\n"
     ]
    }
   ],
   "source": [
    "otro_coche = Coche(\"Seat\", 16)\n",
    "print(mi_coche.show_caracs(2))"
   ]
  },
  {
   "cell_type": "markdown",
   "metadata": {},
   "source": [
    "Fíjate que para llamar a las ruedas se usa `self`, a pesar de que no lo habíamos metido en el constructor. Así evitamos llamar a otra variable del programa que se llame *ruedas*. Nos aseguramos que son las ruedas de ese coche con el `self`."
   ]
  },
  {
   "cell_type": "markdown",
   "metadata": {},
   "source": [
    "<table align=\"left\">\n",
    " <tr><td width=\"80\"><img src=\"./img/ejercicio.png\" style=\"width:auto;height:auto\"></td>\n",
    "     <td style=\"text-align:left\">\n",
    "         <h3>Ejercicio. Crea nuevos métodos</h3>\n",
    "\n",
    "Crea lo siguiente en la clase coche.\n",
    "<ol>\n",
    "    <li>Introduce dos atributos nuevos en el constructor: Años desde su compra, y precio de compra.</li>\n",
    "    <li>Crea un método nuevo que calcule su precio actual. Si el coche tiene 5 años o menos, su precio será del 50% del precio de compra, en caso de que sean más años, será de un 30%</li>\n",
    "\n",
    "</ol>\n",
    " \n",
    " </td></tr>\n",
    "</table>"
   ]
  },
  {
   "cell_type": "code",
   "execution_count": 53,
   "metadata": {},
   "outputs": [
    {
     "data": {
      "text/plain": [
       "int"
      ]
     },
     "execution_count": 53,
     "metadata": {},
     "output_type": "execute_result"
    }
   ],
   "source": [
    "import datetime\n",
    "\n",
    "datetime.datetime.today().year"
   ]
  },
  {
   "cell_type": "code",
   "execution_count": 95,
   "metadata": {},
   "outputs": [],
   "source": [
    "class Coche:\n",
    "    ruedas = 4\n",
    "\n",
    "    def __init__(self, a_compra, p_compra):\n",
    "        self.a_compra = a_compra\n",
    "        self.años = datetime.datetime.today().year - a_compra\n",
    "        self.precio = p_compra\n",
    "        self.act_precio = False\n",
    "        self.actualizar_precio()\n",
    "\n",
    "    def actualizar_precio(self):\n",
    "        print(\"Precio original\", self.precio)\n",
    "        if not self.act_precio:\n",
    "            if self.años <= 5:\n",
    "                self.precio = self.precio * 0.5\n",
    "            else:\n",
    "                self.precio = self.precio * 0.3\n",
    "            self.act_precio = True\n",
    "        else:\n",
    "            print(\"Precio ya está actualizado\")\n",
    "        print(\"El precio ha sido actualizado a \" + str(self.precio))"
   ]
  },
  {
   "cell_type": "code",
   "execution_count": 102,
   "metadata": {},
   "outputs": [
    {
     "name": "stdout",
     "output_type": "stream",
     "text": [
      "Precio original 30000\n",
      "El precio ha sido actualizado a 15000.0\n"
     ]
    }
   ],
   "source": [
    "mi_coche = Coche(2020, 30000)"
   ]
  },
  {
   "cell_type": "code",
   "execution_count": 103,
   "metadata": {},
   "outputs": [
    {
     "data": {
      "text/plain": [
       "15000.0"
      ]
     },
     "execution_count": 103,
     "metadata": {},
     "output_type": "execute_result"
    }
   ],
   "source": [
    "mi_coche.precio"
   ]
  },
  {
   "cell_type": "code",
   "execution_count": 104,
   "metadata": {},
   "outputs": [
    {
     "data": {
      "text/plain": [
       "4"
      ]
     },
     "execution_count": 104,
     "metadata": {},
     "output_type": "execute_result"
    }
   ],
   "source": [
    "mi_coche.años"
   ]
  },
  {
   "cell_type": "code",
   "execution_count": 105,
   "metadata": {},
   "outputs": [
    {
     "name": "stdout",
     "output_type": "stream",
     "text": [
      "Precio original 15000.0\n",
      "Precio ya está actualizado\n",
      "El precio ha sido actualizado a 15000.0\n",
      "15000.0\n"
     ]
    }
   ],
   "source": [
    "mi_coche.actualizar_precio()\n",
    "print(mi_coche.precio)"
   ]
  },
  {
   "cell_type": "markdown",
   "metadata": {},
   "source": [
    "## 5. Documentación\n",
    "Al igual que con las funciones, en las clases también podemos documentar con el método *built-in* `__doc__`. Es un método de `class`. Por tanto, podremos poner al principio de la clase una documentación con todo lo que hace esta clase. Ocurre lo mismo con los métodos de la clase. Se recomienda dar una breve definición de las funcionalidades de las clases/métodos y describir cómo son las entradas y salidas de los métodos. Qué espera recibir y de qué tipo."
   ]
  },
  {
   "cell_type": "code",
   "execution_count": 65,
   "metadata": {},
   "outputs": [
    {
     "name": "stdout",
     "output_type": "stream",
     "text": [
      "\n",
      "    Clase coche utilizada como ejemplo para la clase\n",
      "    Parameters:\n",
      "        marca_coche: distingue el fabricante del coche\n",
      "        num_puertas: hay coches de 2 y 4 puertas\n",
      "    \n",
      "\n",
      "        Documentacion del init\n",
      "        \n"
     ]
    }
   ],
   "source": [
    "class Coche:\n",
    "    '''\n",
    "    Clase coche utilizada como ejemplo para la clase\n",
    "    Parameters:\n",
    "        marca_coche: distingue el fabricante del coche\n",
    "        num_puertas: hay coches de 2 y 4 puertas\n",
    "    '''\n",
    "    ruedas = 4\n",
    "    \n",
    "    def __init__(self, marca_coche, num_puertas):\n",
    "        '''\n",
    "        Documentacion del init\n",
    "        '''\n",
    "        self.marca_coche = marca_coche\n",
    "        self.num_puertas = num_puertas\n",
    "\n",
    "print(Coche.__doc__)\n",
    "print(Coche.__init__.__doc__)"
   ]
  },
  {
   "cell_type": "markdown",
   "metadata": {},
   "source": [
    "## 6. Resumen"
   ]
  },
  {
   "cell_type": "code",
   "execution_count": 98,
   "metadata": {},
   "outputs": [
    {
     "name": "stdout",
     "output_type": "stream",
     "text": [
      "4\n",
      "Audi\n",
      "2\n",
      "Marca: Audi. Num Puertas: 2. Num Ruedas: 4\n"
     ]
    }
   ],
   "source": [
    "# Las clases se declaran con la siguiente sintaxis\n",
    "class Coche:\n",
    "    # Estos son los atributos comunes a los objetos de esta clase\n",
    "    ruedas = 4\n",
    "    puertas = 4\n",
    "    # Constructor de la clase\n",
    "    def __init__(self, marca_coche, num_puertas):\n",
    "        # Atributos particulares de cada instancia\n",
    "        self.marca_coche = marca_coche\n",
    "        self.num_puertas = num_puertas\n",
    "    \n",
    "    # Metodo propio de esta clase\n",
    "    def caracteristicas(self):\n",
    "        return \"Marca: \" + self.marca_coche + \". Num Puertas: \" + str(self.num_puertas) + \". Num Ruedas: \" + str(self.ruedas)\n",
    "    \n",
    "    def show_ruedas(self):\n",
    "        return self.ruedas\n",
    "\n",
    "audi = Coche(\"Audi\", 2)\n",
    "print(audi.ruedas)\n",
    "print(audi.marca_coche)\n",
    "print(audi.num_puertas)\n",
    "print(audi.caracteristicas())"
   ]
  },
  {
   "cell_type": "markdown",
   "metadata": {},
   "source": [
    "## Extra Herencias"
   ]
  },
  {
   "cell_type": "code",
   "execution_count": 124,
   "metadata": {},
   "outputs": [],
   "source": [
    "class Coche:\n",
    "    ruedas = 4\n",
    "    puertas = 4\n",
    "    def __init__(self, marca):\n",
    "        self.marca = marca\n",
    "\n",
    "    def show_ruedas(self):\n",
    "        print(self.ruedas)"
   ]
  },
  {
   "cell_type": "code",
   "execution_count": 125,
   "metadata": {},
   "outputs": [],
   "source": [
    "class CocheVolador(Coche):\n",
    "    ruedas = 6\n",
    "\n",
    "    def __init__(self, volando=False):\n",
    "        self.volando = volando\n",
    "\n",
    "    def vuela(self):\n",
    "        self.volando = True\n",
    "        \n",
    "    def aterriza(self):\n",
    "        self.volando = False"
   ]
  },
  {
   "cell_type": "code",
   "execution_count": 132,
   "metadata": {},
   "outputs": [
    {
     "name": "stdout",
     "output_type": "stream",
     "text": [
      "6\n",
      "None\n",
      "6\n",
      "4\n"
     ]
    },
    {
     "ename": "AttributeError",
     "evalue": "'CocheVolador' object has no attribute 'marca'",
     "output_type": "error",
     "traceback": [
      "\u001b[1;31m---------------------------------------------------------------------------\u001b[0m",
      "\u001b[1;31mAttributeError\u001b[0m                            Traceback (most recent call last)",
      "Cell \u001b[1;32mIn[132], line 6\u001b[0m\n\u001b[0;32m      4\u001b[0m \u001b[38;5;28mprint\u001b[39m(mi_coche_volador\u001b[38;5;241m.\u001b[39mruedas)\n\u001b[0;32m      5\u001b[0m \u001b[38;5;28mprint\u001b[39m(mi_coche_volador\u001b[38;5;241m.\u001b[39mpuertas)\n\u001b[1;32m----> 6\u001b[0m \u001b[38;5;28mprint\u001b[39m(\u001b[43mmi_coche_volador\u001b[49m\u001b[38;5;241;43m.\u001b[39;49m\u001b[43mmarca\u001b[49m)\n",
      "\u001b[1;31mAttributeError\u001b[0m: 'CocheVolador' object has no attribute 'marca'"
     ]
    }
   ],
   "source": [
    "mi_coche_volador = CocheVolador()\n",
    "print(mi_coche_volador.show_ruedas())\n",
    "\n",
    "print(mi_coche_volador.ruedas)\n",
    "print(mi_coche_volador.puertas)\n",
    "print(mi_coche_volador.marca)\n"
   ]
  },
  {
   "cell_type": "code",
   "execution_count": 133,
   "metadata": {},
   "outputs": [
    {
     "name": "stdout",
     "output_type": "stream",
     "text": [
      "False\n",
      "True\n",
      "False\n"
     ]
    }
   ],
   "source": [
    "print(mi_coche_volador.volando)\n",
    "mi_coche_volador.vuela()\n",
    "print(mi_coche_volador.volando)\n",
    "mi_coche_volador.aterriza()\n",
    "print(mi_coche_volador.volando)"
   ]
  },
  {
   "cell_type": "code",
   "execution_count": 134,
   "metadata": {},
   "outputs": [
    {
     "ename": "AttributeError",
     "evalue": "'Coche' object has no attribute 'vuela'",
     "output_type": "error",
     "traceback": [
      "\u001b[1;31m---------------------------------------------------------------------------\u001b[0m",
      "\u001b[1;31mAttributeError\u001b[0m                            Traceback (most recent call last)",
      "Cell \u001b[1;32mIn[134], line 2\u001b[0m\n\u001b[0;32m      1\u001b[0m mi_coche \u001b[38;5;241m=\u001b[39m Coche(\u001b[38;5;124m\"\u001b[39m\u001b[38;5;124mDacia\u001b[39m\u001b[38;5;124m\"\u001b[39m)\n\u001b[1;32m----> 2\u001b[0m \u001b[38;5;28mprint\u001b[39m(\u001b[43mmi_coche\u001b[49m\u001b[38;5;241;43m.\u001b[39;49m\u001b[43mvuela\u001b[49m)\n",
      "\u001b[1;31mAttributeError\u001b[0m: 'Coche' object has no attribute 'vuela'"
     ]
    }
   ],
   "source": [
    "mi_coche = Coche(\"Dacia\")\n",
    "print(mi_coche.vuela)"
   ]
  },
  {
   "cell_type": "code",
   "execution_count": null,
   "metadata": {},
   "outputs": [],
   "source": []
  }
 ],
 "metadata": {
  "kernelspec": {
   "display_name": "Python 3.7.4 64-bit",
   "language": "python",
   "name": "python3"
  },
  "language_info": {
   "codemirror_mode": {
    "name": "ipython",
    "version": 3
   },
   "file_extension": ".py",
   "mimetype": "text/x-python",
   "name": "python",
   "nbconvert_exporter": "python",
   "pygments_lexer": "ipython3",
   "version": "3.11.3"
  },
  "vscode": {
   "interpreter": {
    "hash": "90139cb9a825bf3d63f6f6704e828dbd1ff7edbd4d0c6e906a71235d6efc74af"
   }
  }
 },
 "nbformat": 4,
 "nbformat_minor": 4
}
