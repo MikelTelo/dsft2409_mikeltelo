{
 "cells": [
  {
   "cell_type": "markdown",
   "metadata": {},
   "source": [
    "# Git & GitHub"
   ]
  },
  {
   "cell_type": "markdown",
   "metadata": {},
   "source": [
    "![](images/git-fire.png)"
   ]
  },
  {
   "cell_type": "markdown",
   "metadata": {},
   "source": [
    "### Índice\n",
    "<a id=\"#indice\"></a>\n",
    "\n",
    "1. Definición Git y diferencia con Github\n",
    "<a id=\"definicion\"></a>\n",
    "2. Áreas de trabajo de Git\n",
    "<a id=\"areas\"></a>\n",
    "3. Composición de un proyecto\n",
    "<a id=\"compo\"></a>\n",
    "4. Git commands\n",
    "<a id=\"commands\"></a>"
   ]
  },
  {
   "cell_type": "markdown",
   "metadata": {},
   "source": [
    "---"
   ]
  },
  {
   "cell_type": "markdown",
   "metadata": {},
   "source": [
    "## Definición Git y diferencia con GitHub"
   ]
  },
  {
   "cell_type": "markdown",
   "metadata": {},
   "source": [
    "**Git** es un sistema de control de versiones, nos ayuda a revisar todos los cambios que se han hecho en un proyecto y nos permite volver a antes de un error y arreglarlo. Es muy útil para trabajos en equipo de desarrollo y es la plataforma más utilizada en el sector, aunque existen otras. En cuanto a **GitHub**, hace referencia al repositorio que se encuentra en remoto. Conectamos *git* con *github* para alojar los repositorios en Internet.\n",
    "\n",
    "\n",
    "Es un servicio **descentralizado**, es decir, cada uno de los usuarios puede tener una copia del repositorio en sus ordenadores. Si fuera centralizado, en el caso de que cayera el repositorio central o fallara, caerían todos. En cambio de esta forma, cada uno tiene su propia versión. "
   ]
  },
  {
   "cell_type": "markdown",
   "metadata": {},
   "source": [
    "Esto a veces causa determinados *encontronazos* entre máquinas. Puede pasar que en un equipo de personas haya varias personas que tengan diferentes **OS**, a la hora de trabajar texto y hacer saltos de línea existen algunos conflictos.\n",
    "Ese salto de línea implica un carácter, aunque no se vea. Windows y Mac/Linux lo trabajan de forma diferente:\n",
    "\n",
    "Para hacer ese salto de línea Mac/Linux emplean un caracter conocido como *line feed* (LF), mientras que Windows emplea tanto line feed como *carriage return* (CR). Esto supone 1 byte más por cada salto de línea y requiere de un procesamiento. Tenemos que revisarlo en la configuración de git (más adelante)"
   ]
  },
  {
   "cell_type": "markdown",
   "metadata": {},
   "source": [
    "![](images/git-vs-github.png)"
   ]
  },
  {
   "cell_type": "markdown",
   "metadata": {},
   "source": [
    "---"
   ]
  },
  {
   "cell_type": "markdown",
   "metadata": {},
   "source": [
    "## Áreas de trabajo de Git"
   ]
  },
  {
   "cell_type": "markdown",
   "metadata": {},
   "source": [
    "### **LOCAL**"
   ]
  },
  {
   "cell_type": "markdown",
   "metadata": {},
   "source": [
    "Git Init – inicializa repositorioWEF wefWEFwegfWEF\n",
    "\n",
    "Git Add – esos archivos que yo especifico tienen un seguimiento dentro del repositorio\n",
    "\n",
    "Staging Area – Donde quedan todos los archivos, previo al commit\n",
    "\n",
    "Commit – “screenshots” del cambio, no se guardan, pero se van notificando. Siempre acompañados de un comentario (nunca cambio1, cambio2, cambio3, sino una muy breve descripción de lo que está pasando). Nos pide un comentario dp de hacer git commit, rellenaremos el comentario y luego ESCAPE + “:wq” para guardar y salir (También podemos hacer directamente git commit -m “comentario” + enter)\n",
    "\n",
    "Pasa al repo y entonces hacemos el Push – para alojarlo en la web, en el remoto. "
   ]
  },
  {
   "cell_type": "markdown",
   "metadata": {},
   "source": [
    "### **REMOTE**"
   ]
  },
  {
   "cell_type": "markdown",
   "metadata": {},
   "source": [
    "Dentro del repositorio podemos crear repositorios, crear ramas (bifurcar el proyecto, agregar funcionalidades nuevas), invitación de colaboradores (para proyectos conjuntos, es lo más útil, porque suele trabajarse entre varios desarrolladores). Pull request es una solicitud a unos cambios que se han hecho en mi ordenador y se quiere subir al remoto, pero tiene que ser revisado previamente para que no haya conflicto y después confirmado.\n",
    "Git simplifica mucho el hecho de hacer “rollback”, volver a la versión anterior. "
   ]
  },
  {
   "cell_type": "markdown",
   "metadata": {},
   "source": [
    "![](images/git-local-remote.png)"
   ]
  },
  {
   "cell_type": "markdown",
   "metadata": {},
   "source": [
    "---"
   ]
  },
  {
   "cell_type": "markdown",
   "metadata": {},
   "source": [
    "## Composición de un proyecto"
   ]
  },
  {
   "cell_type": "markdown",
   "metadata": {},
   "source": [
    "La rama principal o maestro será la **MAIN**. Las ramas tienen una relación *padre-hijo*, es decir, las ramas que salen a partir de la main heredarán lo que tenga la padre.\n",
    "\n",
    "Si tenemos un ejecutable en la main, y creamos rama tarea 1, la rama hijo también la tendrá. \n",
    "\n",
    "Las ramas del proyecto se suelen dividir de la siguiente manera: \n",
    "\n",
    "1.- Main: se define como la rama principal de la plataforma, siendo aquella donde la totalidad de los cambios realizados en las demás ramas se fusionan finalmente. Esta rama es la predeterminada en el sistema de Git.\n",
    "\n",
    "2.- Ramas secundarias\n",
    "\n",
    "    2.1.- **Develop**: concentran la parte de desarrollo y va justo bajo el main. \n",
    "\n",
    "    2.2.- **Epic**: suelen desprenderse de develop y son tareas del proyecto o hitos. \n",
    "    \n",
    "        2.2.1.- **Ticket**: de estas epic, salen subtareas del proyecto."
   ]
  },
  {
   "cell_type": "markdown",
   "metadata": {},
   "source": [
    "![](./images/ci_cd_diagram.png)"
   ]
  },
  {
   "cell_type": "markdown",
   "metadata": {},
   "source": [
    "## Git commands"
   ]
  },
  {
   "cell_type": "markdown",
   "metadata": {},
   "source": [
    "#### **CONFIGURACIÓN BÁSICA**\n",
    "\n",
    "· Configurar Nombre que salen en los commits\n",
    "```ssh\n",
    "\tgit config --global user.name \"dasdo\"\n",
    "```\n",
    "· Configurar Email\n",
    "```ssh\t\n",
    "\tgit config --global user.email dasdo1@gmail.com\n",
    "```\n",
    "· Marco de colores para los comando\n",
    "```ssh\n",
    "\tgit config --global color.ui true\n",
    "```"
   ]
  },
  {
   "cell_type": "markdown",
   "metadata": {},
   "source": [
    "#### **INICIANDO REPOSITORIO**\n",
    "\n",
    "· Iniciamos GIT en la carpeta donde esta el proyecto\n",
    "```ssh\n",
    "\tgit init\n",
    "```\n",
    "· Clonamos el repositorio de github o bitbucket\n",
    "```ssh\n",
    "\tgit clone <url>\n",
    "```\n",
    "· Añadimos todos los archivos para el commit\n",
    "```ssh\n",
    "\tgit add .\n",
    "```\n",
    "· Hacemos el primer commit\n",
    "```ssh\n",
    "\tgit commit -m \"Texto que identifique por que se hizo el commit\"\n",
    "```\n",
    "· Subimos al repositorio\n",
    "```ssh\n",
    "\tgit push origin master\n",
    "```\n"
   ]
  },
  {
   "cell_type": "markdown",
   "metadata": {},
   "source": [
    "#### **GIT CLONE**\n",
    "\n",
    "\n",
    "· Clonamos el repositorio de github o bitbucket\n",
    "```ssh\n",
    "\tgit clone <url>\n",
    "```\n",
    "· Clonamos el repositorio de github o bitbucket ?????\n",
    "```ssh\n",
    "\tgit clone <url> git-demo\n",
    "```"
   ]
  },
  {
   "cell_type": "markdown",
   "metadata": {},
   "source": [
    "#### **GIT ADD**\n",
    "\n",
    "\n",
    "· Añadimos todos los archivos para el commit\n",
    "```ssh\n",
    "\tgit add .\n",
    "```\n",
    "· Añadimos el archivo para el commit\n",
    "```ssh\n",
    "\tgit add <archivo>\n",
    "```\n",
    "· Añadimos todos los archivos para el commit omitiendo los nuevos\n",
    "```ssh\n",
    "\tgit add --all \n",
    "```\n",
    "· Añadimos todos los archivos con la extensión especificada\n",
    "```ssh\n",
    "\tgit add *.txt\n",
    "```\n",
    "· Añadimos todos los archivos dentro de un directorio y de una extensión especifica\n",
    "```ssh\n",
    "\tgit add docs/*.txt\n",
    "```\n",
    "· Añadimos todos los archivos dentro de un directorios\n",
    "```ssh\n",
    "\tgit add docs/\n",
    "```"
   ]
  },
  {
   "cell_type": "markdown",
   "metadata": {},
   "source": [
    "#### **GIT COMMIT**\n",
    "\n",
    "· Cargar en el HEAD los cambios realizados\n",
    "```ssh\n",
    "\tgit commit -m \"Texto que identifique por que se hizo el commit\"\n",
    "```\n",
    "· Agregar y Cargar en el HEAD los cambios realizados\n",
    "```ssh\n",
    "\tgit commit -a -m \"Texto que identifique por que se hizo el commit\"\n",
    "```\n",
    "· De haber conflictos los muestra\n",
    "```ssh\n",
    "\tgit commit -a \n",
    "```\n",
    "· Agregar al ultimo commit, este no se muestra como un nuevo commit en los logs. Se puede especificar un nuevo mensaje\n",
    "```ssh\n",
    "\tgit commit --amend -m \"Texto que identifique por que se hizo el commit\"\n",
    "```"
   ]
  },
  {
   "cell_type": "markdown",
   "metadata": {},
   "source": [
    "#### **GIT PUSH**\n",
    "\n",
    "· Subimos al repositorio\n",
    "```ssh\n",
    "\tgit push <origin> <branch>\n",
    "```\n",
    "· Subimos un tag\n",
    "```ssh\n",
    "\tgit push --tags\n",
    "```"
   ]
  },
  {
   "cell_type": "markdown",
   "metadata": {},
   "source": [
    "#### **GIT LOG**\n",
    "\n",
    "· Muestra los *logs* de los commits (historial)\n",
    "```ssh\n",
    "\tgit log\n",
    "```\n",
    "· Muestras los cambios en los commits\n",
    "```ssh\n",
    "\tgit log --oneline --stat\n",
    "```\n",
    "·Muestra graficos de los commits\n",
    "```ssh\n",
    "\tgit log --oneline --graph\n",
    "```"
   ]
  },
  {
   "cell_type": "markdown",
   "metadata": {},
   "source": [
    "#### **GIT DIFF**\n",
    "\n",
    "· Muestra los cambios realizados a un archivo\n",
    "```ssh\n",
    "\tgit diff\n",
    "\tgit diff --staged\n",
    "```"
   ]
  },
  {
   "cell_type": "markdown",
   "metadata": {},
   "source": [
    "#### **GIT HEAD**\n",
    "\n",
    "· Saca un archivo del commit\n",
    "```ssh\n",
    "\tgit reset HEAD <archivo>\n",
    "```\n",
    "· Devuelve el ultimo commit que se hizo y pone los cambios en staging\n",
    "```ssh\n",
    "\tgit reset --soft HEAD^\n",
    "```\n",
    "· Devuelve el ultimo commit y todos los cambios\n",
    "```ssh\n",
    "\tgit reset --hard HEAD^\n",
    "```\n",
    "· Devuelve los 2 ultimo commit y todos los cambios\n",
    "```ssh\n",
    "\tgit reset --hard HEAD^^\n",
    "```\n",
    "· Rollback merge/commit\n",
    "```ssh\n",
    "\tgit log\n",
    "\tgit reset --hard <commit_sha>\n",
    "```"
   ]
  },
  {
   "cell_type": "markdown",
   "metadata": {},
   "source": [
    "#### **GIT REMOTE**\n",
    "\n",
    "· Agregar repositorio remoto\n",
    "```ssh\n",
    "\tgit remote add origin <url>\n",
    "```\n",
    "· Cambiar de remote\n",
    "```ssh\n",
    "\tgit remote set-url origin <url>\n",
    "```\n",
    "· Remover repositorio\n",
    "```ssh\n",
    "\tgit remote rm <name/origin>\n",
    "```\n",
    "· Muestra lista repositorios\n",
    "```ssh\n",
    "\tgit remote -v\n",
    "```\n",
    "· Muestra los branches remotos\n",
    "```ssh\t\n",
    "\tgit remote show origin\n",
    "```\n",
    "· Limpiar todos los branches eliminados\n",
    "```ssh\n",
    "\tgit remote prune origin \n",
    "```"
   ]
  },
  {
   "cell_type": "markdown",
   "metadata": {},
   "source": [
    "#### **GIT BRANCH**\n",
    "\n",
    "· Crea un branch\n",
    "```ssh\n",
    "\tgit branch <nameBranch>\n",
    "```\n",
    "· Lista los branches\n",
    "```ssh\n",
    "\tgit branch\n",
    "```\n",
    "· Comando -d elimina el branch y lo une al master\n",
    "```ssh\n",
    "\tgit branch -d <nameBranch>\n",
    "```\n",
    "· Elimina sin preguntar\n",
    "```ssh\n",
    "\tgit branch -D <nameBranch>\n",
    "```"
   ]
  },
  {
   "cell_type": "markdown",
   "metadata": {},
   "source": [
    "#### **GIT TAG**\n",
    "\n",
    "· Muestra una lista de todos los tags\n",
    "```ssh\n",
    "\tgit tag\n",
    "```\n",
    "· Crea un nuevo tags\n",
    "```ssh\n",
    "\tgit tag -a <verison> - m \"esta es la versión x\"\n",
    "```"
   ]
  },
  {
   "cell_type": "markdown",
   "metadata": {},
   "source": [
    "#### **GIT REBASE**\n",
    "\n",
    "Los rebase se usan cuando trabajamos con branches. Esto hace que los branches se pongan al día con el master sin afectar al mismo\n",
    "\n",
    "· Une el branch actual con el mastar, esto no se puede ver como un merge\n",
    "```ssh\n",
    "\tgit rebase\n",
    "```\n",
    "--- Cuando se produce un conflicto nos da las siguientes opciones: ---\n",
    "\n",
    "· uando resolvemos los conflictos --continue continua la secuencia del rebase donde se pauso\n",
    "```ssh\t\n",
    "\tgit rebase --continue \n",
    "```\n",
    "· Omite el conflicto y sigue su camino\n",
    "```ssh\n",
    "\tgit rebase --skip\n",
    "```\n",
    "· Devuelve todo al principio del rebase\n",
    "```ssh\n",
    "\tgit reabse --abort\n",
    "```\n",
    "· Para hacer un rebase a un branch en especifico\n",
    "```ssh\t\n",
    "\tgit rebase <nameBranch>\n",
    "```"
   ]
  },
  {
   "cell_type": "markdown",
   "metadata": {},
   "source": [
    "#### **OTROS COMANDOS**\n",
    "\n",
    "· Lista un estado actual del repositorio con lista de archivos modificados o agregados\n",
    "```ssh\n",
    "\tgit status\n",
    "```\n",
    "· Quita del HEAD un archivo y le pone el estado de no trabajado\n",
    "```ssh\n",
    "\tgit checkout -- <file>\n",
    "```\n",
    "· Crea un branch en base a uno online\n",
    "```ssh\n",
    "\tgit checkout -b newlocalbranchname origin/branch-name\n",
    "```\n",
    "· Busca los cambios nuevos y actualiza el repositorio\n",
    "```ssh\n",
    "\tgit pull origin <nameBranch>\n",
    "```\n",
    "· Cambiar de branch\n",
    "```ssh\n",
    "\tgit checkout <nameBranch/tagname>\n",
    "```\n",
    "· Une el branch actual con el especificado\n",
    "```ssh\n",
    "\tgit merge <nameBranch>\n",
    "```\n",
    "· Verifica cambios en el repositorio online con el local\n",
    "```ssh\n",
    "\tgit fetch\n",
    "```\n",
    "· Borrar un archivo del repositorio\n",
    "```ssh\n",
    "\tgit rm <archivo> \n",
    "```\n",
    "\n",
    "#### **FORK**\n",
    "\n",
    "· Descargar remote de un fork\n",
    "```\n",
    "\tgit remote add upstream <url>\n",
    "```\n",
    "\n",
    "· Merge con master de un fork\n",
    "```\n",
    "\tgit fetch upstream\n",
    "\tgit merge upstream/master\n",
    "```\n"
   ]
  }
 ],
 "metadata": {
  "language_info": {
   "name": "python"
  }
 },
 "nbformat": 4,
 "nbformat_minor": 2
}
