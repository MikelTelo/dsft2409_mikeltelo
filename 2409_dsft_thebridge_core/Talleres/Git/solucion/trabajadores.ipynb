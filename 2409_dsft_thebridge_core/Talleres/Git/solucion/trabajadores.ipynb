{
 "cells": [
  {
   "cell_type": "markdown",
   "metadata": {},
   "source": [
    "# Developer 1 y 3\n",
    "### Nombre: \n",
    "### mail: \n",
    "\n",
    "# Developer 2\n",
    "### Nombre: \n",
    "### mail: \n",
    "\n",
    "# Developer 3\n",
    "### Nombre: \n",
    "### mail: "
   ]
  }
 ],
 "metadata": {
  "language_info": {
   "name": "python"
  },
  "orig_nbformat": 4
 },
 "nbformat": 4,
 "nbformat_minor": 2
}
