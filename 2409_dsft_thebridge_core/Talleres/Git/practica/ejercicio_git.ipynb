{
 "cells": [
  {
   "attachments": {},
   "cell_type": "markdown",
   "metadata": {},
   "source": [
    "### Ejercicio práctico"
   ]
  },
  {
   "attachments": {},
   "cell_type": "markdown",
   "metadata": {},
   "source": [
    "#### En este ejercicio, realizaremos una serie de tareas que nos ayudarán a afianzar lo explicado en el taller.\n",
    "\n",
    "Para ello, formaremos 3 grupos que se distribuyen entre cada uno de los miembros del equipo simulado: Developer_1, Developer_2, Developer_3. Cada uno de estos miembros será elegido por consenso del grupo y tendrá un papel determinado.\n",
    "\n",
    "Deberéis seguir los pasos indicados uno por uno sin saltaros nada para que el resultado sea un proyecto funcional.\n",
    "\n",
    "No se pedirá desarrollo de código, se os proporcionará una parte a cada uno para realizar las tareas.\n",
    "\n",
    "NOTA: Recuerda añadir cada cambio que hagas en cada rama, para añadir los cambios de los archivos debes usar git add y git commit. Ejemplo, cuando te dicen que añadas un trozo de código en una rama, luego de añadirlo harás \"git add .\" (añadir al staging area) y despues \"git commit -m <\"comentario\">\" (hacer el commit), dentro de la rama que hiciste el cambio, para luego poder hacer el merge desde la rama destino."
   ]
  },
  {
   "attachments": {},
   "cell_type": "markdown",
   "metadata": {},
   "source": [
    "## Developer_1\n",
    "\n",
    "- **INSTRUCCIONES**\n",
    "    1. Crea un repositorio vacío en **Github**\n",
    "    2. Da permisos de push a Trabajador 2 y trabajador 3 en **Github**\n",
    "    3. Crea desde **git bash (o Visual Studio Code)** la `develop-branch` que será la rama que reciba los cambios que se produzcan en las epic branches de los tres trabajadores\n",
    "    4. **NO OLVIDES HACER `git push origin develop-branch`** \n",
    "    5. Comprueba que en **Github** están ambas ramas [main, develop-branch]\n",
    "    6. **AHORA TRABAJADOR 2 Y 3 PUEDEN EMPEZAR A TRABAJAR, NO ANTES**\n",
    "    7. Crea la `epic-branch-1`\n",
    "        1. En ella te encargarás de desarrollar `[api.py](http://api.py)` \n",
    "        2. Para ello (**Partiendo de `epic-branch-1`** ) deberás crear una rama ticket por cada uno de los trozos de código que añadas a `[api.py](http://api.py)` \n",
    "            1. Crea la rama `branch-ticket-1` para añadir el **Trozo de código 1**. Cuando lo tengas, fusiona con la `epic-branch-1` \n",
    "            2. Crea la rama `branch-ticket-2` para añadir **Trozo de código 2**. Cuando lo tengas, fusiona con la `epic-branch-1`. **LA PARTE DE** `if __name__ == '__main__'` **** **va al final del archivo!**\n",
    "            3. Crea la rama `branch-ticket-3` a partir de `epic-branch-1`. Después, crea dos sub-branches dentro de `branch-ticket-3` , la `branch-ticket-3-1` y la `branch-ticket-3-2`. Inserta en cada una de ellas el trozo de código 3 y el 4, respectivamente. Fusiona primero `branch-ticket-3` con `branch-ticket-3-1`. Luego `branch-ticket-3` con `branch-ticket-3-2`. Al hacerlo, te dará un conflicto, dándote la opción de quedarte con el código que tienes actualmente en `branch-ticket-3`, `branch-ticket-3-2` o una mezcla de ambas. Compara ambos códigos y elige la opción que consideres correcta.\n",
    "            4. Vuelve a `epic-branch-1`. Inserta este código, añade y commit. Fusiona con `branch-ticket-3\n",
    "            5. Resuelve el conflicto, quédate con el trozo de código de la rama `branch-ticket-3`\n",
    "            6. Asegúrate de que has fusionado todas tus branches ticket con la `epic-branch-1` y que tu archivo `[api.py](http://api.py)` es idéntico al del repo original. Si no es así, haz una rama ticket para cada cosa que añadas.\n",
    "            7. Es el momento en el que debes mandar tu trabajo al repositorio. usa `git push origin epic-branch-1` para esto."
   ]
  },
  {
   "attachments": {},
   "cell_type": "markdown",
   "metadata": {},
   "source": [
    "> **LLEGADO A ESTE PUNTO, ES IMPORTANTE QUE TODOS LOS MIEMBROS DEL EQUIPO ESTÉIS MÁS O MENOS EN EL MISMO PUNTO, SI NO ES ASÍ, ES TAMBIÉN TU RESPONSABILIDAD QUE ESO SEA ASÍ. ÉCHALES UNA MANO!!!**\n",
    ">"
   ]
  },
  {
   "attachments": {},
   "cell_type": "markdown",
   "metadata": {},
   "source": [
    "- Eres **LA PRIMERA PERSONA** en hacer la **PULL REQUEST** a `develop-branch` desde tu rama `epic-branch-1` en Github (**TE ACEPTA TRABAJADOR 2**).\n",
    "- Espera a que Trabajador 2 y 3 acaben de hacer sus **PR** y los tres archivos estén en la `develop-branch` (si les echas una mano, iréis más rápido).\n",
    "- Además, cuando ya estén todas las **PR** hechas y aceptadas, Trabajador 3 (que antes habrá hecho un `git pull origin develop-branch` tiene la misión de añadir todas las carpetas y darle una misma estructura a la rama `develop-branch` que tiene el repo original. Para esto deberá crear la rama `epic-branch-4` . Cuando haya realizado los cambios, deberá hacer una **PULL REQUEST** a `develop-branch` que tú deberás revisar y aceptar."
   ]
  },
  {
   "attachments": {},
   "cell_type": "markdown",
   "metadata": {},
   "source": [
    "CÓDIGO: (!pip install para las librerías)"
   ]
  },
  {
   "attachments": {},
   "cell_type": "markdown",
   "metadata": {},
   "source": [
    "Trozo de código 1"
   ]
  },
  {
   "cell_type": "code",
   "execution_count": null,
   "metadata": {
    "vscode": {
     "languageId": "plaintext"
    }
   },
   "outputs": [],
   "source": [
    "from flask import Flask, render_template\n",
    "from src import covid_dash, hospitals_tb"
   ]
  },
  {
   "attachments": {},
   "cell_type": "markdown",
   "metadata": {},
   "source": [
    "Trozo de código 2"
   ]
  },
  {
   "cell_type": "code",
   "execution_count": null,
   "metadata": {
    "vscode": {
     "languageId": "plaintext"
    }
   },
   "outputs": [],
   "source": [
    "app = Flask(__name__)\n",
    "@app.route(\"/\")\n",
    "def landing_page():\n",
    "return render_template('index.html')\n",
    "if __name__ == '__main__':\n",
    "app.run(host='0.0.0.0',port=1991, debug=True)"
   ]
  },
  {
   "attachments": {},
   "cell_type": "markdown",
   "metadata": {},
   "source": [
    "Trozo de código 3"
   ]
  },
  {
   "cell_type": "code",
   "execution_count": null,
   "metadata": {
    "vscode": {
     "languageId": "plaintext"
    }
   },
   "outputs": [],
   "source": [
    "@app.route(\"/dashboard\")\n",
    "def dashboard():\n",
    "return render_template('dashboard.html')\n",
    "@app.route(\"/map\")\n",
    "def map():\n",
    "return render_template('map.html')"
   ]
  },
  {
   "attachments": {},
   "cell_type": "markdown",
   "metadata": {},
   "source": [
    "Trozo de código 4"
   ]
  },
  {
   "cell_type": "code",
   "execution_count": null,
   "metadata": {
    "vscode": {
     "languageId": "plaintext"
    }
   },
   "outputs": [],
   "source": [
    "@app.route(\"/dashboard\")\n",
    "def dashboard():\n",
    "return render_template('ÑAÑAAÑÑAÑAÑAÑAÑÑA.html')\n",
    "@app.route(\"/map\")\n",
    "def map():\n",
    "return render_template('map.html')"
   ]
  },
  {
   "attachments": {},
   "cell_type": "markdown",
   "metadata": {},
   "source": [
    "## Developer_2\n",
    "\n",
    "- **INSTRUCCIONES**\n",
    "    1. Clona el repositorio Creado por trabajador 1 en local.\n",
    "    2. Al clonarte el repositorio, solo habrás traído la rama `main` , sin embargo, necesitarás la rama `develop-branch` para continuar trabajando. \n",
    "    3. Antes de continuar, asegúrate de que Trabajador 1 ha creado la rama develop y la ha pusheado a Github, Entonces sigue los siguientes pasos [https://stackoverflow.com/questions/67699/how-to-clone-all-remote-branches-in-git](https://stackoverflow.com/questions/67699/how-to-clone-all-remote-branches-in-git) \n",
    "    4. Crea la `epic-branch-2` desde `develop-branch` . En esta, te encargarás de desarrollar `hospitals_tb.py` \n",
    "        1. Para esto deberás crear, partiendo de `epic-branch-2` una rama ticket por cada uno de los trozos de código que añadas a `hospitals_tb.py` \n",
    "        2. Crea la rama `branch-ticket-1` para añadir **Trozo de código 1**. Cuando lo tengas, fusiona con la `epic-branch-2.` \n",
    "        3. Crea la rama `branch-ticket-2` para añadir **Trozo de código 2.** Cuando lo tengas, fusiona con la `epic-branch-2`\n",
    "        4. Crea la rama `branch-ticket-3` a partir de `epic-branch-2` . Después, crea dos sub-branches dentro de `branch-ticket-3` , la `branch-ticket-3-1` y la `branch-ticket-3-2`. Inserta en cada una de ellas el trozo de código 3 y el 4, respectivamente. Fusiona primero `branch-ticket-3` con `branch-ticket-3-1`. Luego `branch-ticket-3` con `branch-ticket-3-2`. Al hacerlo, te dará un conflicto, dándote la opción de quedarte con el código que tienes actualmente en `branch-ticket-3`, `branch-ticket-3-2` o una mezcla de ambas. Compara ambos códigos y elige la opción que consideres correcta.\n",
    "        5. Vuelve a `epic-branch-2` . Inserta este código, añade y commit. Fusiona con `branch-ticket-3` \n",
    "    5. Resuelve el conflicto, quédate con el trozo de código de la rama `branch-ticket-3` .\n",
    "    6. Asegúrate de que has fusionado todas tus branches con `epic-branch-2` y que tu archivo `hospitals_tb.py` es idéntico al del repo original. Si no es así, haz una rama ticket para cada cosa que añadas. \n",
    "    7. **ES EL MOMENTO:** manda tu trabajo al repositorio utilizando `git push origin epic-branch-2` para esto."
   ]
  },
  {
   "attachments": {},
   "cell_type": "markdown",
   "metadata": {},
   "source": [
    "LLEGADO A ESTE PUNTO, ES IMPORTANTE QUE TODOS LOS MIEMBROS DEL EQUIPO ESTÉIS MÁS O MENOS EN EL MISMO PUNTO, SI NO ES ASÍ, ES TAMBIÉN TU RESPONSABILIDAD QUE ESO SEA ASÍ. ÉCHALES UNA MANO!!!"
   ]
  },
  {
   "attachments": {},
   "cell_type": "markdown",
   "metadata": {},
   "source": [
    "- Acepta la **PR** que va a hacer Trabajador 1 a la `develop-branch` .\n",
    "- Ahora es tu turno de hacer una Pull request a `develop-branch` desde `epic-branch-2` . En este caso, te acepta los cambios Trabajador 3, pero la primera vez te la va a rechazar y te pedirá que abras otra rama ticket a tu `epic-branch-2`  y añadas un markdown con los nombres, apellidos y emails de los tres Trabajadores. Vuelve a fusionar con `epic-branch-2` y vuelve a abrir la **PR**. En este caso, **TRABAJADOR 3 DEBERÁ ACEPTARLA.**\n",
    "- Antes de probar si tu programa funciona. Trabajador 3 tiene la misión de añadir todas las carpetas y darle la misma estructura a la rama `develop-branch` que tiene el repo original. Para esto deberá crear la rama `epic-branch-4` . Cuando haya realizado los cambios, deberá hacer una **PULL REQUEST a `develop-branch`** que **Trabajador 1** deberá revisar y aceptar."
   ]
  },
  {
   "attachments": {},
   "cell_type": "markdown",
   "metadata": {},
   "source": [
    "¡¡Ya habéis terminado!! Ahora puedes hacer git pull desde develop-branch (desde tu ordenador) y ya tendrás el proyecto acabado."
   ]
  },
  {
   "attachments": {},
   "cell_type": "markdown",
   "metadata": {},
   "source": [
    "Trozo de código 1"
   ]
  },
  {
   "cell_type": "code",
   "execution_count": null,
   "metadata": {
    "vscode": {
     "languageId": "plaintext"
    }
   },
   "outputs": [],
   "source": [
    "import folium\n",
    "from folium.plugins import MarkerCluster\n",
    "import pandas as pd\n",
    "import request"
   ]
  },
  {
   "attachments": {},
   "cell_type": "markdown",
   "metadata": {},
   "source": [
    "Trozo de código 2"
   ]
  },
  {
   "cell_type": "code",
   "execution_count": null,
   "metadata": {
    "vscode": {
     "languageId": "plaintext"
    }
   },
   "outputs": [],
   "source": [
    "def json_to_df(data):\n",
    "elements = data['elements']\n",
    "places = {'category': [], 'lat': [], 'lon': [], 'name': [],\n",
    "'address': []}\n",
    "for i in elements:\n",
    "tipo = i.get('tags', None).get('amenity', None)\n",
    "latitude = i.get('lat', None)\n",
    "longitude = i.get('lon', None)\n",
    "name = i.get('tags', {}).get('name', \"NO NAME\")\n",
    "street = i.get('tags', {}).get('addr:street', \"NO\n",
    "STREET\")\n",
    "number = i.get('tags', {}).get('addr:housenumber', 9999)\n",
    "places['category'].append(tipo)\n",
    "places['lat'].append(latitude)\n",
    "places['lon'].append(longitude)\n",
    "places['name'].append(name)\n",
    "places['address'].append(street + ' ' + str(number))\n",
    "return pd.DataFrame(places)"
   ]
  },
  {
   "attachments": {},
   "cell_type": "markdown",
   "metadata": {},
   "source": [
    "Trozo de código 3"
   ]
  },
  {
   "cell_type": "code",
   "execution_count": null,
   "metadata": {
    "vscode": {
     "languageId": "plaintext"
    }
   },
   "outputs": [],
   "source": [
    "list_health = [“bichitos de colores súper chulos”]\n",
    "dataframes = []\n",
    "for amenity in list_health:\n",
    "overpass_url = \"http://overpass-api.de/api/interpreter\"\n",
    "overpass_query = f\"\"\"\n",
    "[out:json];\n",
    "node[\"amenity\"= {amenity}]\n",
    "(40.40, -3.71,40.54, -3.60);\n",
    "out;\n",
    "\"\"\"\n",
    "# the bridge está en el Latitud: 40.421703 Longitud:\n",
    "-3.691725\n",
    "response = requests.get(overpass_url, params={'data':\n",
    "overpass_query})\n",
    "try:\n",
    "data = response.json()\n",
    "df = json_to_df(data)\n",
    "dataframes.append(df)\n",
    "except:\n",
    "continue\n",
    "health_csv = pd.concat(dataframes)\n",
    "coordenadas_TB = (40.421703,-3.691725)\n",
    "some_map2 = folium.Map(location=coordenadas_TB, zoom_start=14)\n",
    "#for row in subset.itertuples():\n",
    "some_map2.add_child(folium.Marker(location=[40.421703,-3.691725],\n",
    "popup=\"The Bridge\",\n",
    "icon=folium.Icon(icon='home',\n",
    "color='red')))\n",
    "mc = MarkerCluster()\n",
    "for row in health_csv.itertuples():\n",
    "mc.add_child(folium.Marker(location = [row.lat, row.lon],\n",
    "popup=row.name,\n",
    "icon=folium.Icon(icon='glyphicon glyphicon-heart-empty',\n",
    "color='blue')))\n",
    "some_map2.add_child(mc)\n",
    "some_map2.save('templates/map.html')"
   ]
  },
  {
   "attachments": {},
   "cell_type": "markdown",
   "metadata": {},
   "source": [
    "Trozo de código 4"
   ]
  },
  {
   "cell_type": "code",
   "execution_count": null,
   "metadata": {
    "vscode": {
     "languageId": "plaintext"
    }
   },
   "outputs": [],
   "source": [
    "list_health = [\"hospital\", \"clinic\", \"doctors\"]\n",
    "dataframes = []\n",
    "for amenity in list_health:\n",
    "overpass_url = \"http://overpass-api.de/api/interpreter\"\n",
    "overpass_query = f\"\"\"\n",
    "[out:json];\n",
    "node[\"amenity\"= {amenity}]\n",
    "(40.40, -3.71,40.54, -3.60);\n",
    "out;\n",
    "\"\"\"\n",
    "# the bridge está en el Latitud: 40.421703 Longitud:\n",
    "-3.691725\n",
    "response = requests.get(overpass_url, params={'data':\n",
    "overpass_query})\n",
    "try:\n",
    "data = response.json()\n",
    "df = json_to_df(data)\n",
    "dataframes.append(df)\n",
    "except:\n",
    "continue\n",
    "health_csv = pd.concat(dataframes)\n",
    "coordenadas_TB = (40.421703,-3.691725)\n",
    "some_map2 = folium.Map(location=coordenadas_TB, zoom_start=14)\n",
    "#for row in subset.itertuples():\n",
    "some_map2.add_child(folium.Marker(location=[40.421703,-3.691725],\n",
    "popup=\"The Bridge\",\n",
    "icon=folium.Icon(icon='home',\n",
    "color='red')))\n",
    "mc = MarkerCluster()\n",
    "for row in health_csv.itertuples():\n",
    "mc.add_child(folium.Marker(location = [row.lat, row.lon],\n",
    "popup=row.name,\n",
    "icon=folium.Icon(icon='glyphicon glyphicon-heart-empty',\n",
    "color='blue')))\n",
    "some_map2.add_child(mc)\n",
    "some_map2.save('templates/bichitosdecolores.html')"
   ]
  },
  {
   "attachments": {},
   "cell_type": "markdown",
   "metadata": {},
   "source": [
    "## Developer_3\n",
    "\n",
    "- **INSTRUCCIONES**\n",
    "    1. Clona el repositorio creado por Trabajador 1 en local.\n",
    "    2. Al clonarte el repositorio, solo habrás traído la rama main, sin embargo, necesitarás la rama `develop-branch`para continuar trabajando.\n",
    "    3. Antes de continuar, asegúrate de que Trabajador 1 ha creado la rama develop y la ha pusheado a Github. Entonces sigue los siguientes pasos: [https://stackoverflow.com/questions/67699/how-to-clone-all-remote-branches-in-git](https://stackoverflow.com/questions/67699/how-to-clone-all-remote-branches-in-git)\n",
    "    4. Crea la `epic-branch-3` desde `develop-branch` en esta te encargarás de desarrollar `covid_dash.py`. \n",
    "        1. Crea rama `branch-ticket-1` para añadir **Trozo de código 1.** Cuando lo tengas, fusiona con la `epic-branch-3`\n",
    "        2. Crea rama `branch-ticket-2`para añadir **Trozo de código 2**. Cuando lo tengas, fusiona con la `epic-branch-3`\n",
    "        3. Crea rama `branch-ticket-3`a partir de `epic-branch-3`. Después, crea dos sub-branches dentro de `branch-ticket-3` , la `branch-ticket-3-1` y la `branch-ticket-3-2`. Inserta en cada una de ellas el trozo de código 3 y el 4, respectivamente. Fusiona primero `branch-ticket-3` con `branch-ticket-3-1`. Luego `branch-ticket-3` con `branch-ticket-3-2`. Al hacerlo, te dará un conflicto, dándote la opción de quedarte con el código que tienes actualmente en `branch-ticket-3`, `branch-ticket-3-2` o una mezcla de ambas. Compara ambos códigos y elige la opción que consideres correcta.\n",
    "        4. Vuelve a `epic-branch-3`Inserta este código, añade y commit. Fusiona con `branch-ticket-3`\n",
    "    5. Resuelve el conflicto, quédate con el trozo de código de la rama `branch-ticket-3` .\n",
    "    6. Asegúrate de que has fusionado todas tus branches ticket con la `epic-branch-3`y que tu archivo `covid_dash.py` es **idéntico al del repo original.**\n",
    "        1. Si no es así, haz una rama ticket para cada cosa que añadas.\n",
    "    7. Es el momento en el que debes mandar tu trabajo al repositorio, usa `git push origin epic-branch-3`para esto."
   ]
  },
  {
   "attachments": {},
   "cell_type": "markdown",
   "metadata": {},
   "source": [
    "> **LLEGADO A ESTE PUNTO, ES IMPORTANTE QUE TODOS LOS MIEMBROS DEL EQUIPO ESTÉIS MÁS O MENOS EN EL MISMO PUNTO, SI NO ES ASÍ, ES TAMBIÉN TU RESPONSABILIDAD QUE ESO SEA ASÍ. ÉCHALES UNA MANO!!!**\n",
    "> \n",
    "- Empieza Trabajador 1, eres **EL ÚLTIMO** en hacer la Pull Request. No podrás hacer tu PR hasta que no hays aceptado la PR de Trabajador 2. No obstante, la primera vez que Trabajador 2 haga la PR, recházala, dile que abra otra rama ticket y añada un markdown con los nombres, apellidos y emails de los tres Trabajadores, y vuelva a fusionar con `epic-branch-2` . Cuando vuelva a abrir la PR, acéptala.\n",
    "- Ahora puedes hacer tu Pull Request que Trabajador 1 aceptará sin comentarios. **A no ser que vea algo que no estaba previsto.**\n",
    "- Antes de probar si tu programa funciona, tienes la **GRAN** misión de añadir todas las carpetas y darle la misma estructura a la rama `develop-branch`que tiene el repo original. Para esto, deberás crear la rama `epic-branch-4` una vez hayas hecho el `git pull origin develop-branch` estando en la rama `develop-branch`. No te olvides de añadir el archivo `index.html` a la carpeta de templates. Este archivo podrás cogerlo del repo original. Para esto, deberás crear la rama `epic-branch-4` una vez hayas hecho `git pull origin develop-branch`\n",
    "- Cuando hayas realizado los cambios, deberás hacer una **PULL REQUEST** a `develop-branch`que Trabajador 1 deberá revisar y aceptar."
   ]
  },
  {
   "attachments": {},
   "cell_type": "markdown",
   "metadata": {},
   "source": [
    "¡¡Ya habéis terminado!! Ahora puedes hacer git pull desde develop-branch (desde tu ordenador) y ya tendrás el proyecto acabado."
   ]
  },
  {
   "attachments": {},
   "cell_type": "markdown",
   "metadata": {},
   "source": [
    "Trozo de código 1"
   ]
  },
  {
   "cell_type": "code",
   "execution_count": null,
   "metadata": {
    "vscode": {
     "languageId": "plaintext"
    }
   },
   "outputs": [],
   "source": [
    "import plotly.graph_objects as go\n",
    "from plotly.subplots import make_subplots\n",
    "import pandas as pd\n",
    "import requests\n",
    "from datetime import datetime\n",
    "#https://towardsdatascience.com/building-a-real-time-dashboard-us\n",
    "ing-python-plotly-library-and-web-service-145f50d204f0\n",
    "raw=\n",
    "requests.get(\"https://services1.arcgis.com/0MSEUqKaxRlEPj5g/arcgi\n",
    "s/rest/services/Coronavirus_2019_nCoV_Cases/FeatureServer/1/query\n",
    "?where=1%3D1&outFields=*&outSR=4326&f=json\")\n",
    "raw_json = raw.json()\n",
    "df = pd.DataFrame(raw_json[\"features\"])\n",
    "data_list = df[\"attributes\"].tolist()\n",
    "df_final = pd.DataFrame(data_list)\n",
    "df_final.set_index(\"OBJECTID\")\n",
    "df_final = df_final[[\"Country_Region\", \"Province_State\", \"Lat\",\n",
    "\"Long_\", \"Confirmed\", \"Deaths\", \"Recovered\", \"Last_Update\"]]"
   ]
  },
  {
   "attachments": {},
   "cell_type": "markdown",
   "metadata": {},
   "source": [
    "Trozo de código 2"
   ]
  },
  {
   "cell_type": "code",
   "execution_count": null,
   "metadata": {
    "vscode": {
     "languageId": "plaintext"
    }
   },
   "outputs": [],
   "source": [
    "def convertTime(t):\n",
    "t = int(t)\n",
    "return datetime.fromtimestamp(t)\n",
    "df_final = df_final.dropna(subset=[\"Last_Update\"])\n",
    "df_final[\"Province_State\"].fillna(value=\"\", inplace=True)\n",
    "df_final[\"Last_Update\"]= df_final[\"Last_Update\"]/1000\n",
    "df_final[\"Last_Update\"] =\n",
    "df_final[\"Last_Update\"].apply(convertTime)\n",
    "df_total = df_final.groupby(\"Country_Region\",\n",
    "as_index=False).agg(\n",
    "{\n",
    "\"Confirmed\" : \"sum\",\n",
    "\"Deaths\" : \"sum\",\n",
    "\"Recovered\" : \"sum\"\n",
    "}\n",
    ")\n",
    "total_confirmed = df_final[\"Confirmed\"].sum()\n",
    "total_recovered = df_final[\"Recovered\"].sum()\n",
    "total_deaths = df_final[\"Deaths\"].sum()\n",
    "df_top10 = df_total.nlargest(10, \"Confirmed\")\n",
    "top10_countries_1 = df_top10[\"Country_Region\"].tolist()\n",
    "top10_confirmed = df_top10[\"Confirmed\"].tolist()\n",
    "df_top10 = df_total.nlargest(10, \"Recovered\")\n",
    "top10_countries_2 = df_top10[\"Country_Region\"].tolist()\n",
    "top10_recovered = df_top10[\"Recovered\"].tolist()\n",
    "df_top10 = df_total.nlargest(10, \"Deaths\")\n",
    "top10_countries_3 = df_top10[\"Country_Region\"].tolist()\n",
    "top10_deaths = df_top10[\"Deaths\"].tolist()"
   ]
  },
  {
   "attachments": {},
   "cell_type": "markdown",
   "metadata": {},
   "source": [
    "Trozo de código 3"
   ]
  },
  {
   "cell_type": "code",
   "execution_count": null,
   "metadata": {
    "vscode": {
     "languageId": "plaintext"
    }
   },
   "outputs": [],
   "source": [
    "fig = make_subplots(\n",
    "rows = 4, cols = 6,\n",
    "specs=[\n",
    "[{\"type\": \"scattergeo\", \"rowspan\": 4, \"colspan\": 3},\n",
    "None, None, {\"type\": \"indicator\"}, {\"type\": \"indicator\"},\n",
    "{\"type\": \"indicator\"} ],\n",
    "[ None, None, None, {\"type\": \"bar\",\n",
    "\"colspan\":3}, None, None],\n",
    "[ None, None, None, {\"type\": \"bar\",\n",
    "\"colspan\":3}, None, None],\n",
    "[ None, None, None, {\"type\": \"bar\",\n",
    "\"colspan\":3}, None, None],\n",
    "]\n",
    ")\n",
    "message = df_final[\"Country_Region\"] + \" \" +\n",
    "df_final[\"Province_State\"] + \"<br>\"\n",
    "message += \"Confirmed: \" + df_final[\"Confirmed\"].astype(str) +\n",
    "\"<br>\"\n",
    "message += \"Deaths: \" + df_final[\"Deaths\"].astype(str) + \"<br>\"\n",
    "message += \"Recovered: \" + df_final[\"Recovered\"].astype(str) +\n",
    "\"<br>\"\n",
    "message += \"Last updated: \" + df_final[\"Last_Update\"].astype(str)\n",
    "df_final[\"text\"] = message\n",
    "fig.add_trace(\n",
    "go.Scattergeo(\n",
    "locationmode = \"country names\",\n",
    "lon = df_final[\"Long_\"],\n",
    "lat = df_final[\"Lat\"],\n",
    "hovertext = df_final[\"text\"],\n",
    "showlegend=False,\n",
    "marker = dict(\n",
    "size = 10,\n",
    "opacity = 0.8,\n",
    "reversescale = True,\n",
    "autocolorscale = True,\n",
    "symbol = 'square',\n",
    "line = dict(\n",
    "width=1,\n",
    "color='rgba(102, 102, 102)'\n",
    "),\n",
    "cmin = 0,\n",
    "color = df_final['Confirmed'],\n",
    "cmax = df_final['Confirmed'].max(),\n",
    "colorbar_title=\"Confirmed Cases<br>Latest Update\",\n",
    "colorbar_x = -0.05\n",
    ")\n",
    "),\n",
    "row=1, col=1\n",
    ")\n",
    "fig.add_trace(\n",
    "go.Indicator(\n",
    "mode=\"number\",\n",
    "value=total_confirmed,\n",
    "title=\"Confirmed Cases\",\n",
    "),\n",
    "row=1, col=4\n",
    ")\n",
    "fig.add_trace(\n",
    "go.Indicator(\n",
    "mode=\"number\",\n",
    "value=total_recovered,\n",
    "title=\"Recovered Cases\",\n",
    "),\n",
    "row=1, col=5\n",
    ")\n",
    "fig.add_trace(\n",
    "go.Indicator(\n",
    "mode=\"number\",\n",
    "value=total_deaths,\n",
    "title=\"Deaths Cases\",\n",
    "),\n",
    "row=1, col=6\n",
    ")\n",
    "fig.add_trace(\n",
    "go.Bar(\n",
    "x=top10_countries_1,\n",
    "y=top10_confirmed,\n",
    "name= \"Confirmed Cases\",\n",
    "marker=dict(color=\"Yellow\"),\n",
    "showlegend=True,\n",
    "),\n",
    "row=2, col=4\n",
    ")\n",
    "fig.add_trace(\n",
    "go.Bar(\n",
    "x=top10_countries_2,\n",
    "y=top10_recovered,\n",
    "name= \"Recovered Cases\",\n",
    "marker=dict(color=\"Green\"),\n",
    "showlegend=True),\n",
    "row=3, col=4\n",
    ")\n",
    "fig.add_trace(\n",
    "go.Bar(\n",
    "x=top10_countries_3,\n",
    "y=top10_deaths,\n",
    "name= \"Deaths Cases\",\n",
    "marker=dict(color=\"crimson\"),\n",
    "showlegend=True),\n",
    "row=4, col=4\n",
    ")\n",
    "fig.update_layout(\n",
    "template=\"plotly_dark\",\n",
    "title = \"Global COVID-19 Cases (Last Updated: \" +\n",
    "str(df_final[\"Last_Update\"][0]) + \")\",\n",
    "showlegend=True,\n",
    "legend_orientation=\"h\",\n",
    "legend=dict(x=0.65, y=0.8),\n",
    "geo = dict(\n",
    "projection_type=\"orthographic\",\n",
    "showcoastlines=True,\n",
    "landcolor=\"white\",\n",
    "showland= True,\n",
    "showocean = True,\n",
    "lakecolor=\"LightBlue\"\n",
    "),\n",
    "annotations=[\n",
    "dict(\n",
    "text=\"Source: https://bit.ly/3aEzxjK\",\n",
    "showarrow=False,\n",
    "xref=\"paper\",\n",
    "yref=\"paper\",\n",
    "x=0.35,\n",
    "y=0)\n",
    "]\n",
    ")\n",
    "fig.write_html('templates/dashboard.html')"
   ]
  },
  {
   "attachments": {},
   "cell_type": "markdown",
   "metadata": {},
   "source": [
    "Trozo de código 4"
   ]
  },
  {
   "cell_type": "code",
   "execution_count": null,
   "metadata": {
    "vscode": {
     "languageId": "plaintext"
    }
   },
   "outputs": [],
   "source": [
    "fig = make_LO_QUE_TE_DE_LA_GANA(\n",
    "rows = 4, cols = 6,\n",
    "specs=[\n",
    "[{\"type\": \"scattergeo\", \"rowspan\": 4, \"colspan\": 3},\n",
    "None, None, {\"type\": \"indicator\"}, {\"type\": \"indicator\"},\n",
    "{\"type\": \"indicator\"} ],\n",
    "[ None, None, None, {\"type\": \"bar\",\n",
    "\"colspan\":3}, None, None],\n",
    "[ None, None, None, {\"type\": \"bar\",\n",
    "\"colspan\":3}, None, None],\n",
    "[ None, None, None, {\"type\": \"bar\",\n",
    "\"colspan\":3}, None, None],\n",
    "]\n",
    ")\n",
    "message = df_final[\"Country_Region\"] + \" \" +\n",
    "df_final[\"Province_State\"] + \"<br>\"\n",
    "message += \"Confirmed: \" + df_final[\"Confirmed\"].astype(str) +\n",
    "\"<br>\"\n",
    "message += \"Deaths: \" + df_final[\"Deaths\"].astype(str) + \"<br>\"\n",
    "message += \"Recovered: \" + df_final[\"Recovered\"].astype(str) +\n",
    "\"<br>\"\n",
    "message += \"Last updated: \" + df_final[\"Last_Update\"].astype(str)\n",
    "df_final[\"text\"] = message\n",
    "fig.add_trace(\n",
    "go.Scattergeo(\n",
    "locationmode = \"country names\",\n",
    "lon = df_final[\"Long_\"],\n",
    "lat = df_final[\"Lat\"],\n",
    "hovertext = df_final[\"text\"],\n",
    "showlegend=False,\n",
    "marker = dict(\n",
    "size = 10,\n",
    "opacity = 0.8,\n",
    "reversescale = True,\n",
    "autocolorscale = True,\n",
    "symbol = 'square',\n",
    "line = dict(\n",
    "width=1,\n",
    "color='rgba(102, 102, 102)'\n",
    "),\n",
    "cmin = 0,\n",
    "color = df_final['Confirmed'],\n",
    "cmax = df_final['Confirmed'].max(),\n",
    "colorbar_title=\"Confirmed Cases<br>Latest Update\",\n",
    "colorbar_x = -0.05\n",
    ")\n",
    "),\n",
    "row=1, col=1\n",
    ")\n",
    "fig.add_trace(\n",
    "go.Indicator(\n",
    "mode=\"number\",\n",
    "value=total_confirmed,\n",
    "title=\"Confirmed Cases\",\n",
    "),\n",
    "row=1, col=4\n",
    ")\n",
    "fig.add_trace(\n",
    "go.Indicator(\n",
    "mode=\"number\",\n",
    "value=total_recovered,\n",
    "title=\"Recovered Cases\",\n",
    "),\n",
    "row=1, col=5\n",
    ")\n",
    "fig.add_trace(\n",
    "go.Indicator(\n",
    "mode=\"number\",\n",
    "value=total_deaths,\n",
    "title=\"Deaths Cases\",\n",
    "),\n",
    "row=1, col=6\n",
    ")\n",
    "fig.add_trace(\n",
    "go.Bar(\n",
    "x=top10_countries_1,\n",
    "y=top10_confirmed,\n",
    "name= \"Confirmed Cases\",\n",
    "marker=dict(color=\"Yellow\"),\n",
    "showlegend=True,\n",
    "),\n",
    "row=2, col=4\n",
    ")\n",
    "fig.add_trace(\n",
    "go.Bar(\n",
    "x=top10_countries_2,\n",
    "y=top10_recovered,\n",
    "name= \"Recovered Cases\",\n",
    "marker=dict(color=\"Green\"),\n",
    "showlegend=True),\n",
    "row=3, col=4\n",
    ")\n",
    "fig.add_trace(\n",
    "go.Bar(\n",
    "x=top10_countries_3,\n",
    "y=top10_deaths,\n",
    "name= \"Deaths Cases\",\n",
    "marker=dict(color=\"crimson\"),\n",
    "showlegend=True),\n",
    "row=4, col=4\n",
    ")\n",
    "fig.update_layout(\n",
    "template=\"plotly_dark\",\n",
    "title = \"Global COVID-19 Cases (Last Updated: \" +\n",
    "str(df_final[\"Last_Update\"][0]) + \")\",\n",
    "showlegend=True,\n",
    "legend_orientation=\"h\",\n",
    "legend=dict(x=0.65, y=0.8),\n",
    "geo = dict(\n",
    "projection_type=\"orthographic\",\n",
    "showcoastlines=True,\n",
    "landcolor=\"white\",\n",
    "showland= True,\n",
    "showocean = True,\n",
    "lakecolor=\"LightBlue\"\n",
    "),\n",
    "annotations=[\n",
    "dict(\n",
    "text=\"Source: https://bit.ly/3aEzxjK\",\n",
    "showarrow=False,\n",
    "xref=\"paper\",\n",
    "yref=\"paper\",\n",
    "x=0.35,\n",
    "y=0)\n",
    "]\n",
    ")\n",
    "fig.write_html('templates/quedivertidoesesteejercicio.html')"
   ]
  },
  {
   "cell_type": "markdown",
   "metadata": {},
   "source": [
    "## Comandos a usar"
   ]
  },
  {
   "cell_type": "markdown",
   "metadata": {},
   "source": [
    "```git\n",
    "git add\n",
    "git merge\n",
    "git commit\n",
    "git pull\n",
    "git pull <nombre específico de la rama en origin>\n",
    "git push origin\n",
    "git status\n",
    "git branch\n",
    "git branch -a\n",
    "git checkout\n",
    "```"
   ]
  }
 ],
 "metadata": {
  "language_info": {
   "name": "python"
  },
  "orig_nbformat": 4
 },
 "nbformat": 4,
 "nbformat_minor": 2
}
