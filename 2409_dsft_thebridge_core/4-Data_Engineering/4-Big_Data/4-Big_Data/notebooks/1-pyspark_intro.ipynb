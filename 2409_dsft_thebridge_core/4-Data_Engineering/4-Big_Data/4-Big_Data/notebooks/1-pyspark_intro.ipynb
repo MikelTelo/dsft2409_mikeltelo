{
 "cells": [
  {
   "attachments": {},
   "cell_type": "markdown",
   "id": "8ff41f5d",
   "metadata": {},
   "source": [
    "# Pyspark Basic Introduction"
   ]
  },
  {
   "attachments": {},
   "cell_type": "markdown",
   "id": "c4a9a9bf",
   "metadata": {},
   "source": [
    "## Instalamos pyspark"
   ]
  },
  {
   "cell_type": "code",
   "execution_count": 3,
   "id": "989dd9b9",
   "metadata": {},
   "outputs": [],
   "source": [
    "# pip install pyspark"
   ]
  },
  {
   "attachments": {},
   "cell_type": "markdown",
   "id": "d9903ca9",
   "metadata": {},
   "source": [
    "## Importamos pyspark"
   ]
  },
  {
   "cell_type": "code",
   "execution_count": 1,
   "id": "95d727fd",
   "metadata": {},
   "outputs": [],
   "source": [
    "import pyspark"
   ]
  },
  {
   "cell_type": "code",
   "execution_count": 2,
   "id": "45955ba3",
   "metadata": {},
   "outputs": [],
   "source": [
    "from pyspark.sql import SparkSession"
   ]
  },
  {
   "attachments": {},
   "cell_type": "markdown",
   "id": "cbaf3fa0",
   "metadata": {},
   "source": [
    "Leemos el archivo `test.csv`"
   ]
  },
  {
   "cell_type": "code",
   "execution_count": 3,
   "id": "dbe9f2ba",
   "metadata": {},
   "outputs": [
    {
     "data": {
      "text/plain": [
       "pandas.core.frame.DataFrame"
      ]
     },
     "execution_count": 3,
     "metadata": {},
     "output_type": "execute_result"
    }
   ],
   "source": [
    "import pandas as pd\n",
    "type(pd.read_csv('./data/test1.csv'))"
   ]
  },
  {
   "attachments": {},
   "cell_type": "markdown",
   "id": "a6da4aa0",
   "metadata": {},
   "source": [
    "### Vamos a crear una sesión.\n",
    "Esto nos da acceso a la API de DataFrame y Dataset, que básicamente nos sirve para ejecutar las distintas acciones y transformaciones sobre nuestros datos."
   ]
  },
  {
   "cell_type": "code",
   "execution_count": 4,
   "id": "56a80627",
   "metadata": {},
   "outputs": [],
   "source": [
    "spark = SparkSession.builder.appName('Practise').getOrCreate() # Inicia sesión para poder utilizar los comandos de spark"
   ]
  },
  {
   "attachments": {},
   "cell_type": "markdown",
   "id": "92e05abf",
   "metadata": {},
   "source": [
    "Visualizamos la sesión"
   ]
  },
  {
   "cell_type": "code",
   "execution_count": 5,
   "id": "bce637f6",
   "metadata": {},
   "outputs": [
    {
     "data": {
      "text/html": [
       "\n",
       "            <div>\n",
       "                <p><b>SparkSession - in-memory</b></p>\n",
       "                \n",
       "        <div>\n",
       "            <p><b>SparkContext</b></p>\n",
       "\n",
       "            <p><a href=\"http://LAPTOP-2U44DDTC:4040\">Spark UI</a></p>\n",
       "\n",
       "            <dl>\n",
       "              <dt>Version</dt>\n",
       "                <dd><code>v3.4.1</code></dd>\n",
       "              <dt>Master</dt>\n",
       "                <dd><code>local[*]</code></dd>\n",
       "              <dt>AppName</dt>\n",
       "                <dd><code>Practise</code></dd>\n",
       "            </dl>\n",
       "        </div>\n",
       "        \n",
       "            </div>\n",
       "        "
      ],
      "text/plain": [
       "<pyspark.sql.session.SparkSession at 0x25adde9a410>"
      ]
     },
     "execution_count": 5,
     "metadata": {},
     "output_type": "execute_result"
    }
   ],
   "source": [
    "spark"
   ]
  },
  {
   "attachments": {},
   "cell_type": "markdown",
   "id": "58bedc92",
   "metadata": {},
   "source": [
    "Ahora vamos a leer `test.csv` a través de Spark"
   ]
  },
  {
   "cell_type": "code",
   "execution_count": 6,
   "id": "7fe8afb1",
   "metadata": {},
   "outputs": [],
   "source": [
    "df_pyspark = spark.read.csv('data/test1.csv')"
   ]
  },
  {
   "attachments": {},
   "cell_type": "markdown",
   "id": "c9dec877",
   "metadata": {},
   "source": [
    "Ahora vamos a leer `test.csv` a través de Spark"
   ]
  },
  {
   "cell_type": "code",
   "execution_count": 7,
   "id": "612b9eea",
   "metadata": {},
   "outputs": [
    {
     "name": "stdout",
     "output_type": "stream",
     "text": [
      "+---------+---+----------+------+\n",
      "|      _c0|_c1|       _c2|   _c3|\n",
      "+---------+---+----------+------+\n",
      "|     Name|age|Experience|Salary|\n",
      "|    Krish| 31|        10| 30000|\n",
      "|Sudhanshu| 30|         8| 25000|\n",
      "|    Sunny| 29|         4| 20000|\n",
      "|     Paul| 24|         3| 20000|\n",
      "|   Harsha| 21|         1| 15000|\n",
      "|  Shubham| 23|         2| 18000|\n",
      "+---------+---+----------+------+\n",
      "\n"
     ]
    }
   ],
   "source": [
    "df_pyspark.show()"
   ]
  },
  {
   "attachments": {},
   "cell_type": "markdown",
   "id": "0d493e63",
   "metadata": {},
   "source": [
    "Si nos fijamos, nos está mostrando nombres raros en las columnas y además la primera fila la componen los nombres de las columnas.\n",
    "\n",
    "Para evitar eso, necesitamos poner unos argumentos para evitarlo"
   ]
  },
  {
   "cell_type": "code",
   "execution_count": 8,
   "id": "72486c71",
   "metadata": {},
   "outputs": [],
   "source": [
    "df_pyspark = spark.read.option('header', 'true').csv('data/test1.csv')"
   ]
  },
  {
   "cell_type": "code",
   "execution_count": 9,
   "id": "0899c57a",
   "metadata": {},
   "outputs": [
    {
     "name": "stdout",
     "output_type": "stream",
     "text": [
      "+---------+---+----------+------+\n",
      "|     Name|age|Experience|Salary|\n",
      "+---------+---+----------+------+\n",
      "|    Krish| 31|        10| 30000|\n",
      "|Sudhanshu| 30|         8| 25000|\n",
      "|    Sunny| 29|         4| 20000|\n",
      "|     Paul| 24|         3| 20000|\n",
      "|   Harsha| 21|         1| 15000|\n",
      "|  Shubham| 23|         2| 18000|\n",
      "+---------+---+----------+------+\n",
      "\n"
     ]
    }
   ],
   "source": [
    "df_pyspark.show()"
   ]
  },
  {
   "cell_type": "code",
   "execution_count": 10,
   "id": "7cfe21cc",
   "metadata": {},
   "outputs": [],
   "source": [
    "df_pyspark = spark.read.csv('data/test1.csv', header=True)"
   ]
  },
  {
   "cell_type": "code",
   "execution_count": 11,
   "id": "b02068db",
   "metadata": {},
   "outputs": [
    {
     "name": "stdout",
     "output_type": "stream",
     "text": [
      "+---------+---+----------+------+\n",
      "|     Name|age|Experience|Salary|\n",
      "+---------+---+----------+------+\n",
      "|    Krish| 31|        10| 30000|\n",
      "|Sudhanshu| 30|         8| 25000|\n",
      "|    Sunny| 29|         4| 20000|\n",
      "|     Paul| 24|         3| 20000|\n",
      "|   Harsha| 21|         1| 15000|\n",
      "|  Shubham| 23|         2| 18000|\n",
      "+---------+---+----------+------+\n",
      "\n"
     ]
    }
   ],
   "source": [
    "df_pyspark.show()"
   ]
  },
  {
   "attachments": {},
   "cell_type": "markdown",
   "id": "4565a537",
   "metadata": {},
   "source": [
    "Vemos el tipo de objeto que es"
   ]
  },
  {
   "cell_type": "code",
   "execution_count": 12,
   "id": "6cd59ef9",
   "metadata": {},
   "outputs": [
    {
     "data": {
      "text/plain": [
       "pyspark.sql.dataframe.DataFrame"
      ]
     },
     "execution_count": 12,
     "metadata": {},
     "output_type": "execute_result"
    }
   ],
   "source": [
    "type(df_pyspark)"
   ]
  },
  {
   "attachments": {},
   "cell_type": "markdown",
   "id": "5daad314",
   "metadata": {},
   "source": [
    "Vemos la información de las columnas"
   ]
  },
  {
   "cell_type": "code",
   "execution_count": 13,
   "id": "1e8290ff",
   "metadata": {},
   "outputs": [
    {
     "name": "stdout",
     "output_type": "stream",
     "text": [
      "root\n",
      " |-- Name: string (nullable = true)\n",
      " |-- age: string (nullable = true)\n",
      " |-- Experience: string (nullable = true)\n",
      " |-- Salary: string (nullable = true)\n",
      "\n"
     ]
    }
   ],
   "source": [
    "df_pyspark.printSchema()"
   ]
  },
  {
   "cell_type": "code",
   "execution_count": 14,
   "id": "61172abd",
   "metadata": {},
   "outputs": [],
   "source": [
    "spark.stop()"
   ]
  }
 ],
 "metadata": {
  "interpreter": {
   "hash": "90139cb9a825bf3d63f6f6704e828dbd1ff7edbd4d0c6e906a71235d6efc74af"
  },
  "kernelspec": {
   "display_name": "Python 3.7.4 64-bit",
   "language": "python",
   "name": "python3"
  },
  "language_info": {
   "codemirror_mode": {
    "name": "ipython",
    "version": 3
   },
   "file_extension": ".py",
   "mimetype": "text/x-python",
   "name": "python",
   "nbconvert_exporter": "python",
   "pygments_lexer": "ipython3",
   "version": "3.11.3"
  }
 },
 "nbformat": 4,
 "nbformat_minor": 5
}
