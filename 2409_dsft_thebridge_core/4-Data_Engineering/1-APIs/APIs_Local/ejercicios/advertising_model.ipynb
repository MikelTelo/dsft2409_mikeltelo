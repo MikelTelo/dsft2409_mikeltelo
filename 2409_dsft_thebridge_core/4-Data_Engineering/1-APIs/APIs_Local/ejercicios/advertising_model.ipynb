{
 "cells": [
  {
   "attachments": {},
   "cell_type": "markdown",
   "metadata": {},
   "source": [
    "# Ejercicio Flask API\n",
    "Para este ejercicio tendrás que desplegar un modelo de machine learning en una API para su consumo en Pythonanywhere. Ya tienes un modelo entrenado,desarrollarás una API que permita consumir dicho modelo desde cualquier otra tecnología.\n",
    "\n",
    "**Se presenta el siguiente caso de uso**\n",
    "\n",
    "Una empresa distribuidora de ámbito nacional pretende utilizar un modelo desarrollado por el departamento de data science, con el que consiguen una predicción de las ventas a partir de los gastos en marketing de anuncios en televisión, radio y periódicos. Quieren incorporar estos datos dentro de su página web interna, donde comparten todo tipo de información relativa a resultados de la empresa, ventas, adquisiciones, etc... La web está desarrollada en AngularJS, mientras que el modelo se desarrolló en Python, por lo que precisamos de una interfaz de comunicación entre ambos sistemas.\n",
    "\n",
    "El equipo de desarrollo necesita que implementes un microservicio para que ellos puedan consumir el modelo desde la propia web, comunicándose con una BBDD para ingestar o reentrenar el modelo. No vale base de datos en csv. El microservicio tiene que cumplir las siguientes características:\n",
    "1. Ofrezca la predicción de ventas a partir de todos los valores de gastos en publicidad. (/v2/predict)\n",
    "2. Un endpoint para almacenar nuevos registros en la base de datos que deberá estar previamente creada.(/v2/ingest_data)\n",
    "3. Posibilidad de reentrenar de nuevo el modelo con los posibles nuevos registros que se recojan. (/v2/retrain)\n",
    "\n",
    "\n",
    "**NOTAS**: \n",
    "1. Deberás desplegarlo desde un repositorio de github.\n",
    "2. Ojo con la ruta para hacer el load de tu modelo y datos, comprueba cual es la ruta en la que está buscándolo.\n",
    "3. El desarrollo de un modelo de machine learning no es el objetivo del ejercicio, sino el desarrollo de una API con Flask.\n",
    "\n",
    "**Entregable**: fichero json con \"repository\":\"repositorio de tu github\" y \"url\":\"url home de tu web app\""
   ]
  },
  {
   "cell_type": "code",
   "execution_count": 1,
   "metadata": {},
   "outputs": [],
   "source": [
    "import requests\n",
    "import pandas as pd\n",
    "import os\n",
    "import json"
   ]
  },
  {
   "cell_type": "code",
   "execution_count": 2,
   "metadata": {},
   "outputs": [],
   "source": [
    "def get_request(path, endpoint, params=None):\n",
    "    url = path + endpoint\n",
    "    response = requests.get(url, params=params)\n",
    "    return response.content\n",
    "\n",
    "def post_request(path, endpoint, params=None):\n",
    "    url = path + endpoint\n",
    "    response = requests.post(url, params=params)\n",
    "    return response.content\n",
    "\n",
    "def put_request(path, endpoint, params=None):\n",
    "    url = path + endpoint\n",
    "    response = requests.put(url, params=params)\n",
    "    return response.content\n",
    "\n",
    "endp_predict = '/v2/predict'\n",
    "endp_retrain = '/v2/retrain'\n",
    "endp_ingest = '/v2/ingest_data'"
   ]
  },
  {
   "cell_type": "markdown",
   "metadata": {},
   "source": [
    "### Test endpoint alumnos"
   ]
  },
  {
   "cell_type": "code",
   "execution_count": null,
   "metadata": {},
   "outputs": [],
   "source": [
    "path_entregas = os.getcwd() + '/entregas'\n",
    "\n",
    "results = {\"url\":[],\n",
    "           \"respuesta\":[]}\n",
    "\n",
    "for file in os.listdir(path_entregas):\n",
    "    # print(file)\n",
    "    try:\n",
    "        json_file = json.load(open(path_entregas + \"\\\\\" + file))\n",
    "        # print(json_file)\n",
    "        alumno = json_file['url']\n",
    "        try:\n",
    "            respuesta = get_request(alumno, endp_predict, params={\"tv\":100, \"radio\":60, \"newspaper\":20})\n",
    "        except:\n",
    "            respuesta = \"Error en la llamada\"\n",
    "        results['url'].append(alumno)\n",
    "        results['respuesta'].append(respuesta)\n",
    "\n",
    "    except:\n",
    "        print(\"Fichero inválido\")\n",
    "        \n",
    "pd.DataFrame(results)"
   ]
  },
  {
   "cell_type": "code",
   "execution_count": null,
   "metadata": {},
   "outputs": [],
   "source": []
  }
 ],
 "metadata": {
  "kernelspec": {
   "display_name": "Python 3.7.4 64-bit",
   "language": "python",
   "name": "python3"
  },
  "language_info": {
   "codemirror_mode": {
    "name": "ipython",
    "version": 3
   },
   "file_extension": ".py",
   "mimetype": "text/x-python",
   "name": "python",
   "nbconvert_exporter": "python",
   "pygments_lexer": "ipython3",
   "version": "3.10.2"
  },
  "orig_nbformat": 4,
  "vscode": {
   "interpreter": {
    "hash": "90139cb9a825bf3d63f6f6704e828dbd1ff7edbd4d0c6e906a71235d6efc74af"
   }
  }
 },
 "nbformat": 4,
 "nbformat_minor": 2
}
