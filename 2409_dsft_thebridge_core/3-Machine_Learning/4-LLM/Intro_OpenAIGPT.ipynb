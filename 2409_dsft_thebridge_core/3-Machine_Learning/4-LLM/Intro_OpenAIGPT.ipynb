{
 "cells": [
  {
   "cell_type": "markdown",
   "metadata": {},
   "source": [
    "# Intro OpenAI Api"
   ]
  },
  {
   "cell_type": "code",
   "execution_count": 1,
   "metadata": {},
   "outputs": [
    {
     "name": "stdout",
     "output_type": "stream",
     "text": [
      "Defaulting to user installation because normal site-packages is not writeable\n",
      "Collecting openai\n",
      "  Downloading openai-1.57.0-py3-none-any.whl (389 kB)\n",
      "Collecting jiter<1,>=0.4.0\n",
      "  Downloading jiter-0.8.0-cp39-none-win_amd64.whl (208 kB)\n",
      "Requirement already satisfied: pydantic<3,>=1.9.0 in c:\\users\\hegoi\\appdata\\roaming\\python\\python39\\site-packages (from openai) (2.9.2)\n",
      "Requirement already satisfied: typing-extensions<5,>=4.11 in c:\\users\\hegoi\\appdata\\roaming\\python\\python39\\site-packages (from openai) (4.12.2)\n",
      "Collecting distro<2,>=1.7.0\n",
      "  Downloading distro-1.9.0-py3-none-any.whl (20 kB)\n",
      "Collecting anyio<5,>=3.5.0\n",
      "  Downloading anyio-4.7.0-py3-none-any.whl (93 kB)\n",
      "Collecting httpx<1,>=0.23.0\n",
      "  Downloading httpx-0.28.1-py3-none-any.whl (73 kB)\n",
      "Requirement already satisfied: tqdm>4 in c:\\users\\hegoi\\appdata\\roaming\\python\\python39\\site-packages (from openai) (4.66.5)\n",
      "Requirement already satisfied: sniffio in c:\\users\\hegoi\\appdata\\roaming\\python\\python39\\site-packages (from openai) (1.3.1)\n",
      "Requirement already satisfied: exceptiongroup>=1.0.2 in c:\\users\\hegoi\\appdata\\roaming\\python\\python39\\site-packages (from anyio<5,>=3.5.0->openai) (1.2.2)\n",
      "Requirement already satisfied: idna>=2.8 in c:\\users\\hegoi\\appdata\\roaming\\python\\python39\\site-packages (from anyio<5,>=3.5.0->openai) (3.10)\n",
      "Collecting httpcore==1.*\n",
      "  Downloading httpcore-1.0.7-py3-none-any.whl (78 kB)\n",
      "Requirement already satisfied: certifi in c:\\users\\hegoi\\appdata\\roaming\\python\\python39\\site-packages (from httpx<1,>=0.23.0->openai) (2024.8.30)\n",
      "Requirement already satisfied: h11<0.15,>=0.13 in c:\\users\\hegoi\\appdata\\roaming\\python\\python39\\site-packages (from httpcore==1.*->httpx<1,>=0.23.0->openai) (0.14.0)\n",
      "Requirement already satisfied: pydantic-core==2.23.4 in c:\\users\\hegoi\\appdata\\roaming\\python\\python39\\site-packages (from pydantic<3,>=1.9.0->openai) (2.23.4)\n",
      "Requirement already satisfied: annotated-types>=0.6.0 in c:\\users\\hegoi\\appdata\\roaming\\python\\python39\\site-packages (from pydantic<3,>=1.9.0->openai) (0.7.0)\n",
      "Requirement already satisfied: colorama in c:\\users\\hegoi\\appdata\\roaming\\python\\python39\\site-packages (from tqdm>4->openai) (0.4.6)\n",
      "Installing collected packages: httpcore, anyio, jiter, httpx, distro, openai\n",
      "Successfully installed anyio-4.7.0 distro-1.9.0 httpcore-1.0.7 httpx-0.28.1 jiter-0.8.0 openai-1.57.0\n"
     ]
    },
    {
     "name": "stderr",
     "output_type": "stream",
     "text": [
      "WARNING: You are using pip version 21.1.3; however, version 24.3.1 is available.\n",
      "You should consider upgrading via the 'c:\\program files\\python39\\python.exe -m pip install --upgrade pip' command.\n"
     ]
    }
   ],
   "source": [
    "!pip install openai"
   ]
  },
  {
   "cell_type": "code",
   "execution_count": 2,
   "metadata": {},
   "outputs": [],
   "source": [
    "from openai import OpenAI"
   ]
  },
  {
   "cell_type": "code",
   "execution_count": 4,
   "metadata": {},
   "outputs": [
    {
     "name": "stdout",
     "output_type": "stream",
     "text": [
      "En el vasto mundo del Machine Learning,\n",
      "donde los datos se mezclan sin cesar,\n",
      "aparece la Regularización, brillante y perenne,\n",
      "para evitar que el sobreajuste vaya a triunfar.\n",
      "\n",
      "El modelo se vuelve ambicioso y voraz,\n",
      "por cada dato en el set de entrenamiento,\n",
      "pero la Regularización llega con paz,\n",
      "suavizando la complejidad con encanto.\n",
      "\n",
      "Ridge, Lasso, ElasticNet, nombres de poder,\n",
      "que imponen restricciones con destreza,\n",
      "garantizando el equilibrio y el saber,\n",
      "para predecir con eficacia y certeza.\n",
      "\n",
      "Así, la Regularización se alza victoriosa,\n",
      "en el arte de la predicción computacional,\n",
      "guiando al aprendizaje con sabiduría preciosa,\n",
      "en el fascinante reino del análisis estadístico, magistral.\n"
     ]
    }
   ],
   "source": [
    "\n",
    "client = OpenAI(api_key=\"\")\n",
    "\n",
    "completion = client.chat.completions.create(\n",
    "  model=\"gpt-3.5-turbo\",\n",
    "  messages=[\n",
    "    {\"role\": \"system\", \"content\": \"You are the best poetic assistant, skilled in explaining complex programming concepts with creative flair. Write it in spanish.\"},\n",
    "    {\"role\": \"user\", \"content\": \"Compose a poem that explains the concept regularization in Machine learning.\"}\n",
    "  ]\n",
    ")\n",
    "\n",
    "print(completion.choices[0].message.content)"
   ]
  }
 ],
 "metadata": {
  "kernelspec": {
   "display_name": "Python 3",
   "language": "python",
   "name": "python3"
  },
  "language_info": {
   "codemirror_mode": {
    "name": "ipython",
    "version": 3
   },
   "file_extension": ".py",
   "mimetype": "text/x-python",
   "name": "python",
   "nbconvert_exporter": "python",
   "pygments_lexer": "ipython3",
   "version": "3.9.6"
  }
 },
 "nbformat": 4,
 "nbformat_minor": 2
}
