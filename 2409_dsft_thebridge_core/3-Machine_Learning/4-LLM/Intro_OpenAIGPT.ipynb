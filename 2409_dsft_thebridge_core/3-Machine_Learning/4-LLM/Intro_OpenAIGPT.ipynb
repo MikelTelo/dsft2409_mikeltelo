{
 "cells": [
  {
   "cell_type": "markdown",
   "metadata": {},
   "source": [
    "# Intro OpenAI Api"
   ]
  },
  {
   "cell_type": "code",
   "execution_count": 1,
   "metadata": {},
   "outputs": [],
   "source": [
    "# !pip install openai"
   ]
  },
  {
   "cell_type": "code",
   "execution_count": 2,
   "metadata": {},
   "outputs": [],
   "source": [
    "from openai import OpenAI"
   ]
  },
  {
   "cell_type": "code",
   "execution_count": 4,
   "metadata": {},
   "outputs": [
    {
     "name": "stdout",
     "output_type": "stream",
     "text": [
      "En el vasto mundo del Machine Learning,\n",
      "donde los datos se mezclan sin cesar,\n",
      "aparece la Regularización, brillante y perenne,\n",
      "para evitar que el sobreajuste vaya a triunfar.\n",
      "\n",
      "El modelo se vuelve ambicioso y voraz,\n",
      "por cada dato en el set de entrenamiento,\n",
      "pero la Regularización llega con paz,\n",
      "suavizando la complejidad con encanto.\n",
      "\n",
      "Ridge, Lasso, ElasticNet, nombres de poder,\n",
      "que imponen restricciones con destreza,\n",
      "garantizando el equilibrio y el saber,\n",
      "para predecir con eficacia y certeza.\n",
      "\n",
      "Así, la Regularización se alza victoriosa,\n",
      "en el arte de la predicción computacional,\n",
      "guiando al aprendizaje con sabiduría preciosa,\n",
      "en el fascinante reino del análisis estadístico, magistral.\n"
     ]
    }
   ],
   "source": [
    "\n",
    "client = OpenAI(api_key=\"\")\n",
    "\n",
    "completion = client.chat.completions.create(\n",
    "  model=\"gpt-3.5-turbo\",\n",
    "  messages=[\n",
    "    {\"role\": \"system\", \"content\": \"You are the best poetic assistant, skilled in explaining complex programming concepts with creative flair. Write it in spanish.\"},\n",
    "    {\"role\": \"user\", \"content\": \"Compose a poem that explains the concept regularization in Machine learning.\"}\n",
    "  ]\n",
    ")\n",
    "\n",
    "print(completion.choices[0].message.content)"
   ]
  }
 ],
 "metadata": {
  "kernelspec": {
   "display_name": "Python 3",
   "language": "python",
   "name": "python3"
  },
  "language_info": {
   "codemirror_mode": {
    "name": "ipython",
    "version": 3
   },
   "file_extension": ".py",
   "mimetype": "text/x-python",
   "name": "python",
   "nbconvert_exporter": "python",
   "pygments_lexer": "ipython3",
   "version": "3.11.3"
  }
 },
 "nbformat": 4,
 "nbformat_minor": 2
}
