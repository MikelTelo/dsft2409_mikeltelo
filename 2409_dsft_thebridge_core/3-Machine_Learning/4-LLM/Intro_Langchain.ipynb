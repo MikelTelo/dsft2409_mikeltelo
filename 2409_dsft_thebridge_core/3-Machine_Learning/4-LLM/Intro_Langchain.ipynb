{
 "cells": [
  {
   "cell_type": "markdown",
   "metadata": {},
   "source": [
    "## Intro Langchain"
   ]
  },
  {
   "cell_type": "markdown",
   "metadata": {},
   "source": [
    "\n",
    "LangChain es un marco para desarrollar aplicaciones alimentadas por modelos de lenguaje grandes (LLMs).\n",
    "\n",
    "LangChain simplifica cada etapa del ciclo de vida de la aplicación LLM:\n",
    "\n",
    "- **Desarrollo**:\n",
    "Construye tus aplicaciones utilizando los bloques de construcción y componentes de código abierto de LangChain. Comienza rápidamente utilizando integraciones de terceros y plantillas.\n",
    "\n",
    "- **Producción**:\n",
    "Utiliza LangSmith para inspeccionar, monitorear y evaluar tus cadenas, para que puedas optimizar y desplegar continuamente con confianza.\n",
    "\n",
    "- **Despliegue**:\n",
    "Convierte cualquier cadena en una API con LangServe.\n"
   ]
  },
  {
   "cell_type": "code",
   "execution_count": 3,
   "metadata": {},
   "outputs": [],
   "source": [
    "# !pip install langchain-openai"
   ]
  },
  {
   "cell_type": "code",
   "execution_count": 11,
   "metadata": {},
   "outputs": [],
   "source": [
    "from langchain_openai import ChatOpenAI\n",
    "\n",
    "llm = ChatOpenAI(api_key=\"\")"
   ]
  },
  {
   "cell_type": "code",
   "execution_count": 12,
   "metadata": {},
   "outputs": [
    {
     "name": "stdout",
     "output_type": "stream",
     "text": [
      "Python es un lenguaje de programación de alto nivel, interpretado y de propósito general. Fue creado por Guido van Rossum en 1991 y es conocido por su sintaxis simple y legible, lo que lo hace muy popular entre los programadores.\n",
      "\n",
      "Python es utilizado en una amplia variedad de aplicaciones, como desarrollo web, análisis de datos, inteligencia artificial, automatización de tareas, entre otros. Es un lenguaje versátil y potente que ofrece una gran cantidad de bibliotecas y herramientas que facilitan el desarrollo de software.\n",
      "\n",
      "Una de las características más destacadas de Python es su filosofía de legibilidad y simplicidad, lo que facilita la escritura y comprensión del código. Además, es un lenguaje multiplataforma, lo que significa que puede ser utilizado en diferentes sistemas operativos como Windows, macOS y Linux.\n",
      "\n",
      "En resumen, Python es un lenguaje de programación popular y versátil que se utiliza en una amplia variedad de industrias y aplicaciones debido a su facilidad de uso, potencia y flexibilidad.\n"
     ]
    }
   ],
   "source": [
    "print(llm.invoke(\"Explicame qué es python\").content)"
   ]
  },
  {
   "cell_type": "markdown",
   "metadata": {},
   "source": [
    "## Prompt Template"
   ]
  },
  {
   "cell_type": "code",
   "execution_count": 19,
   "metadata": {},
   "outputs": [],
   "source": [
    "from langchain_core.prompts import PromptTemplate\n",
    "\n",
    "prompt_template = PromptTemplate.from_template(\n",
    "    \"Explain me a {concept} in this language {language}.\"\n",
    ")"
   ]
  },
  {
   "cell_type": "code",
   "execution_count": 20,
   "metadata": {},
   "outputs": [
    {
     "name": "stdout",
     "output_type": "stream",
     "text": [
      "Una función de activación en una red neuronal es una función matemática que se aplica a la salida de cada neurona en una capa de la red. Su propósito es introducir no linealidad en el modelo, permitiendo a la red aprender patrones más complejos y no simplemente realizar operaciones lineales.\n",
      "\n",
      "Existen diferentes tipos de funciones de activación, como la función sigmoide, la función ReLU (Rectified Linear Unit), la función tangente hiperbólica, entre otras. Cada una de estas funciones tiene sus propias características y ventajas para diferentes tipos de problemas.\n",
      "\n",
      "En resumen, la función de activación es fundamental en el funcionamiento de una red neuronal, ya que permite que la red pueda aprender de manera más efectiva y capturar patrones más complejos en los datos de entrada.\n"
     ]
    }
   ],
   "source": [
    "print(llm.invoke(prompt_template.format(concept=\"activation function\", language=\"spanish\")).content)"
   ]
  }
 ],
 "metadata": {
  "kernelspec": {
   "display_name": "Python 3",
   "language": "python",
   "name": "python3"
  },
  "language_info": {
   "codemirror_mode": {
    "name": "ipython",
    "version": 3
   },
   "file_extension": ".py",
   "mimetype": "text/x-python",
   "name": "python",
   "nbconvert_exporter": "python",
   "pygments_lexer": "ipython3",
   "version": "3.11.3"
  }
 },
 "nbformat": 4,
 "nbformat_minor": 2
}
