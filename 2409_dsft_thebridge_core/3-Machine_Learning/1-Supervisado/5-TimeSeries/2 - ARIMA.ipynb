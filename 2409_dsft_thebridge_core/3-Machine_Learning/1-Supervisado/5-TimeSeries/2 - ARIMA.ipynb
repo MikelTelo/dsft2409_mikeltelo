{
 "cells": [
  {
   "cell_type": "markdown",
   "metadata": {},
   "source": [
    "## ARIMA"
   ]
  },
  {
   "cell_type": "markdown",
   "metadata": {
    "id": "-tOV_EFB7P4d"
   },
   "source": [
    "### AR & MA Models\n",
    "In time series, autoregression(AR) and moving average (MA) models provide a simple description of a process in terms of two factors--one for autoregression and the other for moving average. The AR part entails regressing the variable on its own lagged values. The idea is that the previous time period's value can help us predict the current time period's value. The MA part involves modeling the error term as a linear combination of error terms occurring at the same time step and at various times in the past.\n",
    "\n",
    "### Autoregressive Models\n",
    "Autoregressive (AR) Model is when present value of a time series can be predicted from using previous values of the same series. It's a regression using its same series, though shifted by a time step, called a lag. The present value is a weighted average of its past values. Both the t-1 and t-2 are lags of the time series y. The error term (noise) is represented as e. The values a1 and a2 are the coefficients of the model.\n",
    "\n",
    "AR(1) model: $y_{t}$ = $a_{1}$ $y_{t-1}$ + $e_{t}$\n",
    "\n",
    "AR(2) model: $y_{t}$ = $a_{1}$ $y_{t-1}$ + $a_{2}$ $y_{t-2}$ + $e_{t}$\n",
    "\n",
    "We typically represent the order of the model as p for an AR model such as AR(p).\n",
    "\n",
    "### Moving Average Models\n",
    "Moving average (MA) is a process where the present value of a time series, y, is defined as a linear combination of past errors. The error term (noise) is represented as e. Both the t-1 and t-2 are lags of the time on the errors.\n",
    "\n",
    "MA(1) model: $y_{t}$ = $m_{1}$ $e_{t-1}$ + $e_{t}$\n",
    "\n",
    "MA(2) model: $y_{t}$ = $m_{1}$ $e_{t-1}$ + $m_{2}$ $e_{t-2}$ + $e_{t}$\n",
    "\n",
    "We typically represent the order of the model as q for a MA model such as MA(q).\n",
    "\n",
    "### ARMA Models\n",
    "We can combine both Autoregressive and Moving Average models together to create an ARMA model. The time series is regressed on the previous values and the previous errors.\n",
    "\n",
    "ARMA(1,1) model: $y_{t}$ = $a_{1}$ $y_{t-1}$ + $m_{1}$ $e_{t-1}$\n",
    "\n",
    "For ARMA(p, q), p is the order of the AR process and q is the order of the MA process."
   ]
  },
  {
   "cell_type": "markdown",
   "metadata": {
    "id": "hnv4Dr-u7P4j"
   },
   "source": [
    "## Forecast quality metrics\n",
    "\n",
    "Before we begin forecasting, let's understand how to measure the quality of our predictions and take a look at the most commonly used metrics."
   ]
  },
  {
   "cell_type": "markdown",
   "metadata": {
    "id": "oTZY974Y7P4k"
   },
   "source": [
    "- [R squared](http://scikit-learn.org/stable/modules/model_evaluation.html#r2-score-the-coefficient-of-determination): coefficient of determination (in econometrics, this can be interpreted as the percentage of variance explained by the model), $(-\\infty, 1]$\n",
    "\n",
    "$R^2 = 1 - \\frac{SS_{res}}{SS_{tot}}$ \n",
    "\n",
    "```python\n",
    "sklearn.metrics.r2_score\n",
    "```\n",
    "---\n",
    "- [Mean Absolute Error](http://scikit-learn.org/stable/modules/model_evaluation.html#mean-absolute-error): this is an interpretable metric because it has the same unit of measurment as the initial series, $[0, +\\infty)$\n",
    "\n",
    "$MAE = \\frac{\\sum\\limits_{i=1}^{n} |y_i - \\hat{y}_i|}{n}$ \n",
    "\n",
    "```python\n",
    "sklearn.metrics.mean_absolute_error\n",
    "```\n",
    "---\n",
    "- [Median Absolute Error](http://scikit-learn.org/stable/modules/model_evaluation.html#median-absolute-error): again, an interpretable metric that is particularly interesting because it is robust to outliers, $[0, +\\infty)$\n",
    "\n",
    "$MedAE = median(|y_1 - \\hat{y}_1|, ... , |y_n - \\hat{y}_n|)$\n",
    "\n",
    "```python\n",
    "sklearn.metrics.median_absolute_error\n",
    "```\n",
    "---\n",
    "- [Mean Squared Error](http://scikit-learn.org/stable/modules/model_evaluation.html#mean-squared-error): the most commonly used metric that gives a higher penalty to large errors and vice versa, $[0, +\\infty)$\n",
    "\n",
    "$MSE = \\frac{1}{n}\\sum\\limits_{i=1}^{n} (y_i - \\hat{y}_i)^2$\n",
    "\n",
    "```python\n",
    "sklearn.metrics.mean_squared_error\n",
    "```\n",
    "---\n",
    "- [Mean Squared Logarithmic Error](http://scikit-learn.org/stable/modules/model_evaluation.html#mean-squared-logarithmic-error): practically, this is the same as MSE, but we take the logarithm of the series. As a result, we give more weight to small mistakes as well. This is usually used when the data has exponential trends, $[0, +\\infty)$\n",
    "\n",
    "$MSLE = \\frac{1}{n}\\sum\\limits_{i=1}^{n} (log(1+y_i) - log(1+\\hat{y}_i))^2$\n",
    "\n",
    "```python\n",
    "sklearn.metrics.mean_squared_log_error\n",
    "```\n",
    "---\n",
    "- Mean Absolute Percentage Error: this is the same as MAE but is computed as a percentage, which is very convenient when you want to explain the quality of the model to management, $[0, +\\infty)$\n",
    "\n",
    "$MAPE = \\frac{100}{n}\\sum\\limits_{i=1}^{n} \\frac{|y_i - \\hat{y}_i|}{y_i}$ \n",
    "\n",
    "```python\n",
    "def mean_absolute_percentage_error(y_true, y_pred): \n",
    "    return np.mean(np.abs((y_true - y_pred) / y_true)) * 100\n",
    "```"
   ]
  },
  {
   "cell_type": "markdown",
   "metadata": {
    "id": "JiRbRrhR7P4n"
   },
   "source": [
    "### Analítica\n",
    "Vamos a utilizar los datos de ventas de Johnson&Johnson"
   ]
  },
  {
   "cell_type": "code",
   "execution_count": 1,
   "metadata": {
    "id": "AhSxRW697P4p"
   },
   "outputs": [],
   "source": [
    "# librerias\n",
    "from statsmodels.tsa.stattools import pacf\n",
    "from statsmodels.tsa.stattools import acf\n",
    "from statsmodels.graphics.tsaplots import plot_pacf\n",
    "from statsmodels.graphics.tsaplots import plot_acf\n",
    "from statsmodels.tsa.stattools import adfuller\n",
    "\n",
    "from pmdarima.arima import auto_arima\n",
    "from pmdarima.arima import ARIMA\n",
    "\n",
    "import matplotlib.pyplot as plt\n",
    "import pandas as pd\n",
    "import numpy as np\n",
    "from sklearn.metrics import mean_squared_error\n",
    "\n",
    "import warnings\n",
    "warnings.filterwarnings('ignore')"
   ]
  },
  {
   "cell_type": "code",
   "execution_count": 2,
   "metadata": {
    "colab": {
     "base_uri": "https://localhost:8080/",
     "height": 255
    },
    "id": "wYMABi0H7P4s",
    "outputId": "4c7b9319-8f57-4d5e-abe8-d5d0a72c5fa9"
   },
   "outputs": [
    {
     "name": "stdout",
     "output_type": "stream",
     "text": [
      "84\n"
     ]
    },
    {
     "data": {
      "text/html": [
       "<div>\n",
       "<style scoped>\n",
       "    .dataframe tbody tr th:only-of-type {\n",
       "        vertical-align: middle;\n",
       "    }\n",
       "\n",
       "    .dataframe tbody tr th {\n",
       "        vertical-align: top;\n",
       "    }\n",
       "\n",
       "    .dataframe thead th {\n",
       "        text-align: right;\n",
       "    }\n",
       "</style>\n",
       "<table border=\"1\" class=\"dataframe\">\n",
       "  <thead>\n",
       "    <tr style=\"text-align: right;\">\n",
       "      <th></th>\n",
       "      <th>data</th>\n",
       "    </tr>\n",
       "    <tr>\n",
       "      <th>date</th>\n",
       "      <th></th>\n",
       "    </tr>\n",
       "  </thead>\n",
       "  <tbody>\n",
       "    <tr>\n",
       "      <th>1960-01-01</th>\n",
       "      <td>0.71</td>\n",
       "    </tr>\n",
       "    <tr>\n",
       "      <th>1960-04-01</th>\n",
       "      <td>0.63</td>\n",
       "    </tr>\n",
       "    <tr>\n",
       "      <th>1960-07-02</th>\n",
       "      <td>0.85</td>\n",
       "    </tr>\n",
       "    <tr>\n",
       "      <th>1960-10-01</th>\n",
       "      <td>0.44</td>\n",
       "    </tr>\n",
       "    <tr>\n",
       "      <th>1961-01-01</th>\n",
       "      <td>0.61</td>\n",
       "    </tr>\n",
       "  </tbody>\n",
       "</table>\n",
       "</div>"
      ],
      "text/plain": [
       "            data\n",
       "date            \n",
       "1960-01-01  0.71\n",
       "1960-04-01  0.63\n",
       "1960-07-02  0.85\n",
       "1960-10-01  0.44\n",
       "1961-01-01  0.61"
      ]
     },
     "execution_count": 2,
     "metadata": {},
     "output_type": "execute_result"
    }
   ],
   "source": [
    "data = pd.read_csv('data/jj.csv', index_col=0)\n",
    "print(len(data))\n",
    "data.head()"
   ]
  },
  {
   "cell_type": "code",
   "execution_count": 3,
   "metadata": {
    "colab": {
     "base_uri": "https://localhost:8080/",
     "height": 388
    },
    "id": "J65UimN17P4t",
    "outputId": "3c1002df-c859-4f7b-ff01-68ae518baa79"
   },
   "outputs": [
    {
     "data": {
      "image/png": "[encoded data removed]",
      "text/plain": [
       "<Figure size 1500x600 with 1 Axes>"
      ]
     },
     "metadata": {},
     "output_type": "display_data"
    }
   ],
   "source": [
    "data['data'].plot(figsize=(15,6));"
   ]
  },
  {
   "cell_type": "markdown",
   "metadata": {
    "id": "Y8OT-ZvS7P4u"
   },
   "source": [
    "Se aprecia en la gráfica que presenta diferentes estadísticos a lo largo del tiempo.\n",
    "\n",
    "Representamos su gráfica de autocorrelación. Vemos que tenemos muy complicado determinar el orden p y q, de cara al modelo ARIMA."
   ]
  },
  {
   "cell_type": "code",
   "execution_count": 4,
   "metadata": {
    "colab": {
     "base_uri": "https://localhost:8080/",
     "height": 281
    },
    "id": "G8bwnTuN7P4v",
    "outputId": "c8be9669-01bc-4410-cdaa-3064c5ccddf8"
   },
   "outputs": [
    {
     "data": {
      "image/png": "[encoded data removed]",
      "text/plain": [
       "<Figure size 640x480 with 1 Axes>"
      ]
     },
     "metadata": {},
     "output_type": "display_data"
    }
   ],
   "source": [
    "plot_acf(data['data']);"
   ]
  },
  {
   "cell_type": "markdown",
   "metadata": {
    "id": "F8m1iwxP7P4v"
   },
   "source": [
    "Dividimos en train y test"
   ]
  },
  {
   "cell_type": "code",
   "execution_count": 5,
   "metadata": {
    "id": "yFdJfFEN7P4w"
   },
   "outputs": [],
   "source": [
    "X = data['data'].values\n",
    "train = X[:70]\n",
    "test = X[70:]"
   ]
  },
  {
   "cell_type": "code",
   "execution_count": 6,
   "metadata": {},
   "outputs": [
    {
     "data": {
      "text/plain": [
       "84"
      ]
     },
     "execution_count": 6,
     "metadata": {},
     "output_type": "execute_result"
    }
   ],
   "source": [
    "len(X)"
   ]
  },
  {
   "cell_type": "code",
   "execution_count": 7,
   "metadata": {},
   "outputs": [
    {
     "data": {
      "text/plain": [
       "array([ 9.54    ,  8.729999, 11.88    , 12.06    , 12.15    ,  8.91    ,\n",
       "       14.04    , 12.96    , 14.85    ,  9.99    , 16.2     , 14.67    ,\n",
       "       16.02    , 11.61    ])"
      ]
     },
     "execution_count": 7,
     "metadata": {},
     "output_type": "execute_result"
    }
   ],
   "source": [
    "test"
   ]
  },
  {
   "cell_type": "code",
   "execution_count": 8,
   "metadata": {
    "colab": {
     "base_uri": "https://localhost:8080/"
    },
    "id": "mgp9_gOl_oH-",
    "outputId": "dfd4cd77-8753-4491-ff0b-257131da7df0"
   },
   "outputs": [
    {
     "data": {
      "text/plain": [
       "14"
      ]
     },
     "execution_count": 8,
     "metadata": {},
     "output_type": "execute_result"
    }
   ],
   "source": [
    "len(test)"
   ]
  },
  {
   "cell_type": "code",
   "execution_count": 9,
   "metadata": {},
   "outputs": [
    {
     "data": {
      "text/plain": [
       "array([ 0.71,  0.63,  0.85,  0.44,  0.61,  0.69,  0.92,  0.55,  0.72,\n",
       "        0.77,  0.92,  0.6 ,  0.83,  0.8 ,  1.  ,  0.77,  0.92,  1.  ,\n",
       "        1.24,  1.  ,  1.16,  1.3 ,  1.45,  1.25,  1.26,  1.38,  1.86,\n",
       "        1.56,  1.53,  1.59,  1.83,  1.86,  1.53,  2.07,  2.34,  2.25,\n",
       "        2.16,  2.43,  2.7 ,  2.25,  2.79,  3.42,  3.69,  3.6 ,  3.6 ,\n",
       "        4.32,  4.32,  4.05,  4.86,  5.04,  5.04,  4.41,  5.58,  5.85,\n",
       "        6.57,  5.31,  6.03,  6.39,  6.93,  5.85,  6.93,  7.74,  7.83,\n",
       "        6.12,  7.74,  8.91,  8.28,  6.84,  9.54, 10.26])"
      ]
     },
     "execution_count": 9,
     "metadata": {},
     "output_type": "execute_result"
    }
   ],
   "source": [
    "train"
   ]
  },
  {
   "cell_type": "code",
   "execution_count": 10,
   "metadata": {},
   "outputs": [
    {
     "data": {
      "text/plain": [
       "array([ 0.71,  0.63,  0.85,  0.44,  0.61,  0.69,  0.92,  0.55,  0.72,\n",
       "        0.77,  0.92,  0.6 ,  0.83,  0.8 ,  1.  ,  0.77,  0.92,  1.  ,\n",
       "        1.24,  1.  ,  1.16,  1.3 ,  1.45,  1.25,  1.26,  1.38,  1.86,\n",
       "        1.56,  1.53,  1.59,  1.83,  1.86,  1.53,  2.07,  2.34,  2.25,\n",
       "        2.16,  2.43,  2.7 ,  2.25,  2.79,  3.42,  3.69,  3.6 ,  3.6 ,\n",
       "        4.32,  4.32,  4.05,  4.86,  5.04,  5.04,  4.41,  5.58,  5.85,\n",
       "        6.57,  5.31,  6.03,  6.39,  6.93,  5.85,  6.93,  7.74,  7.83,\n",
       "        6.12,  7.74,  8.91,  8.28,  6.84,  9.54, 10.26])"
      ]
     },
     "execution_count": 10,
     "metadata": {},
     "output_type": "execute_result"
    }
   ],
   "source": [
    "train"
   ]
  },
  {
   "cell_type": "markdown",
   "metadata": {
    "id": "uY0oxsHX7P4w"
   },
   "source": [
    "## Autoregressive\n",
    "Tendremos que encontrar el orden de autoregression que mejor encaje con nuestros datos."
   ]
  },
  {
   "cell_type": "code",
   "execution_count": 11,
   "metadata": {
    "colab": {
     "base_uri": "https://localhost:8080/"
    },
    "id": "VEsK53AR7P4x",
    "outputId": "1d971d2e-bb91-468f-a75d-7c6a9c0959b5"
   },
   "outputs": [
    {
     "data": {
      "text/html": [
       "<style>#sk-container-id-1 {\n",
       "  /* Definition of color scheme common for light and dark mode */\n",
       "  --sklearn-color-text: black;\n",
       "  --sklearn-color-line: gray;\n",
       "  /* Definition of color scheme for unfitted estimators */\n",
       "  --sklearn-color-unfitted-level-0: #fff5e6;\n",
       "  --sklearn-color-unfitted-level-1: #f6e4d2;\n",
       "  --sklearn-color-unfitted-level-2: #ffe0b3;\n",
       "  --sklearn-color-unfitted-level-3: chocolate;\n",
       "  /* Definition of color scheme for fitted estimators */\n",
       "  --sklearn-color-fitted-level-0: #f0f8ff;\n",
       "  --sklearn-color-fitted-level-1: #d4ebff;\n",
       "  --sklearn-color-fitted-level-2: #b3dbfd;\n",
       "  --sklearn-color-fitted-level-3: cornflowerblue;\n",
       "\n",
       "  /* Specific color for light theme */\n",
       "  --sklearn-color-text-on-default-background: var(--sg-text-color, var(--theme-code-foreground, var(--jp-content-font-color1, black)));\n",
       "  --sklearn-color-background: var(--sg-background-color, var(--theme-background, var(--jp-layout-color0, white)));\n",
       "  --sklearn-color-border-box: var(--sg-text-color, var(--theme-code-foreground, var(--jp-content-font-color1, black)));\n",
       "  --sklearn-color-icon: #696969;\n",
       "\n",
       "  @media (prefers-color-scheme: dark) {\n",
       "    /* Redefinition of color scheme for dark theme */\n",
       "    --sklearn-color-text-on-default-background: var(--sg-text-color, var(--theme-code-foreground, var(--jp-content-font-color1, white)));\n",
       "    --sklearn-color-background: var(--sg-background-color, var(--theme-background, var(--jp-layout-color0, #111)));\n",
       "    --sklearn-color-border-box: var(--sg-text-color, var(--theme-code-foreground, var(--jp-content-font-color1, white)));\n",
       "    --sklearn-color-icon: #878787;\n",
       "  }\n",
       "}\n",
       "\n",
       "#sk-container-id-1 {\n",
       "  color: var(--sklearn-color-text);\n",
       "}\n",
       "\n",
       "#sk-container-id-1 pre {\n",
       "  padding: 0;\n",
       "}\n",
       "\n",
       "#sk-container-id-1 input.sk-hidden--visually {\n",
       "  border: 0;\n",
       "  clip: rect(1px 1px 1px 1px);\n",
       "  clip: rect(1px, 1px, 1px, 1px);\n",
       "  height: 1px;\n",
       "  margin: -1px;\n",
       "  overflow: hidden;\n",
       "  padding: 0;\n",
       "  position: absolute;\n",
       "  width: 1px;\n",
       "}\n",
       "\n",
       "#sk-container-id-1 div.sk-dashed-wrapped {\n",
       "  border: 1px dashed var(--sklearn-color-line);\n",
       "  margin: 0 0.4em 0.5em 0.4em;\n",
       "  box-sizing: border-box;\n",
       "  padding-bottom: 0.4em;\n",
       "  background-color: var(--sklearn-color-background);\n",
       "}\n",
       "\n",
       "#sk-container-id-1 div.sk-container {\n",
       "  /* jupyter's `normalize.less` sets `[hidden] { display: none; }`\n",
       "     but bootstrap.min.css set `[hidden] { display: none !important; }`\n",
       "     so we also need the `!important` here to be able to override the\n",
       "     default hidden behavior on the sphinx rendered scikit-learn.org.\n",
       "     See: https://github.com/scikit-learn/scikit-learn/issues/21755 */\n",
       "  display: inline-block !important;\n",
       "  position: relative;\n",
       "}\n",
       "\n",
       "#sk-container-id-1 div.sk-text-repr-fallback {\n",
       "  display: none;\n",
       "}\n",
       "\n",
       "div.sk-parallel-item,\n",
       "div.sk-serial,\n",
       "div.sk-item {\n",
       "  /* draw centered vertical line to link estimators */\n",
       "  background-image: linear-gradient(var(--sklearn-color-text-on-default-background), var(--sklearn-color-text-on-default-background));\n",
       "  background-size: 2px 100%;\n",
       "  background-repeat: no-repeat;\n",
       "  background-position: center center;\n",
       "}\n",
       "\n",
       "/* Parallel-specific style estimator block */\n",
       "\n",
       "#sk-container-id-1 div.sk-parallel-item::after {\n",
       "  content: \"\";\n",
       "  width: 100%;\n",
       "  border-bottom: 2px solid var(--sklearn-color-text-on-default-background);\n",
       "  flex-grow: 1;\n",
       "}\n",
       "\n",
       "#sk-container-id-1 div.sk-parallel {\n",
       "  display: flex;\n",
       "  align-items: stretch;\n",
       "  justify-content: center;\n",
       "  background-color: var(--sklearn-color-background);\n",
       "  position: relative;\n",
       "}\n",
       "\n",
       "#sk-container-id-1 div.sk-parallel-item {\n",
       "  display: flex;\n",
       "  flex-direction: column;\n",
       "}\n",
       "\n",
       "#sk-container-id-1 div.sk-parallel-item:first-child::after {\n",
       "  align-self: flex-end;\n",
       "  width: 50%;\n",
       "}\n",
       "\n",
       "#sk-container-id-1 div.sk-parallel-item:last-child::after {\n",
       "  align-self: flex-start;\n",
       "  width: 50%;\n",
       "}\n",
       "\n",
       "#sk-container-id-1 div.sk-parallel-item:only-child::after {\n",
       "  width: 0;\n",
       "}\n",
       "\n",
       "/* Serial-specific style estimator block */\n",
       "\n",
       "#sk-container-id-1 div.sk-serial {\n",
       "  display: flex;\n",
       "  flex-direction: column;\n",
       "  align-items: center;\n",
       "  background-color: var(--sklearn-color-background);\n",
       "  padding-right: 1em;\n",
       "  padding-left: 1em;\n",
       "}\n",
       "\n",
       "\n",
       "/* Toggleable style: style used for estimator/Pipeline/ColumnTransformer box that is\n",
       "clickable and can be expanded/collapsed.\n",
       "- Pipeline and ColumnTransformer use this feature and define the default style\n",
       "- Estimators will overwrite some part of the style using the `sk-estimator` class\n",
       "*/\n",
       "\n",
       "/* Pipeline and ColumnTransformer style (default) */\n",
       "\n",
       "#sk-container-id-1 div.sk-toggleable {\n",
       "  /* Default theme specific background. It is overwritten whether we have a\n",
       "  specific estimator or a Pipeline/ColumnTransformer */\n",
       "  background-color: var(--sklearn-color-background);\n",
       "}\n",
       "\n",
       "/* Toggleable label */\n",
       "#sk-container-id-1 label.sk-toggleable__label {\n",
       "  cursor: pointer;\n",
       "  display: block;\n",
       "  width: 100%;\n",
       "  margin-bottom: 0;\n",
       "  padding: 0.5em;\n",
       "  box-sizing: border-box;\n",
       "  text-align: center;\n",
       "}\n",
       "\n",
       "#sk-container-id-1 label.sk-toggleable__label-arrow:before {\n",
       "  /* Arrow on the left of the label */\n",
       "  content: \"▸\";\n",
       "  float: left;\n",
       "  margin-right: 0.25em;\n",
       "  color: var(--sklearn-color-icon);\n",
       "}\n",
       "\n",
       "#sk-container-id-1 label.sk-toggleable__label-arrow:hover:before {\n",
       "  color: var(--sklearn-color-text);\n",
       "}\n",
       "\n",
       "/* Toggleable content - dropdown */\n",
       "\n",
       "#sk-container-id-1 div.sk-toggleable__content {\n",
       "  max-height: 0;\n",
       "  max-width: 0;\n",
       "  overflow: hidden;\n",
       "  text-align: left;\n",
       "  /* unfitted */\n",
       "  background-color: var(--sklearn-color-unfitted-level-0);\n",
       "}\n",
       "\n",
       "#sk-container-id-1 div.sk-toggleable__content.fitted {\n",
       "  /* fitted */\n",
       "  background-color: var(--sklearn-color-fitted-level-0);\n",
       "}\n",
       "\n",
       "#sk-container-id-1 div.sk-toggleable__content pre {\n",
       "  margin: 0.2em;\n",
       "  border-radius: 0.25em;\n",
       "  color: var(--sklearn-color-text);\n",
       "  /* unfitted */\n",
       "  background-color: var(--sklearn-color-unfitted-level-0);\n",
       "}\n",
       "\n",
       "#sk-container-id-1 div.sk-toggleable__content.fitted pre {\n",
       "  /* unfitted */\n",
       "  background-color: var(--sklearn-color-fitted-level-0);\n",
       "}\n",
       "\n",
       "#sk-container-id-1 input.sk-toggleable__control:checked~div.sk-toggleable__content {\n",
       "  /* Expand drop-down */\n",
       "  max-height: 200px;\n",
       "  max-width: 100%;\n",
       "  overflow: auto;\n",
       "}\n",
       "\n",
       "#sk-container-id-1 input.sk-toggleable__control:checked~label.sk-toggleable__label-arrow:before {\n",
       "  content: \"▾\";\n",
       "}\n",
       "\n",
       "/* Pipeline/ColumnTransformer-specific style */\n",
       "\n",
       "#sk-container-id-1 div.sk-label input.sk-toggleable__control:checked~label.sk-toggleable__label {\n",
       "  color: var(--sklearn-color-text);\n",
       "  background-color: var(--sklearn-color-unfitted-level-2);\n",
       "}\n",
       "\n",
       "#sk-container-id-1 div.sk-label.fitted input.sk-toggleable__control:checked~label.sk-toggleable__label {\n",
       "  background-color: var(--sklearn-color-fitted-level-2);\n",
       "}\n",
       "\n",
       "/* Estimator-specific style */\n",
       "\n",
       "/* Colorize estimator box */\n",
       "#sk-container-id-1 div.sk-estimator input.sk-toggleable__control:checked~label.sk-toggleable__label {\n",
       "  /* unfitted */\n",
       "  background-color: var(--sklearn-color-unfitted-level-2);\n",
       "}\n",
       "\n",
       "#sk-container-id-1 div.sk-estimator.fitted input.sk-toggleable__control:checked~label.sk-toggleable__label {\n",
       "  /* fitted */\n",
       "  background-color: var(--sklearn-color-fitted-level-2);\n",
       "}\n",
       "\n",
       "#sk-container-id-1 div.sk-label label.sk-toggleable__label,\n",
       "#sk-container-id-1 div.sk-label label {\n",
       "  /* The background is the default theme color */\n",
       "  color: var(--sklearn-color-text-on-default-background);\n",
       "}\n",
       "\n",
       "/* On hover, darken the color of the background */\n",
       "#sk-container-id-1 div.sk-label:hover label.sk-toggleable__label {\n",
       "  color: var(--sklearn-color-text);\n",
       "  background-color: var(--sklearn-color-unfitted-level-2);\n",
       "}\n",
       "\n",
       "/* Label box, darken color on hover, fitted */\n",
       "#sk-container-id-1 div.sk-label.fitted:hover label.sk-toggleable__label.fitted {\n",
       "  color: var(--sklearn-color-text);\n",
       "  background-color: var(--sklearn-color-fitted-level-2);\n",
       "}\n",
       "\n",
       "/* Estimator label */\n",
       "\n",
       "#sk-container-id-1 div.sk-label label {\n",
       "  font-family: monospace;\n",
       "  font-weight: bold;\n",
       "  display: inline-block;\n",
       "  line-height: 1.2em;\n",
       "}\n",
       "\n",
       "#sk-container-id-1 div.sk-label-container {\n",
       "  text-align: center;\n",
       "}\n",
       "\n",
       "/* Estimator-specific */\n",
       "#sk-container-id-1 div.sk-estimator {\n",
       "  font-family: monospace;\n",
       "  border: 1px dotted var(--sklearn-color-border-box);\n",
       "  border-radius: 0.25em;\n",
       "  box-sizing: border-box;\n",
       "  margin-bottom: 0.5em;\n",
       "  /* unfitted */\n",
       "  background-color: var(--sklearn-color-unfitted-level-0);\n",
       "}\n",
       "\n",
       "#sk-container-id-1 div.sk-estimator.fitted {\n",
       "  /* fitted */\n",
       "  background-color: var(--sklearn-color-fitted-level-0);\n",
       "}\n",
       "\n",
       "/* on hover */\n",
       "#sk-container-id-1 div.sk-estimator:hover {\n",
       "  /* unfitted */\n",
       "  background-color: var(--sklearn-color-unfitted-level-2);\n",
       "}\n",
       "\n",
       "#sk-container-id-1 div.sk-estimator.fitted:hover {\n",
       "  /* fitted */\n",
       "  background-color: var(--sklearn-color-fitted-level-2);\n",
       "}\n",
       "\n",
       "/* Specification for estimator info (e.g. \"i\" and \"?\") */\n",
       "\n",
       "/* Common style for \"i\" and \"?\" */\n",
       "\n",
       ".sk-estimator-doc-link,\n",
       "a:link.sk-estimator-doc-link,\n",
       "a:visited.sk-estimator-doc-link {\n",
       "  float: right;\n",
       "  font-size: smaller;\n",
       "  line-height: 1em;\n",
       "  font-family: monospace;\n",
       "  background-color: var(--sklearn-color-background);\n",
       "  border-radius: 1em;\n",
       "  height: 1em;\n",
       "  width: 1em;\n",
       "  text-decoration: none !important;\n",
       "  margin-left: 1ex;\n",
       "  /* unfitted */\n",
       "  border: var(--sklearn-color-unfitted-level-1) 1pt solid;\n",
       "  color: var(--sklearn-color-unfitted-level-1);\n",
       "}\n",
       "\n",
       ".sk-estimator-doc-link.fitted,\n",
       "a:link.sk-estimator-doc-link.fitted,\n",
       "a:visited.sk-estimator-doc-link.fitted {\n",
       "  /* fitted */\n",
       "  border: var(--sklearn-color-fitted-level-1) 1pt solid;\n",
       "  color: var(--sklearn-color-fitted-level-1);\n",
       "}\n",
       "\n",
       "/* On hover */\n",
       "div.sk-estimator:hover .sk-estimator-doc-link:hover,\n",
       ".sk-estimator-doc-link:hover,\n",
       "div.sk-label-container:hover .sk-estimator-doc-link:hover,\n",
       ".sk-estimator-doc-link:hover {\n",
       "  /* unfitted */\n",
       "  background-color: var(--sklearn-color-unfitted-level-3);\n",
       "  color: var(--sklearn-color-background);\n",
       "  text-decoration: none;\n",
       "}\n",
       "\n",
       "div.sk-estimator.fitted:hover .sk-estimator-doc-link.fitted:hover,\n",
       ".sk-estimator-doc-link.fitted:hover,\n",
       "div.sk-label-container:hover .sk-estimator-doc-link.fitted:hover,\n",
       ".sk-estimator-doc-link.fitted:hover {\n",
       "  /* fitted */\n",
       "  background-color: var(--sklearn-color-fitted-level-3);\n",
       "  color: var(--sklearn-color-background);\n",
       "  text-decoration: none;\n",
       "}\n",
       "\n",
       "/* Span, style for the box shown on hovering the info icon */\n",
       ".sk-estimator-doc-link span {\n",
       "  display: none;\n",
       "  z-index: 9999;\n",
       "  position: relative;\n",
       "  font-weight: normal;\n",
       "  right: .2ex;\n",
       "  padding: .5ex;\n",
       "  margin: .5ex;\n",
       "  width: min-content;\n",
       "  min-width: 20ex;\n",
       "  max-width: 50ex;\n",
       "  color: var(--sklearn-color-text);\n",
       "  box-shadow: 2pt 2pt 4pt #999;\n",
       "  /* unfitted */\n",
       "  background: var(--sklearn-color-unfitted-level-0);\n",
       "  border: .5pt solid var(--sklearn-color-unfitted-level-3);\n",
       "}\n",
       "\n",
       ".sk-estimator-doc-link.fitted span {\n",
       "  /* fitted */\n",
       "  background: var(--sklearn-color-fitted-level-0);\n",
       "  border: var(--sklearn-color-fitted-level-3);\n",
       "}\n",
       "\n",
       ".sk-estimator-doc-link:hover span {\n",
       "  display: block;\n",
       "}\n",
       "\n",
       "/* \"?\"-specific style due to the `<a>` HTML tag */\n",
       "\n",
       "#sk-container-id-1 a.estimator_doc_link {\n",
       "  float: right;\n",
       "  font-size: 1rem;\n",
       "  line-height: 1em;\n",
       "  font-family: monospace;\n",
       "  background-color: var(--sklearn-color-background);\n",
       "  border-radius: 1rem;\n",
       "  height: 1rem;\n",
       "  width: 1rem;\n",
       "  text-decoration: none;\n",
       "  /* unfitted */\n",
       "  color: var(--sklearn-color-unfitted-level-1);\n",
       "  border: var(--sklearn-color-unfitted-level-1) 1pt solid;\n",
       "}\n",
       "\n",
       "#sk-container-id-1 a.estimator_doc_link.fitted {\n",
       "  /* fitted */\n",
       "  border: var(--sklearn-color-fitted-level-1) 1pt solid;\n",
       "  color: var(--sklearn-color-fitted-level-1);\n",
       "}\n",
       "\n",
       "/* On hover */\n",
       "#sk-container-id-1 a.estimator_doc_link:hover {\n",
       "  /* unfitted */\n",
       "  background-color: var(--sklearn-color-unfitted-level-3);\n",
       "  color: var(--sklearn-color-background);\n",
       "  text-decoration: none;\n",
       "}\n",
       "\n",
       "#sk-container-id-1 a.estimator_doc_link.fitted:hover {\n",
       "  /* fitted */\n",
       "  background-color: var(--sklearn-color-fitted-level-3);\n",
       "}\n",
       "</style><div id=\"sk-container-id-1\" class=\"sk-top-container\"><div class=\"sk-text-repr-fallback\"><pre> ARIMA(1,0,0)(0,0,0)[0] intercept</pre><b>In a Jupyter environment, please rerun this cell to show the HTML representation or trust the notebook. <br />On GitHub, the HTML representation is unable to render, please try loading this page with nbviewer.org.</b></div><div class=\"sk-container\" hidden><div class=\"sk-item\"><div class=\"sk-estimator fitted sk-toggleable\"><input class=\"sk-toggleable__control sk-hidden--visually\" id=\"sk-estimator-id-1\" type=\"checkbox\" checked><label for=\"sk-estimator-id-1\" class=\"sk-toggleable__label fitted sk-toggleable__label-arrow fitted\">&nbsp;ARIMA<span class=\"sk-estimator-doc-link fitted\">i<span>Fitted</span></span></label><div class=\"sk-toggleable__content fitted\"><pre> ARIMA(1,0,0)(0,0,0)[0] intercept</pre></div> </div></div></div></div>"
      ],
      "text/plain": [
       "ARIMA(order=(1, 0, 0))"
      ]
     },
     "execution_count": 11,
     "metadata": {},
     "output_type": "execute_result"
    }
   ],
   "source": [
    "model_ar = ARIMA(order=(1,0,0))\n",
    "model_ar.fit(train)"
   ]
  },
  {
   "cell_type": "code",
   "execution_count": 12,
   "metadata": {},
   "outputs": [
    {
     "data": {
      "text/plain": [
       "array([ 9.54    ,  8.729999, 11.88    , 12.06    , 12.15    ,  8.91    ,\n",
       "       14.04    , 12.96    , 14.85    ,  9.99    , 16.2     , 14.67    ,\n",
       "       16.02    , 11.61    ])"
      ]
     },
     "execution_count": 12,
     "metadata": {},
     "output_type": "execute_result"
    }
   ],
   "source": [
    "test"
   ]
  },
  {
   "cell_type": "code",
   "execution_count": 13,
   "metadata": {
    "colab": {
     "base_uri": "https://localhost:8080/"
    },
    "id": "u5g2cQVS7P4x",
    "outputId": "eede7a4a-44e6-497f-d564-62bcd9a33596"
   },
   "outputs": [
    {
     "name": "stdout",
     "output_type": "stream",
     "text": [
      "root_mean_squared_error: 3.7011908144310484\n"
     ]
    }
   ],
   "source": [
    "predictions = model_ar.predict(14)\n",
    "print(\"root_mean_squared_error:\", np.sqrt(mean_squared_error(test, predictions)))"
   ]
  },
  {
   "cell_type": "code",
   "execution_count": 14,
   "metadata": {},
   "outputs": [
    {
     "data": {
      "text/plain": [
       "array([10.18960874, 10.12012387, 10.05153371,  9.98382676,  9.91699163,\n",
       "        9.8510171 ,  9.78589208,  9.72160565,  9.65814699,  9.59550546,\n",
       "        9.53367053,  9.47263181,  9.41237906,  9.35290214])"
      ]
     },
     "execution_count": 14,
     "metadata": {},
     "output_type": "execute_result"
    }
   ],
   "source": [
    "predictions"
   ]
  },
  {
   "cell_type": "code",
   "execution_count": 15,
   "metadata": {
    "colab": {
     "base_uri": "https://localhost:8080/",
     "height": 265
    },
    "id": "-68pRbVF7P4x",
    "outputId": "d9128fe2-66bb-439d-9330-196ac426625d"
   },
   "outputs": [
    {
     "data": {
      "image/png": "[encoded data removed]",
      "text/plain": [
       "<Figure size 640x480 with 1 Axes>"
      ]
     },
     "metadata": {},
     "output_type": "display_data"
    }
   ],
   "source": [
    "plt.plot(test)\n",
    "plt.plot(predictions,color='red');"
   ]
  },
  {
   "cell_type": "markdown",
   "metadata": {
    "id": "KKPfJcHn7P4y"
   },
   "source": [
    "No parece que de buen resultado el AR(1,0,0). Probemos diferentes lags, a ver cuál sería el mejor"
   ]
  },
  {
   "cell_type": "code",
   "execution_count": 16,
   "metadata": {
    "colab": {
     "base_uri": "https://localhost:8080/",
     "height": 265
    },
    "id": "XFbSSsuV7P4y",
    "outputId": "7bd6bf77-5444-4198-91f0-0455b13d33d3"
   },
   "outputs": [
    {
     "data": {
      "image/png": "[encoded data removed]",
      "text/plain": [
       "<Figure size 640x480 with 1 Axes>"
      ]
     },
     "metadata": {},
     "output_type": "display_data"
    }
   ],
   "source": [
    "lags = []\n",
    "mse = []\n",
    "for lag in range(1, 15):\n",
    "    try:\n",
    "        model_ar = ARIMA(order=(lag, 0, 0))\n",
    "        model_ar.fit(train)\n",
    "        lags.append(lag)\n",
    "        predictions = model_ar.predict(14)\n",
    "        mse.append(mean_squared_error(test, predictions))\n",
    "    except:\n",
    "        continue\n",
    "    \n",
    "plt.plot(lags, mse);"
   ]
  },
  {
   "cell_type": "markdown",
   "metadata": {
    "id": "VOjCWwAb7P4z"
   },
   "source": [
    "Un parámetro p>5 parece que da buen resultado, pero aun asi es muy alto el error."
   ]
  },
  {
   "cell_type": "markdown",
   "metadata": {
    "id": "qJ1c2dKI7P4z"
   },
   "source": [
    "## Moving Average\n",
    "En este caso tendremos en cuenta los errores. El problema es que si tenemos muchos errores al principio, los iremos arrastrando durante las predicciones."
   ]
  },
  {
   "cell_type": "code",
   "execution_count": 17,
   "metadata": {
    "colab": {
     "base_uri": "https://localhost:8080/"
    },
    "id": "LZwu3veQ7P40",
    "outputId": "27af0d90-f315-44d2-cd13-6a655bd8ce89"
   },
   "outputs": [
    {
     "data": {
      "text/html": [
       "<style>#sk-container-id-2 {\n",
       "  /* Definition of color scheme common for light and dark mode */\n",
       "  --sklearn-color-text: black;\n",
       "  --sklearn-color-line: gray;\n",
       "  /* Definition of color scheme for unfitted estimators */\n",
       "  --sklearn-color-unfitted-level-0: #fff5e6;\n",
       "  --sklearn-color-unfitted-level-1: #f6e4d2;\n",
       "  --sklearn-color-unfitted-level-2: #ffe0b3;\n",
       "  --sklearn-color-unfitted-level-3: chocolate;\n",
       "  /* Definition of color scheme for fitted estimators */\n",
       "  --sklearn-color-fitted-level-0: #f0f8ff;\n",
       "  --sklearn-color-fitted-level-1: #d4ebff;\n",
       "  --sklearn-color-fitted-level-2: #b3dbfd;\n",
       "  --sklearn-color-fitted-level-3: cornflowerblue;\n",
       "\n",
       "  /* Specific color for light theme */\n",
       "  --sklearn-color-text-on-default-background: var(--sg-text-color, var(--theme-code-foreground, var(--jp-content-font-color1, black)));\n",
       "  --sklearn-color-background: var(--sg-background-color, var(--theme-background, var(--jp-layout-color0, white)));\n",
       "  --sklearn-color-border-box: var(--sg-text-color, var(--theme-code-foreground, var(--jp-content-font-color1, black)));\n",
       "  --sklearn-color-icon: #696969;\n",
       "\n",
       "  @media (prefers-color-scheme: dark) {\n",
       "    /* Redefinition of color scheme for dark theme */\n",
       "    --sklearn-color-text-on-default-background: var(--sg-text-color, var(--theme-code-foreground, var(--jp-content-font-color1, white)));\n",
       "    --sklearn-color-background: var(--sg-background-color, var(--theme-background, var(--jp-layout-color0, #111)));\n",
       "    --sklearn-color-border-box: var(--sg-text-color, var(--theme-code-foreground, var(--jp-content-font-color1, white)));\n",
       "    --sklearn-color-icon: #878787;\n",
       "  }\n",
       "}\n",
       "\n",
       "#sk-container-id-2 {\n",
       "  color: var(--sklearn-color-text);\n",
       "}\n",
       "\n",
       "#sk-container-id-2 pre {\n",
       "  padding: 0;\n",
       "}\n",
       "\n",
       "#sk-container-id-2 input.sk-hidden--visually {\n",
       "  border: 0;\n",
       "  clip: rect(1px 1px 1px 1px);\n",
       "  clip: rect(1px, 1px, 1px, 1px);\n",
       "  height: 1px;\n",
       "  margin: -1px;\n",
       "  overflow: hidden;\n",
       "  padding: 0;\n",
       "  position: absolute;\n",
       "  width: 1px;\n",
       "}\n",
       "\n",
       "#sk-container-id-2 div.sk-dashed-wrapped {\n",
       "  border: 1px dashed var(--sklearn-color-line);\n",
       "  margin: 0 0.4em 0.5em 0.4em;\n",
       "  box-sizing: border-box;\n",
       "  padding-bottom: 0.4em;\n",
       "  background-color: var(--sklearn-color-background);\n",
       "}\n",
       "\n",
       "#sk-container-id-2 div.sk-container {\n",
       "  /* jupyter's `normalize.less` sets `[hidden] { display: none; }`\n",
       "     but bootstrap.min.css set `[hidden] { display: none !important; }`\n",
       "     so we also need the `!important` here to be able to override the\n",
       "     default hidden behavior on the sphinx rendered scikit-learn.org.\n",
       "     See: https://github.com/scikit-learn/scikit-learn/issues/21755 */\n",
       "  display: inline-block !important;\n",
       "  position: relative;\n",
       "}\n",
       "\n",
       "#sk-container-id-2 div.sk-text-repr-fallback {\n",
       "  display: none;\n",
       "}\n",
       "\n",
       "div.sk-parallel-item,\n",
       "div.sk-serial,\n",
       "div.sk-item {\n",
       "  /* draw centered vertical line to link estimators */\n",
       "  background-image: linear-gradient(var(--sklearn-color-text-on-default-background), var(--sklearn-color-text-on-default-background));\n",
       "  background-size: 2px 100%;\n",
       "  background-repeat: no-repeat;\n",
       "  background-position: center center;\n",
       "}\n",
       "\n",
       "/* Parallel-specific style estimator block */\n",
       "\n",
       "#sk-container-id-2 div.sk-parallel-item::after {\n",
       "  content: \"\";\n",
       "  width: 100%;\n",
       "  border-bottom: 2px solid var(--sklearn-color-text-on-default-background);\n",
       "  flex-grow: 1;\n",
       "}\n",
       "\n",
       "#sk-container-id-2 div.sk-parallel {\n",
       "  display: flex;\n",
       "  align-items: stretch;\n",
       "  justify-content: center;\n",
       "  background-color: var(--sklearn-color-background);\n",
       "  position: relative;\n",
       "}\n",
       "\n",
       "#sk-container-id-2 div.sk-parallel-item {\n",
       "  display: flex;\n",
       "  flex-direction: column;\n",
       "}\n",
       "\n",
       "#sk-container-id-2 div.sk-parallel-item:first-child::after {\n",
       "  align-self: flex-end;\n",
       "  width: 50%;\n",
       "}\n",
       "\n",
       "#sk-container-id-2 div.sk-parallel-item:last-child::after {\n",
       "  align-self: flex-start;\n",
       "  width: 50%;\n",
       "}\n",
       "\n",
       "#sk-container-id-2 div.sk-parallel-item:only-child::after {\n",
       "  width: 0;\n",
       "}\n",
       "\n",
       "/* Serial-specific style estimator block */\n",
       "\n",
       "#sk-container-id-2 div.sk-serial {\n",
       "  display: flex;\n",
       "  flex-direction: column;\n",
       "  align-items: center;\n",
       "  background-color: var(--sklearn-color-background);\n",
       "  padding-right: 1em;\n",
       "  padding-left: 1em;\n",
       "}\n",
       "\n",
       "\n",
       "/* Toggleable style: style used for estimator/Pipeline/ColumnTransformer box that is\n",
       "clickable and can be expanded/collapsed.\n",
       "- Pipeline and ColumnTransformer use this feature and define the default style\n",
       "- Estimators will overwrite some part of the style using the `sk-estimator` class\n",
       "*/\n",
       "\n",
       "/* Pipeline and ColumnTransformer style (default) */\n",
       "\n",
       "#sk-container-id-2 div.sk-toggleable {\n",
       "  /* Default theme specific background. It is overwritten whether we have a\n",
       "  specific estimator or a Pipeline/ColumnTransformer */\n",
       "  background-color: var(--sklearn-color-background);\n",
       "}\n",
       "\n",
       "/* Toggleable label */\n",
       "#sk-container-id-2 label.sk-toggleable__label {\n",
       "  cursor: pointer;\n",
       "  display: block;\n",
       "  width: 100%;\n",
       "  margin-bottom: 0;\n",
       "  padding: 0.5em;\n",
       "  box-sizing: border-box;\n",
       "  text-align: center;\n",
       "}\n",
       "\n",
       "#sk-container-id-2 label.sk-toggleable__label-arrow:before {\n",
       "  /* Arrow on the left of the label */\n",
       "  content: \"▸\";\n",
       "  float: left;\n",
       "  margin-right: 0.25em;\n",
       "  color: var(--sklearn-color-icon);\n",
       "}\n",
       "\n",
       "#sk-container-id-2 label.sk-toggleable__label-arrow:hover:before {\n",
       "  color: var(--sklearn-color-text);\n",
       "}\n",
       "\n",
       "/* Toggleable content - dropdown */\n",
       "\n",
       "#sk-container-id-2 div.sk-toggleable__content {\n",
       "  max-height: 0;\n",
       "  max-width: 0;\n",
       "  overflow: hidden;\n",
       "  text-align: left;\n",
       "  /* unfitted */\n",
       "  background-color: var(--sklearn-color-unfitted-level-0);\n",
       "}\n",
       "\n",
       "#sk-container-id-2 div.sk-toggleable__content.fitted {\n",
       "  /* fitted */\n",
       "  background-color: var(--sklearn-color-fitted-level-0);\n",
       "}\n",
       "\n",
       "#sk-container-id-2 div.sk-toggleable__content pre {\n",
       "  margin: 0.2em;\n",
       "  border-radius: 0.25em;\n",
       "  color: var(--sklearn-color-text);\n",
       "  /* unfitted */\n",
       "  background-color: var(--sklearn-color-unfitted-level-0);\n",
       "}\n",
       "\n",
       "#sk-container-id-2 div.sk-toggleable__content.fitted pre {\n",
       "  /* unfitted */\n",
       "  background-color: var(--sklearn-color-fitted-level-0);\n",
       "}\n",
       "\n",
       "#sk-container-id-2 input.sk-toggleable__control:checked~div.sk-toggleable__content {\n",
       "  /* Expand drop-down */\n",
       "  max-height: 200px;\n",
       "  max-width: 100%;\n",
       "  overflow: auto;\n",
       "}\n",
       "\n",
       "#sk-container-id-2 input.sk-toggleable__control:checked~label.sk-toggleable__label-arrow:before {\n",
       "  content: \"▾\";\n",
       "}\n",
       "\n",
       "/* Pipeline/ColumnTransformer-specific style */\n",
       "\n",
       "#sk-container-id-2 div.sk-label input.sk-toggleable__control:checked~label.sk-toggleable__label {\n",
       "  color: var(--sklearn-color-text);\n",
       "  background-color: var(--sklearn-color-unfitted-level-2);\n",
       "}\n",
       "\n",
       "#sk-container-id-2 div.sk-label.fitted input.sk-toggleable__control:checked~label.sk-toggleable__label {\n",
       "  background-color: var(--sklearn-color-fitted-level-2);\n",
       "}\n",
       "\n",
       "/* Estimator-specific style */\n",
       "\n",
       "/* Colorize estimator box */\n",
       "#sk-container-id-2 div.sk-estimator input.sk-toggleable__control:checked~label.sk-toggleable__label {\n",
       "  /* unfitted */\n",
       "  background-color: var(--sklearn-color-unfitted-level-2);\n",
       "}\n",
       "\n",
       "#sk-container-id-2 div.sk-estimator.fitted input.sk-toggleable__control:checked~label.sk-toggleable__label {\n",
       "  /* fitted */\n",
       "  background-color: var(--sklearn-color-fitted-level-2);\n",
       "}\n",
       "\n",
       "#sk-container-id-2 div.sk-label label.sk-toggleable__label,\n",
       "#sk-container-id-2 div.sk-label label {\n",
       "  /* The background is the default theme color */\n",
       "  color: var(--sklearn-color-text-on-default-background);\n",
       "}\n",
       "\n",
       "/* On hover, darken the color of the background */\n",
       "#sk-container-id-2 div.sk-label:hover label.sk-toggleable__label {\n",
       "  color: var(--sklearn-color-text);\n",
       "  background-color: var(--sklearn-color-unfitted-level-2);\n",
       "}\n",
       "\n",
       "/* Label box, darken color on hover, fitted */\n",
       "#sk-container-id-2 div.sk-label.fitted:hover label.sk-toggleable__label.fitted {\n",
       "  color: var(--sklearn-color-text);\n",
       "  background-color: var(--sklearn-color-fitted-level-2);\n",
       "}\n",
       "\n",
       "/* Estimator label */\n",
       "\n",
       "#sk-container-id-2 div.sk-label label {\n",
       "  font-family: monospace;\n",
       "  font-weight: bold;\n",
       "  display: inline-block;\n",
       "  line-height: 1.2em;\n",
       "}\n",
       "\n",
       "#sk-container-id-2 div.sk-label-container {\n",
       "  text-align: center;\n",
       "}\n",
       "\n",
       "/* Estimator-specific */\n",
       "#sk-container-id-2 div.sk-estimator {\n",
       "  font-family: monospace;\n",
       "  border: 1px dotted var(--sklearn-color-border-box);\n",
       "  border-radius: 0.25em;\n",
       "  box-sizing: border-box;\n",
       "  margin-bottom: 0.5em;\n",
       "  /* unfitted */\n",
       "  background-color: var(--sklearn-color-unfitted-level-0);\n",
       "}\n",
       "\n",
       "#sk-container-id-2 div.sk-estimator.fitted {\n",
       "  /* fitted */\n",
       "  background-color: var(--sklearn-color-fitted-level-0);\n",
       "}\n",
       "\n",
       "/* on hover */\n",
       "#sk-container-id-2 div.sk-estimator:hover {\n",
       "  /* unfitted */\n",
       "  background-color: var(--sklearn-color-unfitted-level-2);\n",
       "}\n",
       "\n",
       "#sk-container-id-2 div.sk-estimator.fitted:hover {\n",
       "  /* fitted */\n",
       "  background-color: var(--sklearn-color-fitted-level-2);\n",
       "}\n",
       "\n",
       "/* Specification for estimator info (e.g. \"i\" and \"?\") */\n",
       "\n",
       "/* Common style for \"i\" and \"?\" */\n",
       "\n",
       ".sk-estimator-doc-link,\n",
       "a:link.sk-estimator-doc-link,\n",
       "a:visited.sk-estimator-doc-link {\n",
       "  float: right;\n",
       "  font-size: smaller;\n",
       "  line-height: 1em;\n",
       "  font-family: monospace;\n",
       "  background-color: var(--sklearn-color-background);\n",
       "  border-radius: 1em;\n",
       "  height: 1em;\n",
       "  width: 1em;\n",
       "  text-decoration: none !important;\n",
       "  margin-left: 1ex;\n",
       "  /* unfitted */\n",
       "  border: var(--sklearn-color-unfitted-level-1) 1pt solid;\n",
       "  color: var(--sklearn-color-unfitted-level-1);\n",
       "}\n",
       "\n",
       ".sk-estimator-doc-link.fitted,\n",
       "a:link.sk-estimator-doc-link.fitted,\n",
       "a:visited.sk-estimator-doc-link.fitted {\n",
       "  /* fitted */\n",
       "  border: var(--sklearn-color-fitted-level-1) 1pt solid;\n",
       "  color: var(--sklearn-color-fitted-level-1);\n",
       "}\n",
       "\n",
       "/* On hover */\n",
       "div.sk-estimator:hover .sk-estimator-doc-link:hover,\n",
       ".sk-estimator-doc-link:hover,\n",
       "div.sk-label-container:hover .sk-estimator-doc-link:hover,\n",
       ".sk-estimator-doc-link:hover {\n",
       "  /* unfitted */\n",
       "  background-color: var(--sklearn-color-unfitted-level-3);\n",
       "  color: var(--sklearn-color-background);\n",
       "  text-decoration: none;\n",
       "}\n",
       "\n",
       "div.sk-estimator.fitted:hover .sk-estimator-doc-link.fitted:hover,\n",
       ".sk-estimator-doc-link.fitted:hover,\n",
       "div.sk-label-container:hover .sk-estimator-doc-link.fitted:hover,\n",
       ".sk-estimator-doc-link.fitted:hover {\n",
       "  /* fitted */\n",
       "  background-color: var(--sklearn-color-fitted-level-3);\n",
       "  color: var(--sklearn-color-background);\n",
       "  text-decoration: none;\n",
       "}\n",
       "\n",
       "/* Span, style for the box shown on hovering the info icon */\n",
       ".sk-estimator-doc-link span {\n",
       "  display: none;\n",
       "  z-index: 9999;\n",
       "  position: relative;\n",
       "  font-weight: normal;\n",
       "  right: .2ex;\n",
       "  padding: .5ex;\n",
       "  margin: .5ex;\n",
       "  width: min-content;\n",
       "  min-width: 20ex;\n",
       "  max-width: 50ex;\n",
       "  color: var(--sklearn-color-text);\n",
       "  box-shadow: 2pt 2pt 4pt #999;\n",
       "  /* unfitted */\n",
       "  background: var(--sklearn-color-unfitted-level-0);\n",
       "  border: .5pt solid var(--sklearn-color-unfitted-level-3);\n",
       "}\n",
       "\n",
       ".sk-estimator-doc-link.fitted span {\n",
       "  /* fitted */\n",
       "  background: var(--sklearn-color-fitted-level-0);\n",
       "  border: var(--sklearn-color-fitted-level-3);\n",
       "}\n",
       "\n",
       ".sk-estimator-doc-link:hover span {\n",
       "  display: block;\n",
       "}\n",
       "\n",
       "/* \"?\"-specific style due to the `<a>` HTML tag */\n",
       "\n",
       "#sk-container-id-2 a.estimator_doc_link {\n",
       "  float: right;\n",
       "  font-size: 1rem;\n",
       "  line-height: 1em;\n",
       "  font-family: monospace;\n",
       "  background-color: var(--sklearn-color-background);\n",
       "  border-radius: 1rem;\n",
       "  height: 1rem;\n",
       "  width: 1rem;\n",
       "  text-decoration: none;\n",
       "  /* unfitted */\n",
       "  color: var(--sklearn-color-unfitted-level-1);\n",
       "  border: var(--sklearn-color-unfitted-level-1) 1pt solid;\n",
       "}\n",
       "\n",
       "#sk-container-id-2 a.estimator_doc_link.fitted {\n",
       "  /* fitted */\n",
       "  border: var(--sklearn-color-fitted-level-1) 1pt solid;\n",
       "  color: var(--sklearn-color-fitted-level-1);\n",
       "}\n",
       "\n",
       "/* On hover */\n",
       "#sk-container-id-2 a.estimator_doc_link:hover {\n",
       "  /* unfitted */\n",
       "  background-color: var(--sklearn-color-unfitted-level-3);\n",
       "  color: var(--sklearn-color-background);\n",
       "  text-decoration: none;\n",
       "}\n",
       "\n",
       "#sk-container-id-2 a.estimator_doc_link.fitted:hover {\n",
       "  /* fitted */\n",
       "  background-color: var(--sklearn-color-fitted-level-3);\n",
       "}\n",
       "</style><div id=\"sk-container-id-2\" class=\"sk-top-container\"><div class=\"sk-text-repr-fallback\"><pre> ARIMA(0,0,1)(0,0,0)[0] intercept</pre><b>In a Jupyter environment, please rerun this cell to show the HTML representation or trust the notebook. <br />On GitHub, the HTML representation is unable to render, please try loading this page with nbviewer.org.</b></div><div class=\"sk-container\" hidden><div class=\"sk-item\"><div class=\"sk-estimator fitted sk-toggleable\"><input class=\"sk-toggleable__control sk-hidden--visually\" id=\"sk-estimator-id-2\" type=\"checkbox\" checked><label for=\"sk-estimator-id-2\" class=\"sk-toggleable__label fitted sk-toggleable__label-arrow fitted\">&nbsp;ARIMA<span class=\"sk-estimator-doc-link fitted\">i<span>Fitted</span></span></label><div class=\"sk-toggleable__content fitted\"><pre> ARIMA(0,0,1)(0,0,0)[0] intercept</pre></div> </div></div></div></div>"
      ],
      "text/plain": [
       "ARIMA(order=(0, 0, 1))"
      ]
     },
     "execution_count": 17,
     "metadata": {},
     "output_type": "execute_result"
    }
   ],
   "source": [
    "model_ma = ARIMA(order = (0,0,1))\n",
    "model_ma.fit(train)"
   ]
  },
  {
   "cell_type": "code",
   "execution_count": 18,
   "metadata": {
    "colab": {
     "base_uri": "https://localhost:8080/"
    },
    "id": "kQsOuPIW7P40",
    "outputId": "79e82374-33c0-4753-99d0-606eda95c5b7"
   },
   "outputs": [
    {
     "name": "stdout",
     "output_type": "stream",
     "text": [
      "mean_squared_error: 87.15679101817695\n"
     ]
    }
   ],
   "source": [
    "predictions = model_ma.predict(14)\n",
    "print(\"mean_squared_error:\", mean_squared_error(test, predictions))"
   ]
  },
  {
   "cell_type": "code",
   "execution_count": 19,
   "metadata": {
    "colab": {
     "base_uri": "https://localhost:8080/",
     "height": 265
    },
    "id": "4X3hDCbN7P41",
    "outputId": "7e93914c-2c5c-4204-da65-7f8e11264e6a"
   },
   "outputs": [
    {
     "data": {
      "image/png": "[encoded data removed]",
      "text/plain": [
       "<Figure size 640x480 with 1 Axes>"
      ]
     },
     "metadata": {},
     "output_type": "display_data"
    }
   ],
   "source": [
    "plt.plot(test)\n",
    "plt.plot(predictions,color='red');"
   ]
  },
  {
   "cell_type": "markdown",
   "metadata": {
    "id": "Pla4p7lW7P41"
   },
   "source": [
    "No está dando buen resultado. Probaremos entonces varios lags"
   ]
  },
  {
   "cell_type": "code",
   "execution_count": 20,
   "metadata": {
    "colab": {
     "base_uri": "https://localhost:8080/",
     "height": 265
    },
    "id": "yRkwmLXB7P42",
    "outputId": "002802af-67d0-4869-969a-16040230bcdd"
   },
   "outputs": [
    {
     "data": {
      "image/png": "[encoded data removed]",
      "text/plain": [
       "<Figure size 640x480 with 1 Axes>"
      ]
     },
     "metadata": {},
     "output_type": "display_data"
    }
   ],
   "source": [
    "lags = []\n",
    "mse = []\n",
    "for lag in range(1, 20):\n",
    "    try:\n",
    "        model_ar = ARIMA(order=(0, 0, lag))\n",
    "        model_ar_fit = model_ar.fit(train)\n",
    "        predictions = model_ar_fit.predict(14)\n",
    "        lags.append(lag)\n",
    "        mse.append(mean_squared_error(test, predictions))\n",
    "    except:\n",
    "        continue\n",
    "    \n",
    "plt.plot(lags, mse);"
   ]
  },
  {
   "cell_type": "markdown",
   "metadata": {
    "id": "FAzGI8jj7P42"
   },
   "source": [
    "Parece que según vamos aumentando el parámetro `q` del modelo Moving Average, va disminuyendo el error, pero aun así es bastante grande."
   ]
  },
  {
   "cell_type": "markdown",
   "metadata": {
    "id": "XrJB8sZy7P42"
   },
   "source": [
    "## ARIMA\n",
    "En el arima no solo influyen los parámetros `p` y `q`, sino que también tendremos en cuenta `d`. Parametro con el que diferenciaremos la serie y conseguiremos que sea estacionaria.\n",
    "\n",
    "Ahora bien, ¿cuál es la mejor combinación de parámetros? Tendremos que realizar varias pruebas. Para comparar los modelos se suele utilizar el AIC.\n",
    "\n",
    "### AIC\n",
    "Akaike’s Information Criterion\n",
    "\n",
    "![imagen](./img/aic.png)\n",
    "\n",
    "k es el número de parámetros del modelo estadístico y L es el máximo valor de la función de verosimilitud para el modelo estimado. La función de verosimilitud permite realizar inferencias a partir de u conjunto de observaciones.\n",
    "\n",
    "Se utiliza para seleccionar el mejor modelo, que será el que tiene menor AIC. El AIC depende mucho de cada dato, y es una medida de comparación entre modelos, no de presentación de resultados. Un AIC bajo no quiere decir que el modelo sea muy bueno. Por tanto, AIC no nos dice nada sobre la calidad del modelo en terminos absolutos.\n"
   ]
  },
  {
   "cell_type": "markdown",
   "metadata": {
    "id": "4N_X_WQH7P43"
   },
   "source": [
    "#### ¿Cómo conseguir los mejores p, d, q?"
   ]
  },
  {
   "cell_type": "code",
   "execution_count": 21,
   "metadata": {
    "colab": {
     "base_uri": "https://localhost:8080/"
    },
    "id": "PMuK602l7P43",
    "outputId": "2a90ffca-7a1e-4eb3-c85d-0f8af540a0ef"
   },
   "outputs": [
    {
     "data": {
      "text/plain": [
       "[(0, 0, 0),\n",
       " (0, 0, 1),\n",
       " (0, 0, 2),\n",
       " (0, 0, 3),\n",
       " (0, 0, 4),\n",
       " (0, 1, 0),\n",
       " (0, 1, 1),\n",
       " (0, 1, 2),\n",
       " (0, 1, 3),\n",
       " (0, 1, 4)]"
      ]
     },
     "execution_count": 21,
     "metadata": {},
     "output_type": "execute_result"
    }
   ],
   "source": [
    "import itertools\n",
    "p=d=q=range(0,5)\n",
    "pdq = list(itertools.product(p,d,q))\n",
    "pdq[:10]"
   ]
  },
  {
   "cell_type": "code",
   "execution_count": 22,
   "metadata": {},
   "outputs": [
    {
     "data": {
      "text/plain": [
       "125"
      ]
     },
     "execution_count": 22,
     "metadata": {},
     "output_type": "execute_result"
    }
   ],
   "source": [
    "len(pdq)"
   ]
  },
  {
   "cell_type": "code",
   "execution_count": 23,
   "metadata": {
    "id": "flu9Qq3c7P44"
   },
   "outputs": [],
   "source": [
    "results = []\n",
    "for param in pdq:\n",
    "    try:\n",
    "        model_arima = ARIMA(order=param)\n",
    "        model_arima_fit = model_arima.fit(train)\n",
    "        results.append((param,model_arima_fit.aic()))\n",
    "    except:\n",
    "        continue\n",
    "    "
   ]
  },
  {
   "cell_type": "code",
   "execution_count": 24,
   "metadata": {
    "colab": {
     "base_uri": "https://localhost:8080/",
     "height": 205
    },
    "id": "AOsGbq1R7P44",
    "outputId": "98e7c242-771a-4668-e472-e633c552adfa"
   },
   "outputs": [
    {
     "data": {
      "text/html": [
       "<div>\n",
       "<style scoped>\n",
       "    .dataframe tbody tr th:only-of-type {\n",
       "        vertical-align: middle;\n",
       "    }\n",
       "\n",
       "    .dataframe tbody tr th {\n",
       "        vertical-align: top;\n",
       "    }\n",
       "\n",
       "    .dataframe thead th {\n",
       "        text-align: right;\n",
       "    }\n",
       "</style>\n",
       "<table border=\"1\" class=\"dataframe\">\n",
       "  <thead>\n",
       "    <tr style=\"text-align: right;\">\n",
       "      <th></th>\n",
       "      <th>ARIMA params</th>\n",
       "      <th>AIC</th>\n",
       "    </tr>\n",
       "  </thead>\n",
       "  <tbody>\n",
       "    <tr>\n",
       "      <th>87</th>\n",
       "      <td>(3, 2, 2)</td>\n",
       "      <td>36.916228</td>\n",
       "    </tr>\n",
       "    <tr>\n",
       "      <th>111</th>\n",
       "      <td>(4, 2, 1)</td>\n",
       "      <td>37.909517</td>\n",
       "    </tr>\n",
       "    <tr>\n",
       "      <th>88</th>\n",
       "      <td>(3, 2, 3)</td>\n",
       "      <td>38.295832</td>\n",
       "    </tr>\n",
       "    <tr>\n",
       "      <th>112</th>\n",
       "      <td>(4, 2, 2)</td>\n",
       "      <td>38.685565</td>\n",
       "    </tr>\n",
       "    <tr>\n",
       "      <th>89</th>\n",
       "      <td>(3, 2, 4)</td>\n",
       "      <td>39.495084</td>\n",
       "    </tr>\n",
       "  </tbody>\n",
       "</table>\n",
       "</div>"
      ],
      "text/plain": [
       "    ARIMA params        AIC\n",
       "87     (3, 2, 2)  36.916228\n",
       "111    (4, 2, 1)  37.909517\n",
       "88     (3, 2, 3)  38.295832\n",
       "112    (4, 2, 2)  38.685565\n",
       "89     (3, 2, 4)  39.495084"
      ]
     },
     "execution_count": 24,
     "metadata": {},
     "output_type": "execute_result"
    }
   ],
   "source": [
    "resultados_df = pd.DataFrame(results, columns=['ARIMA params', 'AIC']).sort_values('AIC')\n",
    "resultados_df.head()"
   ]
  },
  {
   "cell_type": "code",
   "execution_count": 25,
   "metadata": {},
   "outputs": [
    {
     "data": {
      "text/plain": [
       "125"
      ]
     },
     "execution_count": 25,
     "metadata": {},
     "output_type": "execute_result"
    }
   ],
   "source": [
    "len(resultados_df)"
   ]
  },
  {
   "cell_type": "markdown",
   "metadata": {
    "id": "nsjyckLG7P45"
   },
   "source": [
    "Ya tenemos la mejor combinación de parámetros para el ARIMA. Probemos el modelo"
   ]
  },
  {
   "cell_type": "code",
   "execution_count": 26,
   "metadata": {
    "colab": {
     "base_uri": "https://localhost:8080/"
    },
    "id": "whN6gliR7P45",
    "outputId": "4e2fda4d-1f47-44b1-8b9c-94825cc261c6"
   },
   "outputs": [
    {
     "data": {
      "text/html": [
       "<style>#sk-container-id-3 {\n",
       "  /* Definition of color scheme common for light and dark mode */\n",
       "  --sklearn-color-text: black;\n",
       "  --sklearn-color-line: gray;\n",
       "  /* Definition of color scheme for unfitted estimators */\n",
       "  --sklearn-color-unfitted-level-0: #fff5e6;\n",
       "  --sklearn-color-unfitted-level-1: #f6e4d2;\n",
       "  --sklearn-color-unfitted-level-2: #ffe0b3;\n",
       "  --sklearn-color-unfitted-level-3: chocolate;\n",
       "  /* Definition of color scheme for fitted estimators */\n",
       "  --sklearn-color-fitted-level-0: #f0f8ff;\n",
       "  --sklearn-color-fitted-level-1: #d4ebff;\n",
       "  --sklearn-color-fitted-level-2: #b3dbfd;\n",
       "  --sklearn-color-fitted-level-3: cornflowerblue;\n",
       "\n",
       "  /* Specific color for light theme */\n",
       "  --sklearn-color-text-on-default-background: var(--sg-text-color, var(--theme-code-foreground, var(--jp-content-font-color1, black)));\n",
       "  --sklearn-color-background: var(--sg-background-color, var(--theme-background, var(--jp-layout-color0, white)));\n",
       "  --sklearn-color-border-box: var(--sg-text-color, var(--theme-code-foreground, var(--jp-content-font-color1, black)));\n",
       "  --sklearn-color-icon: #696969;\n",
       "\n",
       "  @media (prefers-color-scheme: dark) {\n",
       "    /* Redefinition of color scheme for dark theme */\n",
       "    --sklearn-color-text-on-default-background: var(--sg-text-color, var(--theme-code-foreground, var(--jp-content-font-color1, white)));\n",
       "    --sklearn-color-background: var(--sg-background-color, var(--theme-background, var(--jp-layout-color0, #111)));\n",
       "    --sklearn-color-border-box: var(--sg-text-color, var(--theme-code-foreground, var(--jp-content-font-color1, white)));\n",
       "    --sklearn-color-icon: #878787;\n",
       "  }\n",
       "}\n",
       "\n",
       "#sk-container-id-3 {\n",
       "  color: var(--sklearn-color-text);\n",
       "}\n",
       "\n",
       "#sk-container-id-3 pre {\n",
       "  padding: 0;\n",
       "}\n",
       "\n",
       "#sk-container-id-3 input.sk-hidden--visually {\n",
       "  border: 0;\n",
       "  clip: rect(1px 1px 1px 1px);\n",
       "  clip: rect(1px, 1px, 1px, 1px);\n",
       "  height: 1px;\n",
       "  margin: -1px;\n",
       "  overflow: hidden;\n",
       "  padding: 0;\n",
       "  position: absolute;\n",
       "  width: 1px;\n",
       "}\n",
       "\n",
       "#sk-container-id-3 div.sk-dashed-wrapped {\n",
       "  border: 1px dashed var(--sklearn-color-line);\n",
       "  margin: 0 0.4em 0.5em 0.4em;\n",
       "  box-sizing: border-box;\n",
       "  padding-bottom: 0.4em;\n",
       "  background-color: var(--sklearn-color-background);\n",
       "}\n",
       "\n",
       "#sk-container-id-3 div.sk-container {\n",
       "  /* jupyter's `normalize.less` sets `[hidden] { display: none; }`\n",
       "     but bootstrap.min.css set `[hidden] { display: none !important; }`\n",
       "     so we also need the `!important` here to be able to override the\n",
       "     default hidden behavior on the sphinx rendered scikit-learn.org.\n",
       "     See: https://github.com/scikit-learn/scikit-learn/issues/21755 */\n",
       "  display: inline-block !important;\n",
       "  position: relative;\n",
       "}\n",
       "\n",
       "#sk-container-id-3 div.sk-text-repr-fallback {\n",
       "  display: none;\n",
       "}\n",
       "\n",
       "div.sk-parallel-item,\n",
       "div.sk-serial,\n",
       "div.sk-item {\n",
       "  /* draw centered vertical line to link estimators */\n",
       "  background-image: linear-gradient(var(--sklearn-color-text-on-default-background), var(--sklearn-color-text-on-default-background));\n",
       "  background-size: 2px 100%;\n",
       "  background-repeat: no-repeat;\n",
       "  background-position: center center;\n",
       "}\n",
       "\n",
       "/* Parallel-specific style estimator block */\n",
       "\n",
       "#sk-container-id-3 div.sk-parallel-item::after {\n",
       "  content: \"\";\n",
       "  width: 100%;\n",
       "  border-bottom: 2px solid var(--sklearn-color-text-on-default-background);\n",
       "  flex-grow: 1;\n",
       "}\n",
       "\n",
       "#sk-container-id-3 div.sk-parallel {\n",
       "  display: flex;\n",
       "  align-items: stretch;\n",
       "  justify-content: center;\n",
       "  background-color: var(--sklearn-color-background);\n",
       "  position: relative;\n",
       "}\n",
       "\n",
       "#sk-container-id-3 div.sk-parallel-item {\n",
       "  display: flex;\n",
       "  flex-direction: column;\n",
       "}\n",
       "\n",
       "#sk-container-id-3 div.sk-parallel-item:first-child::after {\n",
       "  align-self: flex-end;\n",
       "  width: 50%;\n",
       "}\n",
       "\n",
       "#sk-container-id-3 div.sk-parallel-item:last-child::after {\n",
       "  align-self: flex-start;\n",
       "  width: 50%;\n",
       "}\n",
       "\n",
       "#sk-container-id-3 div.sk-parallel-item:only-child::after {\n",
       "  width: 0;\n",
       "}\n",
       "\n",
       "/* Serial-specific style estimator block */\n",
       "\n",
       "#sk-container-id-3 div.sk-serial {\n",
       "  display: flex;\n",
       "  flex-direction: column;\n",
       "  align-items: center;\n",
       "  background-color: var(--sklearn-color-background);\n",
       "  padding-right: 1em;\n",
       "  padding-left: 1em;\n",
       "}\n",
       "\n",
       "\n",
       "/* Toggleable style: style used for estimator/Pipeline/ColumnTransformer box that is\n",
       "clickable and can be expanded/collapsed.\n",
       "- Pipeline and ColumnTransformer use this feature and define the default style\n",
       "- Estimators will overwrite some part of the style using the `sk-estimator` class\n",
       "*/\n",
       "\n",
       "/* Pipeline and ColumnTransformer style (default) */\n",
       "\n",
       "#sk-container-id-3 div.sk-toggleable {\n",
       "  /* Default theme specific background. It is overwritten whether we have a\n",
       "  specific estimator or a Pipeline/ColumnTransformer */\n",
       "  background-color: var(--sklearn-color-background);\n",
       "}\n",
       "\n",
       "/* Toggleable label */\n",
       "#sk-container-id-3 label.sk-toggleable__label {\n",
       "  cursor: pointer;\n",
       "  display: block;\n",
       "  width: 100%;\n",
       "  margin-bottom: 0;\n",
       "  padding: 0.5em;\n",
       "  box-sizing: border-box;\n",
       "  text-align: center;\n",
       "}\n",
       "\n",
       "#sk-container-id-3 label.sk-toggleable__label-arrow:before {\n",
       "  /* Arrow on the left of the label */\n",
       "  content: \"▸\";\n",
       "  float: left;\n",
       "  margin-right: 0.25em;\n",
       "  color: var(--sklearn-color-icon);\n",
       "}\n",
       "\n",
       "#sk-container-id-3 label.sk-toggleable__label-arrow:hover:before {\n",
       "  color: var(--sklearn-color-text);\n",
       "}\n",
       "\n",
       "/* Toggleable content - dropdown */\n",
       "\n",
       "#sk-container-id-3 div.sk-toggleable__content {\n",
       "  max-height: 0;\n",
       "  max-width: 0;\n",
       "  overflow: hidden;\n",
       "  text-align: left;\n",
       "  /* unfitted */\n",
       "  background-color: var(--sklearn-color-unfitted-level-0);\n",
       "}\n",
       "\n",
       "#sk-container-id-3 div.sk-toggleable__content.fitted {\n",
       "  /* fitted */\n",
       "  background-color: var(--sklearn-color-fitted-level-0);\n",
       "}\n",
       "\n",
       "#sk-container-id-3 div.sk-toggleable__content pre {\n",
       "  margin: 0.2em;\n",
       "  border-radius: 0.25em;\n",
       "  color: var(--sklearn-color-text);\n",
       "  /* unfitted */\n",
       "  background-color: var(--sklearn-color-unfitted-level-0);\n",
       "}\n",
       "\n",
       "#sk-container-id-3 div.sk-toggleable__content.fitted pre {\n",
       "  /* unfitted */\n",
       "  background-color: var(--sklearn-color-fitted-level-0);\n",
       "}\n",
       "\n",
       "#sk-container-id-3 input.sk-toggleable__control:checked~div.sk-toggleable__content {\n",
       "  /* Expand drop-down */\n",
       "  max-height: 200px;\n",
       "  max-width: 100%;\n",
       "  overflow: auto;\n",
       "}\n",
       "\n",
       "#sk-container-id-3 input.sk-toggleable__control:checked~label.sk-toggleable__label-arrow:before {\n",
       "  content: \"▾\";\n",
       "}\n",
       "\n",
       "/* Pipeline/ColumnTransformer-specific style */\n",
       "\n",
       "#sk-container-id-3 div.sk-label input.sk-toggleable__control:checked~label.sk-toggleable__label {\n",
       "  color: var(--sklearn-color-text);\n",
       "  background-color: var(--sklearn-color-unfitted-level-2);\n",
       "}\n",
       "\n",
       "#sk-container-id-3 div.sk-label.fitted input.sk-toggleable__control:checked~label.sk-toggleable__label {\n",
       "  background-color: var(--sklearn-color-fitted-level-2);\n",
       "}\n",
       "\n",
       "/* Estimator-specific style */\n",
       "\n",
       "/* Colorize estimator box */\n",
       "#sk-container-id-3 div.sk-estimator input.sk-toggleable__control:checked~label.sk-toggleable__label {\n",
       "  /* unfitted */\n",
       "  background-color: var(--sklearn-color-unfitted-level-2);\n",
       "}\n",
       "\n",
       "#sk-container-id-3 div.sk-estimator.fitted input.sk-toggleable__control:checked~label.sk-toggleable__label {\n",
       "  /* fitted */\n",
       "  background-color: var(--sklearn-color-fitted-level-2);\n",
       "}\n",
       "\n",
       "#sk-container-id-3 div.sk-label label.sk-toggleable__label,\n",
       "#sk-container-id-3 div.sk-label label {\n",
       "  /* The background is the default theme color */\n",
       "  color: var(--sklearn-color-text-on-default-background);\n",
       "}\n",
       "\n",
       "/* On hover, darken the color of the background */\n",
       "#sk-container-id-3 div.sk-label:hover label.sk-toggleable__label {\n",
       "  color: var(--sklearn-color-text);\n",
       "  background-color: var(--sklearn-color-unfitted-level-2);\n",
       "}\n",
       "\n",
       "/* Label box, darken color on hover, fitted */\n",
       "#sk-container-id-3 div.sk-label.fitted:hover label.sk-toggleable__label.fitted {\n",
       "  color: var(--sklearn-color-text);\n",
       "  background-color: var(--sklearn-color-fitted-level-2);\n",
       "}\n",
       "\n",
       "/* Estimator label */\n",
       "\n",
       "#sk-container-id-3 div.sk-label label {\n",
       "  font-family: monospace;\n",
       "  font-weight: bold;\n",
       "  display: inline-block;\n",
       "  line-height: 1.2em;\n",
       "}\n",
       "\n",
       "#sk-container-id-3 div.sk-label-container {\n",
       "  text-align: center;\n",
       "}\n",
       "\n",
       "/* Estimator-specific */\n",
       "#sk-container-id-3 div.sk-estimator {\n",
       "  font-family: monospace;\n",
       "  border: 1px dotted var(--sklearn-color-border-box);\n",
       "  border-radius: 0.25em;\n",
       "  box-sizing: border-box;\n",
       "  margin-bottom: 0.5em;\n",
       "  /* unfitted */\n",
       "  background-color: var(--sklearn-color-unfitted-level-0);\n",
       "}\n",
       "\n",
       "#sk-container-id-3 div.sk-estimator.fitted {\n",
       "  /* fitted */\n",
       "  background-color: var(--sklearn-color-fitted-level-0);\n",
       "}\n",
       "\n",
       "/* on hover */\n",
       "#sk-container-id-3 div.sk-estimator:hover {\n",
       "  /* unfitted */\n",
       "  background-color: var(--sklearn-color-unfitted-level-2);\n",
       "}\n",
       "\n",
       "#sk-container-id-3 div.sk-estimator.fitted:hover {\n",
       "  /* fitted */\n",
       "  background-color: var(--sklearn-color-fitted-level-2);\n",
       "}\n",
       "\n",
       "/* Specification for estimator info (e.g. \"i\" and \"?\") */\n",
       "\n",
       "/* Common style for \"i\" and \"?\" */\n",
       "\n",
       ".sk-estimator-doc-link,\n",
       "a:link.sk-estimator-doc-link,\n",
       "a:visited.sk-estimator-doc-link {\n",
       "  float: right;\n",
       "  font-size: smaller;\n",
       "  line-height: 1em;\n",
       "  font-family: monospace;\n",
       "  background-color: var(--sklearn-color-background);\n",
       "  border-radius: 1em;\n",
       "  height: 1em;\n",
       "  width: 1em;\n",
       "  text-decoration: none !important;\n",
       "  margin-left: 1ex;\n",
       "  /* unfitted */\n",
       "  border: var(--sklearn-color-unfitted-level-1) 1pt solid;\n",
       "  color: var(--sklearn-color-unfitted-level-1);\n",
       "}\n",
       "\n",
       ".sk-estimator-doc-link.fitted,\n",
       "a:link.sk-estimator-doc-link.fitted,\n",
       "a:visited.sk-estimator-doc-link.fitted {\n",
       "  /* fitted */\n",
       "  border: var(--sklearn-color-fitted-level-1) 1pt solid;\n",
       "  color: var(--sklearn-color-fitted-level-1);\n",
       "}\n",
       "\n",
       "/* On hover */\n",
       "div.sk-estimator:hover .sk-estimator-doc-link:hover,\n",
       ".sk-estimator-doc-link:hover,\n",
       "div.sk-label-container:hover .sk-estimator-doc-link:hover,\n",
       ".sk-estimator-doc-link:hover {\n",
       "  /* unfitted */\n",
       "  background-color: var(--sklearn-color-unfitted-level-3);\n",
       "  color: var(--sklearn-color-background);\n",
       "  text-decoration: none;\n",
       "}\n",
       "\n",
       "div.sk-estimator.fitted:hover .sk-estimator-doc-link.fitted:hover,\n",
       ".sk-estimator-doc-link.fitted:hover,\n",
       "div.sk-label-container:hover .sk-estimator-doc-link.fitted:hover,\n",
       ".sk-estimator-doc-link.fitted:hover {\n",
       "  /* fitted */\n",
       "  background-color: var(--sklearn-color-fitted-level-3);\n",
       "  color: var(--sklearn-color-background);\n",
       "  text-decoration: none;\n",
       "}\n",
       "\n",
       "/* Span, style for the box shown on hovering the info icon */\n",
       ".sk-estimator-doc-link span {\n",
       "  display: none;\n",
       "  z-index: 9999;\n",
       "  position: relative;\n",
       "  font-weight: normal;\n",
       "  right: .2ex;\n",
       "  padding: .5ex;\n",
       "  margin: .5ex;\n",
       "  width: min-content;\n",
       "  min-width: 20ex;\n",
       "  max-width: 50ex;\n",
       "  color: var(--sklearn-color-text);\n",
       "  box-shadow: 2pt 2pt 4pt #999;\n",
       "  /* unfitted */\n",
       "  background: var(--sklearn-color-unfitted-level-0);\n",
       "  border: .5pt solid var(--sklearn-color-unfitted-level-3);\n",
       "}\n",
       "\n",
       ".sk-estimator-doc-link.fitted span {\n",
       "  /* fitted */\n",
       "  background: var(--sklearn-color-fitted-level-0);\n",
       "  border: var(--sklearn-color-fitted-level-3);\n",
       "}\n",
       "\n",
       ".sk-estimator-doc-link:hover span {\n",
       "  display: block;\n",
       "}\n",
       "\n",
       "/* \"?\"-specific style due to the `<a>` HTML tag */\n",
       "\n",
       "#sk-container-id-3 a.estimator_doc_link {\n",
       "  float: right;\n",
       "  font-size: 1rem;\n",
       "  line-height: 1em;\n",
       "  font-family: monospace;\n",
       "  background-color: var(--sklearn-color-background);\n",
       "  border-radius: 1rem;\n",
       "  height: 1rem;\n",
       "  width: 1rem;\n",
       "  text-decoration: none;\n",
       "  /* unfitted */\n",
       "  color: var(--sklearn-color-unfitted-level-1);\n",
       "  border: var(--sklearn-color-unfitted-level-1) 1pt solid;\n",
       "}\n",
       "\n",
       "#sk-container-id-3 a.estimator_doc_link.fitted {\n",
       "  /* fitted */\n",
       "  border: var(--sklearn-color-fitted-level-1) 1pt solid;\n",
       "  color: var(--sklearn-color-fitted-level-1);\n",
       "}\n",
       "\n",
       "/* On hover */\n",
       "#sk-container-id-3 a.estimator_doc_link:hover {\n",
       "  /* unfitted */\n",
       "  background-color: var(--sklearn-color-unfitted-level-3);\n",
       "  color: var(--sklearn-color-background);\n",
       "  text-decoration: none;\n",
       "}\n",
       "\n",
       "#sk-container-id-3 a.estimator_doc_link.fitted:hover {\n",
       "  /* fitted */\n",
       "  background-color: var(--sklearn-color-fitted-level-3);\n",
       "}\n",
       "</style><div id=\"sk-container-id-3\" class=\"sk-top-container\"><div class=\"sk-text-repr-fallback\"><pre> ARIMA(3,2,2)(0,0,0)[0] intercept</pre><b>In a Jupyter environment, please rerun this cell to show the HTML representation or trust the notebook. <br />On GitHub, the HTML representation is unable to render, please try loading this page with nbviewer.org.</b></div><div class=\"sk-container\" hidden><div class=\"sk-item\"><div class=\"sk-estimator fitted sk-toggleable\"><input class=\"sk-toggleable__control sk-hidden--visually\" id=\"sk-estimator-id-3\" type=\"checkbox\" checked><label for=\"sk-estimator-id-3\" class=\"sk-toggleable__label fitted sk-toggleable__label-arrow fitted\">&nbsp;ARIMA<span class=\"sk-estimator-doc-link fitted\">i<span>Fitted</span></span></label><div class=\"sk-toggleable__content fitted\"><pre> ARIMA(3,2,2)(0,0,0)[0] intercept</pre></div> </div></div></div></div>"
      ],
      "text/plain": [
       "ARIMA(order=(3, 2, 2))"
      ]
     },
     "execution_count": 26,
     "metadata": {},
     "output_type": "execute_result"
    }
   ],
   "source": [
    "best_model = ARIMA(order=(3,2,2))\n",
    "best_model.fit(train)"
   ]
  },
  {
   "cell_type": "code",
   "execution_count": 27,
   "metadata": {
    "colab": {
     "base_uri": "https://localhost:8080/"
    },
    "id": "kjMujFad7P45",
    "outputId": "634b2d31-1722-400b-efce-713d732ff0b8"
   },
   "outputs": [
    {
     "name": "stdout",
     "output_type": "stream",
     "text": [
      "mean_squared_error: 3.9436759638831265\n"
     ]
    }
   ],
   "source": [
    "predictions = best_model.predict(14)\n",
    "print(\"mean_squared_error:\", mean_squared_error(test, predictions))"
   ]
  },
  {
   "cell_type": "code",
   "execution_count": 28,
   "metadata": {},
   "outputs": [
    {
     "data": {
      "image/png": "[encoded data removed]",
      "text/plain": [
       "<Figure size 640x480 with 1 Axes>"
      ]
     },
     "metadata": {},
     "output_type": "display_data"
    }
   ],
   "source": [
    "plt.plot(test)\n",
    "plt.plot(predictions,color='red');"
   ]
  },
  {
   "cell_type": "markdown",
   "metadata": {
    "id": "JfXrrTZT7P46"
   },
   "source": [
    "### Auto ARIMA"
   ]
  },
  {
   "cell_type": "code",
   "execution_count": 29,
   "metadata": {
    "colab": {
     "base_uri": "https://localhost:8080/"
    },
    "id": "rMuIacTS7P46",
    "outputId": "2391152c-0e16-4d94-8212-c3e30f00c7ac"
   },
   "outputs": [
    {
     "name": "stdout",
     "output_type": "stream",
     "text": [
      "Performing stepwise search to minimize aic\n",
      " ARIMA(1,2,1)(0,0,0)[0]             : AIC=138.619, Time=0.10 sec\n",
      " ARIMA(0,2,0)(0,0,0)[0]             : AIC=196.672, Time=0.01 sec\n",
      " ARIMA(1,2,0)(0,0,0)[0]             : AIC=180.443, Time=0.02 sec\n",
      " ARIMA(0,2,1)(0,0,0)[0]             : AIC=140.942, Time=0.04 sec\n",
      " ARIMA(2,2,1)(0,0,0)[0]             : AIC=113.935, Time=0.08 sec\n",
      " ARIMA(2,2,0)(0,0,0)[0]             : AIC=166.323, Time=0.02 sec\n",
      " ARIMA(3,2,1)(0,0,0)[0]             : AIC=47.310, Time=0.12 sec\n",
      " ARIMA(3,2,0)(0,0,0)[0]             : AIC=inf, Time=0.11 sec\n",
      " ARIMA(4,2,1)(0,0,0)[0]             : AIC=44.000, Time=0.26 sec\n",
      " ARIMA(4,2,0)(0,0,0)[0]             : AIC=inf, Time=0.15 sec\n",
      " ARIMA(5,2,1)(0,0,0)[0]             : AIC=43.451, Time=0.42 sec\n",
      " ARIMA(5,2,0)(0,0,0)[0]             : AIC=51.018, Time=0.29 sec\n",
      " ARIMA(5,2,2)(0,0,0)[0]             : AIC=40.763, Time=0.51 sec\n",
      " ARIMA(4,2,2)(0,0,0)[0]             : AIC=44.646, Time=0.32 sec\n",
      " ARIMA(5,2,3)(0,0,0)[0]             : AIC=42.910, Time=0.35 sec\n",
      " ARIMA(4,2,3)(0,0,0)[0]             : AIC=45.523, Time=0.32 sec\n",
      " ARIMA(5,2,2)(0,0,0)[0] intercept   : AIC=40.727, Time=0.64 sec\n",
      " ARIMA(4,2,2)(0,0,0)[0] intercept   : AIC=38.686, Time=0.54 sec\n",
      " ARIMA(3,2,2)(0,0,0)[0] intercept   : AIC=36.916, Time=0.30 sec\n",
      " ARIMA(2,2,2)(0,0,0)[0] intercept   : AIC=83.502, Time=0.18 sec\n",
      " ARIMA(3,2,1)(0,0,0)[0] intercept   : AIC=inf, Time=0.25 sec\n",
      " ARIMA(3,2,3)(0,0,0)[0] intercept   : AIC=inf, Time=0.41 sec\n",
      " ARIMA(2,2,1)(0,0,0)[0] intercept   : AIC=inf, Time=0.28 sec\n",
      " ARIMA(2,2,3)(0,0,0)[0] intercept   : AIC=77.941, Time=0.33 sec\n",
      " ARIMA(4,2,1)(0,0,0)[0] intercept   : AIC=inf, Time=0.41 sec\n",
      " ARIMA(4,2,3)(0,0,0)[0] intercept   : AIC=inf, Time=0.38 sec\n",
      " ARIMA(3,2,2)(0,0,0)[0]             : AIC=42.673, Time=0.20 sec\n",
      "\n",
      "Best model:  ARIMA(3,2,2)(0,0,0)[0] intercept\n",
      "Total fit time: 7.079 seconds\n"
     ]
    }
   ],
   "source": [
    "model = auto_arima(train,\n",
    "                   start_p = 1,\n",
    "                   start_q = 1,\n",
    "                   max_p = 5,\n",
    "                   max_q = 5,\n",
    "                   max_d = 3,\n",
    "                   trace=True)"
   ]
  },
  {
   "cell_type": "code",
   "execution_count": 30,
   "metadata": {},
   "outputs": [
    {
     "data": {
      "text/html": [
       "<style>#sk-container-id-4 {\n",
       "  /* Definition of color scheme common for light and dark mode */\n",
       "  --sklearn-color-text: black;\n",
       "  --sklearn-color-line: gray;\n",
       "  /* Definition of color scheme for unfitted estimators */\n",
       "  --sklearn-color-unfitted-level-0: #fff5e6;\n",
       "  --sklearn-color-unfitted-level-1: #f6e4d2;\n",
       "  --sklearn-color-unfitted-level-2: #ffe0b3;\n",
       "  --sklearn-color-unfitted-level-3: chocolate;\n",
       "  /* Definition of color scheme for fitted estimators */\n",
       "  --sklearn-color-fitted-level-0: #f0f8ff;\n",
       "  --sklearn-color-fitted-level-1: #d4ebff;\n",
       "  --sklearn-color-fitted-level-2: #b3dbfd;\n",
       "  --sklearn-color-fitted-level-3: cornflowerblue;\n",
       "\n",
       "  /* Specific color for light theme */\n",
       "  --sklearn-color-text-on-default-background: var(--sg-text-color, var(--theme-code-foreground, var(--jp-content-font-color1, black)));\n",
       "  --sklearn-color-background: var(--sg-background-color, var(--theme-background, var(--jp-layout-color0, white)));\n",
       "  --sklearn-color-border-box: var(--sg-text-color, var(--theme-code-foreground, var(--jp-content-font-color1, black)));\n",
       "  --sklearn-color-icon: #696969;\n",
       "\n",
       "  @media (prefers-color-scheme: dark) {\n",
       "    /* Redefinition of color scheme for dark theme */\n",
       "    --sklearn-color-text-on-default-background: var(--sg-text-color, var(--theme-code-foreground, var(--jp-content-font-color1, white)));\n",
       "    --sklearn-color-background: var(--sg-background-color, var(--theme-background, var(--jp-layout-color0, #111)));\n",
       "    --sklearn-color-border-box: var(--sg-text-color, var(--theme-code-foreground, var(--jp-content-font-color1, white)));\n",
       "    --sklearn-color-icon: #878787;\n",
       "  }\n",
       "}\n",
       "\n",
       "#sk-container-id-4 {\n",
       "  color: var(--sklearn-color-text);\n",
       "}\n",
       "\n",
       "#sk-container-id-4 pre {\n",
       "  padding: 0;\n",
       "}\n",
       "\n",
       "#sk-container-id-4 input.sk-hidden--visually {\n",
       "  border: 0;\n",
       "  clip: rect(1px 1px 1px 1px);\n",
       "  clip: rect(1px, 1px, 1px, 1px);\n",
       "  height: 1px;\n",
       "  margin: -1px;\n",
       "  overflow: hidden;\n",
       "  padding: 0;\n",
       "  position: absolute;\n",
       "  width: 1px;\n",
       "}\n",
       "\n",
       "#sk-container-id-4 div.sk-dashed-wrapped {\n",
       "  border: 1px dashed var(--sklearn-color-line);\n",
       "  margin: 0 0.4em 0.5em 0.4em;\n",
       "  box-sizing: border-box;\n",
       "  padding-bottom: 0.4em;\n",
       "  background-color: var(--sklearn-color-background);\n",
       "}\n",
       "\n",
       "#sk-container-id-4 div.sk-container {\n",
       "  /* jupyter's `normalize.less` sets `[hidden] { display: none; }`\n",
       "     but bootstrap.min.css set `[hidden] { display: none !important; }`\n",
       "     so we also need the `!important` here to be able to override the\n",
       "     default hidden behavior on the sphinx rendered scikit-learn.org.\n",
       "     See: https://github.com/scikit-learn/scikit-learn/issues/21755 */\n",
       "  display: inline-block !important;\n",
       "  position: relative;\n",
       "}\n",
       "\n",
       "#sk-container-id-4 div.sk-text-repr-fallback {\n",
       "  display: none;\n",
       "}\n",
       "\n",
       "div.sk-parallel-item,\n",
       "div.sk-serial,\n",
       "div.sk-item {\n",
       "  /* draw centered vertical line to link estimators */\n",
       "  background-image: linear-gradient(var(--sklearn-color-text-on-default-background), var(--sklearn-color-text-on-default-background));\n",
       "  background-size: 2px 100%;\n",
       "  background-repeat: no-repeat;\n",
       "  background-position: center center;\n",
       "}\n",
       "\n",
       "/* Parallel-specific style estimator block */\n",
       "\n",
       "#sk-container-id-4 div.sk-parallel-item::after {\n",
       "  content: \"\";\n",
       "  width: 100%;\n",
       "  border-bottom: 2px solid var(--sklearn-color-text-on-default-background);\n",
       "  flex-grow: 1;\n",
       "}\n",
       "\n",
       "#sk-container-id-4 div.sk-parallel {\n",
       "  display: flex;\n",
       "  align-items: stretch;\n",
       "  justify-content: center;\n",
       "  background-color: var(--sklearn-color-background);\n",
       "  position: relative;\n",
       "}\n",
       "\n",
       "#sk-container-id-4 div.sk-parallel-item {\n",
       "  display: flex;\n",
       "  flex-direction: column;\n",
       "}\n",
       "\n",
       "#sk-container-id-4 div.sk-parallel-item:first-child::after {\n",
       "  align-self: flex-end;\n",
       "  width: 50%;\n",
       "}\n",
       "\n",
       "#sk-container-id-4 div.sk-parallel-item:last-child::after {\n",
       "  align-self: flex-start;\n",
       "  width: 50%;\n",
       "}\n",
       "\n",
       "#sk-container-id-4 div.sk-parallel-item:only-child::after {\n",
       "  width: 0;\n",
       "}\n",
       "\n",
       "/* Serial-specific style estimator block */\n",
       "\n",
       "#sk-container-id-4 div.sk-serial {\n",
       "  display: flex;\n",
       "  flex-direction: column;\n",
       "  align-items: center;\n",
       "  background-color: var(--sklearn-color-background);\n",
       "  padding-right: 1em;\n",
       "  padding-left: 1em;\n",
       "}\n",
       "\n",
       "\n",
       "/* Toggleable style: style used for estimator/Pipeline/ColumnTransformer box that is\n",
       "clickable and can be expanded/collapsed.\n",
       "- Pipeline and ColumnTransformer use this feature and define the default style\n",
       "- Estimators will overwrite some part of the style using the `sk-estimator` class\n",
       "*/\n",
       "\n",
       "/* Pipeline and ColumnTransformer style (default) */\n",
       "\n",
       "#sk-container-id-4 div.sk-toggleable {\n",
       "  /* Default theme specific background. It is overwritten whether we have a\n",
       "  specific estimator or a Pipeline/ColumnTransformer */\n",
       "  background-color: var(--sklearn-color-background);\n",
       "}\n",
       "\n",
       "/* Toggleable label */\n",
       "#sk-container-id-4 label.sk-toggleable__label {\n",
       "  cursor: pointer;\n",
       "  display: block;\n",
       "  width: 100%;\n",
       "  margin-bottom: 0;\n",
       "  padding: 0.5em;\n",
       "  box-sizing: border-box;\n",
       "  text-align: center;\n",
       "}\n",
       "\n",
       "#sk-container-id-4 label.sk-toggleable__label-arrow:before {\n",
       "  /* Arrow on the left of the label */\n",
       "  content: \"▸\";\n",
       "  float: left;\n",
       "  margin-right: 0.25em;\n",
       "  color: var(--sklearn-color-icon);\n",
       "}\n",
       "\n",
       "#sk-container-id-4 label.sk-toggleable__label-arrow:hover:before {\n",
       "  color: var(--sklearn-color-text);\n",
       "}\n",
       "\n",
       "/* Toggleable content - dropdown */\n",
       "\n",
       "#sk-container-id-4 div.sk-toggleable__content {\n",
       "  max-height: 0;\n",
       "  max-width: 0;\n",
       "  overflow: hidden;\n",
       "  text-align: left;\n",
       "  /* unfitted */\n",
       "  background-color: var(--sklearn-color-unfitted-level-0);\n",
       "}\n",
       "\n",
       "#sk-container-id-4 div.sk-toggleable__content.fitted {\n",
       "  /* fitted */\n",
       "  background-color: var(--sklearn-color-fitted-level-0);\n",
       "}\n",
       "\n",
       "#sk-container-id-4 div.sk-toggleable__content pre {\n",
       "  margin: 0.2em;\n",
       "  border-radius: 0.25em;\n",
       "  color: var(--sklearn-color-text);\n",
       "  /* unfitted */\n",
       "  background-color: var(--sklearn-color-unfitted-level-0);\n",
       "}\n",
       "\n",
       "#sk-container-id-4 div.sk-toggleable__content.fitted pre {\n",
       "  /* unfitted */\n",
       "  background-color: var(--sklearn-color-fitted-level-0);\n",
       "}\n",
       "\n",
       "#sk-container-id-4 input.sk-toggleable__control:checked~div.sk-toggleable__content {\n",
       "  /* Expand drop-down */\n",
       "  max-height: 200px;\n",
       "  max-width: 100%;\n",
       "  overflow: auto;\n",
       "}\n",
       "\n",
       "#sk-container-id-4 input.sk-toggleable__control:checked~label.sk-toggleable__label-arrow:before {\n",
       "  content: \"▾\";\n",
       "}\n",
       "\n",
       "/* Pipeline/ColumnTransformer-specific style */\n",
       "\n",
       "#sk-container-id-4 div.sk-label input.sk-toggleable__control:checked~label.sk-toggleable__label {\n",
       "  color: var(--sklearn-color-text);\n",
       "  background-color: var(--sklearn-color-unfitted-level-2);\n",
       "}\n",
       "\n",
       "#sk-container-id-4 div.sk-label.fitted input.sk-toggleable__control:checked~label.sk-toggleable__label {\n",
       "  background-color: var(--sklearn-color-fitted-level-2);\n",
       "}\n",
       "\n",
       "/* Estimator-specific style */\n",
       "\n",
       "/* Colorize estimator box */\n",
       "#sk-container-id-4 div.sk-estimator input.sk-toggleable__control:checked~label.sk-toggleable__label {\n",
       "  /* unfitted */\n",
       "  background-color: var(--sklearn-color-unfitted-level-2);\n",
       "}\n",
       "\n",
       "#sk-container-id-4 div.sk-estimator.fitted input.sk-toggleable__control:checked~label.sk-toggleable__label {\n",
       "  /* fitted */\n",
       "  background-color: var(--sklearn-color-fitted-level-2);\n",
       "}\n",
       "\n",
       "#sk-container-id-4 div.sk-label label.sk-toggleable__label,\n",
       "#sk-container-id-4 div.sk-label label {\n",
       "  /* The background is the default theme color */\n",
       "  color: var(--sklearn-color-text-on-default-background);\n",
       "}\n",
       "\n",
       "/* On hover, darken the color of the background */\n",
       "#sk-container-id-4 div.sk-label:hover label.sk-toggleable__label {\n",
       "  color: var(--sklearn-color-text);\n",
       "  background-color: var(--sklearn-color-unfitted-level-2);\n",
       "}\n",
       "\n",
       "/* Label box, darken color on hover, fitted */\n",
       "#sk-container-id-4 div.sk-label.fitted:hover label.sk-toggleable__label.fitted {\n",
       "  color: var(--sklearn-color-text);\n",
       "  background-color: var(--sklearn-color-fitted-level-2);\n",
       "}\n",
       "\n",
       "/* Estimator label */\n",
       "\n",
       "#sk-container-id-4 div.sk-label label {\n",
       "  font-family: monospace;\n",
       "  font-weight: bold;\n",
       "  display: inline-block;\n",
       "  line-height: 1.2em;\n",
       "}\n",
       "\n",
       "#sk-container-id-4 div.sk-label-container {\n",
       "  text-align: center;\n",
       "}\n",
       "\n",
       "/* Estimator-specific */\n",
       "#sk-container-id-4 div.sk-estimator {\n",
       "  font-family: monospace;\n",
       "  border: 1px dotted var(--sklearn-color-border-box);\n",
       "  border-radius: 0.25em;\n",
       "  box-sizing: border-box;\n",
       "  margin-bottom: 0.5em;\n",
       "  /* unfitted */\n",
       "  background-color: var(--sklearn-color-unfitted-level-0);\n",
       "}\n",
       "\n",
       "#sk-container-id-4 div.sk-estimator.fitted {\n",
       "  /* fitted */\n",
       "  background-color: var(--sklearn-color-fitted-level-0);\n",
       "}\n",
       "\n",
       "/* on hover */\n",
       "#sk-container-id-4 div.sk-estimator:hover {\n",
       "  /* unfitted */\n",
       "  background-color: var(--sklearn-color-unfitted-level-2);\n",
       "}\n",
       "\n",
       "#sk-container-id-4 div.sk-estimator.fitted:hover {\n",
       "  /* fitted */\n",
       "  background-color: var(--sklearn-color-fitted-level-2);\n",
       "}\n",
       "\n",
       "/* Specification for estimator info (e.g. \"i\" and \"?\") */\n",
       "\n",
       "/* Common style for \"i\" and \"?\" */\n",
       "\n",
       ".sk-estimator-doc-link,\n",
       "a:link.sk-estimator-doc-link,\n",
       "a:visited.sk-estimator-doc-link {\n",
       "  float: right;\n",
       "  font-size: smaller;\n",
       "  line-height: 1em;\n",
       "  font-family: monospace;\n",
       "  background-color: var(--sklearn-color-background);\n",
       "  border-radius: 1em;\n",
       "  height: 1em;\n",
       "  width: 1em;\n",
       "  text-decoration: none !important;\n",
       "  margin-left: 1ex;\n",
       "  /* unfitted */\n",
       "  border: var(--sklearn-color-unfitted-level-1) 1pt solid;\n",
       "  color: var(--sklearn-color-unfitted-level-1);\n",
       "}\n",
       "\n",
       ".sk-estimator-doc-link.fitted,\n",
       "a:link.sk-estimator-doc-link.fitted,\n",
       "a:visited.sk-estimator-doc-link.fitted {\n",
       "  /* fitted */\n",
       "  border: var(--sklearn-color-fitted-level-1) 1pt solid;\n",
       "  color: var(--sklearn-color-fitted-level-1);\n",
       "}\n",
       "\n",
       "/* On hover */\n",
       "div.sk-estimator:hover .sk-estimator-doc-link:hover,\n",
       ".sk-estimator-doc-link:hover,\n",
       "div.sk-label-container:hover .sk-estimator-doc-link:hover,\n",
       ".sk-estimator-doc-link:hover {\n",
       "  /* unfitted */\n",
       "  background-color: var(--sklearn-color-unfitted-level-3);\n",
       "  color: var(--sklearn-color-background);\n",
       "  text-decoration: none;\n",
       "}\n",
       "\n",
       "div.sk-estimator.fitted:hover .sk-estimator-doc-link.fitted:hover,\n",
       ".sk-estimator-doc-link.fitted:hover,\n",
       "div.sk-label-container:hover .sk-estimator-doc-link.fitted:hover,\n",
       ".sk-estimator-doc-link.fitted:hover {\n",
       "  /* fitted */\n",
       "  background-color: var(--sklearn-color-fitted-level-3);\n",
       "  color: var(--sklearn-color-background);\n",
       "  text-decoration: none;\n",
       "}\n",
       "\n",
       "/* Span, style for the box shown on hovering the info icon */\n",
       ".sk-estimator-doc-link span {\n",
       "  display: none;\n",
       "  z-index: 9999;\n",
       "  position: relative;\n",
       "  font-weight: normal;\n",
       "  right: .2ex;\n",
       "  padding: .5ex;\n",
       "  margin: .5ex;\n",
       "  width: min-content;\n",
       "  min-width: 20ex;\n",
       "  max-width: 50ex;\n",
       "  color: var(--sklearn-color-text);\n",
       "  box-shadow: 2pt 2pt 4pt #999;\n",
       "  /* unfitted */\n",
       "  background: var(--sklearn-color-unfitted-level-0);\n",
       "  border: .5pt solid var(--sklearn-color-unfitted-level-3);\n",
       "}\n",
       "\n",
       ".sk-estimator-doc-link.fitted span {\n",
       "  /* fitted */\n",
       "  background: var(--sklearn-color-fitted-level-0);\n",
       "  border: var(--sklearn-color-fitted-level-3);\n",
       "}\n",
       "\n",
       ".sk-estimator-doc-link:hover span {\n",
       "  display: block;\n",
       "}\n",
       "\n",
       "/* \"?\"-specific style due to the `<a>` HTML tag */\n",
       "\n",
       "#sk-container-id-4 a.estimator_doc_link {\n",
       "  float: right;\n",
       "  font-size: 1rem;\n",
       "  line-height: 1em;\n",
       "  font-family: monospace;\n",
       "  background-color: var(--sklearn-color-background);\n",
       "  border-radius: 1rem;\n",
       "  height: 1rem;\n",
       "  width: 1rem;\n",
       "  text-decoration: none;\n",
       "  /* unfitted */\n",
       "  color: var(--sklearn-color-unfitted-level-1);\n",
       "  border: var(--sklearn-color-unfitted-level-1) 1pt solid;\n",
       "}\n",
       "\n",
       "#sk-container-id-4 a.estimator_doc_link.fitted {\n",
       "  /* fitted */\n",
       "  border: var(--sklearn-color-fitted-level-1) 1pt solid;\n",
       "  color: var(--sklearn-color-fitted-level-1);\n",
       "}\n",
       "\n",
       "/* On hover */\n",
       "#sk-container-id-4 a.estimator_doc_link:hover {\n",
       "  /* unfitted */\n",
       "  background-color: var(--sklearn-color-unfitted-level-3);\n",
       "  color: var(--sklearn-color-background);\n",
       "  text-decoration: none;\n",
       "}\n",
       "\n",
       "#sk-container-id-4 a.estimator_doc_link.fitted:hover {\n",
       "  /* fitted */\n",
       "  background-color: var(--sklearn-color-fitted-level-3);\n",
       "}\n",
       "</style><div id=\"sk-container-id-4\" class=\"sk-top-container\"><div class=\"sk-text-repr-fallback\"><pre> ARIMA(3,2,2)(0,0,0)[0] intercept</pre><b>In a Jupyter environment, please rerun this cell to show the HTML representation or trust the notebook. <br />On GitHub, the HTML representation is unable to render, please try loading this page with nbviewer.org.</b></div><div class=\"sk-container\" hidden><div class=\"sk-item\"><div class=\"sk-estimator fitted sk-toggleable\"><input class=\"sk-toggleable__control sk-hidden--visually\" id=\"sk-estimator-id-4\" type=\"checkbox\" checked><label for=\"sk-estimator-id-4\" class=\"sk-toggleable__label fitted sk-toggleable__label-arrow fitted\">&nbsp;ARIMA<span class=\"sk-estimator-doc-link fitted\">i<span>Fitted</span></span></label><div class=\"sk-toggleable__content fitted\"><pre> ARIMA(3,2,2)(0,0,0)[0] intercept</pre></div> </div></div></div></div>"
      ],
      "text/plain": [
       "ARIMA(order=(3, 2, 2), scoring_args={}, suppress_warnings=True)"
      ]
     },
     "execution_count": 30,
     "metadata": {},
     "output_type": "execute_result"
    }
   ],
   "source": [
    "model"
   ]
  },
  {
   "cell_type": "code",
   "execution_count": 31,
   "metadata": {
    "colab": {
     "base_uri": "https://localhost:8080/"
    },
    "id": "33lhhGIN7P47",
    "outputId": "d8b8a074-bb92-47de-8c7b-2c9f54ec9ae6"
   },
   "outputs": [
    {
     "name": "stdout",
     "output_type": "stream",
     "text": [
      "                               SARIMAX Results                                \n",
      "==============================================================================\n",
      "Dep. Variable:                      y   No. Observations:                   70\n",
      "Model:               SARIMAX(3, 2, 2)   Log Likelihood                 -11.458\n",
      "Date:                Wed, 27 Nov 2024   AIC                             36.916\n",
      "Time:                        19:03:37   BIC                             52.453\n",
      "Sample:                             0   HQIC                            43.072\n",
      "                                 - 70                                         \n",
      "Covariance Type:                  opg                                         \n",
      "==============================================================================\n",
      "                 coef    std err          z      P>|z|      [0.025      0.975]\n",
      "------------------------------------------------------------------------------\n",
      "intercept      0.0175      0.002      7.375      0.000       0.013       0.022\n",
      "ar.L1         -1.1087      0.054    -20.502      0.000      -1.215      -1.003\n",
      "ar.L2         -1.0930      0.050    -21.888      0.000      -1.191      -0.995\n",
      "ar.L3         -0.9529      0.042    -22.756      0.000      -1.035      -0.871\n",
      "ma.L1         -0.5247      0.158     -3.315      0.001      -0.835      -0.214\n",
      "ma.L2         -0.4424      0.136     -3.252      0.001      -0.709      -0.176\n",
      "sigma2         0.0685      0.011      6.097      0.000       0.046       0.090\n",
      "===================================================================================\n",
      "Ljung-Box (L1) (Q):                   0.02   Jarque-Bera (JB):                 8.72\n",
      "Prob(Q):                              0.88   Prob(JB):                         0.01\n",
      "Heteroskedasticity (H):              24.68   Skew:                             0.55\n",
      "Prob(H) (two-sided):                  0.00   Kurtosis:                         4.37\n",
      "===================================================================================\n",
      "\n",
      "Warnings:\n",
      "[1] Covariance matrix calculated using the outer product of gradients (complex-step).\n"
     ]
    }
   ],
   "source": [
    "model = ARIMA(order=(3,2,2))\n",
    "model.fit(train)\n",
    "print(model.summary())"
   ]
  },
  {
   "cell_type": "markdown",
   "metadata": {
    "id": "yGYhHQZj7P47"
   },
   "source": [
    "## ARIMAX\n",
    "La X viene de exogenous. Significa que le podemos añadir una variable externa con la que entrenar el modelo.\n",
    "\n",
    "Vamos a probar con los datos de la bolsa. Primero un auto_arima con los datos a cierre. Y después un auto_arima acompañado de los datos de apertura de bolsa, a ver cuánto ayudan a predecir el cierre."
   ]
  },
  {
   "cell_type": "code",
   "execution_count": 32,
   "metadata": {
    "colab": {
     "base_uri": "https://localhost:8080/",
     "height": 255
    },
    "id": "kSVhRx7r7P48",
    "outputId": "653be815-81fc-44d6-c395-9473455e857a"
   },
   "outputs": [
    {
     "name": "stdout",
     "output_type": "stream",
     "text": [
      "1259\n"
     ]
    },
    {
     "data": {
      "text/html": [
       "<div>\n",
       "<style scoped>\n",
       "    .dataframe tbody tr th:only-of-type {\n",
       "        vertical-align: middle;\n",
       "    }\n",
       "\n",
       "    .dataframe tbody tr th {\n",
       "        vertical-align: top;\n",
       "    }\n",
       "\n",
       "    .dataframe thead th {\n",
       "        text-align: right;\n",
       "    }\n",
       "</style>\n",
       "<table border=\"1\" class=\"dataframe\">\n",
       "  <thead>\n",
       "    <tr style=\"text-align: right;\">\n",
       "      <th></th>\n",
       "      <th>Open</th>\n",
       "      <th>High</th>\n",
       "      <th>Low</th>\n",
       "      <th>Close</th>\n",
       "      <th>Adj Close</th>\n",
       "      <th>Volume</th>\n",
       "    </tr>\n",
       "    <tr>\n",
       "      <th>Date</th>\n",
       "      <th></th>\n",
       "      <th></th>\n",
       "      <th></th>\n",
       "      <th></th>\n",
       "      <th></th>\n",
       "      <th></th>\n",
       "    </tr>\n",
       "  </thead>\n",
       "  <tbody>\n",
       "    <tr>\n",
       "      <th>2014-12-08</th>\n",
       "      <td>76.180000</td>\n",
       "      <td>77.250000</td>\n",
       "      <td>75.400002</td>\n",
       "      <td>76.519997</td>\n",
       "      <td>76.519997</td>\n",
       "      <td>25733900</td>\n",
       "    </tr>\n",
       "    <tr>\n",
       "      <th>2014-12-09</th>\n",
       "      <td>75.199997</td>\n",
       "      <td>76.930000</td>\n",
       "      <td>74.779999</td>\n",
       "      <td>76.839996</td>\n",
       "      <td>76.839996</td>\n",
       "      <td>25358600</td>\n",
       "    </tr>\n",
       "    <tr>\n",
       "      <th>2014-12-10</th>\n",
       "      <td>76.650002</td>\n",
       "      <td>77.550003</td>\n",
       "      <td>76.070000</td>\n",
       "      <td>76.180000</td>\n",
       "      <td>76.180000</td>\n",
       "      <td>32210500</td>\n",
       "    </tr>\n",
       "    <tr>\n",
       "      <th>2014-12-11</th>\n",
       "      <td>76.519997</td>\n",
       "      <td>78.519997</td>\n",
       "      <td>76.480003</td>\n",
       "      <td>77.730003</td>\n",
       "      <td>77.730003</td>\n",
       "      <td>33462100</td>\n",
       "    </tr>\n",
       "    <tr>\n",
       "      <th>2014-12-12</th>\n",
       "      <td>77.160004</td>\n",
       "      <td>78.879997</td>\n",
       "      <td>77.019997</td>\n",
       "      <td>77.830002</td>\n",
       "      <td>77.830002</td>\n",
       "      <td>28091600</td>\n",
       "    </tr>\n",
       "  </tbody>\n",
       "</table>\n",
       "</div>"
      ],
      "text/plain": [
       "                 Open       High        Low      Close  Adj Close    Volume\n",
       "Date                                                                       \n",
       "2014-12-08  76.180000  77.250000  75.400002  76.519997  76.519997  25733900\n",
       "2014-12-09  75.199997  76.930000  74.779999  76.839996  76.839996  25358600\n",
       "2014-12-10  76.650002  77.550003  76.070000  76.180000  76.180000  32210500\n",
       "2014-12-11  76.519997  78.519997  76.480003  77.730003  77.730003  33462100\n",
       "2014-12-12  77.160004  78.879997  77.019997  77.830002  77.830002  28091600"
      ]
     },
     "execution_count": 32,
     "metadata": {},
     "output_type": "execute_result"
    }
   ],
   "source": [
    "stock_df = pd.read_csv('data/FB.csv', header=0, index_col=0)\n",
    "print(len(stock_df))\n",
    "stock_df.head()"
   ]
  },
  {
   "cell_type": "code",
   "execution_count": 33,
   "metadata": {
    "colab": {
     "base_uri": "https://localhost:8080/",
     "height": 388
    },
    "id": "t_r6reK67P48",
    "outputId": "87a8455c-1899-4f89-d99f-885a01772af5"
   },
   "outputs": [
    {
     "data": {
      "image/png": "[encoded data removed]",
      "text/plain": [
       "<Figure size 1500x600 with 1 Axes>"
      ]
     },
     "metadata": {},
     "output_type": "display_data"
    }
   ],
   "source": [
    "stock_df['Close'].plot(figsize=(15,6));"
   ]
  },
  {
   "cell_type": "code",
   "execution_count": 34,
   "metadata": {},
   "outputs": [
    {
     "data": {
      "text/plain": [
       "1259"
      ]
     },
     "execution_count": 34,
     "metadata": {},
     "output_type": "execute_result"
    }
   ],
   "source": [
    "len(stock_df['Close'])"
   ]
  },
  {
   "cell_type": "code",
   "execution_count": 35,
   "metadata": {},
   "outputs": [
    {
     "data": {
      "text/plain": [
       "count    600.000000\n",
       "mean     106.499583\n",
       "std       19.865461\n",
       "min       74.050003\n",
       "25%       87.932497\n",
       "50%      107.840001\n",
       "75%      121.807497\n",
       "max      146.559998\n",
       "Name: Close, dtype: float64"
      ]
     },
     "execution_count": 35,
     "metadata": {},
     "output_type": "execute_result"
    }
   ],
   "source": [
    "stock_df['Close'][:600].describe()"
   ]
  },
  {
   "cell_type": "code",
   "execution_count": 36,
   "metadata": {},
   "outputs": [
    {
     "data": {
      "text/plain": [
       "count    659.000000\n",
       "mean     173.255326\n",
       "std       17.356365\n",
       "min      124.059998\n",
       "25%      162.514999\n",
       "50%      175.130005\n",
       "75%      185.550003\n",
       "max      217.500000\n",
       "Name: Close, dtype: float64"
      ]
     },
     "execution_count": 36,
     "metadata": {},
     "output_type": "execute_result"
    }
   ],
   "source": [
    "stock_df['Close'][600:].describe()"
   ]
  },
  {
   "cell_type": "markdown",
   "metadata": {
    "id": "LIkpLZ3M7P49"
   },
   "source": [
    "Vemos primero ejemplo sin variable exogena"
   ]
  },
  {
   "cell_type": "code",
   "execution_count": 37,
   "metadata": {
    "id": "_UBZ39ii7P49"
   },
   "outputs": [],
   "source": [
    "train = stock_df['Close'][0:1240].values\n",
    "test = stock_df['Close'][1240:].values"
   ]
  },
  {
   "cell_type": "code",
   "execution_count": 38,
   "metadata": {},
   "outputs": [
    {
     "data": {
      "text/plain": [
       "19"
      ]
     },
     "execution_count": 38,
     "metadata": {},
     "output_type": "execute_result"
    }
   ],
   "source": [
    "len(test)"
   ]
  },
  {
   "attachments": {},
   "cell_type": "markdown",
   "metadata": {
    "id": "vjUGt9A77P49"
   },
   "source": [
    "Vamos a probar varios SARIMA, a ver cuál sería la mejor combinación de hiperparámetros."
   ]
  },
  {
   "cell_type": "code",
   "execution_count": 39,
   "metadata": {
    "colab": {
     "base_uri": "https://localhost:8080/"
    },
    "id": "6Ml7Wzwm7P4-",
    "outputId": "50e6aa11-b792-4136-e03b-7ac7e2f95869"
   },
   "outputs": [
    {
     "name": "stdout",
     "output_type": "stream",
     "text": [
      "Performing stepwise search to minimize aic\n",
      " ARIMA(1,1,1)(0,0,0)[0] intercept   : AIC=5973.080, Time=0.70 sec\n",
      " ARIMA(0,1,0)(0,0,0)[0] intercept   : AIC=5975.597, Time=0.03 sec\n",
      " ARIMA(1,1,0)(0,0,0)[0] intercept   : AIC=5977.174, Time=0.11 sec\n",
      " ARIMA(0,1,1)(0,0,0)[0] intercept   : AIC=5977.161, Time=0.14 sec\n",
      " ARIMA(0,1,0)(0,0,0)[0]             : AIC=5975.049, Time=0.03 sec\n",
      " ARIMA(2,1,1)(0,0,0)[0] intercept   : AIC=5974.760, Time=0.72 sec\n",
      " ARIMA(1,1,2)(0,0,0)[0] intercept   : AIC=inf, Time=1.38 sec\n",
      " ARIMA(0,1,2)(0,0,0)[0] intercept   : AIC=5978.841, Time=0.20 sec\n",
      " ARIMA(2,1,0)(0,0,0)[0] intercept   : AIC=5978.892, Time=0.14 sec\n",
      " ARIMA(2,1,2)(0,0,0)[0] intercept   : AIC=inf, Time=1.69 sec\n",
      " ARIMA(1,1,1)(0,0,0)[0]             : AIC=5973.656, Time=0.21 sec\n",
      "\n",
      "Best model:  ARIMA(1,1,1)(0,0,0)[0] intercept\n",
      "Total fit time: 5.355 seconds\n",
      "5973.079582515575\n"
     ]
    }
   ],
   "source": [
    "stepwise_model = auto_arima(train,\n",
    "                            start_p=1,\n",
    "                            start_q=1,\n",
    "                            max_d=3,\n",
    "                            max_p=5,\n",
    "                            max_q=5,\n",
    "                            stationary=False,\n",
    "                            trace=True,\n",
    "                           stepwise=True)\n",
    "print(stepwise_model.aic())\n"
   ]
  },
  {
   "cell_type": "markdown",
   "metadata": {
    "id": "fQxbqMwP7P4-"
   },
   "source": [
    "Ya lo tenemos, ahora montaremos el modelo con esos hiperparámetros y vemos que AIC tiene."
   ]
  },
  {
   "cell_type": "code",
   "execution_count": 40,
   "metadata": {
    "colab": {
     "base_uri": "https://localhost:8080/"
    },
    "id": "hZTBM-uv7P4-",
    "outputId": "fc4daf0b-e113-4d7b-f2ef-1e81bdc2b66a"
   },
   "outputs": [
    {
     "name": "stdout",
     "output_type": "stream",
     "text": [
      "                               SARIMAX Results                                \n",
      "==============================================================================\n",
      "Dep. Variable:                      y   No. Observations:                 1240\n",
      "Model:               SARIMAX(1, 1, 1)   Log Likelihood               -2982.540\n",
      "Date:                Wed, 27 Nov 2024   AIC                           5973.080\n",
      "Time:                        19:03:43   BIC                           5993.568\n",
      "Sample:                             0   HQIC                          5980.785\n",
      "                               - 1240                                         \n",
      "Covariance Type:                  opg                                         \n",
      "==============================================================================\n",
      "                 coef    std err          z      P>|z|      [0.025      0.975]\n",
      "------------------------------------------------------------------------------\n",
      "intercept      0.0125      0.012      1.065      0.287      -0.010       0.035\n",
      "ar.L1          0.8642      0.086     10.019      0.000       0.695       1.033\n",
      "ma.L1         -0.9007      0.075    -11.983      0.000      -1.048      -0.753\n",
      "sigma2         7.2179      0.082     88.324      0.000       7.058       7.378\n",
      "===================================================================================\n",
      "Ljung-Box (L1) (Q):                   0.20   Jarque-Bera (JB):            113668.92\n",
      "Prob(Q):                              0.65   Prob(JB):                         0.00\n",
      "Heteroskedasticity (H):               4.82   Skew:                            -2.83\n",
      "Prob(H) (two-sided):                  0.00   Kurtosis:                        49.58\n",
      "===================================================================================\n",
      "\n",
      "Warnings:\n",
      "[1] Covariance matrix calculated using the outer product of gradients (complex-step).\n"
     ]
    }
   ],
   "source": [
    "model = ARIMA(order=(1,1,1))\n",
    "model.fit(train)\n",
    "print(model.summary())"
   ]
  },
  {
   "cell_type": "code",
   "execution_count": 41,
   "metadata": {
    "colab": {
     "base_uri": "https://localhost:8080/"
    },
    "id": "CfJ1UEVP7P4-",
    "outputId": "44163931-b148-400a-c274-b22673010e79"
   },
   "outputs": [
    {
     "name": "stdout",
     "output_type": "stream",
     "text": [
      "mean_squared_error: 45.03314158782653\n"
     ]
    }
   ],
   "source": [
    "predictions = model.predict(19)\n",
    "print(\"mean_squared_error:\", mean_squared_error(test, predictions))"
   ]
  },
  {
   "cell_type": "code",
   "execution_count": 42,
   "metadata": {},
   "outputs": [
    {
     "data": {
      "image/png": "[encoded data removed]",
      "text/plain": [
       "<Figure size 640x480 with 1 Axes>"
      ]
     },
     "metadata": {},
     "output_type": "display_data"
    }
   ],
   "source": [
    "plt.plot(test)\n",
    "plt.plot(predictions,color='red');"
   ]
  },
  {
   "cell_type": "markdown",
   "metadata": {
    "id": "jqDb8kiT7P4_"
   },
   "source": [
    "Vamos ahora a compararlo con el mismo modelo, pero en este caso le añadimos una variable exogena al entrenamiento"
   ]
  },
  {
   "cell_type": "code",
   "execution_count": 43,
   "metadata": {
    "colab": {
     "base_uri": "https://localhost:8080/"
    },
    "id": "Eh0hsmPPQcTT",
    "outputId": "1892e1b8-9935-49d0-db7d-dd66d97638e9"
   },
   "outputs": [
    {
     "data": {
      "text/plain": [
       "array([[ 76.18    ],\n",
       "       [ 75.199997],\n",
       "       [ 76.650002],\n",
       "       ...,\n",
       "       [194.029999],\n",
       "       [191.910004],\n",
       "       [190.      ]])"
      ]
     },
     "execution_count": 43,
     "metadata": {},
     "output_type": "execute_result"
    }
   ],
   "source": [
    "stock_df[['Open']][:1240].values"
   ]
  },
  {
   "cell_type": "code",
   "execution_count": 44,
   "metadata": {
    "colab": {
     "base_uri": "https://localhost:8080/"
    },
    "id": "4s0m87Ym7P4_",
    "outputId": "15d47031-d631-4acc-f187-517848db2b1c"
   },
   "outputs": [
    {
     "name": "stdout",
     "output_type": "stream",
     "text": [
      "                               SARIMAX Results                                \n",
      "==============================================================================\n",
      "Dep. Variable:                      y   No. Observations:                 1240\n",
      "Model:               SARIMAX(1, 1, 1)   Log Likelihood               -2601.451\n",
      "Date:                Wed, 27 Nov 2024   AIC                           5212.902\n",
      "Time:                        19:03:45   BIC                           5238.512\n",
      "Sample:                             0   HQIC                          5222.534\n",
      "                               - 1240                                         \n",
      "Covariance Type:                  opg                                         \n",
      "==============================================================================\n",
      "                 coef    std err          z      P>|z|      [0.025      0.975]\n",
      "------------------------------------------------------------------------------\n",
      "intercept      0.0003      0.000      0.991      0.322      -0.000       0.001\n",
      "x1             0.9972      0.003    387.948      0.000       0.992       1.002\n",
      "ar.L1         -0.1287      0.024     -5.448      0.000      -0.175      -0.082\n",
      "ma.L1         -0.9999      0.056    -18.004      0.000      -1.109      -0.891\n",
      "sigma2         3.8787      0.228     16.988      0.000       3.431       4.326\n",
      "===================================================================================\n",
      "Ljung-Box (L1) (Q):                   0.05   Jarque-Bera (JB):               530.00\n",
      "Prob(Q):                              0.83   Prob(JB):                         0.00\n",
      "Heteroskedasticity (H):               3.87   Skew:                            -0.45\n",
      "Prob(H) (two-sided):                  0.00   Kurtosis:                         6.07\n",
      "===================================================================================\n",
      "\n",
      "Warnings:\n",
      "[1] Covariance matrix calculated using the outer product of gradients (complex-step).\n"
     ]
    }
   ],
   "source": [
    "model = ARIMA(order=(1,1,1))\n",
    "model.fit(train, stock_df['Open'][:1240].values.reshape(-1,1))\n",
    "print(model.summary())"
   ]
  },
  {
   "cell_type": "markdown",
   "metadata": {
    "id": "E5gY02I87P4_"
   },
   "source": [
    "Reduce bastante el AIC"
   ]
  },
  {
   "cell_type": "markdown",
   "metadata": {
    "id": "08mszFPe7P4_"
   },
   "source": [
    "Probemos a entrenar el auto arima con la variable exogena"
   ]
  },
  {
   "cell_type": "code",
   "execution_count": 45,
   "metadata": {
    "colab": {
     "base_uri": "https://localhost:8080/"
    },
    "id": "DSAVAXrs7P5A",
    "outputId": "5fe4348f-dcf4-482e-b70d-284ebab03fa4"
   },
   "outputs": [
    {
     "name": "stdout",
     "output_type": "stream",
     "text": [
      "Performing stepwise search to minimize aic\n",
      " ARIMA(1,0,1)(0,0,0)[0] intercept   : AIC=5206.237, Time=0.44 sec\n",
      " ARIMA(0,0,0)(0,0,0)[0] intercept   : AIC=5226.894, Time=0.32 sec\n",
      " ARIMA(1,0,0)(0,0,0)[0] intercept   : AIC=5207.698, Time=0.13 sec\n",
      " ARIMA(0,0,1)(0,0,0)[0] intercept   : AIC=5206.018, Time=0.34 sec\n",
      " ARIMA(0,0,0)(0,0,0)[0]             : AIC=5225.469, Time=0.47 sec\n",
      " ARIMA(0,0,2)(0,0,0)[0] intercept   : AIC=5206.773, Time=0.44 sec\n",
      " ARIMA(1,0,2)(0,0,0)[0] intercept   : AIC=5208.896, Time=0.95 sec\n",
      " ARIMA(0,0,1)(0,0,0)[0]             : AIC=5204.065, Time=0.27 sec\n",
      " ARIMA(1,0,1)(0,0,0)[0]             : AIC=5204.309, Time=0.54 sec\n",
      " ARIMA(0,0,2)(0,0,0)[0]             : AIC=5204.812, Time=0.43 sec\n",
      " ARIMA(1,0,0)(0,0,0)[0]             : AIC=5205.764, Time=0.09 sec\n",
      " ARIMA(1,0,2)(0,0,0)[0]             : AIC=5206.963, Time=1.65 sec\n",
      "\n",
      "Best model:  ARIMA(0,0,1)(0,0,0)[0]          \n",
      "Total fit time: 6.087 seconds\n",
      "5204.064769420945\n"
     ]
    }
   ],
   "source": [
    "model = auto_arima(train,\n",
    "                   stock_df['Open'][:1240].values.reshape(-1,1),\n",
    "                   start_p=1,\n",
    "                    start_q=1,\n",
    "                    max_d=3,\n",
    "                    max_p=5,\n",
    "                    max_q=5,\n",
    "                    stationary=False,\n",
    "                    trace=True,\n",
    "                    stepwise=True)\n",
    "\n",
    "print(model.aic())"
   ]
  },
  {
   "cell_type": "markdown",
   "metadata": {
    "id": "Uc0k3DWx7P5A"
   },
   "source": [
    "Probemos varias variables exogenas\n",
    "\n",
    "NOTA: para este apartado se utiliza el valor 'Low', que en la vida real no lo tendriamos para realizar la predicción."
   ]
  },
  {
   "cell_type": "code",
   "execution_count": 46,
   "metadata": {
    "colab": {
     "base_uri": "https://localhost:8080/"
    },
    "id": "Z_LZ9P4M7P5B",
    "outputId": "36ece39a-cb86-4f90-ac3f-4153f9106399"
   },
   "outputs": [
    {
     "name": "stdout",
     "output_type": "stream",
     "text": [
      "Performing stepwise search to minimize aic\n",
      " ARIMA(1,1,1)(0,0,0)[0] intercept   : AIC=4082.122, Time=0.89 sec\n",
      " ARIMA(0,1,0)(0,0,0)[0] intercept   : AIC=4733.379, Time=0.09 sec\n",
      " ARIMA(1,1,0)(0,0,0)[0] intercept   : AIC=4453.973, Time=0.22 sec\n",
      " ARIMA(0,1,1)(0,0,0)[0] intercept   : AIC=4086.215, Time=0.62 sec\n",
      " ARIMA(0,1,0)(0,0,0)[0]             : AIC=4731.700, Time=0.32 sec\n",
      " ARIMA(2,1,1)(0,0,0)[0] intercept   : AIC=4077.060, Time=0.94 sec\n",
      " ARIMA(2,1,0)(0,0,0)[0] intercept   : AIC=4265.464, Time=0.41 sec\n",
      " ARIMA(3,1,1)(0,0,0)[0] intercept   : AIC=4075.150, Time=1.41 sec\n",
      " ARIMA(3,1,0)(0,0,0)[0] intercept   : AIC=4201.107, Time=0.54 sec\n",
      " ARIMA(4,1,1)(0,0,0)[0] intercept   : AIC=4076.431, Time=1.73 sec\n",
      " ARIMA(3,1,2)(0,0,0)[0] intercept   : AIC=4076.740, Time=2.20 sec\n",
      " ARIMA(2,1,2)(0,0,0)[0] intercept   : AIC=4077.184, Time=1.69 sec\n",
      " ARIMA(4,1,0)(0,0,0)[0] intercept   : AIC=4177.095, Time=0.63 sec\n",
      " ARIMA(4,1,2)(0,0,0)[0] intercept   : AIC=4076.804, Time=2.87 sec\n",
      " ARIMA(3,1,1)(0,0,0)[0]             : AIC=4076.068, Time=0.77 sec\n",
      "\n",
      "Best model:  ARIMA(3,1,1)(0,0,0)[0] intercept\n",
      "Total fit time: 15.348 seconds\n",
      "4075.1499391024777\n",
      "4075.1499391024777\n"
     ]
    }
   ],
   "source": [
    "model = auto_arima(train,\n",
    "                   stock_df[['Open', 'Low']][:1240].values,\n",
    "                   start_p=1,\n",
    "                    start_q=1,\n",
    "                    max_d=3,\n",
    "                    max_p=5,\n",
    "                    max_q=5,\n",
    "                    stationary=False,\n",
    "                    trace=True,\n",
    "                    stepwise=True)\n",
    "\n",
    "print(model.aic())\n",
    "\n",
    "print(model.aic())"
   ]
  },
  {
   "cell_type": "code",
   "execution_count": 47,
   "metadata": {},
   "outputs": [
    {
     "data": {
      "text/html": [
       "<table class=\"simpletable\">\n",
       "<caption>SARIMAX Results</caption>\n",
       "<tr>\n",
       "  <th>Dep. Variable:</th>           <td>y</td>        <th>  No. Observations:  </th>   <td>1240</td>   \n",
       "</tr>\n",
       "<tr>\n",
       "  <th>Model:</th>           <td>SARIMAX(3, 1, 1)</td> <th>  Log Likelihood     </th> <td>-2029.575</td>\n",
       "</tr>\n",
       "<tr>\n",
       "  <th>Date:</th>            <td>Wed, 27 Nov 2024</td> <th>  AIC                </th> <td>4075.150</td> \n",
       "</tr>\n",
       "<tr>\n",
       "  <th>Time:</th>                <td>19:04:06</td>     <th>  BIC                </th> <td>4116.126</td> \n",
       "</tr>\n",
       "<tr>\n",
       "  <th>Sample:</th>                  <td>0</td>        <th>  HQIC               </th> <td>4090.561</td> \n",
       "</tr>\n",
       "<tr>\n",
       "  <th></th>                      <td> - 1240</td>     <th>                     </th>     <td> </td>    \n",
       "</tr>\n",
       "<tr>\n",
       "  <th>Covariance Type:</th>        <td>opg</td>       <th>                     </th>     <td> </td>    \n",
       "</tr>\n",
       "</table>\n",
       "<table class=\"simpletable\">\n",
       "<tr>\n",
       "      <td></td>         <th>coef</th>     <th>std err</th>      <th>z</th>      <th>P>|z|</th>  <th>[0.025</th>    <th>0.975]</th>  \n",
       "</tr>\n",
       "<tr>\n",
       "  <th>intercept</th> <td>    0.0057</td> <td>    0.004</td> <td>    1.487</td> <td> 0.137</td> <td>   -0.002</td> <td>    0.013</td>\n",
       "</tr>\n",
       "<tr>\n",
       "  <th>x1</th>        <td>   -0.0766</td> <td>    0.016</td> <td>   -4.678</td> <td> 0.000</td> <td>   -0.109</td> <td>   -0.045</td>\n",
       "</tr>\n",
       "<tr>\n",
       "  <th>x2</th>        <td>    1.0291</td> <td>    0.015</td> <td>   68.855</td> <td> 0.000</td> <td>    1.000</td> <td>    1.058</td>\n",
       "</tr>\n",
       "<tr>\n",
       "  <th>ar.L1</th>     <td>   -0.0816</td> <td>    0.028</td> <td>   -2.927</td> <td> 0.003</td> <td>   -0.136</td> <td>   -0.027</td>\n",
       "</tr>\n",
       "<tr>\n",
       "  <th>ar.L2</th>     <td>   -0.0629</td> <td>    0.027</td> <td>   -2.299</td> <td> 0.021</td> <td>   -0.116</td> <td>   -0.009</td>\n",
       "</tr>\n",
       "<tr>\n",
       "  <th>ar.L3</th>     <td>    0.0645</td> <td>    0.026</td> <td>    2.458</td> <td> 0.014</td> <td>    0.013</td> <td>    0.116</td>\n",
       "</tr>\n",
       "<tr>\n",
       "  <th>ma.L1</th>     <td>   -0.9097</td> <td>    0.015</td> <td>  -62.728</td> <td> 0.000</td> <td>   -0.938</td> <td>   -0.881</td>\n",
       "</tr>\n",
       "<tr>\n",
       "  <th>sigma2</th>    <td>    1.5477</td> <td>    0.049</td> <td>   31.820</td> <td> 0.000</td> <td>    1.452</td> <td>    1.643</td>\n",
       "</tr>\n",
       "</table>\n",
       "<table class=\"simpletable\">\n",
       "<tr>\n",
       "  <th>Ljung-Box (L1) (Q):</th>     <td>0.01</td> <th>  Jarque-Bera (JB):  </th> <td>1156.08</td>\n",
       "</tr>\n",
       "<tr>\n",
       "  <th>Prob(Q):</th>                <td>0.94</td> <th>  Prob(JB):          </th>  <td>0.00</td>  \n",
       "</tr>\n",
       "<tr>\n",
       "  <th>Heteroskedasticity (H):</th> <td>2.62</td> <th>  Skew:              </th>  <td>1.26</td>  \n",
       "</tr>\n",
       "<tr>\n",
       "  <th>Prob(H) (two-sided):</th>    <td>0.00</td> <th>  Kurtosis:          </th>  <td>7.00</td>  \n",
       "</tr>\n",
       "</table><br/><br/>Warnings:<br/>[1] Covariance matrix calculated using the outer product of gradients (complex-step)."
      ],
      "text/latex": [
       "\\begin{center}\n",
       "\\begin{tabular}{lclc}\n",
       "\\toprule\n",
       "\\textbf{Dep. Variable:}          &        y         & \\textbf{  No. Observations:  } &    1240     \\\\\n",
       "\\textbf{Model:}                  & SARIMAX(3, 1, 1) & \\textbf{  Log Likelihood     } & -2029.575   \\\\\n",
       "\\textbf{Date:}                   & Wed, 27 Nov 2024 & \\textbf{  AIC                } &  4075.150   \\\\\n",
       "\\textbf{Time:}                   &     19:04:06     & \\textbf{  BIC                } &  4116.126   \\\\\n",
       "\\textbf{Sample:}                 &        0         & \\textbf{  HQIC               } &  4090.561   \\\\\n",
       "\\textbf{}                        &      - 1240      & \\textbf{                     } &             \\\\\n",
       "\\textbf{Covariance Type:}        &       opg        & \\textbf{                     } &             \\\\\n",
       "\\bottomrule\n",
       "\\end{tabular}\n",
       "\\begin{tabular}{lcccccc}\n",
       "                   & \\textbf{coef} & \\textbf{std err} & \\textbf{z} & \\textbf{P$> |$z$|$} & \\textbf{[0.025} & \\textbf{0.975]}  \\\\\n",
       "\\midrule\n",
       "\\textbf{intercept} &       0.0057  &        0.004     &     1.487  &         0.137        &       -0.002    &        0.013     \\\\\n",
       "\\textbf{x1}        &      -0.0766  &        0.016     &    -4.678  &         0.000        &       -0.109    &       -0.045     \\\\\n",
       "\\textbf{x2}        &       1.0291  &        0.015     &    68.855  &         0.000        &        1.000    &        1.058     \\\\\n",
       "\\textbf{ar.L1}     &      -0.0816  &        0.028     &    -2.927  &         0.003        &       -0.136    &       -0.027     \\\\\n",
       "\\textbf{ar.L2}     &      -0.0629  &        0.027     &    -2.299  &         0.021        &       -0.116    &       -0.009     \\\\\n",
       "\\textbf{ar.L3}     &       0.0645  &        0.026     &     2.458  &         0.014        &        0.013    &        0.116     \\\\\n",
       "\\textbf{ma.L1}     &      -0.9097  &        0.015     &   -62.728  &         0.000        &       -0.938    &       -0.881     \\\\\n",
       "\\textbf{sigma2}    &       1.5477  &        0.049     &    31.820  &         0.000        &        1.452    &        1.643     \\\\\n",
       "\\bottomrule\n",
       "\\end{tabular}\n",
       "\\begin{tabular}{lclc}\n",
       "\\textbf{Ljung-Box (L1) (Q):}     & 0.01 & \\textbf{  Jarque-Bera (JB):  } & 1156.08  \\\\\n",
       "\\textbf{Prob(Q):}                & 0.94 & \\textbf{  Prob(JB):          } &   0.00   \\\\\n",
       "\\textbf{Heteroskedasticity (H):} & 2.62 & \\textbf{  Skew:              } &   1.26   \\\\\n",
       "\\textbf{Prob(H) (two-sided):}    & 0.00 & \\textbf{  Kurtosis:          } &   7.00   \\\\\n",
       "\\bottomrule\n",
       "\\end{tabular}\n",
       "%\\caption{SARIMAX Results}\n",
       "\\end{center}\n",
       "\n",
       "Warnings: \\newline\n",
       " [1] Covariance matrix calculated using the outer product of gradients (complex-step)."
      ],
      "text/plain": [
       "<class 'statsmodels.iolib.summary.Summary'>\n",
       "\"\"\"\n",
       "                               SARIMAX Results                                \n",
       "==============================================================================\n",
       "Dep. Variable:                      y   No. Observations:                 1240\n",
       "Model:               SARIMAX(3, 1, 1)   Log Likelihood               -2029.575\n",
       "Date:                Wed, 27 Nov 2024   AIC                           4075.150\n",
       "Time:                        19:04:06   BIC                           4116.126\n",
       "Sample:                             0   HQIC                          4090.561\n",
       "                               - 1240                                         \n",
       "Covariance Type:                  opg                                         \n",
       "==============================================================================\n",
       "                 coef    std err          z      P>|z|      [0.025      0.975]\n",
       "------------------------------------------------------------------------------\n",
       "intercept      0.0057      0.004      1.487      0.137      -0.002       0.013\n",
       "x1            -0.0766      0.016     -4.678      0.000      -0.109      -0.045\n",
       "x2             1.0291      0.015     68.855      0.000       1.000       1.058\n",
       "ar.L1         -0.0816      0.028     -2.927      0.003      -0.136      -0.027\n",
       "ar.L2         -0.0629      0.027     -2.299      0.021      -0.116      -0.009\n",
       "ar.L3          0.0645      0.026      2.458      0.014       0.013       0.116\n",
       "ma.L1         -0.9097      0.015    -62.728      0.000      -0.938      -0.881\n",
       "sigma2         1.5477      0.049     31.820      0.000       1.452       1.643\n",
       "===================================================================================\n",
       "Ljung-Box (L1) (Q):                   0.01   Jarque-Bera (JB):              1156.08\n",
       "Prob(Q):                              0.94   Prob(JB):                         0.00\n",
       "Heteroskedasticity (H):               2.62   Skew:                             1.26\n",
       "Prob(H) (two-sided):                  0.00   Kurtosis:                         7.00\n",
       "===================================================================================\n",
       "\n",
       "Warnings:\n",
       "[1] Covariance matrix calculated using the outer product of gradients (complex-step).\n",
       "\"\"\""
      ]
     },
     "execution_count": 47,
     "metadata": {},
     "output_type": "execute_result"
    }
   ],
   "source": [
    "model.summary()"
   ]
  },
  {
   "cell_type": "code",
   "execution_count": 48,
   "metadata": {},
   "outputs": [
    {
     "name": "stdout",
     "output_type": "stream",
     "text": [
      "mean_squared_error: 1.4426714685630837\n"
     ]
    },
    {
     "data": {
      "image/png": "[encoded data removed]",
      "text/plain": [
       "<Figure size 640x480 with 1 Axes>"
      ]
     },
     "metadata": {},
     "output_type": "display_data"
    }
   ],
   "source": [
    "model = ARIMA(order=(3,1,1))\n",
    "model.fit(train, stock_df[['Open', 'Low']][:1240].values)\n",
    "predictions = model.predict(19 , stock_df[['Open', 'Low']][1240:])\n",
    "print(\"mean_squared_error:\", mean_squared_error(test, predictions))\n",
    "plt.plot(test)\n",
    "plt.plot(predictions,color='red');"
   ]
  },
  {
   "cell_type": "markdown",
   "metadata": {
    "id": "BzrfmiF57P5B"
   },
   "source": [
    "## SARIMA\n",
    "Veamos cómo podemos predecir con datos que tienen estacionalidad, es decir, que cuentan con un patrón que se repite a lo largo del tiempo."
   ]
  },
  {
   "cell_type": "code",
   "execution_count": 49,
   "metadata": {
    "colab": {
     "base_uri": "https://localhost:8080/",
     "height": 255
    },
    "id": "FY2tT5577P5C",
    "outputId": "1ef78f9f-b453-4e48-a733-d274bc1f5dc8"
   },
   "outputs": [
    {
     "name": "stdout",
     "output_type": "stream",
     "text": [
      "204\n"
     ]
    },
    {
     "data": {
      "text/html": [
       "<div>\n",
       "<style scoped>\n",
       "    .dataframe tbody tr th:only-of-type {\n",
       "        vertical-align: middle;\n",
       "    }\n",
       "\n",
       "    .dataframe tbody tr th {\n",
       "        vertical-align: top;\n",
       "    }\n",
       "\n",
       "    .dataframe thead th {\n",
       "        text-align: right;\n",
       "    }\n",
       "</style>\n",
       "<table border=\"1\" class=\"dataframe\">\n",
       "  <thead>\n",
       "    <tr style=\"text-align: right;\">\n",
       "      <th></th>\n",
       "      <th>value</th>\n",
       "    </tr>\n",
       "    <tr>\n",
       "      <th>date</th>\n",
       "      <th></th>\n",
       "    </tr>\n",
       "  </thead>\n",
       "  <tbody>\n",
       "    <tr>\n",
       "      <th>1991-07-01</th>\n",
       "      <td>3.526591</td>\n",
       "    </tr>\n",
       "    <tr>\n",
       "      <th>1991-08-01</th>\n",
       "      <td>3.180891</td>\n",
       "    </tr>\n",
       "    <tr>\n",
       "      <th>1991-09-01</th>\n",
       "      <td>3.252221</td>\n",
       "    </tr>\n",
       "    <tr>\n",
       "      <th>1991-10-01</th>\n",
       "      <td>3.611003</td>\n",
       "    </tr>\n",
       "    <tr>\n",
       "      <th>1991-11-01</th>\n",
       "      <td>3.565869</td>\n",
       "    </tr>\n",
       "  </tbody>\n",
       "</table>\n",
       "</div>"
      ],
      "text/plain": [
       "               value\n",
       "date                \n",
       "1991-07-01  3.526591\n",
       "1991-08-01  3.180891\n",
       "1991-09-01  3.252221\n",
       "1991-10-01  3.611003\n",
       "1991-11-01  3.565869"
      ]
     },
     "execution_count": 49,
     "metadata": {},
     "output_type": "execute_result"
    }
   ],
   "source": [
    "df = pd.read_csv('data/a10.csv', parse_dates=['date'], index_col='date')\n",
    "print(len(df))\n",
    "df.head()"
   ]
  },
  {
   "cell_type": "code",
   "execution_count": 50,
   "metadata": {
    "colab": {
     "base_uri": "https://localhost:8080/",
     "height": 388
    },
    "id": "ryrBd6Sk7P5D",
    "outputId": "fa803524-0e77-4e14-8aed-f1ff1c0c1fe2"
   },
   "outputs": [
    {
     "data": {
      "image/png": "[encoded data removed]",
      "text/plain": [
       "<Figure size 1500x600 with 1 Axes>"
      ]
     },
     "metadata": {},
     "output_type": "display_data"
    }
   ],
   "source": [
    "df['value'].plot(figsize=(15,6));"
   ]
  },
  {
   "cell_type": "code",
   "execution_count": 51,
   "metadata": {
    "colab": {
     "base_uri": "https://localhost:8080/",
     "height": 441
    },
    "id": "kczJzIYc7P5D",
    "outputId": "f81d8ec9-c4ba-4f66-cd1d-2c1ebf56f1a7"
   },
   "outputs": [
    {
     "data": {
      "image/png": "[encoded data removed]",
      "text/plain": [
       "<Figure size 600x600 with 4 Axes>"
      ]
     },
     "metadata": {},
     "output_type": "display_data"
    }
   ],
   "source": [
    "from statsmodels.tsa.seasonal import seasonal_decompose\n",
    "\n",
    "result_add = seasonal_decompose(df[['value']], model='additive', extrapolate_trend='freq')\n",
    "\n",
    "# Plot\n",
    "plt.rcParams.update({'figure.figsize': (6,6)})\n",
    "result_add.plot();"
   ]
  },
  {
   "cell_type": "code",
   "execution_count": 52,
   "metadata": {
    "id": "5e44k5rW7P5D"
   },
   "outputs": [],
   "source": [
    "X = df[['value']]\n",
    "train = X[:-20]\n",
    "test = X[-20:]"
   ]
  },
  {
   "cell_type": "code",
   "execution_count": 53,
   "metadata": {},
   "outputs": [
    {
     "data": {
      "text/plain": [
       "20"
      ]
     },
     "execution_count": 53,
     "metadata": {},
     "output_type": "execute_result"
    }
   ],
   "source": [
    "len(test)"
   ]
  },
  {
   "cell_type": "code",
   "execution_count": 54,
   "metadata": {
    "colab": {
     "base_uri": "https://localhost:8080/",
     "height": 390
    },
    "id": "82_P6vaH7P5E",
    "outputId": "19e88635-35f9-4b1a-8262-aea7d5911c89"
   },
   "outputs": [
    {
     "data": {
      "image/png": "[encoded data removed]",
      "text/plain": [
       "<Figure size 600x600 with 1 Axes>"
      ]
     },
     "metadata": {},
     "output_type": "display_data"
    }
   ],
   "source": [
    "plot_acf(train);"
   ]
  },
  {
   "cell_type": "markdown",
   "metadata": {
    "id": "k1XTZnsf7P5F"
   },
   "source": [
    "Probemos el auto arima sin indicarle que hay componente de seasonality"
   ]
  },
  {
   "cell_type": "code",
   "execution_count": 55,
   "metadata": {
    "colab": {
     "base_uri": "https://localhost:8080/"
    },
    "id": "lm5QnO007P5F",
    "outputId": "f7a06d80-e147-4f4d-906f-5734cd980c91"
   },
   "outputs": [
    {
     "name": "stdout",
     "output_type": "stream",
     "text": [
      "Performing stepwise search to minimize aic\n",
      " ARIMA(1,1,1)(0,0,0)[0] intercept   : AIC=698.391, Time=0.15 sec\n",
      " ARIMA(0,1,0)(0,0,0)[0] intercept   : AIC=764.142, Time=0.02 sec\n",
      " ARIMA(1,1,0)(0,0,0)[0] intercept   : AIC=739.394, Time=0.17 sec\n",
      " ARIMA(0,1,1)(0,0,0)[0] intercept   : AIC=708.405, Time=0.14 sec\n",
      " ARIMA(0,1,0)(0,0,0)[0]             : AIC=762.612, Time=0.02 sec\n",
      " ARIMA(2,1,1)(0,0,0)[0] intercept   : AIC=700.332, Time=0.23 sec\n",
      " ARIMA(1,1,2)(0,0,0)[0] intercept   : AIC=700.362, Time=0.18 sec\n",
      " ARIMA(0,1,2)(0,0,0)[0] intercept   : AIC=699.998, Time=0.11 sec\n",
      " ARIMA(2,1,0)(0,0,0)[0] intercept   : AIC=736.404, Time=0.05 sec\n",
      " ARIMA(2,1,2)(0,0,0)[0] intercept   : AIC=695.600, Time=0.26 sec\n",
      " ARIMA(3,1,2)(0,0,0)[0] intercept   : AIC=697.194, Time=0.39 sec\n",
      " ARIMA(2,1,3)(0,0,0)[0] intercept   : AIC=697.299, Time=0.42 sec\n",
      " ARIMA(1,1,3)(0,0,0)[0] intercept   : AIC=700.821, Time=0.22 sec\n",
      " ARIMA(3,1,1)(0,0,0)[0] intercept   : AIC=699.306, Time=0.24 sec\n",
      " ARIMA(3,1,3)(0,0,0)[0] intercept   : AIC=inf, Time=0.58 sec\n",
      " ARIMA(2,1,2)(0,0,0)[0]             : AIC=711.152, Time=0.21 sec\n",
      "\n",
      "Best model:  ARIMA(2,1,2)(0,0,0)[0] intercept\n",
      "Total fit time: 3.430 seconds\n",
      "695.6004894416161\n",
      "mean_squared_error: 22.93251544161237\n"
     ]
    }
   ],
   "source": [
    "model = auto_arima(train,\n",
    "                    start_p=1,\n",
    "                    start_q=1,\n",
    "                    max_d=3,\n",
    "                    max_p=5,\n",
    "                    max_q=5,\n",
    "                    trace=True,\n",
    "                    stepwise=True)\n",
    "\n",
    "print(model.aic())\n",
    "\n",
    "predictions = model.predict(20)\n",
    "print(\"mean_squared_error:\", mean_squared_error(test, predictions))"
   ]
  },
  {
   "cell_type": "markdown",
   "metadata": {
    "id": "AeNpxugX7P5G"
   },
   "source": [
    "Ahora le añadimos el componente seasonality mediante el parametro `m`."
   ]
  },
  {
   "cell_type": "code",
   "execution_count": 56,
   "metadata": {
    "colab": {
     "base_uri": "https://localhost:8080/"
    },
    "id": "35rOP97L7P5G",
    "outputId": "a3e8a8bd-beb7-4c2e-b796-8c80f0f1983c"
   },
   "outputs": [
    {
     "name": "stdout",
     "output_type": "stream",
     "text": [
      "Performing stepwise search to minimize aic\n",
      " ARIMA(1,1,1)(1,1,1)[12]             : AIC=359.383, Time=0.84 sec\n",
      " ARIMA(0,1,0)(0,1,0)[12]             : AIC=480.967, Time=0.05 sec\n",
      " ARIMA(1,1,0)(1,1,0)[12]             : AIC=391.380, Time=0.31 sec\n",
      " ARIMA(0,1,1)(0,1,1)[12]             : AIC=366.538, Time=0.43 sec\n",
      " ARIMA(1,1,1)(0,1,1)[12]             : AIC=357.778, Time=0.50 sec\n",
      " ARIMA(1,1,1)(0,1,0)[12]             : AIC=367.053, Time=0.11 sec\n",
      " ARIMA(1,1,1)(0,1,2)[12]             : AIC=358.591, Time=1.16 sec\n",
      " ARIMA(1,1,1)(1,1,0)[12]             : AIC=361.813, Time=0.46 sec\n",
      " ARIMA(1,1,1)(1,1,2)[12]             : AIC=357.470, Time=2.43 sec\n",
      " ARIMA(1,1,1)(2,1,2)[12]             : AIC=356.290, Time=2.35 sec\n",
      " ARIMA(1,1,1)(2,1,1)[12]             : AIC=354.319, Time=1.31 sec\n",
      " ARIMA(1,1,1)(2,1,0)[12]             : AIC=353.117, Time=0.63 sec\n",
      " ARIMA(0,1,1)(2,1,0)[12]             : AIC=362.795, Time=1.01 sec\n",
      " ARIMA(1,1,0)(2,1,0)[12]             : AIC=378.264, Time=0.55 sec\n",
      " ARIMA(2,1,1)(2,1,0)[12]             : AIC=352.725, Time=1.87 sec\n",
      " ARIMA(2,1,1)(1,1,0)[12]             : AIC=362.720, Time=0.43 sec\n",
      " ARIMA(2,1,1)(2,1,1)[12]             : AIC=354.658, Time=2.51 sec\n",
      " ARIMA(2,1,1)(1,1,1)[12]             : AIC=359.203, Time=1.99 sec\n",
      " ARIMA(2,1,0)(2,1,0)[12]             : AIC=358.376, Time=0.66 sec\n",
      " ARIMA(3,1,1)(2,1,0)[12]             : AIC=350.112, Time=1.75 sec\n",
      " ARIMA(3,1,1)(1,1,0)[12]             : AIC=361.530, Time=0.95 sec\n",
      " ARIMA(3,1,1)(2,1,1)[12]             : AIC=350.928, Time=2.84 sec\n",
      " ARIMA(3,1,1)(1,1,1)[12]             : AIC=358.632, Time=1.53 sec\n",
      " ARIMA(3,1,0)(2,1,0)[12]             : AIC=359.972, Time=0.71 sec\n",
      " ARIMA(4,1,1)(2,1,0)[12]             : AIC=350.815, Time=2.83 sec\n",
      " ARIMA(3,1,2)(2,1,0)[12]             : AIC=346.048, Time=2.46 sec\n",
      " ARIMA(3,1,2)(1,1,0)[12]             : AIC=357.566, Time=1.03 sec\n",
      " ARIMA(3,1,2)(2,1,1)[12]             : AIC=347.241, Time=3.79 sec\n",
      " ARIMA(3,1,2)(1,1,1)[12]             : AIC=354.730, Time=2.24 sec\n",
      " ARIMA(2,1,2)(2,1,0)[12]             : AIC=352.984, Time=1.83 sec\n",
      " ARIMA(4,1,2)(2,1,0)[12]             : AIC=348.041, Time=4.00 sec\n",
      " ARIMA(3,1,3)(2,1,0)[12]             : AIC=348.038, Time=3.15 sec\n",
      " ARIMA(2,1,3)(2,1,0)[12]             : AIC=346.654, Time=2.97 sec\n",
      " ARIMA(4,1,3)(2,1,0)[12]             : AIC=346.539, Time=7.79 sec\n",
      " ARIMA(3,1,2)(2,1,0)[12] intercept   : AIC=inf, Time=7.12 sec\n",
      "\n",
      "Best model:  ARIMA(3,1,2)(2,1,0)[12]          \n",
      "Total fit time: 66.681 seconds\n",
      "346.0477499376594\n",
      "mean_squared_error: 11.36181829542272\n"
     ]
    }
   ],
   "source": [
    "model = auto_arima(train,\n",
    "                    start_p=1,\n",
    "                    start_q=1,\n",
    "                    max_d=3,\n",
    "                    max_p=5,\n",
    "                    max_q=5,\n",
    "                    m = 12,\n",
    "                    trace=True,\n",
    "                    stepwise=True)\n",
    "\n",
    "print(model.aic())\n",
    "\n",
    "predictions = model.predict(20)\n",
    "print(\"mean_squared_error:\", mean_squared_error(test, predictions))"
   ]
  },
  {
   "cell_type": "code",
   "execution_count": 57,
   "metadata": {},
   "outputs": [
    {
     "data": {
      "text/plain": [
       "2006-11-01    18.570333\n",
       "2006-12-01    22.084871\n",
       "2007-01-01    24.115988\n",
       "2007-02-01    14.365633\n",
       "2007-03-01    17.673853\n",
       "2007-04-01    15.421369\n",
       "2007-05-01    19.613830\n",
       "2007-06-01    17.414786\n",
       "2007-07-01    19.077558\n",
       "2007-08-01    19.775311\n",
       "2007-09-01    18.593205\n",
       "2007-10-01    22.553719\n",
       "2007-11-01    20.329123\n",
       "2007-12-01    23.594820\n",
       "2008-01-01    25.213164\n",
       "2008-02-01    16.140526\n",
       "2008-03-01    18.666508\n",
       "2008-04-01    17.487842\n",
       "2008-05-01    20.446407\n",
       "2008-06-01    19.188698\n",
       "Freq: MS, dtype: float64"
      ]
     },
     "execution_count": 57,
     "metadata": {},
     "output_type": "execute_result"
    }
   ],
   "source": [
    "predictions"
   ]
  },
  {
   "cell_type": "code",
   "execution_count": 58,
   "metadata": {},
   "outputs": [
    {
     "data": {
      "text/plain": [
       "array([[23.575517  ],\n",
       "       [23.334206  ],\n",
       "       [28.038383  ],\n",
       "       [16.763869  ],\n",
       "       [19.792754  ],\n",
       "       [16.427305  ],\n",
       "       [21.000742  ],\n",
       "       [20.681002  ],\n",
       "       [21.83489   ],\n",
       "       [23.93020353],\n",
       "       [22.93035694],\n",
       "       [23.26333992],\n",
       "       [25.25003022],\n",
       "       [25.80609   ],\n",
       "       [29.665356  ],\n",
       "       [21.654285  ],\n",
       "       [18.264945  ],\n",
       "       [23.107677  ],\n",
       "       [22.91251   ],\n",
       "       [19.43174   ]])"
      ]
     },
     "execution_count": 58,
     "metadata": {},
     "output_type": "execute_result"
    }
   ],
   "source": [
    "test.values"
   ]
  },
  {
   "cell_type": "code",
   "execution_count": 59,
   "metadata": {},
   "outputs": [
    {
     "name": "stdout",
     "output_type": "stream",
     "text": [
      "mean_squared_error: 11.36181829542272\n"
     ]
    },
    {
     "data": {
      "image/png": "[encoded data removed]",
      "text/plain": [
       "<Figure size 600x600 with 1 Axes>"
      ]
     },
     "metadata": {},
     "output_type": "display_data"
    }
   ],
   "source": [
    "predictions = model.predict(20)\n",
    "print(\"mean_squared_error:\", mean_squared_error(test, predictions))\n",
    "plt.plot(test.values)\n",
    "plt.plot(predictions.values,color='red');"
   ]
  },
  {
   "attachments": {},
   "cell_type": "markdown",
   "metadata": {},
   "source": [
    "## Transformar dataset para poder predecir con otros modelos"
   ]
  },
  {
   "cell_type": "code",
   "execution_count": 60,
   "metadata": {},
   "outputs": [
    {
     "name": "stdout",
     "output_type": "stream",
     "text": [
      "204\n"
     ]
    },
    {
     "data": {
      "text/html": [
       "<div>\n",
       "<style scoped>\n",
       "    .dataframe tbody tr th:only-of-type {\n",
       "        vertical-align: middle;\n",
       "    }\n",
       "\n",
       "    .dataframe tbody tr th {\n",
       "        vertical-align: top;\n",
       "    }\n",
       "\n",
       "    .dataframe thead th {\n",
       "        text-align: right;\n",
       "    }\n",
       "</style>\n",
       "<table border=\"1\" class=\"dataframe\">\n",
       "  <thead>\n",
       "    <tr style=\"text-align: right;\">\n",
       "      <th></th>\n",
       "      <th>value</th>\n",
       "    </tr>\n",
       "    <tr>\n",
       "      <th>date</th>\n",
       "      <th></th>\n",
       "    </tr>\n",
       "  </thead>\n",
       "  <tbody>\n",
       "    <tr>\n",
       "      <th>1991-07-01</th>\n",
       "      <td>3.526591</td>\n",
       "    </tr>\n",
       "    <tr>\n",
       "      <th>1991-08-01</th>\n",
       "      <td>3.180891</td>\n",
       "    </tr>\n",
       "    <tr>\n",
       "      <th>1991-09-01</th>\n",
       "      <td>3.252221</td>\n",
       "    </tr>\n",
       "    <tr>\n",
       "      <th>1991-10-01</th>\n",
       "      <td>3.611003</td>\n",
       "    </tr>\n",
       "    <tr>\n",
       "      <th>1991-11-01</th>\n",
       "      <td>3.565869</td>\n",
       "    </tr>\n",
       "  </tbody>\n",
       "</table>\n",
       "</div>"
      ],
      "text/plain": [
       "               value\n",
       "date                \n",
       "1991-07-01  3.526591\n",
       "1991-08-01  3.180891\n",
       "1991-09-01  3.252221\n",
       "1991-10-01  3.611003\n",
       "1991-11-01  3.565869"
      ]
     },
     "execution_count": 60,
     "metadata": {},
     "output_type": "execute_result"
    }
   ],
   "source": [
    "df = pd.read_csv('data/a10.csv', parse_dates=['date'], index_col='date')\n",
    "print(len(df))\n",
    "df.head()"
   ]
  },
  {
   "cell_type": "code",
   "execution_count": 61,
   "metadata": {},
   "outputs": [
    {
     "data": {
      "text/plain": [
       "date\n",
       "1991-07-01          NaN\n",
       "1991-08-01     3.526591\n",
       "1991-09-01     3.180891\n",
       "1991-10-01     3.252221\n",
       "1991-11-01     3.611003\n",
       "                ...    \n",
       "2008-02-01    29.665356\n",
       "2008-03-01    21.654285\n",
       "2008-04-01    18.264945\n",
       "2008-05-01    23.107677\n",
       "2008-06-01    22.912510\n",
       "Name: value, Length: 204, dtype: float64"
      ]
     },
     "execution_count": 61,
     "metadata": {},
     "output_type": "execute_result"
    }
   ],
   "source": [
    "df['value'].shift(1)"
   ]
  },
  {
   "cell_type": "code",
   "execution_count": 62,
   "metadata": {},
   "outputs": [
    {
     "data": {
      "text/html": [
       "<div>\n",
       "<style scoped>\n",
       "    .dataframe tbody tr th:only-of-type {\n",
       "        vertical-align: middle;\n",
       "    }\n",
       "\n",
       "    .dataframe tbody tr th {\n",
       "        vertical-align: top;\n",
       "    }\n",
       "\n",
       "    .dataframe thead th {\n",
       "        text-align: right;\n",
       "    }\n",
       "</style>\n",
       "<table border=\"1\" class=\"dataframe\">\n",
       "  <thead>\n",
       "    <tr style=\"text-align: right;\">\n",
       "      <th></th>\n",
       "      <th>value</th>\n",
       "      <th>t-12</th>\n",
       "      <th>t-11</th>\n",
       "      <th>t-10</th>\n",
       "      <th>t-9</th>\n",
       "      <th>t-8</th>\n",
       "      <th>t-7</th>\n",
       "      <th>t-6</th>\n",
       "      <th>t-5</th>\n",
       "      <th>t-4</th>\n",
       "      <th>t-3</th>\n",
       "      <th>t-2</th>\n",
       "      <th>t-1</th>\n",
       "    </tr>\n",
       "    <tr>\n",
       "      <th>date</th>\n",
       "      <th></th>\n",
       "      <th></th>\n",
       "      <th></th>\n",
       "      <th></th>\n",
       "      <th></th>\n",
       "      <th></th>\n",
       "      <th></th>\n",
       "      <th></th>\n",
       "      <th></th>\n",
       "      <th></th>\n",
       "      <th></th>\n",
       "      <th></th>\n",
       "      <th></th>\n",
       "    </tr>\n",
       "  </thead>\n",
       "  <tbody>\n",
       "    <tr>\n",
       "      <th>1992-07-01</th>\n",
       "      <td>3.737851</td>\n",
       "      <td>3.526591</td>\n",
       "      <td>3.180891</td>\n",
       "      <td>3.252221</td>\n",
       "      <td>3.611003</td>\n",
       "      <td>3.565869</td>\n",
       "      <td>4.306371</td>\n",
       "      <td>5.088335</td>\n",
       "      <td>2.814520</td>\n",
       "      <td>2.985811</td>\n",
       "      <td>3.204780</td>\n",
       "      <td>3.127578</td>\n",
       "      <td>3.270523</td>\n",
       "    </tr>\n",
       "    <tr>\n",
       "      <th>1992-08-01</th>\n",
       "      <td>3.558776</td>\n",
       "      <td>3.180891</td>\n",
       "      <td>3.252221</td>\n",
       "      <td>3.611003</td>\n",
       "      <td>3.565869</td>\n",
       "      <td>4.306371</td>\n",
       "      <td>5.088335</td>\n",
       "      <td>2.814520</td>\n",
       "      <td>2.985811</td>\n",
       "      <td>3.204780</td>\n",
       "      <td>3.127578</td>\n",
       "      <td>3.270523</td>\n",
       "      <td>3.737851</td>\n",
       "    </tr>\n",
       "    <tr>\n",
       "      <th>1992-09-01</th>\n",
       "      <td>3.777202</td>\n",
       "      <td>3.252221</td>\n",
       "      <td>3.611003</td>\n",
       "      <td>3.565869</td>\n",
       "      <td>4.306371</td>\n",
       "      <td>5.088335</td>\n",
       "      <td>2.814520</td>\n",
       "      <td>2.985811</td>\n",
       "      <td>3.204780</td>\n",
       "      <td>3.127578</td>\n",
       "      <td>3.270523</td>\n",
       "      <td>3.737851</td>\n",
       "      <td>3.558776</td>\n",
       "    </tr>\n",
       "    <tr>\n",
       "      <th>1992-10-01</th>\n",
       "      <td>3.924490</td>\n",
       "      <td>3.611003</td>\n",
       "      <td>3.565869</td>\n",
       "      <td>4.306371</td>\n",
       "      <td>5.088335</td>\n",
       "      <td>2.814520</td>\n",
       "      <td>2.985811</td>\n",
       "      <td>3.204780</td>\n",
       "      <td>3.127578</td>\n",
       "      <td>3.270523</td>\n",
       "      <td>3.737851</td>\n",
       "      <td>3.558776</td>\n",
       "      <td>3.777202</td>\n",
       "    </tr>\n",
       "    <tr>\n",
       "      <th>1992-11-01</th>\n",
       "      <td>4.386531</td>\n",
       "      <td>3.565869</td>\n",
       "      <td>4.306371</td>\n",
       "      <td>5.088335</td>\n",
       "      <td>2.814520</td>\n",
       "      <td>2.985811</td>\n",
       "      <td>3.204780</td>\n",
       "      <td>3.127578</td>\n",
       "      <td>3.270523</td>\n",
       "      <td>3.737851</td>\n",
       "      <td>3.558776</td>\n",
       "      <td>3.777202</td>\n",
       "      <td>3.924490</td>\n",
       "    </tr>\n",
       "    <tr>\n",
       "      <th>...</th>\n",
       "      <td>...</td>\n",
       "      <td>...</td>\n",
       "      <td>...</td>\n",
       "      <td>...</td>\n",
       "      <td>...</td>\n",
       "      <td>...</td>\n",
       "      <td>...</td>\n",
       "      <td>...</td>\n",
       "      <td>...</td>\n",
       "      <td>...</td>\n",
       "      <td>...</td>\n",
       "      <td>...</td>\n",
       "      <td>...</td>\n",
       "    </tr>\n",
       "    <tr>\n",
       "      <th>2008-02-01</th>\n",
       "      <td>21.654285</td>\n",
       "      <td>16.763869</td>\n",
       "      <td>19.792754</td>\n",
       "      <td>16.427305</td>\n",
       "      <td>21.000742</td>\n",
       "      <td>20.681002</td>\n",
       "      <td>21.834890</td>\n",
       "      <td>23.930204</td>\n",
       "      <td>22.930357</td>\n",
       "      <td>23.263340</td>\n",
       "      <td>25.250030</td>\n",
       "      <td>25.806090</td>\n",
       "      <td>29.665356</td>\n",
       "    </tr>\n",
       "    <tr>\n",
       "      <th>2008-03-01</th>\n",
       "      <td>18.264945</td>\n",
       "      <td>19.792754</td>\n",
       "      <td>16.427305</td>\n",
       "      <td>21.000742</td>\n",
       "      <td>20.681002</td>\n",
       "      <td>21.834890</td>\n",
       "      <td>23.930204</td>\n",
       "      <td>22.930357</td>\n",
       "      <td>23.263340</td>\n",
       "      <td>25.250030</td>\n",
       "      <td>25.806090</td>\n",
       "      <td>29.665356</td>\n",
       "      <td>21.654285</td>\n",
       "    </tr>\n",
       "    <tr>\n",
       "      <th>2008-04-01</th>\n",
       "      <td>23.107677</td>\n",
       "      <td>16.427305</td>\n",
       "      <td>21.000742</td>\n",
       "      <td>20.681002</td>\n",
       "      <td>21.834890</td>\n",
       "      <td>23.930204</td>\n",
       "      <td>22.930357</td>\n",
       "      <td>23.263340</td>\n",
       "      <td>25.250030</td>\n",
       "      <td>25.806090</td>\n",
       "      <td>29.665356</td>\n",
       "      <td>21.654285</td>\n",
       "      <td>18.264945</td>\n",
       "    </tr>\n",
       "    <tr>\n",
       "      <th>2008-05-01</th>\n",
       "      <td>22.912510</td>\n",
       "      <td>21.000742</td>\n",
       "      <td>20.681002</td>\n",
       "      <td>21.834890</td>\n",
       "      <td>23.930204</td>\n",
       "      <td>22.930357</td>\n",
       "      <td>23.263340</td>\n",
       "      <td>25.250030</td>\n",
       "      <td>25.806090</td>\n",
       "      <td>29.665356</td>\n",
       "      <td>21.654285</td>\n",
       "      <td>18.264945</td>\n",
       "      <td>23.107677</td>\n",
       "    </tr>\n",
       "    <tr>\n",
       "      <th>2008-06-01</th>\n",
       "      <td>19.431740</td>\n",
       "      <td>20.681002</td>\n",
       "      <td>21.834890</td>\n",
       "      <td>23.930204</td>\n",
       "      <td>22.930357</td>\n",
       "      <td>23.263340</td>\n",
       "      <td>25.250030</td>\n",
       "      <td>25.806090</td>\n",
       "      <td>29.665356</td>\n",
       "      <td>21.654285</td>\n",
       "      <td>18.264945</td>\n",
       "      <td>23.107677</td>\n",
       "      <td>22.912510</td>\n",
       "    </tr>\n",
       "  </tbody>\n",
       "</table>\n",
       "<p>192 rows × 13 columns</p>\n",
       "</div>"
      ],
      "text/plain": [
       "                value       t-12       t-11       t-10        t-9        t-8  \\\n",
       "date                                                                           \n",
       "1992-07-01   3.737851   3.526591   3.180891   3.252221   3.611003   3.565869   \n",
       "1992-08-01   3.558776   3.180891   3.252221   3.611003   3.565869   4.306371   \n",
       "1992-09-01   3.777202   3.252221   3.611003   3.565869   4.306371   5.088335   \n",
       "1992-10-01   3.924490   3.611003   3.565869   4.306371   5.088335   2.814520   \n",
       "1992-11-01   4.386531   3.565869   4.306371   5.088335   2.814520   2.985811   \n",
       "...               ...        ...        ...        ...        ...        ...   \n",
       "2008-02-01  21.654285  16.763869  19.792754  16.427305  21.000742  20.681002   \n",
       "2008-03-01  18.264945  19.792754  16.427305  21.000742  20.681002  21.834890   \n",
       "2008-04-01  23.107677  16.427305  21.000742  20.681002  21.834890  23.930204   \n",
       "2008-05-01  22.912510  21.000742  20.681002  21.834890  23.930204  22.930357   \n",
       "2008-06-01  19.431740  20.681002  21.834890  23.930204  22.930357  23.263340   \n",
       "\n",
       "                  t-7        t-6        t-5        t-4        t-3        t-2  \\\n",
       "date                                                                           \n",
       "1992-07-01   4.306371   5.088335   2.814520   2.985811   3.204780   3.127578   \n",
       "1992-08-01   5.088335   2.814520   2.985811   3.204780   3.127578   3.270523   \n",
       "1992-09-01   2.814520   2.985811   3.204780   3.127578   3.270523   3.737851   \n",
       "1992-10-01   2.985811   3.204780   3.127578   3.270523   3.737851   3.558776   \n",
       "1992-11-01   3.204780   3.127578   3.270523   3.737851   3.558776   3.777202   \n",
       "...               ...        ...        ...        ...        ...        ...   \n",
       "2008-02-01  21.834890  23.930204  22.930357  23.263340  25.250030  25.806090   \n",
       "2008-03-01  23.930204  22.930357  23.263340  25.250030  25.806090  29.665356   \n",
       "2008-04-01  22.930357  23.263340  25.250030  25.806090  29.665356  21.654285   \n",
       "2008-05-01  23.263340  25.250030  25.806090  29.665356  21.654285  18.264945   \n",
       "2008-06-01  25.250030  25.806090  29.665356  21.654285  18.264945  23.107677   \n",
       "\n",
       "                  t-1  \n",
       "date                   \n",
       "1992-07-01   3.270523  \n",
       "1992-08-01   3.737851  \n",
       "1992-09-01   3.558776  \n",
       "1992-10-01   3.777202  \n",
       "1992-11-01   3.924490  \n",
       "...               ...  \n",
       "2008-02-01  29.665356  \n",
       "2008-03-01  21.654285  \n",
       "2008-04-01  18.264945  \n",
       "2008-05-01  23.107677  \n",
       "2008-06-01  22.912510  \n",
       "\n",
       "[192 rows x 13 columns]"
      ]
     },
     "execution_count": 62,
     "metadata": {},
     "output_type": "execute_result"
    }
   ],
   "source": [
    "for i in range(12,0,-1):\n",
    "    df['t-'+str(i)] = df['value'].shift(i)\n",
    "\n",
    "df.dropna(inplace=True)\n",
    "df"
   ]
  },
  {
   "cell_type": "code",
   "execution_count": 63,
   "metadata": {},
   "outputs": [
    {
     "data": {
      "text/plain": [
       "<Axes: >"
      ]
     },
     "execution_count": 63,
     "metadata": {},
     "output_type": "execute_result"
    },
    {
     "data": {
      "image/png": "[encoded data removed]",
      "text/plain": [
       "<Figure size 600x600 with 2 Axes>"
      ]
     },
     "metadata": {},
     "output_type": "display_data"
    }
   ],
   "source": [
    "import seaborn as sns\n",
    "\n",
    "sns.heatmap(df.corr(), annot=True)"
   ]
  }
 ],
 "metadata": {
  "colab": {
   "name": "2 - ARIMA.ipynb",
   "provenance": []
  },
  "kernelspec": {
   "display_name": "The_Bridge",
   "language": "python",
   "name": "python3"
  },
  "language_info": {
   "codemirror_mode": {
    "name": "ipython",
    "version": 3
   },
   "file_extension": ".py",
   "mimetype": "text/x-python",
   "name": "python",
   "nbconvert_exporter": "python",
   "pygments_lexer": "ipython3",
   "version": "3.12.3"
  }
 },
 "nbformat": 4,
 "nbformat_minor": 0
}
