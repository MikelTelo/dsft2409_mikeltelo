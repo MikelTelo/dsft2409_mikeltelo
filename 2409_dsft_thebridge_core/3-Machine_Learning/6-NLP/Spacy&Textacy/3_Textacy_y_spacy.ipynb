{
  "cells": [
    {
      "cell_type": "markdown",
      "metadata": {
        "id": "dM0AU5JmpZa3"
      },
      "source": [
        "# Textacy & Spacy\n",
        "Librerias de procesado de NLP"
      ]
    },
    {
      "cell_type": "code",
      "execution_count": 1,
      "metadata": {},
      "outputs": [
        {
          "data": {
            "text/plain": [
              "'\\nVersiones compatibles\\nDespues hay que reiniciar el entorno de ejecución\\n'"
            ]
          },
          "execution_count": 1,
          "metadata": {},
          "output_type": "execute_result"
        }
      ],
      "source": [
        "'''\n",
        "Versiones compatibles\n",
        "Despues hay que reiniciar el entorno de ejecución\n",
        "'''\n",
        "# !pip install spacy\n",
        "# !pip install textacy\n",
        "\n",
        "# # Para siguientes ejecuciones, solo ejecutar esto y reiniciar despues el entorno\n",
        "# !python -m spacy download en_core_web_lg\n",
        "# !python -m spacy download es_core_news_lg\n"
      ]
    },
    {
      "cell_type": "markdown",
      "metadata": {
        "id": "A5rKVBF0pKa6"
      },
      "source": [
        "# Spacy\n",
        "https://spacy.io/\n",
        "\n",
        "NOTA: Recuerda reiniciar el entorno de ejecucion despues de la instalacion"
      ]
    },
    {
      "cell_type": "code",
      "execution_count": 2,
      "metadata": {
        "id": "g5__omBtznMg"
      },
      "outputs": [
        {
          "ename": "OSError",
          "evalue": "[E050] Can't find model 'en_core_web_lg'. It doesn't seem to be a Python package or a valid path to a data directory.",
          "output_type": "error",
          "traceback": [
            "\u001b[1;31m---------------------------------------------------------------------------\u001b[0m",
            "\u001b[1;31mOSError\u001b[0m                                   Traceback (most recent call last)",
            "Cell \u001b[1;32mIn[2], line 3\u001b[0m\n\u001b[0;32m      1\u001b[0m \u001b[38;5;28;01mimport\u001b[39;00m \u001b[38;5;21;01mspacy\u001b[39;00m\n\u001b[1;32m----> 3\u001b[0m nlp \u001b[38;5;241m=\u001b[39m \u001b[43mspacy\u001b[49m\u001b[38;5;241;43m.\u001b[39;49m\u001b[43mload\u001b[49m\u001b[43m(\u001b[49m\u001b[38;5;124;43m'\u001b[39;49m\u001b[38;5;124;43men_core_web_lg\u001b[39;49m\u001b[38;5;124;43m'\u001b[39;49m\u001b[43m)\u001b[49m\n",
            "File \u001b[1;32mc:\\Users\\misla\\.pyenv\\pyenv-win\\versions\\3.10.2\\lib\\site-packages\\spacy\\__init__.py:51\u001b[0m, in \u001b[0;36mload\u001b[1;34m(name, vocab, disable, enable, exclude, config)\u001b[0m\n\u001b[0;32m     27\u001b[0m \u001b[38;5;28;01mdef\u001b[39;00m \u001b[38;5;21mload\u001b[39m(\n\u001b[0;32m     28\u001b[0m     name: Union[\u001b[38;5;28mstr\u001b[39m, Path],\n\u001b[0;32m     29\u001b[0m     \u001b[38;5;241m*\u001b[39m,\n\u001b[1;32m   (...)\u001b[0m\n\u001b[0;32m     34\u001b[0m     config: Union[Dict[\u001b[38;5;28mstr\u001b[39m, Any], Config] \u001b[38;5;241m=\u001b[39m util\u001b[38;5;241m.\u001b[39mSimpleFrozenDict(),\n\u001b[0;32m     35\u001b[0m ) \u001b[38;5;241m-\u001b[39m\u001b[38;5;241m>\u001b[39m Language:\n\u001b[0;32m     36\u001b[0m \u001b[38;5;250m    \u001b[39m\u001b[38;5;124;03m\"\"\"Load a spaCy model from an installed package or a local path.\u001b[39;00m\n\u001b[0;32m     37\u001b[0m \n\u001b[0;32m     38\u001b[0m \u001b[38;5;124;03m    name (str): Package name or model path.\u001b[39;00m\n\u001b[1;32m   (...)\u001b[0m\n\u001b[0;32m     49\u001b[0m \u001b[38;5;124;03m    RETURNS (Language): The loaded nlp object.\u001b[39;00m\n\u001b[0;32m     50\u001b[0m \u001b[38;5;124;03m    \"\"\"\u001b[39;00m\n\u001b[1;32m---> 51\u001b[0m     \u001b[38;5;28;01mreturn\u001b[39;00m \u001b[43mutil\u001b[49m\u001b[38;5;241;43m.\u001b[39;49m\u001b[43mload_model\u001b[49m\u001b[43m(\u001b[49m\n\u001b[0;32m     52\u001b[0m \u001b[43m        \u001b[49m\u001b[43mname\u001b[49m\u001b[43m,\u001b[49m\n\u001b[0;32m     53\u001b[0m \u001b[43m        \u001b[49m\u001b[43mvocab\u001b[49m\u001b[38;5;241;43m=\u001b[39;49m\u001b[43mvocab\u001b[49m\u001b[43m,\u001b[49m\n\u001b[0;32m     54\u001b[0m \u001b[43m        \u001b[49m\u001b[43mdisable\u001b[49m\u001b[38;5;241;43m=\u001b[39;49m\u001b[43mdisable\u001b[49m\u001b[43m,\u001b[49m\n\u001b[0;32m     55\u001b[0m \u001b[43m        \u001b[49m\u001b[43menable\u001b[49m\u001b[38;5;241;43m=\u001b[39;49m\u001b[43menable\u001b[49m\u001b[43m,\u001b[49m\n\u001b[0;32m     56\u001b[0m \u001b[43m        \u001b[49m\u001b[43mexclude\u001b[49m\u001b[38;5;241;43m=\u001b[39;49m\u001b[43mexclude\u001b[49m\u001b[43m,\u001b[49m\n\u001b[0;32m     57\u001b[0m \u001b[43m        \u001b[49m\u001b[43mconfig\u001b[49m\u001b[38;5;241;43m=\u001b[39;49m\u001b[43mconfig\u001b[49m\u001b[43m,\u001b[49m\n\u001b[0;32m     58\u001b[0m \u001b[43m    \u001b[49m\u001b[43m)\u001b[49m\n",
            "File \u001b[1;32mc:\\Users\\misla\\.pyenv\\pyenv-win\\versions\\3.10.2\\lib\\site-packages\\spacy\\util.py:472\u001b[0m, in \u001b[0;36mload_model\u001b[1;34m(name, vocab, disable, enable, exclude, config)\u001b[0m\n\u001b[0;32m    470\u001b[0m \u001b[38;5;28;01mif\u001b[39;00m name \u001b[38;5;129;01min\u001b[39;00m OLD_MODEL_SHORTCUTS:\n\u001b[0;32m    471\u001b[0m     \u001b[38;5;28;01mraise\u001b[39;00m \u001b[38;5;167;01mIOError\u001b[39;00m(Errors\u001b[38;5;241m.\u001b[39mE941\u001b[38;5;241m.\u001b[39mformat(name\u001b[38;5;241m=\u001b[39mname, full\u001b[38;5;241m=\u001b[39mOLD_MODEL_SHORTCUTS[name]))  \u001b[38;5;66;03m# type: ignore[index]\u001b[39;00m\n\u001b[1;32m--> 472\u001b[0m \u001b[38;5;28;01mraise\u001b[39;00m \u001b[38;5;167;01mIOError\u001b[39;00m(Errors\u001b[38;5;241m.\u001b[39mE050\u001b[38;5;241m.\u001b[39mformat(name\u001b[38;5;241m=\u001b[39mname))\n",
            "\u001b[1;31mOSError\u001b[0m: [E050] Can't find model 'en_core_web_lg'. It doesn't seem to be a Python package or a valid path to a data directory."
          ]
        }
      ],
      "source": [
        "import spacy\n",
        "\n",
        "nlp = spacy.load('en_core_web_lg')"
      ]
    },
    {
      "cell_type": "markdown",
      "metadata": {
        "id": "XvUcxUvRx3CT"
      },
      "source": [
        "## Text basics\n",
        "Veamos como trabajar cn estos primeros ejemplos con la libreria ´spacy´. Cosas que podemos hacer:\n",
        "1. Tokenizar en frases\n",
        "2. Tokenizar en palabras\n",
        "3. Acceder a los atributos de cada token\n",
        "4. Acceder a las entidades del texto\n",
        "5. Visualizar las entidades del texto"
      ]
    },
    {
      "cell_type": "code",
      "execution_count": 2,
      "metadata": {
        "colab": {
          "base_uri": "https://localhost:8080/"
        },
        "id": "yx7f0Wv9ul01",
        "outputId": "da5d47cf-de20-4e1e-ebcc-d4ee4e09b77b"
      },
      "outputs": [
        {
          "name": "stdout",
          "output_type": "stream",
          "text": [
            "\n",
            "London is the capital and most populous city of England and \n",
            "the United Kingdom.  Standing on the River Thames in the south east \n",
            "of the island of Great Britain, London has been a major settlement \n",
            "for two millennia. It was founded by the Romans, who named it Londinium.\n",
            "\n",
            "0 \n",
            "London is the capital and most populous city of England and \n",
            "the United Kingdom.\n",
            "1  Standing on the River Thames in the south east \n",
            "of the island of Great Britain, London has been a major settlement \n",
            "for two millennia.\n",
            "2 It was founded by the Romans, who named it Londinium.\n",
            "3 \n",
            "\n"
          ]
        }
      ],
      "source": [
        "# The text we want to examine\n",
        "text = \"\"\"\n",
        "London is the capital and most populous city of England and \n",
        "the United Kingdom.  Standing on the River Thames in the south east \n",
        "of the island of Great Britain, London has been a major settlement \n",
        "for two millennia. It was founded by the Romans, who named it Londinium.\n",
        "\"\"\"\n",
        "\n",
        "doc = nlp(text)\n",
        "\n",
        "print(doc)\n",
        "\n",
        "for num, sentence in enumerate(doc.sents):\n",
        "  print(num, sentence)\n"
      ]
    },
    {
      "cell_type": "code",
      "execution_count": 4,
      "metadata": {},
      "outputs": [
        {
          "name": "stdout",
          "output_type": "stream",
          "text": [
            "\n",
            " \n",
            " SPACE False\n",
            "London London PROPN False\n",
            "is be AUX True\n",
            "the the DET True\n",
            "capital capital NOUN False\n",
            "and and CCONJ True\n",
            "most most ADV True\n",
            "populous populous ADJ False\n",
            "city city NOUN False\n",
            "of of ADP True\n",
            "England England PROPN False\n",
            "and and CCONJ True\n",
            "\n",
            " \n",
            " SPACE False\n",
            "the the DET True\n",
            "United United PROPN False\n",
            "Kingdom Kingdom PROPN False\n",
            ". . PUNCT False\n",
            "    SPACE False\n",
            "Standing stand VERB False\n",
            "on on ADP True\n"
          ]
        }
      ],
      "source": [
        "for word in doc[:20]:\n",
        "  print(word.text, word.lemma_, word.pos_, word.is_stop)"
      ]
    },
    {
      "cell_type": "code",
      "execution_count": 3,
      "metadata": {
        "colab": {
          "base_uri": "https://localhost:8080/"
        },
        "id": "JIe3TYa9RNfm",
        "outputId": "f90a4cd9-f411-41e5-a000-750fb5f88e7d"
      },
      "outputs": [
        {
          "data": {
            "text/plain": [
              "spacy.tokens.doc.Doc"
            ]
          },
          "execution_count": 3,
          "metadata": {},
          "output_type": "execute_result"
        }
      ],
      "source": [
        "type(doc)"
      ]
    },
    {
      "cell_type": "markdown",
      "metadata": {
        "id": "UpBWJ2gby81T"
      },
      "source": [
        "## Syntactic analysis\n",
        "Doing the school homework"
      ]
    },
    {
      "cell_type": "code",
      "execution_count": 11,
      "metadata": {
        "colab": {
          "base_uri": "https://localhost:8080/",
          "height": 615
        },
        "id": "9N42WYyyy86b",
        "outputId": "f2d56011-4783-4711-f8f7-445f2a46dfd2"
      },
      "outputs": [
        {
          "data": {
            "text/html": [
              "<span class=\"tex2jax_ignore\"><svg xmlns=\"http://www.w3.org/2000/svg\" xmlns:xlink=\"http://www.w3.org/1999/xlink\" xml:lang=\"en\" id=\"f0b67486293645d6b29ed3a6211abde0-0\" class=\"displacy\" width=\"2500\" height=\"574.5\" direction=\"ltr\" style=\"max-width: none; height: 574.5px; color: #000000; background: #ffffff; font-family: Arial; direction: ltr\">\n",
              "<text class=\"displacy-token\" fill=\"currentColor\" text-anchor=\"middle\" y=\"484.5\">\n",
              "    <tspan class=\"displacy-word\" fill=\"currentColor\" x=\"50\">London</tspan>\n",
              "    <tspan class=\"displacy-tag\" dy=\"2em\" fill=\"currentColor\" x=\"50\">PROPN</tspan>\n",
              "</text>\n",
              "\n",
              "<text class=\"displacy-token\" fill=\"currentColor\" text-anchor=\"middle\" y=\"484.5\">\n",
              "    <tspan class=\"displacy-word\" fill=\"currentColor\" x=\"225\">is</tspan>\n",
              "    <tspan class=\"displacy-tag\" dy=\"2em\" fill=\"currentColor\" x=\"225\">AUX</tspan>\n",
              "</text>\n",
              "\n",
              "<text class=\"displacy-token\" fill=\"currentColor\" text-anchor=\"middle\" y=\"484.5\">\n",
              "    <tspan class=\"displacy-word\" fill=\"currentColor\" x=\"400\">the</tspan>\n",
              "    <tspan class=\"displacy-tag\" dy=\"2em\" fill=\"currentColor\" x=\"400\">DET</tspan>\n",
              "</text>\n",
              "\n",
              "<text class=\"displacy-token\" fill=\"currentColor\" text-anchor=\"middle\" y=\"484.5\">\n",
              "    <tspan class=\"displacy-word\" fill=\"currentColor\" x=\"575\">capital</tspan>\n",
              "    <tspan class=\"displacy-tag\" dy=\"2em\" fill=\"currentColor\" x=\"575\">NOUN</tspan>\n",
              "</text>\n",
              "\n",
              "<text class=\"displacy-token\" fill=\"currentColor\" text-anchor=\"middle\" y=\"484.5\">\n",
              "    <tspan class=\"displacy-word\" fill=\"currentColor\" x=\"750\">and</tspan>\n",
              "    <tspan class=\"displacy-tag\" dy=\"2em\" fill=\"currentColor\" x=\"750\">CCONJ</tspan>\n",
              "</text>\n",
              "\n",
              "<text class=\"displacy-token\" fill=\"currentColor\" text-anchor=\"middle\" y=\"484.5\">\n",
              "    <tspan class=\"displacy-word\" fill=\"currentColor\" x=\"925\">most</tspan>\n",
              "    <tspan class=\"displacy-tag\" dy=\"2em\" fill=\"currentColor\" x=\"925\">ADV</tspan>\n",
              "</text>\n",
              "\n",
              "<text class=\"displacy-token\" fill=\"currentColor\" text-anchor=\"middle\" y=\"484.5\">\n",
              "    <tspan class=\"displacy-word\" fill=\"currentColor\" x=\"1100\">populous</tspan>\n",
              "    <tspan class=\"displacy-tag\" dy=\"2em\" fill=\"currentColor\" x=\"1100\">ADJ</tspan>\n",
              "</text>\n",
              "\n",
              "<text class=\"displacy-token\" fill=\"currentColor\" text-anchor=\"middle\" y=\"484.5\">\n",
              "    <tspan class=\"displacy-word\" fill=\"currentColor\" x=\"1275\">city</tspan>\n",
              "    <tspan class=\"displacy-tag\" dy=\"2em\" fill=\"currentColor\" x=\"1275\">NOUN</tspan>\n",
              "</text>\n",
              "\n",
              "<text class=\"displacy-token\" fill=\"currentColor\" text-anchor=\"middle\" y=\"484.5\">\n",
              "    <tspan class=\"displacy-word\" fill=\"currentColor\" x=\"1450\">of</tspan>\n",
              "    <tspan class=\"displacy-tag\" dy=\"2em\" fill=\"currentColor\" x=\"1450\">ADP</tspan>\n",
              "</text>\n",
              "\n",
              "<text class=\"displacy-token\" fill=\"currentColor\" text-anchor=\"middle\" y=\"484.5\">\n",
              "    <tspan class=\"displacy-word\" fill=\"currentColor\" x=\"1625\">England</tspan>\n",
              "    <tspan class=\"displacy-tag\" dy=\"2em\" fill=\"currentColor\" x=\"1625\">PROPN</tspan>\n",
              "</text>\n",
              "\n",
              "<text class=\"displacy-token\" fill=\"currentColor\" text-anchor=\"middle\" y=\"484.5\">\n",
              "    <tspan class=\"displacy-word\" fill=\"currentColor\" x=\"1800\">and</tspan>\n",
              "    <tspan class=\"displacy-tag\" dy=\"2em\" fill=\"currentColor\" x=\"1800\">CCONJ</tspan>\n",
              "</text>\n",
              "\n",
              "<text class=\"displacy-token\" fill=\"currentColor\" text-anchor=\"middle\" y=\"484.5\">\n",
              "    <tspan class=\"displacy-word\" fill=\"currentColor\" x=\"1975\">the</tspan>\n",
              "    <tspan class=\"displacy-tag\" dy=\"2em\" fill=\"currentColor\" x=\"1975\">DET</tspan>\n",
              "</text>\n",
              "\n",
              "<text class=\"displacy-token\" fill=\"currentColor\" text-anchor=\"middle\" y=\"484.5\">\n",
              "    <tspan class=\"displacy-word\" fill=\"currentColor\" x=\"2150\">United</tspan>\n",
              "    <tspan class=\"displacy-tag\" dy=\"2em\" fill=\"currentColor\" x=\"2150\">PROPN</tspan>\n",
              "</text>\n",
              "\n",
              "<text class=\"displacy-token\" fill=\"currentColor\" text-anchor=\"middle\" y=\"484.5\">\n",
              "    <tspan class=\"displacy-word\" fill=\"currentColor\" x=\"2325\">Kingdom</tspan>\n",
              "    <tspan class=\"displacy-tag\" dy=\"2em\" fill=\"currentColor\" x=\"2325\">PROPN</tspan>\n",
              "</text>\n",
              "\n",
              "<g class=\"displacy-arrow\">\n",
              "    <path class=\"displacy-arc\" id=\"arrow-f0b67486293645d6b29ed3a6211abde0-0-0\" stroke-width=\"2px\" d=\"M70,439.5 C70,352.0 205.0,352.0 205.0,439.5\" fill=\"none\" stroke=\"currentColor\"/>\n",
              "    <text dy=\"1.25em\" style=\"font-size: 0.8em; letter-spacing: 1px\">\n",
              "        <textPath xlink:href=\"#arrow-f0b67486293645d6b29ed3a6211abde0-0-0\" class=\"displacy-label\" startOffset=\"50%\" side=\"left\" fill=\"currentColor\" text-anchor=\"middle\">nsubj</textPath>\n",
              "    </text>\n",
              "    <path class=\"displacy-arrowhead\" d=\"M70,441.5 L62,429.5 78,429.5\" fill=\"currentColor\"/>\n",
              "</g>\n",
              "\n",
              "<g class=\"displacy-arrow\">\n",
              "    <path class=\"displacy-arc\" id=\"arrow-f0b67486293645d6b29ed3a6211abde0-0-1\" stroke-width=\"2px\" d=\"M420,439.5 C420,352.0 555.0,352.0 555.0,439.5\" fill=\"none\" stroke=\"currentColor\"/>\n",
              "    <text dy=\"1.25em\" style=\"font-size: 0.8em; letter-spacing: 1px\">\n",
              "        <textPath xlink:href=\"#arrow-f0b67486293645d6b29ed3a6211abde0-0-1\" class=\"displacy-label\" startOffset=\"50%\" side=\"left\" fill=\"currentColor\" text-anchor=\"middle\">det</textPath>\n",
              "    </text>\n",
              "    <path class=\"displacy-arrowhead\" d=\"M420,441.5 L412,429.5 428,429.5\" fill=\"currentColor\"/>\n",
              "</g>\n",
              "\n",
              "<g class=\"displacy-arrow\">\n",
              "    <path class=\"displacy-arc\" id=\"arrow-f0b67486293645d6b29ed3a6211abde0-0-2\" stroke-width=\"2px\" d=\"M245,439.5 C245,264.5 560.0,264.5 560.0,439.5\" fill=\"none\" stroke=\"currentColor\"/>\n",
              "    <text dy=\"1.25em\" style=\"font-size: 0.8em; letter-spacing: 1px\">\n",
              "        <textPath xlink:href=\"#arrow-f0b67486293645d6b29ed3a6211abde0-0-2\" class=\"displacy-label\" startOffset=\"50%\" side=\"left\" fill=\"currentColor\" text-anchor=\"middle\">attr</textPath>\n",
              "    </text>\n",
              "    <path class=\"displacy-arrowhead\" d=\"M560.0,441.5 L568.0,429.5 552.0,429.5\" fill=\"currentColor\"/>\n",
              "</g>\n",
              "\n",
              "<g class=\"displacy-arrow\">\n",
              "    <path class=\"displacy-arc\" id=\"arrow-f0b67486293645d6b29ed3a6211abde0-0-3\" stroke-width=\"2px\" d=\"M595,439.5 C595,352.0 730.0,352.0 730.0,439.5\" fill=\"none\" stroke=\"currentColor\"/>\n",
              "    <text dy=\"1.25em\" style=\"font-size: 0.8em; letter-spacing: 1px\">\n",
              "        <textPath xlink:href=\"#arrow-f0b67486293645d6b29ed3a6211abde0-0-3\" class=\"displacy-label\" startOffset=\"50%\" side=\"left\" fill=\"currentColor\" text-anchor=\"middle\">cc</textPath>\n",
              "    </text>\n",
              "    <path class=\"displacy-arrowhead\" d=\"M730.0,441.5 L738.0,429.5 722.0,429.5\" fill=\"currentColor\"/>\n",
              "</g>\n",
              "\n",
              "<g class=\"displacy-arrow\">\n",
              "    <path class=\"displacy-arc\" id=\"arrow-f0b67486293645d6b29ed3a6211abde0-0-4\" stroke-width=\"2px\" d=\"M945,439.5 C945,352.0 1080.0,352.0 1080.0,439.5\" fill=\"none\" stroke=\"currentColor\"/>\n",
              "    <text dy=\"1.25em\" style=\"font-size: 0.8em; letter-spacing: 1px\">\n",
              "        <textPath xlink:href=\"#arrow-f0b67486293645d6b29ed3a6211abde0-0-4\" class=\"displacy-label\" startOffset=\"50%\" side=\"left\" fill=\"currentColor\" text-anchor=\"middle\">advmod</textPath>\n",
              "    </text>\n",
              "    <path class=\"displacy-arrowhead\" d=\"M945,441.5 L937,429.5 953,429.5\" fill=\"currentColor\"/>\n",
              "</g>\n",
              "\n",
              "<g class=\"displacy-arrow\">\n",
              "    <path class=\"displacy-arc\" id=\"arrow-f0b67486293645d6b29ed3a6211abde0-0-5\" stroke-width=\"2px\" d=\"M595,439.5 C595,177.0 1090.0,177.0 1090.0,439.5\" fill=\"none\" stroke=\"currentColor\"/>\n",
              "    <text dy=\"1.25em\" style=\"font-size: 0.8em; letter-spacing: 1px\">\n",
              "        <textPath xlink:href=\"#arrow-f0b67486293645d6b29ed3a6211abde0-0-5\" class=\"displacy-label\" startOffset=\"50%\" side=\"left\" fill=\"currentColor\" text-anchor=\"middle\">conj</textPath>\n",
              "    </text>\n",
              "    <path class=\"displacy-arrowhead\" d=\"M1090.0,441.5 L1098.0,429.5 1082.0,429.5\" fill=\"currentColor\"/>\n",
              "</g>\n",
              "\n",
              "<g class=\"displacy-arrow\">\n",
              "    <path class=\"displacy-arc\" id=\"arrow-f0b67486293645d6b29ed3a6211abde0-0-6\" stroke-width=\"2px\" d=\"M595,439.5 C595,89.5 1270.0,89.5 1270.0,439.5\" fill=\"none\" stroke=\"currentColor\"/>\n",
              "    <text dy=\"1.25em\" style=\"font-size: 0.8em; letter-spacing: 1px\">\n",
              "        <textPath xlink:href=\"#arrow-f0b67486293645d6b29ed3a6211abde0-0-6\" class=\"displacy-label\" startOffset=\"50%\" side=\"left\" fill=\"currentColor\" text-anchor=\"middle\">conj</textPath>\n",
              "    </text>\n",
              "    <path class=\"displacy-arrowhead\" d=\"M1270.0,441.5 L1278.0,429.5 1262.0,429.5\" fill=\"currentColor\"/>\n",
              "</g>\n",
              "\n",
              "<g class=\"displacy-arrow\">\n",
              "    <path class=\"displacy-arc\" id=\"arrow-f0b67486293645d6b29ed3a6211abde0-0-7\" stroke-width=\"2px\" d=\"M1295,439.5 C1295,352.0 1430.0,352.0 1430.0,439.5\" fill=\"none\" stroke=\"currentColor\"/>\n",
              "    <text dy=\"1.25em\" style=\"font-size: 0.8em; letter-spacing: 1px\">\n",
              "        <textPath xlink:href=\"#arrow-f0b67486293645d6b29ed3a6211abde0-0-7\" class=\"displacy-label\" startOffset=\"50%\" side=\"left\" fill=\"currentColor\" text-anchor=\"middle\">prep</textPath>\n",
              "    </text>\n",
              "    <path class=\"displacy-arrowhead\" d=\"M1430.0,441.5 L1438.0,429.5 1422.0,429.5\" fill=\"currentColor\"/>\n",
              "</g>\n",
              "\n",
              "<g class=\"displacy-arrow\">\n",
              "    <path class=\"displacy-arc\" id=\"arrow-f0b67486293645d6b29ed3a6211abde0-0-8\" stroke-width=\"2px\" d=\"M1470,439.5 C1470,352.0 1605.0,352.0 1605.0,439.5\" fill=\"none\" stroke=\"currentColor\"/>\n",
              "    <text dy=\"1.25em\" style=\"font-size: 0.8em; letter-spacing: 1px\">\n",
              "        <textPath xlink:href=\"#arrow-f0b67486293645d6b29ed3a6211abde0-0-8\" class=\"displacy-label\" startOffset=\"50%\" side=\"left\" fill=\"currentColor\" text-anchor=\"middle\">pobj</textPath>\n",
              "    </text>\n",
              "    <path class=\"displacy-arrowhead\" d=\"M1605.0,441.5 L1613.0,429.5 1597.0,429.5\" fill=\"currentColor\"/>\n",
              "</g>\n",
              "\n",
              "<g class=\"displacy-arrow\">\n",
              "    <path class=\"displacy-arc\" id=\"arrow-f0b67486293645d6b29ed3a6211abde0-0-9\" stroke-width=\"2px\" d=\"M1295,439.5 C1295,177.0 1790.0,177.0 1790.0,439.5\" fill=\"none\" stroke=\"currentColor\"/>\n",
              "    <text dy=\"1.25em\" style=\"font-size: 0.8em; letter-spacing: 1px\">\n",
              "        <textPath xlink:href=\"#arrow-f0b67486293645d6b29ed3a6211abde0-0-9\" class=\"displacy-label\" startOffset=\"50%\" side=\"left\" fill=\"currentColor\" text-anchor=\"middle\">cc</textPath>\n",
              "    </text>\n",
              "    <path class=\"displacy-arrowhead\" d=\"M1790.0,441.5 L1798.0,429.5 1782.0,429.5\" fill=\"currentColor\"/>\n",
              "</g>\n",
              "\n",
              "<g class=\"displacy-arrow\">\n",
              "    <path class=\"displacy-arc\" id=\"arrow-f0b67486293645d6b29ed3a6211abde0-0-10\" stroke-width=\"2px\" d=\"M1995,439.5 C1995,264.5 2310.0,264.5 2310.0,439.5\" fill=\"none\" stroke=\"currentColor\"/>\n",
              "    <text dy=\"1.25em\" style=\"font-size: 0.8em; letter-spacing: 1px\">\n",
              "        <textPath xlink:href=\"#arrow-f0b67486293645d6b29ed3a6211abde0-0-10\" class=\"displacy-label\" startOffset=\"50%\" side=\"left\" fill=\"currentColor\" text-anchor=\"middle\">det</textPath>\n",
              "    </text>\n",
              "    <path class=\"displacy-arrowhead\" d=\"M1995,441.5 L1987,429.5 2003,429.5\" fill=\"currentColor\"/>\n",
              "</g>\n",
              "\n",
              "<g class=\"displacy-arrow\">\n",
              "    <path class=\"displacy-arc\" id=\"arrow-f0b67486293645d6b29ed3a6211abde0-0-11\" stroke-width=\"2px\" d=\"M2170,439.5 C2170,352.0 2305.0,352.0 2305.0,439.5\" fill=\"none\" stroke=\"currentColor\"/>\n",
              "    <text dy=\"1.25em\" style=\"font-size: 0.8em; letter-spacing: 1px\">\n",
              "        <textPath xlink:href=\"#arrow-f0b67486293645d6b29ed3a6211abde0-0-11\" class=\"displacy-label\" startOffset=\"50%\" side=\"left\" fill=\"currentColor\" text-anchor=\"middle\">compound</textPath>\n",
              "    </text>\n",
              "    <path class=\"displacy-arrowhead\" d=\"M2170,441.5 L2162,429.5 2178,429.5\" fill=\"currentColor\"/>\n",
              "</g>\n",
              "\n",
              "<g class=\"displacy-arrow\">\n",
              "    <path class=\"displacy-arc\" id=\"arrow-f0b67486293645d6b29ed3a6211abde0-0-12\" stroke-width=\"2px\" d=\"M1295,439.5 C1295,2.0 2325.0,2.0 2325.0,439.5\" fill=\"none\" stroke=\"currentColor\"/>\n",
              "    <text dy=\"1.25em\" style=\"font-size: 0.8em; letter-spacing: 1px\">\n",
              "        <textPath xlink:href=\"#arrow-f0b67486293645d6b29ed3a6211abde0-0-12\" class=\"displacy-label\" startOffset=\"50%\" side=\"left\" fill=\"currentColor\" text-anchor=\"middle\">conj</textPath>\n",
              "    </text>\n",
              "    <path class=\"displacy-arrowhead\" d=\"M2325.0,441.5 L2333.0,429.5 2317.0,429.5\" fill=\"currentColor\"/>\n",
              "</g>\n",
              "</svg></span>"
            ],
            "text/plain": [
              "<IPython.core.display.HTML object>"
            ]
          },
          "metadata": {},
          "output_type": "display_data"
        }
      ],
      "source": [
        "from spacy import displacy\n",
        "\n",
        "doc2 = nlp(\"London is the capital and most populous city of England and the United Kingdom\")\n",
        "displacy.render(doc2, jupyter=True, style=\"dep\")"
      ]
    },
    {
      "cell_type": "markdown",
      "metadata": {
        "id": "BhcKxFvisxNj"
      },
      "source": [
        "## Entities in text"
      ]
    },
    {
      "cell_type": "code",
      "execution_count": 4,
      "metadata": {
        "colab": {
          "base_uri": "https://localhost:8080/"
        },
        "id": "GoUNKXsSsxXy",
        "outputId": "522e7782-4aa7-45e1-ddcc-d1fdd9f6ff72"
      },
      "outputs": [
        {
          "name": "stdout",
          "output_type": "stream",
          "text": [
            "London GPE\n",
            "England GPE\n",
            "the United Kingdom GPE\n",
            "the south east LOC\n",
            "Great Britain GPE\n",
            "London GPE\n",
            "two millennia DATE\n",
            "Romans NORP\n",
            "Londinium ORG\n"
          ]
        }
      ],
      "source": [
        "for entity in doc.ents:\n",
        "  print(entity.text, entity.label_)"
      ]
    },
    {
      "cell_type": "code",
      "execution_count": 13,
      "metadata": {
        "colab": {
          "base_uri": "https://localhost:8080/",
          "height": 35
        },
        "id": "8o01ox8YylRj",
        "outputId": "ae38b8fb-6575-4009-96af-80fdb9ab0550"
      },
      "outputs": [
        {
          "data": {
            "text/plain": [
              "'Countries, cities, states'"
            ]
          },
          "execution_count": 13,
          "metadata": {},
          "output_type": "execute_result"
        }
      ],
      "source": [
        "# Doubts with labels\n",
        "spacy.explain('GPE')"
      ]
    },
    {
      "cell_type": "code",
      "execution_count": 12,
      "metadata": {
        "colab": {
          "base_uri": "https://localhost:8080/",
          "height": 191
        },
        "id": "UwfOcDgCtEue",
        "outputId": "eadd1e47-cebe-453a-808a-35d2904aec5b"
      },
      "outputs": [
        {
          "data": {
            "text/html": [
              "<span class=\"tex2jax_ignore\"><div class=\"entities\" style=\"line-height: 2.5; direction: ltr\"></br>\n",
              "<mark class=\"entity\" style=\"background: #feca74; padding: 0.45em 0.6em; margin: 0 0.25em; line-height: 1; border-radius: 0.35em;\">\n",
              "    London\n",
              "    <span style=\"font-size: 0.8em; font-weight: bold; line-height: 1; border-radius: 0.35em; vertical-align: middle; margin-left: 0.5rem\">GPE</span>\n",
              "</mark>\n",
              " is the capital and most populous city of \n",
              "<mark class=\"entity\" style=\"background: #feca74; padding: 0.45em 0.6em; margin: 0 0.25em; line-height: 1; border-radius: 0.35em;\">\n",
              "    England\n",
              "    <span style=\"font-size: 0.8em; font-weight: bold; line-height: 1; border-radius: 0.35em; vertical-align: middle; margin-left: 0.5rem\">GPE</span>\n",
              "</mark>\n",
              " and </br>\n",
              "<mark class=\"entity\" style=\"background: #feca74; padding: 0.45em 0.6em; margin: 0 0.25em; line-height: 1; border-radius: 0.35em;\">\n",
              "    the United Kingdom\n",
              "    <span style=\"font-size: 0.8em; font-weight: bold; line-height: 1; border-radius: 0.35em; vertical-align: middle; margin-left: 0.5rem\">GPE</span>\n",
              "</mark>\n",
              ".  Standing on the River Thames in \n",
              "<mark class=\"entity\" style=\"background: #ff9561; padding: 0.45em 0.6em; margin: 0 0.25em; line-height: 1; border-radius: 0.35em;\">\n",
              "    the south east\n",
              "    <span style=\"font-size: 0.8em; font-weight: bold; line-height: 1; border-radius: 0.35em; vertical-align: middle; margin-left: 0.5rem\">LOC</span>\n",
              "</mark>\n",
              " </br>of the island of \n",
              "<mark class=\"entity\" style=\"background: #feca74; padding: 0.45em 0.6em; margin: 0 0.25em; line-height: 1; border-radius: 0.35em;\">\n",
              "    Great Britain\n",
              "    <span style=\"font-size: 0.8em; font-weight: bold; line-height: 1; border-radius: 0.35em; vertical-align: middle; margin-left: 0.5rem\">GPE</span>\n",
              "</mark>\n",
              ", \n",
              "<mark class=\"entity\" style=\"background: #feca74; padding: 0.45em 0.6em; margin: 0 0.25em; line-height: 1; border-radius: 0.35em;\">\n",
              "    London\n",
              "    <span style=\"font-size: 0.8em; font-weight: bold; line-height: 1; border-radius: 0.35em; vertical-align: middle; margin-left: 0.5rem\">GPE</span>\n",
              "</mark>\n",
              " has been a major settlement </br>for \n",
              "<mark class=\"entity\" style=\"background: #bfe1d9; padding: 0.45em 0.6em; margin: 0 0.25em; line-height: 1; border-radius: 0.35em;\">\n",
              "    two millennia\n",
              "    <span style=\"font-size: 0.8em; font-weight: bold; line-height: 1; border-radius: 0.35em; vertical-align: middle; margin-left: 0.5rem\">DATE</span>\n",
              "</mark>\n",
              ". It was founded by the \n",
              "<mark class=\"entity\" style=\"background: #c887fb; padding: 0.45em 0.6em; margin: 0 0.25em; line-height: 1; border-radius: 0.35em;\">\n",
              "    Romans\n",
              "    <span style=\"font-size: 0.8em; font-weight: bold; line-height: 1; border-radius: 0.35em; vertical-align: middle; margin-left: 0.5rem\">NORP</span>\n",
              "</mark>\n",
              ", who named it \n",
              "<mark class=\"entity\" style=\"background: #7aecec; padding: 0.45em 0.6em; margin: 0 0.25em; line-height: 1; border-radius: 0.35em;\">\n",
              "    Londinium\n",
              "    <span style=\"font-size: 0.8em; font-weight: bold; line-height: 1; border-radius: 0.35em; vertical-align: middle; margin-left: 0.5rem\">ORG</span>\n",
              "</mark>\n",
              ".</br></div></span>"
            ],
            "text/plain": [
              "<IPython.core.display.HTML object>"
            ]
          },
          "metadata": {},
          "output_type": "display_data"
        }
      ],
      "source": [
        "displacy.render(doc, style='ent', jupyter=True)"
      ]
    },
    {
      "cell_type": "markdown",
      "metadata": {
        "id": "k4J_qGHusl9H"
      },
      "source": [
        "## Replacing names\n",
        "Hide names for GDPR"
      ]
    },
    {
      "cell_type": "code",
      "execution_count": 14,
      "metadata": {
        "colab": {
          "base_uri": "https://localhost:8080/"
        },
        "id": "8zHtOLvSsmEp",
        "outputId": "99bd35f8-5eff-4622-f119-5b8bd6426e0f"
      },
      "outputs": [
        {
          "name": "stdout",
          "output_type": "stream",
          "text": [
            "\n",
            " In 1950 , GDPR published his famous article \" Computing Machinery and Intelligence \" . In 1957 , GDPR \n",
            " Syntactic Structures revolutionized Linguistics with ' universal grammar ' , a rule based system of syntactic structures . \n",
            "\n"
          ]
        }
      ],
      "source": [
        "# Replace a token with \"REDACTED\" if it is a name\n",
        "def replace_name_with_placeholder(token):\n",
        "    if token.ent_iob != 0 and token.ent_type_ == \"PERSON\":\n",
        "        return \"GDPR\"\n",
        "    else:\n",
        "        return token.text\n",
        "\n",
        "# Loop through all the entities in a document and check if they are names\n",
        "def scrub(text):\n",
        "    doc = nlp(text)\n",
        "    with doc.retokenize() as retokenizer:\n",
        "        for ent in doc.ents:\n",
        "            retokenizer.merge(ent)\n",
        "    tokens = map(replace_name_with_placeholder, doc)\n",
        "    return \" \".join(tokens)\n",
        "\n",
        "s = \"\"\"\n",
        "In 1950, Alan Turing published his famous article \"Computing Machinery and Intelligence\". In 1957, Noam Chomsky’s \n",
        "Syntactic Structures revolutionized Linguistics with 'universal grammar', a rule based system of syntactic structures.\n",
        "\"\"\"\n",
        "\n",
        "print(scrub(s))"
      ]
    },
    {
      "cell_type": "markdown",
      "metadata": {
        "id": "oGvpaIAqzwOH"
      },
      "source": [
        "## Lematize"
      ]
    },
    {
      "cell_type": "code",
      "execution_count": 15,
      "metadata": {
        "colab": {
          "base_uri": "https://localhost:8080/"
        },
        "id": "iKra7djBzwXj",
        "outputId": "a1e019b7-3aad-40d1-e5b2-a4203c49f250"
      },
      "outputs": [
        {
          "name": "stdout",
          "output_type": "stream",
          "text": [
            "\n",
            " \n",
            " SPACE\n",
            "London London PROPN\n",
            "is be AUX\n",
            "the the DET\n",
            "capital capital NOUN\n",
            "and and CCONJ\n",
            "most most ADV\n",
            "populous populous ADJ\n",
            "city city NOUN\n",
            "of of ADP\n",
            "England England PROPN\n",
            "and and CCONJ\n",
            "\n",
            " \n",
            " SPACE\n",
            "the the DET\n",
            "United United PROPN\n",
            "Kingdom Kingdom PROPN\n",
            ". . PUNCT\n",
            "    SPACE\n",
            "Standing stand VERB\n",
            "on on ADP\n",
            "the the DET\n",
            "River River PROPN\n",
            "Thames Thames PROPN\n",
            "in in ADP\n",
            "the the DET\n",
            "south south PROPN\n",
            "east east NOUN\n",
            "\n",
            " \n",
            " SPACE\n",
            "of of ADP\n",
            "the the DET\n",
            "island island NOUN\n",
            "of of ADP\n",
            "Great Great PROPN\n",
            "Britain Britain PROPN\n",
            ", , PUNCT\n",
            "London London PROPN\n",
            "has have AUX\n",
            "been be AUX\n",
            "a a DET\n",
            "major major ADJ\n",
            "settlement settlement NOUN\n",
            "\n",
            " \n",
            " SPACE\n",
            "for for ADP\n",
            "two two NUM\n",
            "millennia millennium NOUN\n",
            ". . PUNCT\n",
            "It it PRON\n",
            "was be AUX\n",
            "founded found VERB\n",
            "by by ADP\n",
            "the the DET\n",
            "Romans Romans PROPN\n",
            ", , PUNCT\n",
            "who who PRON\n",
            "named name VERB\n",
            "it it PRON\n",
            "Londinium Londinium PROPN\n",
            ". . PUNCT\n",
            "\n",
            " \n",
            " SPACE\n"
          ]
        }
      ],
      "source": [
        "for w in doc:\n",
        "  print(w.text, w.lemma_, w.pos_)"
      ]
    },
    {
      "cell_type": "markdown",
      "metadata": {
        "id": "o_e1pnbgz_0X"
      },
      "source": [
        "## Stopwords"
      ]
    },
    {
      "cell_type": "code",
      "execution_count": 45,
      "metadata": {
        "colab": {
          "base_uri": "https://localhost:8080/"
        },
        "id": "j_M6OKU3z__q",
        "outputId": "701e21b9-d50e-4903-ca0e-c73746e56180"
      },
      "outputs": [
        {
          "name": "stdout",
          "output_type": "stream",
          "text": [
            "['whose', 'which', 'anyhow', 'meanwhile', 'towards', 'being', 'show', 'therein', 'thus', 'off', 'whoever', 'such', 'via', 'forty', 'there', 'none', 'because', 'does', 'give', 'so', 'between', 'somewhere', 'are', 'seemed', 'out', 'anything', 'might', 'hence', 'did', 'in', 'then', 'n‘t', 'i', 'would', 'otherwise', 'too', 'by', 'rather', 'own']\n"
          ]
        }
      ],
      "source": [
        "from spacy.lang.en.stop_words import STOP_WORDS\n",
        "\n",
        "print(list(STOP_WORDS)[:39])"
      ]
    },
    {
      "cell_type": "code",
      "execution_count": 17,
      "metadata": {
        "colab": {
          "base_uri": "https://localhost:8080/"
        },
        "id": "RXNvYLeD0QJ0",
        "outputId": "48725150-7661-4395-a27c-2a4782b52da4"
      },
      "outputs": [
        {
          "name": "stdout",
          "output_type": "stream",
          "text": [
            "[\n",
            ", London, capital, populous, city, England, \n",
            ", United, Kingdom,  , Standing, River, Thames, south, east, \n",
            ", island, Great, Britain, London, major, settlement, \n",
            ", millennia, founded, Romans, named, Londinium, \n",
            "]\n"
          ]
        }
      ],
      "source": [
        "lista_clean = [palabra for palabra in doc if not palabra.is_stop and not palabra.is_punct]\n",
        "print(lista_clean)"
      ]
    },
    {
      "cell_type": "markdown",
      "metadata": {
        "id": "_3oBFA3XacUf"
      },
      "source": [
        "# Spanish\n",
        "## Spacy  and entities"
      ]
    },
    {
      "cell_type": "code",
      "execution_count": 18,
      "metadata": {
        "colab": {
          "base_uri": "https://localhost:8080/"
        },
        "id": "WyDUzV-eax_7",
        "outputId": "e4575ab9-ce92-4d3c-a20d-a4b297eab994"
      },
      "outputs": [
        {
          "name": "stdout",
          "output_type": "stream",
          "text": [
            "Londres (LOC)\n",
            "London (LOC)\n",
            "Inglaterra (LOC)\n",
            "Reino Unido.2​3​ (LOC)\n",
            "río Támesis (LOC)\n",
            "Londres (LOC)\n",
            "Londinium (LOC)\n",
            "City de Londres (LOC)\n",
            "Londres (LOC)\n",
            "Londres (LOC)\n",
            "Gran Londres,6​ (LOC)\n",
            "Londres.7​\n",
            "Londres (ORG)\n",
            "mundo9​10​11​ (LOC)\n",
            "Londres (LOC)\n",
            "Londres (LOC)\n",
            "Juegos Olímpicos (MISC)\n",
            "La Autoridad del Gran Londres (MISC)\n",
            "Reino (LOC)\n",
            "Gran Londres (LOC)\n",
            "Europa (LOC)\n",
            "Londres (LOC)\n",
            "Imperio británico (LOC)\n"
          ]
        }
      ],
      "source": [
        "nlp_es = spacy.load('es_core_news_lg')\n",
        "\n",
        "text = '''Londres (en inglés, London, pronunciado /ˈlʌndən/ ( escuchar)) es la capital y mayor ciudad de Inglaterra y del Reino Unido.2​3​ Situada a orillas del río Támesis, Londres es un importante asentamiento humano desde que fue fundada por los romanos con el nombre de Londinium hace casi dos milenios.4​ El núcleo antiguo de la urbe, la City de Londres, conserva básicamente su perímetro medieval de una milla cuadrada. Desde el siglo XIX el nombre «Londres» también hace referencia a toda la metrópolis desarrollada alrededor de este núcleo.5​ El grueso de esta conurbación forma la región de Londres y el área administrativa del Gran Londres,6​ gobernado por el alcalde y la asamblea de Londres.7​\n",
        "Londres es una ciudad global, uno de los centros neurálgicos en el ámbito de las artes, el comercio, la educación, el entretenimiento, la moda, las finanzas, los medios de comunicación, la investigación, el turismo o el transporte.8​ Es el principal centro financiero del mundo9​10​11​ y una de las áreas metropolitanas con mayor PIB.12​13​ Londres es también una capital cultural mundial,14​15​16​17​ la ciudad más visitada considerando el número de visitas internacionales18​ y tiene el mayor sistema aeroportuario del mundo según el tráfico de pasajeros.19​ Asimismo, las 43 universidades de la ciudad conforman la mayor concentración de centros de estudios superiores de toda Europa.20​ En el año 2012 Londres se convirtió en la única ciudad en albergar la celebración de tres Juegos Olímpicos de Verano.21​\n",
        "En esta ciudad multirracial convive gente de un gran número de culturas que hablan más de trescientos idiomas distintos.22​ La Autoridad del Gran Londres estima que en 2015 la ciudad tiene 8,63 millones de habitantes,23​ que supone el 12,5 % del total de habitantes del Reino Unido.24​ El área urbana del Gran Londres, con 10 470 00025​ habitantes, es la segunda más grande de Europa, pero su área metropolitana, con una población estimada de entre 12 y 14 millones,26​27​ es la mayor del continente. Desde 1831 a 1925 Londres, como capital del Imperio británico, fue la ciudad más poblada del mundo.'''\n",
        "doc = nlp_es(text)\n",
        "\n",
        "# Para ver las entidades que ha detectado\n",
        "for entity in doc.ents:\n",
        "    print(f\"{entity.text} ({entity.label_})\")\n"
      ]
    },
    {
      "cell_type": "code",
      "execution_count": 19,
      "metadata": {},
      "outputs": [
        {
          "data": {
            "text/plain": [
              "'Miscellaneous entities, e.g. events, nationalities, products or works of art'"
            ]
          },
          "execution_count": 19,
          "metadata": {},
          "output_type": "execute_result"
        }
      ],
      "source": [
        "# Doubts with labels\n",
        "spacy.explain('MISC')"
      ]
    },
    {
      "cell_type": "markdown",
      "metadata": {
        "id": "5GwuAvRS1TLb"
      },
      "source": [
        "## Most frequent words\n",
        "In a Wikipedia page"
      ]
    },
    {
      "cell_type": "code",
      "execution_count": null,
      "metadata": {},
      "outputs": [],
      "source": [
        "# !pip install wikipedia"
      ]
    },
    {
      "cell_type": "code",
      "execution_count": 4,
      "metadata": {},
      "outputs": [],
      "source": [
        "from spacy.lang.es.stop_words import STOP_WORDS"
      ]
    },
    {
      "cell_type": "code",
      "execution_count": 6,
      "metadata": {
        "colab": {
          "base_uri": "https://localhost:8080/",
          "height": 174
        },
        "id": "zmuqxci01TTh",
        "outputId": "8f5d5796-9ab8-4b8b-d89c-2c6f17e89442"
      },
      "outputs": [
        {
          "data": {
            "text/plain": [
              "\"Karim Mostafa Benzema (born 19 December 1987) is a French professional footballer who plays as a striker for and captains Saudi Pro League club Al-Ittihad. Regarded as one of the best strikers of all time, he is a creative forward renowned for his goal-scoring ability, as well as his technical skills, vision, and versatility on the field. He is Real Madrid's all-time second-highest goalscorer and top assist provider. Benzema won 24 trophies with Real Madrid, including four La Liga, three Copa del Rey, and five UEFA Champions League titles.\\nBorn in Lyon to parents of Algerian descent, Benzema began his career with hometown club Olympique Lyonnais in 2005, contributing sporadically to three Ligue 1 title wins. In 2008, he was named the league's Player of the Year and in the Team of the Year having finished as the league's top goalscorer and winning his fourth league title and first Coupe de France. In 2009, Benzema was the subject of a then-French record football transfer when he joined \""
            ]
          },
          "execution_count": 6,
          "metadata": {},
          "output_type": "execute_result"
        }
      ],
      "source": [
        "import wikipedia\n",
        "wikipedia.set_lang(\"en\")\n",
        "karim = wikipedia.page(title=\"Karim Benzema\")\n",
        "text = karim.content\n",
        "text[0:1000]"
      ]
    },
    {
      "cell_type": "code",
      "execution_count": 7,
      "metadata": {
        "colab": {
          "base_uri": "https://localhost:8080/"
        },
        "id": "w8s0R3vU3NAZ",
        "outputId": "3c71df2d-5abe-488f-fb50-fbe8b242e97a"
      },
      "outputs": [
        {
          "ename": "NameError",
          "evalue": "name 'nlp' is not defined",
          "output_type": "error",
          "traceback": [
            "\u001b[1;31m---------------------------------------------------------------------------\u001b[0m",
            "\u001b[1;31mNameError\u001b[0m                                 Traceback (most recent call last)",
            "\u001b[1;32mc:\\Users\\misla\\Documents\\Bootcamp\\DS_TheBridgeBBK_SBIL2023\\3-Machine_Learning\\4-NLP\\Spacy&Textacy\\3_Textacy_y_spacy.ipynb Cell 29\u001b[0m line \u001b[0;36m1\n\u001b[1;32m----> <a href='vscode-notebook-cell:/c%3A/Users/misla/Documents/Bootcamp/DS_TheBridgeBBK_SBIL2023/3-Machine_Learning/4-NLP/Spacy%26Textacy/3_Textacy_y_spacy.ipynb#X40sZmlsZQ%3D%3D?line=0'>1</a>\u001b[0m nombres \u001b[39m=\u001b[39m [w\u001b[39m.\u001b[39mtext \u001b[39mfor\u001b[39;00m w \u001b[39min\u001b[39;00m nlp(text) \u001b[39mif\u001b[39;00m \u001b[39mnot\u001b[39;00m w\u001b[39m.\u001b[39mis_stop \u001b[39mand\u001b[39;00m \u001b[39mnot\u001b[39;00m w\u001b[39m.\u001b[39mis_punct \u001b[39mand\u001b[39;00m w\u001b[39m.\u001b[39mpos_ \u001b[39m==\u001b[39m \u001b[39m'\u001b[39m\u001b[39mADJ\u001b[39m\u001b[39m'\u001b[39m]\n\u001b[0;32m      <a href='vscode-notebook-cell:/c%3A/Users/misla/Documents/Bootcamp/DS_TheBridgeBBK_SBIL2023/3-Machine_Learning/4-NLP/Spacy%26Textacy/3_Textacy_y_spacy.ipynb#X40sZmlsZQ%3D%3D?line=1'>2</a>\u001b[0m nombres[:\u001b[39m10\u001b[39m]\n",
            "\u001b[1;31mNameError\u001b[0m: name 'nlp' is not defined"
          ]
        }
      ],
      "source": [
        "nombres = [w.text for w in nlp(text) if not w.is_stop and not w.is_punct and w.pos_ == 'ADJ']\n",
        "nombres[:10]"
      ]
    },
    {
      "cell_type": "code",
      "execution_count": 49,
      "metadata": {
        "colab": {
          "base_uri": "https://localhost:8080/"
        },
        "id": "C0D-pRly22_H",
        "outputId": "5bc9c178-6438-40ac-b2a6-ece714865a69"
      },
      "outputs": [
        {
          "data": {
            "text/plain": [
              "[('French', 38),\n",
              " ('final', 32),\n",
              " ('national', 17),\n",
              " ('new', 17),\n",
              " ('consecutive', 12),\n",
              " ('international', 11),\n",
              " ('senior', 10),\n",
              " ('friendly', 10),\n",
              " ('highest', 9)]"
            ]
          },
          "execution_count": 49,
          "metadata": {},
          "output_type": "execute_result"
        }
      ],
      "source": [
        "from collections import Counter\n",
        "word_freq = Counter(nombres)\n",
        "\n",
        "word_freq.most_common(10)[1:]"
      ]
    },
    {
      "cell_type": "markdown",
      "metadata": {
        "id": "xWDuikM7VJtc"
      },
      "source": [
        "## Textacy London text\n",
        "No we want to know things about London, from our previous text"
      ]
    },
    {
      "cell_type": "code",
      "execution_count": 52,
      "metadata": {
        "colab": {
          "base_uri": "https://localhost:8080/"
        },
        "id": "qOiN7HAmvNV2",
        "outputId": "cc8d904b-3cc0-4588-f6d5-95ce6ad6fe7a"
      },
      "outputs": [
        {
          "name": "stdout",
          "output_type": "stream",
          "text": [
            "Here are the things I know about London:\n",
            " - [my, best, friend]\n"
          ]
        }
      ],
      "source": [
        "import spacy\n",
        "import textacy.extract\n",
        "\n",
        "#### CODE ####\n",
        "\n",
        "# The text we want to examine\n",
        "text = \"\"\"London is the capital and most populous city of England and the United Kingdom. Standing on the River Thames in the south east of the island of Great Britain, London has been a major settlement for two millennia. London was founded by the Romans, \n",
        "who named it Londinium. London is a huge city. London has a lot of cute restaurants. Jaimito is my best friend.\n",
        "\"\"\"\n",
        "\n",
        "doc = nlp(text)\n",
        "statements = textacy.extract.semistructured_statements(doc, entity=\"Jaimito\", cue='be')\n",
        "\n",
        "# Print the results\n",
        "print(\"Here are the things I know about London:\")\n",
        "\n",
        "for statement in statements:\n",
        "    subject, verb, fact = statement\n",
        "    print(f\" - {fact}\")\n"
      ]
    },
    {
      "cell_type": "code",
      "execution_count": null,
      "metadata": {},
      "outputs": [],
      "source": [
        "textacy.load_spacy_lang(langstr, allow_blank=True)"
      ]
    },
    {
      "cell_type": "code",
      "execution_count": 66,
      "metadata": {},
      "outputs": [
        {
          "name": "stdout",
          "output_type": "stream",
          "text": [
            "Here are the things I know about Karim:\n",
            " - [a, French, professional, footballer, who, plays, as, a, striker, for, La, Liga, club, Real, Madrid, and, the, France, national, team]\n",
            " - [the, subject, of, a, then, French, record, football, transfer]\n",
            " - [a, part, of, four, of, those, title, runs]\n",
            " - [a, talented, player, and, talented, players, in, Madrid]\n",
            " - [part, of, Real, Madrid, 's, starting, eleven, in, the, 2014, Copa, del, Rey, Final, on, 16, April, at, the, Mestalla, Stadium]\n",
            " - [the, first, Madrid, captain, to, score, a, hat, -, trick, since, Raul, in, 2008]\n",
            " - [a, former, France, youth, international]\n",
            " - [the, last, of, the, four, to, make, his, youth, international, debut, under, coach, Philippe, Bergeroo]\n",
            " - [a, regular, starter, in, the, team, at, under-18, level]\n",
            " - [one, of, three, goalscorers, in, France, 's, 3–0, away, win, over, Norway]\n",
            " - [\", quite, efficient\"]\n",
            " - [the, third, youngest, in, the, family]\n"
          ]
        }
      ],
      "source": [
        "# nlp_es = spacy.load('es_core_news_lg')\n",
        "\n",
        "doc = nlp(karim.content)\n",
        "\n",
        "statements = textacy.extract.semistructured_statements(doc, entity=\"Benzema\", cue='be')\n",
        "\n",
        "# Print the results\n",
        "print(\"Here are the things I know about Karim:\")\n",
        "\n",
        "for statement in statements:\n",
        "    subject, verb, fact = statement\n",
        "    print(f\" - {fact}\")\n"
      ]
    },
    {
      "cell_type": "markdown",
      "metadata": {
        "id": "hFwnqZzIaSNQ"
      },
      "source": [
        "## Textacy with Wikipedia API\n",
        "We don't want the most frequent words, we want sentences about London"
      ]
    },
    {
      "cell_type": "code",
      "execution_count": 67,
      "metadata": {
        "id": "za6v7SL_2Ywo"
      },
      "outputs": [],
      "source": [
        "wikipedia.set_lang(\"en\")\n",
        "london = wikipedia.page(\"London\")\n",
        "text = london.content"
      ]
    },
    {
      "cell_type": "code",
      "execution_count": 71,
      "metadata": {
        "colab": {
          "base_uri": "https://localhost:8080/"
        },
        "id": "NwOqJO902pO6",
        "outputId": "9d856c03-1993-4c18-976a-39a58d7680a3"
      },
      "outputs": [
        {
          "name": "stdout",
          "output_type": "stream",
          "text": [
            "Here are the things I know about London:\n",
            " - [the, oldest, and, third, longest, metro, system, in, the, world]\n"
          ]
        }
      ],
      "source": [
        "doc = nlp(text)\n",
        "\n",
        "# Extract semi-structured statements\n",
        "statements = textacy.extract.semistructured_statements(doc, entity=\"London Underground\", cue='be')\n",
        "\n",
        "# Print the results\n",
        "print(\"Here are the things I know about London:\")\n",
        "\n",
        "for statement in statements:\n",
        "    subject, verb, fact = statement\n",
        "    print(f\" - {fact}\")"
      ]
    }
  ],
  "metadata": {
    "colab": {
      "collapsed_sections": [],
      "name": "Textacy_y_spacy.ipynb",
      "provenance": []
    },
    "kernelspec": {
      "display_name": "Python 3.7.4 64-bit",
      "language": "python",
      "name": "python3"
    },
    "language_info": {
      "codemirror_mode": {
        "name": "ipython",
        "version": 3
      },
      "file_extension": ".py",
      "mimetype": "text/x-python",
      "name": "python",
      "nbconvert_exporter": "python",
      "pygments_lexer": "ipython3",
      "version": "3.10.2"
    },
    "vscode": {
      "interpreter": {
        "hash": "90139cb9a825bf3d63f6f6704e828dbd1ff7edbd4d0c6e906a71235d6efc74af"
      }
    }
  },
  "nbformat": 4,
  "nbformat_minor": 0
}
