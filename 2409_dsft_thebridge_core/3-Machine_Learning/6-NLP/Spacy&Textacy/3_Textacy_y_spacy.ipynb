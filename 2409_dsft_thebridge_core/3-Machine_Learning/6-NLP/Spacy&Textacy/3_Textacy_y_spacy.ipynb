{
  "cells": [
    {
      "cell_type": "markdown",
      "metadata": {
        "id": "dM0AU5JmpZa3"
      },
      "source": [
        "# Textacy & Spacy\n",
        "Librerias de procesado de NLP"
      ]
    },
    {
      "cell_type": "code",
      "execution_count": null,
      "metadata": {},
      "outputs": [
        {
          "name": "stdout",
          "output_type": "stream",
          "text": [
            "Defaulting to user installation because normal site-packages is not writeable\n",
            "Collecting en-core-web-lg==3.8.0\n",
            "  Downloading https://github.com/explosion/spacy-models/releases/download/en_core_web_lg-3.8.0/en_core_web_lg-3.8.0-py3-none-any.whl (400.7 MB)\n",
            "     ---------------------------------------- 0.0/400.7 MB ? eta -:--:--\n",
            "     --------------------------------------- 3.7/400.7 MB 27.3 MB/s eta 0:00:15\n",
            "     - ------------------------------------ 11.0/400.7 MB 29.9 MB/s eta 0:00:14\n",
            "     - ------------------------------------ 17.0/400.7 MB 29.8 MB/s eta 0:00:13\n",
            "     -- ----------------------------------- 22.8/400.7 MB 28.9 MB/s eta 0:00:14\n",
            "     -- ----------------------------------- 28.8/400.7 MB 28.6 MB/s eta 0:00:14\n",
            "     --- ---------------------------------- 34.9/400.7 MB 28.4 MB/s eta 0:00:13\n",
            "     --- ---------------------------------- 40.4/400.7 MB 28.2 MB/s eta 0:00:13\n",
            "     ---- --------------------------------- 46.1/400.7 MB 28.0 MB/s eta 0:00:13\n",
            "     ---- --------------------------------- 50.6/400.7 MB 27.3 MB/s eta 0:00:13\n",
            "     ----- -------------------------------- 55.1/400.7 MB 26.6 MB/s eta 0:00:14\n",
            "     ----- -------------------------------- 59.8/400.7 MB 26.1 MB/s eta 0:00:14\n",
            "     ------ ------------------------------- 64.2/400.7 MB 25.8 MB/s eta 0:00:14\n",
            "     ------ ------------------------------- 68.2/400.7 MB 25.0 MB/s eta 0:00:14\n",
            "     ------ ------------------------------- 72.9/400.7 MB 24.9 MB/s eta 0:00:14\n",
            "     ------- ------------------------------ 77.3/400.7 MB 24.7 MB/s eta 0:00:14\n",
            "     ------- ------------------------------ 82.6/400.7 MB 24.5 MB/s eta 0:00:13\n",
            "     -------- ----------------------------- 87.3/400.7 MB 24.4 MB/s eta 0:00:13\n",
            "     -------- ----------------------------- 91.2/400.7 MB 24.1 MB/s eta 0:00:13\n",
            "     --------- ---------------------------- 94.9/400.7 MB 23.7 MB/s eta 0:00:13\n",
            "     --------- ---------------------------- 98.0/400.7 MB 23.3 MB/s eta 0:00:14\n",
            "     --------- --------------------------- 101.7/400.7 MB 22.9 MB/s eta 0:00:14\n",
            "     --------- --------------------------- 105.4/400.7 MB 22.7 MB/s eta 0:00:14\n",
            "     ---------- -------------------------- 109.1/400.7 MB 22.4 MB/s eta 0:00:14\n",
            "     ---------- -------------------------- 112.7/400.7 MB 22.2 MB/s eta 0:00:13\n",
            "     ---------- -------------------------- 117.2/400.7 MB 22.1 MB/s eta 0:00:13\n",
            "     ----------- ------------------------- 121.1/400.7 MB 22.0 MB/s eta 0:00:13\n",
            "     ----------- ------------------------- 125.3/400.7 MB 21.9 MB/s eta 0:00:13\n",
            "     ----------- ------------------------- 129.8/400.7 MB 21.8 MB/s eta 0:00:13\n",
            "     ------------ ------------------------ 134.0/400.7 MB 21.8 MB/s eta 0:00:13\n",
            "     ------------ ------------------------ 138.4/400.7 MB 21.7 MB/s eta 0:00:13\n",
            "     ------------- ----------------------- 142.3/400.7 MB 21.5 MB/s eta 0:00:12\n",
            "     ------------- ----------------------- 146.5/400.7 MB 21.5 MB/s eta 0:00:12\n",
            "     ------------- ----------------------- 151.0/400.7 MB 21.5 MB/s eta 0:00:12\n",
            "     -------------- ---------------------- 155.7/400.7 MB 21.5 MB/s eta 0:00:12\n",
            "     -------------- ---------------------- 160.4/400.7 MB 21.5 MB/s eta 0:00:12\n",
            "     --------------- --------------------- 165.2/400.7 MB 21.5 MB/s eta 0:00:11\n",
            "     --------------- --------------------- 169.9/400.7 MB 21.5 MB/s eta 0:00:11\n",
            "     ---------------- -------------------- 174.9/400.7 MB 21.6 MB/s eta 0:00:11\n",
            "     ---------------- -------------------- 179.8/400.7 MB 21.6 MB/s eta 0:00:11\n",
            "     ----------------- ------------------- 184.5/400.7 MB 21.6 MB/s eta 0:00:11\n",
            "     ----------------- ------------------- 189.8/400.7 MB 21.7 MB/s eta 0:00:10\n",
            "     ----------------- ------------------- 194.8/400.7 MB 21.7 MB/s eta 0:00:10\n",
            "     ------------------ ------------------ 199.8/400.7 MB 21.8 MB/s eta 0:00:10\n",
            "     ------------------ ------------------ 205.3/400.7 MB 21.8 MB/s eta 0:00:09\n",
            "     ------------------- ----------------- 210.2/400.7 MB 21.9 MB/s eta 0:00:09\n",
            "     ------------------- ----------------- 215.5/400.7 MB 21.9 MB/s eta 0:00:09\n",
            "     -------------------- ---------------- 220.7/400.7 MB 22.0 MB/s eta 0:00:09\n",
            "     -------------------- ---------------- 226.2/400.7 MB 22.0 MB/s eta 0:00:08\n",
            "     --------------------- --------------- 232.0/400.7 MB 22.1 MB/s eta 0:00:08\n",
            "     --------------------- --------------- 238.0/400.7 MB 22.2 MB/s eta 0:00:08\n",
            "     ---------------------- -------------- 243.8/400.7 MB 22.3 MB/s eta 0:00:08\n",
            "     ----------------------- ------------- 249.6/400.7 MB 22.4 MB/s eta 0:00:07\n",
            "     ----------------------- ------------- 253.8/400.7 MB 22.4 MB/s eta 0:00:07\n",
            "     ----------------------- ------------- 259.8/400.7 MB 22.5 MB/s eta 0:00:07\n",
            "     ------------------------ ------------ 265.0/400.7 MB 22.5 MB/s eta 0:00:07\n",
            "     ------------------------ ------------ 269.7/400.7 MB 22.3 MB/s eta 0:00:06\n",
            "     ------------------------- ----------- 274.2/400.7 MB 22.2 MB/s eta 0:00:06\n",
            "     ------------------------- ----------- 278.9/400.7 MB 22.1 MB/s eta 0:00:06\n",
            "     -------------------------- ---------- 282.6/400.7 MB 22.0 MB/s eta 0:00:06\n",
            "     -------------------------- ---------- 287.8/400.7 MB 21.9 MB/s eta 0:00:06\n",
            "     --------------------------- --------- 292.6/400.7 MB 21.9 MB/s eta 0:00:05\n",
            "     --------------------------- --------- 297.8/400.7 MB 21.9 MB/s eta 0:00:05\n",
            "     --------------------------- --------- 302.3/400.7 MB 21.7 MB/s eta 0:00:05\n",
            "     ---------------------------- -------- 307.5/400.7 MB 21.7 MB/s eta 0:00:05\n",
            "     ---------------------------- -------- 311.4/400.7 MB 21.7 MB/s eta 0:00:05\n",
            "     ----------------------------- ------- 315.6/400.7 MB 21.6 MB/s eta 0:00:04\n",
            "     ----------------------------- ------- 318.8/400.7 MB 21.5 MB/s eta 0:00:04\n",
            "     ----------------------------- ------- 322.7/400.7 MB 21.4 MB/s eta 0:00:04\n",
            "     ------------------------------ ------ 326.6/400.7 MB 21.4 MB/s eta 0:00:04\n",
            "     ------------------------------ ------ 330.8/400.7 MB 21.4 MB/s eta 0:00:04\n",
            "     ------------------------------ ------ 335.0/400.7 MB 21.4 MB/s eta 0:00:04\n",
            "     ------------------------------- ----- 339.2/400.7 MB 21.3 MB/s eta 0:00:03\n",
            "     ------------------------------- ----- 343.7/400.7 MB 21.3 MB/s eta 0:00:03\n",
            "     -------------------------------- ---- 348.1/400.7 MB 21.2 MB/s eta 0:00:03\n",
            "     -------------------------------- ---- 352.8/400.7 MB 21.3 MB/s eta 0:00:03\n",
            "     -------------------------------- ---- 357.0/400.7 MB 21.4 MB/s eta 0:00:03\n",
            "     --------------------------------- --- 361.5/400.7 MB 21.5 MB/s eta 0:00:02\n",
            "     --------------------------------- --- 366.2/400.7 MB 21.6 MB/s eta 0:00:02\n",
            "     ---------------------------------- -- 371.2/400.7 MB 21.7 MB/s eta 0:00:02\n",
            "     ---------------------------------- -- 375.9/400.7 MB 21.8 MB/s eta 0:00:02\n",
            "     ----------------------------------- - 380.9/400.7 MB 21.9 MB/s eta 0:00:01\n",
            "     ----------------------------------- - 385.1/400.7 MB 21.9 MB/s eta 0:00:01\n",
            "     ----------------------------------- - 389.0/400.7 MB 21.9 MB/s eta 0:00:01\n",
            "     ------------------------------------  394.3/400.7 MB 21.9 MB/s eta 0:00:01\n",
            "     ------------------------------------  398.2/400.7 MB 21.9 MB/s eta 0:00:01\n",
            "     ------------------------------------  400.6/400.7 MB 21.9 MB/s eta 0:00:01\n",
            "     ------------------------------------  400.6/400.7 MB 21.9 MB/s eta 0:00:01\n",
            "     ------------------------------------  400.6/400.7 MB 21.9 MB/s eta 0:00:01\n",
            "     ------------------------------------  400.6/400.7 MB 21.9 MB/s eta 0:00:01\n",
            "     ------------------------------------  400.6/400.7 MB 21.9 MB/s eta 0:00:01\n",
            "     ------------------------------------  400.6/400.7 MB 21.9 MB/s eta 0:00:01\n",
            "     ------------------------------------- 400.7/400.7 MB 19.7 MB/s eta 0:00:00\n",
            "Installing collected packages: en-core-web-lg\n",
            "Successfully installed en-core-web-lg-3.8.0\n",
            "\u001b[38;5;2m✔ Download and installation successful\u001b[0m\n",
            "You can now load the package via spacy.load('en_core_web_lg')\n",
            "Defaulting to user installation because normal site-packages is not writeable\n",
            "Collecting es-core-news-lg==3.8.0\n",
            "  Downloading https://github.com/explosion/spacy-models/releases/download/es_core_news_lg-3.8.0/es_core_news_lg-3.8.0-py3-none-any.whl (568.0 MB)\n",
            "     ---------------------------------------- 0.0/568.0 MB ? eta -:--:--\n",
            "     --------------------------------------- 2.9/568.0 MB 21.0 MB/s eta 0:00:27\n",
            "      ------------------------------------- 10.0/568.0 MB 28.2 MB/s eta 0:00:20\n",
            "      ------------------------------------- 14.7/568.0 MB 25.6 MB/s eta 0:00:22\n",
            "     - ------------------------------------ 20.4/568.0 MB 25.3 MB/s eta 0:00:22\n",
            "     - ------------------------------------ 25.2/568.0 MB 24.9 MB/s eta 0:00:22\n",
            "     -- ----------------------------------- 30.7/568.0 MB 24.9 MB/s eta 0:00:22\n",
            "     -- ----------------------------------- 36.4/568.0 MB 25.2 MB/s eta 0:00:22\n",
            "     -- ----------------------------------- 41.9/568.0 MB 25.4 MB/s eta 0:00:21\n",
            "     --- ---------------------------------- 47.7/568.0 MB 25.5 MB/s eta 0:00:21\n",
            "     --- ---------------------------------- 53.2/568.0 MB 25.5 MB/s eta 0:00:21\n",
            "     --- ---------------------------------- 59.0/568.0 MB 25.7 MB/s eta 0:00:20\n",
            "     ---- --------------------------------- 64.0/568.0 MB 25.5 MB/s eta 0:00:20\n",
            "     ---- --------------------------------- 70.0/568.0 MB 25.5 MB/s eta 0:00:20\n",
            "     ----- -------------------------------- 76.0/568.0 MB 25.8 MB/s eta 0:00:20\n",
            "     ----- -------------------------------- 82.1/568.0 MB 25.9 MB/s eta 0:00:19\n",
            "     ----- -------------------------------- 88.1/568.0 MB 26.0 MB/s eta 0:00:19\n",
            "     ------ ------------------------------- 94.6/568.0 MB 26.3 MB/s eta 0:00:19\n",
            "     ------ ------------------------------- 99.9/568.0 MB 26.2 MB/s eta 0:00:18\n",
            "     ------ ------------------------------ 106.2/568.0 MB 26.4 MB/s eta 0:00:18\n",
            "     ------- ----------------------------- 112.2/568.0 MB 26.4 MB/s eta 0:00:18\n",
            "     ------- ----------------------------- 118.5/568.0 MB 26.6 MB/s eta 0:00:17\n",
            "     -------- ---------------------------- 124.3/568.0 MB 26.5 MB/s eta 0:00:17\n",
            "     -------- ---------------------------- 131.1/568.0 MB 26.7 MB/s eta 0:00:17\n",
            "     -------- ---------------------------- 135.8/568.0 MB 26.6 MB/s eta 0:00:17\n",
            "     --------- --------------------------- 141.6/568.0 MB 26.6 MB/s eta 0:00:17\n",
            "     --------- --------------------------- 146.8/568.0 MB 26.5 MB/s eta 0:00:16\n",
            "     --------- --------------------------- 152.0/568.0 MB 26.4 MB/s eta 0:00:16\n",
            "     ---------- -------------------------- 157.0/568.0 MB 26.3 MB/s eta 0:00:16\n",
            "     ---------- -------------------------- 163.8/568.0 MB 26.4 MB/s eta 0:00:16\n",
            "     ----------- ------------------------- 170.1/568.0 MB 26.6 MB/s eta 0:00:15\n",
            "     ----------- ------------------------- 176.9/568.0 MB 26.7 MB/s eta 0:00:15\n",
            "     ----------- ------------------------- 183.2/568.0 MB 26.8 MB/s eta 0:00:15\n",
            "     ------------ ------------------------ 188.7/568.0 MB 26.7 MB/s eta 0:00:15\n",
            "     ------------ ------------------------ 195.6/568.0 MB 26.9 MB/s eta 0:00:14\n",
            "     ------------- ----------------------- 200.8/568.0 MB 26.8 MB/s eta 0:00:14\n",
            "     ------------- ----------------------- 205.5/568.0 MB 26.7 MB/s eta 0:00:14\n",
            "     ------------- ----------------------- 210.5/568.0 MB 26.6 MB/s eta 0:00:14\n",
            "     -------------- ---------------------- 216.3/568.0 MB 26.6 MB/s eta 0:00:14\n",
            "     -------------- ---------------------- 222.3/568.0 MB 26.6 MB/s eta 0:00:13\n",
            "     -------------- ---------------------- 228.1/568.0 MB 26.6 MB/s eta 0:00:13\n",
            "     --------------- --------------------- 234.1/568.0 MB 26.6 MB/s eta 0:00:13\n",
            "     --------------- --------------------- 240.1/568.0 MB 26.7 MB/s eta 0:00:13\n",
            "     ---------------- -------------------- 245.9/568.0 MB 26.7 MB/s eta 0:00:13\n",
            "     ---------------- -------------------- 251.1/568.0 MB 26.7 MB/s eta 0:00:12\n",
            "     ---------------- -------------------- 254.5/568.0 MB 26.4 MB/s eta 0:00:12\n",
            "     ---------------- -------------------- 258.7/568.0 MB 26.3 MB/s eta 0:00:12\n",
            "     ----------------- ------------------- 262.9/568.0 MB 26.1 MB/s eta 0:00:12\n",
            "     ----------------- ------------------- 266.3/568.0 MB 25.9 MB/s eta 0:00:12\n",
            "     ----------------- ------------------- 269.5/568.0 MB 25.6 MB/s eta 0:00:12\n",
            "     ----------------- ------------------- 272.9/568.0 MB 25.4 MB/s eta 0:00:12\n",
            "     ----------------- ------------------- 275.8/568.0 MB 25.2 MB/s eta 0:00:12\n",
            "     ------------------ ------------------ 279.7/568.0 MB 25.1 MB/s eta 0:00:12\n",
            "     ------------------ ------------------ 283.4/568.0 MB 24.9 MB/s eta 0:00:12\n",
            "     ------------------ ------------------ 287.0/568.0 MB 24.8 MB/s eta 0:00:12\n",
            "     ------------------ ------------------ 290.5/568.0 MB 24.6 MB/s eta 0:00:12\n",
            "     ------------------- ----------------- 293.9/568.0 MB 24.4 MB/s eta 0:00:12\n",
            "     ------------------- ----------------- 297.3/568.0 MB 24.2 MB/s eta 0:00:12\n",
            "     ------------------- ----------------- 299.6/568.0 MB 23.9 MB/s eta 0:00:12\n",
            "     ------------------- ----------------- 303.6/568.0 MB 23.8 MB/s eta 0:00:12\n",
            "     ------------------- ----------------- 307.0/568.0 MB 23.6 MB/s eta 0:00:12\n",
            "     -------------------- ---------------- 310.1/568.0 MB 23.5 MB/s eta 0:00:11\n",
            "     -------------------- ---------------- 313.3/568.0 MB 23.2 MB/s eta 0:00:11\n",
            "     -------------------- ---------------- 316.7/568.0 MB 23.0 MB/s eta 0:00:11\n",
            "     -------------------- ---------------- 319.6/568.0 MB 22.8 MB/s eta 0:00:11\n",
            "     --------------------- --------------- 323.0/568.0 MB 22.7 MB/s eta 0:00:11\n",
            "     --------------------- --------------- 326.1/568.0 MB 22.5 MB/s eta 0:00:11\n",
            "     --------------------- --------------- 329.5/568.0 MB 22.3 MB/s eta 0:00:11\n",
            "     --------------------- --------------- 332.7/568.0 MB 22.1 MB/s eta 0:00:11\n",
            "     --------------------- --------------- 336.1/568.0 MB 21.9 MB/s eta 0:00:11\n",
            "     ---------------------- -------------- 339.2/568.0 MB 21.7 MB/s eta 0:00:11\n",
            "     ---------------------- -------------- 342.4/568.0 MB 21.5 MB/s eta 0:00:11\n",
            "     ---------------------- -------------- 345.5/568.0 MB 21.4 MB/s eta 0:00:11\n",
            "     ---------------------- -------------- 348.7/568.0 MB 21.2 MB/s eta 0:00:11\n",
            "     ---------------------- -------------- 352.1/568.0 MB 21.0 MB/s eta 0:00:11\n",
            "     ----------------------- ------------- 355.2/568.0 MB 20.8 MB/s eta 0:00:11\n",
            "     ----------------------- ------------- 358.4/568.0 MB 20.7 MB/s eta 0:00:11\n",
            "     ----------------------- ------------- 361.5/568.0 MB 20.6 MB/s eta 0:00:11\n",
            "     ----------------------- ------------- 363.9/568.0 MB 20.4 MB/s eta 0:00:11\n",
            "     ----------------------- ------------- 367.3/568.0 MB 20.2 MB/s eta 0:00:10\n",
            "     ------------------------ ------------ 370.7/568.0 MB 20.0 MB/s eta 0:00:10\n",
            "     ------------------------ ------------ 374.3/568.0 MB 19.9 MB/s eta 0:00:10\n",
            "     ------------------------ ------------ 377.7/568.0 MB 19.8 MB/s eta 0:00:10\n",
            "     ------------------------ ------------ 380.9/568.0 MB 19.6 MB/s eta 0:00:10\n",
            "     ------------------------- ----------- 384.3/568.0 MB 19.5 MB/s eta 0:00:10\n",
            "     ------------------------- ----------- 387.4/568.0 MB 19.3 MB/s eta 0:00:10\n",
            "     ------------------------- ----------- 390.6/568.0 MB 19.2 MB/s eta 0:00:10\n",
            "     ------------------------- ----------- 393.7/568.0 MB 19.0 MB/s eta 0:00:10\n",
            "     ------------------------- ----------- 396.9/568.0 MB 19.0 MB/s eta 0:00:10\n",
            "     -------------------------- ---------- 400.3/568.0 MB 18.8 MB/s eta 0:00:09\n",
            "     -------------------------- ---------- 403.4/568.0 MB 18.7 MB/s eta 0:00:09\n",
            "     -------------------------- ---------- 406.6/568.0 MB 18.6 MB/s eta 0:00:09\n",
            "     -------------------------- ---------- 409.2/568.0 MB 18.5 MB/s eta 0:00:09\n",
            "     -------------------------- ---------- 412.4/568.0 MB 18.3 MB/s eta 0:00:09\n",
            "     --------------------------- --------- 414.7/568.0 MB 18.2 MB/s eta 0:00:09\n",
            "     --------------------------- --------- 417.6/568.0 MB 18.1 MB/s eta 0:00:09\n",
            "     --------------------------- --------- 420.5/568.0 MB 17.9 MB/s eta 0:00:09\n",
            "     --------------------------- --------- 422.6/568.0 MB 17.7 MB/s eta 0:00:09\n",
            "     --------------------------- --------- 425.7/568.0 MB 17.6 MB/s eta 0:00:09\n",
            "     --------------------------- --------- 429.1/568.0 MB 17.5 MB/s eta 0:00:08\n",
            "     ---------------------------- -------- 432.5/568.0 MB 17.4 MB/s eta 0:00:08\n",
            "     ---------------------------- -------- 435.7/568.0 MB 17.3 MB/s eta 0:00:08\n",
            "     ---------------------------- -------- 439.1/568.0 MB 17.1 MB/s eta 0:00:08\n",
            "     ---------------------------- -------- 442.5/568.0 MB 17.0 MB/s eta 0:00:08\n",
            "     ----------------------------- ------- 445.6/568.0 MB 16.9 MB/s eta 0:00:08\n",
            "     ----------------------------- ------- 449.3/568.0 MB 16.8 MB/s eta 0:00:08\n",
            "     ----------------------------- ------- 452.7/568.0 MB 16.7 MB/s eta 0:00:07\n",
            "     ----------------------------- ------- 456.1/568.0 MB 16.6 MB/s eta 0:00:07\n",
            "     ----------------------------- ------- 459.5/568.0 MB 16.5 MB/s eta 0:00:07\n",
            "     ------------------------------ ------ 462.7/568.0 MB 16.4 MB/s eta 0:00:07\n",
            "     ------------------------------ ------ 465.6/568.0 MB 16.4 MB/s eta 0:00:07\n",
            "     ------------------------------ ------ 468.5/568.0 MB 16.2 MB/s eta 0:00:07\n",
            "     ------------------------------ ------ 471.3/568.0 MB 16.1 MB/s eta 0:00:06\n",
            "     ------------------------------ ------ 474.2/568.0 MB 16.1 MB/s eta 0:00:06\n",
            "     ------------------------------- ----- 476.3/568.0 MB 15.9 MB/s eta 0:00:06\n",
            "     ------------------------------- ----- 478.4/568.0 MB 15.8 MB/s eta 0:00:06\n",
            "     ------------------------------- ----- 480.5/568.0 MB 15.6 MB/s eta 0:00:06\n",
            "     ------------------------------- ----- 482.6/568.0 MB 15.5 MB/s eta 0:00:06\n",
            "     ------------------------------- ----- 484.7/568.0 MB 15.4 MB/s eta 0:00:06\n",
            "     ------------------------------- ----- 486.8/568.0 MB 15.3 MB/s eta 0:00:06\n",
            "     ------------------------------- ----- 488.9/568.0 MB 15.2 MB/s eta 0:00:06\n",
            "     ------------------------------- ----- 491.0/568.0 MB 15.0 MB/s eta 0:00:06\n",
            "     -------------------------------- ---- 493.4/568.0 MB 14.9 MB/s eta 0:00:06\n",
            "     -------------------------------- ---- 495.5/568.0 MB 14.8 MB/s eta 0:00:05\n",
            "     -------------------------------- ---- 497.8/568.0 MB 14.7 MB/s eta 0:00:05\n",
            "     -------------------------------- ---- 500.2/568.0 MB 14.6 MB/s eta 0:00:05\n",
            "     -------------------------------- ---- 502.0/568.0 MB 14.5 MB/s eta 0:00:05\n",
            "     -------------------------------- ---- 504.1/568.0 MB 14.4 MB/s eta 0:00:05\n",
            "     -------------------------------- ---- 505.9/568.0 MB 14.2 MB/s eta 0:00:05\n",
            "     --------------------------------- --- 508.0/568.0 MB 14.1 MB/s eta 0:00:05\n",
            "     --------------------------------- --- 510.7/568.0 MB 14.0 MB/s eta 0:00:05\n",
            "     --------------------------------- --- 513.0/568.0 MB 14.0 MB/s eta 0:00:04\n",
            "     --------------------------------- --- 515.6/568.0 MB 13.9 MB/s eta 0:00:04\n",
            "     --------------------------------- --- 518.3/568.0 MB 13.9 MB/s eta 0:00:04\n",
            "     --------------------------------- --- 520.9/568.0 MB 13.8 MB/s eta 0:00:04\n",
            "     ---------------------------------- -- 523.8/568.0 MB 13.7 MB/s eta 0:00:04\n",
            "     ---------------------------------- -- 526.6/568.0 MB 13.7 MB/s eta 0:00:04\n",
            "     ---------------------------------- -- 529.5/568.0 MB 13.7 MB/s eta 0:00:03\n",
            "     ---------------------------------- -- 532.4/568.0 MB 13.7 MB/s eta 0:00:03\n",
            "     ---------------------------------- -- 535.0/568.0 MB 13.6 MB/s eta 0:00:03\n",
            "     ----------------------------------- - 537.9/568.0 MB 13.7 MB/s eta 0:00:03\n",
            "     ----------------------------------- - 540.8/568.0 MB 13.6 MB/s eta 0:00:02\n",
            "     ----------------------------------- - 543.7/568.0 MB 13.6 MB/s eta 0:00:02\n",
            "     ----------------------------------- - 546.8/568.0 MB 13.6 MB/s eta 0:00:02\n",
            "     ----------------------------------- - 550.0/568.0 MB 13.5 MB/s eta 0:00:02\n",
            "     ------------------------------------  553.1/568.0 MB 13.5 MB/s eta 0:00:02\n",
            "     ------------------------------------  556.3/568.0 MB 13.5 MB/s eta 0:00:01\n",
            "     ------------------------------------  559.7/568.0 MB 13.5 MB/s eta 0:00:01\n",
            "     ------------------------------------  562.6/568.0 MB 13.5 MB/s eta 0:00:01\n",
            "     ------------------------------------  566.0/568.0 MB 13.5 MB/s eta 0:00:01\n",
            "     ------------------------------------  567.8/568.0 MB 13.5 MB/s eta 0:00:01\n",
            "     ------------------------------------  567.8/568.0 MB 13.5 MB/s eta 0:00:01\n",
            "     ------------------------------------  567.8/568.0 MB 13.5 MB/s eta 0:00:01\n",
            "     ------------------------------------  567.8/568.0 MB 13.5 MB/s eta 0:00:01\n",
            "     ------------------------------------  567.8/568.0 MB 13.5 MB/s eta 0:00:01\n",
            "     ------------------------------------  567.8/568.0 MB 13.5 MB/s eta 0:00:01\n",
            "     ------------------------------------  567.8/568.0 MB 13.5 MB/s eta 0:00:01\n",
            "     ------------------------------------  567.8/568.0 MB 13.5 MB/s eta 0:00:01\n",
            "     ------------------------------------  567.8/568.0 MB 13.5 MB/s eta 0:00:01\n",
            "     ------------------------------------  567.8/568.0 MB 13.5 MB/s eta 0:00:01\n",
            "     ------------------------------------- 568.0/568.0 MB 12.2 MB/s eta 0:00:00\n",
            "Installing collected packages: es-core-news-lg\n",
            "Successfully installed es-core-news-lg-3.8.0\n",
            "\u001b[38;5;2m✔ Download and installation successful\u001b[0m\n",
            "You can now load the package via spacy.load('es_core_news_lg')\n"
          ]
        }
      ],
      "source": [
        "'''\n",
        "Versiones compatibles\n",
        "Despues hay que reiniciar el entorno de ejecución\n",
        "'''\n",
        "#!pip install spacy\n",
        "#!pip install textacy\n",
        "\n",
        "# # Para siguientes ejecuciones, solo ejecutar esto y reiniciar despues el entorno\n",
        "#!python -m spacy download en_core_web_lg\n",
        "#!python -m spacy download es_core_news_lg\n"
      ]
    },
    {
      "cell_type": "markdown",
      "metadata": {
        "id": "A5rKVBF0pKa6"
      },
      "source": [
        "# Spacy\n",
        "https://spacy.io/\n",
        "\n",
        "NOTA: Recuerda reiniciar el entorno de ejecucion despues de la instalacion"
      ]
    },
    {
      "cell_type": "code",
      "execution_count": 1,
      "metadata": {
        "id": "g5__omBtznMg"
      },
      "outputs": [],
      "source": [
        "import spacy\n",
        "\n",
        "nlp = spacy.load('en_core_web_lg')"
      ]
    },
    {
      "cell_type": "markdown",
      "metadata": {
        "id": "XvUcxUvRx3CT"
      },
      "source": [
        "## Text basics\n",
        "Veamos como trabajar cn estos primeros ejemplos con la libreria ´spacy´. Cosas que podemos hacer:\n",
        "1. Tokenizar en frases\n",
        "2. Tokenizar en palabras\n",
        "3. Acceder a los atributos de cada token\n",
        "4. Acceder a las entidades del texto\n",
        "5. Visualizar las entidades del texto"
      ]
    },
    {
      "cell_type": "code",
      "execution_count": 2,
      "metadata": {
        "colab": {
          "base_uri": "https://localhost:8080/"
        },
        "id": "yx7f0Wv9ul01",
        "outputId": "da5d47cf-de20-4e1e-ebcc-d4ee4e09b77b"
      },
      "outputs": [
        {
          "name": "stdout",
          "output_type": "stream",
          "text": [
            "\n",
            "London is the capital and most populous city of England and \n",
            "the United Kingdom.  Standing on the River Thames in the south east \n",
            "of the island of Great Britain, London has been a major settlement \n",
            "for two millennia. It was founded by the Romans, who named it Londinium.\n",
            "\n",
            "0 \n",
            "\n",
            "1 London is the capital and most populous city of England and \n",
            "the United Kingdom.  \n",
            "2 Standing on the River Thames in the south east \n",
            "of the island of Great Britain, London has been a major settlement \n",
            "for two millennia.\n",
            "3 It was founded by the Romans, who named it Londinium.\n",
            "\n"
          ]
        }
      ],
      "source": [
        "# The text we want to examine\n",
        "text = \"\"\"\n",
        "London is the capital and most populous city of England and \n",
        "the United Kingdom.  Standing on the River Thames in the south east \n",
        "of the island of Great Britain, London has been a major settlement \n",
        "for two millennia. It was founded by the Romans, who named it Londinium.\n",
        "\"\"\"\n",
        "\n",
        "doc = nlp(text)\n",
        "\n",
        "print(doc)\n",
        "\n",
        "for num, sentence in enumerate(doc.sents):\n",
        "  print(num, sentence)\n"
      ]
    },
    {
      "cell_type": "code",
      "execution_count": 3,
      "metadata": {},
      "outputs": [
        {
          "name": "stdout",
          "output_type": "stream",
          "text": [
            "\n",
            " \n",
            " SPACE False\n",
            "London London PROPN False\n",
            "is be AUX True\n",
            "the the DET True\n",
            "capital capital NOUN False\n",
            "and and CCONJ True\n",
            "most most ADV True\n",
            "populous populous ADJ False\n",
            "city city NOUN False\n",
            "of of ADP True\n",
            "England England PROPN False\n",
            "and and CCONJ True\n",
            "\n",
            " \n",
            " SPACE False\n",
            "the the DET True\n",
            "United United PROPN False\n",
            "Kingdom Kingdom PROPN False\n",
            ". . PUNCT False\n",
            "    SPACE False\n",
            "Standing stand VERB False\n",
            "on on ADP True\n"
          ]
        }
      ],
      "source": [
        "for word in doc[:20]:\n",
        "  print(word.text, word.lemma_, word.pos_, word.is_stop)"
      ]
    },
    {
      "cell_type": "code",
      "execution_count": 4,
      "metadata": {
        "colab": {
          "base_uri": "https://localhost:8080/"
        },
        "id": "JIe3TYa9RNfm",
        "outputId": "f90a4cd9-f411-41e5-a000-750fb5f88e7d"
      },
      "outputs": [
        {
          "data": {
            "text/plain": [
              "spacy.tokens.doc.Doc"
            ]
          },
          "execution_count": 4,
          "metadata": {},
          "output_type": "execute_result"
        }
      ],
      "source": [
        "type(doc)"
      ]
    },
    {
      "cell_type": "markdown",
      "metadata": {
        "id": "UpBWJ2gby81T"
      },
      "source": [
        "## Syntactic analysis\n",
        "Doing the school homework"
      ]
    },
    {
      "cell_type": "code",
      "execution_count": 5,
      "metadata": {
        "colab": {
          "base_uri": "https://localhost:8080/",
          "height": 615
        },
        "id": "9N42WYyyy86b",
        "outputId": "f2d56011-4783-4711-f8f7-445f2a46dfd2"
      },
      "outputs": [
        {
          "data": {
            "text/html": [
              "<span class=\"tex2jax_ignore\"><svg xmlns=\"http://www.w3.org/2000/svg\" xmlns:xlink=\"http://www.w3.org/1999/xlink\" xml:lang=\"en\" id=\"9c772befa5964e09a87d6a9877638fa5-0\" class=\"displacy\" width=\"2500\" height=\"399.5\" direction=\"ltr\" style=\"max-width: none; height: 399.5px; color: #000000; background: #ffffff; font-family: Arial; direction: ltr\">\n",
              "<text class=\"displacy-token\" fill=\"currentColor\" text-anchor=\"middle\" y=\"309.5\">\n",
              "    <tspan class=\"displacy-word\" fill=\"currentColor\" x=\"50\">London</tspan>\n",
              "    <tspan class=\"displacy-tag\" dy=\"2em\" fill=\"currentColor\" x=\"50\">PROPN</tspan>\n",
              "</text>\n",
              "\n",
              "<text class=\"displacy-token\" fill=\"currentColor\" text-anchor=\"middle\" y=\"309.5\">\n",
              "    <tspan class=\"displacy-word\" fill=\"currentColor\" x=\"225\">is</tspan>\n",
              "    <tspan class=\"displacy-tag\" dy=\"2em\" fill=\"currentColor\" x=\"225\">AUX</tspan>\n",
              "</text>\n",
              "\n",
              "<text class=\"displacy-token\" fill=\"currentColor\" text-anchor=\"middle\" y=\"309.5\">\n",
              "    <tspan class=\"displacy-word\" fill=\"currentColor\" x=\"400\">the</tspan>\n",
              "    <tspan class=\"displacy-tag\" dy=\"2em\" fill=\"currentColor\" x=\"400\">DET</tspan>\n",
              "</text>\n",
              "\n",
              "<text class=\"displacy-token\" fill=\"currentColor\" text-anchor=\"middle\" y=\"309.5\">\n",
              "    <tspan class=\"displacy-word\" fill=\"currentColor\" x=\"575\">capital</tspan>\n",
              "    <tspan class=\"displacy-tag\" dy=\"2em\" fill=\"currentColor\" x=\"575\">NOUN</tspan>\n",
              "</text>\n",
              "\n",
              "<text class=\"displacy-token\" fill=\"currentColor\" text-anchor=\"middle\" y=\"309.5\">\n",
              "    <tspan class=\"displacy-word\" fill=\"currentColor\" x=\"750\">and</tspan>\n",
              "    <tspan class=\"displacy-tag\" dy=\"2em\" fill=\"currentColor\" x=\"750\">CCONJ</tspan>\n",
              "</text>\n",
              "\n",
              "<text class=\"displacy-token\" fill=\"currentColor\" text-anchor=\"middle\" y=\"309.5\">\n",
              "    <tspan class=\"displacy-word\" fill=\"currentColor\" x=\"925\">most</tspan>\n",
              "    <tspan class=\"displacy-tag\" dy=\"2em\" fill=\"currentColor\" x=\"925\">ADV</tspan>\n",
              "</text>\n",
              "\n",
              "<text class=\"displacy-token\" fill=\"currentColor\" text-anchor=\"middle\" y=\"309.5\">\n",
              "    <tspan class=\"displacy-word\" fill=\"currentColor\" x=\"1100\">populous</tspan>\n",
              "    <tspan class=\"displacy-tag\" dy=\"2em\" fill=\"currentColor\" x=\"1100\">ADJ</tspan>\n",
              "</text>\n",
              "\n",
              "<text class=\"displacy-token\" fill=\"currentColor\" text-anchor=\"middle\" y=\"309.5\">\n",
              "    <tspan class=\"displacy-word\" fill=\"currentColor\" x=\"1275\">city</tspan>\n",
              "    <tspan class=\"displacy-tag\" dy=\"2em\" fill=\"currentColor\" x=\"1275\">NOUN</tspan>\n",
              "</text>\n",
              "\n",
              "<text class=\"displacy-token\" fill=\"currentColor\" text-anchor=\"middle\" y=\"309.5\">\n",
              "    <tspan class=\"displacy-word\" fill=\"currentColor\" x=\"1450\">of</tspan>\n",
              "    <tspan class=\"displacy-tag\" dy=\"2em\" fill=\"currentColor\" x=\"1450\">ADP</tspan>\n",
              "</text>\n",
              "\n",
              "<text class=\"displacy-token\" fill=\"currentColor\" text-anchor=\"middle\" y=\"309.5\">\n",
              "    <tspan class=\"displacy-word\" fill=\"currentColor\" x=\"1625\">England</tspan>\n",
              "    <tspan class=\"displacy-tag\" dy=\"2em\" fill=\"currentColor\" x=\"1625\">PROPN</tspan>\n",
              "</text>\n",
              "\n",
              "<text class=\"displacy-token\" fill=\"currentColor\" text-anchor=\"middle\" y=\"309.5\">\n",
              "    <tspan class=\"displacy-word\" fill=\"currentColor\" x=\"1800\">and</tspan>\n",
              "    <tspan class=\"displacy-tag\" dy=\"2em\" fill=\"currentColor\" x=\"1800\">CCONJ</tspan>\n",
              "</text>\n",
              "\n",
              "<text class=\"displacy-token\" fill=\"currentColor\" text-anchor=\"middle\" y=\"309.5\">\n",
              "    <tspan class=\"displacy-word\" fill=\"currentColor\" x=\"1975\">the</tspan>\n",
              "    <tspan class=\"displacy-tag\" dy=\"2em\" fill=\"currentColor\" x=\"1975\">DET</tspan>\n",
              "</text>\n",
              "\n",
              "<text class=\"displacy-token\" fill=\"currentColor\" text-anchor=\"middle\" y=\"309.5\">\n",
              "    <tspan class=\"displacy-word\" fill=\"currentColor\" x=\"2150\">United</tspan>\n",
              "    <tspan class=\"displacy-tag\" dy=\"2em\" fill=\"currentColor\" x=\"2150\">PROPN</tspan>\n",
              "</text>\n",
              "\n",
              "<text class=\"displacy-token\" fill=\"currentColor\" text-anchor=\"middle\" y=\"309.5\">\n",
              "    <tspan class=\"displacy-word\" fill=\"currentColor\" x=\"2325\">Kingdom</tspan>\n",
              "    <tspan class=\"displacy-tag\" dy=\"2em\" fill=\"currentColor\" x=\"2325\">PROPN</tspan>\n",
              "</text>\n",
              "\n",
              "<g class=\"displacy-arrow\">\n",
              "    <path class=\"displacy-arc\" id=\"arrow-9c772befa5964e09a87d6a9877638fa5-0-0\" stroke-width=\"2px\" d=\"M70,264.5 C70,177.0 215.0,177.0 215.0,264.5\" fill=\"none\" stroke=\"currentColor\"/>\n",
              "    <text dy=\"1.25em\" style=\"font-size: 0.8em; letter-spacing: 1px\">\n",
              "        <textPath xlink:href=\"#arrow-9c772befa5964e09a87d6a9877638fa5-0-0\" class=\"displacy-label\" startOffset=\"50%\" side=\"left\" fill=\"currentColor\" text-anchor=\"middle\">nsubj</textPath>\n",
              "    </text>\n",
              "    <path class=\"displacy-arrowhead\" d=\"M70,266.5 L62,254.5 78,254.5\" fill=\"currentColor\"/>\n",
              "</g>\n",
              "\n",
              "<g class=\"displacy-arrow\">\n",
              "    <path class=\"displacy-arc\" id=\"arrow-9c772befa5964e09a87d6a9877638fa5-0-1\" stroke-width=\"2px\" d=\"M420,264.5 C420,177.0 565.0,177.0 565.0,264.5\" fill=\"none\" stroke=\"currentColor\"/>\n",
              "    <text dy=\"1.25em\" style=\"font-size: 0.8em; letter-spacing: 1px\">\n",
              "        <textPath xlink:href=\"#arrow-9c772befa5964e09a87d6a9877638fa5-0-1\" class=\"displacy-label\" startOffset=\"50%\" side=\"left\" fill=\"currentColor\" text-anchor=\"middle\">det</textPath>\n",
              "    </text>\n",
              "    <path class=\"displacy-arrowhead\" d=\"M420,266.5 L412,254.5 428,254.5\" fill=\"currentColor\"/>\n",
              "</g>\n",
              "\n",
              "<g class=\"displacy-arrow\">\n",
              "    <path class=\"displacy-arc\" id=\"arrow-9c772befa5964e09a87d6a9877638fa5-0-2\" stroke-width=\"2px\" d=\"M245,264.5 C245,89.5 570.0,89.5 570.0,264.5\" fill=\"none\" stroke=\"currentColor\"/>\n",
              "    <text dy=\"1.25em\" style=\"font-size: 0.8em; letter-spacing: 1px\">\n",
              "        <textPath xlink:href=\"#arrow-9c772befa5964e09a87d6a9877638fa5-0-2\" class=\"displacy-label\" startOffset=\"50%\" side=\"left\" fill=\"currentColor\" text-anchor=\"middle\">attr</textPath>\n",
              "    </text>\n",
              "    <path class=\"displacy-arrowhead\" d=\"M570.0,266.5 L578.0,254.5 562.0,254.5\" fill=\"currentColor\"/>\n",
              "</g>\n",
              "\n",
              "<g class=\"displacy-arrow\">\n",
              "    <path class=\"displacy-arc\" id=\"arrow-9c772befa5964e09a87d6a9877638fa5-0-3\" stroke-width=\"2px\" d=\"M595,264.5 C595,177.0 740.0,177.0 740.0,264.5\" fill=\"none\" stroke=\"currentColor\"/>\n",
              "    <text dy=\"1.25em\" style=\"font-size: 0.8em; letter-spacing: 1px\">\n",
              "        <textPath xlink:href=\"#arrow-9c772befa5964e09a87d6a9877638fa5-0-3\" class=\"displacy-label\" startOffset=\"50%\" side=\"left\" fill=\"currentColor\" text-anchor=\"middle\">cc</textPath>\n",
              "    </text>\n",
              "    <path class=\"displacy-arrowhead\" d=\"M740.0,266.5 L748.0,254.5 732.0,254.5\" fill=\"currentColor\"/>\n",
              "</g>\n",
              "\n",
              "<g class=\"displacy-arrow\">\n",
              "    <path class=\"displacy-arc\" id=\"arrow-9c772befa5964e09a87d6a9877638fa5-0-4\" stroke-width=\"2px\" d=\"M945,264.5 C945,177.0 1090.0,177.0 1090.0,264.5\" fill=\"none\" stroke=\"currentColor\"/>\n",
              "    <text dy=\"1.25em\" style=\"font-size: 0.8em; letter-spacing: 1px\">\n",
              "        <textPath xlink:href=\"#arrow-9c772befa5964e09a87d6a9877638fa5-0-4\" class=\"displacy-label\" startOffset=\"50%\" side=\"left\" fill=\"currentColor\" text-anchor=\"middle\">advmod</textPath>\n",
              "    </text>\n",
              "    <path class=\"displacy-arrowhead\" d=\"M945,266.5 L937,254.5 953,254.5\" fill=\"currentColor\"/>\n",
              "</g>\n",
              "\n",
              "<g class=\"displacy-arrow\">\n",
              "    <path class=\"displacy-arc\" id=\"arrow-9c772befa5964e09a87d6a9877638fa5-0-5\" stroke-width=\"2px\" d=\"M1120,264.5 C1120,177.0 1265.0,177.0 1265.0,264.5\" fill=\"none\" stroke=\"currentColor\"/>\n",
              "    <text dy=\"1.25em\" style=\"font-size: 0.8em; letter-spacing: 1px\">\n",
              "        <textPath xlink:href=\"#arrow-9c772befa5964e09a87d6a9877638fa5-0-5\" class=\"displacy-label\" startOffset=\"50%\" side=\"left\" fill=\"currentColor\" text-anchor=\"middle\">amod</textPath>\n",
              "    </text>\n",
              "    <path class=\"displacy-arrowhead\" d=\"M1120,266.5 L1112,254.5 1128,254.5\" fill=\"currentColor\"/>\n",
              "</g>\n",
              "\n",
              "<g class=\"displacy-arrow\">\n",
              "    <path class=\"displacy-arc\" id=\"arrow-9c772befa5964e09a87d6a9877638fa5-0-6\" stroke-width=\"2px\" d=\"M595,264.5 C595,89.5 1270.0,89.5 1270.0,264.5\" fill=\"none\" stroke=\"currentColor\"/>\n",
              "    <text dy=\"1.25em\" style=\"font-size: 0.8em; letter-spacing: 1px\">\n",
              "        <textPath xlink:href=\"#arrow-9c772befa5964e09a87d6a9877638fa5-0-6\" class=\"displacy-label\" startOffset=\"50%\" side=\"left\" fill=\"currentColor\" text-anchor=\"middle\">conj</textPath>\n",
              "    </text>\n",
              "    <path class=\"displacy-arrowhead\" d=\"M1270.0,266.5 L1278.0,254.5 1262.0,254.5\" fill=\"currentColor\"/>\n",
              "</g>\n",
              "\n",
              "<g class=\"displacy-arrow\">\n",
              "    <path class=\"displacy-arc\" id=\"arrow-9c772befa5964e09a87d6a9877638fa5-0-7\" stroke-width=\"2px\" d=\"M1295,264.5 C1295,177.0 1440.0,177.0 1440.0,264.5\" fill=\"none\" stroke=\"currentColor\"/>\n",
              "    <text dy=\"1.25em\" style=\"font-size: 0.8em; letter-spacing: 1px\">\n",
              "        <textPath xlink:href=\"#arrow-9c772befa5964e09a87d6a9877638fa5-0-7\" class=\"displacy-label\" startOffset=\"50%\" side=\"left\" fill=\"currentColor\" text-anchor=\"middle\">prep</textPath>\n",
              "    </text>\n",
              "    <path class=\"displacy-arrowhead\" d=\"M1440.0,266.5 L1448.0,254.5 1432.0,254.5\" fill=\"currentColor\"/>\n",
              "</g>\n",
              "\n",
              "<g class=\"displacy-arrow\">\n",
              "    <path class=\"displacy-arc\" id=\"arrow-9c772befa5964e09a87d6a9877638fa5-0-8\" stroke-width=\"2px\" d=\"M1470,264.5 C1470,177.0 1615.0,177.0 1615.0,264.5\" fill=\"none\" stroke=\"currentColor\"/>\n",
              "    <text dy=\"1.25em\" style=\"font-size: 0.8em; letter-spacing: 1px\">\n",
              "        <textPath xlink:href=\"#arrow-9c772befa5964e09a87d6a9877638fa5-0-8\" class=\"displacy-label\" startOffset=\"50%\" side=\"left\" fill=\"currentColor\" text-anchor=\"middle\">pobj</textPath>\n",
              "    </text>\n",
              "    <path class=\"displacy-arrowhead\" d=\"M1615.0,266.5 L1623.0,254.5 1607.0,254.5\" fill=\"currentColor\"/>\n",
              "</g>\n",
              "\n",
              "<g class=\"displacy-arrow\">\n",
              "    <path class=\"displacy-arc\" id=\"arrow-9c772befa5964e09a87d6a9877638fa5-0-9\" stroke-width=\"2px\" d=\"M1645,264.5 C1645,177.0 1790.0,177.0 1790.0,264.5\" fill=\"none\" stroke=\"currentColor\"/>\n",
              "    <text dy=\"1.25em\" style=\"font-size: 0.8em; letter-spacing: 1px\">\n",
              "        <textPath xlink:href=\"#arrow-9c772befa5964e09a87d6a9877638fa5-0-9\" class=\"displacy-label\" startOffset=\"50%\" side=\"left\" fill=\"currentColor\" text-anchor=\"middle\">cc</textPath>\n",
              "    </text>\n",
              "    <path class=\"displacy-arrowhead\" d=\"M1790.0,266.5 L1798.0,254.5 1782.0,254.5\" fill=\"currentColor\"/>\n",
              "</g>\n",
              "\n",
              "<g class=\"displacy-arrow\">\n",
              "    <path class=\"displacy-arc\" id=\"arrow-9c772befa5964e09a87d6a9877638fa5-0-10\" stroke-width=\"2px\" d=\"M1995,264.5 C1995,89.5 2320.0,89.5 2320.0,264.5\" fill=\"none\" stroke=\"currentColor\"/>\n",
              "    <text dy=\"1.25em\" style=\"font-size: 0.8em; letter-spacing: 1px\">\n",
              "        <textPath xlink:href=\"#arrow-9c772befa5964e09a87d6a9877638fa5-0-10\" class=\"displacy-label\" startOffset=\"50%\" side=\"left\" fill=\"currentColor\" text-anchor=\"middle\">det</textPath>\n",
              "    </text>\n",
              "    <path class=\"displacy-arrowhead\" d=\"M1995,266.5 L1987,254.5 2003,254.5\" fill=\"currentColor\"/>\n",
              "</g>\n",
              "\n",
              "<g class=\"displacy-arrow\">\n",
              "    <path class=\"displacy-arc\" id=\"arrow-9c772befa5964e09a87d6a9877638fa5-0-11\" stroke-width=\"2px\" d=\"M2170,264.5 C2170,177.0 2315.0,177.0 2315.0,264.5\" fill=\"none\" stroke=\"currentColor\"/>\n",
              "    <text dy=\"1.25em\" style=\"font-size: 0.8em; letter-spacing: 1px\">\n",
              "        <textPath xlink:href=\"#arrow-9c772befa5964e09a87d6a9877638fa5-0-11\" class=\"displacy-label\" startOffset=\"50%\" side=\"left\" fill=\"currentColor\" text-anchor=\"middle\">compound</textPath>\n",
              "    </text>\n",
              "    <path class=\"displacy-arrowhead\" d=\"M2170,266.5 L2162,254.5 2178,254.5\" fill=\"currentColor\"/>\n",
              "</g>\n",
              "\n",
              "<g class=\"displacy-arrow\">\n",
              "    <path class=\"displacy-arc\" id=\"arrow-9c772befa5964e09a87d6a9877638fa5-0-12\" stroke-width=\"2px\" d=\"M595,264.5 C595,2.0 2325.0,2.0 2325.0,264.5\" fill=\"none\" stroke=\"currentColor\"/>\n",
              "    <text dy=\"1.25em\" style=\"font-size: 0.8em; letter-spacing: 1px\">\n",
              "        <textPath xlink:href=\"#arrow-9c772befa5964e09a87d6a9877638fa5-0-12\" class=\"displacy-label\" startOffset=\"50%\" side=\"left\" fill=\"currentColor\" text-anchor=\"middle\">conj</textPath>\n",
              "    </text>\n",
              "    <path class=\"displacy-arrowhead\" d=\"M2325.0,266.5 L2333.0,254.5 2317.0,254.5\" fill=\"currentColor\"/>\n",
              "</g>\n",
              "</svg></span>"
            ],
            "text/plain": [
              "<IPython.core.display.HTML object>"
            ]
          },
          "metadata": {},
          "output_type": "display_data"
        }
      ],
      "source": [
        "from spacy import displacy\n",
        "\n",
        "doc2 = nlp(\"London is the capital and most populous city of England and the United Kingdom\")\n",
        "displacy.render(doc2, jupyter=True, style=\"dep\")"
      ]
    },
    {
      "cell_type": "markdown",
      "metadata": {
        "id": "BhcKxFvisxNj"
      },
      "source": [
        "## Entities in text"
      ]
    },
    {
      "cell_type": "code",
      "execution_count": 6,
      "metadata": {
        "colab": {
          "base_uri": "https://localhost:8080/"
        },
        "id": "GoUNKXsSsxXy",
        "outputId": "522e7782-4aa7-45e1-ddcc-d1fdd9f6ff72"
      },
      "outputs": [
        {
          "name": "stdout",
          "output_type": "stream",
          "text": [
            "London GPE\n",
            "England GPE\n",
            "the United Kingdom GPE\n",
            "south east LOC\n",
            "Great Britain GPE\n",
            "London GPE\n",
            "two millennia DATE\n",
            "Romans NORP\n",
            "Londinium PERSON\n"
          ]
        }
      ],
      "source": [
        "for entity in doc.ents:\n",
        "  print(entity.text, entity.label_)"
      ]
    },
    {
      "cell_type": "code",
      "execution_count": 7,
      "metadata": {
        "colab": {
          "base_uri": "https://localhost:8080/",
          "height": 35
        },
        "id": "8o01ox8YylRj",
        "outputId": "ae38b8fb-6575-4009-96af-80fdb9ab0550"
      },
      "outputs": [
        {
          "data": {
            "text/plain": [
              "'Countries, cities, states'"
            ]
          },
          "execution_count": 7,
          "metadata": {},
          "output_type": "execute_result"
        }
      ],
      "source": [
        "# Doubts with labels\n",
        "spacy.explain('GPE')"
      ]
    },
    {
      "cell_type": "code",
      "execution_count": 8,
      "metadata": {
        "colab": {
          "base_uri": "https://localhost:8080/",
          "height": 191
        },
        "id": "UwfOcDgCtEue",
        "outputId": "eadd1e47-cebe-453a-808a-35d2904aec5b"
      },
      "outputs": [
        {
          "data": {
            "text/html": [
              "<span class=\"tex2jax_ignore\"><div class=\"entities\" style=\"line-height: 2.5; direction: ltr\"><br>\n",
              "<mark class=\"entity\" style=\"background: #feca74; padding: 0.45em 0.6em; margin: 0 0.25em; line-height: 1; border-radius: 0.35em;\">\n",
              "    London\n",
              "    <span style=\"font-size: 0.8em; font-weight: bold; line-height: 1; border-radius: 0.35em; vertical-align: middle; margin-left: 0.5rem\">GPE</span>\n",
              "</mark>\n",
              " is the capital and most populous city of \n",
              "<mark class=\"entity\" style=\"background: #feca74; padding: 0.45em 0.6em; margin: 0 0.25em; line-height: 1; border-radius: 0.35em;\">\n",
              "    England\n",
              "    <span style=\"font-size: 0.8em; font-weight: bold; line-height: 1; border-radius: 0.35em; vertical-align: middle; margin-left: 0.5rem\">GPE</span>\n",
              "</mark>\n",
              " and <br>\n",
              "<mark class=\"entity\" style=\"background: #feca74; padding: 0.45em 0.6em; margin: 0 0.25em; line-height: 1; border-radius: 0.35em;\">\n",
              "    the United Kingdom\n",
              "    <span style=\"font-size: 0.8em; font-weight: bold; line-height: 1; border-radius: 0.35em; vertical-align: middle; margin-left: 0.5rem\">GPE</span>\n",
              "</mark>\n",
              ".  Standing on the River Thames in the \n",
              "<mark class=\"entity\" style=\"background: #ff9561; padding: 0.45em 0.6em; margin: 0 0.25em; line-height: 1; border-radius: 0.35em;\">\n",
              "    south east\n",
              "    <span style=\"font-size: 0.8em; font-weight: bold; line-height: 1; border-radius: 0.35em; vertical-align: middle; margin-left: 0.5rem\">LOC</span>\n",
              "</mark>\n",
              " <br>of the island of \n",
              "<mark class=\"entity\" style=\"background: #feca74; padding: 0.45em 0.6em; margin: 0 0.25em; line-height: 1; border-radius: 0.35em;\">\n",
              "    Great Britain\n",
              "    <span style=\"font-size: 0.8em; font-weight: bold; line-height: 1; border-radius: 0.35em; vertical-align: middle; margin-left: 0.5rem\">GPE</span>\n",
              "</mark>\n",
              ", \n",
              "<mark class=\"entity\" style=\"background: #feca74; padding: 0.45em 0.6em; margin: 0 0.25em; line-height: 1; border-radius: 0.35em;\">\n",
              "    London\n",
              "    <span style=\"font-size: 0.8em; font-weight: bold; line-height: 1; border-radius: 0.35em; vertical-align: middle; margin-left: 0.5rem\">GPE</span>\n",
              "</mark>\n",
              " has been a major settlement <br>for \n",
              "<mark class=\"entity\" style=\"background: #bfe1d9; padding: 0.45em 0.6em; margin: 0 0.25em; line-height: 1; border-radius: 0.35em;\">\n",
              "    two millennia\n",
              "    <span style=\"font-size: 0.8em; font-weight: bold; line-height: 1; border-radius: 0.35em; vertical-align: middle; margin-left: 0.5rem\">DATE</span>\n",
              "</mark>\n",
              ". It was founded by the \n",
              "<mark class=\"entity\" style=\"background: #c887fb; padding: 0.45em 0.6em; margin: 0 0.25em; line-height: 1; border-radius: 0.35em;\">\n",
              "    Romans\n",
              "    <span style=\"font-size: 0.8em; font-weight: bold; line-height: 1; border-radius: 0.35em; vertical-align: middle; margin-left: 0.5rem\">NORP</span>\n",
              "</mark>\n",
              ", who named it \n",
              "<mark class=\"entity\" style=\"background: #aa9cfc; padding: 0.45em 0.6em; margin: 0 0.25em; line-height: 1; border-radius: 0.35em;\">\n",
              "    Londinium\n",
              "    <span style=\"font-size: 0.8em; font-weight: bold; line-height: 1; border-radius: 0.35em; vertical-align: middle; margin-left: 0.5rem\">PERSON</span>\n",
              "</mark>\n",
              ".<br></div></span>"
            ],
            "text/plain": [
              "<IPython.core.display.HTML object>"
            ]
          },
          "metadata": {},
          "output_type": "display_data"
        }
      ],
      "source": [
        "displacy.render(doc, style='ent', jupyter=True)"
      ]
    },
    {
      "cell_type": "markdown",
      "metadata": {
        "id": "k4J_qGHusl9H"
      },
      "source": [
        "## Replacing names\n",
        "Hide names for GDPR"
      ]
    },
    {
      "cell_type": "code",
      "execution_count": 9,
      "metadata": {
        "colab": {
          "base_uri": "https://localhost:8080/"
        },
        "id": "8zHtOLvSsmEp",
        "outputId": "99bd35f8-5eff-4622-f119-5b8bd6426e0f"
      },
      "outputs": [
        {
          "name": "stdout",
          "output_type": "stream",
          "text": [
            "\n",
            " In 1950 , GDPR published his famous article \"Computing Machinery and Intelligence \" . In 1957 , GDPR \n",
            " Syntactic Structures revolutionized Linguistics with ' universal grammar ' , a rule based system of syntactic structures . \n",
            "\n"
          ]
        }
      ],
      "source": [
        "# Replace a token with \"REDACTED\" if it is a name\n",
        "def replace_name_with_placeholder(token):\n",
        "    if token.ent_iob != 0 and token.ent_type_ == \"PERSON\":\n",
        "        return \"GDPR\"\n",
        "    else:\n",
        "        return token.text\n",
        "\n",
        "# Loop through all the entities in a document and check if they are names\n",
        "def scrub(text):\n",
        "    doc = nlp(text)\n",
        "    with doc.retokenize() as retokenizer:\n",
        "        for ent in doc.ents:\n",
        "            retokenizer.merge(ent)\n",
        "    tokens = map(replace_name_with_placeholder, doc)\n",
        "    return \" \".join(tokens)\n",
        "\n",
        "s = \"\"\"\n",
        "In 1950, Alan Turing published his famous article \"Computing Machinery and Intelligence\". In 1957, Noam Chomsky’s \n",
        "Syntactic Structures revolutionized Linguistics with 'universal grammar', a rule based system of syntactic structures.\n",
        "\"\"\"\n",
        "\n",
        "print(scrub(s))"
      ]
    },
    {
      "cell_type": "markdown",
      "metadata": {
        "id": "oGvpaIAqzwOH"
      },
      "source": [
        "## Lematize"
      ]
    },
    {
      "cell_type": "code",
      "execution_count": 10,
      "metadata": {
        "colab": {
          "base_uri": "https://localhost:8080/"
        },
        "id": "iKra7djBzwXj",
        "outputId": "a1e019b7-3aad-40d1-e5b2-a4203c49f250"
      },
      "outputs": [
        {
          "name": "stdout",
          "output_type": "stream",
          "text": [
            "\n",
            " \n",
            " SPACE\n",
            "London London PROPN\n",
            "is be AUX\n",
            "the the DET\n",
            "capital capital NOUN\n",
            "and and CCONJ\n",
            "most most ADV\n",
            "populous populous ADJ\n",
            "city city NOUN\n",
            "of of ADP\n",
            "England England PROPN\n",
            "and and CCONJ\n",
            "\n",
            " \n",
            " SPACE\n",
            "the the DET\n",
            "United United PROPN\n",
            "Kingdom Kingdom PROPN\n",
            ". . PUNCT\n",
            "    SPACE\n",
            "Standing stand VERB\n",
            "on on ADP\n",
            "the the DET\n",
            "River River PROPN\n",
            "Thames Thames PROPN\n",
            "in in ADP\n",
            "the the DET\n",
            "south south PROPN\n",
            "east east PROPN\n",
            "\n",
            " \n",
            " SPACE\n",
            "of of ADP\n",
            "the the DET\n",
            "island island NOUN\n",
            "of of ADP\n",
            "Great Great PROPN\n",
            "Britain Britain PROPN\n",
            ", , PUNCT\n",
            "London London PROPN\n",
            "has have AUX\n",
            "been be AUX\n",
            "a a DET\n",
            "major major ADJ\n",
            "settlement settlement NOUN\n",
            "\n",
            " \n",
            " SPACE\n",
            "for for ADP\n",
            "two two NUM\n",
            "millennia millennium NOUN\n",
            ". . PUNCT\n",
            "It it PRON\n",
            "was be AUX\n",
            "founded found VERB\n",
            "by by ADP\n",
            "the the DET\n",
            "Romans Romans PROPN\n",
            ", , PUNCT\n",
            "who who PRON\n",
            "named name VERB\n",
            "it it PRON\n",
            "Londinium Londinium PROPN\n",
            ". . PUNCT\n",
            "\n",
            " \n",
            " SPACE\n"
          ]
        }
      ],
      "source": [
        "for w in doc:\n",
        "  print(w.text, w.lemma_, w.pos_)"
      ]
    },
    {
      "cell_type": "markdown",
      "metadata": {
        "id": "o_e1pnbgz_0X"
      },
      "source": [
        "## Stopwords"
      ]
    },
    {
      "cell_type": "code",
      "execution_count": 11,
      "metadata": {
        "colab": {
          "base_uri": "https://localhost:8080/"
        },
        "id": "j_M6OKU3z__q",
        "outputId": "701e21b9-d50e-4903-ca0e-c73746e56180"
      },
      "outputs": [
        {
          "name": "stdout",
          "output_type": "stream",
          "text": [
            "['became', 'it', 'twenty', 'with', '’d', 'they', 'except', 'were', 'down', 'the', 'further', 'of', 'nor', 'each', 'nowhere', \"'re\", 'he', 'seeming', 'some', 'a', 'hereupon', 'off', 'should', 'elsewhere', 'even', 'whose', 'between', 'least', 'anywhere', 'much', 'make', 'after', 'that', 'their', 'seem', 'see', 'used', 'would', '’m']\n"
          ]
        }
      ],
      "source": [
        "from spacy.lang.en.stop_words import STOP_WORDS\n",
        "\n",
        "print(list(STOP_WORDS)[:39])"
      ]
    },
    {
      "cell_type": "code",
      "execution_count": 12,
      "metadata": {
        "colab": {
          "base_uri": "https://localhost:8080/"
        },
        "id": "RXNvYLeD0QJ0",
        "outputId": "48725150-7661-4395-a27c-2a4782b52da4"
      },
      "outputs": [
        {
          "name": "stdout",
          "output_type": "stream",
          "text": [
            "[\n",
            ", London, capital, populous, city, England, \n",
            ", United, Kingdom,  , Standing, River, Thames, south, east, \n",
            ", island, Great, Britain, London, major, settlement, \n",
            ", millennia, founded, Romans, named, Londinium, \n",
            "]\n"
          ]
        }
      ],
      "source": [
        "lista_clean = [palabra for palabra in doc if not palabra.is_stop and not palabra.is_punct]\n",
        "print(lista_clean)"
      ]
    },
    {
      "cell_type": "markdown",
      "metadata": {
        "id": "_3oBFA3XacUf"
      },
      "source": [
        "# Spanish\n",
        "## Spacy  and entities"
      ]
    },
    {
      "cell_type": "code",
      "execution_count": 13,
      "metadata": {
        "colab": {
          "base_uri": "https://localhost:8080/"
        },
        "id": "WyDUzV-eax_7",
        "outputId": "e4575ab9-ce92-4d3c-a20d-a4b297eab994"
      },
      "outputs": [
        {
          "name": "stdout",
          "output_type": "stream",
          "text": [
            "Londres (LOC)\n",
            "London (LOC)\n",
            "Inglaterra (LOC)\n",
            "Reino Unido.2​3​ Situada (LOC)\n",
            "Támesis (LOC)\n",
            "Londres (LOC)\n",
            "Londinium (LOC)\n",
            "El núcleo antiguo de la urbe (MISC)\n",
            "City de Londres (LOC)\n",
            "Londres (LOC)\n",
            "Londres (LOC)\n",
            "Gran Londres,6​ (LOC)\n",
            "Londres.7​\n",
            "Londres (LOC)\n",
            "Londres (LOC)\n",
            "Londres (LOC)\n",
            "Juegos Olímpicos de Verano.21​\n",
            "En esta ciudad multirracial convive gente de un gran número de culturas (MISC)\n",
            "La Autoridad del Gran Londres (MISC)\n",
            "Reino Unido.24​ El área urbana del (LOC)\n",
            "Gran Londres (LOC)\n",
            "Europa (LOC)\n",
            "Londres (LOC)\n",
            "Imperio británico (LOC)\n"
          ]
        }
      ],
      "source": [
        "nlp_es = spacy.load('es_core_news_lg')\n",
        "\n",
        "text = '''Londres (en inglés, London, pronunciado /ˈlʌndən/ ( escuchar)) es la capital y mayor ciudad de Inglaterra y del Reino Unido.2​3​ Situada a orillas del río Támesis, Londres es un importante asentamiento humano desde que fue fundada por los romanos con el nombre de Londinium hace casi dos milenios.4​ El núcleo antiguo de la urbe, la City de Londres, conserva básicamente su perímetro medieval de una milla cuadrada. Desde el siglo XIX el nombre «Londres» también hace referencia a toda la metrópolis desarrollada alrededor de este núcleo.5​ El grueso de esta conurbación forma la región de Londres y el área administrativa del Gran Londres,6​ gobernado por el alcalde y la asamblea de Londres.7​\n",
        "Londres es una ciudad global, uno de los centros neurálgicos en el ámbito de las artes, el comercio, la educación, el entretenimiento, la moda, las finanzas, los medios de comunicación, la investigación, el turismo o el transporte.8​ Es el principal centro financiero del mundo9​10​11​ y una de las áreas metropolitanas con mayor PIB.12​13​ Londres es también una capital cultural mundial,14​15​16​17​ la ciudad más visitada considerando el número de visitas internacionales18​ y tiene el mayor sistema aeroportuario del mundo según el tráfico de pasajeros.19​ Asimismo, las 43 universidades de la ciudad conforman la mayor concentración de centros de estudios superiores de toda Europa.20​ En el año 2012 Londres se convirtió en la única ciudad en albergar la celebración de tres Juegos Olímpicos de Verano.21​\n",
        "En esta ciudad multirracial convive gente de un gran número de culturas que hablan más de trescientos idiomas distintos.22​ La Autoridad del Gran Londres estima que en 2015 la ciudad tiene 8,63 millones de habitantes,23​ que supone el 12,5 % del total de habitantes del Reino Unido.24​ El área urbana del Gran Londres, con 10 470 00025​ habitantes, es la segunda más grande de Europa, pero su área metropolitana, con una población estimada de entre 12 y 14 millones,26​27​ es la mayor del continente. Desde 1831 a 1925 Londres, como capital del Imperio británico, fue la ciudad más poblada del mundo.'''\n",
        "doc = nlp_es(text)\n",
        "\n",
        "# Para ver las entidades que ha detectado\n",
        "for entity in doc.ents:\n",
        "    print(f\"{entity.text} ({entity.label_})\")\n"
      ]
    },
    {
      "cell_type": "code",
      "execution_count": 14,
      "metadata": {},
      "outputs": [
        {
          "data": {
            "text/plain": [
              "'Miscellaneous entities, e.g. events, nationalities, products or works of art'"
            ]
          },
          "execution_count": 14,
          "metadata": {},
          "output_type": "execute_result"
        }
      ],
      "source": [
        "# Doubts with labels\n",
        "spacy.explain('MISC')"
      ]
    },
    {
      "cell_type": "markdown",
      "metadata": {
        "id": "5GwuAvRS1TLb"
      },
      "source": [
        "## Most frequent words\n",
        "In a Wikipedia page"
      ]
    },
    {
      "cell_type": "code",
      "execution_count": 15,
      "metadata": {},
      "outputs": [
        {
          "name": "stdout",
          "output_type": "stream",
          "text": [
            "Defaulting to user installation because normal site-packages is not writeable\n",
            "Collecting wikipedia\n",
            "  Downloading wikipedia-1.4.0.tar.gz (27 kB)\n",
            "  Preparing metadata (setup.py): started\n",
            "  Preparing metadata (setup.py): finished with status 'done'\n",
            "Requirement already satisfied: beautifulsoup4 in c:\\users\\mikel\\appdata\\roaming\\python\\python39\\site-packages (from wikipedia) (4.12.3)\n",
            "Requirement already satisfied: requests<3.0.0,>=2.0.0 in c:\\users\\mikel\\appdata\\roaming\\python\\python39\\site-packages (from wikipedia) (2.32.3)\n",
            "Requirement already satisfied: charset-normalizer<4,>=2 in c:\\users\\mikel\\appdata\\roaming\\python\\python39\\site-packages (from requests<3.0.0,>=2.0.0->wikipedia) (3.4.0)\n",
            "Requirement already satisfied: idna<4,>=2.5 in c:\\users\\mikel\\appdata\\roaming\\python\\python39\\site-packages (from requests<3.0.0,>=2.0.0->wikipedia) (3.10)\n",
            "Requirement already satisfied: urllib3<3,>=1.21.1 in c:\\users\\mikel\\appdata\\roaming\\python\\python39\\site-packages (from requests<3.0.0,>=2.0.0->wikipedia) (2.2.3)\n",
            "Requirement already satisfied: certifi>=2017.4.17 in c:\\users\\mikel\\appdata\\roaming\\python\\python39\\site-packages (from requests<3.0.0,>=2.0.0->wikipedia) (2024.8.30)\n",
            "Requirement already satisfied: soupsieve>1.2 in c:\\users\\mikel\\appdata\\roaming\\python\\python39\\site-packages (from beautifulsoup4->wikipedia) (2.6)\n",
            "Building wheels for collected packages: wikipedia\n",
            "  Building wheel for wikipedia (setup.py): started\n",
            "  Building wheel for wikipedia (setup.py): finished with status 'done'\n",
            "  Created wheel for wikipedia: filename=wikipedia-1.4.0-py3-none-any.whl size=11709 sha256=75cb088578a4bfb33fc439a74a94ce30287653b075ad61a80851583990eb0ad6\n",
            "  Stored in directory: c:\\users\\mikel\\appdata\\local\\pip\\cache\\wheels\\c2\\46\\f4\\caa1bee71096d7b0cdca2f2a2af45cacf35c5760bee8f00948\n",
            "Successfully built wikipedia\n",
            "Installing collected packages: wikipedia\n",
            "Successfully installed wikipedia-1.4.0\n"
          ]
        }
      ],
      "source": [
        "#!pip install wikipedia"
      ]
    },
    {
      "cell_type": "code",
      "execution_count": 16,
      "metadata": {},
      "outputs": [],
      "source": [
        "from spacy.lang.es.stop_words import STOP_WORDS"
      ]
    },
    {
      "cell_type": "code",
      "execution_count": 6,
      "metadata": {
        "colab": {
          "base_uri": "https://localhost:8080/",
          "height": 174
        },
        "id": "zmuqxci01TTh",
        "outputId": "8f5d5796-9ab8-4b8b-d89c-2c6f17e89442"
      },
      "outputs": [
        {
          "data": {
            "text/plain": [
              "\"Karim Mostafa Benzema (born 19 December 1987) is a French professional footballer who plays as a striker for and captains Saudi Pro League club Al-Ittihad. Regarded as one of the best strikers of all time, he is a creative forward renowned for his goal-scoring ability, as well as his technical skills, vision, and versatility on the field. He is Real Madrid's all-time second-highest goalscorer and top assist provider. Benzema won 24 trophies with Real Madrid, including four La Liga, three Copa del Rey, and five UEFA Champions League titles.\\nBorn in Lyon to parents of Algerian descent, Benzema began his career with hometown club Olympique Lyonnais in 2005, contributing sporadically to three Ligue 1 title wins. In 2008, he was named the league's Player of the Year and in the Team of the Year having finished as the league's top goalscorer and winning his fourth league title and first Coupe de France. In 2009, Benzema was the subject of a then-French record football transfer when he joined \""
            ]
          },
          "execution_count": 6,
          "metadata": {},
          "output_type": "execute_result"
        }
      ],
      "source": [
        "import wikipedia\n",
        "wikipedia.set_lang(\"en\")\n",
        "karim = wikipedia.page(title=\"Karim Benzema\")\n",
        "text = karim.content\n",
        "text[0:1000]"
      ]
    },
    {
      "cell_type": "code",
      "execution_count": 7,
      "metadata": {
        "colab": {
          "base_uri": "https://localhost:8080/"
        },
        "id": "w8s0R3vU3NAZ",
        "outputId": "3c71df2d-5abe-488f-fb50-fbe8b242e97a"
      },
      "outputs": [
        {
          "ename": "NameError",
          "evalue": "name 'nlp' is not defined",
          "output_type": "error",
          "traceback": [
            "\u001b[1;31m---------------------------------------------------------------------------\u001b[0m",
            "\u001b[1;31mNameError\u001b[0m                                 Traceback (most recent call last)",
            "\u001b[1;32mc:\\Users\\misla\\Documents\\Bootcamp\\DS_TheBridgeBBK_SBIL2023\\3-Machine_Learning\\4-NLP\\Spacy&Textacy\\3_Textacy_y_spacy.ipynb Cell 29\u001b[0m line \u001b[0;36m1\n\u001b[1;32m----> <a href='vscode-notebook-cell:/c%3A/Users/misla/Documents/Bootcamp/DS_TheBridgeBBK_SBIL2023/3-Machine_Learning/4-NLP/Spacy%26Textacy/3_Textacy_y_spacy.ipynb#X40sZmlsZQ%3D%3D?line=0'>1</a>\u001b[0m nombres \u001b[39m=\u001b[39m [w\u001b[39m.\u001b[39mtext \u001b[39mfor\u001b[39;00m w \u001b[39min\u001b[39;00m nlp(text) \u001b[39mif\u001b[39;00m \u001b[39mnot\u001b[39;00m w\u001b[39m.\u001b[39mis_stop \u001b[39mand\u001b[39;00m \u001b[39mnot\u001b[39;00m w\u001b[39m.\u001b[39mis_punct \u001b[39mand\u001b[39;00m w\u001b[39m.\u001b[39mpos_ \u001b[39m==\u001b[39m \u001b[39m'\u001b[39m\u001b[39mADJ\u001b[39m\u001b[39m'\u001b[39m]\n\u001b[0;32m      <a href='vscode-notebook-cell:/c%3A/Users/misla/Documents/Bootcamp/DS_TheBridgeBBK_SBIL2023/3-Machine_Learning/4-NLP/Spacy%26Textacy/3_Textacy_y_spacy.ipynb#X40sZmlsZQ%3D%3D?line=1'>2</a>\u001b[0m nombres[:\u001b[39m10\u001b[39m]\n",
            "\u001b[1;31mNameError\u001b[0m: name 'nlp' is not defined"
          ]
        }
      ],
      "source": [
        "nombres = [w.text for w in nlp(text) if not w.is_stop and not w.is_punct and w.pos_ == 'ADJ']\n",
        "nombres[:10]"
      ]
    },
    {
      "cell_type": "code",
      "execution_count": 49,
      "metadata": {
        "colab": {
          "base_uri": "https://localhost:8080/"
        },
        "id": "C0D-pRly22_H",
        "outputId": "5bc9c178-6438-40ac-b2a6-ece714865a69"
      },
      "outputs": [
        {
          "data": {
            "text/plain": [
              "[('French', 38),\n",
              " ('final', 32),\n",
              " ('national', 17),\n",
              " ('new', 17),\n",
              " ('consecutive', 12),\n",
              " ('international', 11),\n",
              " ('senior', 10),\n",
              " ('friendly', 10),\n",
              " ('highest', 9)]"
            ]
          },
          "execution_count": 49,
          "metadata": {},
          "output_type": "execute_result"
        }
      ],
      "source": [
        "from collections import Counter\n",
        "word_freq = Counter(nombres)\n",
        "\n",
        "word_freq.most_common(10)[1:]"
      ]
    },
    {
      "cell_type": "markdown",
      "metadata": {
        "id": "xWDuikM7VJtc"
      },
      "source": [
        "## Textacy London text\n",
        "No we want to know things about London, from our previous text"
      ]
    },
    {
      "cell_type": "code",
      "execution_count": 52,
      "metadata": {
        "colab": {
          "base_uri": "https://localhost:8080/"
        },
        "id": "qOiN7HAmvNV2",
        "outputId": "cc8d904b-3cc0-4588-f6d5-95ce6ad6fe7a"
      },
      "outputs": [
        {
          "name": "stdout",
          "output_type": "stream",
          "text": [
            "Here are the things I know about London:\n",
            " - [my, best, friend]\n"
          ]
        }
      ],
      "source": [
        "import spacy\n",
        "import textacy.extract\n",
        "\n",
        "#### CODE ####\n",
        "\n",
        "# The text we want to examine\n",
        "text = \"\"\"London is the capital and most populous city of England and the United Kingdom. Standing on the River Thames in the south east of the island of Great Britain, London has been a major settlement for two millennia. London was founded by the Romans, \n",
        "who named it Londinium. London is a huge city. London has a lot of cute restaurants. Jaimito is my best friend.\n",
        "\"\"\"\n",
        "\n",
        "doc = nlp(text)\n",
        "statements = textacy.extract.semistructured_statements(doc, entity=\"Jaimito\", cue='be')\n",
        "\n",
        "# Print the results\n",
        "print(\"Here are the things I know about London:\")\n",
        "\n",
        "for statement in statements:\n",
        "    subject, verb, fact = statement\n",
        "    print(f\" - {fact}\")\n"
      ]
    },
    {
      "cell_type": "code",
      "execution_count": null,
      "metadata": {},
      "outputs": [],
      "source": [
        "textacy.load_spacy_lang(langstr, allow_blank=True)"
      ]
    },
    {
      "cell_type": "code",
      "execution_count": 66,
      "metadata": {},
      "outputs": [
        {
          "name": "stdout",
          "output_type": "stream",
          "text": [
            "Here are the things I know about Karim:\n",
            " - [a, French, professional, footballer, who, plays, as, a, striker, for, La, Liga, club, Real, Madrid, and, the, France, national, team]\n",
            " - [the, subject, of, a, then, French, record, football, transfer]\n",
            " - [a, part, of, four, of, those, title, runs]\n",
            " - [a, talented, player, and, talented, players, in, Madrid]\n",
            " - [part, of, Real, Madrid, 's, starting, eleven, in, the, 2014, Copa, del, Rey, Final, on, 16, April, at, the, Mestalla, Stadium]\n",
            " - [the, first, Madrid, captain, to, score, a, hat, -, trick, since, Raul, in, 2008]\n",
            " - [a, former, France, youth, international]\n",
            " - [the, last, of, the, four, to, make, his, youth, international, debut, under, coach, Philippe, Bergeroo]\n",
            " - [a, regular, starter, in, the, team, at, under-18, level]\n",
            " - [one, of, three, goalscorers, in, France, 's, 3–0, away, win, over, Norway]\n",
            " - [\", quite, efficient\"]\n",
            " - [the, third, youngest, in, the, family]\n"
          ]
        }
      ],
      "source": [
        "# nlp_es = spacy.load('es_core_news_lg')\n",
        "\n",
        "doc = nlp(karim.content)\n",
        "\n",
        "statements = textacy.extract.semistructured_statements(doc, entity=\"Benzema\", cue='be')\n",
        "\n",
        "# Print the results\n",
        "print(\"Here are the things I know about Karim:\")\n",
        "\n",
        "for statement in statements:\n",
        "    subject, verb, fact = statement\n",
        "    print(f\" - {fact}\")\n"
      ]
    },
    {
      "cell_type": "markdown",
      "metadata": {
        "id": "hFwnqZzIaSNQ"
      },
      "source": [
        "## Textacy with Wikipedia API\n",
        "We don't want the most frequent words, we want sentences about London"
      ]
    },
    {
      "cell_type": "code",
      "execution_count": 67,
      "metadata": {
        "id": "za6v7SL_2Ywo"
      },
      "outputs": [],
      "source": [
        "wikipedia.set_lang(\"en\")\n",
        "london = wikipedia.page(\"London\")\n",
        "text = london.content"
      ]
    },
    {
      "cell_type": "code",
      "execution_count": 71,
      "metadata": {
        "colab": {
          "base_uri": "https://localhost:8080/"
        },
        "id": "NwOqJO902pO6",
        "outputId": "9d856c03-1993-4c18-976a-39a58d7680a3"
      },
      "outputs": [
        {
          "name": "stdout",
          "output_type": "stream",
          "text": [
            "Here are the things I know about London:\n",
            " - [the, oldest, and, third, longest, metro, system, in, the, world]\n"
          ]
        }
      ],
      "source": [
        "doc = nlp(text)\n",
        "\n",
        "# Extract semi-structured statements\n",
        "statements = textacy.extract.semistructured_statements(doc, entity=\"London Underground\", cue='be')\n",
        "\n",
        "# Print the results\n",
        "print(\"Here are the things I know about London:\")\n",
        "\n",
        "for statement in statements:\n",
        "    subject, verb, fact = statement\n",
        "    print(f\" - {fact}\")"
      ]
    }
  ],
  "metadata": {
    "colab": {
      "collapsed_sections": [],
      "name": "Textacy_y_spacy.ipynb",
      "provenance": []
    },
    "kernelspec": {
      "display_name": "Python 3",
      "language": "python",
      "name": "python3"
    },
    "language_info": {
      "codemirror_mode": {
        "name": "ipython",
        "version": 3
      },
      "file_extension": ".py",
      "mimetype": "text/x-python",
      "name": "python",
      "nbconvert_exporter": "python",
      "pygments_lexer": "ipython3",
      "version": "3.9.6"
    }
  },
  "nbformat": 4,
  "nbformat_minor": 0
}
