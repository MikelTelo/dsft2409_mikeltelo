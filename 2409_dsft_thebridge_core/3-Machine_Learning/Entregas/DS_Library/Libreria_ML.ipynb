{
 "cells": [
  {
   "attachments": {},
   "cell_type": "markdown",
   "metadata": {},
   "source": [
    "# Proyecto librería ML\n",
    "\n",
    "Para este proyecto vais a montar una librería con todo lo aprendido durante el bootcamp. Esta\n",
    "librería la subiréis al principal repositorio de paquetes de Python, Pypi, para compartir con la comunidad y pueda hacer uso de ella.\n",
    "\n",
    "\n",
    "## Objetivos:\n",
    "* Consolidar y aplicar los conocimientos adquiridos en el bootcamp de Data Science, integrando diversas técnicas y herramientas en un proyecto real.\n",
    "* Crear una librería de Machine Learning en Python que sea robusta, eficiente y accesible para la comunidad de desarrolladores, aportando valor y visibilidad a la comunidad de Data Science.\n",
    "* Desarrollar una herramienta que mejore la productividad y eficiencia en el trabajo diario, permitiendo automatizar tareas y procesos que consumen tiempo y recursos.\n",
    "* Fomentar el trabajo en equipo y la coordinación, mejorando habilidades como la comunicación, la colaboración, la gestión de proyectos y la resolución de conflictos.\n",
    "\n",
    "\n",
    "## Requisitos:\n",
    "\n",
    "* La librería de Machine Learning debe estar disponible en un repositorio de Github, con un **README** que explique su funcionalidad, instalación y uso.\n",
    "* Debe tener código en **Python** que demuestren el dominio de los conceptos.\n",
    "* Debe estar **documentada** en su código, utilizando docstrings y comentarios claros y precisos que expliquen la funcionalidad de cada función y método.\n",
    "* Debe tener **funcionalidades de data science** como procesamiento de datos, visualización o entrenamiento de modelos junto a su aplicación en problemas reales.\n",
    "* Debe tener al menos **25 funciones/métodos** en total.\n",
    "* Debe incluir la implementación de **pruebas unitarias** para la librería utilizando el framework de testing pytest, con el objetivo de validar la funcionalidad de cada función y método en distintos escenarios y casos límite.\n",
    "* La librería debe estar implementada utilizando controlador de versiones como Git y **Github**, con commits y ramas adecuadamente nombradas y organizadas para facilitar la colaboración en equipo.\n",
    "* El equipo debe utilizar una herramienta de gestión de proyectos como **Trello** para organizar y planificar el trabajo, y demostrar que ha trabajado de forma colaborativa, asignando tareas, comunicándose de forma efectiva y resolviendo conflictos de manera eficiente.\n",
    "* El entregable debe incluir una **memoria** que describa el proceso de desarrollo de la librería, destacando las principales decisiones y desafíos enfrentados, así como una evaluación de su rendimiento y funcionalidad.\n",
    "* El equipo debe realizar una **presentación y una demo** de la librería, en la que se muestre su funcionamiento y se responden a preguntas de la audiencia."
   ]
  },
  {
   "attachments": {},
   "cell_type": "markdown",
   "metadata": {},
   "source": [
    "## Roadmap recomendado\n",
    "### Día 1\n",
    "\n",
    "* Realización de un brainstorming para generar ideas y aportaciones para la librería, enfocándose en la utilidad y relevancia de cada funcionalidad propuesta.\n",
    "* Definición de equipos y asignación de roles, estableciendo las responsabilidades y tareas de cada miembro en la creación de la librería de Machine Learning.\n",
    "* Creación de la librería, asegurándose de que esté disponible en un repositorio de Github y pueda ser utilizada por otros usuarios.\n",
    "\n",
    "### Día 2\n",
    "\n",
    "* Desarrollo de la librería, asegurándose de que esté disponible en un repositorio de Github y pueda ser utilizada por otros usuarios.\n",
    "\n",
    "* Testeo de la librería en producción para detectar posibles errores o fallos de funcionamiento.\n",
    "\n",
    "* Documentación de la librería, utilizando docstrings y comentarios precisos y claros para explicar la funcionalidad de cada función y método implementado.\n",
    "\n",
    "### Día 3\n",
    "\n",
    "* Puesta en producción, cumpliendo con los requisitos y estándares de calidad de PyPI al subirla.\n",
    "\n",
    "* Preparación de la presentación del proyecto, que deberá incluir una descripción del proceso de desarrollo, una evaluación de su rendimiento y funcionalidad, y una demostración de su funcionamiento en vivo."
   ]
  },
  {
   "attachments": {},
   "cell_type": "markdown",
   "metadata": {},
   "source": [
    "## Roles\n",
    "\n",
    "Para agilizar el proceso y permitir que los alumnos se organicen de forma más eficiente, se han definido un grupo de roles en cuanto a diferentes aspectos del proyecto. Cada rol será necesario para el desarrollo de la librería, siendo roles orientativos.\n",
    "\n",
    "Es importante destacar que no se asignarán encargados específicos para cada tarea, ya que no se sabe de antemano quién puede aportar más en cada aspecto del proyecto. Los alumnos tendrán la libertad de elegir su papel en la creación de la librería.\n",
    "\n",
    "* **Scrum Manager**: Será responsable de asegurar que el equipo siga las prácticas y metodologías de Scrum para la gestión del proyecto, fomentando la comunicación, el trabajo en equipo y la entrega constante de valor. También se encargará de organizar y dirigir las reuniones diarias, de planificación y de revisión, y será el punto de contacto principal entre el equipo y el resto del equipo de Data Science en la empresa.\n",
    "\n",
    "* **Manager de desarrollo**: Responsable de liderar el desarrollo y testing de las funcionalidades de la librería, trabajando en estrecha colaboración con el resto del equipo para asegurar que los requisitos y las expectativas sean cumplidos en cada iteración. Además, será responsable de la integración de las nuevas características y la solución de cualquier problema técnico.\n",
    "\n",
    "* **Manager de Github**: Responsable la subida a Pypi y de la gestión y organización de todo el código en versiones de la librería en GitHub, asegurándose de que el trabajo del equipo se integre de manera adecuada y se actualice en tiempo real. Será responsable de la gestión de ramas, pull requests y merges, y trabajará en estrecha colaboración con el resto del equipo para asegurarse de que se sigan las buenas prácticas de control de versiones.\n",
    "\n",
    "* **Manager documentación técnica**: Responsable de la documentación técnica de la librería, asegurándose de que los usuarios puedan entender fácilmente su funcionamiento y uso. También será responsable de la presentación y demo."
   ]
  },
  {
   "attachments": {},
   "cell_type": "markdown",
   "metadata": {},
   "source": [
    "La entrega y presentación del proyecto será el **viernes 14 de junio**.\n",
    "\n",
    "Sugerencia de roles:\n",
    "\n",
    "* **Scrum Manager:** Inés Abascal\n",
    "* **Manager de desarrollo:** íñigo Auzmendi\n",
    "* **Manager de Github:** Pablo Pozo\n",
    "* **Manager de documentación técnica:** Karen Fajardo"
   ]
  }
 ],
 "metadata": {
  "kernelspec": {
   "display_name": "Python 3.7.4 64-bit",
   "language": "python",
   "name": "python3"
  },
  "language_info": {
   "codemirror_mode": {
    "name": "ipython",
    "version": 3
   },
   "file_extension": ".py",
   "mimetype": "text/x-python",
   "name": "python",
   "nbconvert_exporter": "python",
   "pygments_lexer": "ipython3",
   "version": "3.7.4"
  },
  "vscode": {
   "interpreter": {
    "hash": "90139cb9a825bf3d63f6f6704e828dbd1ff7edbd4d0c6e906a71235d6efc74af"
   }
  }
 },
 "nbformat": 4,
 "nbformat_minor": 4
}
