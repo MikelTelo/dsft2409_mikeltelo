{
 "cells": [
  {
   "attachments": {},
   "cell_type": "markdown",
   "metadata": {},
   "source": [
    "# Proyecto Machine Learning\n",
    "Para el módulo del bootcamp de Data Science tendrás que desarrollar un modelo de machine learning. Puedes buscar en nuevas fuentes de datos o incluso reutilizar los que utilizaste en tu EDA en caso de que fuera pertinente.\n",
    "\n",
    "* **Miembros**: El proyecto es individual\n",
    "* **Datos**: origen en proyecto de EDA, siempre que tenga sentido. Si no, buscar en Kaggle (u otras fuentes web), Apis o Webscrapping un tema que te interese. El volumen de los datos no debe ser inferior a **1.000 observaciones**.\n",
    "* **Fechas**: \n",
    "\n",
    "    * El **viernes 24 de mayo** se presentará a la clase el tema de tu proyecto en un minuto. Para ello deberás ya tener los datos y la variable a predecir.\n",
    "    * El **jueves 06 de junio** se realizarán las presentaciones del proyecto.\n",
    "\n",
    "## Objetivo\n",
    "El objetivo de este proyecto es crear un modelo predictivo de Machine Learning utilizando los datos conseguidos en la etapa de Data Analysis o explorando nuevos datasets.\n",
    "\n",
    "Tienes que desarrollar un workflow de Machine Learning: recogida de datos, limpieza, EDA, feature engineering, prueba de varios modelos, evaluación, interpretación de los modelos con visualizaciones, junto con su impacto en negocio.\n",
    "Habrá que aplicar conocimientos aprendidos hasta ahora de programación, limpieza de datos, visualización y modelado. Tenéis la oportunidad de demostrar vuestra evolución y el trabajo realizado en durante el espacio de tiempo que se te ofrece (no queremos proyectos de un fin de semana).\n",
    "\n",
    "\n",
    "## Evaluación\n",
    "- **Presentación (40%)** entre 10 y 15 minutos. Es importante ajustarse al tiempo donde expondrás tu proyecto.\n",
    "- **Código (60%)** No solo será evaluado el archivo memoria.ipynb (10%), este gran esfuerzo tiene que ser compartido y tendrás que crear un repositorio con la estructura del enunciado en GitHub y sea funcional (40%) para añadirlo a tu portfolio con un Readme a la altura (10%). En caso de que el proyecto se componga de datos sensibles o no se quiera publicar, se puede mantener en repositorio privado (consultar profesores).\n",
    "\n",
    "\n",
    "El codigo deberá seguir la siguiente estructura de carpetas:\n",
    "1. src/: aquí irá todo el código\n",
    "2. src/utils/: todos los modulos y funciones auxiliares creados para el desarrollo del proyecto.\n",
    "4. src/data/: datasets de train.csv y test.csv que van a ser utilizados en el entrenamiento del modelo.\n",
    "5. src/notebooks/: notebooks de limpieza, procesado, EDA e iteraciones de modelos de Machine Learning.\n",
    "6. src/memoria.ipynb: notebook limpio donde resumas los pasos que has seguido y sirva como memoria del proyecto.\n",
    "7. src/model: guarda aquí todos tus modelos ya entrenados y listos para llevar a producción. El modelo elegido estará dentro de la carpeta de production/.\n",
    "8. Si utilizáis tableau u otra herramienta, añade una carpeta \"resources/\" y dentro otra llamada /img con las imágenes necesarias, u otra carpeta llamada \"tableau/\" (o nombre de herramienta) con el archivo o archivos necesarios para que podamos ejecutarlo."
   ]
  },
  {
   "attachments": {},
   "cell_type": "markdown",
   "metadata": {},
   "source": [
    "## Presentación\n",
    "Se complica la presentación con respecto a la de EDA ya que hay que contar algo mucho más técnico. Empieza como en el EDA, exponiendo el caso, y desarrolla la solución de ML para tus datos para un público que no tenga por qué tener conocimientos previos. Recuerda utiizar un storytelling para responder en tu presentación a algunas preguntas clave:\n",
    "- ¿Qué problema o necesidad vamos a resolver? ¿Podemos solucionarlo con ML?\n",
    "- ¿Qué solución aporta tu modelo de ML?\n",
    "- ¿Qué modelos has probado? \n",
    "- ¿Qué variables tienen de mayor impacto? \n",
    "- ¿Qué resultados y conclusiones has obtenido? \n",
    "- ¿Qué decisiones o acciones te permiten llevar a cabo tu modelo? \n",
    "- ¿Qué consecuencias tiene en negocio?\n",
    "\n",
    "**¿Formatos de la presentación?** Nada de Notebooks, ni informes en pdf o HTML. Formato presentación en PowerPoint, Prezi o la plataforma que mejor conozcas, siendo perfectamente combinable con un dashboard desarrollado mediante alguna de las herramientas aprendidas durante el curso (Tableau, Streamlit, Plotly...).\n",
    "\n",
    "**Consejos**: Si usas un PowerPoint... será tu apoyo a la hora de presentar, aquí el protagonista es tu discurso. Por favor, que la presentación no sea un conjunto de puntos inconexos, intenta llevar un hilo, como si de una historia se tratase. Véndete, destaca las fortalezas de tu trabajo sobre las debilidades. Interactúa con el público. Si vas a contar algo de negocio, ¿puedes traducirlo a números? ¿Qué impacto tendrá tu analítica?. Muestra algunos datos concretos (estadísticos simples) para justificar tu business case o para cerrar tu presentación. Si has elegido una temática que está acorde con tus gustos/background, aprovecha al principio para contarlo y empatizar mucho más con el público. Si vas a hacer una demo, grábala por si te falla algo en la presentación (conexión a Internet). Prepárate las respuestas a algunas posibles preguntas en un anexo de la presentación. Existen muchas plantillas gratuitas en la web para hacer presentaciones. \n",
    "\n",
    "## Pasos del proyecto\n",
    "1. ¿Podemos dar solución a un problema con datos? Elige un tema.\n",
    "1. Busca y consigue los datos. Vuelta al anterior punto si nos quedamos sin ideas.\n",
    "1. Define tu problema de Machine Learning: clasificación/regresión, supervisado/ no supervisado, series temporales, imágenes, texto...\n",
    "1. Exploratorio: obtén todos los estadísticos y gráficos que necesites para entender bien tu dataset.\n",
    "1. Limpia los datos: duplicados, missings, outliers, columnas inútiles...\n",
    "1. Feature engineering: transformación y creación de nuevas variables.\n",
    "1. Prueba varios modelos\n",
    "1. Analiza los resultados mediante una métrica adecuada a tu problemática.\n",
    "1. Interpreta los resultados y comprende los outputs del modelo.\n",
    "1. Siguientes pasos. ¿Se podría seguir enriqueciendo el modelo con otras pruebas o con otros datos?"
   ]
  },
  {
   "attachments": {},
   "cell_type": "markdown",
   "metadata": {},
   "source": [
    "## Estructura principal de la memoria:\n",
    "\n",
    "No tiene que seguir al pie de la letra esta estructura, cada uno lo podrá enfocar de forma diferente, pero mínimo tendrá que aparecer la respuesta a estos puntos. Se puede utilizar como punto de partida de cara a la presentación.\n",
    "\n",
    "#### I. Introducción\n",
    "\n",
    "* Contexto del problema a resolver y justificación de la necesidad\n",
    "* Objetivos y alcance del proyecto\n",
    "\n",
    "#### II. Dataset\n",
    "\n",
    "* Descripción del dataset utilizado (origen, tamaño, variables, etc.)\n",
    "* Análisis exploratorio de los datos (EDA)\n",
    "\n",
    "#### III. Preprocesamiento de los datos\n",
    "\n",
    "* Verificación de la calidad de los datos\n",
    "* Decisiones, imputaciones y transformación de variables\n",
    "\n",
    "#### IV. Modelado\n",
    "\n",
    "* Entrenamiento de modelos supervisados/no supervisados\n",
    "* Evaluación de los diferentes modelos e iteraciones.\n",
    "* Selección e interpretación del modelo final.\n",
    "\n",
    "#### V. Predicción y resultados finales\n",
    "\n",
    "* Descripción de la solución final y su impacto en el negocio\n",
    "* Visualización de los resultados finales y predicciones\n",
    "\n",
    "#### VI. Conclusiones y futuros pasos\n",
    "\n",
    "* Análisis de los resultados y fortalezas/debilidades del proyecto\n",
    "* Propuesta de futuras mejoras y optimizaciones\n",
    "\n",
    "La memoria deberá estar escrita de manera clara y concisa, con visualizaciones y gráficos adecuados para apoyar la comprensión de los resultados. Se espera que el alumno demuestre un conocimiento profundo de las técnicas y herramientas utilizadas en el proyecto, así como también la capacidad de pensar críticamente sobre los resultados y su aplicación en el negocio."
   ]
  },
  {
   "attachments": {},
   "cell_type": "markdown",
   "metadata": {},
   "source": [
    "# Suerte!"
   ]
  }
 ],
 "metadata": {
  "kernelspec": {
   "display_name": "Python 3.7.4 64-bit",
   "language": "python",
   "name": "python3"
  },
  "language_info": {
   "codemirror_mode": {
    "name": "ipython",
    "version": 3
   },
   "file_extension": ".py",
   "mimetype": "text/x-python",
   "name": "python",
   "nbconvert_exporter": "python",
   "pygments_lexer": "ipython3",
   "version": "3.10.2"
  },
  "vscode": {
   "interpreter": {
    "hash": "90139cb9a825bf3d63f6f6704e828dbd1ff7edbd4d0c6e906a71235d6efc74af"
   }
  }
 },
 "nbformat": 4,
 "nbformat_minor": 4
}
