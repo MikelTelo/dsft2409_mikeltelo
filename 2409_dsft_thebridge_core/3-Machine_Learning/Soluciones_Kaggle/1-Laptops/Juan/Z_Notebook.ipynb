{
 "cells": [
  {
   "cell_type": "markdown",
   "metadata": {},
   "source": [
    "# Predictor de precios de laptops"
   ]
  },
  {
   "cell_type": "markdown",
   "metadata": {},
   "source": [
    "Modelo de Machine Learning supervisado desarrollado para la competición pública [El Precio de las Laptops](https://www.kaggle.com/competitions/precio-de-las-laptop/overview) en la plataforma [Kaggle](https://www.kaggle.com) durante el Bootcamp de Data Science de The Bridge | Digital Talent Accelerator. Esta competición se tomó como referencia la métrica MAE (mean absolute error/error promedio en valor absoluto), gana el modelo que tenga menor margen respecto de esta, el scoring final en la clasificación fue de 178.71618 con un modelo RandomForestRegresor, el de menos error de todos los alumnos de la clase, segundo lugar de la competición ya que participó gente externa a la escuela. \n",
    "\n",
    "¡Vamos a verlo!\n"
   ]
  },
  {
   "cell_type": "markdown",
   "metadata": {},
   "source": [
    "# Imports"
   ]
  },
  {
   "cell_type": "code",
   "execution_count": 5,
   "metadata": {},
   "outputs": [],
   "source": [
    "import numpy as np, pandas as pd, matplotlib.pyplot as plt, seaborn as sns, warnings\n",
    "from sklearn.ensemble import RandomForestRegressor, AdaBoostRegressor, BaggingRegressor\n",
    "from sklearn.metrics import mean_absolute_error, mean_squared_error\n",
    "from sklearn.model_selection import train_test_split\n",
    "from sklearn.tree import DecisionTreeRegressor\n",
    "from xgboost import XGBRegressor\n",
    "from models import *\n",
    "\n",
    "warnings.filterwarnings(\"ignore\", category=DeprecationWarning)"
   ]
  },
  {
   "cell_type": "markdown",
   "metadata": {},
   "source": [
    "# Data"
   ]
  },
  {
   "cell_type": "code",
   "execution_count": 2,
   "metadata": {},
   "outputs": [
    {
     "data": {
      "text/html": [
       "<div>\n",
       "<style scoped>\n",
       "    .dataframe tbody tr th:only-of-type {\n",
       "        vertical-align: middle;\n",
       "    }\n",
       "\n",
       "    .dataframe tbody tr th {\n",
       "        vertical-align: top;\n",
       "    }\n",
       "\n",
       "    .dataframe thead th {\n",
       "        text-align: right;\n",
       "    }\n",
       "</style>\n",
       "<table border=\"1\" class=\"dataframe\">\n",
       "  <thead>\n",
       "    <tr style=\"text-align: right;\">\n",
       "      <th></th>\n",
       "      <th>Company</th>\n",
       "      <th>Product</th>\n",
       "      <th>TypeName</th>\n",
       "      <th>Inches</th>\n",
       "      <th>ScreenResolution</th>\n",
       "      <th>Cpu</th>\n",
       "      <th>Ram</th>\n",
       "      <th>Memory</th>\n",
       "      <th>Gpu</th>\n",
       "      <th>OpSys</th>\n",
       "      <th>Weight</th>\n",
       "      <th>Price_euros</th>\n",
       "    </tr>\n",
       "    <tr>\n",
       "      <th>id</th>\n",
       "      <th></th>\n",
       "      <th></th>\n",
       "      <th></th>\n",
       "      <th></th>\n",
       "      <th></th>\n",
       "      <th></th>\n",
       "      <th></th>\n",
       "      <th></th>\n",
       "      <th></th>\n",
       "      <th></th>\n",
       "      <th></th>\n",
       "      <th></th>\n",
       "    </tr>\n",
       "  </thead>\n",
       "  <tbody>\n",
       "    <tr>\n",
       "      <th>852</th>\n",
       "      <td>Dell</td>\n",
       "      <td>Inspiron 5767</td>\n",
       "      <td>Notebook</td>\n",
       "      <td>17.3</td>\n",
       "      <td>Full HD 1920x1080</td>\n",
       "      <td>Intel Core i7 7500U 2.7GHz</td>\n",
       "      <td>8GB</td>\n",
       "      <td>1TB HDD</td>\n",
       "      <td>AMD Radeon R7 M445</td>\n",
       "      <td>Linux</td>\n",
       "      <td>2.83kg</td>\n",
       "      <td>865.0</td>\n",
       "    </tr>\n",
       "    <tr>\n",
       "      <th>414</th>\n",
       "      <td>Asus</td>\n",
       "      <td>ZenBook Flip</td>\n",
       "      <td>2 in 1 Convertible</td>\n",
       "      <td>13.3</td>\n",
       "      <td>IPS Panel Full HD / Touchscreen 1920x1080</td>\n",
       "      <td>Intel Core i5 7200U 2.5GHz</td>\n",
       "      <td>8GB</td>\n",
       "      <td>256GB SSD</td>\n",
       "      <td>Intel HD Graphics 620</td>\n",
       "      <td>Windows 10</td>\n",
       "      <td>1.27kg</td>\n",
       "      <td>928.0</td>\n",
       "    </tr>\n",
       "    <tr>\n",
       "      <th>283</th>\n",
       "      <td>Lenovo</td>\n",
       "      <td>Ideapad 320-15IKBN</td>\n",
       "      <td>Notebook</td>\n",
       "      <td>15.6</td>\n",
       "      <td>Full HD 1920x1080</td>\n",
       "      <td>Intel Core i5 7200U 2.5GHz</td>\n",
       "      <td>6GB</td>\n",
       "      <td>256GB SSD</td>\n",
       "      <td>Intel HD Graphics 620</td>\n",
       "      <td>Windows 10</td>\n",
       "      <td>2.2kg</td>\n",
       "      <td>579.0</td>\n",
       "    </tr>\n",
       "    <tr>\n",
       "      <th>669</th>\n",
       "      <td>Acer</td>\n",
       "      <td>Aspire 3</td>\n",
       "      <td>Notebook</td>\n",
       "      <td>15.6</td>\n",
       "      <td>1366x768</td>\n",
       "      <td>Intel Core i3 6006U 2GHz</td>\n",
       "      <td>4GB</td>\n",
       "      <td>128GB SSD</td>\n",
       "      <td>Intel HD Graphics 520</td>\n",
       "      <td>Linux</td>\n",
       "      <td>2.1kg</td>\n",
       "      <td>412.0</td>\n",
       "    </tr>\n",
       "    <tr>\n",
       "      <th>1287</th>\n",
       "      <td>HP</td>\n",
       "      <td>15-AC110nv (i7-6500U/6GB/1TB/Radeon</td>\n",
       "      <td>Notebook</td>\n",
       "      <td>15.6</td>\n",
       "      <td>1366x768</td>\n",
       "      <td>Intel Core i7 6500U 2.5GHz</td>\n",
       "      <td>6GB</td>\n",
       "      <td>1TB HDD</td>\n",
       "      <td>AMD Radeon R5 M330</td>\n",
       "      <td>Windows 10</td>\n",
       "      <td>2.19kg</td>\n",
       "      <td>764.0</td>\n",
       "    </tr>\n",
       "  </tbody>\n",
       "</table>\n",
       "</div>"
      ],
      "text/plain": [
       "     Company                              Product            TypeName  Inches  \\\n",
       "id                                                                              \n",
       "852     Dell                        Inspiron 5767            Notebook    17.3   \n",
       "414     Asus                         ZenBook Flip  2 in 1 Convertible    13.3   \n",
       "283   Lenovo                   Ideapad 320-15IKBN            Notebook    15.6   \n",
       "669     Acer                             Aspire 3            Notebook    15.6   \n",
       "1287      HP  15-AC110nv (i7-6500U/6GB/1TB/Radeon            Notebook    15.6   \n",
       "\n",
       "                               ScreenResolution                         Cpu  \\\n",
       "id                                                                            \n",
       "852                           Full HD 1920x1080  Intel Core i7 7500U 2.7GHz   \n",
       "414   IPS Panel Full HD / Touchscreen 1920x1080  Intel Core i5 7200U 2.5GHz   \n",
       "283                           Full HD 1920x1080  Intel Core i5 7200U 2.5GHz   \n",
       "669                                    1366x768    Intel Core i3 6006U 2GHz   \n",
       "1287                                   1366x768  Intel Core i7 6500U 2.5GHz   \n",
       "\n",
       "      Ram     Memory                    Gpu       OpSys  Weight  Price_euros  \n",
       "id                                                                            \n",
       "852   8GB    1TB HDD     AMD Radeon R7 M445       Linux  2.83kg        865.0  \n",
       "414   8GB  256GB SSD  Intel HD Graphics 620  Windows 10  1.27kg        928.0  \n",
       "283   6GB  256GB SSD  Intel HD Graphics 620  Windows 10   2.2kg        579.0  \n",
       "669   4GB  128GB SSD  Intel HD Graphics 520       Linux   2.1kg        412.0  \n",
       "1287  6GB    1TB HDD     AMD Radeon R5 M330  Windows 10  2.19kg        764.0  "
      ]
     },
     "execution_count": 2,
     "metadata": {},
     "output_type": "execute_result"
    }
   ],
   "source": [
    "# Leemos el dataset de entrenamiento y vemos una porción para tener una idea de la forma de los datos\n",
    "train = pd.read_csv(\"Dataset/data/train.csv\", index_col=0)\n",
    "train.head()"
   ]
  },
  {
   "cell_type": "markdown",
   "metadata": {},
   "source": [
    "# EDA"
   ]
  },
  {
   "cell_type": "code",
   "execution_count": 3,
   "metadata": {},
   "outputs": [
    {
     "name": "stdout",
     "output_type": "stream",
     "text": [
      "<class 'pandas.core.frame.DataFrame'>\n",
      "Int64Index: 912 entries, 852 to 373\n",
      "Data columns (total 12 columns):\n",
      " #   Column            Non-Null Count  Dtype  \n",
      "---  ------            --------------  -----  \n",
      " 0   Company           912 non-null    object \n",
      " 1   Product           912 non-null    object \n",
      " 2   TypeName          912 non-null    object \n",
      " 3   Inches            912 non-null    float64\n",
      " 4   ScreenResolution  912 non-null    object \n",
      " 5   Cpu               912 non-null    object \n",
      " 6   Ram               912 non-null    object \n",
      " 7   Memory            912 non-null    object \n",
      " 8   Gpu               912 non-null    object \n",
      " 9   OpSys             912 non-null    object \n",
      " 10  Weight            912 non-null    object \n",
      " 11  Price_euros       912 non-null    float64\n",
      "dtypes: float64(2), object(10)\n",
      "memory usage: 92.6+ KB\n"
     ]
    }
   ],
   "source": [
    "train.info() # Visualizamos el DataFrame"
   ]
  },
  {
   "cell_type": "code",
   "execution_count": 4,
   "metadata": {},
   "outputs": [
    {
     "data": {
      "text/plain": [
       "Company             0\n",
       "Product             0\n",
       "TypeName            0\n",
       "Inches              0\n",
       "ScreenResolution    0\n",
       "Cpu                 0\n",
       "Ram                 0\n",
       "Memory              0\n",
       "Gpu                 0\n",
       "OpSys               0\n",
       "Weight              0\n",
       "Price_euros         0\n",
       "dtype: int64"
      ]
     },
     "execution_count": 4,
     "metadata": {},
     "output_type": "execute_result"
    }
   ],
   "source": [
    "train.isnull().sum() # Verificamos que no tenga datos nulos"
   ]
  },
  {
   "cell_type": "code",
   "execution_count": 5,
   "metadata": {},
   "outputs": [
    {
     "data": {
      "text/plain": [
       "<AxesSubplot:xlabel='TypeName', ylabel='Price_euros'>"
      ]
     },
     "execution_count": 5,
     "metadata": {},
     "output_type": "execute_result"
    },
    {
     "data": {
      "image/png": "[encoded data removed]",
      "text/plain": [
       "<Figure size 576x576 with 1 Axes>"
      ]
     },
     "metadata": {
      "needs_background": "light"
     },
     "output_type": "display_data"
    }
   ],
   "source": [
    "plt.figure(figsize=(8,8))\n",
    "sns.boxplot(train[\"TypeName\"], train[\"Price_euros\"]) # Visualizamos las medianas de los costes por tipo de ordenador"
   ]
  },
  {
   "cell_type": "code",
   "execution_count": 6,
   "metadata": {},
   "outputs": [
    {
     "data": {
      "text/plain": [
       "<AxesSubplot:xlabel='Company', ylabel='Price_euros'>"
      ]
     },
     "execution_count": 6,
     "metadata": {},
     "output_type": "execute_result"
    },
    {
     "data": {
      "image/png": "[encoded data removed]",
      "text/plain": [
       "<Figure size 1440x1440 with 1 Axes>"
      ]
     },
     "metadata": {
      "needs_background": "light"
     },
     "output_type": "display_data"
    }
   ],
   "source": [
    "plt.figure(figsize=(20,20))\n",
    "sns.boxplot(train[\"Company\"], train[\"Price_euros\"]) # Visualizamos las medianas de los costes por fabricante"
   ]
  },
  {
   "cell_type": "code",
   "execution_count": 7,
   "metadata": {},
   "outputs": [
    {
     "data": {
      "text/plain": [
       "<AxesSubplot:xlabel='OpSys', ylabel='Price_euros'>"
      ]
     },
     "execution_count": 7,
     "metadata": {},
     "output_type": "execute_result"
    },
    {
     "data": {
      "image/png": "[encoded data removed]",
      "text/plain": [
       "<Figure size 720x720 with 1 Axes>"
      ]
     },
     "metadata": {
      "needs_background": "light"
     },
     "output_type": "display_data"
    }
   ],
   "source": [
    "plt.figure(figsize=(10,10))\n",
    "sns.boxplot(train[\"OpSys\"], train[\"Price_euros\"]) # Visualizamos las medianas de los costes por sistema operativo"
   ]
  },
  {
   "cell_type": "code",
   "execution_count": 8,
   "metadata": {},
   "outputs": [
    {
     "data": {
      "text/plain": [
       "array(['Intel Core i7 7500U 2.7GHz', 'Intel Core i5 7200U 2.5GHz',\n",
       "       'Intel Core i3 6006U 2GHz', 'Intel Core i7 6500U 2.5GHz',\n",
       "       'AMD Ryzen 1700 3GHz', 'Intel Core i7 7700HQ 2.8GHz',\n",
       "       'Intel Core i7 7600U 2.8GHz', 'Intel Core i3 7100U 2.4GHz',\n",
       "       'Intel Celeron Dual Core N3350 1.1GHz',\n",
       "       'Intel Core i5 8250U 1.6GHz', 'Intel Core i7 8550U 1.8GHz',\n",
       "       'Intel Core i3 6100U 2.3GHz', 'AMD A10-Series 9600P 2.4GHz',\n",
       "       'Intel Core i7 6600U 2.6GHz', 'Intel Core i5 6300HQ 2.3GHz',\n",
       "       'Intel Core i7 7820HQ 2.9GHz', 'Intel Core i5 7300HQ 2.5GHz',\n",
       "       'Intel Core i7 6500U 2.50GHz', 'AMD FX 8800P 2.1GHz',\n",
       "       'AMD A6-Series 9220 2.5GHz', 'Intel Core i7 7Y75 1.3GHz',\n",
       "       'Intel Celeron Dual Core N3060 1.6GHz',\n",
       "       'Intel Pentium Quad Core N3710 1.6GHz',\n",
       "       'Intel Celeron Dual Core N3050 1.6GHz',\n",
       "       'Intel Core i5 6200U 2.3GHz', 'Intel Core i7 6700HQ 2.6GHz',\n",
       "       'Intel Core i7 7500U 2.5GHz', 'AMD A9-Series 9410 2.9GHz',\n",
       "       'Intel Pentium Quad Core N4200 1.1GHz', 'AMD A9-Series 9420 3GHz',\n",
       "       'Intel Core i7 6820HK 2.7GHz', 'Intel Atom x5-Z8350 1.44GHz',\n",
       "       'AMD A4-Series 7210 2.2GHz', 'Intel Core M m3-7Y30 2.2GHz',\n",
       "       'Intel Core i5 7300U 2.6GHz', 'Intel Core i5 7440HQ 2.8GHz',\n",
       "       'Intel Core M M7-6Y75 1.2GHz', 'Intel Core i5 6300U 2.4GHz',\n",
       "       'AMD A12-Series 9720P 3.6GHz', 'AMD A12-Series 9700P 2.5GHz',\n",
       "       'Intel Core i5 7200U 2.7GHz',\n",
       "       'Intel Celeron Dual Core 3855U 1.6GHz',\n",
       "       'AMD A6-Series 9220 2.9GHz', 'Intel Core i3 7130U 2.7GHz',\n",
       "       'Intel Core i5 1.8GHz', 'Intel Core i3 6006U 2.0GHz',\n",
       "       'AMD E-Series 9000 2.2GHz', 'Intel Core i5 7Y54 1.2GHz',\n",
       "       'Intel Core M 6Y54 1.1GHz', 'AMD A6-Series A6-9220 2.5GHz',\n",
       "       'Intel Core M 6Y30 0.9GHz', 'Intel Pentium Dual Core N4200 1.1GHz',\n",
       "       'Intel Core i7 6820HQ 2.7GHz', 'Intel Core i5 1.6GHz',\n",
       "       'Intel Core M 1.1GHz', 'Intel Xeon E3-1505M V6 3GHz',\n",
       "       'AMD A8-Series 7410 2.2GHz', 'Intel Core i5 7200U 2.70GHz',\n",
       "       'Intel Atom x5-Z8550 1.44GHz', 'Intel Core i7 7820HK 2.9GHz',\n",
       "       'Intel Xeon E3-1535M v5 2.9GHz', 'AMD A10-Series A10-9620P 2.5GHz',\n",
       "       'Intel Celeron Dual Core N3350 2GHz', 'Intel Core i7 2.8GHz',\n",
       "       'AMD A9-Series 9420 2.9GHz',\n",
       "       'Intel Celeron Dual Core N3350 2.0GHz',\n",
       "       'Intel Core i7 7560U 2.4GHz',\n",
       "       'Intel Celeron Quad Core N3160 1.6GHz',\n",
       "       'Intel Celeron Quad Core N3710 1.6GHz',\n",
       "       'Intel Atom X5-Z8350 1.44GHz', 'Intel Core M 6Y75 1.2GHz',\n",
       "       'AMD Ryzen 1600 3.2GHz', 'Intel Core i7 2.7GHz',\n",
       "       'Intel Celeron Quad Core N3450 1.1GHz', 'Intel Core i7 2.2GHz',\n",
       "       'Intel Core i5 1.3GHz', 'Intel Core i7 2.9GHz',\n",
       "       'Intel Core i5 7200U 2.50GHz', 'AMD E-Series E2-9000e 1.5GHz',\n",
       "       'Intel Core i5 7Y57 1.2GHz', 'Intel Core M 7Y30 1.0GHz',\n",
       "       'Intel Core i7 7660U 2.5GHz', 'AMD A12-Series 9720P 2.7GHz',\n",
       "       'Intel Core i5 2.9GHz', 'Intel Xeon E3-1535M v6 3.1GHz',\n",
       "       'Intel Core i5 6260U 1.8GHz', 'AMD FX 9830P 3GHz',\n",
       "       'AMD E-Series 9000e 1.5GHz', 'Intel Core i7 8650U 1.9GHz',\n",
       "       'Intel Core M 1.2GHz', 'Intel Core i5 2.3GHz',\n",
       "       'Intel Atom Z8350 1.92GHz', 'Intel Core i5 7500U 2.7GHz',\n",
       "       'Intel Core M M3-6Y30 0.9GHz',\n",
       "       'Intel Celeron Dual Core 3205U 1.5GHz',\n",
       "       'Intel Pentium Quad Core N3700 1.6GHz', 'Intel Core i5 2.0GHz',\n",
       "       'AMD E-Series 7110 1.8GHz', 'AMD A6-Series 7310 2GHz'],\n",
       "      dtype=object)"
      ]
     },
     "execution_count": 8,
     "metadata": {},
     "output_type": "execute_result"
    }
   ],
   "source": [
    "np.array(train[\"Cpu\"].unique()) # Visualizamos la forma en que vienen descritos los procesadores de los ordenadores"
   ]
  },
  {
   "cell_type": "markdown",
   "metadata": {},
   "source": [
    "# Feature Engineering"
   ]
  },
  {
   "cell_type": "markdown",
   "metadata": {},
   "source": [
    "Observamos que la mayoría de las variables del dataset son categóricas y las pocas numéricas que vienen son de tipo ```str```, por lo cual vamos a limpiar esos datos y a clasificar las variables categóricas lo mejor posible para maximizar la precisión del modelo.  \n",
    "\n",
    "Es decir, transformaremos cada tipo de variables en función de su mediana, dando un mayor valor a las categorías que tengan las medianas más altas. Para ello utilizaremos un label encoder. \n",
    "\n",
    "Como estamos trabajando con modelos de regresión, lo haremos de forma diferente para poder orientar el resultado a la realidad, es decir, ordenaremos todo por calidad, entendiendo que los productos, categorías o gamas de mayor calidad o potencia son más costosas que el resto."
   ]
  },
  {
   "cell_type": "markdown",
   "metadata": {},
   "source": [
    "Las funciones que hacen el feature engineering están declaradas en el fichero ```models.py```"
   ]
  },
  {
   "cell_type": "markdown",
   "metadata": {},
   "source": [
    "Aplicamos las funciones al dataset de train"
   ]
  },
  {
   "cell_type": "code",
   "execution_count": 9,
   "metadata": {},
   "outputs": [
    {
     "data": {
      "text/html": [
       "<div>\n",
       "<style scoped>\n",
       "    .dataframe tbody tr th:only-of-type {\n",
       "        vertical-align: middle;\n",
       "    }\n",
       "\n",
       "    .dataframe tbody tr th {\n",
       "        vertical-align: top;\n",
       "    }\n",
       "\n",
       "    .dataframe thead th {\n",
       "        text-align: right;\n",
       "    }\n",
       "</style>\n",
       "<table border=\"1\" class=\"dataframe\">\n",
       "  <thead>\n",
       "    <tr style=\"text-align: right;\">\n",
       "      <th></th>\n",
       "      <th>Company</th>\n",
       "      <th>Product</th>\n",
       "      <th>TypeName</th>\n",
       "      <th>Inches</th>\n",
       "      <th>ScreenResolution</th>\n",
       "      <th>Cpu</th>\n",
       "      <th>Ram</th>\n",
       "      <th>Memory</th>\n",
       "      <th>Gpu</th>\n",
       "      <th>OpSys</th>\n",
       "      <th>...</th>\n",
       "      <th>tipo</th>\n",
       "      <th>peso</th>\n",
       "      <th>resolucion</th>\n",
       "      <th>sistema</th>\n",
       "      <th>ram</th>\n",
       "      <th>cpu</th>\n",
       "      <th>almacenamiento</th>\n",
       "      <th>almacenamiento_tipo</th>\n",
       "      <th>company</th>\n",
       "      <th>potencia</th>\n",
       "    </tr>\n",
       "    <tr>\n",
       "      <th>id</th>\n",
       "      <th></th>\n",
       "      <th></th>\n",
       "      <th></th>\n",
       "      <th></th>\n",
       "      <th></th>\n",
       "      <th></th>\n",
       "      <th></th>\n",
       "      <th></th>\n",
       "      <th></th>\n",
       "      <th></th>\n",
       "      <th></th>\n",
       "      <th></th>\n",
       "      <th></th>\n",
       "      <th></th>\n",
       "      <th></th>\n",
       "      <th></th>\n",
       "      <th></th>\n",
       "      <th></th>\n",
       "      <th></th>\n",
       "      <th></th>\n",
       "      <th></th>\n",
       "    </tr>\n",
       "  </thead>\n",
       "  <tbody>\n",
       "    <tr>\n",
       "      <th>852</th>\n",
       "      <td>Dell</td>\n",
       "      <td>Inspiron 5767</td>\n",
       "      <td>Notebook</td>\n",
       "      <td>17.3</td>\n",
       "      <td>Full HD 1920x1080</td>\n",
       "      <td>Intel Core i7 7500U 2.7GHz</td>\n",
       "      <td>8GB</td>\n",
       "      <td>1TB HDD</td>\n",
       "      <td>AMD Radeon R7 M445</td>\n",
       "      <td>Linux</td>\n",
       "      <td>...</td>\n",
       "      <td>1</td>\n",
       "      <td>2.83</td>\n",
       "      <td>3</td>\n",
       "      <td>2</td>\n",
       "      <td>8</td>\n",
       "      <td>8</td>\n",
       "      <td>1024</td>\n",
       "      <td>1</td>\n",
       "      <td>10</td>\n",
       "      <td>2.7</td>\n",
       "    </tr>\n",
       "    <tr>\n",
       "      <th>414</th>\n",
       "      <td>Asus</td>\n",
       "      <td>ZenBook Flip</td>\n",
       "      <td>2 in 1 Convertible</td>\n",
       "      <td>13.3</td>\n",
       "      <td>IPS Panel Full HD / Touchscreen 1920x1080</td>\n",
       "      <td>Intel Core i5 7200U 2.5GHz</td>\n",
       "      <td>8GB</td>\n",
       "      <td>256GB SSD</td>\n",
       "      <td>Intel HD Graphics 620</td>\n",
       "      <td>Windows 10</td>\n",
       "      <td>...</td>\n",
       "      <td>2</td>\n",
       "      <td>1.27</td>\n",
       "      <td>3</td>\n",
       "      <td>3</td>\n",
       "      <td>8</td>\n",
       "      <td>8</td>\n",
       "      <td>256</td>\n",
       "      <td>3</td>\n",
       "      <td>11</td>\n",
       "      <td>2.5</td>\n",
       "    </tr>\n",
       "    <tr>\n",
       "      <th>283</th>\n",
       "      <td>Lenovo</td>\n",
       "      <td>Ideapad 320-15IKBN</td>\n",
       "      <td>Notebook</td>\n",
       "      <td>15.6</td>\n",
       "      <td>Full HD 1920x1080</td>\n",
       "      <td>Intel Core i5 7200U 2.5GHz</td>\n",
       "      <td>6GB</td>\n",
       "      <td>256GB SSD</td>\n",
       "      <td>Intel HD Graphics 620</td>\n",
       "      <td>Windows 10</td>\n",
       "      <td>...</td>\n",
       "      <td>1</td>\n",
       "      <td>2.20</td>\n",
       "      <td>3</td>\n",
       "      <td>3</td>\n",
       "      <td>6</td>\n",
       "      <td>8</td>\n",
       "      <td>256</td>\n",
       "      <td>3</td>\n",
       "      <td>8</td>\n",
       "      <td>2.5</td>\n",
       "    </tr>\n",
       "    <tr>\n",
       "      <th>669</th>\n",
       "      <td>Acer</td>\n",
       "      <td>Aspire 3</td>\n",
       "      <td>Notebook</td>\n",
       "      <td>15.6</td>\n",
       "      <td>1366x768</td>\n",
       "      <td>Intel Core i3 6006U 2GHz</td>\n",
       "      <td>4GB</td>\n",
       "      <td>128GB SSD</td>\n",
       "      <td>Intel HD Graphics 520</td>\n",
       "      <td>Linux</td>\n",
       "      <td>...</td>\n",
       "      <td>1</td>\n",
       "      <td>2.10</td>\n",
       "      <td>5</td>\n",
       "      <td>2</td>\n",
       "      <td>4</td>\n",
       "      <td>6</td>\n",
       "      <td>128</td>\n",
       "      <td>3</td>\n",
       "      <td>6</td>\n",
       "      <td>2.0</td>\n",
       "    </tr>\n",
       "    <tr>\n",
       "      <th>1287</th>\n",
       "      <td>HP</td>\n",
       "      <td>15-AC110nv (i7-6500U/6GB/1TB/Radeon</td>\n",
       "      <td>Notebook</td>\n",
       "      <td>15.6</td>\n",
       "      <td>1366x768</td>\n",
       "      <td>Intel Core i7 6500U 2.5GHz</td>\n",
       "      <td>6GB</td>\n",
       "      <td>1TB HDD</td>\n",
       "      <td>AMD Radeon R5 M330</td>\n",
       "      <td>Windows 10</td>\n",
       "      <td>...</td>\n",
       "      <td>1</td>\n",
       "      <td>2.19</td>\n",
       "      <td>5</td>\n",
       "      <td>3</td>\n",
       "      <td>6</td>\n",
       "      <td>7</td>\n",
       "      <td>1024</td>\n",
       "      <td>1</td>\n",
       "      <td>9</td>\n",
       "      <td>2.5</td>\n",
       "    </tr>\n",
       "  </tbody>\n",
       "</table>\n",
       "<p>5 rows × 22 columns</p>\n",
       "</div>"
      ],
      "text/plain": [
       "     Company                              Product            TypeName  Inches  \\\n",
       "id                                                                              \n",
       "852     Dell                        Inspiron 5767            Notebook    17.3   \n",
       "414     Asus                         ZenBook Flip  2 in 1 Convertible    13.3   \n",
       "283   Lenovo                   Ideapad 320-15IKBN            Notebook    15.6   \n",
       "669     Acer                             Aspire 3            Notebook    15.6   \n",
       "1287      HP  15-AC110nv (i7-6500U/6GB/1TB/Radeon            Notebook    15.6   \n",
       "\n",
       "                               ScreenResolution                         Cpu  \\\n",
       "id                                                                            \n",
       "852                           Full HD 1920x1080  Intel Core i7 7500U 2.7GHz   \n",
       "414   IPS Panel Full HD / Touchscreen 1920x1080  Intel Core i5 7200U 2.5GHz   \n",
       "283                           Full HD 1920x1080  Intel Core i5 7200U 2.5GHz   \n",
       "669                                    1366x768    Intel Core i3 6006U 2GHz   \n",
       "1287                                   1366x768  Intel Core i7 6500U 2.5GHz   \n",
       "\n",
       "      Ram     Memory                    Gpu       OpSys  ... tipo  peso  \\\n",
       "id                                                       ...              \n",
       "852   8GB    1TB HDD     AMD Radeon R7 M445       Linux  ...    1  2.83   \n",
       "414   8GB  256GB SSD  Intel HD Graphics 620  Windows 10  ...    2  1.27   \n",
       "283   6GB  256GB SSD  Intel HD Graphics 620  Windows 10  ...    1  2.20   \n",
       "669   4GB  128GB SSD  Intel HD Graphics 520       Linux  ...    1  2.10   \n",
       "1287  6GB    1TB HDD     AMD Radeon R5 M330  Windows 10  ...    1  2.19   \n",
       "\n",
       "      resolucion  sistema  ram  cpu  almacenamiento  almacenamiento_tipo  \\\n",
       "id                                                                         \n",
       "852            3        2    8    8            1024                    1   \n",
       "414            3        3    8    8             256                    3   \n",
       "283            3        3    6    8             256                    3   \n",
       "669            5        2    4    6             128                    3   \n",
       "1287           5        3    6    7            1024                    1   \n",
       "\n",
       "      company  potencia  \n",
       "id                       \n",
       "852        10       2.7  \n",
       "414        11       2.5  \n",
       "283         8       2.5  \n",
       "669         6       2.0  \n",
       "1287        9       2.5  \n",
       "\n",
       "[5 rows x 22 columns]"
      ]
     },
     "execution_count": 9,
     "metadata": {},
     "output_type": "execute_result"
    }
   ],
   "source": [
    "train = pd.read_csv(\"Dataset/data/train.csv\", index_col=0)\n",
    "train[\"tipo\"] = train.apply(tipo, axis=1)\n",
    "train[\"peso\"] = train.apply(limpia_peso, axis=1)\n",
    "train[\"resolucion\"] = train.apply(resolucion, axis=1)    # Aplicamos las funciones sobre el DataFrame de entrenamiento\n",
    "train[\"sistema\"] = train.apply(sistema, axis=1)\n",
    "train[\"ram\"] = train.apply(ram, axis=1)\n",
    "train[\"cpu\"] = train.apply(cpu, axis=1)\n",
    "train[\"almacenamiento\"] = train.apply(almacenamiento, axis = 1)\n",
    "train[\"almacenamiento_tipo\"] = train.apply(almacenamiento_tipo, axis = 1)\n",
    "train[\"company\"] = train.apply(company, axis=1)\n",
    "train[\"potencia\"] = train.apply(potencia, axis=1)\n",
    "train.head()"
   ]
  },
  {
   "cell_type": "code",
   "execution_count": 10,
   "metadata": {},
   "outputs": [
    {
     "data": {
      "text/plain": [
       "<AxesSubplot:>"
      ]
     },
     "execution_count": 10,
     "metadata": {},
     "output_type": "execute_result"
    },
    {
     "data": {
      "image/png": "[encoded data removed]",
      "text/plain": [
       "<Figure size 576x576 with 2 Axes>"
      ]
     },
     "metadata": {
      "needs_background": "light"
     },
     "output_type": "display_data"
    }
   ],
   "source": [
    "plt.figure(figsize=(8, 8))\n",
    "sns.heatmap(train.corr(), annot=True)   # Miramos las correlaciones de las columnas con la variable target (Price_euros)\n",
    "                                        # Observamos que las que más correlan son la de la RAM, Tipo de almacenamiento y CPU"
   ]
  },
  {
   "cell_type": "markdown",
   "metadata": {},
   "source": [
    "# Modelado"
   ]
  },
  {
   "cell_type": "code",
   "execution_count": 11,
   "metadata": {},
   "outputs": [],
   "source": [
    "X = train.drop([\"Company\", \"Product\", \"TypeName\", \"ScreenResolution\", \n",
    "\"Cpu\",\"Ram\", \"Memory\", \"Gpu\", \"OpSys\", \"Weight\", \"Price_euros\"], axis=1)\n",
    "y = train[\"Price_euros\"]\n",
    "\n",
    "X_train, X_test, y_train, y_test = train_test_split(X, y, test_size=0.20, random_state=24) # Dividimos en train y test"
   ]
  },
  {
   "cell_type": "markdown",
   "metadata": {},
   "source": [
    "Intentamos con distintos modelos:"
   ]
  },
  {
   "cell_type": "markdown",
   "metadata": {},
   "source": [
    "XGBRegressor"
   ]
  },
  {
   "cell_type": "code",
   "execution_count": 12,
   "metadata": {},
   "outputs": [
    {
     "name": "stdout",
     "output_type": "stream",
     "text": [
      "MAE: 174.70234601463775\n",
      "MSE: 63413.87800313396\n",
      "RMSE: 251.82112302810097\n"
     ]
    }
   ],
   "source": [
    "xgb = XGBRegressor()\n",
    "xgb.fit(X_train, y_train)\n",
    "predict_xgb = xgb.predict(X_test)\n",
    "\n",
    "mae_xgb = mean_absolute_error(y_test, predict_xgb)\n",
    "mse = mean_squared_error(y_test, predict_xgb)\n",
    "rmse = np.sqrt(mean_squared_error(y_test, predict_xgb))\n",
    "\n",
    "print(\"MAE:\", mae_xgb)\n",
    "print(\"MSE:\", mse)\n",
    "print(\"RMSE:\", rmse)"
   ]
  },
  {
   "cell_type": "markdown",
   "metadata": {},
   "source": [
    "RandomForestRegressor"
   ]
  },
  {
   "cell_type": "code",
   "execution_count": 13,
   "metadata": {},
   "outputs": [
    {
     "name": "stdout",
     "output_type": "stream",
     "text": [
      "MAE: 173.60835127441914\n",
      "MSE: 54967.38153412318\n",
      "RMSE: 234.45123487438318\n"
     ]
    }
   ],
   "source": [
    "forest = RandomForestRegressor(n_estimators=600, max_depth=12, max_features=2)\n",
    "forest.fit(X_train, y_train)\n",
    "predict_forest = forest.predict(X_test)\n",
    "\n",
    "mae_forest = mean_absolute_error(y_test, predict_forest)\n",
    "mse = mean_squared_error(y_test, predict_forest)\n",
    "rmse = np.sqrt(mean_squared_error(y_test, predict_forest))\n",
    "\n",
    "print(\"MAE:\", mae_forest)\n",
    "print(\"MSE:\", mse)\n",
    "print(\"RMSE:\", rmse)"
   ]
  },
  {
   "cell_type": "markdown",
   "metadata": {},
   "source": [
    "BaggingRegressor"
   ]
  },
  {
   "cell_type": "code",
   "execution_count": 14,
   "metadata": {},
   "outputs": [
    {
     "name": "stdout",
     "output_type": "stream",
     "text": [
      "MAE: 176.95773690823177\n",
      "MSE: 60115.707983278044\n",
      "RMSE: 245.18504844969246\n"
     ]
    }
   ],
   "source": [
    "bagging = BaggingRegressor(n_estimators=1000, max_samples=500, bootstrap=True)\n",
    "bagging.fit(X_train, y_train)\n",
    "predict_bagging = bagging.predict(X_test)\n",
    "\n",
    "mae_bagging = mean_absolute_error(y_test, predict_bagging)\n",
    "mse = mean_squared_error(y_test, predict_bagging)\n",
    "rmse = np.sqrt(mean_squared_error(y_test, predict_bagging))\n",
    "\n",
    "print(\"MAE:\", mae_bagging)\n",
    "print(\"MSE:\", mse)\n",
    "print(\"RMSE:\", rmse)"
   ]
  },
  {
   "cell_type": "markdown",
   "metadata": {},
   "source": [
    "AdaBoostRegressor"
   ]
  },
  {
   "cell_type": "code",
   "execution_count": 15,
   "metadata": {},
   "outputs": [
    {
     "name": "stdout",
     "output_type": "stream",
     "text": [
      "MAE: 291.9201512565419\n",
      "MSE: 114557.29196017084\n",
      "RMSE: 338.4631323499959\n"
     ]
    }
   ],
   "source": [
    "ada = AdaBoostRegressor(n_estimators=50, learning_rate=0.3)\n",
    "ada.fit(X_train, y_train)\n",
    "predict_ada = ada.predict(X_test)\n",
    "\n",
    "mae_ada = mean_absolute_error(y_test, predict_ada)\n",
    "mse = mean_squared_error(y_test, predict_ada)\n",
    "rmse = np.sqrt(mean_squared_error(y_test, predict_ada))\n",
    "\n",
    "print(\"MAE:\", mae_ada)\n",
    "print(\"MSE:\", mse)\n",
    "print(\"RMSE:\", rmse)"
   ]
  },
  {
   "cell_type": "markdown",
   "metadata": {},
   "source": [
    "DecisionTreeRegressor"
   ]
  },
  {
   "cell_type": "code",
   "execution_count": 16,
   "metadata": {},
   "outputs": [
    {
     "name": "stdout",
     "output_type": "stream",
     "text": [
      "MAE: 238.76702838062056\n",
      "MSE: 113949.43471170185\n",
      "RMSE: 337.5639712879647\n"
     ]
    }
   ],
   "source": [
    "tree = DecisionTreeRegressor(max_depth=12, max_features=3)\n",
    "tree.fit(X_train, y_train)\n",
    "predict_tree = tree.predict(X_test)\n",
    "\n",
    "mae_tree = mean_absolute_error(y_test, predict_tree)\n",
    "mse = mean_squared_error(y_test, predict_tree)\n",
    "rmse = np.sqrt(mean_squared_error(y_test, predict_tree))\n",
    "\n",
    "print(\"MAE:\", mae_tree)\n",
    "print(\"MSE:\", mse)\n",
    "print(\"RMSE:\", rmse)"
   ]
  },
  {
   "cell_type": "markdown",
   "metadata": {},
   "source": [
    "Organizamos en un DataFrame cada modelo y su MAE ya que es la métrica a batir en la competición."
   ]
  },
  {
   "cell_type": "code",
   "execution_count": 17,
   "metadata": {},
   "outputs": [
    {
     "data": {
      "text/html": [
       "<div>\n",
       "<style scoped>\n",
       "    .dataframe tbody tr th:only-of-type {\n",
       "        vertical-align: middle;\n",
       "    }\n",
       "\n",
       "    .dataframe tbody tr th {\n",
       "        vertical-align: top;\n",
       "    }\n",
       "\n",
       "    .dataframe thead th {\n",
       "        text-align: right;\n",
       "    }\n",
       "</style>\n",
       "<table border=\"1\" class=\"dataframe\">\n",
       "  <thead>\n",
       "    <tr style=\"text-align: right;\">\n",
       "      <th></th>\n",
       "      <th>Modelo</th>\n",
       "      <th>MAE</th>\n",
       "    </tr>\n",
       "  </thead>\n",
       "  <tbody>\n",
       "    <tr>\n",
       "      <th>1</th>\n",
       "      <td>RandomForestRegressor</td>\n",
       "      <td>173.608351</td>\n",
       "    </tr>\n",
       "    <tr>\n",
       "      <th>0</th>\n",
       "      <td>XGBRegressor</td>\n",
       "      <td>174.702346</td>\n",
       "    </tr>\n",
       "    <tr>\n",
       "      <th>2</th>\n",
       "      <td>BaggingRegressor</td>\n",
       "      <td>176.957737</td>\n",
       "    </tr>\n",
       "    <tr>\n",
       "      <th>4</th>\n",
       "      <td>DecisionTreeRegressor</td>\n",
       "      <td>238.767028</td>\n",
       "    </tr>\n",
       "    <tr>\n",
       "      <th>3</th>\n",
       "      <td>AdaBoostingRegressor</td>\n",
       "      <td>291.920151</td>\n",
       "    </tr>\n",
       "  </tbody>\n",
       "</table>\n",
       "</div>"
      ],
      "text/plain": [
       "                  Modelo         MAE\n",
       "1  RandomForestRegressor  173.608351\n",
       "0           XGBRegressor  174.702346\n",
       "2       BaggingRegressor  176.957737\n",
       "4  DecisionTreeRegressor  238.767028\n",
       "3   AdaBoostingRegressor  291.920151"
      ]
     },
     "execution_count": 17,
     "metadata": {},
     "output_type": "execute_result"
    }
   ],
   "source": [
    "pd.DataFrame({\"Modelo\" : [\"XGBRegressor\", \"RandomForestRegressor\", \"BaggingRegressor\", \"AdaBoostingRegressor\", \"DecisionTreeRegressor\"],\n",
    "                \"MAE\" : [mae_xgb, mae_forest, mae_bagging, mae_ada, mae_tree]}).sort_values(by=\"MAE\")"
   ]
  },
  {
   "cell_type": "markdown",
   "metadata": {},
   "source": [
    "Vemos que de los 4 modelos aplicados el de XGBRegressor, RandomForestRegressor y BaggingRegressor dan los mejores resultados. \n",
    "Probaremos subiendo los 3 y con los datos de test aplicaremos mejor el de RandomForestRegressor para estos."
   ]
  },
  {
   "cell_type": "markdown",
   "metadata": {},
   "source": [
    "Vemos como hacer la submission:"
   ]
  },
  {
   "cell_type": "code",
   "execution_count": 18,
   "metadata": {},
   "outputs": [],
   "source": [
    "sample = pd.read_csv(\"Dataset/data/sample_submission.csv\") # Leemos el fcihero de ejemplo de como debe ser la submission"
   ]
  },
  {
   "cell_type": "markdown",
   "metadata": {},
   "source": [
    "Leemos y modificamoes el dataset de test:"
   ]
  },
  {
   "cell_type": "code",
   "execution_count": 19,
   "metadata": {},
   "outputs": [
    {
     "data": {
      "text/html": [
       "<div>\n",
       "<style scoped>\n",
       "    .dataframe tbody tr th:only-of-type {\n",
       "        vertical-align: middle;\n",
       "    }\n",
       "\n",
       "    .dataframe tbody tr th {\n",
       "        vertical-align: top;\n",
       "    }\n",
       "\n",
       "    .dataframe thead th {\n",
       "        text-align: right;\n",
       "    }\n",
       "</style>\n",
       "<table border=\"1\" class=\"dataframe\">\n",
       "  <thead>\n",
       "    <tr style=\"text-align: right;\">\n",
       "      <th></th>\n",
       "      <th>Company</th>\n",
       "      <th>Product</th>\n",
       "      <th>TypeName</th>\n",
       "      <th>Inches</th>\n",
       "      <th>ScreenResolution</th>\n",
       "      <th>Cpu</th>\n",
       "      <th>Ram</th>\n",
       "      <th>Memory</th>\n",
       "      <th>Gpu</th>\n",
       "      <th>OpSys</th>\n",
       "      <th>...</th>\n",
       "      <th>tipo</th>\n",
       "      <th>peso</th>\n",
       "      <th>resolucion</th>\n",
       "      <th>sistema</th>\n",
       "      <th>ram</th>\n",
       "      <th>cpu</th>\n",
       "      <th>almacenamiento</th>\n",
       "      <th>almacenamiento_tipo</th>\n",
       "      <th>company</th>\n",
       "      <th>potencia</th>\n",
       "    </tr>\n",
       "    <tr>\n",
       "      <th>id</th>\n",
       "      <th></th>\n",
       "      <th></th>\n",
       "      <th></th>\n",
       "      <th></th>\n",
       "      <th></th>\n",
       "      <th></th>\n",
       "      <th></th>\n",
       "      <th></th>\n",
       "      <th></th>\n",
       "      <th></th>\n",
       "      <th></th>\n",
       "      <th></th>\n",
       "      <th></th>\n",
       "      <th></th>\n",
       "      <th></th>\n",
       "      <th></th>\n",
       "      <th></th>\n",
       "      <th></th>\n",
       "      <th></th>\n",
       "      <th></th>\n",
       "      <th></th>\n",
       "    </tr>\n",
       "  </thead>\n",
       "  <tbody>\n",
       "    <tr>\n",
       "      <th>1184</th>\n",
       "      <td>HP</td>\n",
       "      <td>Pavilion 15-BC000nv</td>\n",
       "      <td>Notebook</td>\n",
       "      <td>15.6</td>\n",
       "      <td>IPS Panel Full HD 1920x1080</td>\n",
       "      <td>Intel Core i7 6700HQ 2.6GHz</td>\n",
       "      <td>6GB</td>\n",
       "      <td>1TB HDD</td>\n",
       "      <td>Nvidia GeForce GTX 960M</td>\n",
       "      <td>Windows 10</td>\n",
       "      <td>...</td>\n",
       "      <td>1</td>\n",
       "      <td>2.18</td>\n",
       "      <td>3</td>\n",
       "      <td>3</td>\n",
       "      <td>6</td>\n",
       "      <td>7</td>\n",
       "      <td>1024</td>\n",
       "      <td>1</td>\n",
       "      <td>9</td>\n",
       "      <td>2.6</td>\n",
       "    </tr>\n",
       "    <tr>\n",
       "      <th>815</th>\n",
       "      <td>Lenovo</td>\n",
       "      <td>Thinkpad T470s</td>\n",
       "      <td>Ultrabook</td>\n",
       "      <td>14.0</td>\n",
       "      <td>Full HD 1920x1080</td>\n",
       "      <td>Intel Core i7 7500U 2.7GHz</td>\n",
       "      <td>8GB</td>\n",
       "      <td>256GB SSD</td>\n",
       "      <td>Intel HD Graphics 620</td>\n",
       "      <td>Windows 10</td>\n",
       "      <td>...</td>\n",
       "      <td>3</td>\n",
       "      <td>1.32</td>\n",
       "      <td>3</td>\n",
       "      <td>3</td>\n",
       "      <td>8</td>\n",
       "      <td>8</td>\n",
       "      <td>256</td>\n",
       "      <td>3</td>\n",
       "      <td>8</td>\n",
       "      <td>2.7</td>\n",
       "    </tr>\n",
       "    <tr>\n",
       "      <th>1244</th>\n",
       "      <td>HP</td>\n",
       "      <td>EliteBook 840</td>\n",
       "      <td>Notebook</td>\n",
       "      <td>14.0</td>\n",
       "      <td>Full HD 1920x1080</td>\n",
       "      <td>Intel Core i5 6200U 2.3GHz</td>\n",
       "      <td>4GB</td>\n",
       "      <td>256GB SSD</td>\n",
       "      <td>Intel HD Graphics 520</td>\n",
       "      <td>Windows 7</td>\n",
       "      <td>...</td>\n",
       "      <td>1</td>\n",
       "      <td>1.54</td>\n",
       "      <td>3</td>\n",
       "      <td>6</td>\n",
       "      <td>4</td>\n",
       "      <td>7</td>\n",
       "      <td>256</td>\n",
       "      <td>3</td>\n",
       "      <td>9</td>\n",
       "      <td>2.3</td>\n",
       "    </tr>\n",
       "    <tr>\n",
       "      <th>1121</th>\n",
       "      <td>HP</td>\n",
       "      <td>Spectre Pro</td>\n",
       "      <td>Notebook</td>\n",
       "      <td>13.3</td>\n",
       "      <td>Full HD 1920x1080</td>\n",
       "      <td>Intel Core i5 6200U 2.3GHz</td>\n",
       "      <td>8GB</td>\n",
       "      <td>256GB SSD</td>\n",
       "      <td>Intel HD Graphics 520</td>\n",
       "      <td>Windows 10</td>\n",
       "      <td>...</td>\n",
       "      <td>1</td>\n",
       "      <td>1.16</td>\n",
       "      <td>3</td>\n",
       "      <td>3</td>\n",
       "      <td>8</td>\n",
       "      <td>7</td>\n",
       "      <td>256</td>\n",
       "      <td>3</td>\n",
       "      <td>9</td>\n",
       "      <td>2.3</td>\n",
       "    </tr>\n",
       "    <tr>\n",
       "      <th>443</th>\n",
       "      <td>Lenovo</td>\n",
       "      <td>IdeaPad 320-15IAP</td>\n",
       "      <td>Notebook</td>\n",
       "      <td>15.6</td>\n",
       "      <td>Full HD 1920x1080</td>\n",
       "      <td>Intel Pentium Quad Core N4200 1.1GHz</td>\n",
       "      <td>4GB</td>\n",
       "      <td>128GB SSD</td>\n",
       "      <td>Intel HD Graphics 505</td>\n",
       "      <td>Windows 10</td>\n",
       "      <td>...</td>\n",
       "      <td>1</td>\n",
       "      <td>2.20</td>\n",
       "      <td>3</td>\n",
       "      <td>3</td>\n",
       "      <td>4</td>\n",
       "      <td>3</td>\n",
       "      <td>128</td>\n",
       "      <td>3</td>\n",
       "      <td>8</td>\n",
       "      <td>1.1</td>\n",
       "    </tr>\n",
       "  </tbody>\n",
       "</table>\n",
       "<p>5 rows × 21 columns</p>\n",
       "</div>"
      ],
      "text/plain": [
       "     Company              Product   TypeName  Inches  \\\n",
       "id                                                     \n",
       "1184      HP  Pavilion 15-BC000nv   Notebook    15.6   \n",
       "815   Lenovo       Thinkpad T470s  Ultrabook    14.0   \n",
       "1244      HP        EliteBook 840   Notebook    14.0   \n",
       "1121      HP          Spectre Pro   Notebook    13.3   \n",
       "443   Lenovo    IdeaPad 320-15IAP   Notebook    15.6   \n",
       "\n",
       "                 ScreenResolution                                   Cpu  Ram  \\\n",
       "id                                                                             \n",
       "1184  IPS Panel Full HD 1920x1080           Intel Core i7 6700HQ 2.6GHz  6GB   \n",
       "815             Full HD 1920x1080            Intel Core i7 7500U 2.7GHz  8GB   \n",
       "1244            Full HD 1920x1080            Intel Core i5 6200U 2.3GHz  4GB   \n",
       "1121            Full HD 1920x1080            Intel Core i5 6200U 2.3GHz  8GB   \n",
       "443             Full HD 1920x1080  Intel Pentium Quad Core N4200 1.1GHz  4GB   \n",
       "\n",
       "         Memory                      Gpu       OpSys  ... tipo  peso  \\\n",
       "id                                                    ...              \n",
       "1184    1TB HDD  Nvidia GeForce GTX 960M  Windows 10  ...    1  2.18   \n",
       "815   256GB SSD    Intel HD Graphics 620  Windows 10  ...    3  1.32   \n",
       "1244  256GB SSD    Intel HD Graphics 520   Windows 7  ...    1  1.54   \n",
       "1121  256GB SSD    Intel HD Graphics 520  Windows 10  ...    1  1.16   \n",
       "443   128GB SSD    Intel HD Graphics 505  Windows 10  ...    1  2.20   \n",
       "\n",
       "      resolucion  sistema  ram  cpu  almacenamiento  almacenamiento_tipo  \\\n",
       "id                                                                         \n",
       "1184           3        3    6    7            1024                    1   \n",
       "815            3        3    8    8             256                    3   \n",
       "1244           3        6    4    7             256                    3   \n",
       "1121           3        3    8    7             256                    3   \n",
       "443            3        3    4    3             128                    3   \n",
       "\n",
       "      company  potencia  \n",
       "id                       \n",
       "1184        9       2.6  \n",
       "815         8       2.7  \n",
       "1244        9       2.3  \n",
       "1121        9       2.3  \n",
       "443         8       1.1  \n",
       "\n",
       "[5 rows x 21 columns]"
      ]
     },
     "execution_count": 19,
     "metadata": {},
     "output_type": "execute_result"
    }
   ],
   "source": [
    "test = pd.read_csv(\"Dataset/data/test.csv\", index_col=0)\n",
    "test[\"tipo\"] = test.apply(tipo, axis=1)\n",
    "test[\"peso\"] = test.apply(limpia_peso, axis=1)\n",
    "test[\"resolucion\"] = test.apply(resolucion, axis=1)    # Aplicamos las funciones sobre el DataFrame de entrenamiento\n",
    "test[\"sistema\"] = test.apply(sistema, axis=1)\n",
    "test[\"ram\"] = test.apply(ram, axis=1)\n",
    "test[\"cpu\"] = test.apply(cpu, axis=1)\n",
    "test[\"almacenamiento\"] = test.apply(almacenamiento, axis = 1)\n",
    "test[\"almacenamiento_tipo\"] = test.apply(almacenamiento_tipo, axis = 1)\n",
    "test[\"company\"] = test.apply(company, axis=1)\n",
    "test[\"potencia\"] = test.apply(potencia, axis=1)\n",
    "test.head()"
   ]
  },
  {
   "cell_type": "markdown",
   "metadata": {},
   "source": [
    "Probamos con los 3 primeros para ver cual generaliza mejor con los datos de test."
   ]
  },
  {
   "cell_type": "code",
   "execution_count": 20,
   "metadata": {},
   "outputs": [],
   "source": [
    "data = test.drop([\"Company\", \"Product\", \"TypeName\", \"ScreenResolution\", \n",
    "\"Cpu\",\"Ram\", \"Memory\", \"Gpu\", \"OpSys\", \"Weight\"], axis=1) # Tomamos las columnas que nos interesan del dataset de test"
   ]
  },
  {
   "cell_type": "code",
   "execution_count": 21,
   "metadata": {},
   "outputs": [],
   "source": [
    "xgb.fit(X, y) # Entreno con la totalidad de datos del dataset de train, es decir, sin hacer train_test_split\n",
    "test_xgb_predictions = xgb.predict(data)"
   ]
  },
  {
   "cell_type": "code",
   "execution_count": 22,
   "metadata": {},
   "outputs": [],
   "source": [
    "forest.fit(X, y) # Entreno con la totalidad de datos del dataset de train, es decir, sin hacer train_test_split\n",
    "test_forest_predictions = forest.predict(data)"
   ]
  },
  {
   "cell_type": "code",
   "execution_count": 23,
   "metadata": {},
   "outputs": [],
   "source": [
    "bagging.fit(X, y) # Entreno con la totalidad de datos del dataset de train, es decir, sin hacer train_test_split\n",
    "test_bagging_predictions = bagging.predict(data)"
   ]
  },
  {
   "cell_type": "markdown",
   "metadata": {},
   "source": [
    "No instanciamos los modelos en si porque ya están declarados más arriba, solo reentreno con los datos del dataset train y aplico el método ```predict``` del objeto para hacer las predicciones del test."
   ]
  },
  {
   "cell_type": "markdown",
   "metadata": {},
   "source": [
    "Creamos las submissions:"
   ]
  },
  {
   "cell_type": "code",
   "execution_count": 24,
   "metadata": {},
   "outputs": [],
   "source": [
    "xgb_submission = pd.DataFrame({\"id\": data.index, \"Price_euros\": test_xgb_predictions})"
   ]
  },
  {
   "cell_type": "code",
   "execution_count": 25,
   "metadata": {},
   "outputs": [],
   "source": [
    "forest_submission = pd.DataFrame({\"id\": data.index, \"Price_euros\": test_forest_predictions})"
   ]
  },
  {
   "cell_type": "code",
   "execution_count": 26,
   "metadata": {},
   "outputs": [],
   "source": [
    "bagging_submission = pd.DataFrame({\"id\": data.index, \"Price_euros\": test_bagging_predictions})"
   ]
  },
  {
   "cell_type": "markdown",
   "metadata": {},
   "source": [
    "Definimos la funcion que verifica que la submission sea correcta."
   ]
  },
  {
   "cell_type": "code",
   "execution_count": 27,
   "metadata": {},
   "outputs": [],
   "source": [
    "def chequeator(df_to_submit, name):\n",
    "    \"\"\"\n",
    "    Esta función se asegura de que tu submission tenga la forma requerida por Kaggle.\n",
    "    \n",
    "    Si es así, se guardará el dataframe en un `csv` y estará listo para subir a Kaggle.\n",
    "    \n",
    "    Si no, LEE EL MENSAJE Y HAZLE CASO.\n",
    "    \n",
    "    Si aún no:\n",
    "    - apaga tu ordenador, \n",
    "    - date una vuelta, \n",
    "    - enciendelo otra vez, \n",
    "    - abre este notebook y \n",
    "    - leelo todo de nuevo. \n",
    "    Todos nos merecemos una segunda oportunidad. También tú.\n",
    "    \"\"\"\n",
    "    if df_to_submit.shape == sample.shape:\n",
    "        if df_to_submit.columns.all() == sample.columns.all():\n",
    "            if df_to_submit.id.all() == sample.id.all():\n",
    "                df_to_submit.to_csv(f\"Dataset/submissions/{name}.csv\", index = False) #muy importante el index = False\n",
    "                print(\"Ready to submit!!!!!!\")\n",
    "            else:\n",
    "                print(\"Revisa los id's e intenta de nuevo\")\n",
    "        else:\n",
    "            print(\"Revisa los nombres de las columnas e intentalo de nuevo\")\n",
    "    else:\n",
    "        print(\"Revisa el número de columnas y/o el de filas e inténtalo de nuevo\")"
   ]
  },
  {
   "cell_type": "code",
   "execution_count": 28,
   "metadata": {},
   "outputs": [
    {
     "name": "stdout",
     "output_type": "stream",
     "text": [
      "Ready to submit!!!!!!\n"
     ]
    }
   ],
   "source": [
    "chequeator(xgb_submission, \"xgb_submission\")"
   ]
  },
  {
   "cell_type": "code",
   "execution_count": 29,
   "metadata": {},
   "outputs": [
    {
     "name": "stdout",
     "output_type": "stream",
     "text": [
      "Ready to submit!!!!!!\n"
     ]
    }
   ],
   "source": [
    "chequeator(forest_submission, \"forest_submission\")"
   ]
  },
  {
   "cell_type": "code",
   "execution_count": 30,
   "metadata": {},
   "outputs": [
    {
     "name": "stdout",
     "output_type": "stream",
     "text": [
      "Ready to submit!!!!!!\n"
     ]
    }
   ],
   "source": [
    "chequeator(bagging_submission, \"bagging_submission\")"
   ]
  }
 ],
 "metadata": {
  "interpreter": {
   "hash": "1270bd10a923ec680d62d298ca4d9b0f8dff94d02f0ceda42b2f8c49042112c1"
  },
  "kernelspec": {
   "display_name": "Python 3.9.5 64-bit",
   "language": "python",
   "name": "python3"
  },
  "language_info": {
   "codemirror_mode": {
    "name": "ipython",
    "version": 3
   },
   "file_extension": ".py",
   "mimetype": "text/x-python",
   "name": "python",
   "nbconvert_exporter": "python",
   "pygments_lexer": "ipython3",
   "version": "3.9.5"
  },
  "orig_nbformat": 4
 },
 "nbformat": 4,
 "nbformat_minor": 2
}
