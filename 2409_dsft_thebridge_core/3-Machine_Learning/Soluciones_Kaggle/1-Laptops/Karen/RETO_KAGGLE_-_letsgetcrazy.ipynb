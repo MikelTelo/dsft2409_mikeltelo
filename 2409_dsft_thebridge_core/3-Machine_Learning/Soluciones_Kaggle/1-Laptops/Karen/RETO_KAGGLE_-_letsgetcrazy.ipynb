{
 "cells": [
  {
   "cell_type": "markdown",
   "metadata": {},
   "source": [
    "## Predicción de precios de portátiles 24-03 FT\n",
    "https://www.kaggle.com/competitions/prediccion-de-precios-de-portatiles-24-03-ft/data"
   ]
  },
  {
   "cell_type": "code",
   "execution_count": 114,
   "metadata": {},
   "outputs": [],
   "source": [
    "import pandas as pd\n",
    "from sklearn.model_selection import train_test_split, cross_val_score\n",
    "from sklearn.ensemble import GradientBoostingRegressor\n",
    "from sklearn.preprocessing import LabelEncoder\n",
    "from sklearn.metrics import mean_squared_error\n",
    "from sklearn.pipeline import Pipeline\n",
    "from sklearn.compose import ColumnTransformer\n",
    "from sklearn.impute import SimpleImputer\n",
    "from sklearn.preprocessing import StandardScaler, OneHotEncoder"
   ]
  },
  {
   "cell_type": "code",
   "execution_count": 115,
   "metadata": {},
   "outputs": [
    {
     "data": {
      "text/plain": [
       "id                  0\n",
       "laptop_ID           0\n",
       "Company             0\n",
       "Product             0\n",
       "TypeName            0\n",
       "Inches              0\n",
       "ScreenResolution    0\n",
       "Cpu                 0\n",
       "Ram                 0\n",
       "Memory              0\n",
       "Gpu                 0\n",
       "OpSys               0\n",
       "Weight              0\n",
       "Price_euros         0\n",
       "dtype: int64"
      ]
     },
     "execution_count": 115,
     "metadata": {},
     "output_type": "execute_result"
    }
   ],
   "source": [
    "data= pd.read_csv(\"./data/train.csv\")\n",
    "data.isnull().sum()"
   ]
  },
  {
   "cell_type": "code",
   "execution_count": 116,
   "metadata": {},
   "outputs": [
    {
     "data": {
      "text/plain": [
       "(912, 14)"
      ]
     },
     "execution_count": 116,
     "metadata": {},
     "output_type": "execute_result"
    }
   ],
   "source": [
    "data.shape"
   ]
  },
  {
   "cell_type": "code",
   "execution_count": 117,
   "metadata": {},
   "outputs": [
    {
     "name": "stdout",
     "output_type": "stream",
     "text": [
      "<class 'pandas.core.frame.DataFrame'>\n",
      "RangeIndex: 912 entries, 0 to 911\n",
      "Data columns (total 14 columns):\n",
      " #   Column            Non-Null Count  Dtype  \n",
      "---  ------            --------------  -----  \n",
      " 0   id                912 non-null    int64  \n",
      " 1   laptop_ID         912 non-null    int64  \n",
      " 2   Company           912 non-null    object \n",
      " 3   Product           912 non-null    object \n",
      " 4   TypeName          912 non-null    object \n",
      " 5   Inches            912 non-null    float64\n",
      " 6   ScreenResolution  912 non-null    object \n",
      " 7   Cpu               912 non-null    object \n",
      " 8   Ram               912 non-null    object \n",
      " 9   Memory            912 non-null    object \n",
      " 10  Gpu               912 non-null    object \n",
      " 11  OpSys             912 non-null    object \n",
      " 12  Weight            912 non-null    object \n",
      " 13  Price_euros       912 non-null    float64\n",
      "dtypes: float64(2), int64(2), object(10)\n",
      "memory usage: 99.9+ KB\n"
     ]
    }
   ],
   "source": [
    "data.info()"
   ]
  },
  {
   "cell_type": "code",
   "execution_count": 118,
   "metadata": {},
   "outputs": [
    {
     "data": {
      "text/html": [
       "<div>\n",
       "<style scoped>\n",
       "    .dataframe tbody tr th:only-of-type {\n",
       "        vertical-align: middle;\n",
       "    }\n",
       "\n",
       "    .dataframe tbody tr th {\n",
       "        vertical-align: top;\n",
       "    }\n",
       "\n",
       "    .dataframe thead th {\n",
       "        text-align: right;\n",
       "    }\n",
       "</style>\n",
       "<table border=\"1\" class=\"dataframe\">\n",
       "  <thead>\n",
       "    <tr style=\"text-align: right;\">\n",
       "      <th></th>\n",
       "      <th>id</th>\n",
       "      <th>laptop_ID</th>\n",
       "      <th>Company</th>\n",
       "      <th>Product</th>\n",
       "      <th>TypeName</th>\n",
       "      <th>Inches</th>\n",
       "      <th>ScreenResolution</th>\n",
       "      <th>Cpu</th>\n",
       "      <th>Ram</th>\n",
       "      <th>Memory</th>\n",
       "      <th>Gpu</th>\n",
       "      <th>OpSys</th>\n",
       "      <th>Weight</th>\n",
       "      <th>Price_euros</th>\n",
       "    </tr>\n",
       "  </thead>\n",
       "  <tbody>\n",
       "    <tr>\n",
       "      <th>0</th>\n",
       "      <td>697</td>\n",
       "      <td>705</td>\n",
       "      <td>Asus</td>\n",
       "      <td>Chromebook Flip</td>\n",
       "      <td>2 in 1 Convertible</td>\n",
       "      <td>12.5</td>\n",
       "      <td>Full HD / Touchscreen 1920x1080</td>\n",
       "      <td>Intel Core M M3-6Y30 0.9GHz</td>\n",
       "      <td>4GB</td>\n",
       "      <td>64GB Flash Storage</td>\n",
       "      <td>Intel HD Graphics 515</td>\n",
       "      <td>Chrome OS</td>\n",
       "      <td>1.2kg</td>\n",
       "      <td>669.0</td>\n",
       "    </tr>\n",
       "    <tr>\n",
       "      <th>1</th>\n",
       "      <td>435</td>\n",
       "      <td>442</td>\n",
       "      <td>Asus</td>\n",
       "      <td>Rog Strix</td>\n",
       "      <td>Gaming</td>\n",
       "      <td>17.3</td>\n",
       "      <td>Full HD 1920x1080</td>\n",
       "      <td>AMD Ryzen 1600 3.2GHz</td>\n",
       "      <td>8GB</td>\n",
       "      <td>256GB SSD +  1TB HDD</td>\n",
       "      <td>AMD Radeon RX 580</td>\n",
       "      <td>Windows 10</td>\n",
       "      <td>3.2kg</td>\n",
       "      <td>1695.0</td>\n",
       "    </tr>\n",
       "  </tbody>\n",
       "</table>\n",
       "</div>"
      ],
      "text/plain": [
       "    id  laptop_ID Company          Product            TypeName  Inches  \\\n",
       "0  697        705    Asus  Chromebook Flip  2 in 1 Convertible    12.5   \n",
       "1  435        442    Asus        Rog Strix              Gaming    17.3   \n",
       "\n",
       "                  ScreenResolution                          Cpu  Ram  \\\n",
       "0  Full HD / Touchscreen 1920x1080  Intel Core M M3-6Y30 0.9GHz  4GB   \n",
       "1                Full HD 1920x1080        AMD Ryzen 1600 3.2GHz  8GB   \n",
       "\n",
       "                 Memory                    Gpu       OpSys Weight  Price_euros  \n",
       "0    64GB Flash Storage  Intel HD Graphics 515   Chrome OS  1.2kg        669.0  \n",
       "1  256GB SSD +  1TB HDD      AMD Radeon RX 580  Windows 10  3.2kg       1695.0  "
      ]
     },
     "execution_count": 118,
     "metadata": {},
     "output_type": "execute_result"
    }
   ],
   "source": [
    "data.head(2)"
   ]
  },
  {
   "cell_type": "code",
   "execution_count": 119,
   "metadata": {},
   "outputs": [],
   "source": [
    "# Quitamos las unidades kg en Weithg\n",
    "data['Weight'] = data['Weight'].str.replace('kg', '').astype(float)\n"
   ]
  },
  {
   "cell_type": "code",
   "execution_count": 120,
   "metadata": {},
   "outputs": [],
   "source": [
    "# Quitamos las unidades GB en Ram\n",
    "data['Ram'] = data['Ram'].str.replace('GB', '').astype(float)"
   ]
  },
  {
   "cell_type": "code",
   "execution_count": 121,
   "metadata": {},
   "outputs": [
    {
     "data": {
      "text/html": [
       "<div>\n",
       "<style scoped>\n",
       "    .dataframe tbody tr th:only-of-type {\n",
       "        vertical-align: middle;\n",
       "    }\n",
       "\n",
       "    .dataframe tbody tr th {\n",
       "        vertical-align: top;\n",
       "    }\n",
       "\n",
       "    .dataframe thead th {\n",
       "        text-align: right;\n",
       "    }\n",
       "</style>\n",
       "<table border=\"1\" class=\"dataframe\">\n",
       "  <thead>\n",
       "    <tr style=\"text-align: right;\">\n",
       "      <th></th>\n",
       "      <th>id</th>\n",
       "      <th>laptop_ID</th>\n",
       "      <th>Company</th>\n",
       "      <th>Product</th>\n",
       "      <th>TypeName</th>\n",
       "      <th>Inches</th>\n",
       "      <th>ScreenResolution</th>\n",
       "      <th>Cpu</th>\n",
       "      <th>Ram</th>\n",
       "      <th>Memory</th>\n",
       "      <th>Gpu</th>\n",
       "      <th>OpSys</th>\n",
       "      <th>Weight</th>\n",
       "      <th>Price_euros</th>\n",
       "    </tr>\n",
       "  </thead>\n",
       "  <tbody>\n",
       "    <tr>\n",
       "      <th>0</th>\n",
       "      <td>697</td>\n",
       "      <td>705</td>\n",
       "      <td>Asus</td>\n",
       "      <td>Chromebook Flip</td>\n",
       "      <td>2 in 1 Convertible</td>\n",
       "      <td>12.5</td>\n",
       "      <td>Full HD / Touchscreen 1920x1080</td>\n",
       "      <td>Intel Core M M3-6Y30 0.9GHz</td>\n",
       "      <td>4.0</td>\n",
       "      <td>64GB Flash Storage</td>\n",
       "      <td>Intel HD Graphics 515</td>\n",
       "      <td>Chrome OS</td>\n",
       "      <td>1.20</td>\n",
       "      <td>669.0</td>\n",
       "    </tr>\n",
       "    <tr>\n",
       "      <th>1</th>\n",
       "      <td>435</td>\n",
       "      <td>442</td>\n",
       "      <td>Asus</td>\n",
       "      <td>Rog Strix</td>\n",
       "      <td>Gaming</td>\n",
       "      <td>17.3</td>\n",
       "      <td>Full HD 1920x1080</td>\n",
       "      <td>AMD Ryzen 1600 3.2GHz</td>\n",
       "      <td>8.0</td>\n",
       "      <td>256GB SSD +  1TB HDD</td>\n",
       "      <td>AMD Radeon RX 580</td>\n",
       "      <td>Windows 10</td>\n",
       "      <td>3.20</td>\n",
       "      <td>1695.0</td>\n",
       "    </tr>\n",
       "    <tr>\n",
       "      <th>2</th>\n",
       "      <td>735</td>\n",
       "      <td>743</td>\n",
       "      <td>Lenovo</td>\n",
       "      <td>V310-15IKB (i7-7500U/4GB/1TB/FHD/W10)</td>\n",
       "      <td>Notebook</td>\n",
       "      <td>15.6</td>\n",
       "      <td>Full HD 1920x1080</td>\n",
       "      <td>Intel Core i7 7500U 2.7GHz</td>\n",
       "      <td>4.0</td>\n",
       "      <td>1TB HDD</td>\n",
       "      <td>Intel HD Graphics 620</td>\n",
       "      <td>Windows 10</td>\n",
       "      <td>1.85</td>\n",
       "      <td>779.0</td>\n",
       "    </tr>\n",
       "  </tbody>\n",
       "</table>\n",
       "</div>"
      ],
      "text/plain": [
       "    id  laptop_ID Company                                Product  \\\n",
       "0  697        705    Asus                        Chromebook Flip   \n",
       "1  435        442    Asus                              Rog Strix   \n",
       "2  735        743  Lenovo  V310-15IKB (i7-7500U/4GB/1TB/FHD/W10)   \n",
       "\n",
       "             TypeName  Inches                 ScreenResolution  \\\n",
       "0  2 in 1 Convertible    12.5  Full HD / Touchscreen 1920x1080   \n",
       "1              Gaming    17.3                Full HD 1920x1080   \n",
       "2            Notebook    15.6                Full HD 1920x1080   \n",
       "\n",
       "                           Cpu  Ram                Memory  \\\n",
       "0  Intel Core M M3-6Y30 0.9GHz  4.0    64GB Flash Storage   \n",
       "1        AMD Ryzen 1600 3.2GHz  8.0  256GB SSD +  1TB HDD   \n",
       "2   Intel Core i7 7500U 2.7GHz  4.0               1TB HDD   \n",
       "\n",
       "                     Gpu       OpSys  Weight  Price_euros  \n",
       "0  Intel HD Graphics 515   Chrome OS    1.20        669.0  \n",
       "1      AMD Radeon RX 580  Windows 10    3.20       1695.0  \n",
       "2  Intel HD Graphics 620  Windows 10    1.85        779.0  "
      ]
     },
     "execution_count": 121,
     "metadata": {},
     "output_type": "execute_result"
    }
   ],
   "source": [
    "data.head(3)"
   ]
  },
  {
   "cell_type": "code",
   "execution_count": 123,
   "metadata": {},
   "outputs": [],
   "source": [
    "# Dividir características y objetivo\n",
    "X_train = data.drop(['Price_euros'], axis=1)\n",
    "y_train = data['Price_euros']\n",
    "\n",
    "# Dividir datos en conjuntos de entrenamiento y prueba\n",
    "X_test = pd.read_csv(\"./data/test.csv\")"
   ]
  },
  {
   "cell_type": "code",
   "execution_count": 125,
   "metadata": {},
   "outputs": [],
   "source": [
    "# Quitamos las unidades kg en Weithg\n",
    "X_test['Weight'] = X_test['Weight'].str.replace('kg', '').astype(float)\n",
    "\n",
    "# Quitamos las unidades GB en Ram\n",
    "X_test['Ram'] = X_test['Ram'].str.replace('GB', '').astype(float)"
   ]
  },
  {
   "cell_type": "code",
   "execution_count": 126,
   "metadata": {},
   "outputs": [],
   "source": [
    "# Definir las columnas numéricas y categóricas\n",
    "numeric_features = X_test.select_dtypes(include=['int64', 'float64']).columns\n",
    "categorical_features = X_test.select_dtypes(include=['object']).columns\n",
    "\n",
    "# Crear un transformador para manejar características numéricas y categóricas\n",
    "numeric_transformer = Pipeline(steps=[\n",
    "    ('imputer', SimpleImputer(strategy='median')),\n",
    "    ('scaler', StandardScaler())])\n",
    "\n",
    "categorical_transformer = Pipeline(steps=[\n",
    "    ('imputer', SimpleImputer(strategy='constant', fill_value='missing')),\n",
    "    ('onehot', OneHotEncoder(handle_unknown='ignore'))])\n",
    "\n",
    "preprocessor = ColumnTransformer(\n",
    "    transformers=[\n",
    "        ('num', numeric_transformer, numeric_features),\n",
    "        ('cat', categorical_transformer, categorical_features)])"
   ]
  },
  {
   "cell_type": "code",
   "execution_count": 128,
   "metadata": {},
   "outputs": [
    {
     "name": "stdout",
     "output_type": "stream",
     "text": [
      "Best Parameters: {'regressor__learning_rate': 0.2, 'regressor__max_depth': 3, 'regressor__n_estimators': 200}\n",
      "Mean Absolute Error on Training Set (After Hyperparameter Tuning): 105.95970828070061\n"
     ]
    }
   ],
   "source": [
    "# Definir las columnas numéricas y categóricas\n",
    "numeric_features = X_train.select_dtypes(include=['int64', 'float64']).columns\n",
    "categorical_features = X_train.select_dtypes(include=['object']).columns\n",
    "\n",
    "# Crear un transformador para manejar características numéricas y categóricas\n",
    "numeric_transformer = Pipeline(steps=[\n",
    "    ('imputer', SimpleImputer(strategy='median')),\n",
    "    ('scaler', StandardScaler())])\n",
    "\n",
    "categorical_transformer = Pipeline(steps=[\n",
    "    ('imputer', SimpleImputer(strategy='constant', fill_value='missing')),\n",
    "    ('onehot', OneHotEncoder(handle_unknown='ignore'))])\n",
    "\n",
    "preprocessor = ColumnTransformer(\n",
    "    transformers=[\n",
    "        ('num', numeric_transformer, numeric_features),\n",
    "        ('cat', categorical_transformer, categorical_features)])\n",
    "\n",
    "# Crear un pipeline con el preprocesamiento y el modelo\n",
    "pipeline = Pipeline(steps=[('preprocessor', preprocessor),\n",
    "                           ('regressor', GradientBoostingRegressor())])\n",
    "\n",
    "# Definir la cuadrícula de hiperparámetros a buscar\n",
    "param_grid = {\n",
    "    'regressor__n_estimators': [50, 100, 200],\n",
    "    'regressor__learning_rate': [0.05, 0.1, 0.2],\n",
    "    'regressor__max_depth': [3, 4, 5]\n",
    "}\n",
    "\n",
    "# Realizar la búsqueda de hiperparámetros utilizando GridSearchCV\n",
    "grid_search = GridSearchCV(pipeline, param_grid, cv=5, scoring='neg_mean_squared_error')\n",
    "grid_search.fit(X_train, y_train)\n",
    "\n",
    "# Obtener el mejor modelo y sus hiperparámetros\n",
    "best_model = grid_search.best_estimator_\n",
    "best_params = grid_search.best_params_\n",
    "print(\"Best Parameters:\", best_params)\n",
    "\n",
    "# Predecir en el conjunto de entrenamiento y prueba usando el mejor modelo\n",
    "y_train_pred = best_model.predict(X_train)\n",
    "y_test_pred = best_model.predict(X_test)\n",
    "\n",
    "# Calcular el MAE en los conjuntos de entrenamiento y prueba\n",
    "mae_train = mean_absolute_error(y_train, y_train_pred)\n",
    "\n",
    "print(\"Mean Absolute Error on Training Set (After Hyperparameter Tuning):\", mae_train)\n"
   ]
  },
  {
   "cell_type": "code",
   "execution_count": 129,
   "metadata": {},
   "outputs": [
    {
     "data": {
      "text/plain": [
       "(391, 2)"
      ]
     },
     "execution_count": 129,
     "metadata": {},
     "output_type": "execute_result"
    }
   ],
   "source": [
    "# Crea una copia de X_test para evitar cambios no deseados en el original\n",
    "X_test_copy = X_test.copy()\n",
    "\n",
    "# Agrega las predicciones como una nueva columna al DataFrame\n",
    "X_test_copy['Price_euros'] = y_test_pred\n",
    "\n",
    "# Selecciona las columnas 'id' y 'Price_euros'\n",
    "result_df = X_test_copy[['id', 'Price_euros']]\n",
    "\n",
    "# Guarda el DataFrame resultante a un archivo CSV\n",
    "result_df.to_csv('predictions_last.csv', index=False)\n",
    "\n",
    "# Muestra las primeras filas del DataFrame resultante para verificar\n",
    "result_df.shape"
   ]
  },
  {
   "cell_type": "code",
   "execution_count": null,
   "metadata": {},
   "outputs": [],
   "source": [
    "# - MAE FINAL DE COMPETI- 179\n",
    "# HACIENDO CASI NADA\n",
    "# Al final de la copetición este modelo fue el ganador - 160 MAE con el 100% de los datos"
   ]
  }
 ],
 "metadata": {
  "kernelspec": {
   "display_name": "Python 3",
   "language": "python",
   "name": "python3"
  },
  "language_info": {
   "codemirror_mode": {
    "name": "ipython",
    "version": 3
   },
   "file_extension": ".py",
   "mimetype": "text/x-python",
   "name": "python",
   "nbconvert_exporter": "python",
   "pygments_lexer": "ipython3",
   "version": "3.12.2"
  }
 },
 "nbformat": 4,
 "nbformat_minor": 2
}
