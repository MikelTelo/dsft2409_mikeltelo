{
 "cells": [
  {
   "attachments": {},
   "cell_type": "markdown",
   "metadata": {},
   "source": [
    "# Clasificador paisajes\n",
    "Para este ejercicio vas a crear un clasificador automático de paisajes. Los datos los encontrarás en el Classroom como `seg_train.zip` y `seg_test.zip`. Se pide:\n",
    "1. Cargar las imágenes. Mira cómo están almacenados los datos. Tendrás que recorrer las carpetas, cargar las imágenes en memoria y etiquetarlas con los nombres de las carpetas. Realiza un reshape de cada imagen (comienza el ejercicio con 32x32, para ir más rápido en las ejecuciones).\n",
    "2. Investiga las imágenes, comprueba con algunas muestras que has cargado bien los datos.\n",
    "3. Normaliza\n",
    "4. Diseña la arquitectura de la red. Recuerda que es un algoritmo de clasificación. Ojo con las dimensiones de la entrada\n",
    "5. Reserva un 20% de los datos del entrenamiento para validar.\n",
    "6. Representa el objeto history\n",
    "7. Evalua el modelo con los datos de test\n",
    "8. Representa algunos de los paisajes donde el modelo comete errores\n",
    "9. Crea una matriz de confusión con los errores del modelo\n",
    "\n",
    "**NOTA apartado 1**: para el apartado 1 tendras que recorre las carpetas/imagenes con `os.listdir()`, e ir cargando todas las imagenes como arrays de numpy\n",
    "\n",
    "**NOTA apartado 4**: empieza con un par de capas Conv2D + MaxPooling2D con activación relu y después la fully connected layer. on softmax como ultima capa"
   ]
  },
  {
   "cell_type": "code",
   "execution_count": 2,
   "metadata": {},
   "outputs": [],
   "source": [
    "import numpy as np\n",
    "import pandas as pd\n",
    "import matplotlib.pyplot as plt\n",
    "import seaborn as sns\n",
    "\n",
    "import os\n",
    "import cv2\n",
    "from skimage.io import imread\n",
    "\n",
    "from tensorflow import keras\n",
    "from sklearn.metrics import confusion_matrix"
   ]
  },
  {
   "cell_type": "code",
   "execution_count": 11,
   "metadata": {},
   "outputs": [
    {
     "data": {
      "text/plain": [
       "{'buildings': 0,\n",
       " 'forest': 1,\n",
       " 'glacier': 2,\n",
       " 'mountain': 3,\n",
       " 'sea': 4,\n",
       " 'street': 5}"
      ]
     },
     "execution_count": 11,
     "metadata": {},
     "output_type": "execute_result"
    }
   ],
   "source": [
    "class_names = ['buildings', 'forest', 'glacier', 'mountain', 'sea', 'street']\n",
    "class_names_label = {class_name:i for i, class_name in enumerate(class_names)}\n",
    "class_names_label"
   ]
  },
  {
   "cell_type": "code",
   "execution_count": 6,
   "metadata": {},
   "outputs": [
    {
     "data": {
      "text/plain": [
       "'d:\\\\Bootcamp\\\\Carpeta_profesor\\\\2402_dsft_thebridge\\\\3-Machine_Learning\\\\5-Deep_Learning\\\\2-Redes_Convolucionales\\\\ejercicios\\\\data\\\\seg_train'"
      ]
     },
     "execution_count": 6,
     "metadata": {},
     "output_type": "execute_result"
    }
   ],
   "source": [
    "os.getcwd() + \"\\\\data\\\\seg_train\""
   ]
  },
  {
   "cell_type": "code",
   "execution_count": 7,
   "metadata": {},
   "outputs": [
    {
     "data": {
      "text/plain": [
       "['Clasificador_paisajes.ipynb', 'data']"
      ]
     },
     "execution_count": 7,
     "metadata": {},
     "output_type": "execute_result"
    }
   ],
   "source": [
    "os.listdir()"
   ]
  },
  {
   "cell_type": "code",
   "execution_count": 8,
   "metadata": {},
   "outputs": [],
   "source": [
    "IMAGE_SIZE = (32,32)\n",
    "TRAIN_PATH = os.getcwd() + \"\\\\data\\\\seg_train\"\n",
    "TEST_PATH = os.getcwd() + \"\\\\data\\\\seg_test\""
   ]
  },
  {
   "cell_type": "code",
   "execution_count": 13,
   "metadata": {},
   "outputs": [],
   "source": [
    "def read_data(path, im_size):\n",
    "    X = []\n",
    "    y = []\n",
    "\n",
    "    for folder in os.listdir(path):\n",
    "        label = class_names_label[folder]\n",
    "        folder_path = os.path.join(path, folder)\n",
    "\n",
    "        for file in os.listdir(folder_path):\n",
    "            image_path = os.path.join(folder_path, file)\n",
    "            try:\n",
    "                image = imread(image_path)\n",
    "                smallimage = cv2.resize(image, im_size)\n",
    "                X.append(smallimage)\n",
    "                y.append(label)\n",
    "            except:\n",
    "                print(\"Error en lectura imagen\", image_path)\n",
    "\n",
    "    return np.array(X), np.array(y)\n"
   ]
  },
  {
   "cell_type": "code",
   "execution_count": 14,
   "metadata": {},
   "outputs": [
    {
     "name": "stderr",
     "output_type": "stream",
     "text": [
      "c:\\Users\\Miguel Angel\\AppData\\Local\\Programs\\Python\\Python311\\Lib\\site-packages\\imageio\\plugins\\spe.py:507: UserWarning: The file header of d:\\Bootcamp\\Carpeta_profesor\\2402_dsft_thebridge\\3-Machine_Learning\\5-Deep_Learning\\2-Redes_Convolucionales\\ejercicios\\data\\seg_train\\mountain\\seg_train - Acceso directo.lnk claims there are 7340141 frames, but there are actually 17 frames.\n",
      "  warnings.warn(\n"
     ]
    },
    {
     "name": "stdout",
     "output_type": "stream",
     "text": [
      "Error en lectura imagen d:\\Bootcamp\\Carpeta_profesor\\2402_dsft_thebridge\\3-Machine_Learning\\5-Deep_Learning\\2-Redes_Convolucionales\\ejercicios\\data\\seg_train\\mountain\\seg_train - Acceso directo.lnk\n",
      "(14034, 32, 32, 3)\n",
      "(3000, 32, 32, 3)\n",
      "(14034,)\n",
      "(3000,)\n"
     ]
    }
   ],
   "source": [
    "X_train, y_train = read_data(TRAIN_PATH, IMAGE_SIZE)\n",
    "X_test, y_test = read_data(TEST_PATH, IMAGE_SIZE)\n",
    "\n",
    "print(X_train.shape)\n",
    "print(X_test.shape)\n",
    "print(y_train.shape)\n",
    "print(y_test.shape)"
   ]
  },
  {
   "cell_type": "code",
   "execution_count": 15,
   "metadata": {},
   "outputs": [
    {
     "data": {
      "text/plain": [
       "3    2512\n",
       "2    2404\n",
       "5    2382\n",
       "4    2274\n",
       "1    2271\n",
       "0    2191\n",
       "dtype: int64"
      ]
     },
     "execution_count": 15,
     "metadata": {},
     "output_type": "execute_result"
    }
   ],
   "source": [
    "pd.Series(y_train).value_counts()"
   ]
  },
  {
   "cell_type": "code",
   "execution_count": 16,
   "metadata": {},
   "outputs": [
    {
     "data": {
      "text/plain": [
       "2    553\n",
       "3    525\n",
       "4    510\n",
       "5    501\n",
       "1    474\n",
       "0    437\n",
       "dtype: int64"
      ]
     },
     "execution_count": 16,
     "metadata": {},
     "output_type": "execute_result"
    }
   ],
   "source": [
    "pd.Series(y_test).value_counts()"
   ]
  },
  {
   "cell_type": "code",
   "execution_count": 18,
   "metadata": {},
   "outputs": [
    {
     "data": {
      "text/plain": [
       "array([0, 0, 0, 0, 0, 0, 0, 0, 0, 0, 0, 0, 0, 0, 0, 0, 0, 0, 0, 0, 0, 0,\n",
       "       0, 0, 0, 0, 0, 0, 0, 0, 0, 0, 0, 0, 0, 0, 0, 0, 0, 0, 0, 0, 0, 0,\n",
       "       0, 0, 0, 0, 0, 0, 0, 0, 0, 0, 0, 0, 0, 0, 0, 0, 0, 0, 0, 0, 0, 0,\n",
       "       0, 0, 0, 0, 0, 0, 0, 0, 0, 0, 0, 0, 0, 0, 0, 0, 0, 0, 0, 0, 0, 0,\n",
       "       0, 0, 0, 0, 0, 0, 0, 0, 0, 0, 0, 0])"
      ]
     },
     "execution_count": 18,
     "metadata": {},
     "output_type": "execute_result"
    }
   ],
   "source": [
    "y_train[:100]"
   ]
  },
  {
   "cell_type": "code",
   "execution_count": 19,
   "metadata": {},
   "outputs": [],
   "source": [
    "from sklearn.utils import shuffle\n",
    "\n",
    "X_train, y_train = shuffle(X_train, y_train, random_state=42)\n",
    "X_test, y_test = shuffle(X_test, y_test, random_state=42)"
   ]
  },
  {
   "cell_type": "code",
   "execution_count": 20,
   "metadata": {},
   "outputs": [
    {
     "data": {
      "text/plain": [
       "array([0, 5, 5, 4, 3, 2, 3, 3, 0, 5, 0, 3, 5, 4, 2, 4, 4, 5, 1, 3, 2, 0,\n",
       "       2, 2, 5, 1, 3, 5, 0, 3, 5, 5, 5, 2, 1, 2, 5, 4, 0, 1, 5, 1, 0, 4,\n",
       "       0, 5, 1, 2, 3, 5, 4, 0, 2, 3, 5, 4, 0, 4, 1, 3, 3, 2, 4, 4, 2, 3,\n",
       "       2, 1, 5, 3, 4, 1, 5, 1, 2, 1, 2, 1, 5, 3, 4, 5, 3, 1, 2, 3, 1, 4,\n",
       "       4, 0, 3, 3, 4, 1, 5, 1, 5, 4, 1, 2])"
      ]
     },
     "execution_count": 20,
     "metadata": {},
     "output_type": "execute_result"
    }
   ],
   "source": [
    "y_train[:100]"
   ]
  },
  {
   "cell_type": "code",
   "execution_count": 31,
   "metadata": {},
   "outputs": [
    {
     "name": "stdout",
     "output_type": "stream",
     "text": [
      "glacier\n"
     ]
    },
    {
     "data": {
      "image/png": "[encoded data removed]",
      "text/plain": [
       "<Figure size 640x480 with 1 Axes>"
      ]
     },
     "metadata": {},
     "output_type": "display_data"
    }
   ],
   "source": [
    "index = np.random.randint(X_train.shape[0])\n",
    "print(class_names[y_train[index]])\n",
    "plt.imshow(X_train[index]);"
   ]
  },
  {
   "cell_type": "code",
   "execution_count": 34,
   "metadata": {},
   "outputs": [
    {
     "data": {
      "text/plain": [
       "array([[[[225, 225, 225],\n",
       "         [221, 223, 222],\n",
       "         [221, 223, 222],\n",
       "         ...,\n",
       "         [237, 237, 237],\n",
       "         [238, 238, 238],\n",
       "         [240, 240, 240]],\n",
       "\n",
       "        [[230, 230, 230],\n",
       "         [227, 227, 227],\n",
       "         [232, 232, 232],\n",
       "         ...,\n",
       "         [244, 244, 244],\n",
       "         [244, 244, 244],\n",
       "         [246, 246, 246]],\n",
       "\n",
       "        [[ 55,  55,  55],\n",
       "         [223, 223, 223],\n",
       "         [ 88,  87,  88],\n",
       "         ...,\n",
       "         [245, 245, 245],\n",
       "         [246, 246, 246],\n",
       "         [246, 246, 246]],\n",
       "\n",
       "        ...,\n",
       "\n",
       "        [[114, 112, 111],\n",
       "         [ 97,  96,  94],\n",
       "         [125, 123, 124],\n",
       "         ...,\n",
       "         [ 90,  89,  87],\n",
       "         [ 88,  87,  85],\n",
       "         [ 92,  91,  89]],\n",
       "\n",
       "        [[153, 152, 150],\n",
       "         [113, 112, 110],\n",
       "         [123, 121, 122],\n",
       "         ...,\n",
       "         [ 83,  82,  79],\n",
       "         [ 68,  67,  65],\n",
       "         [ 80,  79,  77]],\n",
       "\n",
       "        [[131, 130, 128],\n",
       "         [133, 132, 130],\n",
       "         [128, 126, 125],\n",
       "         ...,\n",
       "         [128, 127, 125],\n",
       "         [138, 138, 136],\n",
       "         [130, 128, 129]]],\n",
       "\n",
       "\n",
       "       [[[ 92, 157, 223],\n",
       "         [ 93, 158, 224],\n",
       "         [ 93, 158, 224],\n",
       "         ...,\n",
       "         [147, 143, 157],\n",
       "         [163,  93,  44],\n",
       "         [201, 162,  82]],\n",
       "\n",
       "        [[ 94, 162, 225],\n",
       "         [ 94, 162, 225],\n",
       "         [ 94, 162, 225],\n",
       "         ...,\n",
       "         [150, 150, 167],\n",
       "         [176, 116,  69],\n",
       "         [198, 149,  58]],\n",
       "\n",
       "        [[ 99, 164, 226],\n",
       "         [100, 166, 226],\n",
       "         [ 97, 165, 226],\n",
       "         ...,\n",
       "         [169, 173, 204],\n",
       "         [137,  60,  35],\n",
       "         [171, 109,  44]],\n",
       "\n",
       "        ...,\n",
       "\n",
       "        [[ 98,  99, 103],\n",
       "         [ 97,  98, 101],\n",
       "         [107, 108, 110],\n",
       "         ...,\n",
       "         [112,  96,  88],\n",
       "         [114,  99,  91],\n",
       "         [111,  97,  84]],\n",
       "\n",
       "        [[ 79,  84,  88],\n",
       "         [102, 106, 109],\n",
       "         [113, 114, 117],\n",
       "         ...,\n",
       "         [111,  96,  86],\n",
       "         [106,  92,  82],\n",
       "         [111,  94,  84]],\n",
       "\n",
       "        [[108, 112, 113],\n",
       "         [109, 113, 114],\n",
       "         [110, 111, 112],\n",
       "         ...,\n",
       "         [111,  95,  87],\n",
       "         [103,  89,  78],\n",
       "         [119, 105,  96]]],\n",
       "\n",
       "\n",
       "       [[[185, 126, 110],\n",
       "         [187, 129, 111],\n",
       "         [221, 202, 196],\n",
       "         ...,\n",
       "         [171, 221, 254],\n",
       "         [172, 221, 254],\n",
       "         [175, 221, 254]],\n",
       "\n",
       "        [[185, 124, 119],\n",
       "         [189, 131, 119],\n",
       "         [203, 159, 147],\n",
       "         ...,\n",
       "         [177, 224, 254],\n",
       "         [178, 225, 254],\n",
       "         [180, 226, 252]],\n",
       "\n",
       "        [[184, 128, 115],\n",
       "         [186, 127, 113],\n",
       "         [175, 133, 126],\n",
       "         ...,\n",
       "         [183, 229, 253],\n",
       "         [185, 231, 255],\n",
       "         [184, 231, 254]],\n",
       "\n",
       "        ...,\n",
       "\n",
       "        [[108,  78,  75],\n",
       "         [103,  73,  71],\n",
       "         [104,  74,  72],\n",
       "         ...,\n",
       "         [151, 121, 122],\n",
       "         [159, 129, 130],\n",
       "         [168, 145, 139]],\n",
       "\n",
       "        [[101,  71,  69],\n",
       "         [105,  75,  73],\n",
       "         [106,  76,  76],\n",
       "         ...,\n",
       "         [137, 113, 112],\n",
       "         [142, 117, 117],\n",
       "         [139, 119, 118]],\n",
       "\n",
       "        [[108,  78,  76],\n",
       "         [113,  81,  80],\n",
       "         [111,  78,  77],\n",
       "         ...,\n",
       "         [140, 115, 111],\n",
       "         [143, 117, 116],\n",
       "         [141, 116, 115]]],\n",
       "\n",
       "\n",
       "       ...,\n",
       "\n",
       "\n",
       "       [[[157, 165, 184],\n",
       "         [152, 163, 181],\n",
       "         [160, 168, 189],\n",
       "         ...,\n",
       "         [179, 191, 207],\n",
       "         [180, 192, 208],\n",
       "         [182, 194, 210]],\n",
       "\n",
       "        [[163, 173, 191],\n",
       "         [159, 170, 188],\n",
       "         [158, 166, 185],\n",
       "         ...,\n",
       "         [186, 198, 214],\n",
       "         [183, 195, 211],\n",
       "         [182, 195, 211]],\n",
       "\n",
       "        [[164, 176, 192],\n",
       "         [164, 176, 192],\n",
       "         [163, 174, 192],\n",
       "         ...,\n",
       "         [189, 201, 217],\n",
       "         [186, 198, 214],\n",
       "         [184, 196, 212]],\n",
       "\n",
       "        ...,\n",
       "\n",
       "        [[ 29,  71,  90],\n",
       "         [ 68, 107, 125],\n",
       "         [ 95, 129, 141],\n",
       "         ...,\n",
       "         [117, 165, 189],\n",
       "         [159, 193, 202],\n",
       "         [ 92, 134, 151]],\n",
       "\n",
       "        [[ 89, 126, 143],\n",
       "         [ 64, 109, 127],\n",
       "         [ 89, 130, 152],\n",
       "         ...,\n",
       "         [108, 155, 177],\n",
       "         [ 94, 148, 173],\n",
       "         [134, 173, 191]],\n",
       "\n",
       "        [[167, 191, 199],\n",
       "         [ 92, 130, 148],\n",
       "         [ 76, 120, 138],\n",
       "         ...,\n",
       "         [ 92, 137, 164],\n",
       "         [102, 149, 173],\n",
       "         [ 93, 139, 162]]],\n",
       "\n",
       "\n",
       "       [[[ 98, 147, 203],\n",
       "         [ 99, 146, 202],\n",
       "         [ 98, 145, 201],\n",
       "         ...,\n",
       "         [ 65, 116, 179],\n",
       "         [ 65, 116, 179],\n",
       "         [ 64, 115, 178]],\n",
       "\n",
       "        [[100, 149, 205],\n",
       "         [100, 147, 203],\n",
       "         [ 99, 146, 202],\n",
       "         ...,\n",
       "         [ 67, 118, 181],\n",
       "         [ 67, 118, 181],\n",
       "         [ 63, 117, 179]],\n",
       "\n",
       "        [[103, 150, 206],\n",
       "         [102, 149, 205],\n",
       "         [100, 147, 205],\n",
       "         ...,\n",
       "         [ 68, 119, 184],\n",
       "         [ 69, 120, 185],\n",
       "         [ 66, 120, 182]],\n",
       "\n",
       "        ...,\n",
       "\n",
       "        [[ 64,  73,  71],\n",
       "         [ 53,  63,  59],\n",
       "         [ 71,  81,  83],\n",
       "         ...,\n",
       "         [ 97, 109, 119],\n",
       "         [ 69,  72,  86],\n",
       "         [144, 141, 148]],\n",
       "\n",
       "        [[ 51,  61,  57],\n",
       "         [ 48,  52,  44],\n",
       "         [ 72,  81,  71],\n",
       "         ...,\n",
       "         [ 46,  50,  61],\n",
       "         [ 53,  54,  69],\n",
       "         [ 56,  58,  64]],\n",
       "\n",
       "        [[ 90, 103,  33],\n",
       "         [ 96, 104,  39],\n",
       "         [ 99, 108,  45],\n",
       "         ...,\n",
       "         [ 44,  53,  62],\n",
       "         [ 18,  17,  19],\n",
       "         [ 27,  26,  18]]],\n",
       "\n",
       "\n",
       "       [[[131, 161, 199],\n",
       "         [133, 161, 200],\n",
       "         [133, 161, 200],\n",
       "         ...,\n",
       "         [157, 177, 204],\n",
       "         [149, 172, 204],\n",
       "         [145, 170, 201]],\n",
       "\n",
       "        [[131, 161, 199],\n",
       "         [133, 161, 200],\n",
       "         [133, 161, 200],\n",
       "         ...,\n",
       "         [157, 176, 204],\n",
       "         [160, 179, 210],\n",
       "         [161, 179, 208]],\n",
       "\n",
       "        [[131, 161, 199],\n",
       "         [133, 161, 200],\n",
       "         [134, 162, 201],\n",
       "         ...,\n",
       "         [168, 184, 207],\n",
       "         [157, 174, 200],\n",
       "         [151, 172, 203]],\n",
       "\n",
       "        ...,\n",
       "\n",
       "        [[104, 122, 157],\n",
       "         [104, 123, 155],\n",
       "         [117, 135, 164],\n",
       "         ...,\n",
       "         [139, 148, 170],\n",
       "         [130, 136, 163],\n",
       "         [109, 120, 151]],\n",
       "\n",
       "        [[103, 119, 162],\n",
       "         [102, 120, 159],\n",
       "         [109, 125, 163],\n",
       "         ...,\n",
       "         [118, 133, 162],\n",
       "         [119, 126, 159],\n",
       "         [113, 121, 157]],\n",
       "\n",
       "        [[ 91, 105, 144],\n",
       "         [ 98, 111, 150],\n",
       "         [ 98, 112, 150],\n",
       "         ...,\n",
       "         [113, 128, 157],\n",
       "         [114, 129, 158],\n",
       "         [113, 127, 157]]]], dtype=uint8)"
      ]
     },
     "execution_count": 34,
     "metadata": {},
     "output_type": "execute_result"
    }
   ],
   "source": [
    "X_train"
   ]
  },
  {
   "cell_type": "code",
   "execution_count": 35,
   "metadata": {},
   "outputs": [
    {
     "data": {
      "text/plain": [
       "225"
      ]
     },
     "execution_count": 35,
     "metadata": {},
     "output_type": "execute_result"
    }
   ],
   "source": [
    "X_train[0][0][0][0]"
   ]
  },
  {
   "cell_type": "code",
   "execution_count": 36,
   "metadata": {},
   "outputs": [
    {
     "name": "stdout",
     "output_type": "stream",
     "text": [
      "0\n",
      "255\n"
     ]
    }
   ],
   "source": [
    "print(X_train.min())\n",
    "print(X_train.max())"
   ]
  },
  {
   "cell_type": "code",
   "execution_count": 37,
   "metadata": {},
   "outputs": [],
   "source": [
    "X_train = X_train/255\n",
    "X_test = X_test/255"
   ]
  },
  {
   "cell_type": "code",
   "execution_count": 38,
   "metadata": {},
   "outputs": [
    {
     "name": "stdout",
     "output_type": "stream",
     "text": [
      "0.0\n",
      "1.0\n"
     ]
    }
   ],
   "source": [
    "print(X_train.min())\n",
    "print(X_train.max())"
   ]
  },
  {
   "cell_type": "code",
   "execution_count": 39,
   "metadata": {},
   "outputs": [
    {
     "data": {
      "text/plain": [
       "(14034, 32, 32, 3)"
      ]
     },
     "execution_count": 39,
     "metadata": {},
     "output_type": "execute_result"
    }
   ],
   "source": [
    "X_train.shape"
   ]
  },
  {
   "cell_type": "code",
   "execution_count": 41,
   "metadata": {},
   "outputs": [],
   "source": [
    "model = keras.Sequential([\n",
    "    keras.layers.Conv2D(64, (3,3), input_shape=(32,32,3)),\n",
    "    keras.layers.MaxPooling2D(2,2),\n",
    "    keras.layers.Conv2D(32, (3,3)),\n",
    "    keras.layers.MaxPooling2D(2,2),\n",
    "    keras.layers.Flatten(),\n",
    "    keras.layers.Dense(64),\n",
    "    keras.layers.Dense(16),\n",
    "    keras.layers.Dense(6, activation=\"softmax\")\n",
    "])"
   ]
  },
  {
   "cell_type": "code",
   "execution_count": 42,
   "metadata": {},
   "outputs": [
    {
     "name": "stdout",
     "output_type": "stream",
     "text": [
      "Model: \"sequential_1\"\n",
      "_________________________________________________________________\n",
      " Layer (type)                Output Shape              Param #   \n",
      "=================================================================\n",
      " conv2d_2 (Conv2D)           (None, 30, 30, 64)        1792      \n",
      "                                                                 \n",
      " max_pooling2d_2 (MaxPoolin  (None, 15, 15, 64)        0         \n",
      " g2D)                                                            \n",
      "                                                                 \n",
      " conv2d_3 (Conv2D)           (None, 13, 13, 32)        18464     \n",
      "                                                                 \n",
      " max_pooling2d_3 (MaxPoolin  (None, 6, 6, 32)          0         \n",
      " g2D)                                                            \n",
      "                                                                 \n",
      " flatten_1 (Flatten)         (None, 1152)              0         \n",
      "                                                                 \n",
      " dense_3 (Dense)             (None, 64)                73792     \n",
      "                                                                 \n",
      " dense_4 (Dense)             (None, 16)                1040      \n",
      "                                                                 \n",
      " dense_5 (Dense)             (None, 6)                 102       \n",
      "                                                                 \n",
      "=================================================================\n",
      "Total params: 95190 (371.84 KB)\n",
      "Trainable params: 95190 (371.84 KB)\n",
      "Non-trainable params: 0 (0.00 Byte)\n",
      "_________________________________________________________________\n"
     ]
    }
   ],
   "source": [
    "model.summary()"
   ]
  },
  {
   "cell_type": "code",
   "execution_count": 43,
   "metadata": {},
   "outputs": [
    {
     "data": {
      "text/plain": [
       "1792"
      ]
     },
     "execution_count": 43,
     "metadata": {},
     "output_type": "execute_result"
    }
   ],
   "source": [
    "64 * (3*3) * 3 + 64"
   ]
  },
  {
   "cell_type": "code",
   "execution_count": 44,
   "metadata": {},
   "outputs": [
    {
     "data": {
      "text/plain": [
       "18464"
      ]
     },
     "execution_count": 44,
     "metadata": {},
     "output_type": "execute_result"
    }
   ],
   "source": [
    "32 * (3*3) * 64 + 32"
   ]
  },
  {
   "cell_type": "code",
   "execution_count": 45,
   "metadata": {},
   "outputs": [
    {
     "data": {
      "text/plain": [
       "1152"
      ]
     },
     "execution_count": 45,
     "metadata": {},
     "output_type": "execute_result"
    }
   ],
   "source": [
    "6*6*32"
   ]
  },
  {
   "cell_type": "code",
   "execution_count": 47,
   "metadata": {},
   "outputs": [],
   "source": [
    "model.compile(optimizer=\"adam\", loss=\"sparse_categorical_crossentropy\", metrics=['accuracy'])"
   ]
  },
  {
   "cell_type": "code",
   "execution_count": null,
   "metadata": {},
   "outputs": [],
   "source": [
    "14034 * 0.8 /128 "
   ]
  },
  {
   "cell_type": "code",
   "execution_count": 48,
   "metadata": {},
   "outputs": [
    {
     "name": "stdout",
     "output_type": "stream",
     "text": [
      "Epoch 1/20\n",
      "WARNING:tensorflow:From c:\\Users\\Miguel Angel\\AppData\\Local\\Programs\\Python\\Python311\\Lib\\site-packages\\keras\\src\\utils\\tf_utils.py:492: The name tf.ragged.RaggedTensorValue is deprecated. Please use tf.compat.v1.ragged.RaggedTensorValue instead.\n",
      "\n",
      "WARNING:tensorflow:From c:\\Users\\Miguel Angel\\AppData\\Local\\Programs\\Python\\Python311\\Lib\\site-packages\\keras\\src\\engine\\base_layer_utils.py:384: The name tf.executing_eagerly_outside_functions is deprecated. Please use tf.compat.v1.executing_eagerly_outside_functions instead.\n",
      "\n",
      "88/88 [==============================] - 7s 62ms/step - loss: 1.2087 - accuracy: 0.5399 - val_loss: 0.9847 - val_accuracy: 0.6413\n",
      "Epoch 2/20\n",
      "88/88 [==============================] - 6s 73ms/step - loss: 0.9428 - accuracy: 0.6495 - val_loss: 0.8609 - val_accuracy: 0.6915\n",
      "Epoch 3/20\n",
      "88/88 [==============================] - 7s 76ms/step - loss: 0.8408 - accuracy: 0.6916 - val_loss: 0.8967 - val_accuracy: 0.6776\n",
      "Epoch 4/20\n",
      "88/88 [==============================] - 7s 76ms/step - loss: 0.8106 - accuracy: 0.7056 - val_loss: 0.8129 - val_accuracy: 0.7082\n",
      "Epoch 5/20\n",
      "88/88 [==============================] - 7s 77ms/step - loss: 0.7685 - accuracy: 0.7208 - val_loss: 0.7828 - val_accuracy: 0.7150\n",
      "Epoch 6/20\n",
      "88/88 [==============================] - 7s 74ms/step - loss: 0.7289 - accuracy: 0.7372 - val_loss: 0.8060 - val_accuracy: 0.7132\n",
      "Epoch 7/20\n",
      "88/88 [==============================] - 7s 79ms/step - loss: 0.7033 - accuracy: 0.7478 - val_loss: 0.8026 - val_accuracy: 0.7125\n",
      "Epoch 8/20\n",
      "88/88 [==============================] - 6s 71ms/step - loss: 0.7021 - accuracy: 0.7513 - val_loss: 0.7811 - val_accuracy: 0.7093\n",
      "Epoch 9/20\n",
      "88/88 [==============================] - 6s 66ms/step - loss: 0.6450 - accuracy: 0.7697 - val_loss: 0.7782 - val_accuracy: 0.7246\n",
      "Epoch 10/20\n",
      "88/88 [==============================] - 7s 82ms/step - loss: 0.6246 - accuracy: 0.7788 - val_loss: 0.7669 - val_accuracy: 0.7218\n",
      "Epoch 11/20\n",
      "88/88 [==============================] - 7s 76ms/step - loss: 0.6150 - accuracy: 0.7805 - val_loss: 0.8003 - val_accuracy: 0.7239\n",
      "Epoch 12/20\n",
      "88/88 [==============================] - 6s 74ms/step - loss: 0.6066 - accuracy: 0.7865 - val_loss: 0.7937 - val_accuracy: 0.7175\n",
      "Epoch 13/20\n",
      "88/88 [==============================] - 7s 75ms/step - loss: 0.5701 - accuracy: 0.7981 - val_loss: 0.8309 - val_accuracy: 0.7107\n",
      "Epoch 14/20\n",
      "88/88 [==============================] - 7s 75ms/step - loss: 0.5477 - accuracy: 0.8058 - val_loss: 0.8484 - val_accuracy: 0.7121\n",
      "Epoch 15/20\n",
      "88/88 [==============================] - 7s 75ms/step - loss: 0.5308 - accuracy: 0.8148 - val_loss: 0.9225 - val_accuracy: 0.6961\n",
      "Epoch 16/20\n",
      "88/88 [==============================] - 6s 73ms/step - loss: 0.5076 - accuracy: 0.8203 - val_loss: 0.8715 - val_accuracy: 0.7089\n",
      "Epoch 17/20\n",
      "88/88 [==============================] - 6s 71ms/step - loss: 0.4710 - accuracy: 0.8355 - val_loss: 0.8927 - val_accuracy: 0.7089\n",
      "Epoch 18/20\n",
      "88/88 [==============================] - 6s 70ms/step - loss: 0.4496 - accuracy: 0.8402 - val_loss: 0.9340 - val_accuracy: 0.7061\n",
      "Epoch 19/20\n",
      "88/88 [==============================] - 6s 73ms/step - loss: 0.4382 - accuracy: 0.8431 - val_loss: 0.9188 - val_accuracy: 0.7107\n",
      "Epoch 20/20\n",
      "88/88 [==============================] - 7s 77ms/step - loss: 0.4321 - accuracy: 0.8441 - val_loss: 0.9558 - val_accuracy: 0.6897\n"
     ]
    }
   ],
   "source": [
    "history = model.fit(\n",
    "    X_train,\n",
    "    y_train,\n",
    "    batch_size=128,\n",
    "    epochs=20,\n",
    "    validation_split=0.2\n",
    ")"
   ]
  },
  {
   "cell_type": "code",
   "execution_count": 49,
   "metadata": {},
   "outputs": [
    {
     "data": {
      "text/plain": [
       "<matplotlib.legend.Legend at 0x1c9a67b73d0>"
      ]
     },
     "execution_count": 49,
     "metadata": {},
     "output_type": "execute_result"
    },
    {
     "data": {
      "image/png": "[encoded data removed]",
      "text/plain": [
       "<Figure size 640x480 with 1 Axes>"
      ]
     },
     "metadata": {},
     "output_type": "display_data"
    }
   ],
   "source": [
    "df_hist = pd.DataFrame(history.history, index=np.arange(1,21))\n",
    "plt.plot(df_hist['val_accuracy'], label=\"Val accuracy\")\n",
    "plt.plot(df_hist['accuracy'], label=\"Train accuracy\")\n",
    "plt.title(\"Training CNN\")\n",
    "plt.xlabel(\"Epochs\")\n",
    "plt.ylabel(\"Accuracy\")\n",
    "plt.xticks(range(1,21))\n",
    "plt.legend()"
   ]
  },
  {
   "cell_type": "code",
   "execution_count": 50,
   "metadata": {},
   "outputs": [
    {
     "name": "stdout",
     "output_type": "stream",
     "text": [
      "94/94 [==============================] - 1s 6ms/step - loss: 1.0070 - accuracy: 0.6857\n"
     ]
    }
   ],
   "source": [
    "results = model.evaluate(X_test, y_test)"
   ]
  },
  {
   "cell_type": "code",
   "execution_count": 52,
   "metadata": {},
   "outputs": [
    {
     "name": "stdout",
     "output_type": "stream",
     "text": [
      "94/94 [==============================] - 1s 5ms/step\n"
     ]
    },
    {
     "data": {
      "text/plain": [
       "array([[0.  , 0.  , 0.3 , 0.69, 0.01, 0.  ],\n",
       "       [0.  , 0.  , 0.98, 0.01, 0.01, 0.  ],\n",
       "       [0.  , 0.  , 0.  , 0.93, 0.07, 0.  ],\n",
       "       ...,\n",
       "       [0.  , 0.  , 0.08, 0.22, 0.7 , 0.  ],\n",
       "       [0.  , 0.  , 0.  , 0.04, 0.96, 0.  ],\n",
       "       [0.  , 0.85, 0.  , 0.  , 0.  , 0.15]], dtype=float32)"
      ]
     },
     "execution_count": 52,
     "metadata": {},
     "output_type": "execute_result"
    }
   ],
   "source": [
    "y_pred = model.predict(X_test)\n",
    "y_pred.round(2)"
   ]
  },
  {
   "cell_type": "code",
   "execution_count": 53,
   "metadata": {},
   "outputs": [],
   "source": [
    "IMAGE_SIZE = (64,64)"
   ]
  },
  {
   "cell_type": "code",
   "execution_count": 54,
   "metadata": {},
   "outputs": [
    {
     "name": "stdout",
     "output_type": "stream",
     "text": [
      "(14034, 64, 64, 3)\n",
      "(3000, 64, 64, 3)\n",
      "(14034,)\n",
      "(3000,)\n"
     ]
    }
   ],
   "source": [
    "X_train, y_train = read_data(TRAIN_PATH, IMAGE_SIZE)\n",
    "X_test, y_test = read_data(TEST_PATH, IMAGE_SIZE)\n",
    "\n",
    "print(X_train.shape)\n",
    "print(X_test.shape)\n",
    "print(y_train.shape)\n",
    "print(y_test.shape)"
   ]
  },
  {
   "cell_type": "code",
   "execution_count": 55,
   "metadata": {},
   "outputs": [],
   "source": [
    "X_train, y_train = shuffle(X_train, y_train, random_state=42)\n",
    "X_test, y_test = shuffle(X_test, y_test, random_state=42)\n",
    "X_train = X_train/255\n",
    "X_test = X_test/255"
   ]
  },
  {
   "cell_type": "code",
   "execution_count": 56,
   "metadata": {},
   "outputs": [
    {
     "name": "stdout",
     "output_type": "stream",
     "text": [
      "(14034, 64, 64, 3)\n"
     ]
    }
   ],
   "source": [
    "print(X_train.shape)"
   ]
  },
  {
   "cell_type": "code",
   "execution_count": 58,
   "metadata": {},
   "outputs": [
    {
     "name": "stdout",
     "output_type": "stream",
     "text": [
      "Epoch 1/30\n",
      "176/176 [==============================] - 87s 471ms/step - loss: 1.1191 - accuracy: 0.5761 - val_loss: 0.9063 - val_accuracy: 0.6523\n",
      "Epoch 2/30\n",
      "176/176 [==============================] - 97s 552ms/step - loss: 0.8446 - accuracy: 0.6903 - val_loss: 0.8391 - val_accuracy: 0.6940\n",
      "Epoch 3/30\n",
      "176/176 [==============================] - 76s 432ms/step - loss: 0.7459 - accuracy: 0.7337 - val_loss: 0.9009 - val_accuracy: 0.6512\n",
      "Epoch 4/30\n",
      "176/176 [==============================] - 65s 369ms/step - loss: 0.6622 - accuracy: 0.7618 - val_loss: 0.7878 - val_accuracy: 0.7007\n",
      "Epoch 5/30\n",
      "176/176 [==============================] - 66s 378ms/step - loss: 0.5738 - accuracy: 0.7901 - val_loss: 0.7653 - val_accuracy: 0.7264\n",
      "Epoch 6/30\n",
      "176/176 [==============================] - 60s 343ms/step - loss: 0.4912 - accuracy: 0.8266 - val_loss: 0.8336 - val_accuracy: 0.7121\n",
      "Epoch 7/30\n",
      "176/176 [==============================] - 56s 319ms/step - loss: 0.4190 - accuracy: 0.8516 - val_loss: 0.8871 - val_accuracy: 0.7225\n",
      "Epoch 8/30\n",
      "176/176 [==============================] - 58s 327ms/step - loss: 0.3445 - accuracy: 0.8763 - val_loss: 1.0664 - val_accuracy: 0.7057\n",
      "Epoch 9/30\n",
      "176/176 [==============================] - 56s 319ms/step - loss: 0.2568 - accuracy: 0.9097 - val_loss: 1.1628 - val_accuracy: 0.7168\n",
      "Epoch 10/30\n",
      "176/176 [==============================] - 56s 319ms/step - loss: 0.2237 - accuracy: 0.9198 - val_loss: 1.3234 - val_accuracy: 0.6997\n"
     ]
    }
   ],
   "source": [
    "model_2 = keras.Sequential([\n",
    "    keras.layers.Conv2D(64, (3,3), input_shape=(64,64,3)),\n",
    "    keras.layers.MaxPooling2D(2,2),\n",
    "    keras.layers.Conv2D(128, (3,3)),\n",
    "    keras.layers.MaxPooling2D(2,2),\n",
    "    keras.layers.Conv2D(64, (3,3)),\n",
    "    keras.layers.MaxPooling2D(2,2),\n",
    "    keras.layers.Flatten(),\n",
    "    keras.layers.Dense(64),\n",
    "    keras.layers.Dense(32),\n",
    "    keras.layers.Dense(6, activation=\"softmax\")\n",
    "])\n",
    "model_2.compile(optimizer=\"adam\", loss=\"sparse_categorical_crossentropy\", metrics=['accuracy'])\n",
    "history_2 = model_2.fit(\n",
    "    X_train,\n",
    "    y_train,\n",
    "    batch_size=64,\n",
    "    epochs=30,\n",
    "    validation_split=0.2,\n",
    "    callbacks=[keras.callbacks.EarlyStopping(patience=5)]\n",
    ")"
   ]
  },
  {
   "cell_type": "code",
   "execution_count": 60,
   "metadata": {},
   "outputs": [
    {
     "data": {
      "text/plain": [
       "<matplotlib.legend.Legend at 0x1c9ee4b3350>"
      ]
     },
     "execution_count": 60,
     "metadata": {},
     "output_type": "execute_result"
    },
    {
     "data": {
      "image/png": "[encoded data removed]",
      "text/plain": [
       "<Figure size 640x480 with 1 Axes>"
      ]
     },
     "metadata": {},
     "output_type": "display_data"
    }
   ],
   "source": [
    "df_hist = pd.DataFrame(history_2.history, index=np.arange(1,11))\n",
    "plt.plot(df_hist['val_accuracy'], label=\"Val accuracy\")\n",
    "plt.plot(df_hist['accuracy'], label=\"Train accuracy\")\n",
    "plt.title(\"Training CNN\")\n",
    "plt.xlabel(\"Epochs\")\n",
    "plt.ylabel(\"Accuracy\")\n",
    "plt.xticks(range(1,11))\n",
    "plt.legend()"
   ]
  },
  {
   "cell_type": "code",
   "execution_count": 62,
   "metadata": {},
   "outputs": [
    {
     "name": "stdout",
     "output_type": "stream",
     "text": [
      "94/94 [==============================] - 5s 53ms/step - loss: 1.2853 - accuracy: 0.7043\n"
     ]
    }
   ],
   "source": [
    "results = model_2.evaluate(X_test, y_test)"
   ]
  },
  {
   "cell_type": "code",
   "execution_count": 63,
   "metadata": {},
   "outputs": [
    {
     "name": "stdout",
     "output_type": "stream",
     "text": [
      "94/94 [==============================] - 4s 43ms/step\n"
     ]
    },
    {
     "data": {
      "text/plain": [
       "array([[0.  , 0.  , 0.7 , 0.29, 0.  , 0.  ],\n",
       "       [0.01, 0.  , 0.75, 0.  , 0.24, 0.  ],\n",
       "       [0.01, 0.  , 0.  , 0.92, 0.06, 0.  ],\n",
       "       ...,\n",
       "       [0.05, 0.  , 0.03, 0.78, 0.14, 0.  ],\n",
       "       [0.  , 0.  , 0.12, 0.  , 0.88, 0.  ],\n",
       "       [0.  , 1.  , 0.  , 0.  , 0.  , 0.  ]], dtype=float32)"
      ]
     },
     "execution_count": 63,
     "metadata": {},
     "output_type": "execute_result"
    }
   ],
   "source": [
    "y_pred = model_2.predict(X_test)\n",
    "y_pred.round(2)"
   ]
  },
  {
   "cell_type": "code",
   "execution_count": 64,
   "metadata": {},
   "outputs": [
    {
     "name": "stdout",
     "output_type": "stream",
     "text": [
      "mountain\n"
     ]
    },
    {
     "data": {
      "text/plain": [
       "<matplotlib.image.AxesImage at 0x1c9eb930dd0>"
      ]
     },
     "execution_count": 64,
     "metadata": {},
     "output_type": "execute_result"
    },
    {
     "data": {
      "image/png": "[encoded data removed]",
      "text/plain": [
       "<Figure size 640x480 with 1 Axes>"
      ]
     },
     "metadata": {},
     "output_type": "display_data"
    }
   ],
   "source": [
    "print(class_names[y_test[0]])\n",
    "plt.imshow(X_test[0])"
   ]
  },
  {
   "cell_type": "code",
   "execution_count": 65,
   "metadata": {},
   "outputs": [
    {
     "name": "stdout",
     "output_type": "stream",
     "text": [
      "[2 2 3 ... 3 4 1]\n",
      "['glacier', 'glacier', 'mountain', 'buildings', 'street', 'glacier', 'sea', 'sea', 'buildings', 'street', 'sea', 'buildings', 'street', 'mountain', 'buildings', 'forest', 'glacier', 'forest', 'street', 'street', 'buildings', 'buildings', 'glacier', 'sea', 'sea', 'street', 'glacier', 'glacier', 'buildings', 'mountain', 'street', 'mountain', 'forest', 'street', 'buildings', 'buildings', 'sea', 'mountain', 'buildings', 'glacier', 'buildings', 'buildings', 'buildings', 'forest', 'mountain', 'mountain', 'sea', 'buildings', 'street', 'glacier', 'glacier', 'forest', 'buildings', 'sea', 'buildings', 'street', 'sea', 'sea', 'buildings', 'glacier', 'buildings', 'forest', 'buildings', 'buildings', 'buildings', 'glacier', 'sea', 'mountain', 'glacier', 'forest', 'sea', 'street', 'buildings', 'mountain', 'glacier', 'forest', 'sea', 'street', 'buildings', 'mountain', 'mountain', 'mountain', 'forest', 'glacier', 'sea', 'buildings', 'street', 'glacier', 'mountain', 'street', 'buildings', 'mountain', 'sea', 'glacier', 'sea', 'buildings', 'street', 'sea', 'buildings', 'mountain', 'sea', 'buildings', 'forest', 'mountain', 'glacier', 'forest', 'glacier', 'buildings', 'buildings', 'glacier', 'street', 'forest', 'street', 'buildings', 'forest', 'sea', 'buildings', 'buildings', 'street', 'mountain', 'street', 'glacier', 'forest', 'mountain', 'mountain', 'sea', 'sea', 'forest', 'forest', 'glacier', 'sea', 'glacier', 'mountain', 'mountain', 'glacier', 'buildings', 'sea', 'mountain', 'street', 'sea', 'street', 'glacier', 'glacier', 'buildings', 'glacier', 'forest', 'sea', 'mountain', 'glacier', 'buildings', 'mountain', 'street', 'street', 'sea', 'buildings', 'mountain', 'street', 'buildings', 'mountain', 'street', 'sea', 'mountain', 'buildings', 'forest', 'mountain', 'glacier', 'buildings', 'buildings', 'mountain', 'forest', 'street', 'street', 'mountain', 'forest', 'street', 'sea', 'buildings', 'mountain', 'forest', 'mountain', 'street', 'street', 'mountain', 'street', 'buildings', 'buildings', 'buildings', 'sea', 'glacier', 'glacier', 'forest', 'sea', 'mountain', 'street', 'street', 'street', 'buildings', 'street', 'forest', 'buildings', 'glacier', 'sea', 'buildings', 'street', 'mountain', 'glacier', 'sea', 'sea', 'forest', 'sea', 'sea', 'mountain', 'glacier', 'glacier', 'forest', 'buildings', 'buildings', 'buildings', 'mountain', 'sea', 'glacier', 'sea', 'forest', 'buildings', 'mountain', 'forest', 'buildings', 'sea', 'street', 'street', 'glacier', 'mountain', 'sea', 'buildings', 'glacier', 'mountain', 'forest', 'mountain', 'buildings', 'forest', 'sea', 'forest', 'sea', 'mountain', 'buildings', 'forest', 'glacier', 'forest', 'forest', 'street', 'glacier', 'glacier', 'buildings', 'sea', 'street', 'street', 'sea', 'street', 'sea', 'sea', 'mountain', 'sea', 'buildings', 'sea', 'forest', 'sea', 'street', 'street', 'street', 'forest', 'sea', 'glacier', 'sea', 'forest', 'mountain', 'buildings', 'street', 'mountain', 'sea', 'buildings', 'glacier', 'street', 'forest', 'forest', 'mountain', 'sea', 'sea', 'street', 'buildings', 'forest', 'street', 'street', 'glacier', 'mountain', 'glacier', 'mountain', 'buildings', 'street', 'street', 'sea', 'buildings', 'glacier', 'buildings', 'glacier', 'street', 'forest', 'glacier', 'mountain', 'mountain', 'glacier', 'buildings', 'forest', 'mountain', 'buildings', 'mountain', 'sea', 'forest', 'street', 'glacier', 'mountain', 'glacier', 'street', 'sea', 'sea', 'glacier', 'mountain', 'forest', 'sea', 'street', 'sea', 'forest', 'glacier', 'glacier', 'sea', 'glacier', 'buildings', 'sea', 'glacier', 'buildings', 'glacier', 'street', 'buildings', 'forest', 'street', 'forest', 'mountain', 'buildings', 'street', 'mountain', 'buildings', 'glacier', 'mountain', 'buildings', 'sea', 'street', 'buildings', 'street', 'forest', 'street', 'glacier', 'street', 'sea', 'mountain', 'buildings', 'forest', 'forest', 'glacier', 'sea', 'mountain', 'sea', 'buildings', 'forest', 'mountain', 'buildings', 'buildings', 'mountain', 'mountain', 'mountain', 'buildings', 'mountain', 'forest', 'sea', 'street', 'forest', 'buildings', 'glacier', 'glacier', 'forest', 'street', 'glacier', 'sea', 'mountain', 'glacier', 'buildings', 'glacier', 'mountain', 'forest', 'forest', 'sea', 'street', 'forest', 'buildings', 'mountain', 'buildings', 'street', 'glacier', 'mountain', 'street', 'forest', 'sea', 'mountain', 'buildings', 'sea', 'buildings', 'buildings', 'street', 'glacier', 'buildings', 'mountain', 'mountain', 'buildings', 'buildings', 'glacier', 'glacier', 'forest', 'glacier', 'street', 'forest', 'forest', 'forest', 'sea', 'buildings', 'street', 'glacier', 'glacier', 'glacier', 'glacier', 'glacier', 'sea', 'glacier', 'buildings', 'mountain', 'mountain', 'mountain', 'sea', 'buildings', 'sea', 'street', 'street', 'street', 'street', 'glacier', 'buildings', 'glacier', 'mountain', 'buildings', 'sea', 'buildings', 'street', 'buildings', 'mountain', 'forest', 'mountain', 'buildings', 'glacier', 'glacier', 'forest', 'forest', 'buildings', 'glacier', 'forest', 'sea', 'mountain', 'buildings', 'street', 'street', 'sea', 'street', 'glacier', 'glacier', 'glacier', 'buildings', 'glacier', 'sea', 'sea', 'sea', 'buildings', 'sea', 'buildings', 'street', 'forest', 'buildings', 'street', 'buildings', 'mountain', 'buildings', 'forest', 'sea', 'buildings', 'street', 'mountain', 'forest', 'glacier', 'sea', 'buildings', 'sea', 'glacier', 'glacier', 'street', 'sea', 'street', 'buildings', 'forest', 'glacier', 'forest', 'glacier', 'glacier', 'forest', 'glacier', 'sea', 'buildings', 'sea', 'glacier', 'street', 'glacier', 'mountain', 'street', 'sea', 'glacier', 'street', 'sea', 'glacier', 'glacier', 'buildings', 'buildings', 'sea', 'mountain', 'street', 'glacier', 'sea', 'glacier', 'glacier', 'buildings', 'mountain', 'forest', 'glacier', 'street', 'sea', 'buildings', 'glacier', 'sea', 'sea', 'forest', 'mountain', 'buildings', 'sea', 'forest', 'buildings', 'buildings', 'forest', 'street', 'mountain', 'street', 'forest', 'forest', 'mountain', 'sea', 'forest', 'glacier', 'sea', 'forest', 'buildings', 'street', 'street', 'mountain', 'buildings', 'buildings', 'buildings', 'mountain', 'buildings', 'buildings', 'buildings', 'street', 'street', 'buildings', 'mountain', 'buildings', 'mountain', 'forest', 'mountain', 'street', 'mountain', 'street', 'glacier', 'glacier', 'buildings', 'sea', 'forest', 'buildings', 'glacier', 'forest', 'forest', 'buildings', 'mountain', 'glacier', 'glacier', 'forest', 'sea', 'street', 'glacier', 'buildings', 'forest', 'street', 'glacier', 'mountain', 'buildings', 'mountain', 'glacier', 'buildings', 'buildings', 'street', 'buildings', 'mountain', 'mountain', 'street', 'buildings', 'forest', 'mountain', 'mountain', 'forest', 'buildings', 'street', 'street', 'sea', 'buildings', 'forest', 'street', 'street', 'street', 'glacier', 'mountain', 'glacier', 'sea', 'street', 'glacier', 'glacier', 'street', 'buildings', 'forest', 'sea', 'sea', 'street', 'street', 'street', 'buildings', 'sea', 'glacier', 'sea', 'glacier', 'street', 'forest', 'buildings', 'sea', 'forest', 'street', 'sea', 'street', 'forest', 'buildings', 'mountain', 'sea', 'mountain', 'buildings', 'sea', 'forest', 'street', 'glacier', 'forest', 'forest', 'street', 'sea', 'sea', 'buildings', 'glacier', 'forest', 'sea', 'glacier', 'mountain', 'mountain', 'mountain', 'buildings', 'street', 'glacier', 'sea', 'street', 'street', 'sea', 'sea', 'sea', 'glacier', 'street', 'mountain', 'buildings', 'sea', 'buildings', 'sea', 'street', 'buildings', 'buildings', 'street', 'mountain', 'glacier', 'forest', 'glacier', 'glacier', 'mountain', 'sea', 'glacier', 'forest', 'glacier', 'mountain', 'mountain', 'sea', 'forest', 'sea', 'glacier', 'buildings', 'buildings', 'street', 'forest', 'street', 'buildings', 'street', 'street', 'glacier', 'street', 'buildings', 'street', 'glacier', 'street', 'forest', 'street', 'buildings', 'glacier', 'street', 'street', 'mountain', 'street', 'sea', 'street', 'street', 'buildings', 'street', 'glacier', 'forest', 'street', 'forest', 'forest', 'buildings', 'forest', 'glacier', 'buildings', 'forest', 'sea', 'street', 'forest', 'glacier', 'street', 'street', 'glacier', 'mountain', 'forest', 'sea', 'glacier', 'buildings', 'forest', 'glacier', 'buildings', 'buildings', 'buildings', 'sea', 'sea', 'sea', 'forest', 'glacier', 'forest', 'street', 'sea', 'sea', 'mountain', 'mountain', 'mountain', 'forest', 'forest', 'mountain', 'mountain', 'street', 'glacier', 'street', 'street', 'forest', 'glacier', 'glacier', 'buildings', 'glacier', 'sea', 'sea', 'buildings', 'glacier', 'street', 'forest', 'sea', 'glacier', 'forest', 'glacier', 'street', 'sea', 'buildings', 'sea', 'forest', 'sea', 'forest', 'buildings', 'buildings', 'street', 'mountain', 'sea', 'glacier', 'glacier', 'mountain', 'street', 'glacier', 'forest', 'glacier', 'forest', 'buildings', 'buildings', 'sea', 'buildings', 'street', 'mountain', 'street', 'street', 'mountain', 'sea', 'buildings', 'street', 'glacier', 'mountain', 'glacier', 'glacier', 'mountain', 'sea', 'glacier', 'glacier', 'glacier', 'sea', 'sea', 'sea', 'street', 'buildings', 'forest', 'forest', 'glacier', 'forest', 'sea', 'forest', 'sea', 'buildings', 'street', 'forest', 'forest', 'buildings', 'mountain', 'forest', 'forest', 'mountain', 'sea', 'mountain', 'forest', 'buildings', 'glacier', 'glacier', 'mountain', 'street', 'street', 'glacier', 'street', 'forest', 'mountain', 'street', 'street', 'glacier', 'forest', 'mountain', 'sea', 'forest', 'glacier', 'buildings', 'buildings', 'forest', 'forest', 'mountain', 'buildings', 'mountain', 'glacier', 'forest', 'glacier', 'buildings', 'buildings', 'glacier', 'street', 'glacier', 'buildings', 'street', 'buildings', 'sea', 'street', 'glacier', 'buildings', 'glacier', 'buildings', 'buildings', 'buildings', 'sea', 'glacier', 'sea', 'mountain', 'glacier', 'sea', 'buildings', 'glacier', 'sea', 'mountain', 'glacier', 'mountain', 'mountain', 'glacier', 'mountain', 'glacier', 'street', 'buildings', 'glacier', 'glacier', 'glacier', 'mountain', 'forest', 'street', 'sea', 'glacier', 'mountain', 'mountain', 'buildings', 'buildings', 'sea', 'street', 'buildings', 'street', 'forest', 'street', 'glacier', 'glacier', 'forest', 'buildings', 'street', 'mountain', 'buildings', 'forest', 'sea', 'street', 'street', 'mountain', 'street', 'sea', 'street', 'sea', 'mountain', 'sea', 'sea', 'forest', 'forest', 'buildings', 'sea', 'mountain', 'sea', 'sea', 'sea', 'forest', 'forest', 'glacier', 'glacier', 'buildings', 'sea', 'sea', 'glacier', 'forest', 'street', 'street', 'glacier', 'glacier', 'street', 'forest', 'mountain', 'buildings', 'buildings', 'sea', 'mountain', 'sea', 'sea', 'street', 'glacier', 'sea', 'buildings', 'glacier', 'street', 'glacier', 'forest', 'sea', 'mountain', 'mountain', 'glacier', 'glacier', 'sea', 'sea', 'street', 'buildings', 'glacier', 'glacier', 'forest', 'glacier', 'mountain', 'buildings', 'glacier', 'buildings', 'mountain', 'mountain', 'forest', 'sea', 'glacier', 'street', 'sea', 'sea', 'buildings', 'forest', 'sea', 'street', 'mountain', 'buildings', 'glacier', 'glacier', 'street', 'sea', 'forest', 'glacier', 'glacier', 'sea', 'sea', 'sea', 'buildings', 'sea', 'buildings', 'glacier', 'glacier', 'glacier', 'sea', 'mountain', 'sea', 'street', 'buildings', 'buildings', 'buildings', 'mountain', 'forest', 'sea', 'buildings', 'mountain', 'glacier', 'forest', 'sea', 'buildings', 'buildings', 'mountain', 'street', 'sea', 'forest', 'mountain', 'street', 'street', 'glacier', 'glacier', 'buildings', 'forest', 'mountain', 'forest', 'mountain', 'glacier', 'glacier', 'buildings', 'glacier', 'sea', 'buildings', 'buildings', 'sea', 'buildings', 'street', 'sea', 'street', 'street', 'sea', 'mountain', 'buildings', 'buildings', 'glacier', 'mountain', 'glacier', 'street', 'sea', 'street', 'street', 'glacier', 'sea', 'forest', 'street', 'buildings', 'forest', 'glacier', 'street', 'sea', 'buildings', 'mountain', 'mountain', 'buildings', 'mountain', 'forest', 'mountain', 'mountain', 'glacier', 'buildings', 'forest', 'sea', 'street', 'mountain', 'street', 'glacier', 'forest', 'mountain', 'street', 'mountain', 'mountain', 'mountain', 'mountain', 'sea', 'street', 'buildings', 'buildings', 'forest', 'forest', 'sea', 'street', 'buildings', 'buildings', 'glacier', 'mountain', 'street', 'glacier', 'sea', 'sea', 'buildings', 'sea', 'street', 'street', 'buildings', 'glacier', 'sea', 'buildings', 'sea', 'mountain', 'street', 'buildings', 'street', 'buildings', 'forest', 'forest', 'buildings', 'buildings', 'forest', 'street', 'forest', 'glacier', 'buildings', 'sea', 'buildings', 'forest', 'sea', 'glacier', 'street', 'buildings', 'forest', 'sea', 'buildings', 'street', 'street', 'sea', 'forest', 'mountain', 'sea', 'glacier', 'sea', 'buildings', 'buildings', 'forest', 'forest', 'buildings', 'forest', 'sea', 'buildings', 'street', 'buildings', 'street', 'buildings', 'mountain', 'mountain', 'buildings', 'sea', 'sea', 'mountain', 'street', 'street', 'buildings', 'street', 'street', 'buildings', 'mountain', 'buildings', 'buildings', 'mountain', 'buildings', 'mountain', 'buildings', 'buildings', 'sea', 'street', 'mountain', 'forest', 'street', 'glacier', 'buildings', 'glacier', 'mountain', 'sea', 'street', 'street', 'glacier', 'street', 'forest', 'glacier', 'sea', 'buildings', 'glacier', 'forest', 'mountain', 'glacier', 'sea', 'buildings', 'sea', 'sea', 'forest', 'glacier', 'sea', 'sea', 'street', 'street', 'buildings', 'buildings', 'mountain', 'glacier', 'buildings', 'street', 'glacier', 'mountain', 'forest', 'glacier', 'mountain', 'street', 'street', 'sea', 'glacier', 'glacier', 'buildings', 'forest', 'street', 'street', 'glacier', 'forest', 'street', 'sea', 'street', 'street', 'buildings', 'buildings', 'glacier', 'forest', 'forest', 'street', 'buildings', 'glacier', 'street', 'forest', 'glacier', 'street', 'forest', 'sea', 'glacier', 'glacier', 'sea', 'glacier', 'sea', 'mountain', 'street', 'mountain', 'street', 'street', 'mountain', 'buildings', 'buildings', 'mountain', 'glacier', 'buildings', 'forest', 'glacier', 'buildings', 'glacier', 'forest', 'sea', 'mountain', 'sea', 'street', 'street', 'sea', 'mountain', 'street', 'street', 'sea', 'buildings', 'street', 'buildings', 'forest', 'mountain', 'mountain', 'buildings', 'buildings', 'glacier', 'street', 'street', 'street', 'street', 'forest', 'street', 'glacier', 'street', 'buildings', 'sea', 'mountain', 'street', 'sea', 'forest', 'buildings', 'sea', 'mountain', 'mountain', 'street', 'mountain', 'glacier', 'glacier', 'forest', 'glacier', 'street', 'buildings', 'glacier', 'mountain', 'buildings', 'mountain', 'sea', 'glacier', 'buildings', 'street', 'forest', 'buildings', 'street', 'glacier', 'street', 'forest', 'buildings', 'forest', 'street', 'glacier', 'glacier', 'mountain', 'glacier', 'street', 'street', 'mountain', 'street', 'glacier', 'buildings', 'forest', 'glacier', 'glacier', 'buildings', 'glacier', 'sea', 'buildings', 'forest', 'mountain', 'sea', 'street', 'glacier', 'street', 'forest', 'mountain', 'street', 'street', 'sea', 'buildings', 'buildings', 'forest', 'mountain', 'mountain', 'street', 'forest', 'street', 'buildings', 'sea', 'street', 'glacier', 'sea', 'glacier', 'mountain', 'glacier', 'mountain', 'mountain', 'forest', 'street', 'buildings', 'mountain', 'sea', 'sea', 'sea', 'glacier', 'sea', 'mountain', 'street', 'street', 'glacier', 'sea', 'forest', 'glacier', 'buildings', 'buildings', 'sea', 'buildings', 'glacier', 'buildings', 'glacier', 'glacier', 'mountain', 'glacier', 'mountain', 'street', 'street', 'buildings', 'buildings', 'forest', 'mountain', 'street', 'mountain', 'forest', 'street', 'mountain', 'glacier', 'glacier', 'forest', 'buildings', 'sea', 'forest', 'mountain', 'forest', 'forest', 'mountain', 'mountain', 'street', 'street', 'forest', 'sea', 'street', 'glacier', 'sea', 'sea', 'glacier', 'mountain', 'street', 'buildings', 'forest', 'forest', 'mountain', 'street', 'sea', 'mountain', 'sea', 'sea', 'glacier', 'mountain', 'sea', 'mountain', 'glacier', 'street', 'glacier', 'street', 'glacier', 'glacier', 'mountain', 'mountain', 'sea', 'mountain', 'mountain', 'sea', 'sea', 'sea', 'street', 'sea', 'glacier', 'glacier', 'street', 'glacier', 'buildings', 'forest', 'street', 'forest', 'buildings', 'buildings', 'buildings', 'buildings', 'sea', 'glacier', 'glacier', 'street', 'buildings', 'street', 'buildings', 'street', 'street', 'glacier', 'buildings', 'glacier', 'sea', 'glacier', 'buildings', 'forest', 'street', 'buildings', 'street', 'forest', 'street', 'street', 'sea', 'glacier', 'street', 'street', 'buildings', 'mountain', 'buildings', 'buildings', 'street', 'glacier', 'forest', 'buildings', 'buildings', 'buildings', 'glacier', 'mountain', 'buildings', 'buildings', 'sea', 'street', 'glacier', 'street', 'glacier', 'glacier', 'forest', 'street', 'sea', 'sea', 'buildings', 'street', 'buildings', 'glacier', 'street', 'mountain', 'glacier', 'mountain', 'glacier', 'buildings', 'forest', 'street', 'glacier', 'glacier', 'buildings', 'street', 'forest', 'mountain', 'glacier', 'buildings', 'glacier', 'glacier', 'buildings', 'mountain', 'buildings', 'forest', 'glacier', 'forest', 'forest', 'mountain', 'forest', 'sea', 'buildings', 'forest', 'forest', 'street', 'sea', 'mountain', 'glacier', 'mountain', 'street', 'forest', 'glacier', 'street', 'mountain', 'street', 'buildings', 'buildings', 'mountain', 'street', 'sea', 'forest', 'sea', 'glacier', 'sea', 'street', 'sea', 'sea', 'sea', 'sea', 'buildings', 'buildings', 'mountain', 'mountain', 'street', 'street', 'mountain', 'sea', 'mountain', 'street', 'street', 'glacier', 'buildings', 'sea', 'sea', 'forest', 'buildings', 'glacier', 'buildings', 'buildings', 'buildings', 'mountain', 'mountain', 'street', 'sea', 'glacier', 'mountain', 'buildings', 'buildings', 'mountain', 'sea', 'street', 'mountain', 'buildings', 'forest', 'buildings', 'mountain', 'mountain', 'buildings', 'street', 'forest', 'sea', 'mountain', 'sea', 'mountain', 'street', 'glacier', 'glacier', 'sea', 'glacier', 'glacier', 'buildings', 'buildings', 'buildings', 'forest', 'mountain', 'sea', 'mountain', 'street', 'glacier', 'glacier', 'forest', 'street', 'buildings', 'mountain', 'buildings', 'glacier', 'sea', 'sea', 'buildings', 'street', 'sea', 'mountain', 'glacier', 'forest', 'forest', 'mountain', 'mountain', 'sea', 'forest', 'mountain', 'street', 'sea', 'street', 'mountain', 'buildings', 'street', 'glacier', 'glacier', 'forest', 'forest', 'sea', 'sea', 'mountain', 'buildings', 'forest', 'sea', 'glacier', 'buildings', 'street', 'glacier', 'glacier', 'forest', 'sea', 'glacier', 'glacier', 'glacier', 'buildings', 'sea', 'mountain', 'buildings', 'sea', 'forest', 'mountain', 'glacier', 'street', 'sea', 'mountain', 'mountain', 'forest', 'glacier', 'buildings', 'buildings', 'sea', 'street', 'forest', 'mountain', 'glacier', 'sea', 'glacier', 'glacier', 'buildings', 'forest', 'forest', 'glacier', 'mountain', 'street', 'forest', 'forest', 'buildings', 'glacier', 'sea', 'street', 'glacier', 'sea', 'forest', 'glacier', 'sea', 'street', 'street', 'mountain', 'mountain', 'street', 'glacier', 'forest', 'buildings', 'glacier', 'mountain', 'buildings', 'sea', 'sea', 'glacier', 'sea', 'sea', 'forest', 'street', 'glacier', 'forest', 'glacier', 'mountain', 'sea', 'forest', 'forest', 'street', 'sea', 'glacier', 'glacier', 'buildings', 'mountain', 'buildings', 'street', 'buildings', 'street', 'forest', 'buildings', 'buildings', 'glacier', 'forest', 'street', 'street', 'forest', 'buildings', 'buildings', 'sea', 'forest', 'forest', 'sea', 'mountain', 'glacier', 'sea', 'glacier', 'street', 'mountain', 'mountain', 'mountain', 'street', 'mountain', 'mountain', 'sea', 'forest', 'street', 'sea', 'sea', 'sea', 'buildings', 'buildings', 'forest', 'mountain', 'sea', 'buildings', 'forest', 'sea', 'sea', 'glacier', 'glacier', 'sea', 'mountain', 'street', 'street', 'glacier', 'street', 'mountain', 'forest', 'street', 'sea', 'buildings', 'sea', 'glacier', 'buildings', 'buildings', 'sea', 'sea', 'street', 'buildings', 'street', 'glacier', 'forest', 'street', 'glacier', 'sea', 'glacier', 'forest', 'forest', 'buildings', 'glacier', 'glacier', 'mountain', 'street', 'street', 'buildings', 'glacier', 'sea', 'forest', 'buildings', 'glacier', 'forest', 'glacier', 'mountain', 'sea', 'buildings', 'glacier', 'glacier', 'street', 'sea', 'buildings', 'forest', 'glacier', 'mountain', 'glacier', 'street', 'street', 'mountain', 'buildings', 'buildings', 'sea', 'glacier', 'forest', 'mountain', 'glacier', 'sea', 'mountain', 'buildings', 'forest', 'forest', 'buildings', 'sea', 'buildings', 'buildings', 'buildings', 'mountain', 'mountain', 'street', 'glacier', 'street', 'street', 'buildings', 'sea', 'glacier', 'forest', 'street', 'mountain', 'street', 'mountain', 'buildings', 'street', 'buildings', 'sea', 'sea', 'street', 'mountain', 'glacier', 'street', 'buildings', 'buildings', 'mountain', 'mountain', 'glacier', 'mountain', 'street', 'buildings', 'glacier', 'street', 'sea', 'glacier', 'glacier', 'glacier', 'forest', 'mountain', 'glacier', 'street', 'forest', 'sea', 'glacier', 'glacier', 'street', 'mountain', 'street', 'forest', 'glacier', 'street', 'sea', 'sea', 'forest', 'mountain', 'glacier', 'forest', 'mountain', 'sea', 'sea', 'street', 'glacier', 'sea', 'glacier', 'glacier', 'glacier', 'mountain', 'sea', 'sea', 'sea', 'buildings', 'sea', 'sea', 'street', 'sea', 'glacier', 'sea', 'buildings', 'sea', 'mountain', 'forest', 'forest', 'street', 'street', 'street', 'glacier', 'mountain', 'street', 'mountain', 'buildings', 'buildings', 'sea', 'buildings', 'buildings', 'buildings', 'sea', 'buildings', 'forest', 'street', 'buildings', 'glacier', 'glacier', 'forest', 'street', 'buildings', 'buildings', 'sea', 'sea', 'mountain', 'glacier', 'glacier', 'mountain', 'street', 'mountain', 'glacier', 'forest', 'glacier', 'sea', 'glacier', 'street', 'forest', 'glacier', 'sea', 'glacier', 'glacier', 'mountain', 'sea', 'glacier', 'buildings', 'buildings', 'forest', 'sea', 'street', 'glacier', 'street', 'buildings', 'sea', 'mountain', 'forest', 'street', 'street', 'sea', 'mountain', 'forest', 'buildings', 'buildings', 'glacier', 'forest', 'glacier', 'mountain', 'sea', 'sea', 'glacier', 'mountain', 'sea', 'street', 'sea', 'street', 'buildings', 'buildings', 'sea', 'street', 'mountain', 'glacier', 'street', 'mountain', 'buildings', 'street', 'sea', 'buildings', 'glacier', 'sea', 'glacier', 'glacier', 'street', 'buildings', 'sea', 'sea', 'forest', 'forest', 'sea', 'buildings', 'mountain', 'glacier', 'mountain', 'buildings', 'forest', 'buildings', 'sea', 'buildings', 'buildings', 'street', 'buildings', 'forest', 'sea', 'street', 'glacier', 'sea', 'mountain', 'buildings', 'street', 'glacier', 'sea', 'mountain', 'sea', 'mountain', 'buildings', 'buildings', 'mountain', 'buildings', 'buildings', 'mountain', 'forest', 'glacier', 'sea', 'glacier', 'buildings', 'mountain', 'buildings', 'mountain', 'sea', 'buildings', 'glacier', 'sea', 'buildings', 'street', 'buildings', 'buildings', 'street', 'sea', 'mountain', 'mountain', 'mountain', 'forest', 'sea', 'sea', 'buildings', 'sea', 'glacier', 'sea', 'mountain', 'buildings', 'street', 'sea', 'sea', 'forest', 'buildings', 'sea', 'glacier', 'sea', 'sea', 'sea', 'sea', 'buildings', 'forest', 'glacier', 'buildings', 'street', 'mountain', 'glacier', 'glacier', 'mountain', 'glacier', 'sea', 'forest', 'glacier', 'sea', 'buildings', 'sea', 'buildings', 'forest', 'forest', 'forest', 'buildings', 'buildings', 'buildings', 'buildings', 'glacier', 'street', 'forest', 'sea', 'glacier', 'glacier', 'buildings', 'buildings', 'buildings', 'mountain', 'glacier', 'sea', 'glacier', 'mountain', 'glacier', 'mountain', 'forest', 'buildings', 'street', 'forest', 'mountain', 'buildings', 'sea', 'street', 'buildings', 'buildings', 'forest', 'mountain', 'buildings', 'mountain', 'street', 'street', 'glacier', 'sea', 'street', 'forest', 'sea', 'buildings', 'glacier', 'mountain', 'buildings', 'mountain', 'glacier', 'buildings', 'glacier', 'sea', 'sea', 'street', 'forest', 'sea', 'sea', 'forest', 'forest', 'glacier', 'sea', 'buildings', 'buildings', 'glacier', 'sea', 'forest', 'glacier', 'buildings', 'mountain', 'street', 'mountain', 'street', 'sea', 'forest', 'street', 'street', 'mountain', 'forest', 'buildings', 'buildings', 'street', 'glacier', 'buildings', 'forest', 'sea', 'street', 'forest', 'street', 'sea', 'mountain', 'mountain', 'glacier', 'buildings', 'street', 'street', 'street', 'mountain', 'forest', 'sea', 'street', 'mountain', 'mountain', 'sea', 'buildings', 'sea', 'glacier', 'sea', 'mountain', 'buildings', 'forest', 'forest', 'buildings', 'sea', 'street', 'sea', 'glacier', 'buildings', 'forest', 'glacier', 'buildings', 'forest', 'buildings', 'sea', 'sea', 'buildings', 'sea', 'buildings', 'mountain', 'forest', 'street', 'street', 'street', 'street', 'glacier', 'mountain', 'street', 'buildings', 'glacier', 'mountain', 'mountain', 'mountain', 'mountain', 'sea', 'glacier', 'mountain', 'forest', 'buildings', 'forest', 'forest', 'street', 'glacier', 'glacier', 'glacier', 'buildings', 'forest', 'buildings', 'glacier', 'glacier', 'mountain', 'forest', 'glacier', 'street', 'glacier', 'glacier', 'sea', 'glacier', 'street', 'glacier', 'mountain', 'glacier', 'mountain', 'forest', 'glacier', 'forest', 'sea', 'sea', 'street', 'sea', 'buildings', 'glacier', 'glacier', 'glacier', 'forest', 'glacier', 'mountain', 'forest', 'street', 'sea', 'sea', 'mountain', 'glacier', 'street', 'forest', 'forest', 'mountain', 'street', 'street', 'buildings', 'forest', 'buildings', 'street', 'street', 'forest', 'street', 'street', 'mountain', 'street', 'mountain', 'glacier', 'buildings', 'buildings', 'forest', 'forest', 'forest', 'buildings', 'mountain', 'glacier', 'mountain', 'street', 'street', 'sea', 'mountain', 'glacier', 'mountain', 'sea', 'street', 'mountain', 'glacier', 'buildings', 'sea', 'street', 'buildings', 'forest', 'street', 'mountain', 'street', 'sea', 'glacier', 'buildings', 'buildings', 'buildings', 'glacier', 'glacier', 'sea', 'forest', 'buildings', 'street', 'forest', 'buildings', 'street', 'buildings', 'buildings', 'street', 'buildings', 'sea', 'buildings', 'buildings', 'glacier', 'buildings', 'mountain', 'buildings', 'mountain', 'buildings', 'mountain', 'forest', 'street', 'mountain', 'mountain', 'buildings', 'street', 'sea', 'street', 'glacier', 'glacier', 'mountain', 'sea', 'mountain', 'forest', 'forest', 'street', 'mountain', 'mountain', 'forest', 'forest', 'buildings', 'buildings', 'mountain', 'street', 'buildings', 'glacier', 'forest', 'mountain', 'buildings', 'buildings', 'buildings', 'glacier', 'mountain', 'glacier', 'buildings', 'street', 'forest', 'mountain', 'sea', 'buildings', 'mountain', 'forest', 'sea', 'forest', 'forest', 'sea', 'mountain', 'buildings', 'forest', 'glacier', 'sea', 'buildings', 'street', 'mountain', 'mountain', 'buildings', 'buildings', 'street', 'mountain', 'sea', 'forest', 'sea', 'glacier', 'street', 'sea', 'glacier', 'street', 'glacier', 'mountain', 'sea', 'glacier', 'mountain', 'street', 'glacier', 'mountain', 'buildings', 'street', 'forest', 'glacier', 'forest', 'sea', 'forest', 'forest', 'forest', 'mountain', 'glacier', 'forest', 'forest', 'sea', 'mountain', 'glacier', 'mountain', 'glacier', 'forest', 'street', 'forest', 'street', 'mountain', 'mountain', 'mountain', 'street', 'street', 'forest', 'buildings', 'street', 'buildings', 'forest', 'buildings', 'street', 'buildings', 'glacier', 'street', 'forest', 'glacier', 'glacier', 'glacier', 'mountain', 'glacier', 'sea', 'glacier', 'forest', 'street', 'mountain', 'street', 'glacier', 'sea', 'street', 'forest', 'buildings', 'forest', 'mountain', 'mountain', 'forest', 'glacier', 'glacier', 'street', 'mountain', 'glacier', 'buildings', 'street', 'glacier', 'street', 'sea', 'buildings', 'street', 'forest', 'sea', 'glacier', 'buildings', 'mountain', 'forest', 'mountain', 'street', 'street', 'forest', 'glacier', 'street', 'buildings', 'buildings', 'forest', 'buildings', 'mountain', 'street', 'street', 'mountain', 'mountain', 'glacier', 'buildings', 'street', 'sea', 'sea', 'street', 'buildings', 'glacier', 'glacier', 'forest', 'forest', 'glacier', 'street', 'street', 'street', 'glacier', 'buildings', 'buildings', 'street', 'glacier', 'street', 'mountain', 'mountain', 'buildings', 'buildings', 'forest', 'forest', 'street', 'street', 'mountain', 'glacier', 'sea', 'forest', 'buildings', 'sea', 'mountain', 'sea', 'buildings', 'sea', 'buildings', 'mountain', 'sea', 'forest', 'glacier', 'buildings', 'forest', 'street', 'street', 'glacier', 'sea', 'street', 'buildings', 'buildings', 'glacier', 'street', 'sea', 'buildings', 'sea', 'glacier', 'street', 'forest', 'glacier', 'sea', 'forest', 'mountain', 'street', 'street', 'buildings', 'buildings', 'glacier', 'street', 'sea', 'forest', 'forest', 'glacier', 'sea', 'sea', 'buildings', 'glacier', 'sea', 'mountain', 'sea', 'street', 'street', 'sea', 'mountain', 'sea', 'forest', 'street', 'forest', 'sea', 'street', 'mountain', 'street', 'glacier', 'mountain', 'sea', 'mountain', 'street', 'mountain', 'forest', 'sea', 'street', 'street', 'mountain', 'forest', 'mountain', 'glacier', 'buildings', 'mountain', 'mountain', 'glacier', 'sea', 'street', 'forest', 'glacier', 'street', 'mountain', 'glacier', 'forest', 'sea', 'glacier', 'buildings', 'sea', 'buildings', 'buildings', 'buildings', 'buildings', 'buildings', 'forest', 'sea', 'glacier', 'mountain', 'mountain', 'street', 'sea', 'street', 'sea', 'glacier', 'sea', 'mountain', 'forest', 'mountain', 'sea', 'forest', 'street', 'sea', 'forest', 'buildings', 'glacier', 'mountain', 'glacier', 'mountain', 'mountain', 'mountain', 'street', 'buildings', 'sea', 'forest', 'forest', 'glacier', 'buildings', 'forest', 'mountain', 'glacier', 'forest', 'buildings', 'glacier', 'glacier', 'street', 'street', 'glacier', 'glacier', 'mountain', 'sea', 'sea', 'sea', 'mountain', 'mountain', 'mountain', 'street', 'street', 'mountain', 'glacier', 'forest', 'street', 'mountain', 'street', 'street', 'buildings', 'mountain', 'mountain', 'street', 'buildings', 'glacier', 'forest', 'mountain', 'mountain', 'forest', 'street', 'mountain', 'mountain', 'buildings', 'mountain', 'street', 'street', 'forest', 'mountain', 'mountain', 'glacier', 'buildings', 'street', 'street', 'forest', 'buildings', 'street', 'street', 'glacier', 'mountain', 'mountain', 'buildings', 'glacier', 'street', 'street', 'mountain', 'street', 'mountain', 'forest', 'mountain', 'sea', 'forest', 'forest', 'mountain', 'buildings', 'sea', 'glacier', 'mountain', 'sea', 'street', 'sea', 'buildings', 'mountain', 'sea', 'sea', 'mountain', 'glacier', 'glacier', 'buildings', 'sea', 'glacier', 'glacier', 'street', 'buildings', 'sea', 'sea', 'forest', 'buildings', 'mountain', 'forest', 'sea', 'forest', 'mountain', 'forest', 'buildings', 'street', 'sea', 'glacier', 'glacier', 'forest', 'forest', 'sea', 'glacier', 'mountain', 'buildings', 'buildings', 'mountain', 'street', 'glacier', 'glacier', 'buildings', 'sea', 'street', 'glacier', 'sea', 'glacier', 'sea', 'street', 'forest', 'street', 'glacier', 'glacier', 'mountain', 'glacier', 'street', 'street', 'sea', 'buildings', 'glacier', 'sea', 'forest', 'mountain', 'glacier', 'sea', 'buildings', 'buildings', 'forest', 'mountain', 'street', 'glacier', 'mountain', 'forest', 'street', 'street', 'mountain', 'glacier', 'buildings', 'sea', 'street', 'glacier', 'forest', 'buildings', 'forest', 'mountain', 'buildings', 'forest', 'sea', 'sea', 'glacier', 'glacier', 'sea', 'street', 'buildings', 'glacier', 'forest', 'sea', 'buildings', 'buildings', 'mountain', 'buildings', 'buildings', 'glacier', 'buildings', 'sea', 'mountain', 'glacier', 'mountain', 'sea', 'forest']\n"
     ]
    }
   ],
   "source": [
    "pred_labels = np.argmax(y_pred, axis=1)\n",
    "print(pred_labels)\n",
    "pred_names = [class_names[pred] for pred in pred_labels]\n",
    "print(pred_names)"
   ]
  },
  {
   "cell_type": "code",
   "execution_count": 67,
   "metadata": {},
   "outputs": [
    {
     "data": {
      "text/plain": [
       "<Axes: >"
      ]
     },
     "execution_count": 67,
     "metadata": {},
     "output_type": "execute_result"
    },
    {
     "data": {
      "image/png": "[encoded data removed]",
      "text/plain": [
       "<Figure size 640x480 with 2 Axes>"
      ]
     },
     "metadata": {},
     "output_type": "display_data"
    }
   ],
   "source": [
    "c_mat = confusion_matrix(y_test, pred_labels, normalize='true')\n",
    "sns.heatmap(c_mat, annot=True, xticklabels=class_names, yticklabels=class_names)"
   ]
  },
  {
   "cell_type": "code",
   "execution_count": 68,
   "metadata": {},
   "outputs": [
    {
     "name": "stdout",
     "output_type": "stream",
     "text": [
      "              precision    recall  f1-score   support\n",
      "\n",
      "           0       0.60      0.76      0.67       437\n",
      "           1       0.93      0.81      0.87       474\n",
      "           2       0.67      0.66      0.67       553\n",
      "           3       0.69      0.61      0.65       525\n",
      "           4       0.68      0.66      0.67       510\n",
      "           5       0.70      0.73      0.72       501\n",
      "\n",
      "    accuracy                           0.70      3000\n",
      "   macro avg       0.71      0.71      0.71      3000\n",
      "weighted avg       0.71      0.70      0.71      3000\n",
      "\n"
     ]
    }
   ],
   "source": [
    "from sklearn.metrics import classification_report\n",
    "\n",
    "print(classification_report(y_test, pred_labels))"
   ]
  },
  {
   "cell_type": "code",
   "execution_count": 71,
   "metadata": {},
   "outputs": [
    {
     "name": "stdout",
     "output_type": "stream",
     "text": [
      "Epoch 1/30\n",
      "88/88 [==============================] - 17s 173ms/step - loss: 1.4327 - accuracy: 0.4487 - val_loss: 1.3176 - val_accuracy: 0.4795\n",
      "Epoch 2/30\n",
      "88/88 [==============================] - 15s 166ms/step - loss: 1.0241 - accuracy: 0.6148 - val_loss: 1.2308 - val_accuracy: 0.5294\n",
      "Epoch 3/30\n",
      "88/88 [==============================] - 14s 159ms/step - loss: 0.9270 - accuracy: 0.6596 - val_loss: 1.0506 - val_accuracy: 0.6095\n",
      "Epoch 4/30\n",
      "88/88 [==============================] - 13s 153ms/step - loss: 0.8576 - accuracy: 0.6839 - val_loss: 1.2505 - val_accuracy: 0.5237\n",
      "Epoch 5/30\n",
      "88/88 [==============================] - 14s 161ms/step - loss: 0.7979 - accuracy: 0.7043 - val_loss: 1.0775 - val_accuracy: 0.5867\n",
      "Epoch 6/30\n",
      "88/88 [==============================] - 14s 158ms/step - loss: 0.7754 - accuracy: 0.7141 - val_loss: 0.9072 - val_accuracy: 0.6591\n",
      "Epoch 7/30\n",
      "88/88 [==============================] - 14s 160ms/step - loss: 0.7227 - accuracy: 0.7368 - val_loss: 1.0739 - val_accuracy: 0.6352\n",
      "Epoch 8/30\n",
      "88/88 [==============================] - 13s 153ms/step - loss: 0.7005 - accuracy: 0.7476 - val_loss: 0.9149 - val_accuracy: 0.6505\n",
      "Epoch 9/30\n",
      "88/88 [==============================] - 13s 152ms/step - loss: 0.6862 - accuracy: 0.7564 - val_loss: 0.8617 - val_accuracy: 0.6819\n",
      "Epoch 10/30\n",
      "88/88 [==============================] - 13s 151ms/step - loss: 0.6728 - accuracy: 0.7567 - val_loss: 0.9419 - val_accuracy: 0.6405\n",
      "Epoch 11/30\n",
      "88/88 [==============================] - 13s 150ms/step - loss: 0.6577 - accuracy: 0.7642 - val_loss: 0.9046 - val_accuracy: 0.6765\n",
      "Epoch 12/30\n",
      "88/88 [==============================] - 13s 148ms/step - loss: 0.6289 - accuracy: 0.7726 - val_loss: 1.0030 - val_accuracy: 0.6288\n",
      "Epoch 13/30\n",
      "88/88 [==============================] - 13s 150ms/step - loss: 0.6085 - accuracy: 0.7775 - val_loss: 0.8156 - val_accuracy: 0.7118\n",
      "Epoch 14/30\n",
      "88/88 [==============================] - 14s 157ms/step - loss: 0.5948 - accuracy: 0.7863 - val_loss: 0.8302 - val_accuracy: 0.6968\n",
      "Epoch 15/30\n",
      "88/88 [==============================] - 13s 152ms/step - loss: 0.5822 - accuracy: 0.7866 - val_loss: 1.0115 - val_accuracy: 0.6405\n",
      "Epoch 16/30\n",
      "88/88 [==============================] - 13s 149ms/step - loss: 0.5832 - accuracy: 0.7888 - val_loss: 0.8250 - val_accuracy: 0.7072\n",
      "Epoch 17/30\n",
      "88/88 [==============================] - 13s 152ms/step - loss: 0.5637 - accuracy: 0.7967 - val_loss: 0.9619 - val_accuracy: 0.6694\n",
      "Epoch 18/30\n",
      "88/88 [==============================] - 13s 152ms/step - loss: 0.5522 - accuracy: 0.8024 - val_loss: 0.8392 - val_accuracy: 0.7072\n"
     ]
    }
   ],
   "source": [
    "model_3 = keras.Sequential([\n",
    "    keras.layers.Conv2D(32, (3,3), input_shape=(64,64,3)),\n",
    "    keras.layers.MaxPooling2D(2,2),\n",
    "    keras.layers.Dropout(0.25),\n",
    "    keras.layers.Conv2D(16, (3,3)),\n",
    "    keras.layers.MaxPooling2D(2,2),\n",
    "    keras.layers.Dropout(0.25),\n",
    "    keras.layers.Flatten(),\n",
    "    keras.layers.Dense(32),\n",
    "    keras.layers.Dense(16),\n",
    "    keras.layers.Dense(6, activation=\"softmax\")\n",
    "])\n",
    "model_3.compile(optimizer=\"adam\", loss=\"sparse_categorical_crossentropy\", metrics=['accuracy'])\n",
    "history_3 = model_3.fit(\n",
    "    X_train,\n",
    "    y_train,\n",
    "    batch_size=128,\n",
    "    epochs=30,\n",
    "    validation_split=0.2,\n",
    "    callbacks=[keras.callbacks.EarlyStopping(patience=5)]\n",
    ")"
   ]
  },
  {
   "cell_type": "code",
   "execution_count": 72,
   "metadata": {},
   "outputs": [
    {
     "name": "stdout",
     "output_type": "stream",
     "text": [
      "94/94 [==============================] - 1s 9ms/step - loss: 0.8592 - accuracy: 0.7177\n"
     ]
    }
   ],
   "source": [
    "results = model_3.evaluate(X_test, y_test)"
   ]
  },
  {
   "cell_type": "code",
   "execution_count": null,
   "metadata": {},
   "outputs": [],
   "source": []
  }
 ],
 "metadata": {
  "kernelspec": {
   "display_name": "Python 3.7.4 64-bit",
   "language": "python",
   "name": "python3"
  },
  "language_info": {
   "codemirror_mode": {
    "name": "ipython",
    "version": 3
   },
   "file_extension": ".py",
   "mimetype": "text/x-python",
   "name": "python",
   "nbconvert_exporter": "python",
   "pygments_lexer": "ipython3",
   "version": "3.11.3"
  },
  "orig_nbformat": 4,
  "vscode": {
   "interpreter": {
    "hash": "90139cb9a825bf3d63f6f6704e828dbd1ff7edbd4d0c6e906a71235d6efc74af"
   }
  }
 },
 "nbformat": 4,
 "nbformat_minor": 2
}
