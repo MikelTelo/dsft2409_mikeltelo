{
 "cells": [
  {
   "attachments": {},
   "cell_type": "markdown",
   "metadata": {},
   "source": [
    "# Clasificador paisajes\n",
    "Para este ejercicio vas a crear un clasificador automático de paisajes. Los datos los encontrarás en el Classroom como `seg_train.zip` y `seg_test.zip`. Se pide:\n",
    "1. Cargar las imágenes. Mira cómo están almacenados los datos. Tendrás que recorrer las carpetas, cargar las imágenes en memoria y etiquetarlas con los nombres de las carpetas. Realiza un reshape de cada imagen (comienza el ejercicio con 32x32, para ir más rápido en las ejecuciones).\n",
    "2. Investiga las imágenes, comprueba con algunas muestras que has cargado bien los datos.\n",
    "3. Normaliza\n",
    "4. Diseña la arquitectura de la red. Recuerda que es un algoritmo de clasificación. Ojo con las dimensiones de la entrada\n",
    "5. Reserva un 20% de los datos del entrenamiento para validar.\n",
    "6. Representa el objeto history\n",
    "7. Evalua el modelo con los datos de test\n",
    "8. Representa algunos de los paisajes donde el modelo comete errores\n",
    "9. Crea una matriz de confusión con los errores del modelo\n",
    "\n",
    "**NOTA apartado 1**: para el apartado 1 tendras que recorre las carpetas/imagenes con `os.listdir()`, e ir cargando todas las imagenes como arrays de numpy\n",
    "\n",
    "**NOTA apartado 4**: empieza con un par de capas Conv2D + MaxPooling2D con activación relu y después la fully connected layer. on softmax como ultima capa"
   ]
  },
  {
   "cell_type": "code",
   "execution_count": 23,
   "metadata": {},
   "outputs": [],
   "source": [
    "import numpy as np\n",
    "import pandas as pd\n",
    "import matplotlib.pyplot as plt\n",
    "import seaborn as sns\n",
    "\n",
    "import os\n",
    "import cv2\n",
    "from skimage.io import imread\n",
    "\n",
    "from tensorflow import keras\n",
    "from sklearn.metrics import confusion_matrix"
   ]
  },
  {
   "cell_type": "code",
   "execution_count": 24,
   "metadata": {},
   "outputs": [
    {
     "data": {
      "text/plain": [
       "{'buildings': 0,\n",
       " 'forest': 1,\n",
       " 'glacier': 2,\n",
       " 'mountain': 3,\n",
       " 'sea': 4,\n",
       " 'street': 5}"
      ]
     },
     "execution_count": 24,
     "metadata": {},
     "output_type": "execute_result"
    }
   ],
   "source": [
    "class_names = ['buildings', 'forest', 'glacier', 'mountain', 'sea', 'street']\n",
    "class_names_label = {class_name:i for i, class_name in enumerate(class_names)}\n",
    "class_names_label"
   ]
  },
  {
   "cell_type": "code",
   "execution_count": 25,
   "metadata": {},
   "outputs": [],
   "source": [
    "#os.getcwd() + \"\\\\data\\\\seg_train\"\n",
    "TRAIN_PATH = \"C:/Users/mikel/OneDrive/Documentos/TB-DS-BIO-23.09.24/REPOSITORIOS/Mikel/perros_paisajes/clasificador_paisajes/seg_train\""
   ]
  },
  {
   "cell_type": "code",
   "execution_count": 26,
   "metadata": {},
   "outputs": [
    {
     "data": {
      "text/plain": [
       "['Clasificador_paisajes.ipynb', 'Clasificador_paisajes_MTA.ipynb']"
      ]
     },
     "execution_count": 26,
     "metadata": {},
     "output_type": "execute_result"
    }
   ],
   "source": [
    "os.listdir()"
   ]
  },
  {
   "cell_type": "code",
   "execution_count": 27,
   "metadata": {},
   "outputs": [
    {
     "name": "stdout",
     "output_type": "stream",
     "text": [
      "Ruta de entrenamiento válida: C:/Users/mikel/OneDrive/Documentos/TB-DS-BIO-23.09.24/REPOSITORIOS/Mikel/perros_paisajes/clasificador_paisajes/seg_train\n",
      "Ruta de prueba válida: C:/Users/mikel/OneDrive/Documentos/TB-DS-BIO-23.09.24/REPOSITORIOS/Mikel/perros_paisajes/clasificador_paisajes/seg_test\n"
     ]
    }
   ],
   "source": [
    "#IMAGE_SIZE = (32,32)\n",
    "#TRAIN_PATH = os.getcwd() + \"\\\\data\\\\seg_train\"\n",
    "#TEST_PATH = os.getcwd() + \"\\\\data\\\\seg_test\"\n",
    "\n",
    "IMAGE_SIZE = (32, 32)\n",
    "\n",
    "# Rutas actualizadas para los datos de entrenamiento y prueba\n",
    "TRAIN_PATH = \"C:/Users/mikel/OneDrive/Documentos/TB-DS-BIO-23.09.24/REPOSITORIOS/Mikel/perros_paisajes/clasificador_paisajes/seg_train\"\n",
    "TEST_PATH = \"C:/Users/mikel/OneDrive/Documentos/TB-DS-BIO-23.09.24/REPOSITORIOS/Mikel/perros_paisajes/clasificador_paisajes/seg_test\"\n",
    "\n",
    "# Verificar si las rutas son válidas\n",
    "import os\n",
    "\n",
    "if os.path.exists(TRAIN_PATH):\n",
    "    print(f\"Ruta de entrenamiento válida: {TRAIN_PATH}\")\n",
    "else:\n",
    "    print(f\"Ruta de entrenamiento no encontrada: {TRAIN_PATH}\")\n",
    "\n",
    "if os.path.exists(TEST_PATH):\n",
    "    print(f\"Ruta de prueba válida: {TEST_PATH}\")\n",
    "else:\n",
    "    print(f\"Ruta de prueba no encontrada: {TEST_PATH}\")\n"
   ]
  },
  {
   "cell_type": "code",
   "execution_count": 28,
   "metadata": {},
   "outputs": [],
   "source": [
    "def read_data(path, im_size):\n",
    "    X = []\n",
    "    y = []\n",
    "\n",
    "    for folder in os.listdir(path):\n",
    "        folder_path = os.path.join(path, folder)\n",
    "\n",
    "        # Procesar solo carpetas\n",
    "        if not os.path.isdir(folder_path):\n",
    "            print(f\"Ignorado: {folder_path} no es una carpeta.\")\n",
    "            continue\n",
    "\n",
    "        label = class_names_label.get(folder, None)\n",
    "        if label is None:\n",
    "            print(f\"Ignorado: {folder} no está en class_names_label.\")\n",
    "            continue\n",
    "\n",
    "        for file in os.listdir(folder_path):\n",
    "            image_path = os.path.join(folder_path, file)\n",
    "            try:\n",
    "                image = imread(image_path)\n",
    "                smallimage = cv2.resize(image, im_size)\n",
    "                X.append(smallimage)\n",
    "                y.append(label)\n",
    "            except Exception as e:\n",
    "                print(f\"Error en lectura de imagen {image_path}: {e}\")\n",
    "\n",
    "    return np.array(X), np.array(y)\n",
    "\n"
   ]
  },
  {
   "cell_type": "code",
   "execution_count": 29,
   "metadata": {},
   "outputs": [
    {
     "name": "stdout",
     "output_type": "stream",
     "text": [
      "Ignorado: C:/Users/mikel/OneDrive/Documentos/TB-DS-BIO-23.09.24/REPOSITORIOS/Mikel/perros_paisajes/clasificador_paisajes/seg_train\\ej_paisaje.h5 no es una carpeta.\n",
      "Ignorado: C:/Users/mikel/OneDrive/Documentos/TB-DS-BIO-23.09.24/REPOSITORIOS/Mikel/perros_paisajes/clasificador_paisajes/seg_test\\ej_paisaje.h5 no es una carpeta.\n",
      "(14034, 32, 32, 3)\n",
      "(3000, 32, 32, 3)\n",
      "(14034,)\n",
      "(3000,)\n"
     ]
    }
   ],
   "source": [
    "X_train, y_train = read_data(TRAIN_PATH, IMAGE_SIZE)\n",
    "X_test, y_test = read_data(TEST_PATH, IMAGE_SIZE)\n",
    "\n",
    "print(X_train.shape)\n",
    "print(X_test.shape)\n",
    "print(y_train.shape)\n",
    "print(y_test.shape)"
   ]
  },
  {
   "cell_type": "code",
   "execution_count": 30,
   "metadata": {},
   "outputs": [
    {
     "data": {
      "text/plain": [
       "3    2512\n",
       "2    2404\n",
       "5    2382\n",
       "4    2274\n",
       "1    2271\n",
       "0    2191\n",
       "Name: count, dtype: int64"
      ]
     },
     "execution_count": 30,
     "metadata": {},
     "output_type": "execute_result"
    }
   ],
   "source": [
    "pd.Series(y_train).value_counts()"
   ]
  },
  {
   "cell_type": "code",
   "execution_count": 31,
   "metadata": {},
   "outputs": [
    {
     "data": {
      "text/plain": [
       "2    553\n",
       "3    525\n",
       "4    510\n",
       "5    501\n",
       "1    474\n",
       "0    437\n",
       "Name: count, dtype: int64"
      ]
     },
     "execution_count": 31,
     "metadata": {},
     "output_type": "execute_result"
    }
   ],
   "source": [
    "pd.Series(y_test).value_counts()"
   ]
  },
  {
   "cell_type": "code",
   "execution_count": 32,
   "metadata": {},
   "outputs": [
    {
     "data": {
      "text/plain": [
       "array([0, 0, 0, 0, 0, 0, 0, 0, 0, 0, 0, 0, 0, 0, 0, 0, 0, 0, 0, 0, 0, 0,\n",
       "       0, 0, 0, 0, 0, 0, 0, 0, 0, 0, 0, 0, 0, 0, 0, 0, 0, 0, 0, 0, 0, 0,\n",
       "       0, 0, 0, 0, 0, 0, 0, 0, 0, 0, 0, 0, 0, 0, 0, 0, 0, 0, 0, 0, 0, 0,\n",
       "       0, 0, 0, 0, 0, 0, 0, 0, 0, 0, 0, 0, 0, 0, 0, 0, 0, 0, 0, 0, 0, 0,\n",
       "       0, 0, 0, 0, 0, 0, 0, 0, 0, 0, 0, 0])"
      ]
     },
     "execution_count": 32,
     "metadata": {},
     "output_type": "execute_result"
    }
   ],
   "source": [
    "y_train[:100]"
   ]
  },
  {
   "cell_type": "code",
   "execution_count": 33,
   "metadata": {},
   "outputs": [],
   "source": [
    "from sklearn.utils import shuffle\n",
    "\n",
    "X_train, y_train = shuffle(X_train, y_train, random_state=42)\n",
    "X_test, y_test = shuffle(X_test, y_test, random_state=42)"
   ]
  },
  {
   "cell_type": "code",
   "execution_count": 34,
   "metadata": {},
   "outputs": [
    {
     "data": {
      "text/plain": [
       "array([0, 5, 5, 4, 3, 2, 3, 3, 0, 5, 0, 3, 5, 4, 2, 4, 4, 5, 1, 3, 2, 0,\n",
       "       2, 2, 5, 1, 3, 5, 0, 3, 5, 5, 5, 2, 1, 2, 5, 4, 0, 1, 5, 1, 0, 4,\n",
       "       0, 5, 1, 2, 3, 5, 4, 0, 2, 3, 5, 4, 0, 4, 1, 3, 3, 2, 4, 4, 2, 3,\n",
       "       2, 1, 5, 3, 4, 1, 5, 1, 2, 1, 2, 1, 5, 3, 4, 5, 3, 1, 2, 3, 1, 4,\n",
       "       4, 0, 3, 3, 4, 1, 5, 1, 5, 4, 1, 2])"
      ]
     },
     "execution_count": 34,
     "metadata": {},
     "output_type": "execute_result"
    }
   ],
   "source": [
    "y_train[:100]"
   ]
  },
  {
   "cell_type": "code",
   "execution_count": 35,
   "metadata": {},
   "outputs": [
    {
     "name": "stdout",
     "output_type": "stream",
     "text": [
      "glacier\n"
     ]
    },
    {
     "data": {
      "image/png": "[encoded data removed]",
      "text/plain": [
       "<Figure size 640x480 with 1 Axes>"
      ]
     },
     "metadata": {},
     "output_type": "display_data"
    }
   ],
   "source": [
    "index = np.random.randint(X_train.shape[0])\n",
    "print(class_names[y_train[index]])\n",
    "plt.imshow(X_train[index]);"
   ]
  },
  {
   "cell_type": "code",
   "execution_count": 36,
   "metadata": {},
   "outputs": [
    {
     "data": {
      "text/plain": [
       "array([[[[225, 225, 225],\n",
       "         [221, 223, 222],\n",
       "         [221, 223, 222],\n",
       "         ...,\n",
       "         [237, 237, 237],\n",
       "         [238, 238, 238],\n",
       "         [240, 240, 240]],\n",
       "\n",
       "        [[230, 230, 230],\n",
       "         [227, 227, 227],\n",
       "         [232, 232, 232],\n",
       "         ...,\n",
       "         [244, 244, 244],\n",
       "         [244, 244, 244],\n",
       "         [246, 246, 246]],\n",
       "\n",
       "        [[ 55,  55,  55],\n",
       "         [223, 223, 223],\n",
       "         [ 88,  87,  88],\n",
       "         ...,\n",
       "         [245, 245, 245],\n",
       "         [246, 246, 246],\n",
       "         [246, 246, 246]],\n",
       "\n",
       "        ...,\n",
       "\n",
       "        [[114, 112, 111],\n",
       "         [ 97,  96,  94],\n",
       "         [125, 123, 124],\n",
       "         ...,\n",
       "         [ 90,  89,  87],\n",
       "         [ 88,  87,  85],\n",
       "         [ 92,  91,  89]],\n",
       "\n",
       "        [[153, 152, 150],\n",
       "         [113, 112, 110],\n",
       "         [123, 121, 122],\n",
       "         ...,\n",
       "         [ 83,  82,  79],\n",
       "         [ 68,  67,  65],\n",
       "         [ 80,  79,  77]],\n",
       "\n",
       "        [[131, 130, 128],\n",
       "         [133, 132, 130],\n",
       "         [128, 126, 125],\n",
       "         ...,\n",
       "         [128, 127, 125],\n",
       "         [138, 138, 136],\n",
       "         [130, 128, 129]]],\n",
       "\n",
       "\n",
       "       [[[ 92, 157, 223],\n",
       "         [ 93, 158, 224],\n",
       "         [ 93, 158, 224],\n",
       "         ...,\n",
       "         [147, 143, 157],\n",
       "         [163,  93,  44],\n",
       "         [201, 162,  82]],\n",
       "\n",
       "        [[ 94, 162, 225],\n",
       "         [ 94, 162, 225],\n",
       "         [ 94, 162, 225],\n",
       "         ...,\n",
       "         [150, 150, 167],\n",
       "         [176, 116,  69],\n",
       "         [198, 149,  58]],\n",
       "\n",
       "        [[ 99, 164, 226],\n",
       "         [100, 166, 226],\n",
       "         [ 97, 165, 226],\n",
       "         ...,\n",
       "         [169, 173, 204],\n",
       "         [137,  60,  35],\n",
       "         [171, 109,  44]],\n",
       "\n",
       "        ...,\n",
       "\n",
       "        [[ 98,  99, 103],\n",
       "         [ 97,  98, 101],\n",
       "         [107, 108, 110],\n",
       "         ...,\n",
       "         [112,  96,  88],\n",
       "         [114,  99,  91],\n",
       "         [111,  97,  84]],\n",
       "\n",
       "        [[ 79,  84,  88],\n",
       "         [102, 106, 109],\n",
       "         [113, 114, 117],\n",
       "         ...,\n",
       "         [111,  96,  86],\n",
       "         [106,  92,  82],\n",
       "         [111,  94,  84]],\n",
       "\n",
       "        [[108, 112, 113],\n",
       "         [109, 113, 114],\n",
       "         [110, 111, 112],\n",
       "         ...,\n",
       "         [111,  95,  87],\n",
       "         [103,  89,  78],\n",
       "         [119, 105,  96]]],\n",
       "\n",
       "\n",
       "       [[[185, 126, 110],\n",
       "         [187, 129, 111],\n",
       "         [221, 202, 196],\n",
       "         ...,\n",
       "         [171, 221, 254],\n",
       "         [172, 221, 254],\n",
       "         [175, 221, 254]],\n",
       "\n",
       "        [[185, 124, 119],\n",
       "         [189, 131, 119],\n",
       "         [203, 159, 147],\n",
       "         ...,\n",
       "         [177, 224, 254],\n",
       "         [178, 225, 254],\n",
       "         [180, 226, 252]],\n",
       "\n",
       "        [[184, 128, 115],\n",
       "         [186, 127, 113],\n",
       "         [175, 133, 126],\n",
       "         ...,\n",
       "         [183, 229, 253],\n",
       "         [185, 231, 255],\n",
       "         [184, 231, 254]],\n",
       "\n",
       "        ...,\n",
       "\n",
       "        [[108,  78,  75],\n",
       "         [103,  73,  71],\n",
       "         [104,  74,  72],\n",
       "         ...,\n",
       "         [151, 121, 122],\n",
       "         [159, 129, 130],\n",
       "         [168, 145, 139]],\n",
       "\n",
       "        [[101,  71,  69],\n",
       "         [105,  75,  73],\n",
       "         [106,  76,  76],\n",
       "         ...,\n",
       "         [137, 113, 112],\n",
       "         [142, 117, 117],\n",
       "         [139, 119, 118]],\n",
       "\n",
       "        [[108,  78,  76],\n",
       "         [113,  81,  80],\n",
       "         [111,  78,  77],\n",
       "         ...,\n",
       "         [140, 115, 111],\n",
       "         [143, 117, 116],\n",
       "         [141, 116, 115]]],\n",
       "\n",
       "\n",
       "       ...,\n",
       "\n",
       "\n",
       "       [[[157, 165, 184],\n",
       "         [152, 163, 181],\n",
       "         [160, 168, 189],\n",
       "         ...,\n",
       "         [179, 191, 207],\n",
       "         [180, 192, 208],\n",
       "         [182, 194, 210]],\n",
       "\n",
       "        [[163, 173, 191],\n",
       "         [159, 170, 188],\n",
       "         [158, 166, 185],\n",
       "         ...,\n",
       "         [186, 198, 214],\n",
       "         [183, 195, 211],\n",
       "         [182, 195, 211]],\n",
       "\n",
       "        [[164, 176, 192],\n",
       "         [164, 176, 192],\n",
       "         [163, 174, 192],\n",
       "         ...,\n",
       "         [189, 201, 217],\n",
       "         [186, 198, 214],\n",
       "         [184, 196, 212]],\n",
       "\n",
       "        ...,\n",
       "\n",
       "        [[ 29,  71,  90],\n",
       "         [ 68, 107, 125],\n",
       "         [ 95, 129, 141],\n",
       "         ...,\n",
       "         [117, 165, 189],\n",
       "         [159, 193, 202],\n",
       "         [ 92, 134, 151]],\n",
       "\n",
       "        [[ 89, 126, 143],\n",
       "         [ 64, 109, 127],\n",
       "         [ 89, 130, 152],\n",
       "         ...,\n",
       "         [108, 155, 177],\n",
       "         [ 94, 148, 173],\n",
       "         [134, 173, 191]],\n",
       "\n",
       "        [[167, 191, 199],\n",
       "         [ 92, 130, 148],\n",
       "         [ 76, 120, 138],\n",
       "         ...,\n",
       "         [ 92, 137, 164],\n",
       "         [102, 149, 173],\n",
       "         [ 93, 139, 162]]],\n",
       "\n",
       "\n",
       "       [[[ 98, 147, 203],\n",
       "         [ 99, 146, 202],\n",
       "         [ 98, 145, 201],\n",
       "         ...,\n",
       "         [ 65, 116, 179],\n",
       "         [ 65, 116, 179],\n",
       "         [ 64, 115, 178]],\n",
       "\n",
       "        [[100, 149, 205],\n",
       "         [100, 147, 203],\n",
       "         [ 99, 146, 202],\n",
       "         ...,\n",
       "         [ 67, 118, 181],\n",
       "         [ 67, 118, 181],\n",
       "         [ 63, 117, 179]],\n",
       "\n",
       "        [[103, 150, 206],\n",
       "         [102, 149, 205],\n",
       "         [100, 147, 205],\n",
       "         ...,\n",
       "         [ 68, 119, 184],\n",
       "         [ 69, 120, 185],\n",
       "         [ 66, 120, 182]],\n",
       "\n",
       "        ...,\n",
       "\n",
       "        [[ 64,  73,  71],\n",
       "         [ 53,  63,  59],\n",
       "         [ 71,  81,  83],\n",
       "         ...,\n",
       "         [ 97, 109, 119],\n",
       "         [ 69,  72,  86],\n",
       "         [144, 141, 148]],\n",
       "\n",
       "        [[ 51,  61,  57],\n",
       "         [ 48,  52,  44],\n",
       "         [ 72,  81,  71],\n",
       "         ...,\n",
       "         [ 46,  50,  61],\n",
       "         [ 53,  54,  69],\n",
       "         [ 56,  58,  64]],\n",
       "\n",
       "        [[ 90, 103,  33],\n",
       "         [ 96, 104,  39],\n",
       "         [ 99, 108,  45],\n",
       "         ...,\n",
       "         [ 44,  53,  62],\n",
       "         [ 18,  17,  19],\n",
       "         [ 27,  26,  18]]],\n",
       "\n",
       "\n",
       "       [[[131, 161, 199],\n",
       "         [133, 161, 200],\n",
       "         [133, 161, 200],\n",
       "         ...,\n",
       "         [157, 177, 204],\n",
       "         [149, 172, 204],\n",
       "         [145, 170, 201]],\n",
       "\n",
       "        [[131, 161, 199],\n",
       "         [133, 161, 200],\n",
       "         [133, 161, 200],\n",
       "         ...,\n",
       "         [157, 176, 204],\n",
       "         [160, 179, 210],\n",
       "         [161, 179, 208]],\n",
       "\n",
       "        [[131, 161, 199],\n",
       "         [133, 161, 200],\n",
       "         [134, 162, 201],\n",
       "         ...,\n",
       "         [168, 184, 207],\n",
       "         [157, 174, 200],\n",
       "         [151, 172, 203]],\n",
       "\n",
       "        ...,\n",
       "\n",
       "        [[104, 122, 157],\n",
       "         [104, 123, 155],\n",
       "         [117, 135, 164],\n",
       "         ...,\n",
       "         [139, 148, 170],\n",
       "         [130, 136, 163],\n",
       "         [109, 120, 151]],\n",
       "\n",
       "        [[103, 119, 162],\n",
       "         [102, 120, 159],\n",
       "         [109, 125, 163],\n",
       "         ...,\n",
       "         [118, 133, 162],\n",
       "         [119, 126, 159],\n",
       "         [113, 121, 157]],\n",
       "\n",
       "        [[ 91, 105, 144],\n",
       "         [ 98, 111, 150],\n",
       "         [ 98, 112, 150],\n",
       "         ...,\n",
       "         [113, 128, 157],\n",
       "         [114, 129, 158],\n",
       "         [113, 127, 157]]]], dtype=uint8)"
      ]
     },
     "execution_count": 36,
     "metadata": {},
     "output_type": "execute_result"
    }
   ],
   "source": [
    "X_train"
   ]
  },
  {
   "cell_type": "code",
   "execution_count": 37,
   "metadata": {},
   "outputs": [
    {
     "data": {
      "text/plain": [
       "np.uint8(225)"
      ]
     },
     "execution_count": 37,
     "metadata": {},
     "output_type": "execute_result"
    }
   ],
   "source": [
    "X_train[0][0][0][0]"
   ]
  },
  {
   "cell_type": "code",
   "execution_count": 38,
   "metadata": {},
   "outputs": [
    {
     "name": "stdout",
     "output_type": "stream",
     "text": [
      "0\n",
      "255\n"
     ]
    }
   ],
   "source": [
    "print(X_train.min())\n",
    "print(X_train.max())"
   ]
  },
  {
   "cell_type": "code",
   "execution_count": 39,
   "metadata": {},
   "outputs": [],
   "source": [
    "X_train = X_train/255\n",
    "X_test = X_test/255"
   ]
  },
  {
   "cell_type": "code",
   "execution_count": 40,
   "metadata": {},
   "outputs": [
    {
     "name": "stdout",
     "output_type": "stream",
     "text": [
      "0.0\n",
      "1.0\n"
     ]
    }
   ],
   "source": [
    "print(X_train.min())\n",
    "print(X_train.max())"
   ]
  },
  {
   "cell_type": "code",
   "execution_count": 41,
   "metadata": {},
   "outputs": [
    {
     "data": {
      "text/plain": [
       "(14034, 32, 32, 3)"
      ]
     },
     "execution_count": 41,
     "metadata": {},
     "output_type": "execute_result"
    }
   ],
   "source": [
    "X_train.shape"
   ]
  },
  {
   "cell_type": "code",
   "execution_count": 42,
   "metadata": {},
   "outputs": [
    {
     "name": "stderr",
     "output_type": "stream",
     "text": [
      "C:\\Users\\mikel\\AppData\\Roaming\\Python\\Python39\\site-packages\\keras\\src\\layers\\convolutional\\base_conv.py:107: UserWarning: Do not pass an `input_shape`/`input_dim` argument to a layer. When using Sequential models, prefer using an `Input(shape)` object as the first layer in the model instead.\n",
      "  super().__init__(activity_regularizer=activity_regularizer, **kwargs)\n"
     ]
    }
   ],
   "source": [
    "model = keras.Sequential([\n",
    "    keras.layers.Conv2D(64, (3,3), input_shape=(32,32,3)),\n",
    "    keras.layers.MaxPooling2D(2,2),\n",
    "    keras.layers.Conv2D(32, (3,3)),\n",
    "    keras.layers.MaxPooling2D(2,2),\n",
    "    keras.layers.Flatten(),\n",
    "    keras.layers.Dense(64),\n",
    "    keras.layers.Dense(16),\n",
    "    keras.layers.Dense(6, activation=\"softmax\")\n",
    "])"
   ]
  },
  {
   "cell_type": "code",
   "execution_count": 43,
   "metadata": {},
   "outputs": [
    {
     "data": {
      "text/html": [
       "<pre style=\"white-space:pre;overflow-x:auto;line-height:normal;font-family:Menlo,'DejaVu Sans Mono',consolas,'Courier New',monospace\"><span style=\"font-weight: bold\">Model: \"sequential\"</span>\n",
       "</pre>\n"
      ],
      "text/plain": [
       "\u001b[1mModel: \"sequential\"\u001b[0m\n"
      ]
     },
     "metadata": {},
     "output_type": "display_data"
    },
    {
     "data": {
      "text/html": [
       "<pre style=\"white-space:pre;overflow-x:auto;line-height:normal;font-family:Menlo,'DejaVu Sans Mono',consolas,'Courier New',monospace\">┏━━━━━━━━━━━━━━━━━━━━━━━━━━━━━━━━━┳━━━━━━━━━━━━━━━━━━━━━━━━┳━━━━━━━━━━━━━━━┓\n",
       "┃<span style=\"font-weight: bold\"> Layer (type)                    </span>┃<span style=\"font-weight: bold\"> Output Shape           </span>┃<span style=\"font-weight: bold\">       Param # </span>┃\n",
       "┡━━━━━━━━━━━━━━━━━━━━━━━━━━━━━━━━━╇━━━━━━━━━━━━━━━━━━━━━━━━╇━━━━━━━━━━━━━━━┩\n",
       "│ conv2d (<span style=\"color: #0087ff; text-decoration-color: #0087ff\">Conv2D</span>)                 │ (<span style=\"color: #00d7ff; text-decoration-color: #00d7ff\">None</span>, <span style=\"color: #00af00; text-decoration-color: #00af00\">30</span>, <span style=\"color: #00af00; text-decoration-color: #00af00\">30</span>, <span style=\"color: #00af00; text-decoration-color: #00af00\">64</span>)     │         <span style=\"color: #00af00; text-decoration-color: #00af00\">1,792</span> │\n",
       "├─────────────────────────────────┼────────────────────────┼───────────────┤\n",
       "│ max_pooling2d (<span style=\"color: #0087ff; text-decoration-color: #0087ff\">MaxPooling2D</span>)    │ (<span style=\"color: #00d7ff; text-decoration-color: #00d7ff\">None</span>, <span style=\"color: #00af00; text-decoration-color: #00af00\">15</span>, <span style=\"color: #00af00; text-decoration-color: #00af00\">15</span>, <span style=\"color: #00af00; text-decoration-color: #00af00\">64</span>)     │             <span style=\"color: #00af00; text-decoration-color: #00af00\">0</span> │\n",
       "├─────────────────────────────────┼────────────────────────┼───────────────┤\n",
       "│ conv2d_1 (<span style=\"color: #0087ff; text-decoration-color: #0087ff\">Conv2D</span>)               │ (<span style=\"color: #00d7ff; text-decoration-color: #00d7ff\">None</span>, <span style=\"color: #00af00; text-decoration-color: #00af00\">13</span>, <span style=\"color: #00af00; text-decoration-color: #00af00\">13</span>, <span style=\"color: #00af00; text-decoration-color: #00af00\">32</span>)     │        <span style=\"color: #00af00; text-decoration-color: #00af00\">18,464</span> │\n",
       "├─────────────────────────────────┼────────────────────────┼───────────────┤\n",
       "│ max_pooling2d_1 (<span style=\"color: #0087ff; text-decoration-color: #0087ff\">MaxPooling2D</span>)  │ (<span style=\"color: #00d7ff; text-decoration-color: #00d7ff\">None</span>, <span style=\"color: #00af00; text-decoration-color: #00af00\">6</span>, <span style=\"color: #00af00; text-decoration-color: #00af00\">6</span>, <span style=\"color: #00af00; text-decoration-color: #00af00\">32</span>)       │             <span style=\"color: #00af00; text-decoration-color: #00af00\">0</span> │\n",
       "├─────────────────────────────────┼────────────────────────┼───────────────┤\n",
       "│ flatten (<span style=\"color: #0087ff; text-decoration-color: #0087ff\">Flatten</span>)               │ (<span style=\"color: #00d7ff; text-decoration-color: #00d7ff\">None</span>, <span style=\"color: #00af00; text-decoration-color: #00af00\">1152</span>)           │             <span style=\"color: #00af00; text-decoration-color: #00af00\">0</span> │\n",
       "├─────────────────────────────────┼────────────────────────┼───────────────┤\n",
       "│ dense (<span style=\"color: #0087ff; text-decoration-color: #0087ff\">Dense</span>)                   │ (<span style=\"color: #00d7ff; text-decoration-color: #00d7ff\">None</span>, <span style=\"color: #00af00; text-decoration-color: #00af00\">64</span>)             │        <span style=\"color: #00af00; text-decoration-color: #00af00\">73,792</span> │\n",
       "├─────────────────────────────────┼────────────────────────┼───────────────┤\n",
       "│ dense_1 (<span style=\"color: #0087ff; text-decoration-color: #0087ff\">Dense</span>)                 │ (<span style=\"color: #00d7ff; text-decoration-color: #00d7ff\">None</span>, <span style=\"color: #00af00; text-decoration-color: #00af00\">16</span>)             │         <span style=\"color: #00af00; text-decoration-color: #00af00\">1,040</span> │\n",
       "├─────────────────────────────────┼────────────────────────┼───────────────┤\n",
       "│ dense_2 (<span style=\"color: #0087ff; text-decoration-color: #0087ff\">Dense</span>)                 │ (<span style=\"color: #00d7ff; text-decoration-color: #00d7ff\">None</span>, <span style=\"color: #00af00; text-decoration-color: #00af00\">6</span>)              │           <span style=\"color: #00af00; text-decoration-color: #00af00\">102</span> │\n",
       "└─────────────────────────────────┴────────────────────────┴───────────────┘\n",
       "</pre>\n"
      ],
      "text/plain": [
       "┏━━━━━━━━━━━━━━━━━━━━━━━━━━━━━━━━━┳━━━━━━━━━━━━━━━━━━━━━━━━┳━━━━━━━━━━━━━━━┓\n",
       "┃\u001b[1m \u001b[0m\u001b[1mLayer (type)                   \u001b[0m\u001b[1m \u001b[0m┃\u001b[1m \u001b[0m\u001b[1mOutput Shape          \u001b[0m\u001b[1m \u001b[0m┃\u001b[1m \u001b[0m\u001b[1m      Param #\u001b[0m\u001b[1m \u001b[0m┃\n",
       "┡━━━━━━━━━━━━━━━━━━━━━━━━━━━━━━━━━╇━━━━━━━━━━━━━━━━━━━━━━━━╇━━━━━━━━━━━━━━━┩\n",
       "│ conv2d (\u001b[38;5;33mConv2D\u001b[0m)                 │ (\u001b[38;5;45mNone\u001b[0m, \u001b[38;5;34m30\u001b[0m, \u001b[38;5;34m30\u001b[0m, \u001b[38;5;34m64\u001b[0m)     │         \u001b[38;5;34m1,792\u001b[0m │\n",
       "├─────────────────────────────────┼────────────────────────┼───────────────┤\n",
       "│ max_pooling2d (\u001b[38;5;33mMaxPooling2D\u001b[0m)    │ (\u001b[38;5;45mNone\u001b[0m, \u001b[38;5;34m15\u001b[0m, \u001b[38;5;34m15\u001b[0m, \u001b[38;5;34m64\u001b[0m)     │             \u001b[38;5;34m0\u001b[0m │\n",
       "├─────────────────────────────────┼────────────────────────┼───────────────┤\n",
       "│ conv2d_1 (\u001b[38;5;33mConv2D\u001b[0m)               │ (\u001b[38;5;45mNone\u001b[0m, \u001b[38;5;34m13\u001b[0m, \u001b[38;5;34m13\u001b[0m, \u001b[38;5;34m32\u001b[0m)     │        \u001b[38;5;34m18,464\u001b[0m │\n",
       "├─────────────────────────────────┼────────────────────────┼───────────────┤\n",
       "│ max_pooling2d_1 (\u001b[38;5;33mMaxPooling2D\u001b[0m)  │ (\u001b[38;5;45mNone\u001b[0m, \u001b[38;5;34m6\u001b[0m, \u001b[38;5;34m6\u001b[0m, \u001b[38;5;34m32\u001b[0m)       │             \u001b[38;5;34m0\u001b[0m │\n",
       "├─────────────────────────────────┼────────────────────────┼───────────────┤\n",
       "│ flatten (\u001b[38;5;33mFlatten\u001b[0m)               │ (\u001b[38;5;45mNone\u001b[0m, \u001b[38;5;34m1152\u001b[0m)           │             \u001b[38;5;34m0\u001b[0m │\n",
       "├─────────────────────────────────┼────────────────────────┼───────────────┤\n",
       "│ dense (\u001b[38;5;33mDense\u001b[0m)                   │ (\u001b[38;5;45mNone\u001b[0m, \u001b[38;5;34m64\u001b[0m)             │        \u001b[38;5;34m73,792\u001b[0m │\n",
       "├─────────────────────────────────┼────────────────────────┼───────────────┤\n",
       "│ dense_1 (\u001b[38;5;33mDense\u001b[0m)                 │ (\u001b[38;5;45mNone\u001b[0m, \u001b[38;5;34m16\u001b[0m)             │         \u001b[38;5;34m1,040\u001b[0m │\n",
       "├─────────────────────────────────┼────────────────────────┼───────────────┤\n",
       "│ dense_2 (\u001b[38;5;33mDense\u001b[0m)                 │ (\u001b[38;5;45mNone\u001b[0m, \u001b[38;5;34m6\u001b[0m)              │           \u001b[38;5;34m102\u001b[0m │\n",
       "└─────────────────────────────────┴────────────────────────┴───────────────┘\n"
      ]
     },
     "metadata": {},
     "output_type": "display_data"
    },
    {
     "data": {
      "text/html": [
       "<pre style=\"white-space:pre;overflow-x:auto;line-height:normal;font-family:Menlo,'DejaVu Sans Mono',consolas,'Courier New',monospace\"><span style=\"font-weight: bold\"> Total params: </span><span style=\"color: #00af00; text-decoration-color: #00af00\">95,190</span> (371.84 KB)\n",
       "</pre>\n"
      ],
      "text/plain": [
       "\u001b[1m Total params: \u001b[0m\u001b[38;5;34m95,190\u001b[0m (371.84 KB)\n"
      ]
     },
     "metadata": {},
     "output_type": "display_data"
    },
    {
     "data": {
      "text/html": [
       "<pre style=\"white-space:pre;overflow-x:auto;line-height:normal;font-family:Menlo,'DejaVu Sans Mono',consolas,'Courier New',monospace\"><span style=\"font-weight: bold\"> Trainable params: </span><span style=\"color: #00af00; text-decoration-color: #00af00\">95,190</span> (371.84 KB)\n",
       "</pre>\n"
      ],
      "text/plain": [
       "\u001b[1m Trainable params: \u001b[0m\u001b[38;5;34m95,190\u001b[0m (371.84 KB)\n"
      ]
     },
     "metadata": {},
     "output_type": "display_data"
    },
    {
     "data": {
      "text/html": [
       "<pre style=\"white-space:pre;overflow-x:auto;line-height:normal;font-family:Menlo,'DejaVu Sans Mono',consolas,'Courier New',monospace\"><span style=\"font-weight: bold\"> Non-trainable params: </span><span style=\"color: #00af00; text-decoration-color: #00af00\">0</span> (0.00 B)\n",
       "</pre>\n"
      ],
      "text/plain": [
       "\u001b[1m Non-trainable params: \u001b[0m\u001b[38;5;34m0\u001b[0m (0.00 B)\n"
      ]
     },
     "metadata": {},
     "output_type": "display_data"
    }
   ],
   "source": [
    "model.summary()"
   ]
  },
  {
   "cell_type": "code",
   "execution_count": 44,
   "metadata": {},
   "outputs": [
    {
     "data": {
      "text/plain": [
       "1792"
      ]
     },
     "execution_count": 44,
     "metadata": {},
     "output_type": "execute_result"
    }
   ],
   "source": [
    "64 * (3*3) * 3 + 64"
   ]
  },
  {
   "cell_type": "code",
   "execution_count": 45,
   "metadata": {},
   "outputs": [
    {
     "data": {
      "text/plain": [
       "18464"
      ]
     },
     "execution_count": 45,
     "metadata": {},
     "output_type": "execute_result"
    }
   ],
   "source": [
    "32 * (3*3) * 64 + 32"
   ]
  },
  {
   "cell_type": "code",
   "execution_count": 46,
   "metadata": {},
   "outputs": [
    {
     "data": {
      "text/plain": [
       "1152"
      ]
     },
     "execution_count": 46,
     "metadata": {},
     "output_type": "execute_result"
    }
   ],
   "source": [
    "6*6*32"
   ]
  },
  {
   "cell_type": "code",
   "execution_count": 47,
   "metadata": {},
   "outputs": [],
   "source": [
    "model.compile(optimizer=\"adam\", loss=\"sparse_categorical_crossentropy\", metrics=['accuracy'])"
   ]
  },
  {
   "cell_type": "code",
   "execution_count": 48,
   "metadata": {},
   "outputs": [
    {
     "data": {
      "text/plain": [
       "87.7125"
      ]
     },
     "execution_count": 48,
     "metadata": {},
     "output_type": "execute_result"
    }
   ],
   "source": [
    "14034 * 0.8 /128 "
   ]
  },
  {
   "cell_type": "code",
   "execution_count": 49,
   "metadata": {},
   "outputs": [
    {
     "name": "stdout",
     "output_type": "stream",
     "text": [
      "Epoch 1/20\n",
      "\u001b[1m88/88\u001b[0m \u001b[32m━━━━━━━━━━━━━━━━━━━━\u001b[0m\u001b[37m\u001b[0m \u001b[1m4s\u001b[0m 34ms/step - accuracy: 0.4475 - loss: 1.3912 - val_accuracy: 0.5907 - val_loss: 1.0574\n",
      "Epoch 2/20\n",
      "\u001b[1m88/88\u001b[0m \u001b[32m━━━━━━━━━━━━━━━━━━━━\u001b[0m\u001b[37m\u001b[0m \u001b[1m3s\u001b[0m 31ms/step - accuracy: 0.6302 - loss: 0.9982 - val_accuracy: 0.6388 - val_loss: 0.9511\n",
      "Epoch 3/20\n",
      "\u001b[1m88/88\u001b[0m \u001b[32m━━━━━━━━━━━━━━━━━━━━\u001b[0m\u001b[37m\u001b[0m \u001b[1m3s\u001b[0m 30ms/step - accuracy: 0.6788 - loss: 0.8691 - val_accuracy: 0.6926 - val_loss: 0.8401\n",
      "Epoch 4/20\n",
      "\u001b[1m88/88\u001b[0m \u001b[32m━━━━━━━━━━━━━━━━━━━━\u001b[0m\u001b[37m\u001b[0m \u001b[1m3s\u001b[0m 29ms/step - accuracy: 0.6927 - loss: 0.8265 - val_accuracy: 0.6979 - val_loss: 0.8217\n",
      "Epoch 5/20\n",
      "\u001b[1m88/88\u001b[0m \u001b[32m━━━━━━━━━━━━━━━━━━━━\u001b[0m\u001b[37m\u001b[0m \u001b[1m3s\u001b[0m 29ms/step - accuracy: 0.7237 - loss: 0.7658 - val_accuracy: 0.6637 - val_loss: 0.9169\n",
      "Epoch 6/20\n",
      "\u001b[1m88/88\u001b[0m \u001b[32m━━━━━━━━━━━━━━━━━━━━\u001b[0m\u001b[37m\u001b[0m \u001b[1m3s\u001b[0m 31ms/step - accuracy: 0.7295 - loss: 0.7477 - val_accuracy: 0.6990 - val_loss: 0.8182\n",
      "Epoch 7/20\n",
      "\u001b[1m88/88\u001b[0m \u001b[32m━━━━━━━━━━━━━━━━━━━━\u001b[0m\u001b[37m\u001b[0m \u001b[1m3s\u001b[0m 31ms/step - accuracy: 0.7478 - loss: 0.7114 - val_accuracy: 0.7168 - val_loss: 0.7835\n",
      "Epoch 8/20\n",
      "\u001b[1m88/88\u001b[0m \u001b[32m━━━━━━━━━━━━━━━━━━━━\u001b[0m\u001b[37m\u001b[0m \u001b[1m3s\u001b[0m 31ms/step - accuracy: 0.7595 - loss: 0.6716 - val_accuracy: 0.7207 - val_loss: 0.7873\n",
      "Epoch 9/20\n",
      "\u001b[1m88/88\u001b[0m \u001b[32m━━━━━━━━━━━━━━━━━━━━\u001b[0m\u001b[37m\u001b[0m \u001b[1m3s\u001b[0m 30ms/step - accuracy: 0.7843 - loss: 0.6297 - val_accuracy: 0.7143 - val_loss: 0.7880\n",
      "Epoch 10/20\n",
      "\u001b[1m88/88\u001b[0m \u001b[32m━━━━━━━━━━━━━━━━━━━━\u001b[0m\u001b[37m\u001b[0m \u001b[1m3s\u001b[0m 31ms/step - accuracy: 0.7732 - loss: 0.6280 - val_accuracy: 0.6961 - val_loss: 0.8305\n",
      "Epoch 11/20\n",
      "\u001b[1m88/88\u001b[0m \u001b[32m━━━━━━━━━━━━━━━━━━━━\u001b[0m\u001b[37m\u001b[0m \u001b[1m3s\u001b[0m 32ms/step - accuracy: 0.7832 - loss: 0.6108 - val_accuracy: 0.7186 - val_loss: 0.7795\n",
      "Epoch 12/20\n",
      "\u001b[1m88/88\u001b[0m \u001b[32m━━━━━━━━━━━━━━━━━━━━\u001b[0m\u001b[37m\u001b[0m \u001b[1m3s\u001b[0m 34ms/step - accuracy: 0.8006 - loss: 0.5620 - val_accuracy: 0.7040 - val_loss: 0.8314\n",
      "Epoch 13/20\n",
      "\u001b[1m88/88\u001b[0m \u001b[32m━━━━━━━━━━━━━━━━━━━━\u001b[0m\u001b[37m\u001b[0m \u001b[1m3s\u001b[0m 31ms/step - accuracy: 0.8078 - loss: 0.5445 - val_accuracy: 0.7154 - val_loss: 0.7936\n",
      "Epoch 14/20\n",
      "\u001b[1m88/88\u001b[0m \u001b[32m━━━━━━━━━━━━━━━━━━━━\u001b[0m\u001b[37m\u001b[0m \u001b[1m3s\u001b[0m 31ms/step - accuracy: 0.8204 - loss: 0.5090 - val_accuracy: 0.6936 - val_loss: 0.9043\n",
      "Epoch 15/20\n",
      "\u001b[1m88/88\u001b[0m \u001b[32m━━━━━━━━━━━━━━━━━━━━\u001b[0m\u001b[37m\u001b[0m \u001b[1m3s\u001b[0m 29ms/step - accuracy: 0.8267 - loss: 0.5002 - val_accuracy: 0.7036 - val_loss: 0.8552\n",
      "Epoch 16/20\n",
      "\u001b[1m88/88\u001b[0m \u001b[32m━━━━━━━━━━━━━━━━━━━━\u001b[0m\u001b[37m\u001b[0m \u001b[1m3s\u001b[0m 30ms/step - accuracy: 0.8373 - loss: 0.4694 - val_accuracy: 0.6958 - val_loss: 0.9065\n",
      "Epoch 17/20\n",
      "\u001b[1m88/88\u001b[0m \u001b[32m━━━━━━━━━━━━━━━━━━━━\u001b[0m\u001b[37m\u001b[0m \u001b[1m3s\u001b[0m 30ms/step - accuracy: 0.8370 - loss: 0.4557 - val_accuracy: 0.7111 - val_loss: 0.8973\n",
      "Epoch 18/20\n",
      "\u001b[1m88/88\u001b[0m \u001b[32m━━━━━━━━━━━━━━━━━━━━\u001b[0m\u001b[37m\u001b[0m \u001b[1m3s\u001b[0m 30ms/step - accuracy: 0.8476 - loss: 0.4302 - val_accuracy: 0.7082 - val_loss: 0.9073\n",
      "Epoch 19/20\n",
      "\u001b[1m88/88\u001b[0m \u001b[32m━━━━━━━━━━━━━━━━━━━━\u001b[0m\u001b[37m\u001b[0m \u001b[1m3s\u001b[0m 30ms/step - accuracy: 0.8608 - loss: 0.4032 - val_accuracy: 0.7143 - val_loss: 0.9270\n",
      "Epoch 20/20\n",
      "\u001b[1m88/88\u001b[0m \u001b[32m━━━━━━━━━━━━━━━━━━━━\u001b[0m\u001b[37m\u001b[0m \u001b[1m3s\u001b[0m 31ms/step - accuracy: 0.8639 - loss: 0.3871 - val_accuracy: 0.6983 - val_loss: 0.9618\n"
     ]
    }
   ],
   "source": [
    "history = model.fit(\n",
    "    X_train,\n",
    "    y_train,\n",
    "    batch_size=128,\n",
    "    epochs=20,\n",
    "    validation_split=0.2\n",
    ")"
   ]
  },
  {
   "cell_type": "code",
   "execution_count": 50,
   "metadata": {},
   "outputs": [
    {
     "data": {
      "text/plain": [
       "<matplotlib.legend.Legend at 0x173b219bd30>"
      ]
     },
     "execution_count": 50,
     "metadata": {},
     "output_type": "execute_result"
    },
    {
     "data": {
      "image/png": "[encoded data removed]",
      "text/plain": [
       "<Figure size 640x480 with 1 Axes>"
      ]
     },
     "metadata": {},
     "output_type": "display_data"
    }
   ],
   "source": [
    "df_hist = pd.DataFrame(history.history, index=np.arange(1,21))\n",
    "plt.plot(df_hist['val_accuracy'], label=\"Val accuracy\")\n",
    "plt.plot(df_hist['accuracy'], label=\"Train accuracy\")\n",
    "plt.title(\"Training CNN\")\n",
    "plt.xlabel(\"Epochs\")\n",
    "plt.ylabel(\"Accuracy\")\n",
    "plt.xticks(range(1,21))\n",
    "plt.legend()"
   ]
  },
  {
   "cell_type": "code",
   "execution_count": 51,
   "metadata": {},
   "outputs": [
    {
     "name": "stdout",
     "output_type": "stream",
     "text": [
      "\u001b[1m94/94\u001b[0m \u001b[32m━━━━━━━━━━━━━━━━━━━━\u001b[0m\u001b[37m\u001b[0m \u001b[1m0s\u001b[0m 5ms/step - accuracy: 0.6958 - loss: 0.9999\n"
     ]
    }
   ],
   "source": [
    "results = model.evaluate(X_test, y_test)"
   ]
  },
  {
   "cell_type": "code",
   "execution_count": 52,
   "metadata": {},
   "outputs": [
    {
     "name": "stdout",
     "output_type": "stream",
     "text": [
      "\u001b[1m94/94\u001b[0m \u001b[32m━━━━━━━━━━━━━━━━━━━━\u001b[0m\u001b[37m\u001b[0m \u001b[1m0s\u001b[0m 4ms/step\n"
     ]
    },
    {
     "data": {
      "text/plain": [
       "array([[0.  , 0.  , 0.22, 0.77, 0.  , 0.  ],\n",
       "       [0.01, 0.  , 0.43, 0.  , 0.03, 0.52],\n",
       "       [0.  , 0.  , 0.06, 0.35, 0.59, 0.  ],\n",
       "       ...,\n",
       "       [0.24, 0.  , 0.16, 0.22, 0.38, 0.  ],\n",
       "       [0.  , 0.  , 0.  , 0.  , 0.99, 0.  ],\n",
       "       [0.  , 0.7 , 0.  , 0.  , 0.  , 0.3 ]], dtype=float32)"
      ]
     },
     "execution_count": 52,
     "metadata": {},
     "output_type": "execute_result"
    }
   ],
   "source": [
    "y_pred = model.predict(X_test)\n",
    "y_pred.round(2)"
   ]
  },
  {
   "cell_type": "code",
   "execution_count": 53,
   "metadata": {},
   "outputs": [],
   "source": [
    "IMAGE_SIZE = (64,64)"
   ]
  },
  {
   "cell_type": "code",
   "execution_count": 55,
   "metadata": {},
   "outputs": [
    {
     "name": "stdout",
     "output_type": "stream",
     "text": [
      "Ignorado: C:/Users/mikel/OneDrive/Documentos/TB-DS-BIO-23.09.24/REPOSITORIOS/Mikel/perros_paisajes/clasificador_paisajes/seg_train\\ej_paisaje.h5 no es una carpeta.\n",
      "Ignorado: C:/Users/mikel/OneDrive/Documentos/TB-DS-BIO-23.09.24/REPOSITORIOS/Mikel/perros_paisajes/clasificador_paisajes/seg_test\\ej_paisaje.h5 no es una carpeta.\n",
      "(14034, 64, 64, 3)\n",
      "(3000, 64, 64, 3)\n",
      "(14034,)\n",
      "(3000,)\n"
     ]
    }
   ],
   "source": [
    "X_train, y_train = read_data(TRAIN_PATH, IMAGE_SIZE)\n",
    "X_test, y_test = read_data(TEST_PATH, IMAGE_SIZE)\n",
    "\n",
    "print(X_train.shape)\n",
    "print(X_test.shape)\n",
    "print(y_train.shape)\n",
    "print(y_test.shape)"
   ]
  },
  {
   "cell_type": "code",
   "execution_count": 56,
   "metadata": {},
   "outputs": [],
   "source": [
    "X_train, y_train = shuffle(X_train, y_train, random_state=42)\n",
    "X_test, y_test = shuffle(X_test, y_test, random_state=42)\n",
    "X_train = X_train/255\n",
    "X_test = X_test/255"
   ]
  },
  {
   "cell_type": "code",
   "execution_count": 57,
   "metadata": {},
   "outputs": [
    {
     "name": "stdout",
     "output_type": "stream",
     "text": [
      "(14034, 64, 64, 3)\n"
     ]
    }
   ],
   "source": [
    "print(X_train.shape)"
   ]
  },
  {
   "cell_type": "code",
   "execution_count": 58,
   "metadata": {},
   "outputs": [
    {
     "name": "stdout",
     "output_type": "stream",
     "text": [
      "Epoch 1/30\n",
      "\u001b[1m176/176\u001b[0m \u001b[32m━━━━━━━━━━━━━━━━━━━━\u001b[0m\u001b[37m\u001b[0m \u001b[1m24s\u001b[0m 126ms/step - accuracy: 0.4999 - loss: 1.2995 - val_accuracy: 0.6812 - val_loss: 0.8346\n",
      "Epoch 2/30\n",
      "\u001b[1m176/176\u001b[0m \u001b[32m━━━━━━━━━━━━━━━━━━━━\u001b[0m\u001b[37m\u001b[0m \u001b[1m22s\u001b[0m 124ms/step - accuracy: 0.6886 - loss: 0.8412 - val_accuracy: 0.7114 - val_loss: 0.7704\n",
      "Epoch 3/30\n",
      "\u001b[1m176/176\u001b[0m \u001b[32m━━━━━━━━━━━━━━━━━━━━\u001b[0m\u001b[37m\u001b[0m \u001b[1m21s\u001b[0m 121ms/step - accuracy: 0.7380 - loss: 0.7278 - val_accuracy: 0.6698 - val_loss: 0.8786\n",
      "Epoch 4/30\n",
      "\u001b[1m176/176\u001b[0m \u001b[32m━━━━━━━━━━━━━━━━━━━━\u001b[0m\u001b[37m\u001b[0m \u001b[1m22s\u001b[0m 127ms/step - accuracy: 0.7615 - loss: 0.6693 - val_accuracy: 0.7353 - val_loss: 0.7204\n",
      "Epoch 5/30\n",
      "\u001b[1m176/176\u001b[0m \u001b[32m━━━━━━━━━━━━━━━━━━━━\u001b[0m\u001b[37m\u001b[0m \u001b[1m21s\u001b[0m 120ms/step - accuracy: 0.8033 - loss: 0.5600 - val_accuracy: 0.7399 - val_loss: 0.7598\n",
      "Epoch 6/30\n",
      "\u001b[1m176/176\u001b[0m \u001b[32m━━━━━━━━━━━━━━━━━━━━\u001b[0m\u001b[37m\u001b[0m \u001b[1m21s\u001b[0m 119ms/step - accuracy: 0.8286 - loss: 0.4834 - val_accuracy: 0.7357 - val_loss: 0.8230\n",
      "Epoch 7/30\n",
      "\u001b[1m176/176\u001b[0m \u001b[32m━━━━━━━━━━━━━━━━━━━━\u001b[0m\u001b[37m\u001b[0m \u001b[1m21s\u001b[0m 121ms/step - accuracy: 0.8610 - loss: 0.3983 - val_accuracy: 0.7150 - val_loss: 0.9605\n",
      "Epoch 8/30\n",
      "\u001b[1m176/176\u001b[0m \u001b[32m━━━━━━━━━━━━━━━━━━━━\u001b[0m\u001b[37m\u001b[0m \u001b[1m21s\u001b[0m 122ms/step - accuracy: 0.8831 - loss: 0.3313 - val_accuracy: 0.6940 - val_loss: 1.0359\n",
      "Epoch 9/30\n",
      "\u001b[1m176/176\u001b[0m \u001b[32m━━━━━━━━━━━━━━━━━━━━\u001b[0m\u001b[37m\u001b[0m \u001b[1m22s\u001b[0m 127ms/step - accuracy: 0.9107 - loss: 0.2449 - val_accuracy: 0.7111 - val_loss: 1.1758\n"
     ]
    }
   ],
   "source": [
    "model_2 = keras.Sequential([\n",
    "    keras.layers.Conv2D(64, (3,3), input_shape=(64,64,3)),\n",
    "    keras.layers.MaxPooling2D(2,2),\n",
    "    keras.layers.Conv2D(128, (3,3)),\n",
    "    keras.layers.MaxPooling2D(2,2),\n",
    "    keras.layers.Conv2D(64, (3,3)),\n",
    "    keras.layers.MaxPooling2D(2,2),\n",
    "    keras.layers.Flatten(),\n",
    "    keras.layers.Dense(64),\n",
    "    keras.layers.Dense(32),\n",
    "    keras.layers.Dense(6, activation=\"softmax\")\n",
    "])\n",
    "model_2.compile(optimizer=\"adam\", loss=\"sparse_categorical_crossentropy\", metrics=['accuracy'])\n",
    "history_2 = model_2.fit(\n",
    "    X_train,\n",
    "    y_train,\n",
    "    batch_size=64,\n",
    "    epochs=30,\n",
    "    validation_split=0.2,\n",
    "    callbacks=[keras.callbacks.EarlyStopping(patience=5)]\n",
    ")"
   ]
  },
  {
   "cell_type": "code",
   "execution_count": 61,
   "metadata": {},
   "outputs": [
    {
     "data": {
      "text/plain": [
       "<matplotlib.legend.Legend at 0x173d371f6a0>"
      ]
     },
     "execution_count": 61,
     "metadata": {},
     "output_type": "execute_result"
    },
    {
     "data": {
      "image/png": "[encoded data removed]",
      "text/plain": [
       "<Figure size 640x480 with 1 Axes>"
      ]
     },
     "metadata": {},
     "output_type": "display_data"
    }
   ],
   "source": [
    "df_hist = pd.DataFrame(history_2.history, index=np.arange(1,10))\n",
    "plt.plot(df_hist['val_accuracy'], label=\"Val accuracy\")\n",
    "plt.plot(df_hist['accuracy'], label=\"Train accuracy\")\n",
    "plt.title(\"Training CNN\")\n",
    "plt.xlabel(\"Epochs\")\n",
    "plt.ylabel(\"Accuracy\")\n",
    "plt.xticks(range(1,11))\n",
    "plt.legend()"
   ]
  },
  {
   "cell_type": "code",
   "execution_count": 62,
   "metadata": {},
   "outputs": [
    {
     "name": "stdout",
     "output_type": "stream",
     "text": [
      "\u001b[1m94/94\u001b[0m \u001b[32m━━━━━━━━━━━━━━━━━━━━\u001b[0m\u001b[37m\u001b[0m \u001b[1m2s\u001b[0m 20ms/step - accuracy: 0.7052 - loss: 1.1764\n"
     ]
    }
   ],
   "source": [
    "results = model_2.evaluate(X_test, y_test)"
   ]
  },
  {
   "cell_type": "code",
   "execution_count": 63,
   "metadata": {},
   "outputs": [
    {
     "name": "stdout",
     "output_type": "stream",
     "text": [
      "\u001b[1m94/94\u001b[0m \u001b[32m━━━━━━━━━━━━━━━━━━━━\u001b[0m\u001b[37m\u001b[0m \u001b[1m2s\u001b[0m 19ms/step\n"
     ]
    },
    {
     "data": {
      "text/plain": [
       "array([[0.  , 0.  , 0.15, 0.85, 0.  , 0.  ],\n",
       "       [0.  , 0.  , 1.  , 0.  , 0.  , 0.  ],\n",
       "       [0.  , 0.  , 0.  , 0.88, 0.11, 0.  ],\n",
       "       ...,\n",
       "       [0.  , 0.  , 0.07, 0.69, 0.23, 0.  ],\n",
       "       [0.  , 0.  , 0.  , 0.04, 0.95, 0.  ],\n",
       "       [0.  , 0.98, 0.  , 0.  , 0.  , 0.02]], dtype=float32)"
      ]
     },
     "execution_count": 63,
     "metadata": {},
     "output_type": "execute_result"
    }
   ],
   "source": [
    "y_pred = model_2.predict(X_test)\n",
    "y_pred.round(2)"
   ]
  },
  {
   "cell_type": "code",
   "execution_count": 64,
   "metadata": {},
   "outputs": [
    {
     "name": "stdout",
     "output_type": "stream",
     "text": [
      "mountain\n"
     ]
    },
    {
     "data": {
      "text/plain": [
       "<matplotlib.image.AxesImage at 0x173c4e1c4f0>"
      ]
     },
     "execution_count": 64,
     "metadata": {},
     "output_type": "execute_result"
    },
    {
     "data": {
      "image/png": "[encoded data removed]",
      "text/plain": [
       "<Figure size 640x480 with 1 Axes>"
      ]
     },
     "metadata": {},
     "output_type": "display_data"
    }
   ],
   "source": [
    "print(class_names[y_test[0]])\n",
    "plt.imshow(X_test[0])"
   ]
  },
  {
   "cell_type": "code",
   "execution_count": 65,
   "metadata": {},
   "outputs": [
    {
     "name": "stdout",
     "output_type": "stream",
     "text": [
      "[3 2 3 ... 3 4 1]\n",
      "['mountain', 'glacier', 'mountain', 'street', 'street', 'glacier', 'glacier', 'glacier', 'buildings', 'street', 'sea', 'buildings', 'street', 'mountain', 'street', 'forest', 'glacier', 'forest', 'street', 'street', 'glacier', 'mountain', 'glacier', 'mountain', 'glacier', 'sea', 'street', 'glacier', 'buildings', 'mountain', 'glacier', 'mountain', 'forest', 'street', 'buildings', 'buildings', 'mountain', 'mountain', 'buildings', 'glacier', 'mountain', 'buildings', 'buildings', 'forest', 'glacier', 'glacier', 'sea', 'buildings', 'buildings', 'glacier', 'glacier', 'forest', 'buildings', 'buildings', 'buildings', 'street', 'glacier', 'forest', 'buildings', 'glacier', 'forest', 'forest', 'buildings', 'buildings', 'street', 'glacier', 'glacier', 'mountain', 'mountain', 'forest', 'mountain', 'street', 'street', 'mountain', 'glacier', 'forest', 'sea', 'street', 'mountain', 'mountain', 'mountain', 'mountain', 'forest', 'glacier', 'buildings', 'buildings', 'street', 'glacier', 'sea', 'buildings', 'buildings', 'mountain', 'glacier', 'glacier', 'sea', 'buildings', 'street', 'sea', 'buildings', 'glacier', 'sea', 'buildings', 'forest', 'mountain', 'mountain', 'forest', 'glacier', 'buildings', 'buildings', 'glacier', 'buildings', 'street', 'street', 'mountain', 'forest', 'sea', 'buildings', 'buildings', 'glacier', 'glacier', 'sea', 'glacier', 'forest', 'mountain', 'glacier', 'glacier', 'sea', 'forest', 'forest', 'glacier', 'sea', 'glacier', 'mountain', 'mountain', 'glacier', 'buildings', 'buildings', 'mountain', 'glacier', 'glacier', 'street', 'glacier', 'glacier', 'buildings', 'glacier', 'forest', 'sea', 'mountain', 'sea', 'sea', 'mountain', 'street', 'street', 'sea', 'glacier', 'mountain', 'buildings', 'buildings', 'mountain', 'mountain', 'mountain', 'mountain', 'buildings', 'forest', 'mountain', 'glacier', 'sea', 'glacier', 'sea', 'forest', 'street', 'street', 'mountain', 'forest', 'street', 'sea', 'sea', 'mountain', 'forest', 'mountain', 'street', 'sea', 'mountain', 'street', 'sea', 'buildings', 'buildings', 'sea', 'glacier', 'sea', 'forest', 'sea', 'mountain', 'street', 'glacier', 'street', 'glacier', 'street', 'forest', 'buildings', 'glacier', 'mountain', 'buildings', 'street', 'mountain', 'glacier', 'sea', 'sea', 'forest', 'sea', 'sea', 'mountain', 'mountain', 'glacier', 'forest', 'buildings', 'buildings', 'buildings', 'mountain', 'forest', 'glacier', 'mountain', 'forest', 'buildings', 'mountain', 'forest', 'buildings', 'sea', 'glacier', 'street', 'glacier', 'mountain', 'street', 'buildings', 'street', 'mountain', 'forest', 'mountain', 'street', 'forest', 'forest', 'forest', 'sea', 'mountain', 'buildings', 'forest', 'glacier', 'forest', 'forest', 'street', 'glacier', 'glacier', 'buildings', 'glacier', 'street', 'glacier', 'mountain', 'street', 'sea', 'sea', 'sea', 'sea', 'buildings', 'sea', 'forest', 'glacier', 'street', 'street', 'street', 'forest', 'mountain', 'glacier', 'mountain', 'forest', 'glacier', 'sea', 'street', 'mountain', 'glacier', 'buildings', 'glacier', 'street', 'forest', 'forest', 'mountain', 'sea', 'sea', 'street', 'buildings', 'forest', 'buildings', 'street', 'glacier', 'sea', 'buildings', 'glacier', 'forest', 'street', 'street', 'glacier', 'buildings', 'glacier', 'buildings', 'glacier', 'street', 'forest', 'glacier', 'mountain', 'mountain', 'glacier', 'buildings', 'forest', 'mountain', 'glacier', 'mountain', 'sea', 'forest', 'street', 'glacier', 'mountain', 'glacier', 'street', 'sea', 'sea', 'glacier', 'mountain', 'buildings', 'glacier', 'street', 'sea', 'forest', 'glacier', 'mountain', 'glacier', 'glacier', 'buildings', 'mountain', 'mountain', 'sea', 'glacier', 'street', 'glacier', 'forest', 'street', 'forest', 'mountain', 'buildings', 'street', 'mountain', 'buildings', 'glacier', 'mountain', 'buildings', 'mountain', 'street', 'street', 'street', 'forest', 'buildings', 'mountain', 'street', 'sea', 'sea', 'buildings', 'street', 'forest', 'glacier', 'sea', 'mountain', 'sea', 'buildings', 'forest', 'mountain', 'glacier', 'buildings', 'mountain', 'mountain', 'mountain', 'buildings', 'sea', 'forest', 'sea', 'buildings', 'forest', 'buildings', 'sea', 'glacier', 'forest', 'street', 'glacier', 'glacier', 'mountain', 'mountain', 'buildings', 'glacier', 'mountain', 'forest', 'forest', 'glacier', 'street', 'forest', 'street', 'sea', 'street', 'buildings', 'mountain', 'buildings', 'street', 'forest', 'sea', 'glacier', 'buildings', 'glacier', 'glacier', 'buildings', 'glacier', 'glacier', 'buildings', 'mountain', 'mountain', 'buildings', 'sea', 'glacier', 'glacier', 'forest', 'glacier', 'street', 'forest', 'forest', 'forest', 'sea', 'buildings', 'street', 'glacier', 'mountain', 'glacier', 'glacier', 'mountain', 'sea', 'glacier', 'buildings', 'mountain', 'sea', 'mountain', 'sea', 'buildings', 'sea', 'street', 'buildings', 'street', 'street', 'glacier', 'buildings', 'mountain', 'mountain', 'buildings', 'sea', 'buildings', 'street', 'buildings', 'glacier', 'forest', 'street', 'glacier', 'glacier', 'glacier', 'forest', 'forest', 'buildings', 'glacier', 'forest', 'glacier', 'glacier', 'buildings', 'street', 'street', 'sea', 'street', 'mountain', 'glacier', 'glacier', 'buildings', 'glacier', 'sea', 'glacier', 'sea', 'sea', 'glacier', 'buildings', 'street', 'forest', 'buildings', 'street', 'buildings', 'mountain', 'forest', 'forest', 'sea', 'buildings', 'street', 'mountain', 'forest', 'glacier', 'street', 'buildings', 'glacier', 'glacier', 'glacier', 'street', 'glacier', 'street', 'buildings', 'forest', 'glacier', 'forest', 'glacier', 'sea', 'forest', 'glacier', 'mountain', 'sea', 'sea', 'mountain', 'forest', 'glacier', 'mountain', 'street', 'sea', 'glacier', 'street', 'sea', 'glacier', 'glacier', 'buildings', 'buildings', 'sea', 'mountain', 'street', 'glacier', 'glacier', 'glacier', 'glacier', 'buildings', 'mountain', 'street', 'glacier', 'street', 'glacier', 'street', 'glacier', 'sea', 'sea', 'forest', 'mountain', 'buildings', 'sea', 'buildings', 'buildings', 'buildings', 'forest', 'street', 'mountain', 'street', 'forest', 'forest', 'glacier', 'sea', 'forest', 'glacier', 'sea', 'forest', 'street', 'street', 'glacier', 'glacier', 'buildings', 'mountain', 'street', 'mountain', 'mountain', 'buildings', 'glacier', 'street', 'street', 'buildings', 'mountain', 'buildings', 'glacier', 'forest', 'mountain', 'street', 'buildings', 'street', 'glacier', 'glacier', 'mountain', 'sea', 'forest', 'buildings', 'glacier', 'street', 'forest', 'street', 'mountain', 'glacier', 'mountain', 'forest', 'mountain', 'street', 'glacier', 'buildings', 'forest', 'buildings', 'glacier', 'mountain', 'buildings', 'mountain', 'glacier', 'buildings', 'buildings', 'buildings', 'buildings', 'sea', 'mountain', 'street', 'buildings', 'forest', 'glacier', 'mountain', 'forest', 'buildings', 'street', 'street', 'sea', 'buildings', 'forest', 'street', 'forest', 'street', 'mountain', 'mountain', 'glacier', 'glacier', 'buildings', 'glacier', 'glacier', 'street', 'buildings', 'forest', 'mountain', 'mountain', 'buildings', 'street', 'street', 'buildings', 'mountain', 'glacier', 'glacier', 'glacier', 'street', 'forest', 'buildings', 'sea', 'forest', 'forest', 'mountain', 'street', 'forest', 'glacier', 'mountain', 'sea', 'mountain', 'forest', 'sea', 'forest', 'street', 'glacier', 'forest', 'forest', 'glacier', 'glacier', 'sea', 'street', 'glacier', 'forest', 'sea', 'glacier', 'mountain', 'glacier', 'mountain', 'glacier', 'street', 'glacier', 'mountain', 'street', 'street', 'sea', 'sea', 'sea', 'glacier', 'glacier', 'mountain', 'buildings', 'sea', 'sea', 'sea', 'street', 'buildings', 'buildings', 'street', 'mountain', 'glacier', 'forest', 'glacier', 'glacier', 'glacier', 'glacier', 'glacier', 'forest', 'mountain', 'mountain', 'mountain', 'glacier', 'forest', 'glacier', 'glacier', 'buildings', 'mountain', 'sea', 'forest', 'street', 'buildings', 'buildings', 'buildings', 'glacier', 'street', 'buildings', 'street', 'glacier', 'street', 'forest', 'glacier', 'buildings', 'mountain', 'street', 'street', 'mountain', 'street', 'sea', 'buildings', 'street', 'buildings', 'glacier', 'mountain', 'forest', 'street', 'forest', 'forest', 'sea', 'forest', 'glacier', 'buildings', 'forest', 'sea', 'street', 'forest', 'glacier', 'street', 'buildings', 'glacier', 'mountain', 'forest', 'sea', 'glacier', 'buildings', 'forest', 'glacier', 'buildings', 'street', 'street', 'sea', 'mountain', 'sea', 'forest', 'glacier', 'buildings', 'buildings', 'mountain', 'glacier', 'glacier', 'mountain', 'mountain', 'forest', 'forest', 'glacier', 'mountain', 'street', 'glacier', 'street', 'street', 'forest', 'mountain', 'glacier', 'buildings', 'glacier', 'sea', 'sea', 'buildings', 'glacier', 'street', 'forest', 'sea', 'glacier', 'street', 'glacier', 'street', 'sea', 'buildings', 'sea', 'forest', 'sea', 'forest', 'glacier', 'buildings', 'street', 'mountain', 'sea', 'glacier', 'mountain', 'mountain', 'street', 'glacier', 'forest', 'glacier', 'street', 'buildings', 'buildings', 'mountain', 'street', 'street', 'mountain', 'street', 'street', 'sea', 'glacier', 'buildings', 'street', 'glacier', 'mountain', 'mountain', 'mountain', 'mountain', 'sea', 'mountain', 'glacier', 'buildings', 'sea', 'mountain', 'sea', 'mountain', 'street', 'forest', 'forest', 'glacier', 'forest', 'sea', 'forest', 'sea', 'street', 'street', 'forest', 'forest', 'glacier', 'sea', 'forest', 'forest', 'mountain', 'forest', 'mountain', 'forest', 'buildings', 'mountain', 'glacier', 'mountain', 'street', 'street', 'glacier', 'street', 'forest', 'mountain', 'glacier', 'buildings', 'glacier', 'street', 'mountain', 'glacier', 'forest', 'mountain', 'buildings', 'buildings', 'forest', 'forest', 'street', 'buildings', 'mountain', 'glacier', 'forest', 'glacier', 'buildings', 'buildings', 'sea', 'street', 'glacier', 'buildings', 'forest', 'glacier', 'mountain', 'street', 'glacier', 'street', 'glacier', 'buildings', 'street', 'buildings', 'sea', 'glacier', 'mountain', 'glacier', 'glacier', 'sea', 'buildings', 'glacier', 'sea', 'mountain', 'glacier', 'mountain', 'mountain', 'glacier', 'mountain', 'glacier', 'street', 'buildings', 'glacier', 'glacier', 'buildings', 'mountain', 'forest', 'street', 'sea', 'glacier', 'mountain', 'glacier', 'mountain', 'forest', 'sea', 'buildings', 'buildings', 'street', 'forest', 'buildings', 'glacier', 'mountain', 'forest', 'street', 'street', 'glacier', 'sea', 'forest', 'glacier', 'glacier', 'street', 'mountain', 'street', 'sea', 'street', 'sea', 'mountain', 'sea', 'sea', 'forest', 'forest', 'buildings', 'sea', 'mountain', 'sea', 'sea', 'sea', 'forest', 'forest', 'glacier', 'buildings', 'buildings', 'mountain', 'glacier', 'glacier', 'forest', 'buildings', 'glacier', 'glacier', 'glacier', 'street', 'forest', 'sea', 'buildings', 'buildings', 'sea', 'sea', 'glacier', 'glacier', 'street', 'glacier', 'sea', 'buildings', 'glacier', 'street', 'glacier', 'forest', 'glacier', 'mountain', 'mountain', 'glacier', 'glacier', 'forest', 'sea', 'street', 'buildings', 'glacier', 'glacier', 'street', 'glacier', 'forest', 'sea', 'glacier', 'buildings', 'mountain', 'mountain', 'street', 'sea', 'glacier', 'street', 'sea', 'sea', 'glacier', 'forest', 'sea', 'street', 'mountain', 'buildings', 'mountain', 'glacier', 'street', 'mountain', 'buildings', 'glacier', 'glacier', 'sea', 'sea', 'sea', 'buildings', 'sea', 'sea', 'glacier', 'glacier', 'glacier', 'glacier', 'mountain', 'mountain', 'street', 'street', 'buildings', 'buildings', 'sea', 'glacier', 'glacier', 'buildings', 'mountain', 'glacier', 'forest', 'sea', 'buildings', 'street', 'mountain', 'glacier', 'sea', 'street', 'mountain', 'street', 'street', 'glacier', 'glacier', 'sea', 'forest', 'mountain', 'forest', 'mountain', 'glacier', 'glacier', 'street', 'sea', 'glacier', 'sea', 'buildings', 'sea', 'buildings', 'street', 'sea', 'street', 'street', 'glacier', 'mountain', 'street', 'buildings', 'glacier', 'glacier', 'glacier', 'street', 'glacier', 'street', 'street', 'glacier', 'mountain', 'forest', 'glacier', 'buildings', 'forest', 'glacier', 'buildings', 'sea', 'buildings', 'mountain', 'mountain', 'street', 'sea', 'forest', 'glacier', 'mountain', 'glacier', 'buildings', 'forest', 'sea', 'glacier', 'mountain', 'street', 'glacier', 'forest', 'mountain', 'street', 'glacier', 'sea', 'mountain', 'mountain', 'glacier', 'forest', 'buildings', 'mountain', 'forest', 'forest', 'glacier', 'street', 'buildings', 'street', 'mountain', 'mountain', 'glacier', 'glacier', 'sea', 'sea', 'sea', 'sea', 'street', 'glacier', 'glacier', 'glacier', 'sea', 'mountain', 'glacier', 'mountain', 'street', 'street', 'street', 'buildings', 'forest', 'glacier', 'buildings', 'buildings', 'forest', 'buildings', 'forest', 'glacier', 'street', 'sea', 'buildings', 'forest', 'mountain', 'glacier', 'street', 'street', 'forest', 'buildings', 'buildings', 'street', 'street', 'glacier', 'forest', 'mountain', 'sea', 'glacier', 'glacier', 'buildings', 'buildings', 'forest', 'forest', 'street', 'sea', 'glacier', 'street', 'street', 'buildings', 'street', 'glacier', 'sea', 'glacier', 'street', 'sea', 'glacier', 'mountain', 'street', 'street', 'buildings', 'glacier', 'street', 'buildings', 'mountain', 'mountain', 'buildings', 'mountain', 'buildings', 'mountain', 'buildings', 'buildings', 'sea', 'street', 'mountain', 'street', 'street', 'glacier', 'buildings', 'glacier', 'glacier', 'sea', 'street', 'street', 'glacier', 'street', 'forest', 'buildings', 'glacier', 'street', 'glacier', 'forest', 'mountain', 'glacier', 'sea', 'buildings', 'glacier', 'sea', 'forest', 'glacier', 'sea', 'sea', 'street', 'street', 'buildings', 'buildings', 'sea', 'glacier', 'street', 'forest', 'glacier', 'mountain', 'forest', 'glacier', 'mountain', 'street', 'street', 'glacier', 'glacier', 'glacier', 'glacier', 'forest', 'street', 'forest', 'glacier', 'forest', 'street', 'sea', 'street', 'buildings', 'glacier', 'buildings', 'glacier', 'forest', 'forest', 'street', 'buildings', 'glacier', 'buildings', 'forest', 'glacier', 'street', 'forest', 'sea', 'glacier', 'glacier', 'sea', 'glacier', 'mountain', 'mountain', 'buildings', 'mountain', 'glacier', 'glacier', 'mountain', 'buildings', 'glacier', 'mountain', 'glacier', 'street', 'forest', 'glacier', 'buildings', 'sea', 'forest', 'glacier', 'glacier', 'sea', 'street', 'street', 'glacier', 'mountain', 'street', 'forest', 'sea', 'buildings', 'buildings', 'glacier', 'forest', 'mountain', 'street', 'buildings', 'buildings', 'glacier', 'street', 'street', 'street', 'street', 'forest', 'street', 'mountain', 'buildings', 'buildings', 'sea', 'mountain', 'street', 'glacier', 'forest', 'mountain', 'glacier', 'mountain', 'mountain', 'buildings', 'mountain', 'glacier', 'glacier', 'forest', 'glacier', 'street', 'buildings', 'glacier', 'mountain', 'glacier', 'mountain', 'forest', 'glacier', 'glacier', 'street', 'forest', 'sea', 'street', 'glacier', 'street', 'forest', 'sea', 'forest', 'street', 'glacier', 'glacier', 'mountain', 'sea', 'street', 'street', 'mountain', 'street', 'glacier', 'buildings', 'forest', 'glacier', 'glacier', 'buildings', 'glacier', 'sea', 'buildings', 'forest', 'mountain', 'glacier', 'street', 'glacier', 'street', 'glacier', 'mountain', 'buildings', 'street', 'mountain', 'street', 'glacier', 'street', 'mountain', 'mountain', 'buildings', 'forest', 'street', 'buildings', 'street', 'street', 'mountain', 'sea', 'glacier', 'mountain', 'glacier', 'mountain', 'sea', 'forest', 'street', 'buildings', 'mountain', 'glacier', 'sea', 'sea', 'glacier', 'mountain', 'mountain', 'street', 'street', 'glacier', 'mountain', 'forest', 'glacier', 'glacier', 'glacier', 'sea', 'buildings', 'glacier', 'buildings', 'glacier', 'glacier', 'mountain', 'glacier', 'glacier', 'buildings', 'street', 'buildings', 'buildings', 'forest', 'mountain', 'street', 'mountain', 'forest', 'street', 'mountain', 'glacier', 'glacier', 'forest', 'buildings', 'glacier', 'forest', 'mountain', 'forest', 'buildings', 'sea', 'mountain', 'street', 'buildings', 'buildings', 'sea', 'street', 'glacier', 'sea', 'sea', 'mountain', 'glacier', 'buildings', 'buildings', 'forest', 'forest', 'glacier', 'street', 'sea', 'mountain', 'sea', 'sea', 'glacier', 'mountain', 'sea', 'mountain', 'glacier', 'street', 'glacier', 'glacier', 'glacier', 'glacier', 'mountain', 'mountain', 'sea', 'mountain', 'mountain', 'sea', 'glacier', 'sea', 'glacier', 'sea', 'glacier', 'glacier', 'street', 'mountain', 'street', 'forest', 'street', 'forest', 'sea', 'buildings', 'buildings', 'buildings', 'sea', 'glacier', 'glacier', 'street', 'buildings', 'street', 'buildings', 'street', 'street', 'glacier', 'buildings', 'glacier', 'sea', 'glacier', 'street', 'forest', 'glacier', 'buildings', 'street', 'forest', 'street', 'street', 'glacier', 'glacier', 'street', 'street', 'buildings', 'glacier', 'buildings', 'buildings', 'forest', 'glacier', 'forest', 'buildings', 'buildings', 'buildings', 'glacier', 'mountain', 'buildings', 'buildings', 'sea', 'street', 'glacier', 'street', 'glacier', 'mountain', 'forest', 'street', 'sea', 'mountain', 'buildings', 'buildings', 'sea', 'glacier', 'sea', 'sea', 'glacier', 'mountain', 'glacier', 'buildings', 'forest', 'glacier', 'glacier', 'glacier', 'sea', 'street', 'forest', 'mountain', 'sea', 'buildings', 'glacier', 'mountain', 'buildings', 'mountain', 'sea', 'forest', 'glacier', 'street', 'forest', 'mountain', 'forest', 'sea', 'buildings', 'buildings', 'forest', 'buildings', 'buildings', 'sea', 'glacier', 'mountain', 'street', 'forest', 'glacier', 'forest', 'mountain', 'street', 'sea', 'street', 'mountain', 'street', 'glacier', 'forest', 'sea', 'glacier', 'sea', 'street', 'sea', 'mountain', 'sea', 'mountain', 'buildings', 'buildings', 'mountain', 'mountain', 'street', 'street', 'mountain', 'sea', 'mountain', 'street', 'street', 'glacier', 'glacier', 'buildings', 'sea', 'forest', 'buildings', 'sea', 'forest', 'buildings', 'buildings', 'mountain', 'mountain', 'street', 'glacier', 'glacier', 'mountain', 'buildings', 'mountain', 'sea', 'sea', 'street', 'mountain', 'glacier', 'forest', 'buildings', 'mountain', 'sea', 'buildings', 'street', 'forest', 'sea', 'mountain', 'sea', 'mountain', 'buildings', 'sea', 'glacier', 'sea', 'glacier', 'glacier', 'sea', 'buildings', 'buildings', 'forest', 'mountain', 'sea', 'mountain', 'buildings', 'glacier', 'glacier', 'forest', 'buildings', 'buildings', 'forest', 'buildings', 'glacier', 'mountain', 'sea', 'buildings', 'street', 'sea', 'mountain', 'glacier', 'forest', 'forest', 'mountain', 'mountain', 'sea', 'street', 'mountain', 'street', 'sea', 'forest', 'sea', 'street', 'glacier', 'glacier', 'glacier', 'forest', 'forest', 'glacier', 'mountain', 'mountain', 'buildings', 'forest', 'sea', 'glacier', 'glacier', 'buildings', 'glacier', 'mountain', 'forest', 'sea', 'glacier', 'glacier', 'glacier', 'glacier', 'buildings', 'mountain', 'street', 'glacier', 'forest', 'mountain', 'glacier', 'street', 'mountain', 'glacier', 'mountain', 'forest', 'glacier', 'sea', 'buildings', 'sea', 'street', 'forest', 'mountain', 'glacier', 'sea', 'glacier', 'glacier', 'buildings', 'forest', 'forest', 'glacier', 'glacier', 'glacier', 'forest', 'forest', 'street', 'glacier', 'sea', 'street', 'glacier', 'mountain', 'forest', 'glacier', 'glacier', 'glacier', 'street', 'mountain', 'mountain', 'street', 'glacier', 'forest', 'buildings', 'glacier', 'mountain', 'buildings', 'sea', 'glacier', 'glacier', 'glacier', 'glacier', 'forest', 'street', 'glacier', 'glacier', 'glacier', 'mountain', 'sea', 'forest', 'buildings', 'street', 'sea', 'glacier', 'mountain', 'glacier', 'mountain', 'buildings', 'street', 'sea', 'street', 'forest', 'buildings', 'buildings', 'sea', 'forest', 'forest', 'forest', 'forest', 'buildings', 'buildings', 'glacier', 'forest', 'forest', 'sea', 'glacier', 'glacier', 'sea', 'glacier', 'buildings', 'mountain', 'mountain', 'mountain', 'glacier', 'mountain', 'mountain', 'glacier', 'forest', 'street', 'sea', 'sea', 'sea', 'mountain', 'buildings', 'forest', 'mountain', 'sea', 'street', 'forest', 'sea', 'sea', 'glacier', 'glacier', 'sea', 'mountain', 'street', 'street', 'glacier', 'glacier', 'mountain', 'forest', 'street', 'mountain', 'buildings', 'sea', 'glacier', 'mountain', 'buildings', 'sea', 'glacier', 'mountain', 'buildings', 'glacier', 'glacier', 'forest', 'street', 'glacier', 'glacier', 'glacier', 'buildings', 'forest', 'sea', 'glacier', 'glacier', 'mountain', 'buildings', 'street', 'buildings', 'glacier', 'sea', 'street', 'buildings', 'glacier', 'street', 'glacier', 'mountain', 'sea', 'buildings', 'glacier', 'glacier', 'street', 'sea', 'sea', 'forest', 'glacier', 'sea', 'glacier', 'street', 'buildings', 'mountain', 'street', 'sea', 'sea', 'glacier', 'street', 'glacier', 'sea', 'sea', 'mountain', 'buildings', 'forest', 'forest', 'mountain', 'sea', 'mountain', 'street', 'buildings', 'mountain', 'mountain', 'street', 'glacier', 'buildings', 'street', 'street', 'sea', 'glacier', 'street', 'street', 'mountain', 'street', 'glacier', 'buildings', 'street', 'street', 'sea', 'sea', 'street', 'mountain', 'glacier', 'street', 'sea', 'buildings', 'glacier', 'mountain', 'glacier', 'glacier', 'street', 'glacier', 'glacier', 'street', 'sea', 'glacier', 'glacier', 'glacier', 'forest', 'mountain', 'glacier', 'street', 'forest', 'mountain', 'glacier', 'glacier', 'glacier', 'mountain', 'street', 'street', 'glacier', 'street', 'sea', 'sea', 'forest', 'mountain', 'glacier', 'buildings', 'mountain', 'mountain', 'sea', 'street', 'glacier', 'mountain', 'glacier', 'glacier', 'glacier', 'mountain', 'sea', 'sea', 'glacier', 'buildings', 'sea', 'sea', 'street', 'sea', 'glacier', 'glacier', 'buildings', 'glacier', 'mountain', 'buildings', 'forest', 'buildings', 'glacier', 'street', 'glacier', 'mountain', 'street', 'mountain', 'buildings', 'buildings', 'sea', 'street', 'buildings', 'buildings', 'sea', 'buildings', 'forest', 'street', 'sea', 'glacier', 'glacier', 'forest', 'street', 'buildings', 'buildings', 'glacier', 'sea', 'mountain', 'glacier', 'glacier', 'mountain', 'forest', 'mountain', 'glacier', 'forest', 'glacier', 'buildings', 'glacier', 'buildings', 'forest', 'glacier', 'sea', 'glacier', 'glacier', 'mountain', 'glacier', 'buildings', 'buildings', 'glacier', 'forest', 'mountain', 'street', 'glacier', 'street', 'buildings', 'sea', 'mountain', 'forest', 'glacier', 'buildings', 'sea', 'mountain', 'buildings', 'buildings', 'buildings', 'sea', 'forest', 'glacier', 'mountain', 'sea', 'glacier', 'glacier', 'mountain', 'glacier', 'glacier', 'sea', 'buildings', 'buildings', 'forest', 'sea', 'buildings', 'mountain', 'glacier', 'street', 'mountain', 'glacier', 'street', 'sea', 'buildings', 'glacier', 'sea', 'glacier', 'glacier', 'glacier', 'buildings', 'sea', 'sea', 'forest', 'forest', 'glacier', 'buildings', 'mountain', 'glacier', 'mountain', 'mountain', 'forest', 'buildings', 'sea', 'street', 'buildings', 'forest', 'buildings', 'forest', 'sea', 'street', 'glacier', 'sea', 'mountain', 'buildings', 'forest', 'glacier', 'mountain', 'glacier', 'glacier', 'mountain', 'street', 'forest', 'mountain', 'buildings', 'buildings', 'mountain', 'forest', 'glacier', 'glacier', 'glacier', 'buildings', 'mountain', 'street', 'sea', 'glacier', 'street', 'mountain', 'mountain', 'street', 'street', 'buildings', 'sea', 'street', 'mountain', 'mountain', 'mountain', 'mountain', 'forest', 'sea', 'mountain', 'buildings', 'sea', 'glacier', 'sea', 'mountain', 'buildings', 'street', 'sea', 'sea', 'forest', 'sea', 'glacier', 'glacier', 'sea', 'glacier', 'sea', 'sea', 'glacier', 'forest', 'mountain', 'buildings', 'street', 'sea', 'mountain', 'glacier', 'mountain', 'glacier', 'glacier', 'forest', 'glacier', 'mountain', 'buildings', 'mountain', 'buildings', 'street', 'forest', 'forest', 'buildings', 'forest', 'buildings', 'buildings', 'glacier', 'glacier', 'forest', 'sea', 'glacier', 'glacier', 'street', 'buildings', 'buildings', 'mountain', 'glacier', 'sea', 'glacier', 'mountain', 'glacier', 'mountain', 'forest', 'mountain', 'glacier', 'forest', 'mountain', 'forest', 'mountain', 'glacier', 'buildings', 'buildings', 'forest', 'mountain', 'buildings', 'glacier', 'buildings', 'street', 'glacier', 'sea', 'street', 'forest', 'sea', 'buildings', 'glacier', 'mountain', 'glacier', 'mountain', 'glacier', 'buildings', 'mountain', 'sea', 'glacier', 'street', 'forest', 'sea', 'sea', 'forest', 'forest', 'glacier', 'sea', 'buildings', 'buildings', 'glacier', 'sea', 'forest', 'glacier', 'sea', 'glacier', 'street', 'sea', 'street', 'sea', 'forest', 'buildings', 'street', 'mountain', 'forest', 'buildings', 'buildings', 'street', 'glacier', 'mountain', 'forest', 'sea', 'forest', 'forest', 'forest', 'glacier', 'mountain', 'mountain', 'glacier', 'buildings', 'street', 'street', 'glacier', 'glacier', 'forest', 'sea', 'street', 'sea', 'mountain', 'mountain', 'glacier', 'mountain', 'glacier', 'mountain', 'mountain', 'buildings', 'mountain', 'street', 'buildings', 'sea', 'street', 'sea', 'mountain', 'street', 'forest', 'glacier', 'buildings', 'forest', 'mountain', 'sea', 'glacier', 'buildings', 'sea', 'sea', 'mountain', 'buildings', 'street', 'street', 'street', 'buildings', 'glacier', 'glacier', 'street', 'buildings', 'mountain', 'buildings', 'mountain', 'glacier', 'mountain', 'sea', 'glacier', 'mountain', 'forest', 'buildings', 'forest', 'forest', 'street', 'glacier', 'glacier', 'glacier', 'sea', 'street', 'mountain', 'glacier', 'glacier', 'glacier', 'forest', 'glacier', 'glacier', 'glacier', 'glacier', 'glacier', 'glacier', 'street', 'glacier', 'mountain', 'glacier', 'sea', 'forest', 'glacier', 'forest', 'glacier', 'sea', 'street', 'sea', 'buildings', 'glacier', 'glacier', 'glacier', 'forest', 'glacier', 'glacier', 'forest', 'street', 'street', 'sea', 'mountain', 'glacier', 'glacier', 'forest', 'buildings', 'mountain', 'forest', 'street', 'buildings', 'forest', 'buildings', 'buildings', 'street', 'forest', 'street', 'street', 'glacier', 'street', 'mountain', 'glacier', 'buildings', 'buildings', 'forest', 'glacier', 'forest', 'buildings', 'mountain', 'glacier', 'mountain', 'sea', 'street', 'sea', 'mountain', 'glacier', 'mountain', 'sea', 'street', 'mountain', 'glacier', 'buildings', 'mountain', 'street', 'buildings', 'forest', 'street', 'glacier', 'street', 'sea', 'mountain', 'buildings', 'mountain', 'glacier', 'mountain', 'mountain', 'glacier', 'forest', 'buildings', 'street', 'forest', 'street', 'street', 'buildings', 'buildings', 'street', 'street', 'sea', 'buildings', 'buildings', 'glacier', 'buildings', 'mountain', 'buildings', 'glacier', 'mountain', 'mountain', 'forest', 'glacier', 'glacier', 'mountain', 'buildings', 'street', 'sea', 'street', 'glacier', 'glacier', 'mountain', 'glacier', 'mountain', 'forest', 'forest', 'buildings', 'mountain', 'mountain', 'forest', 'forest', 'mountain', 'buildings', 'mountain', 'street', 'buildings', 'sea', 'forest', 'mountain', 'buildings', 'glacier', 'buildings', 'glacier', 'glacier', 'glacier', 'street', 'street', 'street', 'mountain', 'sea', 'street', 'mountain', 'forest', 'sea', 'forest', 'street', 'sea', 'mountain', 'buildings', 'forest', 'mountain', 'glacier', 'street', 'street', 'mountain', 'mountain', 'buildings', 'buildings', 'street', 'glacier', 'mountain', 'forest', 'mountain', 'glacier', 'street', 'sea', 'glacier', 'street', 'glacier', 'mountain', 'sea', 'glacier', 'glacier', 'street', 'glacier', 'sea', 'street', 'street', 'forest', 'buildings', 'forest', 'mountain', 'forest', 'forest', 'forest', 'glacier', 'glacier', 'forest', 'forest', 'buildings', 'glacier', 'glacier', 'mountain', 'glacier', 'forest', 'street', 'forest', 'street', 'mountain', 'mountain', 'mountain', 'street', 'street', 'street', 'buildings', 'street', 'street', 'forest', 'buildings', 'street', 'buildings', 'glacier', 'street', 'street', 'glacier', 'glacier', 'sea', 'mountain', 'glacier', 'sea', 'glacier', 'forest', 'forest', 'glacier', 'sea', 'sea', 'sea', 'sea', 'forest', 'buildings', 'forest', 'mountain', 'mountain', 'forest', 'glacier', 'glacier', 'street', 'glacier', 'glacier', 'buildings', 'street', 'glacier', 'buildings', 'glacier', 'buildings', 'street', 'forest', 'mountain', 'glacier', 'mountain', 'mountain', 'forest', 'mountain', 'street', 'buildings', 'forest', 'glacier', 'street', 'sea', 'buildings', 'buildings', 'buildings', 'mountain', 'forest', 'street', 'mountain', 'sea', 'glacier', 'buildings', 'street', 'sea', 'glacier', 'street', 'buildings', 'glacier', 'glacier', 'buildings', 'forest', 'glacier', 'street', 'street', 'street', 'glacier', 'buildings', 'buildings', 'street', 'glacier', 'street', 'mountain', 'glacier', 'buildings', 'buildings', 'forest', 'forest', 'sea', 'street', 'mountain', 'glacier', 'sea', 'street', 'buildings', 'glacier', 'sea', 'sea', 'buildings', 'sea', 'glacier', 'mountain', 'glacier', 'forest', 'glacier', 'street', 'forest', 'glacier', 'glacier', 'glacier', 'glacier', 'street', 'mountain', 'buildings', 'mountain', 'glacier', 'sea', 'street', 'sea', 'street', 'glacier', 'forest', 'mountain', 'glacier', 'forest', 'mountain', 'street', 'buildings', 'buildings', 'buildings', 'glacier', 'mountain', 'sea', 'forest', 'forest', 'glacier', 'glacier', 'sea', 'buildings', 'glacier', 'sea', 'mountain', 'sea', 'street', 'street', 'sea', 'mountain', 'sea', 'forest', 'street', 'forest', 'sea', 'street', 'mountain', 'street', 'mountain', 'glacier', 'sea', 'mountain', 'street', 'mountain', 'forest', 'sea', 'street', 'street', 'mountain', 'forest', 'mountain', 'glacier', 'glacier', 'glacier', 'mountain', 'glacier', 'sea', 'street', 'forest', 'glacier', 'street', 'sea', 'glacier', 'street', 'sea', 'glacier', 'buildings', 'sea', 'buildings', 'forest', 'sea', 'buildings', 'buildings', 'forest', 'sea', 'glacier', 'mountain', 'mountain', 'street', 'mountain', 'buildings', 'sea', 'glacier', 'sea', 'mountain', 'forest', 'glacier', 'sea', 'forest', 'street', 'sea', 'forest', 'sea', 'glacier', 'glacier', 'glacier', 'mountain', 'mountain', 'sea', 'street', 'buildings', 'sea', 'forest', 'forest', 'glacier', 'glacier', 'forest', 'mountain', 'glacier', 'forest', 'sea', 'mountain', 'glacier', 'street', 'sea', 'glacier', 'glacier', 'mountain', 'sea', 'glacier', 'sea', 'mountain', 'mountain', 'glacier', 'street', 'street', 'mountain', 'glacier', 'forest', 'street', 'mountain', 'buildings', 'street', 'buildings', 'mountain', 'mountain', 'glacier', 'buildings', 'glacier', 'forest', 'mountain', 'mountain', 'forest', 'mountain', 'mountain', 'mountain', 'buildings', 'sea', 'glacier', 'street', 'forest', 'mountain', 'mountain', 'glacier', 'buildings', 'street', 'buildings', 'forest', 'buildings', 'street', 'glacier', 'glacier', 'buildings', 'mountain', 'buildings', 'sea', 'glacier', 'glacier', 'mountain', 'street', 'mountain', 'forest', 'glacier', 'sea', 'forest', 'forest', 'mountain', 'buildings', 'sea', 'mountain', 'mountain', 'glacier', 'sea', 'sea', 'buildings', 'mountain', 'glacier', 'sea', 'mountain', 'glacier', 'glacier', 'buildings', 'sea', 'glacier', 'glacier', 'street', 'glacier', 'sea', 'glacier', 'forest', 'buildings', 'mountain', 'forest', 'sea', 'forest', 'mountain', 'forest', 'buildings', 'street', 'sea', 'glacier', 'glacier', 'forest', 'forest', 'glacier', 'glacier', 'mountain', 'buildings', 'buildings', 'mountain', 'street', 'sea', 'glacier', 'mountain', 'sea', 'street', 'glacier', 'glacier', 'mountain', 'glacier', 'buildings', 'forest', 'glacier', 'glacier', 'glacier', 'sea', 'glacier', 'street', 'street', 'sea', 'buildings', 'glacier', 'sea', 'forest', 'sea', 'glacier', 'sea', 'street', 'buildings', 'forest', 'mountain', 'street', 'glacier', 'mountain', 'forest', 'buildings', 'glacier', 'mountain', 'glacier', 'buildings', 'sea', 'street', 'glacier', 'forest', 'buildings', 'forest', 'mountain', 'buildings', 'forest', 'glacier', 'mountain', 'glacier', 'glacier', 'glacier', 'street', 'sea', 'glacier', 'forest', 'mountain', 'buildings', 'buildings', 'mountain', 'buildings', 'buildings', 'glacier', 'forest', 'sea', 'mountain', 'glacier', 'mountain', 'sea', 'forest']\n"
     ]
    }
   ],
   "source": [
    "pred_labels = np.argmax(y_pred, axis=1)\n",
    "print(pred_labels)\n",
    "pred_names = [class_names[pred] for pred in pred_labels]\n",
    "print(pred_names)"
   ]
  },
  {
   "cell_type": "code",
   "execution_count": 66,
   "metadata": {},
   "outputs": [
    {
     "data": {
      "text/plain": [
       "<Axes: >"
      ]
     },
     "execution_count": 66,
     "metadata": {},
     "output_type": "execute_result"
    },
    {
     "data": {
      "image/png": "[encoded data removed]",
      "text/plain": [
       "<Figure size 640x480 with 2 Axes>"
      ]
     },
     "metadata": {},
     "output_type": "display_data"
    }
   ],
   "source": [
    "c_mat = confusion_matrix(y_test, pred_labels, normalize='true')\n",
    "sns.heatmap(c_mat, annot=True, xticklabels=class_names, yticklabels=class_names)"
   ]
  },
  {
   "cell_type": "code",
   "execution_count": 67,
   "metadata": {},
   "outputs": [
    {
     "name": "stdout",
     "output_type": "stream",
     "text": [
      "              precision    recall  f1-score   support\n",
      "\n",
      "           0       0.65      0.69      0.67       437\n",
      "           1       0.94      0.80      0.86       474\n",
      "           2       0.59      0.79      0.68       553\n",
      "           3       0.68      0.65      0.67       525\n",
      "           4       0.74      0.60      0.66       510\n",
      "           5       0.74      0.70      0.72       501\n",
      "\n",
      "    accuracy                           0.71      3000\n",
      "   macro avg       0.72      0.70      0.71      3000\n",
      "weighted avg       0.72      0.71      0.71      3000\n",
      "\n"
     ]
    }
   ],
   "source": [
    "from sklearn.metrics import classification_report\n",
    "\n",
    "print(classification_report(y_test, pred_labels))"
   ]
  },
  {
   "cell_type": "code",
   "execution_count": 68,
   "metadata": {},
   "outputs": [
    {
     "name": "stderr",
     "output_type": "stream",
     "text": [
      "C:\\Users\\mikel\\AppData\\Roaming\\Python\\Python39\\site-packages\\keras\\src\\layers\\convolutional\\base_conv.py:107: UserWarning: Do not pass an `input_shape`/`input_dim` argument to a layer. When using Sequential models, prefer using an `Input(shape)` object as the first layer in the model instead.\n",
      "  super().__init__(activity_regularizer=activity_regularizer, **kwargs)\n"
     ]
    },
    {
     "name": "stdout",
     "output_type": "stream",
     "text": [
      "Epoch 1/30\n",
      "\u001b[1m88/88\u001b[0m \u001b[32m━━━━━━━━━━━━━━━━━━━━\u001b[0m\u001b[37m\u001b[0m \u001b[1m6s\u001b[0m 62ms/step - accuracy: 0.4348 - loss: 1.4535 - val_accuracy: 0.5280 - val_loss: 1.1580\n",
      "Epoch 2/30\n",
      "\u001b[1m88/88\u001b[0m \u001b[32m━━━━━━━━━━━━━━━━━━━━\u001b[0m\u001b[37m\u001b[0m \u001b[1m5s\u001b[0m 60ms/step - accuracy: 0.6247 - loss: 1.0166 - val_accuracy: 0.5672 - val_loss: 1.1942\n",
      "Epoch 3/30\n",
      "\u001b[1m88/88\u001b[0m \u001b[32m━━━━━━━━━━━━━━━━━━━━\u001b[0m\u001b[37m\u001b[0m \u001b[1m5s\u001b[0m 62ms/step - accuracy: 0.6671 - loss: 0.9121 - val_accuracy: 0.5326 - val_loss: 1.2080\n",
      "Epoch 4/30\n",
      "\u001b[1m88/88\u001b[0m \u001b[32m━━━━━━━━━━━━━━━━━━━━\u001b[0m\u001b[37m\u001b[0m \u001b[1m5s\u001b[0m 62ms/step - accuracy: 0.7020 - loss: 0.8133 - val_accuracy: 0.5369 - val_loss: 1.2553\n",
      "Epoch 5/30\n",
      "\u001b[1m88/88\u001b[0m \u001b[32m━━━━━━━━━━━━━━━━━━━━\u001b[0m\u001b[37m\u001b[0m \u001b[1m5s\u001b[0m 61ms/step - accuracy: 0.7068 - loss: 0.7824 - val_accuracy: 0.6459 - val_loss: 0.9282\n",
      "Epoch 6/30\n",
      "\u001b[1m88/88\u001b[0m \u001b[32m━━━━━━━━━━━━━━━━━━━━\u001b[0m\u001b[37m\u001b[0m \u001b[1m6s\u001b[0m 62ms/step - accuracy: 0.7390 - loss: 0.7166 - val_accuracy: 0.6648 - val_loss: 0.9139\n",
      "Epoch 7/30\n",
      "\u001b[1m88/88\u001b[0m \u001b[32m━━━━━━━━━━━━━━━━━━━━\u001b[0m\u001b[37m\u001b[0m \u001b[1m6s\u001b[0m 63ms/step - accuracy: 0.7480 - loss: 0.6912 - val_accuracy: 0.6242 - val_loss: 1.0267\n",
      "Epoch 8/30\n",
      "\u001b[1m88/88\u001b[0m \u001b[32m━━━━━━━━━━━━━━━━━━━━\u001b[0m\u001b[37m\u001b[0m \u001b[1m6s\u001b[0m 65ms/step - accuracy: 0.7705 - loss: 0.6633 - val_accuracy: 0.6502 - val_loss: 0.9468\n",
      "Epoch 9/30\n",
      "\u001b[1m88/88\u001b[0m \u001b[32m━━━━━━━━━━━━━━━━━━━━\u001b[0m\u001b[37m\u001b[0m \u001b[1m6s\u001b[0m 65ms/step - accuracy: 0.7766 - loss: 0.6396 - val_accuracy: 0.7089 - val_loss: 0.8417\n",
      "Epoch 10/30\n",
      "\u001b[1m88/88\u001b[0m \u001b[32m━━━━━━━━━━━━━━━━━━━━\u001b[0m\u001b[37m\u001b[0m \u001b[1m6s\u001b[0m 65ms/step - accuracy: 0.7777 - loss: 0.6306 - val_accuracy: 0.6658 - val_loss: 0.9259\n",
      "Epoch 11/30\n",
      "\u001b[1m88/88\u001b[0m \u001b[32m━━━━━━━━━━━━━━━━━━━━\u001b[0m\u001b[37m\u001b[0m \u001b[1m6s\u001b[0m 65ms/step - accuracy: 0.7831 - loss: 0.6094 - val_accuracy: 0.6669 - val_loss: 0.9402\n",
      "Epoch 12/30\n",
      "\u001b[1m88/88\u001b[0m \u001b[32m━━━━━━━━━━━━━━━━━━━━\u001b[0m\u001b[37m\u001b[0m \u001b[1m6s\u001b[0m 62ms/step - accuracy: 0.7928 - loss: 0.5879 - val_accuracy: 0.6769 - val_loss: 0.8916\n",
      "Epoch 13/30\n",
      "\u001b[1m88/88\u001b[0m \u001b[32m━━━━━━━━━━━━━━━━━━━━\u001b[0m\u001b[37m\u001b[0m \u001b[1m5s\u001b[0m 62ms/step - accuracy: 0.7825 - loss: 0.5968 - val_accuracy: 0.6605 - val_loss: 1.0020\n",
      "Epoch 14/30\n",
      "\u001b[1m88/88\u001b[0m \u001b[32m━━━━━━━━━━━━━━━━━━━━\u001b[0m\u001b[37m\u001b[0m \u001b[1m5s\u001b[0m 62ms/step - accuracy: 0.7819 - loss: 0.5982 - val_accuracy: 0.7022 - val_loss: 0.8716\n"
     ]
    }
   ],
   "source": [
    "model_3 = keras.Sequential([\n",
    "    keras.layers.Conv2D(32, (3,3), input_shape=(64,64,3)),\n",
    "    keras.layers.MaxPooling2D(2,2),\n",
    "    keras.layers.Dropout(0.25),\n",
    "    keras.layers.Conv2D(16, (3,3)),\n",
    "    keras.layers.MaxPooling2D(2,2),\n",
    "    keras.layers.Dropout(0.25),\n",
    "    keras.layers.Flatten(),\n",
    "    keras.layers.Dense(32),\n",
    "    keras.layers.Dense(16),\n",
    "    keras.layers.Dense(6, activation=\"softmax\")\n",
    "])\n",
    "model_3.compile(optimizer=\"adam\", loss=\"sparse_categorical_crossentropy\", metrics=['accuracy'])\n",
    "history_3 = model_3.fit(\n",
    "    X_train,\n",
    "    y_train,\n",
    "    batch_size=128,\n",
    "    epochs=30,\n",
    "    validation_split=0.2,\n",
    "    callbacks=[keras.callbacks.EarlyStopping(patience=5)]\n",
    ")"
   ]
  },
  {
   "cell_type": "code",
   "execution_count": 69,
   "metadata": {},
   "outputs": [
    {
     "name": "stdout",
     "output_type": "stream",
     "text": [
      "\u001b[1m94/94\u001b[0m \u001b[32m━━━━━━━━━━━━━━━━━━━━\u001b[0m\u001b[37m\u001b[0m \u001b[1m1s\u001b[0m 6ms/step - accuracy: 0.7067 - loss: 0.8788\n"
     ]
    }
   ],
   "source": [
    "results = model_3.evaluate(X_test, y_test)"
   ]
  },
  {
   "cell_type": "code",
   "execution_count": null,
   "metadata": {},
   "outputs": [],
   "source": []
  }
 ],
 "metadata": {
  "kernelspec": {
   "display_name": "Python 3",
   "language": "python",
   "name": "python3"
  },
  "language_info": {
   "codemirror_mode": {
    "name": "ipython",
    "version": 3
   },
   "file_extension": ".py",
   "mimetype": "text/x-python",
   "name": "python",
   "nbconvert_exporter": "python",
   "pygments_lexer": "ipython3",
   "version": "3.9.6"
  },
  "orig_nbformat": 4
 },
 "nbformat": 4,
 "nbformat_minor": 2
}
