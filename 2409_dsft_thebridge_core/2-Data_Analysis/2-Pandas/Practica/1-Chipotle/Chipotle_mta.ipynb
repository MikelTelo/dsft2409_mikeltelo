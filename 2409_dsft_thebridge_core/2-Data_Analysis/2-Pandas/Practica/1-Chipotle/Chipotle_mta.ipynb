{
 "cells": [
  {
   "attachments": {},
   "cell_type": "markdown",
   "metadata": {},
   "source": [
    "# Ex1 - Filtering and Sorting Data"
   ]
  },
  {
   "attachments": {},
   "cell_type": "markdown",
   "metadata": {},
   "source": [
    "\n",
    "\n",
    "### Step 1. Import the necessary libraries"
   ]
  },
  {
   "cell_type": "code",
   "execution_count": 14,
   "metadata": {},
   "outputs": [],
   "source": [
    "import pandas as pd\n",
    "import numpy as np"
   ]
  },
  {
   "attachments": {},
   "cell_type": "markdown",
   "metadata": {},
   "source": [
    "### Step 2. Import the dataset from this [address](https://raw.githubusercontent.com/justmarkham/DAT8/master/data/chipotle.tsv) and assign it to a variable called chipo."
   ]
  },
  {
   "cell_type": "code",
   "execution_count": 15,
   "metadata": {},
   "outputs": [],
   "source": [
    "\n",
    "chipo = pd.read_csv('https://raw.githubusercontent.com/justmarkham/DAT8/master/data/chipotle.tsv', sep='\\t')"
   ]
  },
  {
   "cell_type": "code",
   "execution_count": 16,
   "metadata": {},
   "outputs": [
    {
     "data": {
      "text/html": [
       "<div>\n",
       "<style scoped>\n",
       "    .dataframe tbody tr th:only-of-type {\n",
       "        vertical-align: middle;\n",
       "    }\n",
       "\n",
       "    .dataframe tbody tr th {\n",
       "        vertical-align: top;\n",
       "    }\n",
       "\n",
       "    .dataframe thead th {\n",
       "        text-align: right;\n",
       "    }\n",
       "</style>\n",
       "<table border=\"1\" class=\"dataframe\">\n",
       "  <thead>\n",
       "    <tr style=\"text-align: right;\">\n",
       "      <th></th>\n",
       "      <th>order_id</th>\n",
       "      <th>quantity</th>\n",
       "      <th>item_name</th>\n",
       "      <th>choice_description</th>\n",
       "      <th>item_price</th>\n",
       "    </tr>\n",
       "  </thead>\n",
       "  <tbody>\n",
       "    <tr>\n",
       "      <th>0</th>\n",
       "      <td>1</td>\n",
       "      <td>1</td>\n",
       "      <td>Chips and Fresh Tomato Salsa</td>\n",
       "      <td>NaN</td>\n",
       "      <td>$2.39</td>\n",
       "    </tr>\n",
       "    <tr>\n",
       "      <th>1</th>\n",
       "      <td>1</td>\n",
       "      <td>1</td>\n",
       "      <td>Izze</td>\n",
       "      <td>[Clementine]</td>\n",
       "      <td>$3.39</td>\n",
       "    </tr>\n",
       "    <tr>\n",
       "      <th>2</th>\n",
       "      <td>1</td>\n",
       "      <td>1</td>\n",
       "      <td>Nantucket Nectar</td>\n",
       "      <td>[Apple]</td>\n",
       "      <td>$3.39</td>\n",
       "    </tr>\n",
       "    <tr>\n",
       "      <th>3</th>\n",
       "      <td>1</td>\n",
       "      <td>1</td>\n",
       "      <td>Chips and Tomatillo-Green Chili Salsa</td>\n",
       "      <td>NaN</td>\n",
       "      <td>$2.39</td>\n",
       "    </tr>\n",
       "    <tr>\n",
       "      <th>4</th>\n",
       "      <td>2</td>\n",
       "      <td>2</td>\n",
       "      <td>Chicken Bowl</td>\n",
       "      <td>[Tomatillo-Red Chili Salsa (Hot), [Black Beans...</td>\n",
       "      <td>$16.98</td>\n",
       "    </tr>\n",
       "    <tr>\n",
       "      <th>...</th>\n",
       "      <td>...</td>\n",
       "      <td>...</td>\n",
       "      <td>...</td>\n",
       "      <td>...</td>\n",
       "      <td>...</td>\n",
       "    </tr>\n",
       "    <tr>\n",
       "      <th>4617</th>\n",
       "      <td>1833</td>\n",
       "      <td>1</td>\n",
       "      <td>Steak Burrito</td>\n",
       "      <td>[Fresh Tomato Salsa, [Rice, Black Beans, Sour ...</td>\n",
       "      <td>$11.75</td>\n",
       "    </tr>\n",
       "    <tr>\n",
       "      <th>4618</th>\n",
       "      <td>1833</td>\n",
       "      <td>1</td>\n",
       "      <td>Steak Burrito</td>\n",
       "      <td>[Fresh Tomato Salsa, [Rice, Sour Cream, Cheese...</td>\n",
       "      <td>$11.75</td>\n",
       "    </tr>\n",
       "    <tr>\n",
       "      <th>4619</th>\n",
       "      <td>1834</td>\n",
       "      <td>1</td>\n",
       "      <td>Chicken Salad Bowl</td>\n",
       "      <td>[Fresh Tomato Salsa, [Fajita Vegetables, Pinto...</td>\n",
       "      <td>$11.25</td>\n",
       "    </tr>\n",
       "    <tr>\n",
       "      <th>4620</th>\n",
       "      <td>1834</td>\n",
       "      <td>1</td>\n",
       "      <td>Chicken Salad Bowl</td>\n",
       "      <td>[Fresh Tomato Salsa, [Fajita Vegetables, Lettu...</td>\n",
       "      <td>$8.75</td>\n",
       "    </tr>\n",
       "    <tr>\n",
       "      <th>4621</th>\n",
       "      <td>1834</td>\n",
       "      <td>1</td>\n",
       "      <td>Chicken Salad Bowl</td>\n",
       "      <td>[Fresh Tomato Salsa, [Fajita Vegetables, Pinto...</td>\n",
       "      <td>$8.75</td>\n",
       "    </tr>\n",
       "  </tbody>\n",
       "</table>\n",
       "<p>4622 rows × 5 columns</p>\n",
       "</div>"
      ],
      "text/plain": [
       "      order_id  quantity                              item_name  \\\n",
       "0            1         1           Chips and Fresh Tomato Salsa   \n",
       "1            1         1                                   Izze   \n",
       "2            1         1                       Nantucket Nectar   \n",
       "3            1         1  Chips and Tomatillo-Green Chili Salsa   \n",
       "4            2         2                           Chicken Bowl   \n",
       "...        ...       ...                                    ...   \n",
       "4617      1833         1                          Steak Burrito   \n",
       "4618      1833         1                          Steak Burrito   \n",
       "4619      1834         1                     Chicken Salad Bowl   \n",
       "4620      1834         1                     Chicken Salad Bowl   \n",
       "4621      1834         1                     Chicken Salad Bowl   \n",
       "\n",
       "                                     choice_description item_price  \n",
       "0                                                   NaN     $2.39   \n",
       "1                                          [Clementine]     $3.39   \n",
       "2                                               [Apple]     $3.39   \n",
       "3                                                   NaN     $2.39   \n",
       "4     [Tomatillo-Red Chili Salsa (Hot), [Black Beans...    $16.98   \n",
       "...                                                 ...        ...  \n",
       "4617  [Fresh Tomato Salsa, [Rice, Black Beans, Sour ...    $11.75   \n",
       "4618  [Fresh Tomato Salsa, [Rice, Sour Cream, Cheese...    $11.75   \n",
       "4619  [Fresh Tomato Salsa, [Fajita Vegetables, Pinto...    $11.25   \n",
       "4620  [Fresh Tomato Salsa, [Fajita Vegetables, Lettu...     $8.75   \n",
       "4621  [Fresh Tomato Salsa, [Fajita Vegetables, Pinto...     $8.75   \n",
       "\n",
       "[4622 rows x 5 columns]"
      ]
     },
     "execution_count": 16,
     "metadata": {},
     "output_type": "execute_result"
    }
   ],
   "source": [
    "chipo"
   ]
  },
  {
   "attachments": {},
   "cell_type": "markdown",
   "metadata": {},
   "source": [
    "### Step 3. Name of the max valued product"
   ]
  },
  {
   "cell_type": "code",
   "execution_count": 17,
   "metadata": {},
   "outputs": [
    {
     "name": "stdout",
     "output_type": "stream",
     "text": [
      "object\n"
     ]
    }
   ],
   "source": [
    "print(chipo['item_price'].dtype)"
   ]
  },
  {
   "cell_type": "code",
   "execution_count": 18,
   "metadata": {},
   "outputs": [
    {
     "name": "stdout",
     "output_type": "stream",
     "text": [
      "0     2.39\n",
      "1     3.39\n",
      "2     3.39\n",
      "3     2.39\n",
      "4    16.98\n",
      "Name: item_price, dtype: float64\n",
      "float64\n"
     ]
    }
   ],
   "source": [
    "chipo['item_price'] = chipo['item_price'].str.replace('$', '')  # Quitar el símbolo de dólar\n",
    "chipo['item_price'] = chipo['item_price'].astype(float)  # Convertir a numérico\n",
    "\n",
    "print(chipo['item_price'].head())\n",
    "print(chipo['item_price'].dtype)  # Para verificar el tipo de datos\n",
    "\n"
   ]
  },
  {
   "cell_type": "code",
   "execution_count": 19,
   "metadata": {},
   "outputs": [
    {
     "data": {
      "text/plain": [
       "44.25"
      ]
     },
     "execution_count": 19,
     "metadata": {},
     "output_type": "execute_result"
    }
   ],
   "source": [
    "precio_maximo = chipo['item_price'].max()\n",
    "\n",
    "precio_maximo"
   ]
  },
  {
   "cell_type": "code",
   "execution_count": 20,
   "metadata": {},
   "outputs": [
    {
     "name": "stdout",
     "output_type": "stream",
     "text": [
      "Producto mas caro ($44.25):\n",
      "- Chips and Fresh Tomato Salsa\n"
     ]
    }
   ],
   "source": [
    "max_price = chipo['item_price'].max()\n",
    "\n",
    "max_price_rows = chipo[chipo['item_price'] == max_price]\n",
    "\n",
    "max_price_items = max_price_rows['item_name'].unique()\n",
    "\n",
    "print(f\"Producto mas caro (${max_price:.2f}):\")\n",
    "for item in max_price_items:\n",
    "    print(f\"- {item}\")\n",
    "\n"
   ]
  },
  {
   "attachments": {},
   "cell_type": "markdown",
   "metadata": {},
   "source": [
    "### Step 4.How many products cost more than $10.00? "
   ]
  },
  {
   "cell_type": "code",
   "execution_count": 21,
   "metadata": {},
   "outputs": [
    {
     "name": "stdout",
     "output_type": "stream",
     "text": [
      "numero de productos mas caros que $10.00: 31\n"
     ]
    }
   ],
   "source": [
    "expensive_items = chipo[chipo['item_price'] > 10.00]\n",
    "\n",
    "num_expensive_items = expensive_items['item_name'].nunique()\n",
    "\n",
    "print(f\"numero de productos mas caros que $10.00: {num_expensive_items}\")"
   ]
  },
  {
   "attachments": {},
   "cell_type": "markdown",
   "metadata": {},
   "source": [
    "### Step 4.1: Y cuántos pedidos se han hecho con un producto de más de 10$? Es lo mismo?"
   ]
  },
  {
   "cell_type": "code",
   "execution_count": 22,
   "metadata": {},
   "outputs": [
    {
     "name": "stdout",
     "output_type": "stream",
     "text": [
      "pedidos de mas de $10.00: 863\n"
     ]
    }
   ],
   "source": [
    "# pedidos de mas de $10.00\n",
    "expensive_orders = chipo[chipo['item_price'] > 10.00]\n",
    "\n",
    "# contar los id de ordenes no duplicados por producto\n",
    "num_expensive_orders = expensive_orders['order_id'].nunique()\n",
    "\n",
    "print(f\"pedidos de mas de $10.00: {num_expensive_orders}\")"
   ]
  },
  {
   "cell_type": "markdown",
   "metadata": {},
   "source": [
    "### Step 4.2: Y cuántos pedidos se han hecho de más de 10$? Es lo mismo?"
   ]
  },
  {
   "cell_type": "code",
   "execution_count": 23,
   "metadata": {},
   "outputs": [
    {
     "name": "stdout",
     "output_type": "stream",
     "text": [
      "Número de pedidos con un total de más de $10: 1834\n"
     ]
    }
   ],
   "source": [
    "# Agrupar por 'order_id' y sumar los precios de los items\n",
    "total_por_pedido = chipo.groupby('order_id')['item_price'].sum()\n",
    "\n",
    "# Contar cuántos pedidos tienen un total de más de $10\n",
    "pedidos_mas_de_10 = total_por_pedido[total_por_pedido > 10.00]\n",
    "num_pedidos_mas_de_10 = len(pedidos_mas_de_10)\n",
    "\n",
    "print(f\"Número de pedidos con un total de más de $10: {num_pedidos_mas_de_10}\")"
   ]
  },
  {
   "cell_type": "markdown",
   "metadata": {},
   "source": [
    "### Step 4.3: Y en cuántos pedidos se ha pagado más de 10$ por un mismo producto? Es lo mismo?"
   ]
  },
  {
   "cell_type": "code",
   "execution_count": 25,
   "metadata": {},
   "outputs": [
    {
     "name": "stdout",
     "output_type": "stream",
     "text": [
      "Número de pedidos donde se ha pagado más de $10 por un mismo producto: 889\n"
     ]
    }
   ],
   "source": [
    "# Calcular el precio total por item en cada pedido\n",
    "chipo['total_item_price'] = chipo['item_price'] * chipo['quantity']\n",
    "\n",
    "# Filtrar pedidos donde al menos un item total cuesta más de $10\n",
    "pedidos_item_mas_10 = chipo[chipo['total_item_price'] > 10.00]['order_id'].unique()\n",
    "\n",
    "# Contar cuántos pedidos únicos cumplen esta condición\n",
    "num_pedidos_item_mas_10 = len(pedidos_item_mas_10)\n",
    "\n",
    "print(f\"Número de pedidos donde se ha pagado más de $10 por un mismo producto: {num_pedidos_item_mas_10}\")"
   ]
  },
  {
   "attachments": {},
   "cell_type": "markdown",
   "metadata": {},
   "source": [
    "### Step 5. What is the price of each item and name it unit_price. Get only item_name and unit_price"
   ]
  },
  {
   "cell_type": "code",
   "execution_count": 34,
   "metadata": {},
   "outputs": [
    {
     "name": "stdout",
     "output_type": "stream",
     "text": [
      "\n",
      "Total number of unique items: 50\n",
      "\n",
      "                                item_name  unit_price\n",
      "42                       Steak Salad Bowl       23.78\n",
      "7                                    Bowl       22.20\n",
      "17                           Chicken Bowl       16.98\n",
      "15                    Carnitas Salad Bowl       11.89\n",
      "4                     Barbacoa Salad Bowl       11.89\n",
      "39                          Steak Burrito       11.75\n",
      "3                   Barbacoa Crispy Tacos       11.75\n",
      "1                           Barbacoa Bowl       11.75\n",
      "49                      Veggie Soft Tacos       11.25\n",
      "48                      Veggie Salad Bowl       11.25\n",
      "44                            Veggie Bowl       11.25\n",
      "45                         Veggie Burrito       11.25\n",
      "20                          Chicken Salad       10.98\n",
      "40                     Steak Crispy Tacos        9.25\n",
      "43                       Steak Soft Tacos        9.25\n",
      "16                    Carnitas Soft Tacos        9.25\n",
      "13                  Carnitas Crispy Tacos        9.25\n",
      "5                     Barbacoa Soft Tacos        9.25\n",
      "11                          Carnitas Bowl        8.99\n",
      "2                        Barbacoa Burrito        8.99\n",
      "12                       Carnitas Burrito        8.99\n",
      "14                         Carnitas Salad        8.99\n",
      "38                             Steak Bowl        8.99\n",
      "41                            Steak Salad        8.99\n",
      "19                   Chicken Crispy Tacos        8.75\n",
      "21                     Chicken Salad Bowl        8.75\n",
      "22                     Chicken Soft Tacos        8.75\n",
      "18                        Chicken Burrito        8.49\n",
      "46                    Veggie Crispy Tacos        8.49\n",
      "47                           Veggie Salad        8.49\n",
      "33                           Crispy Tacos        7.40\n",
      "8                                 Burrito        7.40\n",
      "36                                  Salad        7.40\n",
      "0                       6 Pack Soft Drink        6.49\n",
      "25                    Chips and Guacamole        4.45\n",
      "34                                   Izze        3.39\n",
      "35                       Nantucket Nectar        3.39\n",
      "26      Chips and Mild Fresh Tomato Salsa        3.00\n",
      "30    Chips and Tomatillo Red Chili Salsa        2.95\n",
      "29  Chips and Tomatillo Green Chili Salsa        2.95\n",
      "27     Chips and Roasted Chili Corn Salsa        2.95\n",
      "32    Chips and Tomatillo-Red Chili Salsa        2.39\n",
      "31  Chips and Tomatillo-Green Chili Salsa        2.39\n",
      "28     Chips and Roasted Chili-Corn Salsa        2.39\n",
      "24           Chips and Fresh Tomato Salsa        2.39\n",
      "9                             Canned Soda        2.18\n",
      "23                                  Chips        2.15\n",
      "37                          Side of Chips        1.69\n",
      "10                      Canned Soft Drink        1.25\n",
      "6                           Bottled Water        1.09\n"
     ]
    }
   ],
   "source": [
    "# agrupar por 'item_name' y obtener el primer precio (no se si todos son iguales para el mismo producto)\n",
    "unit_prices = chipo.groupby('item_name')['item_price'].first().reset_index()\n",
    "\n",
    "#unit_prices = chipo.groupby('unit_price').first().reset_index() ????????????????????\n",
    "\n",
    "# Renombnrar 'item_price' column a 'unit_price'????\n",
    "unit_prices = unit_prices.rename(columns={'item_price': 'unit_price'})\n",
    "\n",
    "# Step 4: Sort the DataFrame by 'unit_price' in descending order\n",
    "unit_prices = unit_prices.sort_values('unit_price', ascending=False)\n",
    "\n",
    "# hay un total de 50 si tuviera mas que ???\n",
    "print(\"\\nTotal number of unique items:\", len(unit_prices))\n",
    "print()\n",
    "print(unit_prices.head(51))\n",
    "\n"
   ]
  },
  {
   "attachments": {},
   "cell_type": "markdown",
   "metadata": {},
   "source": [
    "### Step 6. Sort by the name of the item"
   ]
  },
  {
   "cell_type": "code",
   "execution_count": 42,
   "metadata": {},
   "outputs": [
    {
     "name": "stdout",
     "output_type": "stream",
     "text": [
      "                                item_name  unit_price\n",
      "49                      Veggie Soft Tacos       11.25\n",
      "48                      Veggie Salad Bowl       11.25\n",
      "47                           Veggie Salad        8.49\n",
      "46                    Veggie Crispy Tacos        8.49\n",
      "45                         Veggie Burrito       11.25\n",
      "44                            Veggie Bowl       11.25\n",
      "43                       Steak Soft Tacos        9.25\n",
      "42                       Steak Salad Bowl       23.78\n",
      "41                            Steak Salad        8.99\n",
      "40                     Steak Crispy Tacos        9.25\n",
      "39                          Steak Burrito       11.75\n",
      "38                             Steak Bowl        8.99\n",
      "37                          Side of Chips        1.69\n",
      "36                                  Salad        7.40\n",
      "35                       Nantucket Nectar        3.39\n",
      "34                                   Izze        3.39\n",
      "33                           Crispy Tacos        7.40\n",
      "32    Chips and Tomatillo-Red Chili Salsa        2.39\n",
      "31  Chips and Tomatillo-Green Chili Salsa        2.39\n",
      "30    Chips and Tomatillo Red Chili Salsa        2.95\n",
      "29  Chips and Tomatillo Green Chili Salsa        2.95\n",
      "28     Chips and Roasted Chili-Corn Salsa        2.39\n",
      "27     Chips and Roasted Chili Corn Salsa        2.95\n",
      "26      Chips and Mild Fresh Tomato Salsa        3.00\n",
      "25                    Chips and Guacamole        4.45\n",
      "24           Chips and Fresh Tomato Salsa        2.39\n",
      "23                                  Chips        2.15\n",
      "22                     Chicken Soft Tacos        8.75\n",
      "21                     Chicken Salad Bowl        8.75\n",
      "20                          Chicken Salad       10.98\n",
      "19                   Chicken Crispy Tacos        8.75\n",
      "18                        Chicken Burrito        8.49\n",
      "17                           Chicken Bowl       16.98\n",
      "16                    Carnitas Soft Tacos        9.25\n",
      "15                    Carnitas Salad Bowl       11.89\n",
      "14                         Carnitas Salad        8.99\n",
      "13                  Carnitas Crispy Tacos        9.25\n",
      "12                       Carnitas Burrito        8.99\n",
      "11                          Carnitas Bowl        8.99\n",
      "10                      Canned Soft Drink        1.25\n",
      "9                             Canned Soda        2.18\n",
      "8                                 Burrito        7.40\n",
      "7                                    Bowl       22.20\n",
      "6                           Bottled Water        1.09\n",
      "5                     Barbacoa Soft Tacos        9.25\n",
      "4                     Barbacoa Salad Bowl       11.89\n",
      "3                   Barbacoa Crispy Tacos       11.75\n",
      "2                        Barbacoa Burrito        8.99\n",
      "1                           Barbacoa Bowl       11.75\n",
      "0                       6 Pack Soft Drink        6.49\n",
      "\n",
      "                                item_name  unit_price\n",
      "0                       6 Pack Soft Drink        6.49\n",
      "1                           Barbacoa Bowl       11.75\n",
      "2                        Barbacoa Burrito        8.99\n",
      "3                   Barbacoa Crispy Tacos       11.75\n",
      "4                     Barbacoa Salad Bowl       11.89\n",
      "5                     Barbacoa Soft Tacos        9.25\n",
      "6                           Bottled Water        1.09\n",
      "7                                    Bowl       22.20\n",
      "8                                 Burrito        7.40\n",
      "9                             Canned Soda        2.18\n",
      "10                      Canned Soft Drink        1.25\n",
      "11                          Carnitas Bowl        8.99\n",
      "12                       Carnitas Burrito        8.99\n",
      "13                  Carnitas Crispy Tacos        9.25\n",
      "14                         Carnitas Salad        8.99\n",
      "15                    Carnitas Salad Bowl       11.89\n",
      "16                    Carnitas Soft Tacos        9.25\n",
      "17                           Chicken Bowl       16.98\n",
      "18                        Chicken Burrito        8.49\n",
      "19                   Chicken Crispy Tacos        8.75\n",
      "20                          Chicken Salad       10.98\n",
      "21                     Chicken Salad Bowl        8.75\n",
      "22                     Chicken Soft Tacos        8.75\n",
      "23                                  Chips        2.15\n",
      "24           Chips and Fresh Tomato Salsa        2.39\n",
      "25                    Chips and Guacamole        4.45\n",
      "26      Chips and Mild Fresh Tomato Salsa        3.00\n",
      "27     Chips and Roasted Chili Corn Salsa        2.95\n",
      "28     Chips and Roasted Chili-Corn Salsa        2.39\n",
      "29  Chips and Tomatillo Green Chili Salsa        2.95\n",
      "30    Chips and Tomatillo Red Chili Salsa        2.95\n",
      "31  Chips and Tomatillo-Green Chili Salsa        2.39\n",
      "32    Chips and Tomatillo-Red Chili Salsa        2.39\n",
      "33                           Crispy Tacos        7.40\n",
      "34                                   Izze        3.39\n",
      "35                       Nantucket Nectar        3.39\n",
      "36                                  Salad        7.40\n",
      "37                          Side of Chips        1.69\n",
      "38                             Steak Bowl        8.99\n",
      "39                          Steak Burrito       11.75\n",
      "40                     Steak Crispy Tacos        9.25\n",
      "41                            Steak Salad        8.99\n",
      "42                       Steak Salad Bowl       23.78\n",
      "43                       Steak Soft Tacos        9.25\n",
      "44                            Veggie Bowl       11.25\n",
      "45                         Veggie Burrito       11.25\n",
      "46                    Veggie Crispy Tacos        8.49\n",
      "47                           Veggie Salad        8.49\n",
      "48                      Veggie Salad Bowl       11.25\n",
      "49                      Veggie Soft Tacos       11.25\n"
     ]
    }
   ],
   "source": [
    "\n",
    "print(unit_prices.head(51))\n",
    "print()\n",
    "# lista completa:\n",
    "unit_prices = unit_prices.sort_values('item_name', ascending=True)\n",
    "print(unit_prices.to_string())"
   ]
  },
  {
   "attachments": {},
   "cell_type": "markdown",
   "metadata": {},
   "source": [
    "### Step 7. What was the quantity of the most expensive item ordered? 2 ways"
   ]
  },
  {
   "cell_type": "code",
   "execution_count": 43,
   "metadata": {},
   "outputs": [
    {
     "name": "stdout",
     "output_type": "stream",
     "text": [
      "La comida mas cara'Chips and Fresh Tomato Salsa'\n",
      "su precio $44.25\n",
      "las unidades pedidas 15\n"
     ]
    }
   ],
   "source": [
    "# ordenar por precio en orden descendente y obtener la primera fila\n",
    "most_expensive = chipo.sort_values('item_price', ascending=False).iloc[0]\n",
    "\n",
    "print(f\"La comida mas cara'{most_expensive['item_name']}'\")\n",
    "print(f\"su precio ${most_expensive['item_price']:.2f}\")\n",
    "print(f\"las unidades pedidas {most_expensive['quantity']}\")"
   ]
  },
  {
   "cell_type": "code",
   "execution_count": 45,
   "metadata": {},
   "outputs": [
    {
     "name": "stdout",
     "output_type": "stream",
     "text": [
      "la comida mas caruna 'Chips and Fresh Tomato Salsa'\n",
      "su precio $44.25\n",
      "cantidad pedida 15\n"
     ]
    }
   ],
   "source": [
    "# precio mas caro\n",
    "max_price = chipo['item_price'].max()\n",
    "\n",
    "# filas con los precios mas caros\n",
    "most_expensive_items = chipo[chipo['item_price'] == max_price]\n",
    "\n",
    "# si hay varias comidas con precios altos las mostramos\n",
    "for _, item in most_expensive_items.iterrows():\n",
    "    print(f\"la comida mas caruna '{item['item_name']}'\")\n",
    "    print(f\"su precio ${item['item_price']:.2f}\")\n",
    "    print(f\"cantidad pedida {item['quantity']}\")"
   ]
  },
  {
   "attachments": {},
   "cell_type": "markdown",
   "metadata": {},
   "source": [
    "### Step 8. How many times was a Veggie Salad Bowl ordered?"
   ]
  },
  {
   "cell_type": "code",
   "execution_count": 46,
   "metadata": {},
   "outputs": [
    {
     "name": "stdout",
     "output_type": "stream",
     "text": [
      "Veggie Salad Bowl pedido 18 veces\n"
     ]
    }
   ],
   "source": [
    "# Filtrar 'Veggie Salad Bowl' pedidos\n",
    "veggie_salad_orders = chipo[chipo['item_name'] == 'Veggie Salad Bowl']\n",
    "\n",
    "# contar el numero de pedidos\n",
    "veggie_salad_count = len(veggie_salad_orders)\n",
    "\n",
    "print(f\"Veggie Salad Bowl pedido {veggie_salad_count} veces\")\n",
    "\n"
   ]
  },
  {
   "attachments": {},
   "cell_type": "markdown",
   "metadata": {},
   "source": [
    "### Step 9. How many times did someone order more than one Canned Soda?"
   ]
  },
  {
   "cell_type": "code",
   "execution_count": 47,
   "metadata": {},
   "outputs": [
    {
     "name": "stdout",
     "output_type": "stream",
     "text": [
      "Number of orders with more than one Canned Soda: 20\n",
      "Total quantity of Canned Sodas in these orders: 42\n"
     ]
    }
   ],
   "source": [
    "# Filtrar pedidos de 'Canned Soda' mas de 1 vez\n",
    "multiple_soda_orders = chipo[(chipo['item_name'] == 'Canned Soda') & (chipo['quantity'] > 1)]\n",
    "\n",
    "# contar el total de pedidos\n",
    "count_multiple_sodas = len(multiple_soda_orders)\n",
    "\n",
    "print(f\"pedidos de mas de 1 Canned Soda: {count_multiple_sodas}\")\n"
   ]
  },
  {
   "cell_type": "code",
   "execution_count": null,
   "metadata": {},
   "outputs": [],
   "source": []
  },
  {
   "cell_type": "code",
   "execution_count": null,
   "metadata": {},
   "outputs": [],
   "source": []
  },
  {
   "cell_type": "code",
   "execution_count": null,
   "metadata": {},
   "outputs": [],
   "source": []
  },
  {
   "cell_type": "code",
   "execution_count": null,
   "metadata": {},
   "outputs": [],
   "source": []
  }
 ],
 "metadata": {
  "anaconda-cloud": {},
  "kernelspec": {
   "display_name": "Python 3",
   "language": "python",
   "name": "python3"
  },
  "language_info": {
   "codemirror_mode": {
    "name": "ipython",
    "version": 3
   },
   "file_extension": ".py",
   "mimetype": "text/x-python",
   "name": "python",
   "nbconvert_exporter": "python",
   "pygments_lexer": "ipython3",
   "version": "3.12.4"
  }
 },
 "nbformat": 4,
 "nbformat_minor": 4
}
