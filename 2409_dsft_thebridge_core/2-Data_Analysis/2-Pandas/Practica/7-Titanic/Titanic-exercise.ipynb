{
 "cells": [
  {
   "attachments": {},
   "cell_type": "markdown",
   "metadata": {},
   "source": [
    "   #                                                  Titanic Exercise \n",
    "\n",
    "   ![titanic](https://userscontent2.emaze.com/images/a5f68f37-6349-4065-a1fc-921cbe7401b2/958230111417e36d6b3c67ffd7bc3494.jpeg)\n",
    "   #### Practise Pandas"
   ]
  },
  {
   "attachments": {},
   "cell_type": "markdown",
   "metadata": {},
   "source": [
    "First of all, import the needed libraries. "
   ]
  },
  {
   "cell_type": "code",
   "execution_count": 2,
   "metadata": {},
   "outputs": [],
   "source": [
    "import numpy as np\n",
    "import pandas as pd"
   ]
  },
  {
   "attachments": {},
   "cell_type": "markdown",
   "metadata": {},
   "source": [
    "1. Read in filename and call the variable `titanic`\n",
    "    - Explore the `titanic` dataset using `info`, `dtypes` & `describe`\n",
    " "
   ]
  },
  {
   "cell_type": "code",
   "execution_count": 3,
   "metadata": {},
   "outputs": [
    {
     "data": {
      "text/html": [
       "<div>\n",
       "<style scoped>\n",
       "    .dataframe tbody tr th:only-of-type {\n",
       "        vertical-align: middle;\n",
       "    }\n",
       "\n",
       "    .dataframe tbody tr th {\n",
       "        vertical-align: top;\n",
       "    }\n",
       "\n",
       "    .dataframe thead th {\n",
       "        text-align: right;\n",
       "    }\n",
       "</style>\n",
       "<table border=\"1\" class=\"dataframe\">\n",
       "  <thead>\n",
       "    <tr style=\"text-align: right;\">\n",
       "      <th></th>\n",
       "      <th>pclass</th>\n",
       "      <th>survived</th>\n",
       "      <th>name</th>\n",
       "      <th>sex</th>\n",
       "      <th>age</th>\n",
       "      <th>sibsp</th>\n",
       "      <th>parch</th>\n",
       "      <th>ticket</th>\n",
       "      <th>fare</th>\n",
       "      <th>cabin</th>\n",
       "      <th>embarked</th>\n",
       "      <th>boat</th>\n",
       "      <th>body</th>\n",
       "      <th>home.dest</th>\n",
       "    </tr>\n",
       "  </thead>\n",
       "  <tbody>\n",
       "    <tr>\n",
       "      <th>0</th>\n",
       "      <td>1</td>\n",
       "      <td>1</td>\n",
       "      <td>Allen, Miss. Elisabeth Walton</td>\n",
       "      <td>female</td>\n",
       "      <td>29.00</td>\n",
       "      <td>0</td>\n",
       "      <td>0</td>\n",
       "      <td>24160</td>\n",
       "      <td>211.3375</td>\n",
       "      <td>B5</td>\n",
       "      <td>S</td>\n",
       "      <td>2</td>\n",
       "      <td>NaN</td>\n",
       "      <td>St Louis, MO</td>\n",
       "    </tr>\n",
       "    <tr>\n",
       "      <th>1</th>\n",
       "      <td>1</td>\n",
       "      <td>1</td>\n",
       "      <td>Allison, Master. Hudson Trevor</td>\n",
       "      <td>male</td>\n",
       "      <td>0.92</td>\n",
       "      <td>1</td>\n",
       "      <td>2</td>\n",
       "      <td>113781</td>\n",
       "      <td>151.5500</td>\n",
       "      <td>C22 C26</td>\n",
       "      <td>S</td>\n",
       "      <td>11</td>\n",
       "      <td>NaN</td>\n",
       "      <td>Montreal, PQ / Chesterville, ON</td>\n",
       "    </tr>\n",
       "    <tr>\n",
       "      <th>2</th>\n",
       "      <td>1</td>\n",
       "      <td>0</td>\n",
       "      <td>Allison, Miss. Helen Loraine</td>\n",
       "      <td>female</td>\n",
       "      <td>2.00</td>\n",
       "      <td>1</td>\n",
       "      <td>2</td>\n",
       "      <td>113781</td>\n",
       "      <td>151.5500</td>\n",
       "      <td>C22 C26</td>\n",
       "      <td>S</td>\n",
       "      <td>NaN</td>\n",
       "      <td>NaN</td>\n",
       "      <td>Montreal, PQ / Chesterville, ON</td>\n",
       "    </tr>\n",
       "    <tr>\n",
       "      <th>3</th>\n",
       "      <td>1</td>\n",
       "      <td>0</td>\n",
       "      <td>Allison, Mr. Hudson Joshua Creighton</td>\n",
       "      <td>male</td>\n",
       "      <td>30.00</td>\n",
       "      <td>1</td>\n",
       "      <td>2</td>\n",
       "      <td>113781</td>\n",
       "      <td>151.5500</td>\n",
       "      <td>C22 C26</td>\n",
       "      <td>S</td>\n",
       "      <td>NaN</td>\n",
       "      <td>135.0</td>\n",
       "      <td>Montreal, PQ / Chesterville, ON</td>\n",
       "    </tr>\n",
       "    <tr>\n",
       "      <th>4</th>\n",
       "      <td>1</td>\n",
       "      <td>0</td>\n",
       "      <td>Allison, Mrs. Hudson J C (Bessie Waldo Daniels)</td>\n",
       "      <td>female</td>\n",
       "      <td>25.00</td>\n",
       "      <td>1</td>\n",
       "      <td>2</td>\n",
       "      <td>113781</td>\n",
       "      <td>151.5500</td>\n",
       "      <td>C22 C26</td>\n",
       "      <td>S</td>\n",
       "      <td>NaN</td>\n",
       "      <td>NaN</td>\n",
       "      <td>Montreal, PQ / Chesterville, ON</td>\n",
       "    </tr>\n",
       "    <tr>\n",
       "      <th>...</th>\n",
       "      <td>...</td>\n",
       "      <td>...</td>\n",
       "      <td>...</td>\n",
       "      <td>...</td>\n",
       "      <td>...</td>\n",
       "      <td>...</td>\n",
       "      <td>...</td>\n",
       "      <td>...</td>\n",
       "      <td>...</td>\n",
       "      <td>...</td>\n",
       "      <td>...</td>\n",
       "      <td>...</td>\n",
       "      <td>...</td>\n",
       "      <td>...</td>\n",
       "    </tr>\n",
       "    <tr>\n",
       "      <th>1304</th>\n",
       "      <td>3</td>\n",
       "      <td>0</td>\n",
       "      <td>Zabour, Miss. Hileni</td>\n",
       "      <td>female</td>\n",
       "      <td>14.50</td>\n",
       "      <td>1</td>\n",
       "      <td>0</td>\n",
       "      <td>2665</td>\n",
       "      <td>14.4542</td>\n",
       "      <td>NaN</td>\n",
       "      <td>C</td>\n",
       "      <td>NaN</td>\n",
       "      <td>328.0</td>\n",
       "      <td>NaN</td>\n",
       "    </tr>\n",
       "    <tr>\n",
       "      <th>1305</th>\n",
       "      <td>3</td>\n",
       "      <td>0</td>\n",
       "      <td>Zabour, Miss. Thamine</td>\n",
       "      <td>female</td>\n",
       "      <td>NaN</td>\n",
       "      <td>1</td>\n",
       "      <td>0</td>\n",
       "      <td>2665</td>\n",
       "      <td>14.4542</td>\n",
       "      <td>NaN</td>\n",
       "      <td>C</td>\n",
       "      <td>NaN</td>\n",
       "      <td>NaN</td>\n",
       "      <td>NaN</td>\n",
       "    </tr>\n",
       "    <tr>\n",
       "      <th>1306</th>\n",
       "      <td>3</td>\n",
       "      <td>0</td>\n",
       "      <td>Zakarian, Mr. Mapriededer</td>\n",
       "      <td>male</td>\n",
       "      <td>26.50</td>\n",
       "      <td>0</td>\n",
       "      <td>0</td>\n",
       "      <td>2656</td>\n",
       "      <td>7.2250</td>\n",
       "      <td>NaN</td>\n",
       "      <td>C</td>\n",
       "      <td>NaN</td>\n",
       "      <td>304.0</td>\n",
       "      <td>NaN</td>\n",
       "    </tr>\n",
       "    <tr>\n",
       "      <th>1307</th>\n",
       "      <td>3</td>\n",
       "      <td>0</td>\n",
       "      <td>Zakarian, Mr. Ortin</td>\n",
       "      <td>male</td>\n",
       "      <td>27.00</td>\n",
       "      <td>0</td>\n",
       "      <td>0</td>\n",
       "      <td>2670</td>\n",
       "      <td>7.2250</td>\n",
       "      <td>NaN</td>\n",
       "      <td>C</td>\n",
       "      <td>NaN</td>\n",
       "      <td>NaN</td>\n",
       "      <td>NaN</td>\n",
       "    </tr>\n",
       "    <tr>\n",
       "      <th>1308</th>\n",
       "      <td>3</td>\n",
       "      <td>0</td>\n",
       "      <td>Zimmerman, Mr. Leo</td>\n",
       "      <td>male</td>\n",
       "      <td>29.00</td>\n",
       "      <td>0</td>\n",
       "      <td>0</td>\n",
       "      <td>315082</td>\n",
       "      <td>7.8750</td>\n",
       "      <td>NaN</td>\n",
       "      <td>S</td>\n",
       "      <td>NaN</td>\n",
       "      <td>NaN</td>\n",
       "      <td>NaN</td>\n",
       "    </tr>\n",
       "  </tbody>\n",
       "</table>\n",
       "<p>1309 rows × 14 columns</p>\n",
       "</div>"
      ],
      "text/plain": [
       "      pclass  survived                                             name  \\\n",
       "0          1         1                    Allen, Miss. Elisabeth Walton   \n",
       "1          1         1                   Allison, Master. Hudson Trevor   \n",
       "2          1         0                     Allison, Miss. Helen Loraine   \n",
       "3          1         0             Allison, Mr. Hudson Joshua Creighton   \n",
       "4          1         0  Allison, Mrs. Hudson J C (Bessie Waldo Daniels)   \n",
       "...      ...       ...                                              ...   \n",
       "1304       3         0                             Zabour, Miss. Hileni   \n",
       "1305       3         0                            Zabour, Miss. Thamine   \n",
       "1306       3         0                        Zakarian, Mr. Mapriededer   \n",
       "1307       3         0                              Zakarian, Mr. Ortin   \n",
       "1308       3         0                               Zimmerman, Mr. Leo   \n",
       "\n",
       "         sex    age  sibsp  parch  ticket      fare    cabin embarked boat  \\\n",
       "0     female  29.00      0      0   24160  211.3375       B5        S    2   \n",
       "1       male   0.92      1      2  113781  151.5500  C22 C26        S   11   \n",
       "2     female   2.00      1      2  113781  151.5500  C22 C26        S  NaN   \n",
       "3       male  30.00      1      2  113781  151.5500  C22 C26        S  NaN   \n",
       "4     female  25.00      1      2  113781  151.5500  C22 C26        S  NaN   \n",
       "...      ...    ...    ...    ...     ...       ...      ...      ...  ...   \n",
       "1304  female  14.50      1      0    2665   14.4542      NaN        C  NaN   \n",
       "1305  female    NaN      1      0    2665   14.4542      NaN        C  NaN   \n",
       "1306    male  26.50      0      0    2656    7.2250      NaN        C  NaN   \n",
       "1307    male  27.00      0      0    2670    7.2250      NaN        C  NaN   \n",
       "1308    male  29.00      0      0  315082    7.8750      NaN        S  NaN   \n",
       "\n",
       "       body                        home.dest  \n",
       "0       NaN                     St Louis, MO  \n",
       "1       NaN  Montreal, PQ / Chesterville, ON  \n",
       "2       NaN  Montreal, PQ / Chesterville, ON  \n",
       "3     135.0  Montreal, PQ / Chesterville, ON  \n",
       "4       NaN  Montreal, PQ / Chesterville, ON  \n",
       "...     ...                              ...  \n",
       "1304  328.0                              NaN  \n",
       "1305    NaN                              NaN  \n",
       "1306  304.0                              NaN  \n",
       "1307    NaN                              NaN  \n",
       "1308    NaN                              NaN  \n",
       "\n",
       "[1309 rows x 14 columns]"
      ]
     },
     "execution_count": 3,
     "metadata": {},
     "output_type": "execute_result"
    }
   ],
   "source": [
    "titanic = pd.read_csv(\"data/titanic.csv\")\n",
    "titanic"
   ]
  },
  {
   "cell_type": "code",
   "execution_count": 4,
   "metadata": {},
   "outputs": [
    {
     "name": "stdout",
     "output_type": "stream",
     "text": [
      "<class 'pandas.core.frame.DataFrame'>\n",
      "RangeIndex: 1309 entries, 0 to 1308\n",
      "Data columns (total 14 columns):\n",
      " #   Column     Non-Null Count  Dtype  \n",
      "---  ------     --------------  -----  \n",
      " 0   pclass     1309 non-null   int64  \n",
      " 1   survived   1309 non-null   int64  \n",
      " 2   name       1309 non-null   object \n",
      " 3   sex        1309 non-null   object \n",
      " 4   age        1046 non-null   float64\n",
      " 5   sibsp      1309 non-null   int64  \n",
      " 6   parch      1309 non-null   int64  \n",
      " 7   ticket     1309 non-null   object \n",
      " 8   fare       1308 non-null   float64\n",
      " 9   cabin      295 non-null    object \n",
      " 10  embarked   1307 non-null   object \n",
      " 11  boat       486 non-null    object \n",
      " 12  body       121 non-null    float64\n",
      " 13  home.dest  745 non-null    object \n",
      "dtypes: float64(3), int64(4), object(7)\n",
      "memory usage: 143.3+ KB\n"
     ]
    }
   ],
   "source": [
    "titanic.info()"
   ]
  },
  {
   "cell_type": "code",
   "execution_count": 5,
   "metadata": {},
   "outputs": [
    {
     "data": {
      "text/plain": [
       "pclass         int64\n",
       "survived       int64\n",
       "name          object\n",
       "sex           object\n",
       "age          float64\n",
       "sibsp          int64\n",
       "parch          int64\n",
       "ticket        object\n",
       "fare         float64\n",
       "cabin         object\n",
       "embarked      object\n",
       "boat          object\n",
       "body         float64\n",
       "home.dest     object\n",
       "dtype: object"
      ]
     },
     "execution_count": 5,
     "metadata": {},
     "output_type": "execute_result"
    }
   ],
   "source": [
    "titanic.dtypes"
   ]
  },
  {
   "attachments": {},
   "cell_type": "markdown",
   "metadata": {},
   "source": [
    "2. Create a separate dataframe with the columns `['name', 'sex', 'age']`, call it `people`\n",
    "\n",
    "It can be done two ways, do it both!"
   ]
  },
  {
   "cell_type": "code",
   "execution_count": 6,
   "metadata": {},
   "outputs": [
    {
     "data": {
      "text/html": [
       "<div>\n",
       "<style scoped>\n",
       "    .dataframe tbody tr th:only-of-type {\n",
       "        vertical-align: middle;\n",
       "    }\n",
       "\n",
       "    .dataframe tbody tr th {\n",
       "        vertical-align: top;\n",
       "    }\n",
       "\n",
       "    .dataframe thead th {\n",
       "        text-align: right;\n",
       "    }\n",
       "</style>\n",
       "<table border=\"1\" class=\"dataframe\">\n",
       "  <thead>\n",
       "    <tr style=\"text-align: right;\">\n",
       "      <th></th>\n",
       "      <th>pclass</th>\n",
       "      <th>survived</th>\n",
       "      <th>age</th>\n",
       "      <th>sibsp</th>\n",
       "      <th>parch</th>\n",
       "      <th>fare</th>\n",
       "      <th>body</th>\n",
       "    </tr>\n",
       "  </thead>\n",
       "  <tbody>\n",
       "    <tr>\n",
       "      <th>count</th>\n",
       "      <td>1309.000000</td>\n",
       "      <td>1309.000000</td>\n",
       "      <td>1046.000000</td>\n",
       "      <td>1309.000000</td>\n",
       "      <td>1309.000000</td>\n",
       "      <td>1308.000000</td>\n",
       "      <td>121.000000</td>\n",
       "    </tr>\n",
       "    <tr>\n",
       "      <th>mean</th>\n",
       "      <td>2.294882</td>\n",
       "      <td>0.381971</td>\n",
       "      <td>29.881138</td>\n",
       "      <td>0.498854</td>\n",
       "      <td>0.385027</td>\n",
       "      <td>33.295479</td>\n",
       "      <td>160.809917</td>\n",
       "    </tr>\n",
       "    <tr>\n",
       "      <th>std</th>\n",
       "      <td>0.837836</td>\n",
       "      <td>0.486055</td>\n",
       "      <td>14.413493</td>\n",
       "      <td>1.041658</td>\n",
       "      <td>0.865560</td>\n",
       "      <td>51.758668</td>\n",
       "      <td>97.696922</td>\n",
       "    </tr>\n",
       "    <tr>\n",
       "      <th>min</th>\n",
       "      <td>1.000000</td>\n",
       "      <td>0.000000</td>\n",
       "      <td>0.170000</td>\n",
       "      <td>0.000000</td>\n",
       "      <td>0.000000</td>\n",
       "      <td>0.000000</td>\n",
       "      <td>1.000000</td>\n",
       "    </tr>\n",
       "    <tr>\n",
       "      <th>25%</th>\n",
       "      <td>2.000000</td>\n",
       "      <td>0.000000</td>\n",
       "      <td>21.000000</td>\n",
       "      <td>0.000000</td>\n",
       "      <td>0.000000</td>\n",
       "      <td>7.895800</td>\n",
       "      <td>72.000000</td>\n",
       "    </tr>\n",
       "    <tr>\n",
       "      <th>50%</th>\n",
       "      <td>3.000000</td>\n",
       "      <td>0.000000</td>\n",
       "      <td>28.000000</td>\n",
       "      <td>0.000000</td>\n",
       "      <td>0.000000</td>\n",
       "      <td>14.454200</td>\n",
       "      <td>155.000000</td>\n",
       "    </tr>\n",
       "    <tr>\n",
       "      <th>75%</th>\n",
       "      <td>3.000000</td>\n",
       "      <td>1.000000</td>\n",
       "      <td>39.000000</td>\n",
       "      <td>1.000000</td>\n",
       "      <td>0.000000</td>\n",
       "      <td>31.275000</td>\n",
       "      <td>256.000000</td>\n",
       "    </tr>\n",
       "    <tr>\n",
       "      <th>max</th>\n",
       "      <td>3.000000</td>\n",
       "      <td>1.000000</td>\n",
       "      <td>80.000000</td>\n",
       "      <td>8.000000</td>\n",
       "      <td>9.000000</td>\n",
       "      <td>512.329200</td>\n",
       "      <td>328.000000</td>\n",
       "    </tr>\n",
       "  </tbody>\n",
       "</table>\n",
       "</div>"
      ],
      "text/plain": [
       "            pclass     survived          age        sibsp        parch  \\\n",
       "count  1309.000000  1309.000000  1046.000000  1309.000000  1309.000000   \n",
       "mean      2.294882     0.381971    29.881138     0.498854     0.385027   \n",
       "std       0.837836     0.486055    14.413493     1.041658     0.865560   \n",
       "min       1.000000     0.000000     0.170000     0.000000     0.000000   \n",
       "25%       2.000000     0.000000    21.000000     0.000000     0.000000   \n",
       "50%       3.000000     0.000000    28.000000     0.000000     0.000000   \n",
       "75%       3.000000     1.000000    39.000000     1.000000     0.000000   \n",
       "max       3.000000     1.000000    80.000000     8.000000     9.000000   \n",
       "\n",
       "              fare        body  \n",
       "count  1308.000000  121.000000  \n",
       "mean     33.295479  160.809917  \n",
       "std      51.758668   97.696922  \n",
       "min       0.000000    1.000000  \n",
       "25%       7.895800   72.000000  \n",
       "50%      14.454200  155.000000  \n",
       "75%      31.275000  256.000000  \n",
       "max     512.329200  328.000000  "
      ]
     },
     "execution_count": 6,
     "metadata": {},
     "output_type": "execute_result"
    }
   ],
   "source": [
    "titanic.describe()"
   ]
  },
  {
   "cell_type": "code",
   "execution_count": 7,
   "metadata": {},
   "outputs": [
    {
     "data": {
      "text/html": [
       "<div>\n",
       "<style scoped>\n",
       "    .dataframe tbody tr th:only-of-type {\n",
       "        vertical-align: middle;\n",
       "    }\n",
       "\n",
       "    .dataframe tbody tr th {\n",
       "        vertical-align: top;\n",
       "    }\n",
       "\n",
       "    .dataframe thead th {\n",
       "        text-align: right;\n",
       "    }\n",
       "</style>\n",
       "<table border=\"1\" class=\"dataframe\">\n",
       "  <thead>\n",
       "    <tr style=\"text-align: right;\">\n",
       "      <th></th>\n",
       "      <th>name</th>\n",
       "      <th>sex</th>\n",
       "      <th>age</th>\n",
       "    </tr>\n",
       "  </thead>\n",
       "  <tbody>\n",
       "    <tr>\n",
       "      <th>0</th>\n",
       "      <td>Allen, Miss. Elisabeth Walton</td>\n",
       "      <td>female</td>\n",
       "      <td>29.00</td>\n",
       "    </tr>\n",
       "    <tr>\n",
       "      <th>1</th>\n",
       "      <td>Allison, Master. Hudson Trevor</td>\n",
       "      <td>male</td>\n",
       "      <td>0.92</td>\n",
       "    </tr>\n",
       "    <tr>\n",
       "      <th>2</th>\n",
       "      <td>Allison, Miss. Helen Loraine</td>\n",
       "      <td>female</td>\n",
       "      <td>2.00</td>\n",
       "    </tr>\n",
       "    <tr>\n",
       "      <th>3</th>\n",
       "      <td>Allison, Mr. Hudson Joshua Creighton</td>\n",
       "      <td>male</td>\n",
       "      <td>30.00</td>\n",
       "    </tr>\n",
       "    <tr>\n",
       "      <th>4</th>\n",
       "      <td>Allison, Mrs. Hudson J C (Bessie Waldo Daniels)</td>\n",
       "      <td>female</td>\n",
       "      <td>25.00</td>\n",
       "    </tr>\n",
       "    <tr>\n",
       "      <th>...</th>\n",
       "      <td>...</td>\n",
       "      <td>...</td>\n",
       "      <td>...</td>\n",
       "    </tr>\n",
       "    <tr>\n",
       "      <th>1304</th>\n",
       "      <td>Zabour, Miss. Hileni</td>\n",
       "      <td>female</td>\n",
       "      <td>14.50</td>\n",
       "    </tr>\n",
       "    <tr>\n",
       "      <th>1305</th>\n",
       "      <td>Zabour, Miss. Thamine</td>\n",
       "      <td>female</td>\n",
       "      <td>NaN</td>\n",
       "    </tr>\n",
       "    <tr>\n",
       "      <th>1306</th>\n",
       "      <td>Zakarian, Mr. Mapriededer</td>\n",
       "      <td>male</td>\n",
       "      <td>26.50</td>\n",
       "    </tr>\n",
       "    <tr>\n",
       "      <th>1307</th>\n",
       "      <td>Zakarian, Mr. Ortin</td>\n",
       "      <td>male</td>\n",
       "      <td>27.00</td>\n",
       "    </tr>\n",
       "    <tr>\n",
       "      <th>1308</th>\n",
       "      <td>Zimmerman, Mr. Leo</td>\n",
       "      <td>male</td>\n",
       "      <td>29.00</td>\n",
       "    </tr>\n",
       "  </tbody>\n",
       "</table>\n",
       "<p>1309 rows × 3 columns</p>\n",
       "</div>"
      ],
      "text/plain": [
       "                                                 name     sex    age\n",
       "0                       Allen, Miss. Elisabeth Walton  female  29.00\n",
       "1                      Allison, Master. Hudson Trevor    male   0.92\n",
       "2                        Allison, Miss. Helen Loraine  female   2.00\n",
       "3                Allison, Mr. Hudson Joshua Creighton    male  30.00\n",
       "4     Allison, Mrs. Hudson J C (Bessie Waldo Daniels)  female  25.00\n",
       "...                                               ...     ...    ...\n",
       "1304                             Zabour, Miss. Hileni  female  14.50\n",
       "1305                            Zabour, Miss. Thamine  female    NaN\n",
       "1306                        Zakarian, Mr. Mapriededer    male  26.50\n",
       "1307                              Zakarian, Mr. Ortin    male  27.00\n",
       "1308                               Zimmerman, Mr. Leo    male  29.00\n",
       "\n",
       "[1309 rows x 3 columns]"
      ]
     },
     "execution_count": 7,
     "metadata": {},
     "output_type": "execute_result"
    }
   ],
   "source": [
    "people = titanic[['name', 'sex', 'age']]\n",
    "people"
   ]
  },
  {
   "cell_type": "code",
   "execution_count": 8,
   "metadata": {},
   "outputs": [
    {
     "data": {
      "text/html": [
       "<div>\n",
       "<style scoped>\n",
       "    .dataframe tbody tr th:only-of-type {\n",
       "        vertical-align: middle;\n",
       "    }\n",
       "\n",
       "    .dataframe tbody tr th {\n",
       "        vertical-align: top;\n",
       "    }\n",
       "\n",
       "    .dataframe thead th {\n",
       "        text-align: right;\n",
       "    }\n",
       "</style>\n",
       "<table border=\"1\" class=\"dataframe\">\n",
       "  <thead>\n",
       "    <tr style=\"text-align: right;\">\n",
       "      <th></th>\n",
       "      <th>name</th>\n",
       "      <th>sex</th>\n",
       "      <th>age</th>\n",
       "    </tr>\n",
       "  </thead>\n",
       "  <tbody>\n",
       "    <tr>\n",
       "      <th>0</th>\n",
       "      <td>Allen, Miss. Elisabeth Walton</td>\n",
       "      <td>female</td>\n",
       "      <td>29.00</td>\n",
       "    </tr>\n",
       "    <tr>\n",
       "      <th>1</th>\n",
       "      <td>Allison, Master. Hudson Trevor</td>\n",
       "      <td>male</td>\n",
       "      <td>0.92</td>\n",
       "    </tr>\n",
       "    <tr>\n",
       "      <th>2</th>\n",
       "      <td>Allison, Miss. Helen Loraine</td>\n",
       "      <td>female</td>\n",
       "      <td>2.00</td>\n",
       "    </tr>\n",
       "    <tr>\n",
       "      <th>3</th>\n",
       "      <td>Allison, Mr. Hudson Joshua Creighton</td>\n",
       "      <td>male</td>\n",
       "      <td>30.00</td>\n",
       "    </tr>\n",
       "    <tr>\n",
       "      <th>4</th>\n",
       "      <td>Allison, Mrs. Hudson J C (Bessie Waldo Daniels)</td>\n",
       "      <td>female</td>\n",
       "      <td>25.00</td>\n",
       "    </tr>\n",
       "    <tr>\n",
       "      <th>...</th>\n",
       "      <td>...</td>\n",
       "      <td>...</td>\n",
       "      <td>...</td>\n",
       "    </tr>\n",
       "    <tr>\n",
       "      <th>1304</th>\n",
       "      <td>Zabour, Miss. Hileni</td>\n",
       "      <td>female</td>\n",
       "      <td>14.50</td>\n",
       "    </tr>\n",
       "    <tr>\n",
       "      <th>1305</th>\n",
       "      <td>Zabour, Miss. Thamine</td>\n",
       "      <td>female</td>\n",
       "      <td>NaN</td>\n",
       "    </tr>\n",
       "    <tr>\n",
       "      <th>1306</th>\n",
       "      <td>Zakarian, Mr. Mapriededer</td>\n",
       "      <td>male</td>\n",
       "      <td>26.50</td>\n",
       "    </tr>\n",
       "    <tr>\n",
       "      <th>1307</th>\n",
       "      <td>Zakarian, Mr. Ortin</td>\n",
       "      <td>male</td>\n",
       "      <td>27.00</td>\n",
       "    </tr>\n",
       "    <tr>\n",
       "      <th>1308</th>\n",
       "      <td>Zimmerman, Mr. Leo</td>\n",
       "      <td>male</td>\n",
       "      <td>29.00</td>\n",
       "    </tr>\n",
       "  </tbody>\n",
       "</table>\n",
       "<p>1309 rows × 3 columns</p>\n",
       "</div>"
      ],
      "text/plain": [
       "                                                 name     sex    age\n",
       "0                       Allen, Miss. Elisabeth Walton  female  29.00\n",
       "1                      Allison, Master. Hudson Trevor    male   0.92\n",
       "2                        Allison, Miss. Helen Loraine  female   2.00\n",
       "3                Allison, Mr. Hudson Joshua Creighton    male  30.00\n",
       "4     Allison, Mrs. Hudson J C (Bessie Waldo Daniels)  female  25.00\n",
       "...                                               ...     ...    ...\n",
       "1304                             Zabour, Miss. Hileni  female  14.50\n",
       "1305                            Zabour, Miss. Thamine  female    NaN\n",
       "1306                        Zakarian, Mr. Mapriededer    male  26.50\n",
       "1307                              Zakarian, Mr. Ortin    male  27.00\n",
       "1308                               Zimmerman, Mr. Leo    male  29.00\n",
       "\n",
       "[1309 rows x 3 columns]"
      ]
     },
     "execution_count": 8,
     "metadata": {},
     "output_type": "execute_result"
    }
   ],
   "source": [
    "people = titanic.loc[:, ['name', 'sex', 'age']]\n",
    "people"
   ]
  },
  {
   "attachments": {},
   "cell_type": "markdown",
   "metadata": {},
   "source": [
    "3. Print the output of `people` showing the first three rows and the last four rows, using `append`,`tail` and `head`"
   ]
  },
  {
   "cell_type": "code",
   "execution_count": 9,
   "metadata": {},
   "outputs": [
    {
     "data": {
      "text/plain": [
       "'\\nresult = people.head(3).append(people.tail(4), ignore_index=True)\\nprint(result)\\n'"
      ]
     },
     "execution_count": 9,
     "metadata": {},
     "output_type": "execute_result"
    }
   ],
   "source": [
    "'''\n",
    "result = people.head(3).append(people.tail(4), ignore_index=True)\n",
    "print(result)\n",
    "'''"
   ]
  },
  {
   "cell_type": "code",
   "execution_count": 10,
   "metadata": {},
   "outputs": [
    {
     "name": "stdout",
     "output_type": "stream",
     "text": [
      "                             name     sex    age\n",
      "0   Allen, Miss. Elisabeth Walton  female  29.00\n",
      "1  Allison, Master. Hudson Trevor    male   0.92\n",
      "2    Allison, Miss. Helen Loraine  female   2.00\n",
      "3           Zabour, Miss. Thamine  female    NaN\n",
      "4       Zakarian, Mr. Mapriededer    male  26.50\n",
      "5             Zakarian, Mr. Ortin    male  27.00\n",
      "6              Zimmerman, Mr. Leo    male  29.00\n"
     ]
    }
   ],
   "source": [
    "result = pd.concat([people.head(3), people.tail(4)], ignore_index=True)\n",
    "print(result)"
   ]
  },
  {
   "cell_type": "code",
   "execution_count": null,
   "metadata": {},
   "outputs": [],
   "source": []
  },
  {
   "cell_type": "code",
   "execution_count": null,
   "metadata": {},
   "outputs": [],
   "source": []
  },
  {
   "attachments": {},
   "cell_type": "markdown",
   "metadata": {},
   "source": [
    "4. Slice the row from 3 to 9, call it `s_titanic`"
   ]
  },
  {
   "cell_type": "code",
   "execution_count": 11,
   "metadata": {},
   "outputs": [
    {
     "data": {
      "text/html": [
       "<div>\n",
       "<style scoped>\n",
       "    .dataframe tbody tr th:only-of-type {\n",
       "        vertical-align: middle;\n",
       "    }\n",
       "\n",
       "    .dataframe tbody tr th {\n",
       "        vertical-align: top;\n",
       "    }\n",
       "\n",
       "    .dataframe thead th {\n",
       "        text-align: right;\n",
       "    }\n",
       "</style>\n",
       "<table border=\"1\" class=\"dataframe\">\n",
       "  <thead>\n",
       "    <tr style=\"text-align: right;\">\n",
       "      <th></th>\n",
       "      <th>name</th>\n",
       "      <th>sex</th>\n",
       "      <th>age</th>\n",
       "    </tr>\n",
       "  </thead>\n",
       "  <tbody>\n",
       "    <tr>\n",
       "      <th>3</th>\n",
       "      <td>Allison, Mr. Hudson Joshua Creighton</td>\n",
       "      <td>male</td>\n",
       "      <td>30.0</td>\n",
       "    </tr>\n",
       "    <tr>\n",
       "      <th>4</th>\n",
       "      <td>Allison, Mrs. Hudson J C (Bessie Waldo Daniels)</td>\n",
       "      <td>female</td>\n",
       "      <td>25.0</td>\n",
       "    </tr>\n",
       "    <tr>\n",
       "      <th>5</th>\n",
       "      <td>Anderson, Mr. Harry</td>\n",
       "      <td>male</td>\n",
       "      <td>48.0</td>\n",
       "    </tr>\n",
       "    <tr>\n",
       "      <th>6</th>\n",
       "      <td>Andrews, Miss. Kornelia Theodosia</td>\n",
       "      <td>female</td>\n",
       "      <td>63.0</td>\n",
       "    </tr>\n",
       "    <tr>\n",
       "      <th>7</th>\n",
       "      <td>Andrews, Mr. Thomas Jr</td>\n",
       "      <td>male</td>\n",
       "      <td>39.0</td>\n",
       "    </tr>\n",
       "    <tr>\n",
       "      <th>8</th>\n",
       "      <td>Appleton, Mrs. Edward Dale (Charlotte Lamson)</td>\n",
       "      <td>female</td>\n",
       "      <td>53.0</td>\n",
       "    </tr>\n",
       "    <tr>\n",
       "      <th>9</th>\n",
       "      <td>Artagaveytia, Mr. Ramon</td>\n",
       "      <td>male</td>\n",
       "      <td>71.0</td>\n",
       "    </tr>\n",
       "  </tbody>\n",
       "</table>\n",
       "</div>"
      ],
      "text/plain": [
       "                                              name     sex   age\n",
       "3             Allison, Mr. Hudson Joshua Creighton    male  30.0\n",
       "4  Allison, Mrs. Hudson J C (Bessie Waldo Daniels)  female  25.0\n",
       "5                              Anderson, Mr. Harry    male  48.0\n",
       "6                Andrews, Miss. Kornelia Theodosia  female  63.0\n",
       "7                           Andrews, Mr. Thomas Jr    male  39.0\n",
       "8    Appleton, Mrs. Edward Dale (Charlotte Lamson)  female  53.0\n",
       "9                          Artagaveytia, Mr. Ramon    male  71.0"
      ]
     },
     "execution_count": 11,
     "metadata": {},
     "output_type": "execute_result"
    }
   ],
   "source": [
    "s_titanic = people.iloc[3:10]\n",
    "s_titanic"
   ]
  },
  {
   "cell_type": "code",
   "execution_count": null,
   "metadata": {},
   "outputs": [],
   "source": []
  },
  {
   "attachments": {},
   "cell_type": "markdown",
   "metadata": {},
   "source": [
    "5. Slice the row from 40 to 63 in reverse order, call it `s_titanic_rev`"
   ]
  },
  {
   "cell_type": "code",
   "execution_count": 12,
   "metadata": {},
   "outputs": [
    {
     "data": {
      "text/html": [
       "<div>\n",
       "<style scoped>\n",
       "    .dataframe tbody tr th:only-of-type {\n",
       "        vertical-align: middle;\n",
       "    }\n",
       "\n",
       "    .dataframe tbody tr th {\n",
       "        vertical-align: top;\n",
       "    }\n",
       "\n",
       "    .dataframe thead th {\n",
       "        text-align: right;\n",
       "    }\n",
       "</style>\n",
       "<table border=\"1\" class=\"dataframe\">\n",
       "  <thead>\n",
       "    <tr style=\"text-align: right;\">\n",
       "      <th></th>\n",
       "      <th>name</th>\n",
       "      <th>sex</th>\n",
       "      <th>age</th>\n",
       "    </tr>\n",
       "  </thead>\n",
       "  <tbody>\n",
       "    <tr>\n",
       "      <th>63</th>\n",
       "      <td>Chaffee, Mrs. Herbert Fuller (Carrie Constance...</td>\n",
       "      <td>female</td>\n",
       "      <td>47.0</td>\n",
       "    </tr>\n",
       "    <tr>\n",
       "      <th>62</th>\n",
       "      <td>Chaffee, Mr. Herbert Fuller</td>\n",
       "      <td>male</td>\n",
       "      <td>46.0</td>\n",
       "    </tr>\n",
       "    <tr>\n",
       "      <th>61</th>\n",
       "      <td>Cavendish, Mrs. Tyrell William (Julia Florence...</td>\n",
       "      <td>female</td>\n",
       "      <td>76.0</td>\n",
       "    </tr>\n",
       "    <tr>\n",
       "      <th>60</th>\n",
       "      <td>Cavendish, Mr. Tyrell William</td>\n",
       "      <td>male</td>\n",
       "      <td>36.0</td>\n",
       "    </tr>\n",
       "    <tr>\n",
       "      <th>59</th>\n",
       "      <td>Cassebeer, Mrs. Henry Arthur Jr (Eleanor Genev...</td>\n",
       "      <td>female</td>\n",
       "      <td>NaN</td>\n",
       "    </tr>\n",
       "    <tr>\n",
       "      <th>58</th>\n",
       "      <td>Case, Mr. Howard Brown</td>\n",
       "      <td>male</td>\n",
       "      <td>49.0</td>\n",
       "    </tr>\n",
       "    <tr>\n",
       "      <th>57</th>\n",
       "      <td>Carter, Mrs. William Ernest (Lucile Polk)</td>\n",
       "      <td>female</td>\n",
       "      <td>36.0</td>\n",
       "    </tr>\n",
       "    <tr>\n",
       "      <th>56</th>\n",
       "      <td>Carter, Mr. William Ernest</td>\n",
       "      <td>male</td>\n",
       "      <td>36.0</td>\n",
       "    </tr>\n",
       "    <tr>\n",
       "      <th>55</th>\n",
       "      <td>Carter, Miss. Lucile Polk</td>\n",
       "      <td>female</td>\n",
       "      <td>14.0</td>\n",
       "    </tr>\n",
       "    <tr>\n",
       "      <th>54</th>\n",
       "      <td>Carter, Master. William Thornton II</td>\n",
       "      <td>male</td>\n",
       "      <td>11.0</td>\n",
       "    </tr>\n",
       "    <tr>\n",
       "      <th>53</th>\n",
       "      <td>Carrau, Mr. Jose Pedro</td>\n",
       "      <td>male</td>\n",
       "      <td>17.0</td>\n",
       "    </tr>\n",
       "    <tr>\n",
       "      <th>52</th>\n",
       "      <td>Carrau, Mr. Francisco M</td>\n",
       "      <td>male</td>\n",
       "      <td>28.0</td>\n",
       "    </tr>\n",
       "    <tr>\n",
       "      <th>51</th>\n",
       "      <td>Carlsson, Mr. Frans Olof</td>\n",
       "      <td>male</td>\n",
       "      <td>33.0</td>\n",
       "    </tr>\n",
       "    <tr>\n",
       "      <th>50</th>\n",
       "      <td>Cardeza, Mrs. James Warburton Martinez (Charlo...</td>\n",
       "      <td>female</td>\n",
       "      <td>58.0</td>\n",
       "    </tr>\n",
       "    <tr>\n",
       "      <th>49</th>\n",
       "      <td>Cardeza, Mr. Thomas Drake Martinez</td>\n",
       "      <td>male</td>\n",
       "      <td>36.0</td>\n",
       "    </tr>\n",
       "    <tr>\n",
       "      <th>48</th>\n",
       "      <td>Candee, Mrs. Edward (Helen Churchill Hungerford)</td>\n",
       "      <td>female</td>\n",
       "      <td>53.0</td>\n",
       "    </tr>\n",
       "    <tr>\n",
       "      <th>47</th>\n",
       "      <td>Calderhead, Mr. Edward Pennington</td>\n",
       "      <td>male</td>\n",
       "      <td>42.0</td>\n",
       "    </tr>\n",
       "    <tr>\n",
       "      <th>46</th>\n",
       "      <td>Cairns, Mr. Alexander</td>\n",
       "      <td>male</td>\n",
       "      <td>NaN</td>\n",
       "    </tr>\n",
       "    <tr>\n",
       "      <th>45</th>\n",
       "      <td>Butt, Major. Archibald Willingham</td>\n",
       "      <td>male</td>\n",
       "      <td>45.0</td>\n",
       "    </tr>\n",
       "    <tr>\n",
       "      <th>44</th>\n",
       "      <td>Burns, Miss. Elizabeth Margaret</td>\n",
       "      <td>female</td>\n",
       "      <td>41.0</td>\n",
       "    </tr>\n",
       "    <tr>\n",
       "      <th>43</th>\n",
       "      <td>Bucknell, Mrs. William Robert (Emma Eliza Ward)</td>\n",
       "      <td>female</td>\n",
       "      <td>60.0</td>\n",
       "    </tr>\n",
       "    <tr>\n",
       "      <th>42</th>\n",
       "      <td>Brown, Mrs. John Murray (Caroline Lane Lamson)</td>\n",
       "      <td>female</td>\n",
       "      <td>59.0</td>\n",
       "    </tr>\n",
       "    <tr>\n",
       "      <th>41</th>\n",
       "      <td>Brown, Mrs. James Joseph (Margaret Tobin)</td>\n",
       "      <td>female</td>\n",
       "      <td>44.0</td>\n",
       "    </tr>\n",
       "    <tr>\n",
       "      <th>40</th>\n",
       "      <td>Brewe, Dr. Arthur Jackson</td>\n",
       "      <td>male</td>\n",
       "      <td>NaN</td>\n",
       "    </tr>\n",
       "  </tbody>\n",
       "</table>\n",
       "</div>"
      ],
      "text/plain": [
       "                                                 name     sex   age\n",
       "63  Chaffee, Mrs. Herbert Fuller (Carrie Constance...  female  47.0\n",
       "62                        Chaffee, Mr. Herbert Fuller    male  46.0\n",
       "61  Cavendish, Mrs. Tyrell William (Julia Florence...  female  76.0\n",
       "60                      Cavendish, Mr. Tyrell William    male  36.0\n",
       "59  Cassebeer, Mrs. Henry Arthur Jr (Eleanor Genev...  female   NaN\n",
       "58                             Case, Mr. Howard Brown    male  49.0\n",
       "57          Carter, Mrs. William Ernest (Lucile Polk)  female  36.0\n",
       "56                         Carter, Mr. William Ernest    male  36.0\n",
       "55                          Carter, Miss. Lucile Polk  female  14.0\n",
       "54                Carter, Master. William Thornton II    male  11.0\n",
       "53                             Carrau, Mr. Jose Pedro    male  17.0\n",
       "52                            Carrau, Mr. Francisco M    male  28.0\n",
       "51                           Carlsson, Mr. Frans Olof    male  33.0\n",
       "50  Cardeza, Mrs. James Warburton Martinez (Charlo...  female  58.0\n",
       "49                 Cardeza, Mr. Thomas Drake Martinez    male  36.0\n",
       "48   Candee, Mrs. Edward (Helen Churchill Hungerford)  female  53.0\n",
       "47                  Calderhead, Mr. Edward Pennington    male  42.0\n",
       "46                              Cairns, Mr. Alexander    male   NaN\n",
       "45                  Butt, Major. Archibald Willingham    male  45.0\n",
       "44                    Burns, Miss. Elizabeth Margaret  female  41.0\n",
       "43    Bucknell, Mrs. William Robert (Emma Eliza Ward)  female  60.0\n",
       "42     Brown, Mrs. John Murray (Caroline Lane Lamson)  female  59.0\n",
       "41          Brown, Mrs. James Joseph (Margaret Tobin)  female  44.0\n",
       "40                          Brewe, Dr. Arthur Jackson    male   NaN"
      ]
     },
     "execution_count": 12,
     "metadata": {},
     "output_type": "execute_result"
    }
   ],
   "source": [
    "s_titanic_rev = people.iloc[63:39:-1]\n",
    "s_titanic_rev"
   ]
  },
  {
   "attachments": {},
   "cell_type": "markdown",
   "metadata": {},
   "source": [
    "6. Slice the columns from the starting column to `'parch'`, call it `left_columns`"
   ]
  },
  {
   "cell_type": "code",
   "execution_count": 13,
   "metadata": {},
   "outputs": [
    {
     "data": {
      "text/html": [
       "<div>\n",
       "<style scoped>\n",
       "    .dataframe tbody tr th:only-of-type {\n",
       "        vertical-align: middle;\n",
       "    }\n",
       "\n",
       "    .dataframe tbody tr th {\n",
       "        vertical-align: top;\n",
       "    }\n",
       "\n",
       "    .dataframe thead th {\n",
       "        text-align: right;\n",
       "    }\n",
       "</style>\n",
       "<table border=\"1\" class=\"dataframe\">\n",
       "  <thead>\n",
       "    <tr style=\"text-align: right;\">\n",
       "      <th></th>\n",
       "      <th>pclass</th>\n",
       "      <th>survived</th>\n",
       "      <th>name</th>\n",
       "      <th>sex</th>\n",
       "      <th>age</th>\n",
       "      <th>sibsp</th>\n",
       "      <th>parch</th>\n",
       "    </tr>\n",
       "  </thead>\n",
       "  <tbody>\n",
       "    <tr>\n",
       "      <th>0</th>\n",
       "      <td>1</td>\n",
       "      <td>1</td>\n",
       "      <td>Allen, Miss. Elisabeth Walton</td>\n",
       "      <td>female</td>\n",
       "      <td>29.00</td>\n",
       "      <td>0</td>\n",
       "      <td>0</td>\n",
       "    </tr>\n",
       "    <tr>\n",
       "      <th>1</th>\n",
       "      <td>1</td>\n",
       "      <td>1</td>\n",
       "      <td>Allison, Master. Hudson Trevor</td>\n",
       "      <td>male</td>\n",
       "      <td>0.92</td>\n",
       "      <td>1</td>\n",
       "      <td>2</td>\n",
       "    </tr>\n",
       "    <tr>\n",
       "      <th>2</th>\n",
       "      <td>1</td>\n",
       "      <td>0</td>\n",
       "      <td>Allison, Miss. Helen Loraine</td>\n",
       "      <td>female</td>\n",
       "      <td>2.00</td>\n",
       "      <td>1</td>\n",
       "      <td>2</td>\n",
       "    </tr>\n",
       "    <tr>\n",
       "      <th>3</th>\n",
       "      <td>1</td>\n",
       "      <td>0</td>\n",
       "      <td>Allison, Mr. Hudson Joshua Creighton</td>\n",
       "      <td>male</td>\n",
       "      <td>30.00</td>\n",
       "      <td>1</td>\n",
       "      <td>2</td>\n",
       "    </tr>\n",
       "    <tr>\n",
       "      <th>4</th>\n",
       "      <td>1</td>\n",
       "      <td>0</td>\n",
       "      <td>Allison, Mrs. Hudson J C (Bessie Waldo Daniels)</td>\n",
       "      <td>female</td>\n",
       "      <td>25.00</td>\n",
       "      <td>1</td>\n",
       "      <td>2</td>\n",
       "    </tr>\n",
       "    <tr>\n",
       "      <th>...</th>\n",
       "      <td>...</td>\n",
       "      <td>...</td>\n",
       "      <td>...</td>\n",
       "      <td>...</td>\n",
       "      <td>...</td>\n",
       "      <td>...</td>\n",
       "      <td>...</td>\n",
       "    </tr>\n",
       "    <tr>\n",
       "      <th>1304</th>\n",
       "      <td>3</td>\n",
       "      <td>0</td>\n",
       "      <td>Zabour, Miss. Hileni</td>\n",
       "      <td>female</td>\n",
       "      <td>14.50</td>\n",
       "      <td>1</td>\n",
       "      <td>0</td>\n",
       "    </tr>\n",
       "    <tr>\n",
       "      <th>1305</th>\n",
       "      <td>3</td>\n",
       "      <td>0</td>\n",
       "      <td>Zabour, Miss. Thamine</td>\n",
       "      <td>female</td>\n",
       "      <td>NaN</td>\n",
       "      <td>1</td>\n",
       "      <td>0</td>\n",
       "    </tr>\n",
       "    <tr>\n",
       "      <th>1306</th>\n",
       "      <td>3</td>\n",
       "      <td>0</td>\n",
       "      <td>Zakarian, Mr. Mapriededer</td>\n",
       "      <td>male</td>\n",
       "      <td>26.50</td>\n",
       "      <td>0</td>\n",
       "      <td>0</td>\n",
       "    </tr>\n",
       "    <tr>\n",
       "      <th>1307</th>\n",
       "      <td>3</td>\n",
       "      <td>0</td>\n",
       "      <td>Zakarian, Mr. Ortin</td>\n",
       "      <td>male</td>\n",
       "      <td>27.00</td>\n",
       "      <td>0</td>\n",
       "      <td>0</td>\n",
       "    </tr>\n",
       "    <tr>\n",
       "      <th>1308</th>\n",
       "      <td>3</td>\n",
       "      <td>0</td>\n",
       "      <td>Zimmerman, Mr. Leo</td>\n",
       "      <td>male</td>\n",
       "      <td>29.00</td>\n",
       "      <td>0</td>\n",
       "      <td>0</td>\n",
       "    </tr>\n",
       "  </tbody>\n",
       "</table>\n",
       "<p>1309 rows × 7 columns</p>\n",
       "</div>"
      ],
      "text/plain": [
       "      pclass  survived                                             name  \\\n",
       "0          1         1                    Allen, Miss. Elisabeth Walton   \n",
       "1          1         1                   Allison, Master. Hudson Trevor   \n",
       "2          1         0                     Allison, Miss. Helen Loraine   \n",
       "3          1         0             Allison, Mr. Hudson Joshua Creighton   \n",
       "4          1         0  Allison, Mrs. Hudson J C (Bessie Waldo Daniels)   \n",
       "...      ...       ...                                              ...   \n",
       "1304       3         0                             Zabour, Miss. Hileni   \n",
       "1305       3         0                            Zabour, Miss. Thamine   \n",
       "1306       3         0                        Zakarian, Mr. Mapriededer   \n",
       "1307       3         0                              Zakarian, Mr. Ortin   \n",
       "1308       3         0                               Zimmerman, Mr. Leo   \n",
       "\n",
       "         sex    age  sibsp  parch  \n",
       "0     female  29.00      0      0  \n",
       "1       male   0.92      1      2  \n",
       "2     female   2.00      1      2  \n",
       "3       male  30.00      1      2  \n",
       "4     female  25.00      1      2  \n",
       "...      ...    ...    ...    ...  \n",
       "1304  female  14.50      1      0  \n",
       "1305  female    NaN      1      0  \n",
       "1306    male  26.50      0      0  \n",
       "1307    male  27.00      0      0  \n",
       "1308    male  29.00      0      0  \n",
       "\n",
       "[1309 rows x 7 columns]"
      ]
     },
     "execution_count": 13,
     "metadata": {},
     "output_type": "execute_result"
    }
   ],
   "source": [
    "left_columns = titanic.loc[:, :'parch']\n",
    "left_columns"
   ]
  },
  {
   "attachments": {},
   "cell_type": "markdown",
   "metadata": {},
   "source": [
    "7. Slice the columns from `'name'` to `'age'`, call it `middle_columns`"
   ]
  },
  {
   "cell_type": "code",
   "execution_count": 14,
   "metadata": {},
   "outputs": [
    {
     "data": {
      "text/html": [
       "<div>\n",
       "<style scoped>\n",
       "    .dataframe tbody tr th:only-of-type {\n",
       "        vertical-align: middle;\n",
       "    }\n",
       "\n",
       "    .dataframe tbody tr th {\n",
       "        vertical-align: top;\n",
       "    }\n",
       "\n",
       "    .dataframe thead th {\n",
       "        text-align: right;\n",
       "    }\n",
       "</style>\n",
       "<table border=\"1\" class=\"dataframe\">\n",
       "  <thead>\n",
       "    <tr style=\"text-align: right;\">\n",
       "      <th></th>\n",
       "      <th>name</th>\n",
       "      <th>sex</th>\n",
       "      <th>age</th>\n",
       "    </tr>\n",
       "  </thead>\n",
       "  <tbody>\n",
       "    <tr>\n",
       "      <th>0</th>\n",
       "      <td>Allen, Miss. Elisabeth Walton</td>\n",
       "      <td>female</td>\n",
       "      <td>29.00</td>\n",
       "    </tr>\n",
       "    <tr>\n",
       "      <th>1</th>\n",
       "      <td>Allison, Master. Hudson Trevor</td>\n",
       "      <td>male</td>\n",
       "      <td>0.92</td>\n",
       "    </tr>\n",
       "    <tr>\n",
       "      <th>2</th>\n",
       "      <td>Allison, Miss. Helen Loraine</td>\n",
       "      <td>female</td>\n",
       "      <td>2.00</td>\n",
       "    </tr>\n",
       "    <tr>\n",
       "      <th>3</th>\n",
       "      <td>Allison, Mr. Hudson Joshua Creighton</td>\n",
       "      <td>male</td>\n",
       "      <td>30.00</td>\n",
       "    </tr>\n",
       "    <tr>\n",
       "      <th>4</th>\n",
       "      <td>Allison, Mrs. Hudson J C (Bessie Waldo Daniels)</td>\n",
       "      <td>female</td>\n",
       "      <td>25.00</td>\n",
       "    </tr>\n",
       "    <tr>\n",
       "      <th>...</th>\n",
       "      <td>...</td>\n",
       "      <td>...</td>\n",
       "      <td>...</td>\n",
       "    </tr>\n",
       "    <tr>\n",
       "      <th>1304</th>\n",
       "      <td>Zabour, Miss. Hileni</td>\n",
       "      <td>female</td>\n",
       "      <td>14.50</td>\n",
       "    </tr>\n",
       "    <tr>\n",
       "      <th>1305</th>\n",
       "      <td>Zabour, Miss. Thamine</td>\n",
       "      <td>female</td>\n",
       "      <td>NaN</td>\n",
       "    </tr>\n",
       "    <tr>\n",
       "      <th>1306</th>\n",
       "      <td>Zakarian, Mr. Mapriededer</td>\n",
       "      <td>male</td>\n",
       "      <td>26.50</td>\n",
       "    </tr>\n",
       "    <tr>\n",
       "      <th>1307</th>\n",
       "      <td>Zakarian, Mr. Ortin</td>\n",
       "      <td>male</td>\n",
       "      <td>27.00</td>\n",
       "    </tr>\n",
       "    <tr>\n",
       "      <th>1308</th>\n",
       "      <td>Zimmerman, Mr. Leo</td>\n",
       "      <td>male</td>\n",
       "      <td>29.00</td>\n",
       "    </tr>\n",
       "  </tbody>\n",
       "</table>\n",
       "<p>1309 rows × 3 columns</p>\n",
       "</div>"
      ],
      "text/plain": [
       "                                                 name     sex    age\n",
       "0                       Allen, Miss. Elisabeth Walton  female  29.00\n",
       "1                      Allison, Master. Hudson Trevor    male   0.92\n",
       "2                        Allison, Miss. Helen Loraine  female   2.00\n",
       "3                Allison, Mr. Hudson Joshua Creighton    male  30.00\n",
       "4     Allison, Mrs. Hudson J C (Bessie Waldo Daniels)  female  25.00\n",
       "...                                               ...     ...    ...\n",
       "1304                             Zabour, Miss. Hileni  female  14.50\n",
       "1305                            Zabour, Miss. Thamine  female    NaN\n",
       "1306                        Zakarian, Mr. Mapriededer    male  26.50\n",
       "1307                              Zakarian, Mr. Ortin    male  27.00\n",
       "1308                               Zimmerman, Mr. Leo    male  29.00\n",
       "\n",
       "[1309 rows x 3 columns]"
      ]
     },
     "execution_count": 14,
     "metadata": {},
     "output_type": "execute_result"
    }
   ],
   "source": [
    "middle_columns = people.loc[:, 'name':'age']\n",
    "middle_columns"
   ]
  },
  {
   "attachments": {},
   "cell_type": "markdown",
   "metadata": {},
   "source": [
    "8. Slice the columns from `'ticket'` to the end, call it `right_columns`"
   ]
  },
  {
   "cell_type": "code",
   "execution_count": 15,
   "metadata": {},
   "outputs": [
    {
     "data": {
      "text/html": [
       "<div>\n",
       "<style scoped>\n",
       "    .dataframe tbody tr th:only-of-type {\n",
       "        vertical-align: middle;\n",
       "    }\n",
       "\n",
       "    .dataframe tbody tr th {\n",
       "        vertical-align: top;\n",
       "    }\n",
       "\n",
       "    .dataframe thead th {\n",
       "        text-align: right;\n",
       "    }\n",
       "</style>\n",
       "<table border=\"1\" class=\"dataframe\">\n",
       "  <thead>\n",
       "    <tr style=\"text-align: right;\">\n",
       "      <th></th>\n",
       "      <th>ticket</th>\n",
       "      <th>fare</th>\n",
       "      <th>cabin</th>\n",
       "      <th>embarked</th>\n",
       "      <th>boat</th>\n",
       "      <th>body</th>\n",
       "      <th>home.dest</th>\n",
       "    </tr>\n",
       "  </thead>\n",
       "  <tbody>\n",
       "    <tr>\n",
       "      <th>0</th>\n",
       "      <td>24160</td>\n",
       "      <td>211.3375</td>\n",
       "      <td>B5</td>\n",
       "      <td>S</td>\n",
       "      <td>2</td>\n",
       "      <td>NaN</td>\n",
       "      <td>St Louis, MO</td>\n",
       "    </tr>\n",
       "    <tr>\n",
       "      <th>1</th>\n",
       "      <td>113781</td>\n",
       "      <td>151.5500</td>\n",
       "      <td>C22 C26</td>\n",
       "      <td>S</td>\n",
       "      <td>11</td>\n",
       "      <td>NaN</td>\n",
       "      <td>Montreal, PQ / Chesterville, ON</td>\n",
       "    </tr>\n",
       "    <tr>\n",
       "      <th>2</th>\n",
       "      <td>113781</td>\n",
       "      <td>151.5500</td>\n",
       "      <td>C22 C26</td>\n",
       "      <td>S</td>\n",
       "      <td>NaN</td>\n",
       "      <td>NaN</td>\n",
       "      <td>Montreal, PQ / Chesterville, ON</td>\n",
       "    </tr>\n",
       "    <tr>\n",
       "      <th>3</th>\n",
       "      <td>113781</td>\n",
       "      <td>151.5500</td>\n",
       "      <td>C22 C26</td>\n",
       "      <td>S</td>\n",
       "      <td>NaN</td>\n",
       "      <td>135.0</td>\n",
       "      <td>Montreal, PQ / Chesterville, ON</td>\n",
       "    </tr>\n",
       "    <tr>\n",
       "      <th>4</th>\n",
       "      <td>113781</td>\n",
       "      <td>151.5500</td>\n",
       "      <td>C22 C26</td>\n",
       "      <td>S</td>\n",
       "      <td>NaN</td>\n",
       "      <td>NaN</td>\n",
       "      <td>Montreal, PQ / Chesterville, ON</td>\n",
       "    </tr>\n",
       "    <tr>\n",
       "      <th>...</th>\n",
       "      <td>...</td>\n",
       "      <td>...</td>\n",
       "      <td>...</td>\n",
       "      <td>...</td>\n",
       "      <td>...</td>\n",
       "      <td>...</td>\n",
       "      <td>...</td>\n",
       "    </tr>\n",
       "    <tr>\n",
       "      <th>1304</th>\n",
       "      <td>2665</td>\n",
       "      <td>14.4542</td>\n",
       "      <td>NaN</td>\n",
       "      <td>C</td>\n",
       "      <td>NaN</td>\n",
       "      <td>328.0</td>\n",
       "      <td>NaN</td>\n",
       "    </tr>\n",
       "    <tr>\n",
       "      <th>1305</th>\n",
       "      <td>2665</td>\n",
       "      <td>14.4542</td>\n",
       "      <td>NaN</td>\n",
       "      <td>C</td>\n",
       "      <td>NaN</td>\n",
       "      <td>NaN</td>\n",
       "      <td>NaN</td>\n",
       "    </tr>\n",
       "    <tr>\n",
       "      <th>1306</th>\n",
       "      <td>2656</td>\n",
       "      <td>7.2250</td>\n",
       "      <td>NaN</td>\n",
       "      <td>C</td>\n",
       "      <td>NaN</td>\n",
       "      <td>304.0</td>\n",
       "      <td>NaN</td>\n",
       "    </tr>\n",
       "    <tr>\n",
       "      <th>1307</th>\n",
       "      <td>2670</td>\n",
       "      <td>7.2250</td>\n",
       "      <td>NaN</td>\n",
       "      <td>C</td>\n",
       "      <td>NaN</td>\n",
       "      <td>NaN</td>\n",
       "      <td>NaN</td>\n",
       "    </tr>\n",
       "    <tr>\n",
       "      <th>1308</th>\n",
       "      <td>315082</td>\n",
       "      <td>7.8750</td>\n",
       "      <td>NaN</td>\n",
       "      <td>S</td>\n",
       "      <td>NaN</td>\n",
       "      <td>NaN</td>\n",
       "      <td>NaN</td>\n",
       "    </tr>\n",
       "  </tbody>\n",
       "</table>\n",
       "<p>1309 rows × 7 columns</p>\n",
       "</div>"
      ],
      "text/plain": [
       "      ticket      fare    cabin embarked boat   body  \\\n",
       "0      24160  211.3375       B5        S    2    NaN   \n",
       "1     113781  151.5500  C22 C26        S   11    NaN   \n",
       "2     113781  151.5500  C22 C26        S  NaN    NaN   \n",
       "3     113781  151.5500  C22 C26        S  NaN  135.0   \n",
       "4     113781  151.5500  C22 C26        S  NaN    NaN   \n",
       "...      ...       ...      ...      ...  ...    ...   \n",
       "1304    2665   14.4542      NaN        C  NaN  328.0   \n",
       "1305    2665   14.4542      NaN        C  NaN    NaN   \n",
       "1306    2656    7.2250      NaN        C  NaN  304.0   \n",
       "1307    2670    7.2250      NaN        C  NaN    NaN   \n",
       "1308  315082    7.8750      NaN        S  NaN    NaN   \n",
       "\n",
       "                            home.dest  \n",
       "0                        St Louis, MO  \n",
       "1     Montreal, PQ / Chesterville, ON  \n",
       "2     Montreal, PQ / Chesterville, ON  \n",
       "3     Montreal, PQ / Chesterville, ON  \n",
       "4     Montreal, PQ / Chesterville, ON  \n",
       "...                               ...  \n",
       "1304                              NaN  \n",
       "1305                              NaN  \n",
       "1306                              NaN  \n",
       "1307                              NaN  \n",
       "1308                              NaN  \n",
       "\n",
       "[1309 rows x 7 columns]"
      ]
     },
     "execution_count": 15,
     "metadata": {},
     "output_type": "execute_result"
    }
   ],
   "source": [
    "right_columns = titanic.loc[:, 'ticket':]\n",
    "right_columns"
   ]
  },
  {
   "attachments": {},
   "cell_type": "markdown",
   "metadata": {},
   "source": [
    "9. What is the name of the oldest person who died in the Titanic? Was he or she travelling alone or had any family travelling with them?  \n",
    "\n"
   ]
  },
  {
   "cell_type": "code",
   "execution_count": 16,
   "metadata": {},
   "outputs": [
    {
     "name": "stdout",
     "output_type": "stream",
     "text": [
      "The oldest person who died was Svensson, Mr. Johan, aged 74.0\n",
      "This person was traveling alone.\n"
     ]
    }
   ],
   "source": [
    "# Filter for passengers who didn't survive\n",
    "died = titanic[titanic['survived'] == 0]\n",
    "\n",
    "# Find the oldest person who died\n",
    "oldest_died = died.loc[died['age'].idxmax()]\n",
    "\n",
    "print(f\"The oldest person who died was {oldest_died['name']}, aged {oldest_died['age']}\")\n",
    "\n",
    "# Check if they were traveling with family\n",
    "sibsp = oldest_died['sibsp']\n",
    "parch = oldest_died['parch']\n",
    "\n",
    "if sibsp == 0 and parch == 0:\n",
    "    print(\"This person was traveling alone.\")\n",
    "else:\n",
    "    family_members = sibsp + parch\n",
    "    print(f\"This person was traveling with {family_members} family member(s):\")\n",
    "    if sibsp > 0:\n",
    "        print(f\"- {sibsp} sibling(s)/spouse\")\n",
    "    if parch > 0:\n",
    "        print(f\"- {parch} parent(s)/child(ren)\")"
   ]
  },
  {
   "attachments": {},
   "cell_type": "markdown",
   "metadata": {},
   "source": [
    "In order to give an answer to the second question you should find out which columns give you that info. Usually part of your job as a Data Scientist will be get to know the dataset which you are working with. In this case the columns which give you that info are the following: \n",
    "        - 'sibsp' Number of Siblings/Spouses Aboard\n",
    "        - 'parch' Number of Parents/Children Aboard"
   ]
  },
  {
   "attachments": {},
   "cell_type": "markdown",
   "metadata": {},
   "source": [
    "10. Create the list of 5 random numbers of rows from 0 to the lenght of the dataframe, call it `rows`\n",
    "\n",
    "ex. `rows = [3,7,99,52,48]` use `random` library\n",
    "\n"
   ]
  },
  {
   "cell_type": "code",
   "execution_count": 17,
   "metadata": {},
   "outputs": [
    {
     "name": "stdout",
     "output_type": "stream",
     "text": [
      "[1120, 244, 749, 1200, 128]\n"
     ]
    }
   ],
   "source": [
    "import random\n",
    "\n",
    "num_rows = len(titanic)\n",
    "\n",
    "# Generate 5 random row numbers\n",
    "rows = random.sample(range(num_rows), 5)\n",
    "\n",
    "print(rows)"
   ]
  },
  {
   "cell_type": "code",
   "execution_count": null,
   "metadata": {},
   "outputs": [],
   "source": []
  },
  {
   "cell_type": "code",
   "execution_count": null,
   "metadata": {},
   "outputs": [],
   "source": []
  },
  {
   "cell_type": "code",
   "execution_count": null,
   "metadata": {},
   "outputs": [],
   "source": []
  },
  {
   "attachments": {},
   "cell_type": "markdown",
   "metadata": {},
   "source": [
    "This list of numbers are random, could be different.\n"
   ]
  },
  {
   "attachments": {},
   "cell_type": "markdown",
   "metadata": {},
   "source": [
    "11. Create the list of three column labels, call it `cols`\n"
   ]
  },
  {
   "cell_type": "code",
   "execution_count": 18,
   "metadata": {},
   "outputs": [
    {
     "name": "stdout",
     "output_type": "stream",
     "text": [
      "['Name', 'Age', 'Fare']\n"
     ]
    }
   ],
   "source": [
    "\n",
    "cols = ['Name', 'Age', 'Fare'] \n",
    "\n",
    "print(cols)"
   ]
  },
  {
   "cell_type": "code",
   "execution_count": 19,
   "metadata": {},
   "outputs": [
    {
     "name": "stdout",
     "output_type": "stream",
     "text": [
      "['sibsp', 'age', 'body']\n"
     ]
    }
   ],
   "source": [
    "\n",
    "cols = random.sample(list(titanic.columns), 3)\n",
    "\n",
    "print(cols)"
   ]
  },
  {
   "attachments": {},
   "cell_type": "markdown",
   "metadata": {},
   "source": [
    "12. Use both lists `rows` and `cols` to create a new dataframe"
   ]
  },
  {
   "cell_type": "code",
   "execution_count": 20,
   "metadata": {},
   "outputs": [
    {
     "name": "stdout",
     "output_type": "stream",
     "text": [
      "      sibsp   age   body\n",
      "1120      1  25.0    NaN\n",
      "244       0  36.0    NaN\n",
      "749       1  28.0    NaN\n",
      "1200      0   NaN    NaN\n",
      "128       0  47.0  275.0\n"
     ]
    }
   ],
   "source": [
    "# Create the new DataFrame\n",
    "new_df = titanic.loc[rows, cols]\n",
    "\n",
    "# Display the new DataFrame\n",
    "print(new_df)"
   ]
  },
  {
   "attachments": {},
   "cell_type": "markdown",
   "metadata": {},
   "source": [
    "13. Create a boolean array with the condition of being a woman or a man, using the `sex` column, where **female** is True. Call it `array_fe`"
   ]
  },
  {
   "cell_type": "code",
   "execution_count": 21,
   "metadata": {},
   "outputs": [
    {
     "name": "stdout",
     "output_type": "stream",
     "text": [
      "0     True\n",
      "1    False\n",
      "2     True\n",
      "3    False\n",
      "4     True\n",
      "Name: sex, dtype: bool\n",
      "\n",
      "Array info:\n",
      "<class 'pandas.core.series.Series'>\n",
      "RangeIndex: 1309 entries, 0 to 1308\n",
      "Series name: sex\n",
      "Non-Null Count  Dtype\n",
      "--------------  -----\n",
      "1309 non-null   bool \n",
      "dtypes: bool(1)\n",
      "memory usage: 1.4 KB\n",
      "None\n",
      "\n",
      "Value counts:\n",
      "sex\n",
      "False    843\n",
      "True     466\n",
      "Name: count, dtype: int64\n"
     ]
    }
   ],
   "source": [
    "array_fe = titanic['sex'] == 'female'\n",
    "\n",
    "# Display the first few elements of the array\n",
    "print(array_fe.head())\n",
    "\n",
    "# Display the array info\n",
    "print(\"\\nArray info:\")\n",
    "print(array_fe.info())\n",
    "\n",
    "# Display the value counts\n",
    "print(\"\\nValue counts:\")\n",
    "print(array_fe.value_counts())"
   ]
  },
  {
   "cell_type": "code",
   "execution_count": null,
   "metadata": {},
   "outputs": [],
   "source": []
  },
  {
   "cell_type": "code",
   "execution_count": null,
   "metadata": {},
   "outputs": [],
   "source": []
  },
  {
   "cell_type": "code",
   "execution_count": null,
   "metadata": {},
   "outputs": [],
   "source": []
  },
  {
   "attachments": {},
   "cell_type": "markdown",
   "metadata": {},
   "source": [
    "14. Rename the column `\"sex\"` to `\"gender\"` and filter the `titanic` dataframe with the boolean array, call it `woman_titanic`"
   ]
  },
  {
   "cell_type": "code",
   "execution_count": 22,
   "metadata": {},
   "outputs": [
    {
     "name": "stdout",
     "output_type": "stream",
     "text": [
      "   pclass  survived                                             name  gender  \\\n",
      "0       1         1                    Allen, Miss. Elisabeth Walton  female   \n",
      "2       1         0                     Allison, Miss. Helen Loraine  female   \n",
      "4       1         0  Allison, Mrs. Hudson J C (Bessie Waldo Daniels)  female   \n",
      "6       1         1                Andrews, Miss. Kornelia Theodosia  female   \n",
      "8       1         1    Appleton, Mrs. Edward Dale (Charlotte Lamson)  female   \n",
      "\n",
      "    age  sibsp  parch  ticket      fare    cabin embarked boat  body  \\\n",
      "0  29.0      0      0   24160  211.3375       B5        S    2   NaN   \n",
      "2   2.0      1      2  113781  151.5500  C22 C26        S  NaN   NaN   \n",
      "4  25.0      1      2  113781  151.5500  C22 C26        S  NaN   NaN   \n",
      "6  63.0      1      0   13502   77.9583       D7        S   10   NaN   \n",
      "8  53.0      2      0   11769   51.4792     C101        S    D   NaN   \n",
      "\n",
      "                         home.dest  \n",
      "0                     St Louis, MO  \n",
      "2  Montreal, PQ / Chesterville, ON  \n",
      "4  Montreal, PQ / Chesterville, ON  \n",
      "6                       Hudson, NY  \n",
      "8              Bayside, Queens, NY  \n",
      "<class 'pandas.core.frame.DataFrame'>\n",
      "Index: 466 entries, 0 to 1305\n",
      "Data columns (total 14 columns):\n",
      " #   Column     Non-Null Count  Dtype  \n",
      "---  ------     --------------  -----  \n",
      " 0   pclass     466 non-null    int64  \n",
      " 1   survived   466 non-null    int64  \n",
      " 2   name       466 non-null    object \n",
      " 3   gender     466 non-null    object \n",
      " 4   age        388 non-null    float64\n",
      " 5   sibsp      466 non-null    int64  \n",
      " 6   parch      466 non-null    int64  \n",
      " 7   ticket     466 non-null    object \n",
      " 8   fare       466 non-null    float64\n",
      " 9   cabin      141 non-null    object \n",
      " 10  embarked   464 non-null    object \n",
      " 11  boat       319 non-null    object \n",
      " 12  body       8 non-null      float64\n",
      " 13  home.dest  288 non-null    object \n",
      "dtypes: float64(3), int64(4), object(7)\n",
      "memory usage: 54.6+ KB\n",
      "None\n"
     ]
    }
   ],
   "source": [
    "# Rename the 'sex' column to 'gender'\n",
    "titanic = titanic.rename(columns={'sex': 'gender'})\n",
    "\n",
    "# Create the boolean array for females\n",
    "array_fe = titanic['gender'] == 'female'\n",
    "\n",
    "# Filter the dataframe to create woman_titanic\n",
    "woman_titanic = titanic[array_fe]\n",
    "\n",
    "# Display the first few rows of the new dataframe\n",
    "print(woman_titanic.head())\n",
    "\n",
    "# Display info about the new dataframe\n",
    "print(woman_titanic.info())\n"
   ]
  },
  {
   "cell_type": "code",
   "execution_count": null,
   "metadata": {},
   "outputs": [],
   "source": []
  },
  {
   "cell_type": "code",
   "execution_count": null,
   "metadata": {},
   "outputs": [],
   "source": []
  },
  {
   "attachments": {},
   "cell_type": "markdown",
   "metadata": {},
   "source": [
    "15. How many woman were younger than 18? Call the variable `minor_wo`"
   ]
  },
  {
   "cell_type": "code",
   "execution_count": 23,
   "metadata": {},
   "outputs": [
    {
     "name": "stdout",
     "output_type": "stream",
     "text": [
      "Number of women younger than 18: 72\n"
     ]
    }
   ],
   "source": [
    "# Count women younger than 18\n",
    "minor_wo = woman_titanic[woman_titanic['age'] < 18]['age'].count()\n",
    "\n",
    "print(f\"Number of women younger than 18: {minor_wo}\")"
   ]
  },
  {
   "attachments": {},
   "cell_type": "markdown",
   "metadata": {},
   "source": [
    "16. How many woman that were less than 18 actually died? Call the variable `dead_wo`"
   ]
  },
  {
   "cell_type": "code",
   "execution_count": 24,
   "metadata": {},
   "outputs": [
    {
     "name": "stdout",
     "output_type": "stream",
     "text": [
      "Number of women younger than 18 who died: 22\n"
     ]
    }
   ],
   "source": [
    "# Filter for women younger than 18 who did not survive\n",
    "dead_wo = woman_titanic[(woman_titanic['age'] < 18) & (woman_titanic['survived'] == 0)]['age'].count()\n",
    "\n",
    "print(f\"Number of women younger than 18 who died: {dead_wo}\")\n"
   ]
  },
  {
   "cell_type": "code",
   "execution_count": null,
   "metadata": {},
   "outputs": [],
   "source": []
  },
  {
   "cell_type": "code",
   "execution_count": null,
   "metadata": {},
   "outputs": [],
   "source": []
  },
  {
   "cell_type": "code",
   "execution_count": null,
   "metadata": {},
   "outputs": [],
   "source": []
  },
  {
   "attachments": {},
   "cell_type": "markdown",
   "metadata": {},
   "source": [
    "17. Drop rows with *Nan* in `titanic` with `how='any'` and print the shape\n",
    "\n"
   ]
  },
  {
   "cell_type": "code",
   "execution_count": 25,
   "metadata": {},
   "outputs": [
    {
     "name": "stdout",
     "output_type": "stream",
     "text": [
      "Original shape: (1309, 14)\n",
      "Shape after dropping NaN rows: (0, 14)\n"
     ]
    }
   ],
   "source": [
    "# Drop rows with NaN values\n",
    "titanic_cleaned = titanic.dropna(how='any')\n",
    "\n",
    "# Print the shape of the original and cleaned DataFrames\n",
    "print(\"Original shape:\", titanic.shape)\n",
    "print(\"Shape after dropping NaN rows:\", titanic_cleaned.shape)"
   ]
  },
  {
   "cell_type": "code",
   "execution_count": null,
   "metadata": {},
   "outputs": [],
   "source": []
  },
  {
   "attachments": {},
   "cell_type": "markdown",
   "metadata": {},
   "source": [
    "18. Drop rows with *Nan* in `titanic` with `how='all'` and print the shape\n"
   ]
  },
  {
   "cell_type": "code",
   "execution_count": 26,
   "metadata": {},
   "outputs": [
    {
     "name": "stdout",
     "output_type": "stream",
     "text": [
      "Original shape: (1309, 14)\n",
      "Shape after dropping rows with all NaN values: (1309, 14)\n"
     ]
    }
   ],
   "source": [
    "# Drop rows where all columns are NaN\n",
    "titanic_cleaned = titanic.dropna(how='all')\n",
    "\n",
    "# Print the shape of the original and cleaned DataFrames\n",
    "print(\"Original shape:\", titanic.shape)\n",
    "print(\"Shape after dropping rows with all NaN values:\", titanic_cleaned.shape)\n"
   ]
  },
  {
   "cell_type": "code",
   "execution_count": 27,
   "metadata": {},
   "outputs": [
    {
     "name": "stdout",
     "output_type": "stream",
     "text": [
      "<class 'pandas.core.frame.DataFrame'>\n",
      "RangeIndex: 1309 entries, 0 to 1308\n",
      "Data columns (total 14 columns):\n",
      " #   Column     Non-Null Count  Dtype  \n",
      "---  ------     --------------  -----  \n",
      " 0   pclass     1309 non-null   int64  \n",
      " 1   survived   1309 non-null   int64  \n",
      " 2   name       1309 non-null   object \n",
      " 3   gender     1309 non-null   object \n",
      " 4   age        1046 non-null   float64\n",
      " 5   sibsp      1309 non-null   int64  \n",
      " 6   parch      1309 non-null   int64  \n",
      " 7   ticket     1309 non-null   object \n",
      " 8   fare       1308 non-null   float64\n",
      " 9   cabin      295 non-null    object \n",
      " 10  embarked   1307 non-null   object \n",
      " 11  boat       486 non-null    object \n",
      " 12  body       121 non-null    float64\n",
      " 13  home.dest  745 non-null    object \n",
      "dtypes: float64(3), int64(4), object(7)\n",
      "memory usage: 143.3+ KB\n"
     ]
    }
   ],
   "source": [
    "titanic.info()"
   ]
  },
  {
   "attachments": {},
   "cell_type": "markdown",
   "metadata": {},
   "source": [
    "Check in [here](https://pandas.pydata.org/pandas-docs/stable/reference/api/pandas.DataFrame.dropna.html) why the shapes are different."
   ]
  },
  {
   "attachments": {},
   "cell_type": "markdown",
   "metadata": {},
   "source": [
    "19. Drop columns in `titanic` with more than 1000 missing values and print the columns remaining"
   ]
  },
  {
   "cell_type": "code",
   "execution_count": 28,
   "metadata": {},
   "outputs": [
    {
     "name": "stdout",
     "output_type": "stream",
     "text": [
      "Remaining columns:\n",
      "['pclass', 'survived', 'name', 'gender', 'age', 'sibsp', 'parch', 'ticket', 'fare', 'embarked', 'boat', 'home.dest']\n"
     ]
    }
   ],
   "source": [
    "# Count missing values in each column\n",
    "missing_counts = titanic.isnull().sum()\n",
    "\n",
    "# Identify columns with more than 1000 missing values\n",
    "columns_to_drop = missing_counts[missing_counts > 1000].index\n",
    "\n",
    "# Drop these columns\n",
    "titanic_cleaned = titanic.drop(columns=columns_to_drop)\n",
    "\n",
    "# Print the remaining columns\n",
    "print(\"Remaining columns:\")\n",
    "print(titanic_cleaned.columns.tolist())\n"
   ]
  },
  {
   "cell_type": "code",
   "execution_count": null,
   "metadata": {},
   "outputs": [],
   "source": []
  },
  {
   "cell_type": "code",
   "execution_count": null,
   "metadata": {},
   "outputs": [],
   "source": []
  },
  {
   "attachments": {},
   "cell_type": "markdown",
   "metadata": {},
   "source": [
    "20. Calculate the ratio of missing values at the `boat` column. "
   ]
  },
  {
   "cell_type": "code",
   "execution_count": 29,
   "metadata": {},
   "outputs": [
    {
     "name": "stdout",
     "output_type": "stream",
     "text": [
      "Ratio of missing values in the 'boat' column: 0.6287\n",
      "Percentage of missing values: 62.87%\n"
     ]
    }
   ],
   "source": [
    "# Calculate the ratio of missing values in the 'boat' column\n",
    "missing_ratio = titanic['boat'].isnull().mean()\n",
    "\n",
    "print(f\"Ratio of missing values in the 'boat' column: {missing_ratio:.4f}\")\n",
    "print(f\"Percentage of missing values: {missing_ratio * 100:.2f}%\")"
   ]
  },
  {
   "attachments": {},
   "cell_type": "markdown",
   "metadata": {},
   "source": [
    "21.  Group `titanic` by `'pclass'` and aggregate by the columns `age` & `fare`, by `max` and `median` and assign it to `by_class`\n"
   ]
  },
  {
   "cell_type": "code",
   "execution_count": 30,
   "metadata": {},
   "outputs": [
    {
     "name": "stdout",
     "output_type": "stream",
     "text": [
      "         age             fare         \n",
      "         max median       max   median\n",
      "pclass                                \n",
      "1       80.0   39.0  512.3292  60.0000\n",
      "2       70.0   29.0   73.5000  15.0458\n",
      "3       74.0   24.0   69.5500   8.0500\n"
     ]
    }
   ],
   "source": [
    "by_class = titanic.groupby('pclass').agg({\n",
    "    'age': ['max', 'median'],\n",
    "    'fare': ['max', 'median']\n",
    "})\n",
    "\n",
    "print(by_class)\n"
   ]
  },
  {
   "attachments": {},
   "cell_type": "markdown",
   "metadata": {},
   "source": [
    "22. Print the maximum age in each class from `by_class`"
   ]
  },
  {
   "cell_type": "code",
   "execution_count": 31,
   "metadata": {},
   "outputs": [
    {
     "name": "stdout",
     "output_type": "stream",
     "text": [
      "Maximum age in each class:\n",
      "pclass\n",
      "1    80.0\n",
      "2    70.0\n",
      "3    74.0\n",
      "Name: max, dtype: float64\n"
     ]
    }
   ],
   "source": [
    "# Extract the maximum age for each class\n",
    "max_ages = by_class['age']['max']\n",
    "\n",
    "print(\"Maximum age in each class:\")\n",
    "print(max_ages)\n"
   ]
  },
  {
   "cell_type": "code",
   "execution_count": null,
   "metadata": {},
   "outputs": [],
   "source": []
  },
  {
   "attachments": {},
   "cell_type": "markdown",
   "metadata": {},
   "source": [
    "23. Print the median fare in each class from `by_class`"
   ]
  },
  {
   "cell_type": "code",
   "execution_count": 32,
   "metadata": {},
   "outputs": [
    {
     "name": "stdout",
     "output_type": "stream",
     "text": [
      "Median fare in each class:\n",
      "pclass\n",
      "1    60.0000\n",
      "2    15.0458\n",
      "3     8.0500\n",
      "Name: median, dtype: float64\n",
      "\n",
      "Formatted output:\n",
      "Class 1: $60.00\n",
      "Class 2: $15.05\n",
      "Class 3: $8.05\n"
     ]
    }
   ],
   "source": [
    "# Extract the median fare for each class\n",
    "median_fares = by_class['fare']['median']\n",
    "\n",
    "print(\"Median fare in each class:\")\n",
    "print(median_fares)\n",
    "\n",
    "# For a more formatted output:\n",
    "print(\"\\nFormatted output:\")\n",
    "for pclass, median_fare in median_fares.items():\n",
    "    print(f\"Class {pclass}: ${median_fare:.2f}\")"
   ]
  },
  {
   "attachments": {},
   "cell_type": "markdown",
   "metadata": {},
   "source": [
    "24. Using [`.pivot_table()`](https://pandas.pydata.org/pandas-docs/stable/reference/api/pandas.pivot_table.html) to count how many women or men survived by class, call it `counted`.\n",
    "\n",
    "Don't panic and read the documentation!\n",
    "\n",
    "\n"
   ]
  },
  {
   "cell_type": "code",
   "execution_count": 33,
   "metadata": {},
   "outputs": [
    {
     "name": "stdout",
     "output_type": "stream",
     "text": [
      "               Did not survive  Survived  Total\n",
      "pclass gender                                  \n",
      "1      female                5       139    144\n",
      "       male                118        61    179\n",
      "2      female               12        94    106\n",
      "       male                146        25    171\n",
      "3      female              110       106    216\n",
      "       male                418        75    493\n"
     ]
    }
   ],
   "source": [
    "# Add a constant column to count\n",
    "titanic['count'] = 1\n",
    "\n",
    "counted = pd.pivot_table(titanic, \n",
    "                         values='count', \n",
    "                         index=['pclass', 'gender'], \n",
    "                         columns='survived', \n",
    "                         aggfunc='sum', \n",
    "                         fill_value=0)\n",
    "\n",
    "# Rename the columns for clarity\n",
    "counted.columns = ['Did not survive', 'Survived']\n",
    "\n",
    "# Add a total column\n",
    "counted['Total'] = counted['Did not survive'] + counted['Survived']\n",
    "\n",
    "print(counted)"
   ]
  },
  {
   "cell_type": "code",
   "execution_count": null,
   "metadata": {},
   "outputs": [],
   "source": []
  },
  {
   "cell_type": "code",
   "execution_count": null,
   "metadata": {},
   "outputs": [],
   "source": []
  },
  {
   "cell_type": "code",
   "execution_count": null,
   "metadata": {},
   "outputs": [],
   "source": []
  },
  {
   "attachments": {},
   "cell_type": "markdown",
   "metadata": {},
   "source": [
    "25. Add a new column with the sum of survived men and women, call it `counted['total']` \n"
   ]
  },
  {
   "cell_type": "code",
   "execution_count": 34,
   "metadata": {},
   "outputs": [
    {
     "name": "stdout",
     "output_type": "stream",
     "text": [
      "               Did not survive  Survived  Total  total\n",
      "pclass gender                                         \n",
      "1      female                5       139    144    NaN\n",
      "       male                118        61    179    NaN\n",
      "2      female               12        94    106    NaN\n",
      "       male                146        25    171    NaN\n",
      "3      female              110       106    216    NaN\n",
      "       male                418        75    493    NaN\n"
     ]
    }
   ],
   "source": [
    "# Add a new column 'total' with the sum of survived men and women for each class\n",
    "counted['total'] = counted.groupby(level='pclass')['Survived'].sum()\n",
    "\n",
    "# Print the updated DataFrame\n",
    "print(counted)"
   ]
  },
  {
   "cell_type": "code",
   "execution_count": null,
   "metadata": {},
   "outputs": [],
   "source": []
  },
  {
   "attachments": {},
   "cell_type": "markdown",
   "metadata": {},
   "source": [
    "26. Sort `counted` by the `'total'` column. In which class the people survived the most?"
   ]
  },
  {
   "cell_type": "code",
   "execution_count": 35,
   "metadata": {},
   "outputs": [
    {
     "name": "stdout",
     "output_type": "stream",
     "text": [
      "               Did not survive  Survived  Total  total\n",
      "pclass gender                                         \n",
      "1      female                5       139    144    NaN\n",
      "       male                118        61    179    NaN\n",
      "2      female               12        94    106    NaN\n",
      "       male                146        25    171    NaN\n",
      "3      female              110       106    216    NaN\n",
      "       male                418        75    493    NaN\n",
      "\n",
      "The class with the most survivors was Class 1\n",
      "Total survivors in Class 1: nan\n"
     ]
    }
   ],
   "source": [
    "# Sort the DataFrame by the 'total' column in descending order\n",
    "counted_sorted = counted.sort_values(by='total', ascending=False)\n",
    "\n",
    "# Print the sorted DataFrame\n",
    "print(counted_sorted)\n",
    "\n",
    "# Identify the class with the most survivors\n",
    "class_most_survivors = counted_sorted.index[0][0]\n",
    "total_survivors = counted_sorted['total'].iloc[0]\n",
    "\n",
    "print(f\"\\nThe class with the most survivors was Class {class_most_survivors}\")\n",
    "print(f\"Total survivors in Class {class_most_survivors}: {total_survivors}\")"
   ]
  },
  {
   "cell_type": "code",
   "execution_count": null,
   "metadata": {},
   "outputs": [],
   "source": []
  },
  {
   "attachments": {},
   "cell_type": "markdown",
   "metadata": {},
   "source": [
    "27. Please, show only the rows using a mask with the following conditions: \n",
    "    - They are woman\n",
    "    - From third class\n",
    "    - Younger than 30\n",
    "    - They survived\n",
    "    \n",
    "    ¿How many rows fulfill the condition?"
   ]
  },
  {
   "cell_type": "code",
   "execution_count": 36,
   "metadata": {},
   "outputs": [
    {
     "name": "stdout",
     "output_type": "stream",
     "text": [
      "      pclass  survived                                               name  \\\n",
      "604        3         1                        Abelseth, Miss. Karen Marie   \n",
      "607        3         1          Abrahim, Mrs. Joseph (Sophie Halaut Easu)   \n",
      "612        3         1                         Aks, Mrs. Sam (Leah Rosen)   \n",
      "621        3         1    Andersen-Jensen, Miss. Carla Christine Nielsine   \n",
      "625        3         1                    Andersson, Miss. Erna Alexandra   \n",
      "643        3         1                     Asplund, Miss. Lillian Gertrud   \n",
      "653        3         1                               Ayoub, Miss. Banoura   \n",
      "657        3         1                             Baclini, Miss. Eugenie   \n",
      "658        3         1                      Baclini, Miss. Helene Barbara   \n",
      "659        3         1                     Baclini, Miss. Marie Catherine   \n",
      "660        3         1              Baclini, Mrs. Solomon (Latifa Qurban)   \n",
      "661        3         1                         Badman, Miss. Emily Louisa   \n",
      "686        3         1                       Bradley, Miss. Bridget Delia   \n",
      "709        3         1                          Carr, Miss. Helen \"Ellen\"   \n",
      "725        3         1                               Connolly, Miss. Kate   \n",
      "738        3         1                           Cribb, Miss. Laura Alice   \n",
      "763        3         1            Dean, Miss. Elizabeth Gladys \"Millvina\"   \n",
      "771        3         1                      Devaney, Miss. Margaret Delia   \n",
      "780        3         1                              Drapkin, Miss. Jennie   \n",
      "785        3         1  Dyker, Mrs. Adolf Fredrik (Anna Elisabeth Judi...   \n",
      "794        3         1                      Emanuel, Miss. Virginia Ethel   \n",
      "818        3         1                   Gilnagh, Miss. Katherine \"Katie\"   \n",
      "845        3         1  Hakkarainen, Mrs. Pekka Pietari (Elin Matilda ...   \n",
      "860        3         1                             Heikkinen, Miss. Laina   \n",
      "862        3         1                       Hellstrom, Miss. Hilda Maria   \n",
      "866        3         1                           Hirvonen, Miss. Hildur E   \n",
      "867        3         1       Hirvonen, Mrs. Alexander (Helga E Lindqvist)   \n",
      "870        3         1                             Honkanen, Miss. Eliina   \n",
      "895        3         1                       Johnson, Miss. Eleanor Ileen   \n",
      "899        3         1  Johnson, Mrs. Oscar W (Elisabeth Vilhelmina Berg)   \n",
      "916        3         1                                 Karun, Miss. Manca   \n",
      "934        3         1                Kink-Heilmann, Miss. Luise Gretchen   \n",
      "936        3         1         Kink-Heilmann, Mrs. Anton (Luise Heilmann)   \n",
      "947        3         1                    Landergren, Miss. Aurora Adelia   \n",
      "980        3         1                           Lundin, Miss. Olga Elida   \n",
      "1007       3         1                        McGowan, Miss. Anna \"Annie\"   \n",
      "1026       3         1                                 Moor, Mrs. (Beila)   \n",
      "1040       3         1                          Mulvihill, Miss. Bertha E   \n",
      "1047       3         1                   Najib, Miss. Adele Kiamie \"Jane\"   \n",
      "1048       3         1                        Nakid, Miss. Maria (\"Mary\")   \n",
      "1050       3         1              Nakid, Mrs. Said (Waika \"Mary\" Mowad)   \n",
      "1057       3         1                        Nicola-Yarred, Miss. Jamila   \n",
      "1060       3         1                        Nilsson, Miss. Berta Olivia   \n",
      "1061       3         1                    Nilsson, Miss. Helmina Josefina   \n",
      "1067       3         1                           Nysten, Miss. Anna Sofia   \n",
      "1079       3         1                                 Ohman, Miss. Velin   \n",
      "1182       3         1                   Salkjelsvik, Miss. Anna Kristine   \n",
      "1187       3         1                    Sandstrom, Miss. Beatrice Irene   \n",
      "1188       3         1  Sandstrom, Mrs. Hjalmar (Agnes Charlotta Bengt...   \n",
      "1189       3         1                    Sandstrom, Miss. Marguerite Rut   \n",
      "1205       3         1                          Sjoblom, Miss. Anna Sofia   \n",
      "1223       3         1                    Stanley, Miss. Amy Zillah Elsie   \n",
      "1244       3         1          Thomas, Mrs. Alexander (Thamine \"Thelma\")   \n",
      "1257       3         1                         Touma, Miss. Maria Youssef   \n",
      "1258       3         1            Touma, Mrs. Darwis (Hanne Youssef Razi)   \n",
      "1260       3         1                            Turja, Miss. Anna Sofia   \n",
      "1300       3         1            Yasbeck, Mrs. Antoni (Selini Alexander)   \n",
      "\n",
      "      gender    age  sibsp  parch            ticket     fare cabin embarked  \\\n",
      "604   female  16.00      0      0            348125   7.6500   NaN        S   \n",
      "607   female  18.00      0      0              2657   7.2292   NaN        C   \n",
      "612   female  18.00      0      1            392091   9.3500   NaN        S   \n",
      "621   female  19.00      1      0            350046   7.8542   NaN        S   \n",
      "625   female  17.00      4      2           3101281   7.9250   NaN        S   \n",
      "643   female   5.00      4      2            347077  31.3875   NaN        S   \n",
      "653   female  13.00      0      0              2687   7.2292   NaN        C   \n",
      "657   female   0.75      2      1              2666  19.2583   NaN        C   \n",
      "658   female   0.75      2      1              2666  19.2583   NaN        C   \n",
      "659   female   5.00      2      1              2666  19.2583   NaN        C   \n",
      "660   female  24.00      0      3              2666  19.2583   NaN        C   \n",
      "661   female  18.00      0      0         A/4 31416   8.0500   NaN        S   \n",
      "686   female  22.00      0      0            334914   7.7250   NaN        Q   \n",
      "709   female  16.00      0      0            367231   7.7500   NaN        Q   \n",
      "725   female  22.00      0      0            370373   7.7500   NaN        Q   \n",
      "738   female  17.00      0      1            371362  16.1000   NaN        S   \n",
      "763   female   0.17      1      2         C.A. 2315  20.5750   NaN        S   \n",
      "771   female  19.00      0      0            330958   7.8792   NaN        Q   \n",
      "780   female  23.00      0      0   SOTON/OQ 392083   8.0500   NaN        S   \n",
      "785   female  22.00      1      0            347072  13.9000   NaN        S   \n",
      "794   female   5.00      0      0            364516  12.4750   NaN        S   \n",
      "818   female  16.00      0      0             35851   7.7333   NaN        Q   \n",
      "845   female  24.00      1      0  STON/O2. 3101279  15.8500   NaN        S   \n",
      "860   female  26.00      0      0  STON/O2. 3101282   7.9250   NaN        S   \n",
      "862   female  22.00      0      0              7548   8.9625   NaN        S   \n",
      "866   female   2.00      0      1           3101298  12.2875   NaN        S   \n",
      "867   female  22.00      1      1           3101298  12.2875   NaN        S   \n",
      "870   female  27.00      0      0  STON/O2. 3101283   7.9250   NaN        S   \n",
      "895   female   1.00      1      1            347742  11.1333   NaN        S   \n",
      "899   female  27.00      0      2            347742  11.1333   NaN        S   \n",
      "916   female   4.00      0      1            349256  13.4167   NaN        C   \n",
      "934   female   4.00      0      2            315153  22.0250   NaN        S   \n",
      "936   female  26.00      1      1            315153  22.0250   NaN        S   \n",
      "947   female  22.00      0      0            C 7077   7.2500   NaN        S   \n",
      "980   female  23.00      0      0            347469   7.8542   NaN        S   \n",
      "1007  female  15.00      0      0            330923   8.0292   NaN        Q   \n",
      "1026  female  27.00      0      1            392096  12.4750  E121        S   \n",
      "1040  female  24.00      0      0            382653   7.7500   NaN        Q   \n",
      "1047  female  15.00      0      0              2667   7.2250   NaN        C   \n",
      "1048  female   1.00      0      2              2653  15.7417   NaN        C   \n",
      "1050  female  19.00      1      1              2653  15.7417   NaN        C   \n",
      "1057  female  14.00      1      0              2651  11.2417   NaN        C   \n",
      "1060  female  18.00      0      0            347066   7.7750   NaN        S   \n",
      "1061  female  26.00      0      0            347470   7.8542   NaN        S   \n",
      "1067  female  22.00      0      0            347081   7.7500   NaN        S   \n",
      "1079  female  22.00      0      0            347085   7.7750   NaN        S   \n",
      "1182  female  21.00      0      0            343120   7.6500   NaN        S   \n",
      "1187  female   1.00      1      1           PP 9549  16.7000    G6        S   \n",
      "1188  female  24.00      0      2           PP 9549  16.7000    G6        S   \n",
      "1189  female   4.00      1      1           PP 9549  16.7000    G6        S   \n",
      "1205  female  18.00      0      0           3101265   7.4958   NaN        S   \n",
      "1223  female  23.00      0      0          CA. 2314   7.5500   NaN        S   \n",
      "1244  female  16.00      1      1              2625   8.5167   NaN        C   \n",
      "1257  female   9.00      1      1              2650  15.2458   NaN        C   \n",
      "1258  female  29.00      0      2              2650  15.2458   NaN        C   \n",
      "1260  female  18.00      0      0              4138   9.8417   NaN        S   \n",
      "1300  female  15.00      1      0              2659  14.4542   NaN        C   \n",
      "\n",
      "     boat  body                                          home.dest  count  \n",
      "604    16   NaN                             Norway Los Angeles, CA      1  \n",
      "607     C   NaN                                     Greensburg, PA      1  \n",
      "612    13   NaN                        London, England Norfolk, VA      1  \n",
      "621    16   NaN                                                NaN      1  \n",
      "625     D   NaN               Ruotsinphyhtaa, Finland New York, NY      1  \n",
      "643    15   NaN                               Sweden Worcester, MA      1  \n",
      "653     C   NaN                               Syria Youngstown, OH      1  \n",
      "657     C   NaN                                 Syria New York, NY      1  \n",
      "658     C   NaN                                 Syria New York, NY      1  \n",
      "659     C   NaN                                 Syria New York, NY      1  \n",
      "660     C   NaN                                 Syria New York, NY      1  \n",
      "661     C   NaN                              London Skanteales, NY      1  \n",
      "686    13   NaN  Kingwilliamstown, Co Cork, Ireland Glens Falls...      1  \n",
      "709    16   NaN                  Co Longford, Ireland New York, NY      1  \n",
      "725    13   NaN                                            Ireland      1  \n",
      "738    12   NaN                    Bournemouth, England Newark, NJ      1  \n",
      "763    10   NaN                         Devon, England Wichita, KS      1  \n",
      "771     C   NaN         Kilmacowen, Co Sligo, Ireland New York, NY      1  \n",
      "780   NaN   NaN                                London New York, NY      1  \n",
      "785    16   NaN                                     West Haven, CT      1  \n",
      "794    13   NaN                                       New York, NY      1  \n",
      "818    16   NaN                  Co Longford, Ireland New York, NY      1  \n",
      "845    15   NaN                                                NaN      1  \n",
      "860   NaN   NaN                                                NaN      1  \n",
      "862     C   NaN                                                NaN      1  \n",
      "866    15   NaN                                                NaN      1  \n",
      "867    15   NaN                                                NaN      1  \n",
      "870   NaN   NaN                                                NaN      1  \n",
      "895    15   NaN                                                NaN      1  \n",
      "899    15   NaN                                                NaN      1  \n",
      "916    15   NaN                                                NaN      1  \n",
      "934     2   NaN                                                NaN      1  \n",
      "936     2   NaN                                                NaN      1  \n",
      "947    13   NaN                                                NaN      1  \n",
      "980    10   NaN                                                NaN      1  \n",
      "1007  NaN   NaN                                                NaN      1  \n",
      "1026   14   NaN                                                NaN      1  \n",
      "1040   15   NaN                                                NaN      1  \n",
      "1047    C   NaN                                                NaN      1  \n",
      "1048    C   NaN                                                NaN      1  \n",
      "1050    C   NaN                                                NaN      1  \n",
      "1057    C   NaN                                                NaN      1  \n",
      "1060    D   NaN                                                NaN      1  \n",
      "1061   13   NaN                                                NaN      1  \n",
      "1067   13   NaN                                                NaN      1  \n",
      "1079    C   NaN                                                NaN      1  \n",
      "1182    C   NaN                                                NaN      1  \n",
      "1187   13   NaN                                                NaN      1  \n",
      "1188   13   NaN                                                NaN      1  \n",
      "1189   13   NaN                                                NaN      1  \n",
      "1205   16   NaN                                                NaN      1  \n",
      "1223    C   NaN                                                NaN      1  \n",
      "1244   14   NaN                                                NaN      1  \n",
      "1257    C   NaN                                                NaN      1  \n",
      "1258    C   NaN                                                NaN      1  \n",
      "1260   15   NaN                                                NaN      1  \n",
      "1300  NaN   NaN                                                NaN      1  \n",
      "\n",
      "Number of rows that fulfill the conditions: 57\n"
     ]
    }
   ],
   "source": [
    "\n",
    "# Create the mask with the specified conditions\n",
    "mask = (\n",
    "    (titanic['gender'] == 'female') &  # They are women\n",
    "    (titanic['pclass'] == 3) &         # From third class\n",
    "    (titanic['age'] < 30) &            # Younger than 30\n",
    "    (titanic['survived'] == 1)         # They survived\n",
    ")\n",
    "\n",
    "# Apply the mask to the DataFrame\n",
    "filtered_df = titanic[mask]\n",
    "\n",
    "# Display the filtered DataFrame\n",
    "print(filtered_df)\n",
    "\n",
    "# Count how many rows fulfill the condition\n",
    "row_count = len(filtered_df)\n",
    "\n",
    "print(f\"\\nNumber of rows that fulfill the conditions: {row_count}\")"
   ]
  },
  {
   "attachments": {},
   "cell_type": "markdown",
   "metadata": {},
   "source": [
    "28. Now, show only the rows using `.loc` with the following conditions: \n",
    "    - They are man\n",
    "    - From first class\n",
    "    - Older than 50\n",
    "    - They died\n",
    "    \n",
    "    ¿How many rows fulfill the condition?"
   ]
  },
  {
   "cell_type": "code",
   "execution_count": 37,
   "metadata": {},
   "outputs": [
    {
     "name": "stdout",
     "output_type": "stream",
     "text": [
      "     pclass  survived                            name gender   age  sibsp  \\\n",
      "9         1         0         Artagaveytia, Mr. Ramon   male  71.0      0   \n",
      "81        1         0    Crosby, Capt. Edward Gifford   male  70.0      1   \n",
      "115       1         0               Fortune, Mr. Mark   male  64.0      1   \n",
      "135       1         0       Goldschmidt, Mr. George B   male  71.0      0   \n",
      "154       1         0      Hays, Mr. Charles Melville   male  55.0      1   \n",
      "158       1         0     Hipkins, Mr. William Edward   male  55.0      0   \n",
      "174       1         0         Kent, Mr. Edward Austin   male  58.0      0   \n",
      "201       1         0         McCarthy, Mr. Timothy J   male  54.0      0   \n",
      "205       1         0       Millet, Mr. Francis Davis   male  65.0      0   \n",
      "210       1         0      Molson, Mr. Harry Markland   male  55.0      0   \n",
      "215       1         0      Newell, Mr. Arthur Webster   male  58.0      0   \n",
      "217       1         0    Nicholson, Mr. Arthur Ernest   male  64.0      0   \n",
      "221       1         0  Ostby, Mr. Engelhart Cornelius   male  65.0      0   \n",
      "246       1         0          Rothschild, Mr. Martin   male  55.0      1   \n",
      "252       1         0      Ryerson, Mr. Arthur Larned   male  61.0      1   \n",
      "266       1         0      Smart, Mr. John Montgomery   male  56.0      0   \n",
      "267       1         0         Smith, Mr. James Clinch   male  56.0      0   \n",
      "276       1         0   Spencer, Mr. William Augustus   male  57.0      1   \n",
      "279       1         0       Stead, Mr. William Thomas   male  62.0      0   \n",
      "285       1         0              Straus, Mr. Isidor   male  67.0      1   \n",
      "287       1         0           Sutton, Mr. Frederick   male  61.0      0   \n",
      "290       1         0               Taussig, Mr. Emil   male  52.0      1   \n",
      "300       1         0       Van der hoef, Mr. Wyckoff   male  61.0      0   \n",
      "303       1         0        Warren, Mr. Frank Manley   male  64.0      1   \n",
      "305       1         0                 Weir, Col. John   male  60.0      0   \n",
      "306       1         0     White, Mr. Percival Wayland   male  54.0      0   \n",
      "310       1         0        Wick, Mr. George Dennick   male  57.0      1   \n",
      "316       1         0     Williams, Mr. Charles Duane   male  51.0      0   \n",
      "321       1         0              Wright, Mr. George   male  62.0      0   \n",
      "\n",
      "     parch     ticket      fare            cabin embarked boat   body  \\\n",
      "9        0   PC 17609   49.5042              NaN        C  NaN   22.0   \n",
      "81       1  WE/P 5735   71.0000              B22        S  NaN  269.0   \n",
      "115      4      19950  263.0000      C23 C25 C27        S  NaN    NaN   \n",
      "135      0   PC 17754   34.6542               A5        C  NaN    NaN   \n",
      "154      1      12749   93.5000              B69        S  NaN  307.0   \n",
      "158      0        680   50.0000              C39        S  NaN    NaN   \n",
      "174      0      11771   29.7000              B37        C  NaN  258.0   \n",
      "201      0      17463   51.8625              E46        S  NaN  175.0   \n",
      "205      0      13509   26.5500              E38        S  NaN  249.0   \n",
      "210      0     113787   30.5000              C30        S  NaN    NaN   \n",
      "215      2      35273  113.2750              D48        C  NaN  122.0   \n",
      "217      0        693   26.0000              NaN        S  NaN  263.0   \n",
      "221      1     113509   61.9792              B30        C  NaN  234.0   \n",
      "246      0   PC 17603   59.4000              NaN        C  NaN    NaN   \n",
      "252      3   PC 17608  262.3750  B57 B59 B63 B66        C  NaN    NaN   \n",
      "266      0     113792   26.5500              NaN        S  NaN    NaN   \n",
      "267      0      17764   30.6958               A7        C  NaN    NaN   \n",
      "276      0   PC 17569  146.5208              B78        C  NaN    NaN   \n",
      "279      0     113514   26.5500              C87        S  NaN    NaN   \n",
      "285      0   PC 17483  221.7792          C55 C57        S  NaN   96.0   \n",
      "287      0      36963   32.3208              D50        S  NaN   46.0   \n",
      "290      1     110413   79.6500              E67        S  NaN    NaN   \n",
      "300      0     111240   33.5000              B19        S  NaN  245.0   \n",
      "303      0     110813   75.2500              D37        C  NaN    NaN   \n",
      "305      0     113800   26.5500              NaN        S  NaN    NaN   \n",
      "306      1      35281   77.2875              D26        S  NaN    NaN   \n",
      "310      1      36928  164.8667              NaN        S  NaN    NaN   \n",
      "316      1   PC 17597   61.3792              NaN        C  NaN    NaN   \n",
      "321      0     113807   26.5500              NaN        S  NaN    NaN   \n",
      "\n",
      "                                          home.dest  count  \n",
      "9                               Montevideo, Uruguay      1  \n",
      "81                                    Milwaukee, WI      1  \n",
      "115                                    Winnipeg, MB      1  \n",
      "135                                    New York, NY      1  \n",
      "154                                    Montreal, PQ      1  \n",
      "158                             London / Birmingham      1  \n",
      "174                                     Buffalo, NY      1  \n",
      "201                                  Dorchester, MA      1  \n",
      "205                            East Bridgewater, MA      1  \n",
      "210                                    Montreal, PQ      1  \n",
      "215                                   Lexington, MA      1  \n",
      "217                          Isle of Wight, England      1  \n",
      "221                                  Providence, RI      1  \n",
      "246                                    New York, NY      1  \n",
      "252                 Haverford, PA / Cooperstown, NY      1  \n",
      "266                                    New York, NY      1  \n",
      "267                       St James, Long Island, NY      1  \n",
      "276                                   Paris, France      1  \n",
      "279  Wimbledon Park, London / Hayling Island, Hants      1  \n",
      "285                                    New York, NY      1  \n",
      "287                                 Haddenfield, NJ      1  \n",
      "290                                    New York, NY      1  \n",
      "300                                    Brooklyn, NY      1  \n",
      "303                                    Portland, OR      1  \n",
      "305                    England Salt Lake City, Utah      1  \n",
      "306                                   Brunswick, ME      1  \n",
      "310                                  Youngstown, OH      1  \n",
      "316                Geneva, Switzerland / Radnor, PA      1  \n",
      "321                                     Halifax, NS      1  \n",
      "\n",
      "Number of rows that fulfill the conditions: 29\n"
     ]
    }
   ],
   "source": [
    "\n",
    "# Create the mask with the specified conditions\n",
    "filtered_df = titanic.loc[\n",
    "    (titanic['gender'] == 'male') &    # They are men\n",
    "    (titanic['pclass'] == 1) &         # From first class\n",
    "    (titanic['age'] > 50) &            # Older than 50\n",
    "    (titanic['survived'] == 0)         # They died\n",
    "]\n",
    "\n",
    "# Display the filtered DataFrame\n",
    "print(filtered_df)\n",
    "\n",
    "# Count how many rows fulfill the condition\n",
    "row_count = len(filtered_df)\n",
    "\n",
    "print(f\"\\nNumber of rows that fulfill the conditions: {row_count}\")"
   ]
  },
  {
   "attachments": {},
   "cell_type": "markdown",
   "metadata": {},
   "source": [
    "29. Print the uniques values at the column `'name'`"
   ]
  },
  {
   "cell_type": "code",
   "execution_count": 38,
   "metadata": {},
   "outputs": [
    {
     "name": "stdout",
     "output_type": "stream",
     "text": [
      "['Allen, Miss. Elisabeth Walton' 'Allison, Master. Hudson Trevor'\n",
      " 'Allison, Miss. Helen Loraine' ... 'Zakarian, Mr. Mapriededer'\n",
      " 'Zakarian, Mr. Ortin' 'Zimmerman, Mr. Leo']\n"
     ]
    }
   ],
   "source": [
    "unique_names = titanic['name'].unique()\n",
    "print(unique_names)"
   ]
  },
  {
   "cell_type": "code",
   "execution_count": null,
   "metadata": {},
   "outputs": [],
   "source": []
  },
  {
   "attachments": {},
   "cell_type": "markdown",
   "metadata": {},
   "source": [
    "30. Find if was there any `name` repeated at the Titanic?\n",
    "\n",
    "Hint: There were two people with the same name, who?"
   ]
  },
  {
   "cell_type": "code",
   "execution_count": 39,
   "metadata": {},
   "outputs": [
    {
     "name": "stdout",
     "output_type": "stream",
     "text": [
      "Repeated names found:\n",
      "name\n",
      "Connolly, Miss. Kate    2\n",
      "Kelly, Mr. James        2\n",
      "Name: count, dtype: int64\n",
      "\n",
      "Total number of repeated names: 2\n"
     ]
    }
   ],
   "source": [
    "# Count the occurrences of each name\n",
    "name_counts = titanic['name'].value_counts()\n",
    "\n",
    "# Find names that appear more than once\n",
    "repeated_names = name_counts[name_counts > 1]\n",
    "\n",
    "if len(repeated_names) > 0:\n",
    "    print(\"Repeated names found:\")\n",
    "    print(repeated_names)\n",
    "    print(f\"\\nTotal number of repeated names: {len(repeated_names)}\")\n",
    "else:\n",
    "    print(\"No repeated names found.\")"
   ]
  },
  {
   "cell_type": "code",
   "execution_count": null,
   "metadata": {},
   "outputs": [],
   "source": []
  },
  {
   "cell_type": "code",
   "execution_count": null,
   "metadata": {},
   "outputs": [],
   "source": []
  },
  {
   "attachments": {},
   "cell_type": "markdown",
   "metadata": {},
   "source": [
    "31. Using `matplotlib` find the appropriate visualization to show the distribution of the column `'age'`"
   ]
  },
  {
   "cell_type": "code",
   "execution_count": 40,
   "metadata": {},
   "outputs": [
    {
     "data": {
      "image/png": "[encoded data removed]",
      "text/plain": [
       "<Figure size 1000x600 with 1 Axes>"
      ]
     },
     "metadata": {},
     "output_type": "display_data"
    }
   ],
   "source": [
    "import matplotlib.pyplot as plt\n",
    "\n",
    "# Create the histogram\n",
    "plt.figure(figsize=(10, 6))\n",
    "plt.hist(titanic['age'].dropna(), bins=30, edgecolor='black')\n",
    "\n",
    "# Add labels and title\n",
    "plt.xlabel('Age')\n",
    "plt.ylabel('Frequency')\n",
    "plt.title('Distribution of Passenger Ages on the Titanic')\n",
    "\n",
    "# Add grid lines for better readability\n",
    "plt.grid(axis='y', alpha=0.75)\n",
    "\n",
    "# Show the plot\n",
    "plt.show()"
   ]
  },
  {
   "cell_type": "code",
   "execution_count": null,
   "metadata": {},
   "outputs": [],
   "source": []
  },
  {
   "cell_type": "code",
   "execution_count": null,
   "metadata": {},
   "outputs": [],
   "source": []
  },
  {
   "attachments": {},
   "cell_type": "markdown",
   "metadata": {},
   "source": [
    "32. Using `matplotlib` find the appropriate plot to visualize the column `'gender'`"
   ]
  },
  {
   "cell_type": "code",
   "execution_count": 41,
   "metadata": {},
   "outputs": [
    {
     "data": {
      "image/png": "[encoded data removed]",
      "text/plain": [
       "<Figure size 800x600 with 1 Axes>"
      ]
     },
     "metadata": {},
     "output_type": "display_data"
    }
   ],
   "source": [
    "import matplotlib.pyplot as plt\n",
    "\n",
    "# Count the occurrences of each gender\n",
    "gender_counts = titanic['gender'].value_counts()\n",
    "\n",
    "# Create a bar plot\n",
    "plt.figure(figsize=(8, 6))\n",
    "gender_counts.plot(kind='bar')\n",
    "\n",
    "# Customize the plot\n",
    "plt.title('Distribution of Passengers by Gender')\n",
    "plt.xlabel('Gender')\n",
    "plt.ylabel('Count')\n",
    "plt.xticks(rotation=0)\n",
    "\n",
    "# Add value labels on top of each bar\n",
    "for i, v in enumerate(gender_counts):\n",
    "    plt.text(i, v, str(v), ha='center', va='bottom')\n",
    "\n",
    "plt.tight_layout()\n",
    "plt.show()"
   ]
  },
  {
   "cell_type": "code",
   "execution_count": 46,
   "metadata": {},
   "outputs": [
    {
     "data": {
      "image/png": "[encoded data removed]",
      "text/plain": [
       "<Figure size 800x800 with 1 Axes>"
      ]
     },
     "metadata": {},
     "output_type": "display_data"
    }
   ],
   "source": [
    "import matplotlib.pyplot as plt\n",
    "\n",
    "# Count the occurrences of each gender\n",
    "gender_counts = titanic['gender'].value_counts()\n",
    "\n",
    "# Create a pie chart\n",
    "plt.figure(figsize=(8, 8))\n",
    "plt.pie(gender_counts.values, labels=gender_counts.index, autopct='%1.1f%%', startangle=50)\n",
    "\n",
    "# Customize the plot\n",
    "plt.title('Distribution of Passengers by Gender')\n",
    "plt.axis('equal')  # Equal aspect ratio ensures that pie is drawn as a circle\n",
    "\n",
    "plt.tight_layout()\n",
    "plt.show()"
   ]
  },
  {
   "cell_type": "code",
   "execution_count": null,
   "metadata": {},
   "outputs": [],
   "source": []
  },
  {
   "cell_type": "code",
   "execution_count": null,
   "metadata": {},
   "outputs": [],
   "source": []
  },
  {
   "attachments": {},
   "cell_type": "markdown",
   "metadata": {},
   "source": [
    "32b. What if you also plot the column `'gender'` using the function [`countplot`](https://seaborn.pydata.org/generated/seaborn.countplot.html) from the library [`seaborn`](https://seaborn.pydata.org/)?\n",
    "\n",
    "Remember you have never used `seaborn` before, therefore you should install it before importing it."
   ]
  },
  {
   "cell_type": "code",
   "execution_count": 43,
   "metadata": {},
   "outputs": [
    {
     "data": {
      "image/png": "[encoded data removed]",
      "text/plain": [
       "<Figure size 800x600 with 1 Axes>"
      ]
     },
     "metadata": {},
     "output_type": "display_data"
    }
   ],
   "source": [
    "# Import the required libraries\n",
    "import matplotlib.pyplot as plt\n",
    "import seaborn as sns\n",
    "\n",
    "# Set the style for seaborn (optional, but makes the plot look nicer)\n",
    "sns.set_style(\"whitegrid\")\n",
    "\n",
    "# Create the countplot\n",
    "plt.figure(figsize=(8, 6))\n",
    "sns.countplot(data=titanic, x='gender')\n",
    "\n",
    "# Customize the plot\n",
    "plt.title('Distribution of Passengers by Gender')\n",
    "plt.xlabel('Gender')\n",
    "plt.ylabel('Count')\n",
    "\n",
    "# Add value labels on top of each bar\n",
    "for i in plt.gca().containers:\n",
    "    plt.gca().bar_label(i)\n",
    "\n",
    "# Show the plot\n",
    "plt.tight_layout()\n",
    "plt.show()"
   ]
  },
  {
   "cell_type": "code",
   "execution_count": null,
   "metadata": {},
   "outputs": [],
   "source": []
  },
  {
   "attachments": {},
   "cell_type": "markdown",
   "metadata": {},
   "source": [
    "33. Using the function [`catplot`](https://seaborn.pydata.org/generated/seaborn.catplot.html) from the library `seaborn`, find out if the hypothesis _\"Women are more likely to survive shipwrecks\"_ is true or not.\n",
    "\n",
    "You should get something like this:"
   ]
  },
  {
   "attachments": {},
   "cell_type": "markdown",
   "metadata": {},
   "source": [
    "![catplot](./img/catplotgen.png)"
   ]
  },
  {
   "cell_type": "code",
   "execution_count": 47,
   "metadata": {},
   "outputs": [
    {
     "name": "stderr",
     "output_type": "stream",
     "text": [
      "C:\\Users\\mikel\\AppData\\Local\\Temp\\ipykernel_19888\\4094611048.py:8: FutureWarning: \n",
      "\n",
      "Passing `palette` without assigning `hue` is deprecated and will be removed in v0.14.0. Assign the `x` variable to `hue` and set `legend=False` for the same effect.\n",
      "\n",
      "  g = sns.catplot(\n",
      "C:\\Users\\mikel\\AppData\\Local\\Temp\\ipykernel_19888\\4094611048.py:8: FutureWarning: \n",
      "\n",
      "The `ci` parameter is deprecated. Use `errorbar=('ci', 95)` for the same effect.\n",
      "\n",
      "  g = sns.catplot(\n"
     ]
    },
    {
     "data": {
      "image/png": "[encoded data removed]",
      "text/plain": [
       "<Figure size 900x600 with 1 Axes>"
      ]
     },
     "metadata": {},
     "output_type": "display_data"
    }
   ],
   "source": [
    "import seaborn as sns\n",
    "import matplotlib.pyplot as plt\n",
    "\n",
    "# Set the style for seaborn\n",
    "sns.set_style(\"whitegrid\")\n",
    "\n",
    "# Create the catplot\n",
    "g = sns.catplot(\n",
    "    data=titanic, \n",
    "    x=\"gender\", \n",
    "    y=\"survived\", \n",
    "    kind=\"bar\",\n",
    "    height=6, \n",
    "    aspect=1.5,\n",
    "    palette=\"Set2\",\n",
    "    ci=95  # 95% confidence interval\n",
    ")\n",
    "\n",
    "# Customize the plot\n",
    "g.set_axis_labels(\"Gender\", \"Survival Rate\")\n",
    "g.set_xticklabels([\"Men\", \"Women\"])\n",
    "g.fig.suptitle(\"Survival Rates by Gender on the Titanic\", fontsize=16)\n",
    "g.set(ylim=(0, 1))  # Set y-axis limits from 0 to 1\n",
    "\n",
    "# Add percentage labels on top of each bar\n",
    "ax = g.facet_axis(0, 0)\n",
    "for i, p in enumerate(ax.patches):\n",
    "    height = p.get_height()\n",
    "    ax.text(p.get_x() + p.get_width()/2., height + 0.01,\n",
    "            f'{height:.1%}',\n",
    "            ha=\"center\", va=\"bottom\")\n",
    "\n",
    "plt.tight_layout()\n",
    "plt.show()"
   ]
  },
  {
   "cell_type": "code",
   "execution_count": null,
   "metadata": {},
   "outputs": [],
   "source": []
  },
  {
   "cell_type": "code",
   "execution_count": null,
   "metadata": {},
   "outputs": [],
   "source": []
  },
  {
   "attachments": {},
   "cell_type": "markdown",
   "metadata": {},
   "source": [
    "34. Using [`kdeplot`](\"https://seaborn.pydata.org/generated/seaborn.kdeplot.html\") from `seaborn` represent those who not survived distributed by age.<>\n",
    "\n",
    "Hint: First you should \"filter\" the `titanic` dataset where the column \"survived\" is 0, indexing the column `\"age\"` only.\n",
    "\n",
    "Arguments you should pass to the function: \n",
    "\n",
    "    - color = \"red\"\n",
    "    - label = \"Not Survived\"\n",
    "    - shade = True\n",
    "    \n",
    "You should get something like this: "
   ]
  },
  {
   "attachments": {},
   "cell_type": "markdown",
   "metadata": {},
   "source": [
    "![kdeplot](./img/kdeplotsur.png)"
   ]
  },
  {
   "cell_type": "code",
   "execution_count": 50,
   "metadata": {},
   "outputs": [
    {
     "name": "stderr",
     "output_type": "stream",
     "text": [
      "C:\\Users\\mikel\\AppData\\Local\\Temp\\ipykernel_19888\\3235706928.py:12: FutureWarning: \n",
      "\n",
      "`shade` is now deprecated in favor of `fill`; setting `fill=True`.\n",
      "This will become an error in seaborn v0.14.0; please update your code.\n",
      "\n",
      "  sns.kdeplot(data=not_survived,\n"
     ]
    },
    {
     "data": {
      "image/png": "[encoded data removed]",
      "text/plain": [
       "<Figure size 1000x600 with 1 Axes>"
      ]
     },
     "metadata": {},
     "output_type": "display_data"
    }
   ],
   "source": [
    "import seaborn as sns\n",
    "import matplotlib.pyplot as plt\n",
    "\n",
    "# Filter the dataset for those who did not survive\n",
    "not_survived = titanic[titanic['survived'] == 0]['age']\n",
    "\n",
    "\n",
    "# Set up the plot\n",
    "plt.figure(figsize=(10, 6))\n",
    "\n",
    "# Create the KDE plot\n",
    "sns.kdeplot(data=not_survived, \n",
    "            color=\"red\", \n",
    "            label=\"Not Survived\", \n",
    "            shade=True)\n",
    "\n",
    "# Customize the plot\n",
    "plt.title(\"Age Distribution of Passengers Who Did Not Survive\", fontsize=16)\n",
    "plt.xlabel(\"Age\", fontsize=12)\n",
    "plt.ylabel(\"Density\", fontsize=12)\n",
    "\n",
    "# Add a legend\n",
    "plt.legend()\n",
    "\n",
    "# Show the plot\n",
    "plt.show()"
   ]
  },
  {
   "cell_type": "code",
   "execution_count": null,
   "metadata": {},
   "outputs": [],
   "source": []
  },
  {
   "cell_type": "code",
   "execution_count": null,
   "metadata": {},
   "outputs": [],
   "source": []
  }
 ],
 "metadata": {
  "kernelspec": {
   "display_name": "Python 3",
   "language": "python",
   "name": "python3"
  },
  "language_info": {
   "codemirror_mode": {
    "name": "ipython",
    "version": 3
   },
   "file_extension": ".py",
   "mimetype": "text/x-python",
   "name": "python",
   "nbconvert_exporter": "python",
   "pygments_lexer": "ipython3",
   "version": "3.9.6"
  }
 },
 "nbformat": 4,
 "nbformat_minor": 4
}
