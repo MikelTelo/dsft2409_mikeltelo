{
 "cells": [
  {
   "cell_type": "markdown",
   "metadata": {},
   "source": [
    "![imagen](./img/ejercicios.png)"
   ]
  },
  {
   "cell_type": "code",
   "execution_count": 1,
   "metadata": {},
   "outputs": [],
   "source": [
    "import numpy as np"
   ]
  },
  {
   "cell_type": "markdown",
   "metadata": {},
   "source": [
    "## Ejercicio 1\n",
    "1. Crea un array que vaya del 0 al 9 y que se llame `my_array`\n",
    "2. Imprime por pantalla los elementos [9 7 5 3 1] en ese orden."
   ]
  },
  {
   "cell_type": "code",
   "execution_count": 88,
   "metadata": {},
   "outputs": [
    {
     "name": "stdout",
     "output_type": "stream",
     "text": [
      "[9 7 5 3 1]\n"
     ]
    }
   ],
   "source": [
    "my_array = np.arange(10)\n",
    "my_array\n",
    "print (my_array [::-2])"
   ]
  },
  {
   "cell_type": "markdown",
   "metadata": {},
   "source": [
    "## Ejercicio 2\n",
    "Imprime por pantalla la secuencia [8 7] del array `my_array`"
   ]
  },
  {
   "cell_type": "code",
   "execution_count": 17,
   "metadata": {},
   "outputs": [
    {
     "name": "stdout",
     "output_type": "stream",
     "text": [
      "[0 1 2 3 4 5 6 7 8 9]\n",
      "[8 7]\n"
     ]
    }
   ],
   "source": [
    "print(my_array)\n",
    "print (my_array [8:6:-1])"
   ]
  },
  {
   "cell_type": "markdown",
   "metadata": {},
   "source": [
    "## Ejercicio 3\n",
    "Imprime por pantalla la secuencia [2 1 0] de `my_array`"
   ]
  },
  {
   "cell_type": "code",
   "execution_count": 21,
   "metadata": {},
   "outputs": [
    {
     "name": "stdout",
     "output_type": "stream",
     "text": [
      "[0 1 2 3 4 5 6 7 8 9]\n",
      "[2 1 0]\n"
     ]
    }
   ],
   "source": [
    "print(my_array)\n",
    "print (my_array [2::-1])"
   ]
  },
  {
   "cell_type": "markdown",
   "metadata": {},
   "source": [
    "## Ejercicio 4\n",
    "1. Crea una matriz de 4x5, con una secuencia del 1 al 20\n",
    "2. Invierte totalmente la matriz. Tanto las filas, como las columnas"
   ]
  },
  {
   "cell_type": "code",
   "execution_count": 29,
   "metadata": {},
   "outputs": [
    {
     "name": "stdout",
     "output_type": "stream",
     "text": [
      "[[ 1  2  3  4  5]\n",
      " [ 6  7  8  9 10]\n",
      " [11 12 13 14 15]\n",
      " [16 17 18 19 20]]\n",
      "\n",
      "[[20 19 18 17 16]\n",
      " [15 14 13 12 11]\n",
      " [10  9  8  7  6]\n",
      " [ 5  4  3  2  1]]\n"
     ]
    }
   ],
   "source": [
    "matriz_ex4 = np.arange(1, 21).reshape(4, 5)\n",
    "matriz_ex4\n",
    "print(matriz_ex4)\n",
    "print ()\n",
    "matriz_ex4_invertida = matriz_ex4[::-1, ::-1]\n",
    "print(matriz_ex4_invertida)"
   ]
  },
  {
   "cell_type": "markdown",
   "metadata": {},
   "source": [
    "## Ejercicio 5\n",
    "\n",
    "Obtén el siguiente array, partiendo de la matriz del ejercicio 4\n",
    "```Python\n",
    "array([[1, 2],\n",
    "       [6, 7]])\n",
    "```"
   ]
  },
  {
   "cell_type": "code",
   "execution_count": 56,
   "metadata": {},
   "outputs": [
    {
     "name": "stdout",
     "output_type": "stream",
     "text": [
      "[[1 2]\n",
      " [6 7]]\n"
     ]
    }
   ],
   "source": [
    "print(matriz_ex4[0:2,0:2])"
   ]
  },
  {
   "cell_type": "markdown",
   "metadata": {},
   "source": [
    "## Ejercicio 6\n",
    "Obtén el siguiente array, partiendo de la matriz del ejercicio 4\n",
    "```Python\n",
    "array([[ 1,  3,  5],\n",
    "       [11, 13, 15]])\n",
    "```"
   ]
  },
  {
   "cell_type": "code",
   "execution_count": 73,
   "metadata": {},
   "outputs": [
    {
     "name": "stdout",
     "output_type": "stream",
     "text": [
      "[[ 1  2  3  4  5]\n",
      " [ 6  7  8  9 10]\n",
      " [11 12 13 14 15]\n",
      " [16 17 18 19 20]]\n",
      "\n",
      "[[ 1  3  5]\n",
      " [11 13 15]]\n"
     ]
    }
   ],
   "source": [
    "matriz_ex4\n",
    "print(matriz_ex4)\n",
    "print()\n",
    "print(matriz_ex4[0::2,0::2])"
   ]
  },
  {
   "cell_type": "markdown",
   "metadata": {},
   "source": [
    "## Ejercicio 7\n",
    "Obtén el siguiente array, partiendo de la matriz del ejercicio 4\n",
    "```Python\n",
    "array([[ 5,  4,  3,  2,  1],\n",
    "       [10,  9,  8,  7,  6],\n",
    "       [15, 14, 13, 12, 11]])\n",
    "```"
   ]
  },
  {
   "cell_type": "code",
   "execution_count": 85,
   "metadata": {},
   "outputs": [
    {
     "name": "stdout",
     "output_type": "stream",
     "text": [
      "[[ 1  2  3  4  5]\n",
      " [ 6  7  8  9 10]\n",
      " [11 12 13 14 15]\n",
      " [16 17 18 19 20]]\n",
      "\n",
      "[[ 5  4  3  2  1]\n",
      " [10  9  8  7  6]\n",
      " [15 14 13 12 11]]\n"
     ]
    }
   ],
   "source": [
    "matriz_ex4\n",
    "print(matriz_ex4)\n",
    "print()\n",
    "print(matriz_ex4[0:3:1,::-1])"
   ]
  },
  {
   "cell_type": "markdown",
   "metadata": {},
   "source": [
    "## Ejercicio 8\n",
    "Dado el siguiente array:\n",
    "\n",
    "```Python\n",
    "x = np.array([\"Loro\", \"Perro\", \"Gato\", \"Loro\", \"Perro\"])\n",
    "```\n",
    "\n",
    "Filtra el array para quedarte únicamente con los loros.\n",
    "\n",
    "Resuélvelo de dos maneras diferentes"
   ]
  },
  {
   "cell_type": "code",
   "execution_count": 100,
   "metadata": {},
   "outputs": [],
   "source": [
    "x = np.array([\"Loro\", \"Perro\", \"Gato\", \"Loro\", \"Perro\"])"
   ]
  },
  {
   "cell_type": "code",
   "execution_count": 87,
   "metadata": {},
   "outputs": [
    {
     "name": "stdout",
     "output_type": "stream",
     "text": [
      "['Loro' 'Loro']\n"
     ]
    }
   ],
   "source": [
    "print(x[0::3])"
   ]
  },
  {
   "cell_type": "code",
   "execution_count": 109,
   "metadata": {},
   "outputs": [
    {
     "name": "stdout",
     "output_type": "stream",
     "text": [
      "['Loro' 'Perro' 'Gato' 'Loro' 'Perro']\n",
      "['Loro' 'Loro']\n"
     ]
    }
   ],
   "source": [
    "loros = np.where(x == \"Loro\", x, '0')\n",
    "loros = loros[loros != '0']  # Eliminar los valores \"0\"\n",
    "print (x)\n",
    "print(loros)"
   ]
  },
  {
   "cell_type": "markdown",
   "metadata": {},
   "source": [
    "## Ejercicio 9\n",
    "Crea una secuencia de 20 elementos y transfórmala en un array compuesto por 2 matrices de 5x2"
   ]
  },
  {
   "cell_type": "code",
   "execution_count": 127,
   "metadata": {},
   "outputs": [
    {
     "name": "stdout",
     "output_type": "stream",
     "text": [
      "[ 0  1  2  3  4  5  6  7  8  9 10 11 12 13 14 15 16 17 18 19]\n",
      "\n",
      "[[ 0  1]\n",
      " [ 2  3]\n",
      " [ 4  5]\n",
      " [ 6  7]\n",
      " [ 8  9]\n",
      " [10 11]\n",
      " [12 13]\n",
      " [14 15]\n",
      " [16 17]\n",
      " [18 19]]\n",
      "\n",
      "[array([[0, 1],\n",
      "       [2, 3],\n",
      "       [4, 5],\n",
      "       [6, 7],\n",
      "       [8, 9]]), array([], shape=(0, 2), dtype=int64), array([[ 4,  5],\n",
      "       [ 6,  7],\n",
      "       [ 8,  9],\n",
      "       [10, 11],\n",
      "       [12, 13],\n",
      "       [14, 15],\n",
      "       [16, 17],\n",
      "       [18, 19]])]\n"
     ]
    }
   ],
   "source": [
    "sec_ex_9 = np.arange(20)\n",
    "print(sec_ex_9)\n",
    "print()\n",
    "sec_ex_9_v1 = sec_ex_9.reshape(10,2)\n",
    "print(sec_ex_9_v1)\n",
    "print()\n",
    "sec_ex_9_v2 = np.split(sec_ex_9_v1, [5,2])\n",
    "print(sec_ex_9_v2)\n"
   ]
  },
  {
   "cell_type": "code",
   "execution_count": 126,
   "metadata": {},
   "outputs": [
    {
     "name": "stdout",
     "output_type": "stream",
     "text": [
      "[[[ 1  2]\n",
      "  [ 3  4]\n",
      "  [ 5  6]\n",
      "  [ 7  8]\n",
      "  [ 9 10]]\n",
      "\n",
      " [[11 12]\n",
      "  [13 14]\n",
      "  [15 16]\n",
      "  [17 18]\n",
      "  [19 20]]]\n"
     ]
    }
   ],
   "source": [
    "# Crear una secuencia de 20 elementos\n",
    "secuencia = np.arange(1, 21)\n",
    "\n",
    "# Transformar en un array compuesto por 2 matrices de 5x2\n",
    "resultado = secuencia.reshape(2, 5, 2)\n",
    "\n",
    "print(resultado)"
   ]
  },
  {
   "cell_type": "markdown",
   "metadata": {},
   "source": [
    "## Ejercicio 10\n",
    "\n",
    "Crea un array de 10 0s. ¿Cuánto ocupa en memoria?\n",
    "\n",
    "Sustituye el 4to elemento por 1, e imprime el array por pantalla"
   ]
  },
  {
   "cell_type": "code",
   "execution_count": 139,
   "metadata": {},
   "outputs": [
    {
     "name": "stdout",
     "output_type": "stream",
     "text": [
      "bits de array en memoria: 10\n",
      "[0, 0, 0, 1, 0, 0, 0, 0, 0, 0]\n"
     ]
    }
   ],
   "source": [
    "# Crear un array de 10 ceros\n",
    "array = [0] * 10\n",
    "\n",
    "np.size(array)\n",
    "print(f'bits de array en memoria: {np.size(array)}')\n",
    "\n",
    "array[3] = 1\n",
    "\n",
    "print(array)\n",
    "\n"
   ]
  },
  {
   "cell_type": "markdown",
   "metadata": {},
   "source": [
    "## Ejercicio 11\n",
    "\n",
    "Crea un vector que vaya del 10 al 49\n",
    "\n",
    "Inviértelo"
   ]
  },
  {
   "cell_type": "code",
   "execution_count": 142,
   "metadata": {},
   "outputs": [
    {
     "name": "stdout",
     "output_type": "stream",
     "text": [
      "[10 11 12 13 14 15 16 17 18 19 20 21 22 23 24 25 26 27 28 29 30 31 32 33\n",
      " 34 35 36 37 38 39 40 41 42 43 44 45 46 47 48 49]\n",
      "\n",
      "[49 48 47 46 45 44 43 42 41 40 39 38 37 36 35 34 33 32 31 30 29 28 27 26\n",
      " 25 24 23 22 21 20 19 18 17 16 15 14 13 12 11 10]\n"
     ]
    }
   ],
   "source": [
    "vector = np.arange(10, 50)\n",
    "print(vector)\n",
    "print()\n",
    "vector_invertido = vector[::-1]\n",
    "print(vector_invertido)\n",
    "\n"
   ]
  },
  {
   "cell_type": "markdown",
   "metadata": {},
   "source": [
    "## Ejercicio 12\n",
    "Encuentra los índices de los valores que no sean 0 del siguiente vector [1,2,0,0,4,0]. El output sería [0, 1, 4]. [Encuentra el método apropiado en la documentación.](https://numpy.org/doc/) Encapsúlalo en una función, con un argumento de entrada de un vector."
   ]
  },
  {
   "cell_type": "code",
   "execution_count": 143,
   "metadata": {},
   "outputs": [],
   "source": [
    "vector_ex_12 = [1,2,0,0,4,0]"
   ]
  },
  {
   "cell_type": "code",
   "execution_count": 144,
   "metadata": {},
   "outputs": [
    {
     "data": {
      "text/plain": [
       "array([0, 1, 4])"
      ]
     },
     "execution_count": 144,
     "metadata": {},
     "output_type": "execute_result"
    }
   ],
   "source": [
    "np.nonzero(vector_ex_12)[0]"
   ]
  },
  {
   "attachments": {},
   "cell_type": "markdown",
   "metadata": {},
   "source": [
    "## Ejercicio 13\n",
    "Crea una matriz de números aleatorios 10x10. Encuentra los valores mínimo y máximo."
   ]
  },
  {
   "cell_type": "code",
   "execution_count": 147,
   "metadata": {},
   "outputs": [
    {
     "name": "stdout",
     "output_type": "stream",
     "text": [
      "[[0.50403256 0.51081648 0.68416328 0.13787709 0.22862893 0.3335318\n",
      "  0.8073474  0.50285147 0.23911197 0.84000804]\n",
      " [0.70842901 0.88148764 0.91276811 0.61487762 0.78955045 0.3234682\n",
      "  0.90399292 0.52030847 0.48535675 0.22347646]\n",
      " [0.93522229 0.72371862 0.315745   0.22886151 0.3307889  0.76958023\n",
      "  0.80824955 0.87254448 0.66981083 0.448569  ]\n",
      " [0.85502293 0.9947288  0.74285268 0.58483578 0.04717349 0.78810094\n",
      "  0.25806989 0.16839566 0.84836545 0.21882144]\n",
      " [0.23685165 0.74866044 0.25395847 0.25071114 0.21761029 0.29752909\n",
      "  0.67849045 0.10229241 0.77493922 0.4018154 ]\n",
      " [0.12725629 0.32937749 0.41135201 0.05849195 0.99131915 0.41288973\n",
      "  0.92140743 0.68580277 0.53433591 0.50263811]\n",
      " [0.68037211 0.90007316 0.39257291 0.78456338 0.24746592 0.31019971\n",
      "  0.07031501 0.21593937 0.60930595 0.30579714]\n",
      " [0.64435584 0.70008484 0.72245382 0.69258807 0.24464673 0.9556266\n",
      "  0.79711149 0.89945368 0.64054906 0.66201347]\n",
      " [0.77574924 0.75320166 0.21244793 0.85514617 0.88648197 0.55441271\n",
      "  0.34344323 0.78591028 0.21307518 0.53637455]\n",
      " [0.62491719 0.97475332 0.05520985 0.83171866 0.09602196 0.1629007\n",
      "  0.89762091 0.17185136 0.3066597  0.92876163]]\n",
      "0.04717348970021917\n",
      "0.9947287977448852\n"
     ]
    }
   ],
   "source": [
    "matriz_ex_13 = np.random.random((10, 10))\n",
    "\n",
    "valor_min = np.min(matriz_ex_13)\n",
    "valor_max = np.max(matriz_ex_13)\n",
    "\n",
    "print(matriz_ex_13)\n",
    "print(valor_min)\n",
    "print(valor_max)"
   ]
  },
  {
   "cell_type": "markdown",
   "metadata": {},
   "source": [
    "## Ejercicio 14\n",
    "Crea un vector aleatorio de tamaño 30 y calcula su media"
   ]
  },
  {
   "cell_type": "code",
   "execution_count": 154,
   "metadata": {},
   "outputs": [
    {
     "name": "stdout",
     "output_type": "stream",
     "text": [
      "[0.85780674 0.2910023  0.65424775 0.75473099 0.02025356 0.65128593\n",
      " 0.8953517  0.84668162 0.82874888 0.95528174 0.21846178 0.72758061\n",
      " 0.61534553 0.63644687 0.30929664 0.8469565  0.08930968 0.12459973\n",
      " 0.69910011 0.6367245  0.4277596  0.83139914 0.70446603 0.23307699\n",
      " 0.15561397 0.60052268 0.67242091 0.00463068 0.21982297 0.73402541]\n",
      "\n",
      "0.5414317183371185\n"
     ]
    }
   ],
   "source": [
    "vector_ex_14 = np.random.random(30)\n",
    "media = np.mean(vector_ex_14)\n",
    "\n",
    "print(vector_ex_14)\n",
    "print()\n",
    "print(media)\n"
   ]
  },
  {
   "cell_type": "markdown",
   "metadata": {},
   "source": [
    "## Ejercicio 15\n",
    "Crea un array cuadrado de 2D, con las dimensiones que quieras, pero que todo el borde esté compuesto por 1s, y el interior por 0s"
   ]
  },
  {
   "cell_type": "code",
   "execution_count": 160,
   "metadata": {},
   "outputs": [
    {
     "name": "stdout",
     "output_type": "stream",
     "text": [
      "Matriz con borde de 1s:\n",
      " [[1 1 1 1]\n",
      " [1 0 0 1]\n",
      " [1 0 0 1]\n",
      " [1 1 1 1]]\n"
     ]
    }
   ],
   "source": [
    "\n",
    "def crear_matriz_con_borde(dimension):\n",
    "    # Crear una matriz de ceros de tamaño 'dimension x dimension'\n",
    "    matriz = np.zeros((dimension, dimension), dtype=int)\n",
    "    \n",
    "    # Establecer el borde de la matriz con unos\n",
    "    matriz[0, :] = 1  # Fila superior\n",
    "    matriz[-1, :] = 1  # Fila inferior\n",
    "    matriz[:, 0] = 1  # Columna izquierda\n",
    "    matriz[:, -1] = 1  # Columna derecha\n",
    "    \n",
    "    return matriz\n",
    "\n",
    "# Ejemplo de uso con una matriz de 6x6\n",
    "dimension = 4\n",
    "matriz_borde = crear_matriz_con_borde(dimension)\n",
    "\n",
    "print(\"Matriz con borde de 1s:\\n\", matriz_borde)"
   ]
  },
  {
   "cell_type": "markdown",
   "metadata": {},
   "source": [
    "## Ejercicio 16\n",
    "Crea una matriz de 8x8, y rellénala con 0s y 1s. Tienes que replicar:\n",
    "```Python\n",
    "[[0 1 0 1 0 1 0 1]\n",
    " [1 0 1 0 1 0 1 0]\n",
    " [0 1 0 1 0 1 0 1]\n",
    " [1 0 1 0 1 0 1 0]\n",
    " [0 1 0 1 0 1 0 1]\n",
    " [1 0 1 0 1 0 1 0]\n",
    " [0 1 0 1 0 1 0 1]\n",
    " [1 0 1 0 1 0 1 0]]\n",
    "```"
   ]
  },
  {
   "cell_type": "code",
   "execution_count": 161,
   "metadata": {},
   "outputs": [
    {
     "name": "stdout",
     "output_type": "stream",
     "text": [
      "[[0 1 0 1 0 1 0 1]\n",
      " [1 0 1 0 1 0 1 0]\n",
      " [0 1 0 1 0 1 0 1]\n",
      " [1 0 1 0 1 0 1 0]\n",
      " [0 1 0 1 0 1 0 1]\n",
      " [1 0 1 0 1 0 1 0]\n",
      " [0 1 0 1 0 1 0 1]\n",
      " [1 0 1 0 1 0 1 0]]\n"
     ]
    }
   ],
   "source": [
    "# Crear una matriz de 8x8 de ceros\n",
    "matriz = np.zeros((8, 8), dtype=int)\n",
    "\n",
    "# Rellenar la matriz alternando 0s y 1s\n",
    "matriz[1::2, ::2] = 1  # Rellenar filas impares con 1s en columnas pares\n",
    "matriz[::2, 1::2] = 1  # Rellenar filas pares con 1s en columnas impares\n",
    "\n",
    "print(matriz)\n"
   ]
  },
  {
   "cell_type": "code",
   "execution_count": null,
   "metadata": {},
   "outputs": [],
   "source": []
  },
  {
   "cell_type": "markdown",
   "metadata": {},
   "source": [
    "## Ejercicio 17\n",
    "Replica la matriz del apartado anterior, pero en este caso usando [la función `tile`](https://numpy.org/doc/stable/reference/generated/numpy.tile.html)"
   ]
  },
  {
   "cell_type": "code",
   "execution_count": 162,
   "metadata": {},
   "outputs": [
    {
     "name": "stdout",
     "output_type": "stream",
     "text": [
      "[[0 1 0 1 0 1 0 1]\n",
      " [1 0 1 0 1 0 1 0]\n",
      " [0 1 0 1 0 1 0 1]\n",
      " [1 0 1 0 1 0 1 0]\n",
      " [0 1 0 1 0 1 0 1]\n",
      " [1 0 1 0 1 0 1 0]\n",
      " [0 1 0 1 0 1 0 1]\n",
      " [1 0 1 0 1 0 1 0]]\n"
     ]
    }
   ],
   "source": [
    "# Crear un patrón básico 2x2\n",
    "patron = np.array([[0, 1], [1, 0]])\n",
    "\n",
    "# Replicar el patrón usando np.tile para crear una matriz de 8x8\n",
    "matriz = np.tile(patron, (4, 4))\n",
    "\n",
    "print(matriz)"
   ]
  },
  {
   "cell_type": "code",
   "execution_count": null,
   "metadata": {},
   "outputs": [],
   "source": []
  },
  {
   "cell_type": "markdown",
   "metadata": {},
   "source": [
    "## Ejercicio 18\n",
    "Crea una matriz aleatoria de 5x5 y normaliza sus valores. Para normalizar tienes que restar sus valores por la media(`np.mean`) y dividir el resultado por la desviación estándar(`np.std`)."
   ]
  },
  {
   "cell_type": "code",
   "execution_count": 163,
   "metadata": {},
   "outputs": [
    {
     "name": "stdout",
     "output_type": "stream",
     "text": [
      "Matriz original:\n",
      " [[0.35471898 0.47235097 0.26472769 0.4099562  0.92826344]\n",
      " [0.38953622 0.48076384 0.24626318 0.23978575 0.20472144]\n",
      " [0.06644769 0.45807267 0.16452995 0.15550291 0.04913043]\n",
      " [0.79117443 0.23989551 0.06029717 0.12778035 0.90352081]\n",
      " [0.79745676 0.02389471 0.3572094  0.96382039 0.10381007]]\n",
      "\n",
      "Matriz normalizada:\n",
      " [[-0.05376524  0.35621816 -0.36741233  0.13875336  1.9452123 ]\n",
      " [ 0.0675835   0.3855396  -0.43176678 -0.45434261 -0.57655242]\n",
      " [-1.05847865  0.30645395 -0.71663204 -0.74809403 -1.11883458]\n",
      " [ 1.46741522 -0.45396006 -1.0799151  -0.84471562  1.85897668]\n",
      " [ 1.48931107 -1.20678878 -0.04508534  2.06913911 -0.92825936]]\n"
     ]
    }
   ],
   "source": [
    "# Crear una matriz aleatoria de 5x5\n",
    "matriz = np.random.random((5, 5))\n",
    "\n",
    "# Calcular la media y desviación estándar de la matriz\n",
    "media = np.mean(matriz)\n",
    "desviacion_estandar = np.std(matriz)\n",
    "\n",
    "# Normalizar la matriz\n",
    "matriz_normalizada = (matriz - media) / desviacion_estandar\n",
    "\n",
    "print(\"Matriz original:\\n\", matriz)\n",
    "print(\"\\nMatriz normalizada:\\n\", matriz_normalizada)"
   ]
  },
  {
   "cell_type": "markdown",
   "metadata": {},
   "source": [
    "## Ejercicio 19\n",
    "1. Crea una secuencia de números que vayan del 0 al 10.\n",
    "2. Crea un nuevo array, que parta del anterior, pero sustituya por el valor -1, todos los elementos cuyo valor se encuentre entre el 3 y el 8.\n",
    "3. Crea un nuevo array que niegue todos los elementos entre el 3 y el 8"
   ]
  },
  {
   "cell_type": "code",
   "execution_count": 164,
   "metadata": {},
   "outputs": [
    {
     "name": "stdout",
     "output_type": "stream",
     "text": [
      "Secuencia original:\n",
      " [ 0  1  2  3  4  5  6  7  8  9 10]\n"
     ]
    }
   ],
   "source": [
    "# Crear una secuencia de números del 0 al 10\n",
    "secuencia = np.arange(11)\n",
    "print(\"Secuencia original:\\n\", secuencia)"
   ]
  },
  {
   "cell_type": "code",
   "execution_count": 165,
   "metadata": {},
   "outputs": [
    {
     "name": "stdout",
     "output_type": "stream",
     "text": [
      "\n",
      "Array modificado (valores entre 3 y 8 cambiados a -1):\n",
      " [ 0  1  2 -1 -1 -1 -1 -1 -1  9 10]\n"
     ]
    }
   ],
   "source": [
    "# Crear una copia de la secuencia original\n",
    "array_modificado = secuencia.copy()\n",
    "\n",
    "# Sustituir por -1 los valores entre 3 y 8\n",
    "array_modificado[(array_modificado >= 3) & (array_modificado <= 8)] = -1\n",
    "print(\"\\nArray modificado (valores entre 3 y 8 cambiados a -1):\\n\", array_modificado)"
   ]
  },
  {
   "cell_type": "code",
   "execution_count": 166,
   "metadata": {},
   "outputs": [
    {
     "name": "stdout",
     "output_type": "stream",
     "text": [
      "\n",
      "Array con valores negados entre 3 y 8:\n",
      " [ 0  1  2 -3 -4 -5 -6 -7 -8  9 10]\n"
     ]
    }
   ],
   "source": [
    "# Crear una copia de la secuencia original para negación\n",
    "array_negado = secuencia.copy()\n",
    "\n",
    "# Negar los valores entre 3 y 8 (sólo si son enteros, con multiplicación por -1)\n",
    "array_negado[(array_negado >= 3) & (array_negado <= 8)] *= -1\n",
    "print(\"\\nArray con valores negados entre 3 y 8:\\n\", array_negado)"
   ]
  }
 ],
 "metadata": {
  "kernelspec": {
   "display_name": "Python 3",
   "language": "python",
   "name": "python3"
  },
  "language_info": {
   "codemirror_mode": {
    "name": "ipython",
    "version": 3
   },
   "file_extension": ".py",
   "mimetype": "text/x-python",
   "name": "python",
   "nbconvert_exporter": "python",
   "pygments_lexer": "ipython3",
   "version": "3.9.6"
  }
 },
 "nbformat": 4,
 "nbformat_minor": 4
}
