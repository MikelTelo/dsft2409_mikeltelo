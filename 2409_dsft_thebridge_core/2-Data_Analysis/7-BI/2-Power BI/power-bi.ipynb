{
 "cells": [
  {
   "cell_type": "markdown",
   "metadata": {},
   "source": [
    "## Power BI con Python"
   ]
  },
  {
   "cell_type": "markdown",
   "metadata": {},
   "source": [
    "Power BI es una herramienta de visualización y análisis de datos desarrollada por Microsoft. Se ha convertido en una de las principales soluciones de *Business Intelligence* (BI) disponibles en el mercado. Su principal objetivo es ayudar a las organizaciones a transformar datos en información **significativa** y visualmente **atractiva** para la toma de decisiones informadas."
   ]
  },
  {
   "cell_type": "markdown",
   "metadata": {},
   "source": [
    "El impacto de Power BI en el análisis de datos es significativo por varias razones:\n",
    "\n",
    "· Facilidad de uso: Power BI está diseñado para ser amigable para usuarios no técnicos, lo que permite a profesionales de diferentes áreas crear visualizaciones y paneles interactivos sin necesidad de conocimientos avanzados en programación.\n",
    "\n",
    "· Conexión a diversas fuentes de datos: Power BI puede conectarse a una amplia variedad de fuentes de datos, incluidas bases de datos, servicios en la nube, hojas de cálculo y más. Esto permite a los analistas acceder a datos desde múltiples fuentes y consolidarlos en un solo lugar.\n",
    "\n",
    "· Visualizaciones atractivas: La herramienta ofrece una amplia gama de gráficos y visualizaciones personalizables que permiten a los usuarios presentar datos de manera efectiva. Estas visualizaciones son útiles para identificar patrones, tendencias y relaciones en los datos.\n",
    "\n",
    "· Capacidad de modelado de datos: Power BI incluye una función de modelado que permite a los usuarios transformar y dar forma a los datos según sus necesidades. Esto es esencial para garantizar que los datos sean relevantes y estén bien organizados.\n",
    "\n",
    "· Colaboración y compartición: Power BI permite a los usuarios colaborar en tiempo real y compartir paneles e informes con colegas y partes interesadas, lo que facilita la toma de decisiones en equipo."
   ]
  },
  {
   "cell_type": "markdown",
   "metadata": {},
   "source": [
    "Ahora que tenéis algo de más idea, manos a la obra!"
   ]
  },
  {
   "cell_type": "markdown",
   "metadata": {},
   "source": [
    "En primer lugar nos aseguramos de que en la configuración de Power BI tengamos acceso a los scripts de Python:\n",
    "\n",
    "        Archivo > Opciones y configuración > Opciones > Creación de Scripts de Python \n",
    "\n",
    "En los Directorios raíz de Python tenéis que ver el directorio de la versión de Python que utilizáis habitualmente\n",
    "\n",
    "        -- C:\\Users\\Usuario\\AppData\\Local\\Programs\\Python\\Python311 -- "
   ]
  },
  {
   "cell_type": "markdown",
   "metadata": {},
   "source": [
    "Una vez tenemos configurada la versión, escogemos Obtener Datos en la barra de opciones superior y buscamos *\"Python\"*. Se nos abrirá una ventana emergente con espacio en blanco para teclear lo que queramos como si de un script se tratase. \n",
    "Lo habitual será importar pandas y a continuación leer un df, aunque también podemos hacer algo de limpieza básica drop, rename, etc. Copiando el script de Python tal cual, POWER BI reconocerá las acciones y creará el df que podremos visualizar en la herramienta."
   ]
  },
  {
   "cell_type": "markdown",
   "metadata": {},
   "source": [
    "## 1. Importamos los Datos"
   ]
  },
  {
   "cell_type": "markdown",
   "metadata": {},
   "source": [
    "O bien mediante Python o bien mediante tablas ya descargadas en cualquier formato. Podremos visualizarlas en el apartado *Vista de Tabla* (barra lateral izquierda)"
   ]
  },
  {
   "cell_type": "markdown",
   "metadata": {},
   "source": [
    "## 2. Comprobamos las relaciones"
   ]
  },
  {
   "cell_type": "markdown",
   "metadata": {},
   "source": [
    "POWER BI crea relaciones de forma automática cuando identifica columnas con el mismo nombre entre tablas y además asigna una cardinalidad. Nosotros podremos comprobar que son correctas o modificarlas si hiciera falta (siempre que tengamos la opción activada, viene por defecto). Las relaciones se pueden analizar en el tercer icono de la barra lateral izquierda: *Vista de modelo*"
   ]
  },
  {
   "cell_type": "markdown",
   "metadata": {},
   "source": [
    "## 3. Comenzamos con las visualizaciones"
   ]
  },
  {
   "cell_type": "markdown",
   "metadata": {},
   "source": [
    "En la barra lateral izquierda, *Vista de Informe* comenzamos con las visualizaciones. Para ello tendremos que tener nuestro dato ya limpio previamente en pandas, como hemos aprendido hasta ahora. No obstante, Power Bi ofrece funcionalidades rápidas para cambiar tipos de datos, cambiar varias ocurrencias de una vez o eliminar columnas entre otras. "
   ]
  },
  {
   "cell_type": "markdown",
   "metadata": {},
   "source": [
    "Iremos escogiendo la visualización preferida y asignaremos al eje X el valor a contar y al eje Y el valor de conteo. Normalmente el valor asignado al eje X será un valor que se repita, y en el eje Y uno que sea único para realizar ese conteo."
   ]
  },
  {
   "cell_type": "markdown",
   "metadata": {},
   "source": [
    "En el primer ejercicio crearemos 5 visualizaciones y 4 accesos directo de filtro (segmentación)"
   ]
  },
  {
   "cell_type": "markdown",
   "metadata": {},
   "source": [
    "    1 - Tipos de Cliente\n",
    "\n",
    "    2 - Año de Alta\n",
    "\n",
    "    3 - Clientes por Edad\n",
    "\n",
    "    4 - Clientes por Ciudad\n",
    "\n",
    "    5 - Tabla"
   ]
  },
  {
   "cell_type": "markdown",
   "metadata": {},
   "source": [
    "En los filtros pondremos: **fecha de alta**, **ciudad**, **grupo de clientes**, **edad**"
   ]
  },
  {
   "cell_type": "markdown",
   "metadata": {},
   "source": [
    "Para esta práctica sólo teníamos una única tabla, pero habitualmente en las empresas nos vamos a encontrar con el dato dividido y tendremos que crear esas relaciones que mencionábamos como veíamos también en SQL. Vamos a ver lo básico de las relaciones y lo que llaman *cardinalidad*."
   ]
  },
  {
   "cell_type": "markdown",
   "metadata": {},
   "source": [
    "La cardinalidad es básicamente la cantidad de veces en que nuestras entidades se relacionan entre sí. En el siguiente ejemplo, entendemos que un camionero puede llevar muchos paquetes, pero cada paquete se le asignara a un solo camionero.\n",
    " \n",
    "\n",
    "\n",
    "![cardinalidad](./img/cardinalidad.png)"
   ]
  },
  {
   "cell_type": "markdown",
   "metadata": {},
   "source": [
    "## Tipos de Cardinalidad: "
   ]
  },
  {
   "cell_type": "markdown",
   "metadata": {},
   "source": [
    "### 1 - Uno a muchos"
   ]
  },
  {
   "cell_type": "markdown",
   "metadata": {},
   "source": [
    "### 2 - Muchos a muchos"
   ]
  },
  {
   "cell_type": "markdown",
   "metadata": {},
   "source": [
    "### 3 - Uno a uno"
   ]
  },
  {
   "cell_type": "markdown",
   "metadata": {},
   "source": [
    "![tipos](./img/tipos.png)"
   ]
  },
  {
   "cell_type": "markdown",
   "metadata": {},
   "source": [
    "Este último se da en casos muy puntuales y no es tan común, los más comunes son los dos anteriores. Ahora veremos los símbolos que se emplean para identificarlos habitualmente: "
   ]
  },
  {
   "cell_type": "markdown",
   "metadata": {},
   "source": [
    "![simbolos](./img/simbolos.png)"
   ]
  },
  {
   "cell_type": "markdown",
   "metadata": {},
   "source": [
    "Otras opciones a tener en cuenta:\n",
    "\n",
    "        Dirección de filtro cruzado - **ÚNICA** será lo habitual, es lo más deseado. La dirección del filtro siempre se propaga en una sola dirección de la relación\n",
    "\n",
    "        Activar esta relación - es crucial para cuando hay más de una relación entre tablas. Power BI sólo dejará una activa a no ser que lo especifiquemos\n"
   ]
  },
  {
   "cell_type": "markdown",
   "metadata": {},
   "source": []
  }
 ],
 "metadata": {
  "language_info": {
   "name": "python"
  }
 },
 "nbformat": 4,
 "nbformat_minor": 2
}
