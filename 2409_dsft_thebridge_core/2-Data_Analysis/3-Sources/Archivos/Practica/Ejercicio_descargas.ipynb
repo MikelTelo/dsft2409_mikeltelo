{
 "cells": [
  {
   "attachments": {},
   "cell_type": "markdown",
   "metadata": {},
   "source": [
    "## Ejercicio descargas"
   ]
  },
  {
   "attachments": {},
   "cell_type": "markdown",
   "metadata": {},
   "source": [
    "Python es un lenguaje de propósito general, por lo que podemos desarrollar otros programas,\n",
    "aparte de ciencia de datos, que nos permitan montar dashboards, crear APIs o automatizar\n",
    "procesos. En este caso vas a automatizar un proceso, en el que tendrás que desarrollar un\n",
    "script que ordene todos los archivos de una carpeta, dependiendo de la extensión de los\n",
    "mismos.\n",
    "\n",
    "\n",
    "El objetivo es ordenar la típica carpeta de cajón desastre donde se nos acumulan archivos de\n",
    "todos los formatos como: imágenes, words, presentaciones, excels, ejecutables, zips, etc... Y\n",
    "que no vamos a ir viendo archivo a archivo, ordenándolos.... La solución suele ser eliminarlo\n",
    "todo. Vamos a intentar no tener que llegar a eso, ordenando los ficheros automáticamente en\n",
    "carpetas y revisar las que nos interesen. La típica carpeta donde aplicaríamos este programa es\n",
    "la de “Descargas”, donde se suelen acumular muchos archivos temporales.\n",
    "\n",
    "\n",
    "Por tanto, **el programa tiene que guardar los archivos de la carpeta “Descargas” (o cualquier\n",
    "otra donde acumules mucho archivo temporal) en los siguientes directorios dentro de la\n",
    "propia carpeta “Descargas”**:\n",
    "- Imagenes\n",
    "- Documentos\n",
    "- Software\n",
    "- Otros\n",
    "\n",
    "Cada vez que ejecutes el script, automáticamente se ordenarán todos los archivos en sus\n",
    "correspondientes carpetas.\n"
   ]
  },
  {
   "cell_type": "code",
   "execution_count": 1,
   "metadata": {},
   "outputs": [],
   "source": [
    "doc_types = ('.doc', '.docx', '.txt', '.pdf', '.xls', '.ppt', '.xlsx', '.pptx')\n",
    "img_types = ('.jpg', '.jpeg', '.png', '.svg', '.gif')\n",
    "software_types = ('.exe', '.py','.ipynb')"
   ]
  },
  {
   "attachments": {},
   "cell_type": "markdown",
   "metadata": {},
   "source": [
    "### 1. Crea un un programa con el flujo principal y encapsúlalo en funciones."
   ]
  },
  {
   "cell_type": "code",
   "execution_count": 2,
   "metadata": {},
   "outputs": [],
   "source": [
    "import os\n",
    "import shutil"
   ]
  },
  {
   "cell_type": "code",
   "execution_count": 13,
   "metadata": {},
   "outputs": [
    {
     "data": {
      "text/plain": [
       "'c:\\\\Users\\\\hegoi\\\\TheBridge\\\\2409_dsft_thebridge_curso\\\\2-Data_Analysis\\\\3-Sources\\\\Archivos\\\\Practica'"
      ]
     },
     "execution_count": 13,
     "metadata": {},
     "output_type": "execute_result"
    }
   ],
   "source": [
    "os.getcwd()"
   ]
  },
  {
   "cell_type": "code",
   "execution_count": 14,
   "metadata": {},
   "outputs": [
    {
     "data": {
      "text/plain": [
       "['carpeta_ejercicio',\n",
       " 'Ejercicio_descargas.ipynb',\n",
       " 'funciones.py',\n",
       " 'main.py',\n",
       " 'main_v1.py',\n",
       " 'utils.py',\n",
       " 'variables.py',\n",
       " '__pycache__']"
      ]
     },
     "execution_count": 14,
     "metadata": {},
     "output_type": "execute_result"
    }
   ],
   "source": [
    "os.listdir()"
   ]
  },
  {
   "cell_type": "code",
   "execution_count": 15,
   "metadata": {},
   "outputs": [
    {
     "data": {
      "text/plain": [
       "'c:\\\\Users\\\\hegoi\\\\TheBridge\\\\2409_dsft_thebridge_curso\\\\2-Data_Analysis\\\\3-Sources\\\\Archivos\\\\Practica\\\\carpeta_ejercicio'"
      ]
     },
     "execution_count": 15,
     "metadata": {},
     "output_type": "execute_result"
    }
   ],
   "source": [
    "ruta = os.path.join(os.getcwd(),  \"carpeta_ejercicio\")\n",
    "ruta"
   ]
  },
  {
   "cell_type": "code",
   "execution_count": 16,
   "metadata": {},
   "outputs": [
    {
     "data": {
      "text/plain": [
       "[]"
      ]
     },
     "execution_count": 16,
     "metadata": {},
     "output_type": "execute_result"
    }
   ],
   "source": [
    "os.listdir(ruta)"
   ]
  },
  {
   "cell_type": "code",
   "execution_count": 17,
   "metadata": {},
   "outputs": [],
   "source": [
    "for archivo in os.listdir(ruta):\n",
    "    print(archivo)"
   ]
  },
  {
   "cell_type": "code",
   "execution_count": 18,
   "metadata": {},
   "outputs": [
    {
     "name": "stdout",
     "output_type": "stream",
     "text": [
      "c:\\Users\\hegoi\\TheBridge\\2409_dsft_thebridge_curso\\2-Data_Analysis\\3-Sources\\Archivos\\Practica\\carpeta_ejercicio\n"
     ]
    }
   ],
   "source": [
    "os.chdir(ruta)\n",
    "print(os.getcwd())"
   ]
  },
  {
   "cell_type": "code",
   "execution_count": 19,
   "metadata": {},
   "outputs": [],
   "source": [
    "# os.mkdir(\"Imagenes\")\n",
    "os.makedirs(\"Documentos\", exist_ok = True)\n",
    "os.makedirs(\"Imagenes\", exist_ok = True)\n",
    "os.makedirs(\"Software\", exist_ok = True)\n",
    "os.makedirs(\"Otros\", exist_ok = True)"
   ]
  },
  {
   "cell_type": "code",
   "execution_count": 21,
   "metadata": {},
   "outputs": [
    {
     "data": {
      "text/plain": [
       "True"
      ]
     },
     "execution_count": 21,
     "metadata": {},
     "output_type": "execute_result"
    }
   ],
   "source": [
    "os.path.isdir(os.path.join(ruta+\"\\\\Software\"))"
   ]
  },
  {
   "cell_type": "code",
   "execution_count": 22,
   "metadata": {},
   "outputs": [
    {
     "name": "stdout",
     "output_type": "stream",
     "text": [
      "es una carpeta\n",
      "es una carpeta\n",
      "es una carpeta\n",
      "es una carpeta\n"
     ]
    }
   ],
   "source": [
    "for archivo in os.listdir(ruta):\n",
    "    # print(archivo)\n",
    "    if os.path.isdir(os.path.join(ruta + f\"\\\\{archivo}\")):\n",
    "        print(\"es una carpeta\")\n",
    "    else:\n",
    "        print(\"es un archivo\")"
   ]
  },
  {
   "cell_type": "code",
   "execution_count": 14,
   "metadata": {},
   "outputs": [],
   "source": [
    "#shutil.move(ruta + \"\\\\Software\" + \"\\\\Lectura_Escritura.ipynb\", ruta)"
   ]
  },
  {
   "cell_type": "code",
   "execution_count": 23,
   "metadata": {},
   "outputs": [
    {
     "name": "stdout",
     "output_type": "stream",
     "text": [
      "Documentos Es una carpeta\n",
      "Imagenes Es una carpeta\n",
      "Otros Es una carpeta\n",
      "Software Es una carpeta\n"
     ]
    }
   ],
   "source": [
    "for archivo in os.listdir(ruta):\n",
    "    if os.path.isdir(os.path.join(ruta + f\"\\\\{archivo}\")):\n",
    "        print(archivo, \"Es una carpeta\")\n",
    "    elif archivo.endswith(doc_types):\n",
    "        print(archivo, \"es un documento\")\n",
    "        shutil.move(ruta + f\"\\\\{archivo}\", ruta + \"\\\\Documentos\")\n",
    "    elif archivo.endswith(img_types):\n",
    "        print(archivo, \"es una imagen\")\n",
    "        shutil.move(ruta + f\"\\\\{archivo}\", ruta + \"\\\\Imagenes\")\n",
    "    elif archivo.endswith(software_types):\n",
    "        print(archivo, \"es un software\")\n",
    "        shutil.move(ruta + f\"\\\\{archivo}\", ruta + \"\\\\Software\")\n",
    "    else:\n",
    "        print(archivo, \"es otro archivo\")\n",
    "        shutil.move(ruta + f\"\\\\{archivo}\", ruta + \"\\\\Otros\")"
   ]
  },
  {
   "cell_type": "code",
   "execution_count": 24,
   "metadata": {},
   "outputs": [],
   "source": [
    "categorias = {\"Imagenes\": ('.jpg', '.jpeg', '.png', '.svg', '.gif'),\n",
    "              \"Documentos\": ('.doc', '.docx', '.txt', '.pdf', '.xls', '.ppt', '.xlsx', '.pptx'),\n",
    "              \"Software\": ('.exe', '.py','.ipynb')}"
   ]
  },
  {
   "cell_type": "code",
   "execution_count": 25,
   "metadata": {},
   "outputs": [],
   "source": [
    "def ordenar_carpeta(carpeta, categorias):\n",
    "    for categoria in categorias:\n",
    "        os.makedirs(categoria, exist_ok = True)\n",
    "    os.makedirs(\"Otros\", exist_ok = True)\n",
    "    \n",
    "    os.chdir(carpeta)\n",
    "    for archivo in os.listdir(carpeta):\n",
    "        if os.path.isdir(os.path.join(ruta + f\"\\\\{archivo}\")):\n",
    "            # print(archivo, \"Es una carpeta\")\n",
    "            pass\n",
    "        elif archivo.endswith(categorias['Documentos']):\n",
    "            # print(archivo, \"es un documento\")\n",
    "            shutil.move(ruta + f\"\\\\{archivo}\", ruta + \"\\\\Documentos\")\n",
    "        elif archivo.endswith(categorias['Imagenes']):\n",
    "            # print(archivo, \"es una imagen\")\n",
    "            shutil.move(ruta + f\"\\\\{archivo}\", ruta + \"\\\\Imagenes\")\n",
    "        elif archivo.endswith(categorias['Software']):\n",
    "            # print(archivo, \"es un software\")\n",
    "            shutil.move(ruta + f\"\\\\{archivo}\", ruta + \"\\\\Software\")\n",
    "        else:\n",
    "            # print(archivo, \"es otro archivo\")\n",
    "            shutil.move(ruta + f\"\\\\{archivo}\", ruta + \"\\\\Otros\")"
   ]
  },
  {
   "cell_type": "code",
   "execution_count": 26,
   "metadata": {},
   "outputs": [
    {
     "data": {
      "text/plain": [
       "'c:\\\\Users\\\\hegoi\\\\TheBridge\\\\2409_dsft_thebridge_core\\\\2-Data_Analysis\\\\3-Sources\\\\Archivos\\\\Practica\\\\carpeta_ejercicio'"
      ]
     },
     "execution_count": 26,
     "metadata": {},
     "output_type": "execute_result"
    }
   ],
   "source": [
    "ruta"
   ]
  },
  {
   "cell_type": "code",
   "execution_count": 26,
   "metadata": {},
   "outputs": [],
   "source": [
    "def crear_carpetas(carpeta, categorias):\n",
    "    for categoria in categorias:\n",
    "        os.makedirs(categoria, exist_ok = True)\n",
    "    os.makedirs(\"Otros\", exist_ok = True)\n",
    "\n",
    "def mover_archivos(carpeta, categorias):\n",
    "    os.chdir(carpeta)\n",
    "    for archivo in os.listdir(carpeta):\n",
    "        if os.path.isdir(os.path.join(ruta + f\"\\\\{archivo}\")):\n",
    "            # print(archivo, \"Es una carpeta\")\n",
    "            pass\n",
    "        elif archivo.endswith(categorias['Documentos']):\n",
    "            # print(archivo, \"es un documento\")\n",
    "            shutil.move(ruta + f\"\\\\{archivo}\", ruta + \"\\\\Documentos\")\n",
    "        elif archivo.endswith(categorias['Imagenes']):\n",
    "            # print(archivo, \"es una imagen\")\n",
    "            shutil.move(ruta + f\"\\\\{archivo}\", ruta + \"\\\\Imagenes\")\n",
    "        elif archivo.endswith(categorias['Software']):\n",
    "            # print(archivo, \"es un software\")\n",
    "            shutil.move(ruta + f\"\\\\{archivo}\", ruta + \"\\\\Software\")\n",
    "        else:\n",
    "            # print(archivo, \"es otro archivo\")\n",
    "            shutil.move(ruta + f\"\\\\{archivo}\", ruta + \"\\\\Otros\")\n",
    "    "
   ]
  },
  {
   "cell_type": "code",
   "execution_count": 27,
   "metadata": {},
   "outputs": [],
   "source": [
    "def ordenar_carpeta(carpeta, categorias):\n",
    "    crear_carpetas(carpeta, categorias)\n",
    "    mover_archivos(carpeta, categorias)"
   ]
  },
  {
   "cell_type": "code",
   "execution_count": 28,
   "metadata": {},
   "outputs": [
    {
     "data": {
      "text/plain": [
       "'c:\\\\Users\\\\hegoi\\\\TheBridge\\\\2409_dsft_thebridge_curso\\\\2-Data_Analysis\\\\3-Sources\\\\Archivos\\\\Practica\\\\carpeta_ejercicio'"
      ]
     },
     "execution_count": 28,
     "metadata": {},
     "output_type": "execute_result"
    }
   ],
   "source": [
    "os.getcwd()"
   ]
  },
  {
   "cell_type": "code",
   "execution_count": 29,
   "metadata": {},
   "outputs": [
    {
     "data": {
      "text/plain": [
       "['202106_movements-json.zip',\n",
       " '4ys7050fnx7d3wb0.exe',\n",
       " '70363.csv',\n",
       " 'ChromeSetup.exe',\n",
       " 'desktop.ini',\n",
       " 'Git-2.46.1-64-bit.exe',\n",
       " 'GitHubDesktopSetup-x64.exe',\n",
       " 'LSBSetup.exe',\n",
       " 'Mark Rothko_Untitled - Yellow, Pink, Yellow on Light Pink_1955.jpg',\n",
       " 'OfficeSetup.exe',\n",
       " 'powershell-7.4.5-1.cm.aarch64.rpm',\n",
       " 'python-3.12.6-amd64 (1).exe',\n",
       " 'python-3.12.6-amd64.exe',\n",
       " 'python-3.9.6-amd64 (1).exe',\n",
       " 'python-3.9.6-amd64.exe',\n",
       " 'TeamViewer_Setup_x64.exe',\n",
       " 'VSCodeUserSetup-x64-1.93.1 (1).exe',\n",
       " 'VSCodeUserSetup-x64-1.93.1 (2).exe',\n",
       " 'VSCodeUserSetup-x64-1.93.1.exe']"
      ]
     },
     "execution_count": 29,
     "metadata": {},
     "output_type": "execute_result"
    }
   ],
   "source": [
    "os.listdir('c:\\\\Users\\\\hegoi\\\\Downloads\\\\')"
   ]
  },
  {
   "cell_type": "code",
   "execution_count": 22,
   "metadata": {},
   "outputs": [],
   "source": [
    "ordenar_carpeta(os.getcwd(), categorias)"
   ]
  },
  {
   "attachments": {},
   "cell_type": "markdown",
   "metadata": {},
   "source": [
    "### 2. Crea un programa standalone (main.py, funciones.py, variables.py) que realice la tarea sin necesidad de Jupyter notebooks."
   ]
  },
  {
   "cell_type": "code",
   "execution_count": null,
   "metadata": {},
   "outputs": [],
   "source": []
  }
 ],
 "metadata": {
  "kernelspec": {
   "display_name": "Python 3",
   "language": "python",
   "name": "python3"
  },
  "language_info": {
   "codemirror_mode": {
    "name": "ipython",
    "version": 3
   },
   "file_extension": ".py",
   "mimetype": "text/x-python",
   "name": "python",
   "nbconvert_exporter": "python",
   "pygments_lexer": "ipython3",
   "version": "3.9.6"
  },
  "orig_nbformat": 4
 },
 "nbformat": 4,
 "nbformat_minor": 2
}
