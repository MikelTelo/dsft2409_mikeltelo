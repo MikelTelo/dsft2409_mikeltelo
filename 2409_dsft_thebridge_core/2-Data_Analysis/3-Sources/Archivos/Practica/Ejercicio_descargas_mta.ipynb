{
 "cells": [
  {
   "attachments": {},
   "cell_type": "markdown",
   "metadata": {},
   "source": [
    "## Ejercicio descargas"
   ]
  },
  {
   "attachments": {},
   "cell_type": "markdown",
   "metadata": {},
   "source": [
    "Python es un lenguaje de propósito general, por lo que podemos desarrollar otros programas,\n",
    "aparte de ciencia de datos, que nos permitan montar dashboards, crear APIs o automatizar\n",
    "procesos. En este caso vas a automatizar un proceso, en el que tendrás que desarrollar un\n",
    "script que ordene todos los archivos de una carpeta, dependiendo de la extensión de los\n",
    "mismos.\n",
    "\n",
    "\n",
    "El objetivo es ordenar la típica carpeta de cajón desastre donde se nos acumulan archivos de\n",
    "todos los formatos como: imágenes, words, presentaciones, excels, ejecutables, zips, etc... Y\n",
    "que no vamos a ir viendo archivo a archivo, ordenándolos.... La solución suele ser eliminarlo\n",
    "todo. Vamos a intentar no tener que llegar a eso, ordenando los ficheros automáticamente en\n",
    "carpetas y revisar las que nos interesen. La típica carpeta donde aplicaríamos este programa es\n",
    "la de “Descargas”, donde se suelen acumular muchos archivos temporales.\n",
    "\n",
    "\n",
    "Por tanto, **el programa tiene que guardar los archivos de la carpeta “Descargas” (o cualquier\n",
    "otra donde acumules mucho archivo temporal) en los siguientes directorios dentro de la\n",
    "propia carpeta “Descargas”**:\n",
    "- Imagenes\n",
    "- Documentos\n",
    "- Software\n",
    "- Otros\n",
    "\n",
    "Cada vez que ejecutes el script, automáticamente se ordenarán todos los archivos en sus\n",
    "correspondientes carpetas.\n"
   ]
  },
  {
   "cell_type": "code",
   "execution_count": 2,
   "metadata": {},
   "outputs": [],
   "source": [
    "doc_types = ('.doc', '.docx', '.txt', '.pdf', '.xls', '.ppt', '.xlsx', '.pptx')\n",
    "img_types = ('.jpg', '.jpeg', '.png', '.svg', '.gif')\n",
    "software_types = ('.exe', '.py','.ipynb')"
   ]
  },
  {
   "attachments": {},
   "cell_type": "markdown",
   "metadata": {},
   "source": [
    "### 1. Crea un un programa con el flujo principal y encapsúlalo en funciones."
   ]
  },
  {
   "cell_type": "code",
   "execution_count": 9,
   "metadata": {},
   "outputs": [
    {
     "name": "stdout",
     "output_type": "stream",
     "text": [
      "Movido: 60144.csv -> Otros\n",
      "Movido: dataset-thumbnail.jpeg -> Imagenes\n",
      "Movido: Intro_git.md -> Otros\n",
      "Movido: laliga.xlsx -> Documentos\n",
      "Movido: Lectura_Escritura.ipynb -> Software\n"
     ]
    }
   ],
   "source": [
    "import os\n",
    "import shutil\n",
    "\n",
    "def ordenar_archivos(ruta_origen):\n",
    "    # Definir las extensiones para cada categoría\n",
    "    extensiones = {\n",
    "        'Imagenes': ['.jpg', '.jpeg', '.png', '.svg', '.gif'],\n",
    "        'Documentos': ['.doc', '.docx', '.txt', '.pdf', '.xls', '.ppt', '.xlsx', '.pptx'],\n",
    "        'Software': ['.exe', '.py','.ipynb'],\n",
    "        'Otros': ['.md']\n",
    "    }\n",
    "\n",
    "    # Crear las carpetas si no existen\n",
    "    for categoria in extensiones.keys():\n",
    "        carpeta = os.path.join(ruta_origen, categoria)\n",
    "        if not os.path.exists(carpeta):\n",
    "            os.makedirs(carpeta)\n",
    "\n",
    "    # Recorrer todos los archivos en la carpeta de origen\n",
    "    for archivo in os.listdir(ruta_origen):\n",
    "        ruta_archivo = os.path.join(ruta_origen, archivo)\n",
    "        \n",
    "        # Ignorar directorios\n",
    "        if os.path.isfile(ruta_archivo):\n",
    "            extension = os.path.splitext(archivo)[1].lower()\n",
    "            \n",
    "            # Determinar la categoría del archivo\n",
    "            categoria_destino = 'Otros'\n",
    "            for categoria, exts in extensiones.items():\n",
    "                if extension in exts:\n",
    "                    categoria_destino = categoria\n",
    "                    break\n",
    "            \n",
    "            # Mover el archivo a la carpeta correspondiente\n",
    "            ruta_destino = os.path.join(ruta_origen, categoria_destino, archivo)\n",
    "            shutil.move(ruta_archivo, ruta_destino)\n",
    "            print(f\"Movido: {archivo} -> {categoria_destino}\")\n",
    "\n",
    "# Ejecutar el script\n",
    "ruta_descargas = os.path.expanduser(\"C:\\\\Users\\\\mikel\\\\OneDrive\\\\Descargas\\\\Actual\\\\TB-DS-BIO-23.09.24\\\\REPOSITORIOS\\\\Mikel\\\\dsft2409_mikeltelo\\\\2409_dsft_thebridge_core\\\\2-Data_Analysis\\\\3-Sources\\\\Archivos\\\\Practica\\\\carpeta_ejercicio\\\\Autocarpeta\")  # Ruta a la carpeta de Descargas\n",
    "ordenar_archivos(ruta_descargas)"
   ]
  },
  {
   "attachments": {},
   "cell_type": "markdown",
   "metadata": {},
   "source": [
    "### 2. Crea un programa standalone (main.py, funciones.py, variables.py) que realice la tarea sin necesidad de Jupyter notebooks."
   ]
  },
  {
   "cell_type": "code",
   "execution_count": null,
   "metadata": {},
   "outputs": [],
   "source": []
  }
 ],
 "metadata": {
  "kernelspec": {
   "display_name": "Python 3",
   "language": "python",
   "name": "python3"
  },
  "language_info": {
   "codemirror_mode": {
    "name": "ipython",
    "version": 3
   },
   "file_extension": ".py",
   "mimetype": "text/x-python",
   "name": "python",
   "nbconvert_exporter": "python",
   "pygments_lexer": "ipython3",
   "version": "3.9.6"
  },
  "orig_nbformat": 4
 },
 "nbformat": 4,
 "nbformat_minor": 2
}
