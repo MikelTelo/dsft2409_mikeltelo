{
 "cells": [
  {
   "cell_type": "code",
   "execution_count": 1,
   "metadata": {},
   "outputs": [
    {
     "name": "stdout",
     "output_type": "stream",
     "text": [
      "Base de datos y tablas creadas exitosamente.\n"
     ]
    }
   ],
   "source": [
    "import sqlite3\n",
    "\n",
    "# Conectar (o crear) la base de datos\n",
    "conexion = sqlite3.connect('proveedores.db')\n",
    "cursor = conexion.cursor()\n",
    "\n",
    "# Crear tabla Proveedores\n",
    "cursor.execute('''\n",
    "CREATE TABLE IF NOT EXISTS Proveedores (\n",
    "    proveedor_id INTEGER PRIMARY KEY,\n",
    "    nombre TEXT NOT NULL,\n",
    "    direccion TEXT,\n",
    "    ciudad TEXT,\n",
    "    provincia TEXT,\n",
    "    codigo_proveedor TEXT UNIQUE NOT NULL\n",
    ")\n",
    "''')\n",
    "\n",
    "# Crear tabla Categorias\n",
    "cursor.execute('''\n",
    "CREATE TABLE IF NOT EXISTS Categorias (\n",
    "    categoria_id INTEGER PRIMARY KEY,\n",
    "    nombre TEXT NOT NULL,\n",
    "    codigo_categoria TEXT UNIQUE NOT NULL\n",
    ")\n",
    "''')\n",
    "\n",
    "# Crear tabla Piezas\n",
    "cursor.execute('''\n",
    "CREATE TABLE IF NOT EXISTS Piezas (\n",
    "    pieza_id INTEGER PRIMARY KEY,\n",
    "    nombre TEXT NOT NULL,\n",
    "    color TEXT,\n",
    "    precio REAL,\n",
    "    categoria_id INTEGER,\n",
    "    FOREIGN KEY (categoria_id) REFERENCES Categorias(categoria_id)\n",
    ")\n",
    "''')\n",
    "\n",
    "# Crear tabla Historial_Suministro\n",
    "cursor.execute('''\n",
    "CREATE TABLE IF NOT EXISTS Historial_Suministro (\n",
    "    historial_id INTEGER PRIMARY KEY,\n",
    "    proveedor_id INTEGER,\n",
    "    pieza_id INTEGER,\n",
    "    fecha DATE NOT NULL,\n",
    "    cantidad INTEGER,\n",
    "    FOREIGN KEY (proveedor_id) REFERENCES Proveedores(proveedor_id),\n",
    "    FOREIGN KEY (pieza_id) REFERENCES Piezas(pieza_id)\n",
    ")\n",
    "''')\n",
    "\n",
    "# Confirmar cambios y cerrar la conexión\n",
    "conexion.commit()\n",
    "conexion.close()\n",
    "\n",
    "print(\"Base de datos y tablas creadas exitosamente.\")\n"
   ]
  }
 ],
 "metadata": {
  "kernelspec": {
   "display_name": "Python 3",
   "language": "python",
   "name": "python3"
  },
  "language_info": {
   "codemirror_mode": {
    "name": "ipython",
    "version": 3
   },
   "file_extension": ".py",
   "mimetype": "text/x-python",
   "name": "python",
   "nbconvert_exporter": "python",
   "pygments_lexer": "ipython3",
   "version": "3.9.6"
  }
 },
 "nbformat": 4,
 "nbformat_minor": 2
}
