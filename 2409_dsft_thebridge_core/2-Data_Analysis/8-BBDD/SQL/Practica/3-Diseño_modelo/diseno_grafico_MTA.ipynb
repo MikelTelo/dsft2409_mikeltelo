{
 "cells": [
  {
   "cell_type": "code",
   "execution_count": 15,
   "metadata": {},
   "outputs": [
    {
     "name": "stdout",
     "output_type": "stream",
     "text": [
      "Defaulting to user installation because normal site-packages is not writeableNote: you may need to restart the kernel to use updated packages.\n",
      "\n",
      "Requirement already satisfied: eralchemy in c:\\users\\mikel\\appdata\\roaming\\python\\python39\\site-packages (1.5.0)\n",
      "Requirement already satisfied: sqlalchemy>=1.4.18 in c:\\users\\mikel\\appdata\\roaming\\python\\python39\\site-packages (from eralchemy) (2.0.36)\n",
      "Requirement already satisfied: typing-extensions>=4.6.0 in c:\\users\\mikel\\appdata\\roaming\\python\\python39\\site-packages (from sqlalchemy>=1.4.18->eralchemy) (4.12.2)\n",
      "Requirement already satisfied: greenlet!=0.4.17 in c:\\users\\mikel\\appdata\\roaming\\python\\python39\\site-packages (from sqlalchemy>=1.4.18->eralchemy) (3.1.1)\n"
     ]
    }
   ],
   "source": [
    "pip install eralchemy\n"
   ]
  },
  {
   "cell_type": "code",
   "execution_count": 16,
   "metadata": {},
   "outputs": [
    {
     "name": "stdout",
     "output_type": "stream",
     "text": [
      "Defaulting to user installation because normal site-packages is not writeableNote: you may need to restart the kernel to use updated packages.\n",
      "\n",
      "Requirement already satisfied: graphviz in c:\\users\\mikel\\appdata\\roaming\\python\\python39\\site-packages (0.20.3)\n"
     ]
    }
   ],
   "source": [
    "pip install graphviz"
   ]
  },
  {
   "cell_type": "code",
   "execution_count": 18,
   "metadata": {},
   "outputs": [
    {
     "ename": "Exception",
     "evalue": "neither graphviz or pygraphviz are available. Install either library!",
     "output_type": "error",
     "traceback": [
      "\u001b[1;31m---------------------------------------------------------------------------\u001b[0m",
      "\u001b[1;31mException\u001b[0m                                 Traceback (most recent call last)",
      "Cell \u001b[1;32mIn[18], line 4\u001b[0m\n\u001b[0;32m      1\u001b[0m \u001b[38;5;28;01mfrom\u001b[39;00m \u001b[38;5;21;01meralchemy\u001b[39;00m \u001b[38;5;28;01mimport\u001b[39;00m render_er\n\u001b[0;32m      3\u001b[0m \u001b[38;5;66;03m# Generate the ERD from an SQLite database\u001b[39;00m\n\u001b[1;32m----> 4\u001b[0m \u001b[43mrender_er\u001b[49m\u001b[43m(\u001b[49m\u001b[38;5;124;43m'\u001b[39;49m\u001b[38;5;124;43msqlite:///proveedores.db\u001b[39;49m\u001b[38;5;124;43m'\u001b[39;49m\u001b[43m,\u001b[49m\u001b[43m \u001b[49m\u001b[38;5;124;43m'\u001b[39;49m\u001b[38;5;124;43merd_diagram.png\u001b[39;49m\u001b[38;5;124;43m'\u001b[39;49m\u001b[43m)\u001b[49m\n",
      "File \u001b[1;32m~\\AppData\\Roaming\\Python\\Python39\\site-packages\\eralchemy\\main.py:398\u001b[0m, in \u001b[0;36mrender_er\u001b[1;34m(input, output, mode, include_tables, include_columns, exclude_tables, exclude_columns, schema, title)\u001b[0m\n\u001b[0;32m    389\u001b[0m     tables, relationships \u001b[38;5;241m=\u001b[39m filter_resources(\n\u001b[0;32m    390\u001b[0m         tables,\n\u001b[0;32m    391\u001b[0m         relationships,\n\u001b[1;32m   (...)\u001b[0m\n\u001b[0;32m    395\u001b[0m         exclude_columns\u001b[38;5;241m=\u001b[39mexclude_columns,\n\u001b[0;32m    396\u001b[0m     )\n\u001b[0;32m    397\u001b[0m     intermediary_to_output \u001b[38;5;241m=\u001b[39m get_output_mode(output, mode)\n\u001b[1;32m--> 398\u001b[0m     \u001b[38;5;28;01mreturn\u001b[39;00m \u001b[43mintermediary_to_output\u001b[49m\u001b[43m(\u001b[49m\u001b[43mtables\u001b[49m\u001b[43m,\u001b[49m\u001b[43m \u001b[49m\u001b[43mrelationships\u001b[49m\u001b[43m,\u001b[49m\u001b[43m \u001b[49m\u001b[43moutput\u001b[49m\u001b[43m,\u001b[49m\u001b[43m \u001b[49m\u001b[43mtitle\u001b[49m\u001b[43m)\u001b[49m\n\u001b[0;32m    399\u001b[0m \u001b[38;5;28;01mexcept\u001b[39;00m \u001b[38;5;167;01mImportError\u001b[39;00m \u001b[38;5;28;01mas\u001b[39;00m e:\n\u001b[0;32m    400\u001b[0m     module_name \u001b[38;5;241m=\u001b[39m e\u001b[38;5;241m.\u001b[39mmessage\u001b[38;5;241m.\u001b[39msplit()[\u001b[38;5;241m-\u001b[39m\u001b[38;5;241m1\u001b[39m]\n",
      "File \u001b[1;32m~\\AppData\\Roaming\\Python\\Python39\\site-packages\\eralchemy\\main.py:158\u001b[0m, in \u001b[0;36mintermediary_to_schema\u001b[1;34m(tables, relationships, output, title)\u001b[0m\n\u001b[0;32m    156\u001b[0m \u001b[38;5;250m\u001b[39m\u001b[38;5;124;03m\"\"\"Transforms and save the intermediary representation to the file chosen.\"\"\"\u001b[39;00m\n\u001b[0;32m    157\u001b[0m \u001b[38;5;28;01mif\u001b[39;00m \u001b[38;5;129;01mnot\u001b[39;00m GRAPHVIZ_AVAILABLE:\n\u001b[1;32m--> 158\u001b[0m     \u001b[38;5;28;01mraise\u001b[39;00m \u001b[38;5;167;01mException\u001b[39;00m(\u001b[38;5;124m\"\u001b[39m\u001b[38;5;124mneither graphviz or pygraphviz are available. Install either library!\u001b[39m\u001b[38;5;124m\"\u001b[39m)\n\u001b[0;32m    159\u001b[0m dot_file \u001b[38;5;241m=\u001b[39m _intermediary_to_dot(tables, relationships, title)\n\u001b[0;32m    160\u001b[0m extension \u001b[38;5;241m=\u001b[39m output\u001b[38;5;241m.\u001b[39msplit(\u001b[38;5;124m\"\u001b[39m\u001b[38;5;124m.\u001b[39m\u001b[38;5;124m\"\u001b[39m)[\u001b[38;5;241m-\u001b[39m\u001b[38;5;241m1\u001b[39m]\n",
      "\u001b[1;31mException\u001b[0m: neither graphviz or pygraphviz are available. Install either library!"
     ]
    }
   ],
   "source": [
    "from eralchemy import render_er\n",
    "\n",
    "# Generate the ERD from an SQLite database\n",
    "render_er('sqlite:///proveedores.db', 'erd_diagram.png')\n"
   ]
  }
 ],
 "metadata": {
  "kernelspec": {
   "display_name": "Python 3",
   "language": "python",
   "name": "python3"
  },
  "language_info": {
   "codemirror_mode": {
    "name": "ipython",
    "version": 3
   },
   "file_extension": ".py",
   "mimetype": "text/x-python",
   "name": "python",
   "nbconvert_exporter": "python",
   "pygments_lexer": "ipython3",
   "version": "3.9.6"
  }
 },
 "nbformat": 4,
 "nbformat_minor": 2
}
