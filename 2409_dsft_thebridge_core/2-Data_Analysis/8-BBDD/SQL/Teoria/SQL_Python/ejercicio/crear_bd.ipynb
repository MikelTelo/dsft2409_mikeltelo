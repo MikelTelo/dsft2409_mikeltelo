{
 "cells": [
  {
   "cell_type": "code",
   "execution_count": 1,
   "metadata": {},
   "outputs": [],
   "source": [
    "import pandas as pd\n",
    "import sqlite3"
   ]
  },
  {
   "cell_type": "code",
   "execution_count": 2,
   "metadata": {},
   "outputs": [],
   "source": [
    "# Conectamos con la base de datos\n",
    "connection = sqlite3.connect(\"data/my_database.db\")\n",
    "\n",
    "# Obtenemos un cursor que utilizaremos para hacer las queries\n",
    "crsr = connection.cursor()"
   ]
  },
  {
   "cell_type": "code",
   "execution_count": 3,
   "metadata": {},
   "outputs": [],
   "source": [
    "res = crsr.execute(\"SELECT name FROM sqlite_master WHERE type='table'\")\n",
    "for name in res:\n",
    "    print(name[0])"
   ]
  },
  {
   "cell_type": "code",
   "execution_count": 4,
   "metadata": {},
   "outputs": [],
   "source": [
    "# Con esta función leemos los datos y lo pasamos a un DataFrame de Pandas\n",
    "def sql_query(query):\n",
    "\n",
    "    # Ejecuta la query\n",
    "    crsr.execute(query)\n",
    "\n",
    "    # Almacena los datos de la query \n",
    "    ans = crsr.fetchall()\n",
    "\n",
    "    # Obtenemos los nombres de las columnas de la tabla\n",
    "    names = [description[0] for description in crsr.description]\n",
    "\n",
    "    return pd.DataFrame(ans,columns=names)"
   ]
  },
  {
   "cell_type": "code",
   "execution_count": 5,
   "metadata": {},
   "outputs": [
    {
     "data": {
      "text/plain": [
       "<sqlite3.Cursor at 0x245941be340>"
      ]
     },
     "execution_count": 5,
     "metadata": {},
     "output_type": "execute_result"
    }
   ],
   "source": [
    "query = '''\n",
    "CREATE TABLE cervezas (\n",
    "    CodC VARCHAR(2),\n",
    "    Envase VARCHAR(32),\n",
    "    Capacidad FLOAT(2),\n",
    "    Stock INT(5),\n",
    "    PRIMARY KEY (CodC)\n",
    ")\n",
    "'''\n",
    "\n",
    "crsr.execute(query)"
   ]
  },
  {
   "cell_type": "code",
   "execution_count": 6,
   "metadata": {},
   "outputs": [
    {
     "name": "stdout",
     "output_type": "stream",
     "text": [
      "cervezas\n"
     ]
    }
   ],
   "source": [
    "res = crsr.execute(\"SELECT name FROM sqlite_master WHERE type='table'\")\n",
    "for name in res:\n",
    "    print(name[0])"
   ]
  },
  {
   "cell_type": "code",
   "execution_count": 7,
   "metadata": {},
   "outputs": [
    {
     "data": {
      "text/html": [
       "<div>\n",
       "<style scoped>\n",
       "    .dataframe tbody tr th:only-of-type {\n",
       "        vertical-align: middle;\n",
       "    }\n",
       "\n",
       "    .dataframe tbody tr th {\n",
       "        vertical-align: top;\n",
       "    }\n",
       "\n",
       "    .dataframe thead th {\n",
       "        text-align: right;\n",
       "    }\n",
       "</style>\n",
       "<table border=\"1\" class=\"dataframe\">\n",
       "  <thead>\n",
       "    <tr style=\"text-align: right;\">\n",
       "      <th></th>\n",
       "      <th>CodC</th>\n",
       "      <th>Envase</th>\n",
       "      <th>Capacidad</th>\n",
       "      <th>Stock</th>\n",
       "    </tr>\n",
       "  </thead>\n",
       "  <tbody>\n",
       "  </tbody>\n",
       "</table>\n",
       "</div>"
      ],
      "text/plain": [
       "Empty DataFrame\n",
       "Columns: [CodC, Envase, Capacidad, Stock]\n",
       "Index: []"
      ]
     },
     "execution_count": 7,
     "metadata": {},
     "output_type": "execute_result"
    }
   ],
   "source": [
    "query = '''\n",
    "SELECT * FROM cervezas \n",
    "'''\n",
    "sql_query(query)"
   ]
  },
  {
   "cell_type": "code",
   "execution_count": 10,
   "metadata": {},
   "outputs": [
    {
     "data": {
      "text/plain": [
       "<sqlite3.Cursor at 0x1d231e1c340>"
      ]
     },
     "execution_count": 10,
     "metadata": {},
     "output_type": "execute_result"
    }
   ],
   "source": [
    "# query = '''\n",
    "# DROP TABLE cervezas \n",
    "# '''\n",
    "# crsr.execute(query)"
   ]
  },
  {
   "cell_type": "code",
   "execution_count": 8,
   "metadata": {},
   "outputs": [
    {
     "data": {
      "text/plain": [
       "<sqlite3.Cursor at 0x245941be340>"
      ]
     },
     "execution_count": 8,
     "metadata": {},
     "output_type": "execute_result"
    }
   ],
   "source": [
    "query = '''\n",
    "INSERT INTO Cervezas (CodC, Envase, Capacidad, Stock)\n",
    "VALUES ('01','Botella',0.2,3600)\n",
    "'''\n",
    "crsr.execute(query)"
   ]
  },
  {
   "cell_type": "code",
   "execution_count": 11,
   "metadata": {},
   "outputs": [
    {
     "data": {
      "text/html": [
       "<div>\n",
       "<style scoped>\n",
       "    .dataframe tbody tr th:only-of-type {\n",
       "        vertical-align: middle;\n",
       "    }\n",
       "\n",
       "    .dataframe tbody tr th {\n",
       "        vertical-align: top;\n",
       "    }\n",
       "\n",
       "    .dataframe thead th {\n",
       "        text-align: right;\n",
       "    }\n",
       "</style>\n",
       "<table border=\"1\" class=\"dataframe\">\n",
       "  <thead>\n",
       "    <tr style=\"text-align: right;\">\n",
       "      <th></th>\n",
       "      <th>CodC</th>\n",
       "      <th>Envase</th>\n",
       "      <th>Capacidad</th>\n",
       "      <th>Stock</th>\n",
       "    </tr>\n",
       "  </thead>\n",
       "  <tbody>\n",
       "    <tr>\n",
       "      <th>0</th>\n",
       "      <td>01</td>\n",
       "      <td>Botella</td>\n",
       "      <td>0.20</td>\n",
       "      <td>3600</td>\n",
       "    </tr>\n",
       "    <tr>\n",
       "      <th>1</th>\n",
       "      <td>02</td>\n",
       "      <td>Botella</td>\n",
       "      <td>0.33</td>\n",
       "      <td>1200</td>\n",
       "    </tr>\n",
       "  </tbody>\n",
       "</table>\n",
       "</div>"
      ],
      "text/plain": [
       "  CodC   Envase  Capacidad  Stock\n",
       "0   01  Botella       0.20   3600\n",
       "1   02  Botella       0.33   1200"
      ]
     },
     "execution_count": 11,
     "metadata": {},
     "output_type": "execute_result"
    }
   ],
   "source": [
    "query = '''\n",
    "SELECT * FROM cervezas \n",
    "'''\n",
    "sql_query(query)"
   ]
  },
  {
   "cell_type": "code",
   "execution_count": 10,
   "metadata": {},
   "outputs": [
    {
     "data": {
      "text/plain": [
       "<sqlite3.Cursor at 0x245941be340>"
      ]
     },
     "execution_count": 10,
     "metadata": {},
     "output_type": "execute_result"
    }
   ],
   "source": [
    "query = '''\n",
    "INSERT INTO Cervezas VALUES ('02','Botella',0.33,1200)\n",
    "'''\n",
    "crsr.execute(query)"
   ]
  },
  {
   "cell_type": "code",
   "execution_count": 13,
   "metadata": {},
   "outputs": [
    {
     "data": {
      "text/plain": [
       "<sqlite3.Cursor at 0x245941be340>"
      ]
     },
     "execution_count": 13,
     "metadata": {},
     "output_type": "execute_result"
    }
   ],
   "source": [
    "query = '''\n",
    "INSERT INTO Cervezas VALUES ('03','Lata',0.33,2400),\n",
    "('04','Botella',1,288),\n",
    "('05','Barril',60,30)\n",
    "'''\n",
    "crsr.execute(query)"
   ]
  },
  {
   "cell_type": "code",
   "execution_count": 14,
   "metadata": {},
   "outputs": [
    {
     "data": {
      "text/html": [
       "<div>\n",
       "<style scoped>\n",
       "    .dataframe tbody tr th:only-of-type {\n",
       "        vertical-align: middle;\n",
       "    }\n",
       "\n",
       "    .dataframe tbody tr th {\n",
       "        vertical-align: top;\n",
       "    }\n",
       "\n",
       "    .dataframe thead th {\n",
       "        text-align: right;\n",
       "    }\n",
       "</style>\n",
       "<table border=\"1\" class=\"dataframe\">\n",
       "  <thead>\n",
       "    <tr style=\"text-align: right;\">\n",
       "      <th></th>\n",
       "      <th>CodC</th>\n",
       "      <th>Envase</th>\n",
       "      <th>Capacidad</th>\n",
       "      <th>Stock</th>\n",
       "    </tr>\n",
       "  </thead>\n",
       "  <tbody>\n",
       "    <tr>\n",
       "      <th>0</th>\n",
       "      <td>01</td>\n",
       "      <td>Botella</td>\n",
       "      <td>0.20</td>\n",
       "      <td>3600</td>\n",
       "    </tr>\n",
       "    <tr>\n",
       "      <th>1</th>\n",
       "      <td>02</td>\n",
       "      <td>Botella</td>\n",
       "      <td>0.33</td>\n",
       "      <td>1200</td>\n",
       "    </tr>\n",
       "    <tr>\n",
       "      <th>2</th>\n",
       "      <td>03</td>\n",
       "      <td>Lata</td>\n",
       "      <td>0.33</td>\n",
       "      <td>2400</td>\n",
       "    </tr>\n",
       "    <tr>\n",
       "      <th>3</th>\n",
       "      <td>04</td>\n",
       "      <td>Botella</td>\n",
       "      <td>1.00</td>\n",
       "      <td>288</td>\n",
       "    </tr>\n",
       "    <tr>\n",
       "      <th>4</th>\n",
       "      <td>05</td>\n",
       "      <td>Barril</td>\n",
       "      <td>60.00</td>\n",
       "      <td>30</td>\n",
       "    </tr>\n",
       "  </tbody>\n",
       "</table>\n",
       "</div>"
      ],
      "text/plain": [
       "  CodC   Envase  Capacidad  Stock\n",
       "0   01  Botella       0.20   3600\n",
       "1   02  Botella       0.33   1200\n",
       "2   03     Lata       0.33   2400\n",
       "3   04  Botella       1.00    288\n",
       "4   05   Barril      60.00     30"
      ]
     },
     "execution_count": 14,
     "metadata": {},
     "output_type": "execute_result"
    }
   ],
   "source": [
    "query = '''\n",
    "SELECT * FROM cervezas \n",
    "'''\n",
    "sql_query(query)"
   ]
  },
  {
   "cell_type": "code",
   "execution_count": 15,
   "metadata": {},
   "outputs": [
    {
     "data": {
      "text/plain": [
       "<sqlite3.Cursor at 0x245941be340>"
      ]
     },
     "execution_count": 15,
     "metadata": {},
     "output_type": "execute_result"
    }
   ],
   "source": [
    "query = '''\n",
    "INSERT INTO Cervezas VALUES ('06','asas','asas','asas')\n",
    "'''\n",
    "crsr.execute(query)"
   ]
  },
  {
   "cell_type": "code",
   "execution_count": 16,
   "metadata": {},
   "outputs": [
    {
     "data": {
      "text/plain": [
       "<sqlite3.Cursor at 0x245941be340>"
      ]
     },
     "execution_count": 16,
     "metadata": {},
     "output_type": "execute_result"
    }
   ],
   "source": [
    "query = '''\n",
    "DELETE FROM Cervezas WHERE CodC=\"06\"\n",
    "'''\n",
    "crsr.execute(query)"
   ]
  },
  {
   "cell_type": "markdown",
   "metadata": {},
   "source": [
    "## DataFame a BD sql"
   ]
  },
  {
   "cell_type": "markdown",
   "metadata": {},
   "source": [
    "[pandas.DataFrame.to_sql](https://pandas.pydata.org/docs/reference/api/pandas.DataFrame.to_sql.html)"
   ]
  },
  {
   "cell_type": "code",
   "execution_count": 17,
   "metadata": {},
   "outputs": [
    {
     "data": {
      "text/html": [
       "<div>\n",
       "<style scoped>\n",
       "    .dataframe tbody tr th:only-of-type {\n",
       "        vertical-align: middle;\n",
       "    }\n",
       "\n",
       "    .dataframe tbody tr th {\n",
       "        vertical-align: top;\n",
       "    }\n",
       "\n",
       "    .dataframe thead th {\n",
       "        text-align: right;\n",
       "    }\n",
       "</style>\n",
       "<table border=\"1\" class=\"dataframe\">\n",
       "  <thead>\n",
       "    <tr style=\"text-align: right;\">\n",
       "      <th></th>\n",
       "      <th>CodC</th>\n",
       "      <th>Envase</th>\n",
       "      <th>Capacidad</th>\n",
       "      <th>Stock</th>\n",
       "    </tr>\n",
       "  </thead>\n",
       "  <tbody>\n",
       "    <tr>\n",
       "      <th>0</th>\n",
       "      <td>01</td>\n",
       "      <td>Botella</td>\n",
       "      <td>0.20</td>\n",
       "      <td>3600</td>\n",
       "    </tr>\n",
       "    <tr>\n",
       "      <th>1</th>\n",
       "      <td>02</td>\n",
       "      <td>Botella</td>\n",
       "      <td>0.33</td>\n",
       "      <td>1200</td>\n",
       "    </tr>\n",
       "    <tr>\n",
       "      <th>2</th>\n",
       "      <td>03</td>\n",
       "      <td>Lata</td>\n",
       "      <td>0.33</td>\n",
       "      <td>2400</td>\n",
       "    </tr>\n",
       "    <tr>\n",
       "      <th>3</th>\n",
       "      <td>04</td>\n",
       "      <td>Botella</td>\n",
       "      <td>1.00</td>\n",
       "      <td>288</td>\n",
       "    </tr>\n",
       "    <tr>\n",
       "      <th>4</th>\n",
       "      <td>05</td>\n",
       "      <td>Barril</td>\n",
       "      <td>60.00</td>\n",
       "      <td>30</td>\n",
       "    </tr>\n",
       "  </tbody>\n",
       "</table>\n",
       "</div>"
      ],
      "text/plain": [
       "  CodC   Envase  Capacidad  Stock\n",
       "0   01  Botella       0.20   3600\n",
       "1   02  Botella       0.33   1200\n",
       "2   03     Lata       0.33   2400\n",
       "3   04  Botella       1.00    288\n",
       "4   05   Barril      60.00     30"
      ]
     },
     "execution_count": 17,
     "metadata": {},
     "output_type": "execute_result"
    }
   ],
   "source": [
    "query = '''\n",
    "SELECT * FROM cervezas \n",
    "'''\n",
    "sql_query(query)"
   ]
  },
  {
   "cell_type": "code",
   "execution_count": 18,
   "metadata": {},
   "outputs": [
    {
     "data": {
      "text/plain": [
       "<sqlite3.Cursor at 0x245941be340>"
      ]
     },
     "execution_count": 18,
     "metadata": {},
     "output_type": "execute_result"
    }
   ],
   "source": [
    "query = '''\n",
    "UPDATE cervezas\n",
    "SET Stock = 5000, Capacidad = 0.25\n",
    "WHERE CodC='02';\n",
    "'''\n",
    "crsr.execute(query)"
   ]
  },
  {
   "cell_type": "code",
   "execution_count": 19,
   "metadata": {},
   "outputs": [
    {
     "data": {
      "text/html": [
       "<div>\n",
       "<style scoped>\n",
       "    .dataframe tbody tr th:only-of-type {\n",
       "        vertical-align: middle;\n",
       "    }\n",
       "\n",
       "    .dataframe tbody tr th {\n",
       "        vertical-align: top;\n",
       "    }\n",
       "\n",
       "    .dataframe thead th {\n",
       "        text-align: right;\n",
       "    }\n",
       "</style>\n",
       "<table border=\"1\" class=\"dataframe\">\n",
       "  <thead>\n",
       "    <tr style=\"text-align: right;\">\n",
       "      <th></th>\n",
       "      <th>CodC</th>\n",
       "      <th>Envase</th>\n",
       "      <th>Capacidad</th>\n",
       "      <th>Stock</th>\n",
       "    </tr>\n",
       "  </thead>\n",
       "  <tbody>\n",
       "    <tr>\n",
       "      <th>0</th>\n",
       "      <td>01</td>\n",
       "      <td>Botella</td>\n",
       "      <td>0.20</td>\n",
       "      <td>3600</td>\n",
       "    </tr>\n",
       "    <tr>\n",
       "      <th>1</th>\n",
       "      <td>02</td>\n",
       "      <td>Botella</td>\n",
       "      <td>0.25</td>\n",
       "      <td>5000</td>\n",
       "    </tr>\n",
       "    <tr>\n",
       "      <th>2</th>\n",
       "      <td>03</td>\n",
       "      <td>Lata</td>\n",
       "      <td>0.33</td>\n",
       "      <td>2400</td>\n",
       "    </tr>\n",
       "    <tr>\n",
       "      <th>3</th>\n",
       "      <td>04</td>\n",
       "      <td>Botella</td>\n",
       "      <td>1.00</td>\n",
       "      <td>288</td>\n",
       "    </tr>\n",
       "    <tr>\n",
       "      <th>4</th>\n",
       "      <td>05</td>\n",
       "      <td>Barril</td>\n",
       "      <td>60.00</td>\n",
       "      <td>30</td>\n",
       "    </tr>\n",
       "  </tbody>\n",
       "</table>\n",
       "</div>"
      ],
      "text/plain": [
       "  CodC   Envase  Capacidad  Stock\n",
       "0   01  Botella       0.20   3600\n",
       "1   02  Botella       0.25   5000\n",
       "2   03     Lata       0.33   2400\n",
       "3   04  Botella       1.00    288\n",
       "4   05   Barril      60.00     30"
      ]
     },
     "execution_count": 19,
     "metadata": {},
     "output_type": "execute_result"
    }
   ],
   "source": [
    "query = '''\n",
    "SELECT * FROM cervezas \n",
    "'''\n",
    "sql_query(query)"
   ]
  },
  {
   "cell_type": "code",
   "execution_count": 20,
   "metadata": {},
   "outputs": [
    {
     "data": {
      "text/plain": [
       "<sqlite3.Cursor at 0x245941be340>"
      ]
     },
     "execution_count": 20,
     "metadata": {},
     "output_type": "execute_result"
    }
   ],
   "source": [
    "query = '''\n",
    "DELETE FROM cervezas WHERE CodC='05';\n",
    "'''\n",
    "crsr.execute(query)"
   ]
  },
  {
   "cell_type": "code",
   "execution_count": 22,
   "metadata": {},
   "outputs": [
    {
     "data": {
      "text/html": [
       "<div>\n",
       "<style scoped>\n",
       "    .dataframe tbody tr th:only-of-type {\n",
       "        vertical-align: middle;\n",
       "    }\n",
       "\n",
       "    .dataframe tbody tr th {\n",
       "        vertical-align: top;\n",
       "    }\n",
       "\n",
       "    .dataframe thead th {\n",
       "        text-align: right;\n",
       "    }\n",
       "</style>\n",
       "<table border=\"1\" class=\"dataframe\">\n",
       "  <thead>\n",
       "    <tr style=\"text-align: right;\">\n",
       "      <th></th>\n",
       "      <th>CodC</th>\n",
       "      <th>Envase</th>\n",
       "      <th>Capacidad</th>\n",
       "      <th>Stock</th>\n",
       "    </tr>\n",
       "  </thead>\n",
       "  <tbody>\n",
       "    <tr>\n",
       "      <th>0</th>\n",
       "      <td>01</td>\n",
       "      <td>Botella</td>\n",
       "      <td>0.20</td>\n",
       "      <td>3600</td>\n",
       "    </tr>\n",
       "    <tr>\n",
       "      <th>1</th>\n",
       "      <td>02</td>\n",
       "      <td>Botella</td>\n",
       "      <td>0.25</td>\n",
       "      <td>5000</td>\n",
       "    </tr>\n",
       "    <tr>\n",
       "      <th>2</th>\n",
       "      <td>03</td>\n",
       "      <td>Lata</td>\n",
       "      <td>0.33</td>\n",
       "      <td>2400</td>\n",
       "    </tr>\n",
       "    <tr>\n",
       "      <th>3</th>\n",
       "      <td>04</td>\n",
       "      <td>Botella</td>\n",
       "      <td>1.00</td>\n",
       "      <td>288</td>\n",
       "    </tr>\n",
       "  </tbody>\n",
       "</table>\n",
       "</div>"
      ],
      "text/plain": [
       "  CodC   Envase  Capacidad  Stock\n",
       "0   01  Botella       0.20   3600\n",
       "1   02  Botella       0.25   5000\n",
       "2   03     Lata       0.33   2400\n",
       "3   04  Botella       1.00    288"
      ]
     },
     "execution_count": 22,
     "metadata": {},
     "output_type": "execute_result"
    }
   ],
   "source": [
    "query = '''\n",
    "SELECT * FROM cervezas\n",
    "'''\n",
    "df = sql_query(query)\n",
    "df"
   ]
  },
  {
   "cell_type": "code",
   "execution_count": 23,
   "metadata": {},
   "outputs": [
    {
     "data": {
      "text/plain": [
       "4"
      ]
     },
     "execution_count": 23,
     "metadata": {},
     "output_type": "execute_result"
    }
   ],
   "source": [
    "df.to_sql(\"cervezas_v2\", connection, index=False)"
   ]
  },
  {
   "cell_type": "code",
   "execution_count": 24,
   "metadata": {},
   "outputs": [
    {
     "data": {
      "text/html": [
       "<div>\n",
       "<style scoped>\n",
       "    .dataframe tbody tr th:only-of-type {\n",
       "        vertical-align: middle;\n",
       "    }\n",
       "\n",
       "    .dataframe tbody tr th {\n",
       "        vertical-align: top;\n",
       "    }\n",
       "\n",
       "    .dataframe thead th {\n",
       "        text-align: right;\n",
       "    }\n",
       "</style>\n",
       "<table border=\"1\" class=\"dataframe\">\n",
       "  <thead>\n",
       "    <tr style=\"text-align: right;\">\n",
       "      <th></th>\n",
       "      <th>CodC</th>\n",
       "      <th>Envase</th>\n",
       "      <th>Capacidad</th>\n",
       "      <th>Stock</th>\n",
       "    </tr>\n",
       "  </thead>\n",
       "  <tbody>\n",
       "    <tr>\n",
       "      <th>0</th>\n",
       "      <td>01</td>\n",
       "      <td>Botella</td>\n",
       "      <td>0.20</td>\n",
       "      <td>3600</td>\n",
       "    </tr>\n",
       "    <tr>\n",
       "      <th>1</th>\n",
       "      <td>02</td>\n",
       "      <td>Botella</td>\n",
       "      <td>0.25</td>\n",
       "      <td>5000</td>\n",
       "    </tr>\n",
       "    <tr>\n",
       "      <th>2</th>\n",
       "      <td>03</td>\n",
       "      <td>Lata</td>\n",
       "      <td>0.33</td>\n",
       "      <td>2400</td>\n",
       "    </tr>\n",
       "    <tr>\n",
       "      <th>3</th>\n",
       "      <td>04</td>\n",
       "      <td>Botella</td>\n",
       "      <td>1.00</td>\n",
       "      <td>288</td>\n",
       "    </tr>\n",
       "  </tbody>\n",
       "</table>\n",
       "</div>"
      ],
      "text/plain": [
       "  CodC   Envase  Capacidad  Stock\n",
       "0   01  Botella       0.20   3600\n",
       "1   02  Botella       0.25   5000\n",
       "2   03     Lata       0.33   2400\n",
       "3   04  Botella       1.00    288"
      ]
     },
     "execution_count": 24,
     "metadata": {},
     "output_type": "execute_result"
    }
   ],
   "source": [
    "query = '''\n",
    "SELECT * FROM cervezas_v2\n",
    "'''\n",
    "df = sql_query(query)\n",
    "df"
   ]
  },
  {
   "cell_type": "markdown",
   "metadata": {},
   "source": [
    "## SUBQUERIES"
   ]
  },
  {
   "cell_type": "code",
   "execution_count": 25,
   "metadata": {},
   "outputs": [
    {
     "data": {
      "text/html": [
       "<div>\n",
       "<style scoped>\n",
       "    .dataframe tbody tr th:only-of-type {\n",
       "        vertical-align: middle;\n",
       "    }\n",
       "\n",
       "    .dataframe tbody tr th {\n",
       "        vertical-align: top;\n",
       "    }\n",
       "\n",
       "    .dataframe thead th {\n",
       "        text-align: right;\n",
       "    }\n",
       "</style>\n",
       "<table border=\"1\" class=\"dataframe\">\n",
       "  <thead>\n",
       "    <tr style=\"text-align: right;\">\n",
       "      <th></th>\n",
       "      <th>CodC</th>\n",
       "      <th>Envase</th>\n",
       "      <th>Capacidad</th>\n",
       "      <th>Stock</th>\n",
       "    </tr>\n",
       "  </thead>\n",
       "  <tbody>\n",
       "    <tr>\n",
       "      <th>0</th>\n",
       "      <td>01</td>\n",
       "      <td>Botella</td>\n",
       "      <td>0.20</td>\n",
       "      <td>3600</td>\n",
       "    </tr>\n",
       "    <tr>\n",
       "      <th>1</th>\n",
       "      <td>02</td>\n",
       "      <td>Botella</td>\n",
       "      <td>0.25</td>\n",
       "      <td>5000</td>\n",
       "    </tr>\n",
       "    <tr>\n",
       "      <th>2</th>\n",
       "      <td>04</td>\n",
       "      <td>Botella</td>\n",
       "      <td>1.00</td>\n",
       "      <td>288</td>\n",
       "    </tr>\n",
       "  </tbody>\n",
       "</table>\n",
       "</div>"
      ],
      "text/plain": [
       "  CodC   Envase  Capacidad  Stock\n",
       "0   01  Botella       0.20   3600\n",
       "1   02  Botella       0.25   5000\n",
       "2   04  Botella       1.00    288"
      ]
     },
     "execution_count": 25,
     "metadata": {},
     "output_type": "execute_result"
    }
   ],
   "source": [
    "query = '''\n",
    "SELECT * FROM (SELECT * FROM Cervezas WHERE Envase=\"Botella\")\n",
    "'''\n",
    "sql_query(query)"
   ]
  },
  {
   "cell_type": "code",
   "execution_count": 26,
   "metadata": {},
   "outputs": [],
   "source": [
    "# ATENCIÓN! Al terminar hay que cerrar la conexión a la DB para que se guarden los cambios!!!!!!\n",
    "connection.commit()\n",
    "connection.close()"
   ]
  },
  {
   "cell_type": "markdown",
   "metadata": {},
   "source": [
    "# Resolución ejercicio"
   ]
  },
  {
   "cell_type": "code",
   "execution_count": 27,
   "metadata": {},
   "outputs": [],
   "source": [
    "# Conectamos con la base de datos\n",
    "connection = sqlite3.connect(\"data/my_database.db\")\n",
    "\n",
    "# Obtenemos un cursor que utilizaremos para hacer las queries\n",
    "crsr = connection.cursor()"
   ]
  },
  {
   "cell_type": "code",
   "execution_count": 30,
   "metadata": {},
   "outputs": [
    {
     "data": {
      "text/plain": [
       "<sqlite3.Cursor at 0x24595414cc0>"
      ]
     },
     "execution_count": 30,
     "metadata": {},
     "output_type": "execute_result"
    }
   ],
   "source": [
    "query = '''\n",
    "DROP TABLE cervezas_v2\n",
    "'''\n",
    "\n",
    "crsr.execute(query)"
   ]
  },
  {
   "cell_type": "code",
   "execution_count": 31,
   "metadata": {},
   "outputs": [
    {
     "data": {
      "text/plain": [
       "<sqlite3.Cursor at 0x24595414cc0>"
      ]
     },
     "execution_count": 31,
     "metadata": {},
     "output_type": "execute_result"
    }
   ],
   "source": [
    "query = '''\n",
    "CREATE TABLE cervezas (\n",
    "    CodC VARCHAR(2),\n",
    "    Envase VARCHAR(32),\n",
    "    Capacidad FLOAT(2),\n",
    "    Stock INT(5),\n",
    "    PRIMARY KEY (CodC)\n",
    ")\n",
    "'''\n",
    "\n",
    "crsr.execute(query)"
   ]
  },
  {
   "cell_type": "code",
   "execution_count": 32,
   "metadata": {},
   "outputs": [
    {
     "data": {
      "text/plain": [
       "<sqlite3.Cursor at 0x24595414cc0>"
      ]
     },
     "execution_count": 32,
     "metadata": {},
     "output_type": "execute_result"
    }
   ],
   "source": [
    "query = '''\n",
    "INSERT INTO cervezas VALUES ('01','Botella',0.2,3600),\n",
    "('02','Botella',0.33,1200),\n",
    "('03','Lata',0.33,2400),\n",
    "('04','Botella',1,288),\n",
    "('05','Barril',60,30)\n",
    "'''\n",
    "crsr.execute(query)"
   ]
  },
  {
   "cell_type": "code",
   "execution_count": 33,
   "metadata": {},
   "outputs": [
    {
     "data": {
      "text/plain": [
       "<sqlite3.Cursor at 0x24595414cc0>"
      ]
     },
     "execution_count": 33,
     "metadata": {},
     "output_type": "execute_result"
    }
   ],
   "source": [
    "query = '''\n",
    "CREATE TABLE bares (\n",
    "\tCodB VARCHAR(3) NOT NULL,\n",
    "    Nombre VARCHAR,\n",
    "    Cif VARCHAR,\n",
    "\tLocalidad VARCHAR,\n",
    "\tPRIMARY KEY (CodB)\n",
    ");\n",
    "'''\n",
    "crsr.execute(query)"
   ]
  },
  {
   "cell_type": "code",
   "execution_count": 34,
   "metadata": {},
   "outputs": [
    {
     "data": {
      "text/plain": [
       "<sqlite3.Cursor at 0x24595414cc0>"
      ]
     },
     "execution_count": 34,
     "metadata": {},
     "output_type": "execute_result"
    }
   ],
   "source": [
    "query = '''\n",
    "INSERT INTO bares (CodB, Nombre, Cif, Localidad) \n",
    "VALUES  ('001','Stop','11111111X','Villa Botijo'),\n",
    "('002','Las Vegas','22222222Y','Villa Botijo'),\n",
    "('003','Club Social',NULL,'Las Ranas'),\n",
    "('004','Otra Ronda','33333333X','La Esponja')\n",
    ";\n",
    "'''\n",
    "crsr.execute(query)"
   ]
  },
  {
   "cell_type": "code",
   "execution_count": null,
   "metadata": {},
   "outputs": [],
   "source": [
    "query = '''\n",
    "CREATE TABLE empleados (\n",
    "\tCodE INT NOT NULL,\n",
    "    Nombre VARCHAR,\n",
    "    Sueldo INT,\n",
    "\tPRIMARY KEY (CodE)\n",
    ");\n",
    "'''\n",
    "crsr.execute(query)"
   ]
  },
  {
   "cell_type": "code",
   "execution_count": 37,
   "metadata": {},
   "outputs": [
    {
     "data": {
      "text/plain": [
       "<sqlite3.Cursor at 0x24595414cc0>"
      ]
     },
     "execution_count": 37,
     "metadata": {},
     "output_type": "execute_result"
    }
   ],
   "source": [
    "query = '''\n",
    "INSERT INTO empleados (CodE, Nombre, Sueldo) \n",
    "VALUES  (1,'Prudencio Caminero', 120000),\n",
    "(2,'Vicente Merario', 110000),\n",
    "(3,'Valentin Siempre', 100000)\n",
    ";\n",
    "'''\n",
    "crsr.execute(query)"
   ]
  },
  {
   "cell_type": "code",
   "execution_count": 38,
   "metadata": {},
   "outputs": [
    {
     "data": {
      "text/plain": [
       "<sqlite3.Cursor at 0x24595414cc0>"
      ]
     },
     "execution_count": 38,
     "metadata": {},
     "output_type": "execute_result"
    }
   ],
   "source": [
    "query = '''\n",
    "CREATE TABLE reparto (\n",
    "\tCodE VARCHAR(2) NOT NULL,\n",
    "\tCodB VARCHAR(3) NOT NULL,\n",
    "\tCodC VARCHAR(2) NOT NULL,\n",
    "\tFecha DATE NOT NULL,\n",
    "\tCantidad SMALLINT,\n",
    "\tPRIMARY KEY (CodE,CodB,CodC)\n",
    "\tFOREIGN KEY (CodC) REFERENCES cervezas(CodC)\n",
    "\tFOREIGN KEY (CodB) REFERENCES bares(CodB)\n",
    "\tFOREIGN KEY (CodE) REFERENCES empleados(CodE)\n",
    ");\n",
    "'''\n",
    "crsr.execute(query)"
   ]
  },
  {
   "cell_type": "code",
   "execution_count": 39,
   "metadata": {},
   "outputs": [
    {
     "data": {
      "text/plain": [
       "<sqlite3.Cursor at 0x24595414cc0>"
      ]
     },
     "execution_count": 39,
     "metadata": {},
     "output_type": "execute_result"
    }
   ],
   "source": [
    "query = '''\n",
    "INSERT INTO reparto (CodE, CodB, CodC, Fecha, Cantidad) \n",
    "VALUES  ('1','001','01','2005-10-21',240 ),\n",
    "( '1','001','02','2005-10-21',48 ),\n",
    "( '1','002','03','2005-10-22',60 ),\n",
    "( '1','004','05','2005-10-22',4 ),\n",
    "( '2','002','03','2005-10-22',48 ),\n",
    "( '2','002','05','2005-10-23',2 ),\n",
    "( '2','004','01','2005-10-23',480 ),\n",
    "( '2','004','02','2005-10-24',72 ),\n",
    "( '3','003','03','2005-10-24',48 ),\n",
    "( '3','003','04','2005-10-25',20 )\n",
    ";\n",
    "'''\n",
    "crsr.execute(query)"
   ]
  },
  {
   "cell_type": "code",
   "execution_count": 41,
   "metadata": {},
   "outputs": [
    {
     "data": {
      "text/html": [
       "<div>\n",
       "<style scoped>\n",
       "    .dataframe tbody tr th:only-of-type {\n",
       "        vertical-align: middle;\n",
       "    }\n",
       "\n",
       "    .dataframe tbody tr th {\n",
       "        vertical-align: top;\n",
       "    }\n",
       "\n",
       "    .dataframe thead th {\n",
       "        text-align: right;\n",
       "    }\n",
       "</style>\n",
       "<table border=\"1\" class=\"dataframe\">\n",
       "  <thead>\n",
       "    <tr style=\"text-align: right;\">\n",
       "      <th></th>\n",
       "      <th>CodE</th>\n",
       "      <th>CodB</th>\n",
       "      <th>CodC</th>\n",
       "      <th>Fecha</th>\n",
       "      <th>Cantidad</th>\n",
       "    </tr>\n",
       "  </thead>\n",
       "  <tbody>\n",
       "    <tr>\n",
       "      <th>0</th>\n",
       "      <td>1</td>\n",
       "      <td>001</td>\n",
       "      <td>01</td>\n",
       "      <td>2005-10-21</td>\n",
       "      <td>240</td>\n",
       "    </tr>\n",
       "    <tr>\n",
       "      <th>1</th>\n",
       "      <td>1</td>\n",
       "      <td>001</td>\n",
       "      <td>02</td>\n",
       "      <td>2005-10-21</td>\n",
       "      <td>48</td>\n",
       "    </tr>\n",
       "    <tr>\n",
       "      <th>2</th>\n",
       "      <td>1</td>\n",
       "      <td>002</td>\n",
       "      <td>03</td>\n",
       "      <td>2005-10-22</td>\n",
       "      <td>60</td>\n",
       "    </tr>\n",
       "    <tr>\n",
       "      <th>3</th>\n",
       "      <td>1</td>\n",
       "      <td>004</td>\n",
       "      <td>05</td>\n",
       "      <td>2005-10-22</td>\n",
       "      <td>4</td>\n",
       "    </tr>\n",
       "    <tr>\n",
       "      <th>4</th>\n",
       "      <td>2</td>\n",
       "      <td>002</td>\n",
       "      <td>03</td>\n",
       "      <td>2005-10-22</td>\n",
       "      <td>48</td>\n",
       "    </tr>\n",
       "    <tr>\n",
       "      <th>5</th>\n",
       "      <td>2</td>\n",
       "      <td>002</td>\n",
       "      <td>05</td>\n",
       "      <td>2005-10-23</td>\n",
       "      <td>2</td>\n",
       "    </tr>\n",
       "    <tr>\n",
       "      <th>6</th>\n",
       "      <td>2</td>\n",
       "      <td>004</td>\n",
       "      <td>01</td>\n",
       "      <td>2005-10-23</td>\n",
       "      <td>480</td>\n",
       "    </tr>\n",
       "    <tr>\n",
       "      <th>7</th>\n",
       "      <td>2</td>\n",
       "      <td>004</td>\n",
       "      <td>02</td>\n",
       "      <td>2005-10-24</td>\n",
       "      <td>72</td>\n",
       "    </tr>\n",
       "    <tr>\n",
       "      <th>8</th>\n",
       "      <td>3</td>\n",
       "      <td>003</td>\n",
       "      <td>03</td>\n",
       "      <td>2005-10-24</td>\n",
       "      <td>48</td>\n",
       "    </tr>\n",
       "    <tr>\n",
       "      <th>9</th>\n",
       "      <td>3</td>\n",
       "      <td>003</td>\n",
       "      <td>04</td>\n",
       "      <td>2005-10-25</td>\n",
       "      <td>20</td>\n",
       "    </tr>\n",
       "  </tbody>\n",
       "</table>\n",
       "</div>"
      ],
      "text/plain": [
       "  CodE CodB CodC       Fecha  Cantidad\n",
       "0    1  001   01  2005-10-21       240\n",
       "1    1  001   02  2005-10-21        48\n",
       "2    1  002   03  2005-10-22        60\n",
       "3    1  004   05  2005-10-22         4\n",
       "4    2  002   03  2005-10-22        48\n",
       "5    2  002   05  2005-10-23         2\n",
       "6    2  004   01  2005-10-23       480\n",
       "7    2  004   02  2005-10-24        72\n",
       "8    3  003   03  2005-10-24        48\n",
       "9    3  003   04  2005-10-25        20"
      ]
     },
     "execution_count": 41,
     "metadata": {},
     "output_type": "execute_result"
    }
   ],
   "source": [
    "query = '''\n",
    "SELECT * FROM reparto\n",
    ";\n",
    "'''\n",
    "df = sql_query(query)\n",
    "df"
   ]
  },
  {
   "cell_type": "code",
   "execution_count": 65,
   "metadata": {},
   "outputs": [
    {
     "data": {
      "text/plain": [
       "20"
      ]
     },
     "execution_count": 65,
     "metadata": {},
     "output_type": "execute_result"
    }
   ],
   "source": [
    "df.to_sql('repartos_bis', con=connection, if_exists=\"replace\", index=False)"
   ]
  },
  {
   "cell_type": "code",
   "execution_count": 66,
   "metadata": {},
   "outputs": [
    {
     "data": {
      "text/html": [
       "<div>\n",
       "<style scoped>\n",
       "    .dataframe tbody tr th:only-of-type {\n",
       "        vertical-align: middle;\n",
       "    }\n",
       "\n",
       "    .dataframe tbody tr th {\n",
       "        vertical-align: top;\n",
       "    }\n",
       "\n",
       "    .dataframe thead th {\n",
       "        text-align: right;\n",
       "    }\n",
       "</style>\n",
       "<table border=\"1\" class=\"dataframe\">\n",
       "  <thead>\n",
       "    <tr style=\"text-align: right;\">\n",
       "      <th></th>\n",
       "      <th>index</th>\n",
       "      <th>CodE</th>\n",
       "      <th>CodB</th>\n",
       "      <th>CodC</th>\n",
       "      <th>Fecha</th>\n",
       "      <th>Cantidad</th>\n",
       "    </tr>\n",
       "  </thead>\n",
       "  <tbody>\n",
       "    <tr>\n",
       "      <th>0</th>\n",
       "      <td>0</td>\n",
       "      <td>1</td>\n",
       "      <td>001</td>\n",
       "      <td>01</td>\n",
       "      <td>2005-10-21</td>\n",
       "      <td>240</td>\n",
       "    </tr>\n",
       "    <tr>\n",
       "      <th>1</th>\n",
       "      <td>1</td>\n",
       "      <td>1</td>\n",
       "      <td>001</td>\n",
       "      <td>02</td>\n",
       "      <td>2005-10-21</td>\n",
       "      <td>48</td>\n",
       "    </tr>\n",
       "    <tr>\n",
       "      <th>2</th>\n",
       "      <td>2</td>\n",
       "      <td>1</td>\n",
       "      <td>002</td>\n",
       "      <td>03</td>\n",
       "      <td>2005-10-22</td>\n",
       "      <td>60</td>\n",
       "    </tr>\n",
       "    <tr>\n",
       "      <th>3</th>\n",
       "      <td>3</td>\n",
       "      <td>1</td>\n",
       "      <td>004</td>\n",
       "      <td>05</td>\n",
       "      <td>2005-10-22</td>\n",
       "      <td>4</td>\n",
       "    </tr>\n",
       "    <tr>\n",
       "      <th>4</th>\n",
       "      <td>4</td>\n",
       "      <td>2</td>\n",
       "      <td>002</td>\n",
       "      <td>03</td>\n",
       "      <td>2005-10-22</td>\n",
       "      <td>48</td>\n",
       "    </tr>\n",
       "    <tr>\n",
       "      <th>5</th>\n",
       "      <td>5</td>\n",
       "      <td>2</td>\n",
       "      <td>002</td>\n",
       "      <td>05</td>\n",
       "      <td>2005-10-23</td>\n",
       "      <td>2</td>\n",
       "    </tr>\n",
       "    <tr>\n",
       "      <th>6</th>\n",
       "      <td>6</td>\n",
       "      <td>2</td>\n",
       "      <td>004</td>\n",
       "      <td>01</td>\n",
       "      <td>2005-10-23</td>\n",
       "      <td>480</td>\n",
       "    </tr>\n",
       "    <tr>\n",
       "      <th>7</th>\n",
       "      <td>7</td>\n",
       "      <td>2</td>\n",
       "      <td>004</td>\n",
       "      <td>02</td>\n",
       "      <td>2005-10-24</td>\n",
       "      <td>72</td>\n",
       "    </tr>\n",
       "    <tr>\n",
       "      <th>8</th>\n",
       "      <td>8</td>\n",
       "      <td>3</td>\n",
       "      <td>003</td>\n",
       "      <td>03</td>\n",
       "      <td>2005-10-24</td>\n",
       "      <td>48</td>\n",
       "    </tr>\n",
       "    <tr>\n",
       "      <th>9</th>\n",
       "      <td>9</td>\n",
       "      <td>3</td>\n",
       "      <td>003</td>\n",
       "      <td>04</td>\n",
       "      <td>2005-10-25</td>\n",
       "      <td>20</td>\n",
       "    </tr>\n",
       "    <tr>\n",
       "      <th>10</th>\n",
       "      <td>0</td>\n",
       "      <td>1</td>\n",
       "      <td>001</td>\n",
       "      <td>01</td>\n",
       "      <td>2005-10-21</td>\n",
       "      <td>240</td>\n",
       "    </tr>\n",
       "    <tr>\n",
       "      <th>11</th>\n",
       "      <td>1</td>\n",
       "      <td>1</td>\n",
       "      <td>001</td>\n",
       "      <td>02</td>\n",
       "      <td>2005-10-21</td>\n",
       "      <td>48</td>\n",
       "    </tr>\n",
       "    <tr>\n",
       "      <th>12</th>\n",
       "      <td>2</td>\n",
       "      <td>1</td>\n",
       "      <td>002</td>\n",
       "      <td>03</td>\n",
       "      <td>2005-10-22</td>\n",
       "      <td>60</td>\n",
       "    </tr>\n",
       "    <tr>\n",
       "      <th>13</th>\n",
       "      <td>3</td>\n",
       "      <td>1</td>\n",
       "      <td>004</td>\n",
       "      <td>05</td>\n",
       "      <td>2005-10-22</td>\n",
       "      <td>4</td>\n",
       "    </tr>\n",
       "    <tr>\n",
       "      <th>14</th>\n",
       "      <td>4</td>\n",
       "      <td>2</td>\n",
       "      <td>002</td>\n",
       "      <td>03</td>\n",
       "      <td>2005-10-22</td>\n",
       "      <td>48</td>\n",
       "    </tr>\n",
       "    <tr>\n",
       "      <th>15</th>\n",
       "      <td>5</td>\n",
       "      <td>2</td>\n",
       "      <td>002</td>\n",
       "      <td>05</td>\n",
       "      <td>2005-10-23</td>\n",
       "      <td>2</td>\n",
       "    </tr>\n",
       "    <tr>\n",
       "      <th>16</th>\n",
       "      <td>6</td>\n",
       "      <td>2</td>\n",
       "      <td>004</td>\n",
       "      <td>01</td>\n",
       "      <td>2005-10-23</td>\n",
       "      <td>480</td>\n",
       "    </tr>\n",
       "    <tr>\n",
       "      <th>17</th>\n",
       "      <td>7</td>\n",
       "      <td>2</td>\n",
       "      <td>004</td>\n",
       "      <td>02</td>\n",
       "      <td>2005-10-24</td>\n",
       "      <td>72</td>\n",
       "    </tr>\n",
       "    <tr>\n",
       "      <th>18</th>\n",
       "      <td>8</td>\n",
       "      <td>3</td>\n",
       "      <td>003</td>\n",
       "      <td>03</td>\n",
       "      <td>2005-10-24</td>\n",
       "      <td>48</td>\n",
       "    </tr>\n",
       "    <tr>\n",
       "      <th>19</th>\n",
       "      <td>9</td>\n",
       "      <td>3</td>\n",
       "      <td>003</td>\n",
       "      <td>04</td>\n",
       "      <td>2005-10-25</td>\n",
       "      <td>20</td>\n",
       "    </tr>\n",
       "  </tbody>\n",
       "</table>\n",
       "</div>"
      ],
      "text/plain": [
       "    index CodE CodB CodC       Fecha  Cantidad\n",
       "0       0    1  001   01  2005-10-21       240\n",
       "1       1    1  001   02  2005-10-21        48\n",
       "2       2    1  002   03  2005-10-22        60\n",
       "3       3    1  004   05  2005-10-22         4\n",
       "4       4    2  002   03  2005-10-22        48\n",
       "5       5    2  002   05  2005-10-23         2\n",
       "6       6    2  004   01  2005-10-23       480\n",
       "7       7    2  004   02  2005-10-24        72\n",
       "8       8    3  003   03  2005-10-24        48\n",
       "9       9    3  003   04  2005-10-25        20\n",
       "10      0    1  001   01  2005-10-21       240\n",
       "11      1    1  001   02  2005-10-21        48\n",
       "12      2    1  002   03  2005-10-22        60\n",
       "13      3    1  004   05  2005-10-22         4\n",
       "14      4    2  002   03  2005-10-22        48\n",
       "15      5    2  002   05  2005-10-23         2\n",
       "16      6    2  004   01  2005-10-23       480\n",
       "17      7    2  004   02  2005-10-24        72\n",
       "18      8    3  003   03  2005-10-24        48\n",
       "19      9    3  003   04  2005-10-25        20"
      ]
     },
     "execution_count": 66,
     "metadata": {},
     "output_type": "execute_result"
    }
   ],
   "source": [
    "query = '''\n",
    "SELECT * FROM repartos_bis\n",
    ";\n",
    "'''\n",
    "df = sql_query(query)\n",
    "df"
   ]
  },
  {
   "cell_type": "code",
   "execution_count": 42,
   "metadata": {},
   "outputs": [
    {
     "data": {
      "text/plain": [
       "<sqlite3.Cursor at 0x287ab610f80>"
      ]
     },
     "execution_count": 42,
     "metadata": {},
     "output_type": "execute_result"
    }
   ],
   "source": [
    "# query = '''\n",
    "# DROP TABLE cervezas \n",
    "# '''\n",
    "# crsr.execute(query)\n",
    "\n",
    "# query = '''\n",
    "# DROP TABLE bares \n",
    "# '''\n",
    "# crsr.execute(query)\n",
    "\n",
    "# query = '''\n",
    "# DROP TABLE empleados \n",
    "# '''\n",
    "# crsr.execute(query)\n",
    "\n",
    "# query = '''\n",
    "# DROP TABLE reparto \n",
    "# '''\n",
    "# crsr.execute(query)"
   ]
  },
  {
   "cell_type": "code",
   "execution_count": 42,
   "metadata": {},
   "outputs": [],
   "source": [
    "connection.commit()\n",
    "connection.close()"
   ]
  }
 ],
 "metadata": {
  "kernelspec": {
   "display_name": "Python 3.7.4 64-bit",
   "language": "python",
   "name": "python3"
  },
  "language_info": {
   "codemirror_mode": {
    "name": "ipython",
    "version": 3
   },
   "file_extension": ".py",
   "mimetype": "text/x-python",
   "name": "python",
   "nbconvert_exporter": "python",
   "pygments_lexer": "ipython3",
   "version": "3.11.3"
  },
  "orig_nbformat": 4,
  "vscode": {
   "interpreter": {
    "hash": "90139cb9a825bf3d63f6f6704e828dbd1ff7edbd4d0c6e906a71235d6efc74af"
   }
  }
 },
 "nbformat": 4,
 "nbformat_minor": 2
}
