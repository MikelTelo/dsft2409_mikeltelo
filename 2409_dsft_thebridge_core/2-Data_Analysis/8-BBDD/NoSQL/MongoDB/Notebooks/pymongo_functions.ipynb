{
 "cells": [
  {
   "cell_type": "markdown",
   "metadata": {},
   "source": [
    "# **Pymongo**"
   ]
  },
  {
   "cell_type": "markdown",
   "metadata": {},
   "source": [
    "Vamos a probar la instalación de pymongo, librería que nos servirá para gestionar bases de datos de mongo desde nuestro entorno de programación más utilizado. Probaremos a ejecutar comandos básicos."
   ]
  },
  {
   "cell_type": "code",
   "execution_count": null,
   "metadata": {},
   "outputs": [],
   "source": [
    "# !pip install pymongo"
   ]
  },
  {
   "cell_type": "markdown",
   "metadata": {},
   "source": [
    "### **Probamos comandos básicos de pymongo**\n",
    "\n",
    "A continuación, vamos a definir una clase para crear una base de datos de estudiantes, dicha clase no es necesaria siempre pero sirve para facilitar la utilización de pymongo, en este caso cada método de la clase utiliza comandos básicos para hacer peticiones de MongoDB como: \n",
    "\n",
    "* **find()**\n",
    "* **insert_one()**\n",
    "* **find_one()**\n",
    "* **update_one()**\n",
    "* **delete_one()**"
   ]
  },
  {
   "cell_type": "code",
   "execution_count": 1,
   "metadata": {},
   "outputs": [],
   "source": [
    "from pymongo import MongoClient\n",
    "\n",
    "#Clase para crear una base de datos de estudiantes con MongoDB\n",
    "class MongoStudentDatabase:\n",
    "    def __init__(self, db_url, db_name):\n",
    "        self.client = MongoClient(db_url) #Inicializa el cliente\n",
    "        self.db = self.client[db_name] #Crea la base de datos\n",
    "        self.students_collection = self.db['students'] #Crea la colección de estudiantes\n",
    "\n",
    "    def add_student(self, student_data):\n",
    "        result = self.students_collection.insert_one(student_data)\n",
    "        return result.inserted_id\n",
    "\n",
    "    def get_students(self):\n",
    "        students = self.students_collection.find()\n",
    "        return list(students)\n",
    "\n",
    "    def get_student_by_id(self, student_id):\n",
    "        student = self.students_collection.find_one({'_id': student_id})\n",
    "        return student\n",
    "\n",
    "    def update_student(self, student_id, new_data):\n",
    "        result = self.students_collection.update_one({'_id': student_id}, {'$set': new_data})\n",
    "        return result.modified_count\n",
    "\n",
    "    def delete_student(self, student_id):\n",
    "        result = self.students_collection.delete_one({'_id': student_id})\n",
    "        return result.deleted_count\n"
   ]
  },
  {
   "cell_type": "code",
   "execution_count": 4,
   "metadata": {},
   "outputs": [
    {
     "name": "stdout",
     "output_type": "stream",
     "text": [
      "Student added with ID: 64f1bc303b112f25019ea9c9\n",
      "All Students:\n",
      "{'_id': ObjectId('64f1bc283b112f25019ea9c7'), 'name': 'Juan Perez', 'age': 23, 'courses': ['Data Analysis', 'Machine Learning']}\n",
      "{'_id': ObjectId('64f1bc303b112f25019ea9c9'), 'name': 'Juan Perez', 'age': 22, 'courses': ['Data Analysis', 'Machine Learning']}\n",
      "Updated 1 student(s)\n"
     ]
    }
   ],
   "source": [
    "# Ejemplo de uso\n",
    "if __name__ == '__main__':\n",
    "    db_url = 'mongodb://localhost:27017/'\n",
    "    db_name = 'data_science_class'\n",
    "    student_db = MongoStudentDatabase(db_url, db_name)\n",
    "\n",
    "    # Agregar un estudiante\n",
    "    new_student_data = {\n",
    "        'name': 'Juan Perez',\n",
    "        'age': 22,\n",
    "        'courses': ['Data Analysis', 'Machine Learning']\n",
    "    }\n",
    "    inserted_id = student_db.add_student(new_student_data)\n",
    "    print(f'Student added with ID: {inserted_id}')\n",
    "\n",
    "    # Obtener todos los estudiantes\n",
    "    all_students = student_db.get_students()\n",
    "    print('All Students:')\n",
    "    for student in all_students:\n",
    "        print(student)\n",
    "\n",
    "    # Actualizar la información de un estudiante\n",
    "    student_to_update = inserted_id\n",
    "    update_data = {'age': 23}\n",
    "    modified_count = student_db.update_student(student_to_update, update_data)\n",
    "    print(f'Updated {modified_count} student(s)')\n",
    "\n",
    "    # # Borrar un estudiante\n",
    "    # student_to_delete = inserted_id\n",
    "    # deleted_count = student_db.delete_student(student_to_delete)\n",
    "    \n",
    "    # print(f'Deleted {deleted_count} student(s)')"
   ]
  },
  {
   "cell_type": "markdown",
   "metadata": {},
   "source": [
    "### **ORM y ODM**"
   ]
  },
  {
   "cell_type": "markdown",
   "metadata": {},
   "source": [
    "Un ***ODM (Object-Document Mapping)*** y un ***ORM (Object-Relational Mapping)*** son patrones de diseño utilizados en el desarrollo de software para mapear objetos de un lenguaje de programación a las estructuras de datos de una base de datos. Aunque ambos patrones tienen un propósito similar, están destinados a diferentes tipos de bases de datos y sistemas de almacenamiento.\n",
    "\n",
    "<br>\n",
    "\n",
    "**Diferencias:**\n",
    "\n",
    "* Tipo de Base de Datos: ORM se utiliza principalmente para bases de datos relacionales, mientras que ODM se usa para bases de datos NoSQL, especialmente bases de datos orientadas a documentos.\n",
    "\n",
    "* Estructura de Datos: ORM trabaja con tablas, filas y columnas, mientras que ODM trabaja con documentos, que pueden tener estructuras anidadas y variadas.\n",
    "\n",
    "* Flexibilidad: ODM tiende a ser más flexible debido a la naturaleza variada de los documentos en bases de datos NoSQL. ORM sigue una estructura más rígida debido a las tablas y relaciones de las bases de datos relacionales.\n",
    "\n",
    "<br>\n",
    "\n",
    "**Ventajas del ORM:**\n",
    "\n",
    "Abstrae la complejidad de las consultas SQL y permite trabajar con objetos en lugar de tablas y registros.\n",
    "Facilita la creación, modificación y eliminación de registros en la base de datos a través de métodos en objetos.\n",
    "Permite realizar consultas y filtrado de datos utilizando una sintaxis orientada a objetos.\n",
    "Puede gestionar relaciones entre tablas y asociaciones entre objetos.\n",
    "ODM (Object-Document Mapping):\n",
    "Un ODM es similar a un ORM, pero se utiliza para mapear objetos de un lenguaje de programación a documentos en bases de datos NoSQL, específicamente en bases de datos orientadas a documentos como MongoDB. Los documentos en estas bases de datos son estructuras flexibles similares a JSON que pueden contener datos anidados y variados.\n",
    "\n",
    "<br>\n",
    "\n",
    "**Ventajas del ODM:**\n",
    "\n",
    "Abstrae la complejidad de las operaciones de la base de datos NoSQL y permite trabajar con documentos como si fueran objetos.\n",
    "Facilita la creación, modificación y eliminación de documentos en la base de datos a través de métodos en objetos.\n",
    "Admite la flexibilidad de los documentos NoSQL y puede manejar estructuras de datos variadas.\n",
    "Puede manejar relaciones entre documentos en bases de datos NoSQL que admiten estas relaciones."
   ]
  },
  {
   "cell_type": "markdown",
   "metadata": {},
   "source": [
    "### Con mongo engine"
   ]
  },
  {
   "cell_type": "code",
   "execution_count": null,
   "metadata": {},
   "outputs": [],
   "source": [
    "# !python -m pip install -U mongoengine"
   ]
  },
  {
   "cell_type": "code",
   "execution_count": 6,
   "metadata": {},
   "outputs": [],
   "source": [
    "from mongoengine import connect, Document, StringField, IntField, ListField, disconnect\n",
    "\n",
    "class Student(Document):\n",
    "    name = StringField(required=True)\n",
    "    age = IntField()\n",
    "    courses = ListField(StringField())\n",
    "\n",
    "class MongoEngineStudentDatabase:\n",
    "    def __init__(self, db_name):\n",
    "        connect(db_name)\n",
    "\n",
    "    def add_student(self, student_data):\n",
    "        student = Student(**student_data)\n",
    "        student.save()\n",
    "        return student.id\n",
    "\n",
    "    def get_students(self):\n",
    "        students = Student.objects()\n",
    "        return list(students)\n",
    "\n",
    "    def get_student_by_id(self, student_id):\n",
    "        student = Student.objects(id=student_id).first()\n",
    "        return student\n",
    "\n",
    "    def update_student(self, student_id, new_data):\n",
    "        student = Student.objects(id=student_id).first()\n",
    "        if student:\n",
    "            for key, value in new_data.items():\n",
    "                setattr(student, key, value)\n",
    "            student.save()\n",
    "            return 1\n",
    "        return 0\n",
    "\n",
    "    def delete_student(self, student_id):\n",
    "        student = Student.objects(id=student_id).first()\n",
    "        if student:\n",
    "            student.delete()\n",
    "            return 1\n",
    "        return 0"
   ]
  },
  {
   "cell_type": "code",
   "execution_count": 7,
   "metadata": {},
   "outputs": [
    {
     "name": "stdout",
     "output_type": "stream",
     "text": [
      "Student added with ID: 64f1bd3d3b112f25019ea9cb\n",
      "All Students:\n",
      "{\"_id\": {\"$oid\": \"64f1bd3d3b112f25019ea9cb\"}, \"name\": \"Ana Lopez\", \"age\": 25, \"courses\": [\"Data Visualization\", \"Python for Data Science\"]}\n",
      "Updated 1 student(s)\n",
      "Deleted 1 student(s)\n"
     ]
    }
   ],
   "source": [
    "# Ejemplo de uso\n",
    "if __name__ == '__main__':\n",
    "    db_name = 'data_science_class'\n",
    "    student_db = MongoEngineStudentDatabase(db_name)\n",
    "\n",
    "    # Agregar un estudiante\n",
    "    new_student_data = {\n",
    "        'name': 'Ana Lopez',\n",
    "        'age': 25,\n",
    "        'courses': ['Data Visualization', 'Python for Data Science']\n",
    "    }\n",
    "    inserted_id = student_db.add_student(new_student_data)\n",
    "    print(f'Student added with ID: {inserted_id}')\n",
    "\n",
    "    # Obtener todos los estudiantes\n",
    "    all_students = student_db.get_students()\n",
    "    print('All Students:')\n",
    "    for student in all_students:\n",
    "        print(student.to_json())\n",
    "\n",
    "    # Actualizar la información de un estudiante\n",
    "    student_to_update = inserted_id\n",
    "    update_data = {'age': 26}\n",
    "    modified_count = student_db.update_student(student_to_update, update_data)\n",
    "    print(f'Updated {modified_count} student(s)')\n",
    "\n",
    "    # Borrar un estudiante\n",
    "    student_to_delete = inserted_id\n",
    "    deleted_count = student_db.delete_student(student_to_delete)\n",
    "    print(f'Deleted {deleted_count} student(s)')"
   ]
  },
  {
   "cell_type": "code",
   "execution_count": 8,
   "metadata": {},
   "outputs": [],
   "source": [
    "#Desconectarse de la base de datos\n",
    "disconnect()"
   ]
  },
  {
   "cell_type": "markdown",
   "metadata": {},
   "source": [
    "### Ventajas de mongoengine"
   ]
  },
  {
   "cell_type": "markdown",
   "metadata": {},
   "source": [
    "MongoEngine es una biblioteca de mapeo de objetos (ODM, por sus siglas en inglés) para MongoDB en Python. Proporciona una abstracción de alto nivel sobre las operaciones de base de datos y ofrece varias ventajas:\n",
    "\n",
    "- **Abstracción de Documentos**: MongoEngine permite a los desarrolladores trabajar con documentos de MongoDB de manera más similar a trabajar con objetos Python. Cada documento MongoDB se mapea a una clase Python, lo que facilita la interacción y el mantenimiento del código.\n",
    "\n",
    "- **Sintaxis Más Amigable**: MongoEngine utiliza una sintaxis más orientada a objetos para definir esquemas de documentos y realizar operaciones CRUD en la base de datos. Esto hace que el código sea más legible y mantenible.\n",
    "\n",
    "- **Validaciones Integradas**: Puedes definir validaciones directamente en los modelos MongoEngine, lo que garantiza que los documentos insertados cumplan con ciertos requisitos antes de ser almacenados en la base de datos.\n",
    "\n",
    "- **Consultas Simplificadas**: Las consultas a la base de datos se pueden realizar utilizando una sintaxis similar a las consultas en MongoDB. Esto permite a los desarrolladores crear consultas complejas de manera más intuitiva.\n",
    "\n",
    "- **Relaciones y Referencias**: MongoEngine admite relaciones entre documentos y permite referencias entre ellos, lo que facilita la construcción de modelos de datos más complejos.\n",
    "\n",
    "- **Manejo de Herencia**: Puedes crear jerarquías de clases de modelos, lo que simplifica el manejo de documentos que comparten propiedades en común.\n",
    "\n",
    "- **Migraciones de Esquema**: MongoEngine permite realizar migraciones de esquema más fácilmente. Puedes agregar, eliminar o modificar campos en tus modelos y luego aplicar estas modificaciones a la base de datos.\n",
    "\n",
    "- **Integración con Frameworks Web**: MongoEngine se puede integrar con varios frameworks web populares, lo que facilita la creación de aplicaciones web basadas en MongoDB.\n",
    "\n",
    "- **Adaptabilidad**: Puedes cambiar la base de datos subyacente entre diferentes instancias de MongoDB (local, Atlas, otros) sin cambiar demasiado el código, ya que la mayoría de las operaciones se realizan a través de la abstracción de MongoEngine.\n",
    "\n",
    "- **Documentación Completa**: MongoEngine cuenta con una documentación completa y ejemplos útiles que facilitan el proceso de aprendizaje y desarrollo.\n",
    "\n",
    "En general, MongoEngine es una opción poderosa para trabajar con MongoDB en Python, especialmente cuando se trabaja en proyectos que requieren un alto nivel de abstracción y facilitan la administración de esquemas y relaciones de datos."
   ]
  },
  {
   "cell_type": "markdown",
   "metadata": {},
   "source": [
    "### Ejemplos de uso de MongoEngine para establecer relaciones entre colecciones"
   ]
  },
  {
   "cell_type": "code",
   "execution_count": 124,
   "metadata": {},
   "outputs": [],
   "source": [
    "#Ejemplo crear una base de datos -- La base de datos no se muestra hasta que no tiene al menos un documento\n",
    "from mongoengine import connect\n",
    "\n",
    "db_name = 'your_database_name'\n",
    "db_connection = connect(db_name)\n"
   ]
  },
  {
   "cell_type": "code",
   "execution_count": 125,
   "metadata": {},
   "outputs": [],
   "source": [
    "#Se crea la clase \"Person\" que hereda a su vez atributos de la clase \"Document\" proveniente de pyengine\n",
    "from mongoengine import Document, StringField, IntField, connect, ReferenceField\n",
    "\n",
    "class Person(Document):\n",
    "    name = StringField(required=True) #Campo de string con un condicional (\"Debe si o si ser string\")\n",
    "    age = IntField() #Campo integer\n"
   ]
  },
  {
   "cell_type": "code",
   "execution_count": 126,
   "metadata": {},
   "outputs": [
    {
     "data": {
      "text/plain": [
       "<Person: Person object>"
      ]
     },
     "execution_count": 126,
     "metadata": {},
     "output_type": "execute_result"
    }
   ],
   "source": [
    "#Creamos un documento, ahora si debe mostrar la base de datos en MongoCompass por ejemplo\n",
    "person = Person(name='Alice', age=30)\n",
    "person.save()\n"
   ]
  },
  {
   "cell_type": "code",
   "execution_count": 127,
   "metadata": {},
   "outputs": [
    {
     "name": "stdout",
     "output_type": "stream",
     "text": [
      "Nombre: Alice, Edad: 30\n"
     ]
    }
   ],
   "source": [
    "#Hacemos una query\n",
    "adults = Person.objects(age__gt=25) #gte -- Greater Than-Equal\n",
    "for adult in adults:\n",
    "    print(f\"Nombre: {adult.name}, Edad: {adult.age}\")"
   ]
  },
  {
   "cell_type": "markdown",
   "metadata": {},
   "source": [
    "#### A continuacion se muestran dos enfoques para establecer relaciones entre colecciones.\n",
    "\n",
    "**Enfoque de Composición:** La primera definición de Student es adecuada si un estudiante está relacionado con una persona (instructor), pero no necesariamente tiene todos los mismos campos que una persona. Esto representa una relación de \"composición\" donde un estudiante contiene una referencia a una persona.\n",
    "\n",
    "**Enfoque de Herencia:** La segunda definición de Student es adecuada si todos los estudiantes tienen los mismos campos que las personas y solo se diferencia por el campo student_id. Esto representa una relación \"es un\" (un estudiante es un tipo de persona).\n",
    "\n"
   ]
  },
  {
   "cell_type": "code",
   "execution_count": 128,
   "metadata": {},
   "outputs": [],
   "source": [
    "#Primera definición\n",
    "#Creamos una clase \"Course\" con un nombre del curso que tendrá de referencia una persona\n",
    "\n",
    "# class Person(Document): --- Creada anteriormente\n",
    "#     name = StringField(required=True) #Campo de string con un condicional (\"Debe si o si ser string\")\n",
    "#     age = IntField() #Campo integer\n",
    "\n",
    "class Course(Document):\n",
    "    name = StringField(required=True)\n",
    "    instructor = ReferenceField(Person)"
   ]
  },
  {
   "cell_type": "code",
   "execution_count": 130,
   "metadata": {},
   "outputs": [
    {
     "name": "stdout",
     "output_type": "stream",
     "text": [
      "Curso: Curso de MongoDB\n",
      "Instructor: Pepe instructor\n"
     ]
    }
   ],
   "source": [
    "# Creación de una instancia de Person (un instructor)\n",
    "instructor = Person(name=\"Pepe instructor\", age=30)\n",
    "instructor.save()\n",
    "\n",
    "# Creación de una instancia de Course con el instructor asignado\n",
    "course = Course(name=\"Curso de MongoDB\", instructor=instructor)\n",
    "course.save()\n",
    "\n",
    "# Recuperación de la información del curso con su instructor\n",
    "retrieved_course = Course.objects(name=\"Curso de MongoDB\").first()\n",
    "print(f\"Curso: {retrieved_course.name}\")\n",
    "print(f\"Instructor: {retrieved_course.instructor.name}\")\n"
   ]
  },
  {
   "cell_type": "code",
   "execution_count": 134,
   "metadata": {},
   "outputs": [],
   "source": [
    "#Segunda definición\n",
    "#Creamos una clase \"Course\" con un instructor que tendrá los mismos campos que la clase \"Person\"\n",
    "\n",
    "db_name = 'your_database_name_2'\n",
    "db_connection = connect(db_name)\n",
    "\n",
    "class Person(Document):\n",
    "    name = StringField(required=True)\n",
    "    age = IntField(min_value=1) #Especificamos condicion de edad minima igual a 1\n",
    "    meta = {'allow_inheritance': True}#Permitimos la herencia\n",
    "\n",
    "class Student(Person):\n",
    "    student_id = StringField(required=True)"
   ]
  },
  {
   "cell_type": "code",
   "execution_count": 136,
   "metadata": {},
   "outputs": [
    {
     "name": "stdout",
     "output_type": "stream",
     "text": [
      "Nombre: Jose\n",
      "Edad: 20\n",
      "ID de Estudiante: S12345\n"
     ]
    }
   ],
   "source": [
    "#Creamos un documento persona\n",
    "person = Person(name='Alice', age=30)\n",
    "person.save()\n",
    "\n",
    "\n",
    "# Creación de una instancia de Student con un student_id\n",
    "student = Student(name=\"Jose\", age=\"20\", student_id=\"S12345\")\n",
    "student.save()\n",
    "\n",
    "# Recuperación de la información del estudiante\n",
    "retrieved_student = Student.objects(student_id=\"S12345\").first()\n",
    "print(f\"Nombre: {retrieved_student.name}\")\n",
    "print(f\"Edad: {retrieved_student.age}\")\n",
    "print(f\"ID de Estudiante: {retrieved_student.student_id}\")"
   ]
  },
  {
   "cell_type": "code",
   "execution_count": 74,
   "metadata": {},
   "outputs": [],
   "source": [
    "# class Person(Document):\n",
    "#     name = StringField(required=True)\n",
    "#     age = IntField(min_value=1)\n",
    "#     email = StringField() #Podemos agregar luego algún otro campo\n",
    "#     direccion = StringField()\n"
   ]
  },
  {
   "cell_type": "code",
   "execution_count": 132,
   "metadata": {},
   "outputs": [],
   "source": [
    "disconnect()"
   ]
  }
 ],
 "metadata": {
  "kernelspec": {
   "display_name": "Python 3",
   "language": "python",
   "name": "python3"
  },
  "language_info": {
   "codemirror_mode": {
    "name": "ipython",
    "version": 3
   },
   "file_extension": ".py",
   "mimetype": "text/x-python",
   "name": "python",
   "nbconvert_exporter": "python",
   "pygments_lexer": "ipython3",
   "version": "3.9.7"
  },
  "orig_nbformat": 4
 },
 "nbformat": 4,
 "nbformat_minor": 2
}
