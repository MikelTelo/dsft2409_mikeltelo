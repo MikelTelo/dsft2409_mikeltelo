{
 "cells": [
  {
   "attachments": {},
   "cell_type": "markdown",
   "metadata": {},
   "source": [
    "# Extrae los dominios de los correos con una expresión regular"
   ]
  },
  {
   "cell_type": "code",
   "execution_count": 7,
   "metadata": {},
   "outputs": [],
   "source": [
    "import re\n",
    "\n",
    "emails = '''\n",
    "hegoi.garitaonandia@thebridgeschool.es\n",
    "hegoi.garitaonandia@thebridgeschool.tech\n",
    "'''"
   ]
  },
  {
   "cell_type": "code",
   "execution_count": 8,
   "metadata": {},
   "outputs": [
    {
     "data": {
      "text/plain": [
       "['thebridgeschool.es', 'thebridgeschool.tech']"
      ]
     },
     "execution_count": 8,
     "metadata": {},
     "output_type": "execute_result"
    }
   ],
   "source": [
    "domain = re.findall(r'@([\\w.-]+)', emails)\n",
    "domain"
   ]
  },
  {
   "cell_type": "markdown",
   "metadata": {},
   "source": [
    "Puedes ayudarte con los siguientes enlaces [RegEx101](https://regex101.com/) y [RegEx Python guide](https://docs.python.org/3/howto/regex.html)"
   ]
  },
  {
   "attachments": {},
   "cell_type": "markdown",
   "metadata": {},
   "source": [
    "Es decir.. \n",
    "* @thebridgeschool.es\n",
    "* @thebridgeschool.tech\n"
   ]
  },
  {
   "cell_type": "code",
   "execution_count": 9,
   "metadata": {},
   "outputs": [
    {
     "name": "stdout",
     "output_type": "stream",
     "text": [
      "Dominio: thebridgeschool.es\n",
      "Dominio: thebridgeschool.tech\n"
     ]
    }
   ],
   "source": [
    "\n",
    "emails = [\n",
    "    \"hegoi.garitaonandia@thebridgeschool.es\",\n",
    "    \"hegoi.garitaonandia@thebridgeschool.tech\"\n",
    "]\n",
    "\n",
    "pattern = r'@([^@]+)$'\n",
    "\n",
    "for email in emails:\n",
    "    match = re.search(pattern, email)\n",
    "    if match:\n",
    "        domain = match.group(1)\n",
    "        print(f\"Dominio: {domain}\")"
   ]
  },
  {
   "cell_type": "code",
   "execution_count": 10,
   "metadata": {},
   "outputs": [
    {
     "data": {
      "text/plain": [
       "'\\nClaro, voy a explicar el patrón de expresión regular r\\'@([^@]+)$\\':\\n\\n1. r\\' : Esto indica que es una cadena raw en Python, lo que significa que las barras invertidas se tratan literalmente.\\n\\n2. @ : Busca el símbolo @ literalmente.\\n\\n3. ( : Comienza un grupo de captura.\\n\\n4. [^@]+ : Esta parte es crucial:\\n   - [^@] es una clase de caracteres negada que coincide con cualquier carácter que NO sea @.\\n   - El + después significa \"uno o más de estos caracteres\".\\n\\n5. ) : Cierra el grupo de captura.\\n\\n6. $ : Indica el final de la cadena.\\n\\nEn conjunto, este patrón hace lo siguiente:\\n\\n- Busca el último @ en la cadena.\\n- Captura todo lo que viene después de ese @ hasta el final de la cadena.\\n- Asegura que no haya otro @ después del que encontró.\\n\\nPor lo tanto, en una dirección de correo electrónico como \"usuario@dominio.com\", este patrón capturará \"dominio.com\".\\n\\nEs particularmente útil porque:\\n- Funciona con subdominios (ej. \"usuario@sub.dominio.com\").\\n- No se confunde con direcciones que puedan tener @ en la parte del usuario (ej. \"usuario+etiqueta@dominio.com\").\\n- Captura el dominio completo, incluyendo el TLD (.com, .org, etc.).\\n\\nEste patrón es eficaz para extraer el dominio de una dirección de correo electrónico, independientemente de la complejidad de la parte del usuario o del dominio.\\n\\nCitations:\\n[1] https://en.wikipedia.org/?title=Regular_expression\\n[2] https://www3.ntu.edu.sg/home/ehchua/programming/howto/Regexe.html\\n[3] https://www.thisdot.co/blog/understanding-regex\\n[4] https://developer.mozilla.org/en-US/docs/Web/JavaScript/Guide/Regular_expressions.\\n[5] https://coderpad.io/blog/development/the-complete-guide-to-regular-expressions-regex/\\n[6] https://www.mobzystems.com/online/explain-regular-expression/\\n[7] https://www.javatpoint.com/regex\\n[8] https://regexr.com\\n'"
      ]
     },
     "execution_count": 10,
     "metadata": {},
     "output_type": "execute_result"
    }
   ],
   "source": [
    "'''\n",
    "Claro, voy a explicar el patrón de expresión regular r'@([^@]+)$':\n",
    "\n",
    "1. r' : Esto indica que es una cadena raw en Python, lo que significa que las barras invertidas se tratan literalmente.\n",
    "\n",
    "2. @ : Busca el símbolo @ literalmente.\n",
    "\n",
    "3. ( : Comienza un grupo de captura.\n",
    "\n",
    "4. [^@]+ : Esta parte es crucial:\n",
    "   - [^@] es una clase de caracteres negada que coincide con cualquier carácter que NO sea @.\n",
    "   - El + después significa \"uno o más de estos caracteres\".\n",
    "\n",
    "5. ) : Cierra el grupo de captura.\n",
    "\n",
    "6. $ : Indica el final de la cadena.\n",
    "\n",
    "En conjunto, este patrón hace lo siguiente:\n",
    "\n",
    "- Busca el último @ en la cadena.\n",
    "- Captura todo lo que viene después de ese @ hasta el final de la cadena.\n",
    "- Asegura que no haya otro @ después del que encontró.\n",
    "\n",
    "Por lo tanto, en una dirección de correo electrónico como \"usuario@dominio.com\", este patrón capturará \"dominio.com\".\n",
    "\n",
    "Es particularmente útil porque:\n",
    "- Funciona con subdominios (ej. \"usuario@sub.dominio.com\").\n",
    "- No se confunde con direcciones que puedan tener @ en la parte del usuario (ej. \"usuario+etiqueta@dominio.com\").\n",
    "- Captura el dominio completo, incluyendo el TLD (.com, .org, etc.).\n",
    "\n",
    "Este patrón es eficaz para extraer el dominio de una dirección de correo electrónico, independientemente de la complejidad de la parte del usuario o del dominio.\n",
    "\n",
    "Citations:\n",
    "[1] https://en.wikipedia.org/?title=Regular_expression\n",
    "[2] https://www3.ntu.edu.sg/home/ehchua/programming/howto/Regexe.html\n",
    "[3] https://www.thisdot.co/blog/understanding-regex\n",
    "[4] https://developer.mozilla.org/en-US/docs/Web/JavaScript/Guide/Regular_expressions.\n",
    "[5] https://coderpad.io/blog/development/the-complete-guide-to-regular-expressions-regex/\n",
    "[6] https://www.mobzystems.com/online/explain-regular-expression/\n",
    "[7] https://www.javatpoint.com/regex\n",
    "[8] https://regexr.com\n",
    "'''"
   ]
  },
  {
   "cell_type": "code",
   "execution_count": null,
   "metadata": {},
   "outputs": [],
   "source": []
  },
  {
   "cell_type": "code",
   "execution_count": null,
   "metadata": {},
   "outputs": [],
   "source": []
  },
  {
   "cell_type": "code",
   "execution_count": null,
   "metadata": {},
   "outputs": [],
   "source": []
  }
 ],
 "metadata": {
  "kernelspec": {
   "display_name": "Python 3",
   "language": "python",
   "name": "python3"
  },
  "language_info": {
   "codemirror_mode": {
    "name": "ipython",
    "version": 3
   },
   "file_extension": ".py",
   "mimetype": "text/x-python",
   "name": "python",
   "nbconvert_exporter": "python",
   "pygments_lexer": "ipython3",
   "version": "3.9.6"
  },
  "orig_nbformat": 4
 },
 "nbformat": 4,
 "nbformat_minor": 2
}
