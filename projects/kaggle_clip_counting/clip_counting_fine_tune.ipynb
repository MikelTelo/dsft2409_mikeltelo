{
 "cells": [
  {
   "cell_type": "code",
   "execution_count": null,
   "metadata": {},
   "outputs": [],
   "source": [
    "# Preprocesamiento de Datos\n",
    "import pandas as pd\n",
    "import numpy as np\n",
    "from sklearn.model_selection import train_test_split\n",
    "\n",
    "# Modelado con TensorFlow/Keras\n",
    "import tensorflow as tf\n",
    "from tensorflow.keras.models import load_model\n",
    "from tensorflow.keras.callbacks import EarlyStopping, ReduceLROnPlateau\n",
    "\n",
    "# Procesamiento de Imágenes\n",
    "import cv2\n",
    "import os\n",
    "\n",
    "# Visualización\n",
    "import matplotlib.pyplot as plt\n",
    "import seaborn as sns\n"
   ]
  },
  {
   "cell_type": "code",
   "execution_count": null,
   "metadata": {},
   "outputs": [],
   "source": [
    "# Rutas de Datos\n",
    "ruta_train_csv = r'C:\\Users\\mikel\\OneDrive\\Documentos\\TB-DS-BIO-23.09.24\\REPOSITORIOS\\Mikel\\clip_count\\train.csv'\n",
    "ruta_test_csv = r'C:\\Users\\mikel\\OneDrive\\Documentos\\TB-DS-BIO-23.09.24\\REPOSITORIOS\\Mikel\\clip_count\\test.csv'\n",
    "ruta_train_img = r'C:\\Users\\mikel\\OneDrive\\Documentos\\TB-DS-BIO-23.09.24\\REPOSITORIOS\\Mikel\\clip_count\\train'\n",
    "ruta_test_img = r'C:\\Users\\mikel\\OneDrive\\Documentos\\TB-DS-BIO-23.09.24\\REPOSITORIOS\\Mikel\\clip_count\\test'\n",
    "ruta_modelo = r'C:\\Users\\mikel\\OneDrive\\Documentos\\TB-DS-BIO-23.09.24\\REPOSITORIOS\\Mikel\\clip_count\\modelo_clip_count_final.keras'\n"
   ]
  },
  {
   "cell_type": "code",
   "execution_count": null,
   "metadata": {},
   "outputs": [],
   "source": [
    "# Cargar Datos CSV\n",
    "df_train = pd.read_csv(ruta_train_csv)\n",
    "df_test = pd.read_csv(ruta_test_csv)\n",
    "\n",
    "# Cargar y transformar imágenes\n",
    "def cargar_imagen(ruta):\n",
    "    img = cv2.imread(ruta, cv2.IMREAD_GRAYSCALE)\n",
    "    img = cv2.resize(img, (256, 256))\n",
    "    img = img / 255.0  # Normalizar entre 0 y 1\n",
    "    return img\n",
    "\n",
    "# Preparar datos de entrenamiento\n",
    "X = []\n",
    "y = []\n",
    "\n",
    "for index, row in df_train.iterrows():\n",
    "    ruta_img = os.path.join(ruta_train_img, f\"clips-{row['id']}.png\")\n",
    "    if os.path.exists(ruta_img):\n",
    "        X.append(cargar_imagen(ruta_img))\n",
    "        y.append(row['clip_count'])\n",
    "\n",
    "X = np.array(X, dtype=np.float32).reshape(-1, 256, 256, 1)\n",
    "y = np.array(y, dtype=np.int32)\n",
    "\n",
    "# Dividir en Train y Validation\n",
    "X_train, X_val, y_train, y_val = train_test_split(X, y, test_size=0.2, random_state=42)\n"
   ]
  },
  {
   "cell_type": "code",
   "execution_count": null,
   "metadata": {},
   "outputs": [],
   "source": [
    "# Cargar el Modelo\n",
    "modelo = load_model(ruta_modelo)\n",
    "modelo.summary()\n"
   ]
  },
  {
   "cell_type": "code",
   "execution_count": null,
   "metadata": {},
   "outputs": [],
   "source": [
    "# Compilar el modelo con una tasa de aprendizaje baja\n",
    "from tensorflow.keras.optimizers import Adam\n",
    "\n",
    "modelo.compile(\n",
    "    optimizer=Adam(learning_rate=1e-5),\n",
    "    loss='mean_squared_error',\n",
    "    metrics=[tf.keras.metrics.RootMeanSquaredError()]\n",
    ")\n",
    "\n",
    "# Callbacks\n",
    "early_stopping = EarlyStopping(\n",
    "    monitor='val_loss',\n",
    "    patience=3,\n",
    "    restore_best_weights=True,\n",
    "    verbose=1\n",
    ")\n",
    "\n",
    "reduce_lr = ReduceLROnPlateau(\n",
    "    monitor='val_loss',\n",
    "    factor=0.5,\n",
    "    patience=2,\n",
    "    min_lr=1e-6,\n",
    "    verbose=1\n",
    ")\n",
    "\n",
    "# Entrenar el modelo\n",
    "historial = modelo.fit(\n",
    "    X_train, y_train,\n",
    "    validation_data=(X_val, y_val),\n",
    "    epochs=10,\n",
    "    batch_size=64,\n",
    "    callbacks=[early_stopping, reduce_lr],\n",
    "    verbose=1\n",
    ")\n"
   ]
  },
  {
   "cell_type": "code",
   "execution_count": null,
   "metadata": {},
   "outputs": [],
   "source": [
    "# Cargar imágenes de prueba\n",
    "X_test = []\n",
    "ids = []\n",
    "\n",
    "for index, row in df_test.iterrows():\n",
    "    ruta_img = os.path.join(ruta_test_img, f\"clips-{row['id']}.png\")\n",
    "    if os.path.exists(ruta_img):\n",
    "        X_test.append(cargar_imagen(ruta_img))\n",
    "        ids.append(row['id'])\n",
    "\n",
    "X_test = np.array(X_test, dtype=np.float32).reshape(-1, 256, 256, 1)\n",
    "\n",
    "# Realizar predicciones\n",
    "predicciones = modelo.predict(X_test).flatten()\n"
   ]
  },
  {
   "cell_type": "code",
   "execution_count": null,
   "metadata": {},
   "outputs": [],
   "source": [
    "# Redondear predicciones\n",
    "predicciones = np.round(predicciones).astype(int)\n",
    "\n",
    "# Asegurarse de que los valores están en el rango válido (0-75)\n",
    "predicciones = np.clip(predicciones, 0, 75)\n"
   ]
  },
  {
   "cell_type": "code",
   "execution_count": null,
   "metadata": {},
   "outputs": [],
   "source": [
    "# Crear DataFrame de submission\n",
    "df_submission = pd.DataFrame({\n",
    "    'id': ids,\n",
    "    'clip_count': predicciones\n",
    "})\n",
    "\n",
    "# Guardar el archivo\n",
    "ruta_submission = r'C:\\Users\\mikel\\OneDrive\\Documentos\\TB-DS-BIO-23.09.24\\REPOSITORIOS\\Mikel\\dsft2409_mikeltelo\\projects\\kaggle_clip_counting\\submission_clip_count_finetune.csv'\n",
    "df_submission.to_csv(ruta_submission, index=False)\n",
    "\n",
    "print(f\"Archivo de submission guardado en: {ruta_submission}\")\n"
   ]
  }
 ],
 "metadata": {
  "language_info": {
   "name": "python"
  }
 },
 "nbformat": 4,
 "nbformat_minor": 2
}
