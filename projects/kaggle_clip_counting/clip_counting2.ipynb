{
 "cells": [
  {
   "cell_type": "code",
   "execution_count": 16,
   "metadata": {},
   "outputs": [],
   "source": [
    "# Procesamiento de imágenes\n",
    "import cv2 as cv\n",
    "import numpy as np\n",
    "import os\n",
    "\n",
    "# Manipulación de datos\n",
    "import pandas as pd\n",
    "from sklearn.model_selection import train_test_split\n",
    "\n",
    "# TensorFlow y Keras\n",
    "from tensorflow.keras import layers, models, callbacks\n",
    "import tensorflow.keras.backend as K\n",
    "import tensorflow as tf\n",
    "\n",
    "# Visualización\n",
    "import matplotlib.pyplot as plt\n"
   ]
  },
  {
   "cell_type": "code",
   "execution_count": 17,
   "metadata": {},
   "outputs": [],
   "source": [
    "# Definir RMSE (usando TensorFlow directamente)\n",
    "def rmse(y_true, y_pred):\n",
    "    return tf.sqrt(tf.reduce_mean(tf.square(y_true - y_pred)))\n"
   ]
  },
  {
   "cell_type": "code",
   "execution_count": 18,
   "metadata": {},
   "outputs": [],
   "source": [
    "# Rutas para los archivos CSV\n",
    "ruta_train_csv = r'C:\\Users\\mikel\\OneDrive\\Documentos\\TB-DS-BIO-23.09.24\\REPOSITORIOS\\Mikel\\clip_count\\train.csv'\n",
    "ruta_test_csv = r'C:\\Users\\mikel\\OneDrive\\Documentos\\TB-DS-BIO-23.09.24\\REPOSITORIOS\\Mikel\\clip_count\\test.csv'\n",
    "\n",
    "# Rutas para las imágenes\n",
    "ruta_train_img = r'C:\\Users\\mikel\\OneDrive\\Documentos\\TB-DS-BIO-23.09.24\\REPOSITORIOS\\Mikel\\clip_count\\train'\n",
    "ruta_test_img = r'C:\\Users\\mikel\\OneDrive\\Documentos\\TB-DS-BIO-23.09.24\\REPOSITORIOS\\Mikel\\clip_count\\test'\n"
   ]
  },
  {
   "cell_type": "code",
   "execution_count": 19,
   "metadata": {},
   "outputs": [],
   "source": [
    "def cleaning_img(img): \n",
    "    b, g, r = cv.split(img)\n",
    "    blur = cv.GaussianBlur(b, (3,3), cv.BORDER_DEFAULT)\n",
    "    _, thresh = cv.threshold(blur, 225, 255, cv.THRESH_BINARY)\n",
    "    thresh = 255 - thresh\n",
    "    canny = cv.Canny(thresh, 0, 25)\n",
    "    dilated = cv.dilate(canny, (15,15), iterations=2)\n",
    "    eroded = cv.erode(dilated, (7,7), iterations=1)\n",
    "    \n",
    "    # Eliminar líneas verticales\n",
    "    vertical_kernel = cv.getStructuringElement(cv.MORPH_RECT, (1, 100))\n",
    "    detected_lines_vertical = cv.morphologyEx(eroded, cv.MORPH_OPEN, vertical_kernel, iterations=1)\n",
    "    cnts_vertical, _ = cv.findContours(detected_lines_vertical, cv.RETR_EXTERNAL, cv.CHAIN_APPROX_SIMPLE)\n",
    "    \n",
    "    mask_vertical = np.zeros_like(eroded)\n",
    "    for cnt_vertical in cnts_vertical:\n",
    "        x, y, w, h = cv.boundingRect(cnt_vertical)\n",
    "        cv.rectangle(mask_vertical, (x, y), (x + w, y + h), 255, -1)\n",
    "        \n",
    "    mask_inverted_vertical = cv.bitwise_not(mask_vertical)\n",
    "    clean_img = cv.bitwise_and(eroded, eroded, mask=mask_inverted_vertical)\n",
    "    \n",
    "    return clean_img, len(cnts_vertical)\n"
   ]
  },
  {
   "cell_type": "code",
   "execution_count": 20,
   "metadata": {},
   "outputs": [],
   "source": [
    "def read_data(path):\n",
    "    X = []\n",
    "    num_clips_list = []\n",
    "    for img in os.listdir(path):\n",
    "        image = cv.imread(os.path.join(path, img))\n",
    "        if image is not None:\n",
    "            img_masked, num_clips = cleaning_img(image)\n",
    "            if img_masked is not None:\n",
    "                smallimage = cv.resize(img_masked, (96, 96))\n",
    "                smallimage = smallimage / 255.0  # Normalizar\n",
    "                X.append(smallimage)\n",
    "                num_clips_list.append(int(num_clips))\n",
    "    return np.array(X), np.array(num_clips_list)\n",
    "\n"
   ]
  },
  {
   "cell_type": "code",
   "execution_count": 21,
   "metadata": {},
   "outputs": [],
   "source": [
    "# Cargar datasets\n",
    "df_train = pd.read_csv(ruta_train_csv)\n",
    "df_test = pd.read_csv(ruta_test_csv)\n",
    "\n",
    "# Extraer etiquetas\n",
    "y_train = df_train['clip_count'].astype(\"float32\")\n",
    "\n",
    "# Leer imágenes\n",
    "X_train, y_train = read_data(ruta_train_img)\n",
    "X_test, _ = read_data(ruta_test_img)\n",
    "\n",
    "# Convertir etiquetas a float32 (¡Este es el cambio crítico!)\n",
    "y_train = y_train.astype('float32')"
   ]
  },
  {
   "cell_type": "code",
   "execution_count": 22,
   "metadata": {},
   "outputs": [
    {
     "name": "stdout",
     "output_type": "stream",
     "text": [
      "Train: (12000, 96, 96), Val: (3000, 96, 96), Test: (5000, 96, 96)\n"
     ]
    }
   ],
   "source": [
    "# Leer imágenes\n",
    "X_train, y_train = read_data(ruta_train_img)\n",
    "X_test, _ = read_data(ruta_test_img)\n",
    "\n",
    "# Dividir en Train/Validación (80% Train, 20% Val)\n",
    "X_train, X_val, y_train, y_val = train_test_split(X_train, y_train, test_size=0.2, random_state=42)\n",
    "print(f\"Train: {X_train.shape}, Val: {X_val.shape}, Test: {X_test.shape}\")\n"
   ]
  },
  {
   "cell_type": "code",
   "execution_count": 25,
   "metadata": {},
   "outputs": [],
   "source": [
    "# Usar directamente la métrica RMSE integrada\n",
    "from keras.metrics import RootMeanSquaredError\n",
    "\n",
    "# Modelo CNN\n",
    "model = models.Sequential([\n",
    "    layers.Flatten(input_shape=(96, 96)), \n",
    "    layers.Dense(128, activation='relu'),\n",
    "    layers.Dense(1, activation='linear')    \n",
    "])\n",
    "\n",
    "# Compilar modelo con RMSE integrada\n",
    "model.compile(optimizer='adam',\n",
    "              loss='mean_squared_error', \n",
    "              metrics=[RootMeanSquaredError(name='rmse')])\n",
    "\n"
   ]
  },
  {
   "cell_type": "code",
   "execution_count": 26,
   "metadata": {},
   "outputs": [],
   "source": [
    "# Convertir etiquetas a float32 (entrenamiento y validación)\n",
    "y_train = y_train.astype('float32')\n",
    "y_val = y_val.astype('float32')\n",
    "\n",
    "# Convertir imágenes a float32 si no lo están\n",
    "X_train = X_train.astype('float32')\n",
    "X_val = X_val.astype('float32')\n",
    "X_test = X_test.astype('float32')\n"
   ]
  },
  {
   "cell_type": "code",
   "execution_count": 27,
   "metadata": {},
   "outputs": [
    {
     "name": "stdout",
     "output_type": "stream",
     "text": [
      "Epoch 1/10\n",
      "\u001b[1m375/375\u001b[0m \u001b[32m━━━━━━━━━━━━━━━━━━━━\u001b[0m\u001b[37m\u001b[0m \u001b[1m4s\u001b[0m 8ms/step - loss: 3.6683 - rmse: 1.8856 - val_loss: 1.5197 - val_rmse: 1.2328\n",
      "Epoch 2/10\n",
      "\u001b[1m375/375\u001b[0m \u001b[32m━━━━━━━━━━━━━━━━━━━━\u001b[0m\u001b[37m\u001b[0m \u001b[1m3s\u001b[0m 8ms/step - loss: 1.1799 - rmse: 1.0851 - val_loss: 0.9772 - val_rmse: 0.9885\n",
      "Epoch 3/10\n",
      "\u001b[1m375/375\u001b[0m \u001b[32m━━━━━━━━━━━━━━━━━━━━\u001b[0m\u001b[37m\u001b[0m \u001b[1m3s\u001b[0m 8ms/step - loss: 0.5596 - rmse: 0.7480 - val_loss: 0.8611 - val_rmse: 0.9279\n",
      "Epoch 4/10\n",
      "\u001b[1m375/375\u001b[0m \u001b[32m━━━━━━━━━━━━━━━━━━━━\u001b[0m\u001b[37m\u001b[0m \u001b[1m3s\u001b[0m 8ms/step - loss: 0.3394 - rmse: 0.5825 - val_loss: 0.8278 - val_rmse: 0.9098\n",
      "Epoch 5/10\n",
      "\u001b[1m375/375\u001b[0m \u001b[32m━━━━━━━━━━━━━━━━━━━━\u001b[0m\u001b[37m\u001b[0m \u001b[1m3s\u001b[0m 8ms/step - loss: 0.2235 - rmse: 0.4727 - val_loss: 0.7932 - val_rmse: 0.8906\n",
      "Epoch 6/10\n",
      "\u001b[1m375/375\u001b[0m \u001b[32m━━━━━━━━━━━━━━━━━━━━\u001b[0m\u001b[37m\u001b[0m \u001b[1m3s\u001b[0m 8ms/step - loss: 0.1604 - rmse: 0.4005 - val_loss: 0.8049 - val_rmse: 0.8972\n",
      "Epoch 7/10\n",
      "\u001b[1m375/375\u001b[0m \u001b[32m━━━━━━━━━━━━━━━━━━━━\u001b[0m\u001b[37m\u001b[0m \u001b[1m3s\u001b[0m 8ms/step - loss: 0.1176 - rmse: 0.3429 - val_loss: 0.8290 - val_rmse: 0.9105\n",
      "Epoch 8/10\n",
      "\u001b[1m375/375\u001b[0m \u001b[32m━━━━━━━━━━━━━━━━━━━━\u001b[0m\u001b[37m\u001b[0m \u001b[1m3s\u001b[0m 8ms/step - loss: 0.1002 - rmse: 0.3162 - val_loss: 0.8446 - val_rmse: 0.9190\n"
     ]
    }
   ],
   "source": [
    "# Callbacks (early stopping para evitar sobreajuste)\n",
    "early_stopping = callbacks.EarlyStopping(monitor='val_loss', patience=3, restore_best_weights=True)\n",
    "\n",
    "# Entrenamiento del modelo\n",
    "history = model.fit(\n",
    "    X_train, y_train,\n",
    "    validation_data=(X_val, y_val),\n",
    "    epochs=10,\n",
    "    callbacks=[early_stopping]\n",
    ")\n",
    "\n"
   ]
  },
  {
   "cell_type": "code",
   "execution_count": 28,
   "metadata": {},
   "outputs": [
    {
     "name": "stdout",
     "output_type": "stream",
     "text": [
      "\u001b[1m94/94\u001b[0m \u001b[32m━━━━━━━━━━━━━━━━━━━━\u001b[0m\u001b[37m\u001b[0m \u001b[1m0s\u001b[0m 2ms/step - loss: 0.7731 - rmse: 0.8790\n",
      "Validation Loss: 0.7932\n",
      "Validation RMSE: 0.8906\n"
     ]
    }
   ],
   "source": [
    "# Evaluar el modelo en el conjunto de validación\n",
    "val_loss, val_rmse = model.evaluate(X_val, y_val)\n",
    "print(f'Validation Loss: {val_loss:.4f}')\n",
    "print(f'Validation RMSE: {val_rmse:.4f}')\n",
    "\n"
   ]
  },
  {
   "cell_type": "code",
   "execution_count": 30,
   "metadata": {},
   "outputs": [
    {
     "name": "stdout",
     "output_type": "stream",
     "text": [
      "\u001b[1m157/157\u001b[0m \u001b[32m━━━━━━━━━━━━━━━━━━━━\u001b[0m\u001b[37m\u001b[0m \u001b[1m0s\u001b[0m 2ms/step\n"
     ]
    }
   ],
   "source": [
    "# Realizar predicciones\n",
    "y_pred = model.predict(X_test)\n",
    "y_pred = y_pred.flatten().astype('float32')\n",
    "\n",
    "# Redondear las predicciones al entero más cercano\n",
    "y_pred = np.round(y_pred).astype('int32')\n"
   ]
  },
  {
   "cell_type": "code",
   "execution_count": 31,
   "metadata": {},
   "outputs": [
    {
     "name": "stdout",
     "output_type": "stream",
     "text": [
      "✅ Archivo de submission generado correctamente en: C:\\Users\\mikel\\OneDrive\\Documentos\\TB-DS-BIO-23.09.24\\REPOSITORIOS\\Mikel\\clip_count\\submission.csv\n"
     ]
    }
   ],
   "source": [
    "# Crear el archivo de submission con IDs y clip_count redondeados\n",
    "df_submission = pd.DataFrame({\n",
    "    'id': df_test['id'],\n",
    "    'clip_count': y_pred\n",
    "})\n",
    "\n",
    "# Guardar archivo\n",
    "ruta_submission = r'C:\\Users\\mikel\\OneDrive\\Documentos\\TB-DS-BIO-23.09.24\\REPOSITORIOS\\Mikel\\clip_count\\submission.csv'\n",
    "df_submission.to_csv(ruta_submission, index=False)\n",
    "\n",
    "print(f\"✅ Archivo de submission generado correctamente en: {ruta_submission}\")\n"
   ]
  }
 ],
 "metadata": {
  "kernelspec": {
   "display_name": "Python 3",
   "language": "python",
   "name": "python3"
  },
  "language_info": {
   "codemirror_mode": {
    "name": "ipython",
    "version": 3
   },
   "file_extension": ".py",
   "mimetype": "text/x-python",
   "name": "python",
   "nbconvert_exporter": "python",
   "pygments_lexer": "ipython3",
   "version": "3.9.6"
  }
 },
 "nbformat": 4,
 "nbformat_minor": 2
}
