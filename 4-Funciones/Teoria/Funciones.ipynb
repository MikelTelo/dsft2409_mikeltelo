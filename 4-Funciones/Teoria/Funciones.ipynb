{
 "cells": [
  {
   "cell_type": "markdown",
   "metadata": {},
   "source": [
    "![imagen](./img/python.jpg)"
   ]
  },
  {
   "cell_type": "markdown",
   "metadata": {},
   "source": [
    "# Funciones en Python\n",
    "\n",
    "En este Notebook tienes una guía completa para orientarte en el uso de funciones en Python.\n",
    "\n",
    "Se trata de bloques de código que encapsulan una serie de operaciones. Se usan para modular nuestros programas y evitar escribir código de más.\n",
    "\n",
    "1. [Definición, sintaxis y return](#1.-Definición,-sintaxis-y-return)\n",
    "2. [Argumentos posicionales](#2.-Argumentos-posicionales)\n",
    "3. [Argumentos variables](#3.-Argumentos-variables)\n",
    "4. [Argumentos keyword](#4.-Argumentos-keyword)\n",
    "5. [Recursividad](#5.-Recursividad)\n",
    "6. [Documentar funciones](#6.-Documentar-funciones)\n",
    "7. [Resumen](#7.-Resumen)"
   ]
  },
  {
   "cell_type": "markdown",
   "metadata": {},
   "source": [
    "## 1. Definición, sintaxis y return\n",
    "Mediante las **funciones** podemos encapsular código en formato entrada/salida. Por lo que si tienes un código repetitivo, que depende de ciertos inputs, las funciones pueden ser una buena solución.\n",
    "\n",
    "![imagen](./img/funciones.png)\n",
    "\n",
    "Es una manera de agrupar conjuntos de operaciones en módulos. **¿Cuándo usarlas?** Cuando tengamos varias operaciones que ejecutamos repetidamente en distintas partes del código. En ese caso, encapsulamos las operaciones en una función, y cada vez que haya que realizar tal operativa, llamamos a la función, y en una sola línea de código tenemos ejecutada esas operaciones.\n",
    "\n",
    "Hasta ahora hemos estado utilizando funciones *built-in*, para operaciones sencillas como `len()`, `sum()` o `max()`. En este Notebook aprenderas a crear tus propias funciones.\n",
    "\n",
    "La sintaxis es:\n",
    "> ```Python\n",
    "> def nombre_funcion(input):\n",
    ">    operaciones varias\n",
    ">    return output\n",
    "> ```\n",
    "\n",
    "Fíjate que sigue la **sintaxis de línea** vista en Notebooks anteriores. Además, todo lo que va después del `return` es ignorado, puesto que es la salida. En el `return` acaba la función. Ahora bien, eso no quiere decir que haya un único return. Si introducimos una sentencia `if/else`, podremos poner returns diferentes dependiendo de qué condición se cumpla. Vamos a crear nuestra primera función"
   ]
  },
  {
   "cell_type": "code",
   "execution_count": 1,
   "metadata": {},
   "outputs": [],
   "source": [
    "# Vamos a crear un conversor de km a millas\n",
    "def km_millas(distancia_km):\n",
    "    distancia_millas = distancia_km * 0.62\n",
    "    # print(distancia_millas)\n",
    "    return distancia_millas"
   ]
  },
  {
   "cell_type": "code",
   "execution_count": 2,
   "metadata": {},
   "outputs": [
    {
     "name": "stdout",
     "output_type": "stream",
     "text": [
      "0.496\n"
     ]
    }
   ],
   "source": [
    "millas = km_millas(0.8)\n",
    "print(millas)"
   ]
  },
  {
   "cell_type": "code",
   "execution_count": 3,
   "metadata": {},
   "outputs": [
    {
     "name": "stdout",
     "output_type": "stream",
     "text": [
      "6.2\n"
     ]
    }
   ],
   "source": [
    "print(km_millas(10))"
   ]
  },
  {
   "cell_type": "code",
   "execution_count": 4,
   "metadata": {},
   "outputs": [],
   "source": [
    "def suma(num1,num2):\n",
    "    total = num1 + num2\n",
    "    return total"
   ]
  },
  {
   "cell_type": "code",
   "execution_count": 5,
   "metadata": {},
   "outputs": [
    {
     "name": "stdout",
     "output_type": "stream",
     "text": [
      "las sumas nos han dado los siguientes valores 8 10 17\n"
     ]
    }
   ],
   "source": [
    "suma1 = suma(3,5)\n",
    "suma2 = suma(7,3)\n",
    "suma3 = suma(8,9)\n",
    "print('las sumas nos han dado los siguientes valores', suma1,suma2,suma3)"
   ]
  },
  {
   "cell_type": "code",
   "execution_count": 6,
   "metadata": {},
   "outputs": [],
   "source": [
    "def multiplica(a,b):\n",
    "    total =a*b\n",
    "    return total"
   ]
  },
  {
   "cell_type": "code",
   "execution_count": 7,
   "metadata": {},
   "outputs": [
    {
     "name": "stdout",
     "output_type": "stream",
     "text": [
      "9\n"
     ]
    }
   ],
   "source": [
    "mult1 = multiplica(3,3)\n",
    "print(mult1)"
   ]
  },
  {
   "cell_type": "code",
   "execution_count": 15,
   "metadata": {},
   "outputs": [],
   "source": [
    "def presenta_menu():\n",
    "    print(f\"'1' - sumar\")\n",
    "    print(f\"'2' - restar\")\n",
    "    print(f\"'3' - multiplicar\")\n",
    "    print(f\"'4' - dividir\")\n",
    "    print(f\"'5' - salir\")\n",
    "    opcion = input('elige opcion')\n",
    "    return opcion"
   ]
  },
  {
   "cell_type": "code",
   "execution_count": 16,
   "metadata": {},
   "outputs": [
    {
     "name": "stdout",
     "output_type": "stream",
     "text": [
      "'1' - sumar\n",
      "'2' - restar\n",
      "'3' - multiplicar\n",
      "'4' - dividir\n",
      "'5' - salir\n",
      "Opcion elegida 5\n"
     ]
    }
   ],
   "source": [
    "opcion = presenta_menu()\n",
    "print('Opcion elegida', opcion)\n"
   ]
  },
  {
   "cell_type": "code",
   "execution_count": null,
   "metadata": {},
   "outputs": [],
   "source": [
    "while True:\n",
    "    opcion = presenta_menu()\n",
    "    if opcion == '5':\n",
    "        break\n",
    "    elif opcion == '1':\n",
    "        numero1 = int(input('Inserta el primer numero'))\n",
    "        numero2 = int(input('insertael segundo numero'))\n",
    "        print(suma(numero1,numero2))"
   ]
  },
  {
   "cell_type": "code",
   "execution_count": null,
   "metadata": {},
   "outputs": [],
   "source": [
    "while True:\n",
    "    opcion = presenta_menu()\n",
    "    if opcion == '5':\n",
    "        break\n",
    "    elif opcion == '1':\n",
    "        opcio_sumar()\n",
    "    elif opcion == '2':\n",
    "        opcio_restar()\n",
    "    elif opcion == '3':\n",
    "        opcio_multiplicar()\n",
    "    elif opcion == '4':\n",
    "        opcio_dividir()\n",
    "        "
   ]
  },
  {
   "cell_type": "code",
   "execution_count": null,
   "metadata": {},
   "outputs": [],
   "source": [
    "crea calculadora o biblioteca con funciones "
   ]
  },
  {
   "cell_type": "code",
   "execution_count": null,
   "metadata": {},
   "outputs": [],
   "source": []
  },
  {
   "cell_type": "code",
   "execution_count": 1,
   "metadata": {},
   "outputs": [
    {
     "name": "stdout",
     "output_type": "stream",
     "text": [
      "\n",
      "--- Menú de Biblioteca ---\n",
      "1. Imprimir biblioteca\n",
      "2. Buscar libro por título\n",
      "3. Añadir libro\n",
      "4. Eliminar libro por autor\n",
      "5. Salir\n",
      "1. Título: Super, Autor: man, Año: 1800\n",
      "2. Título: mega, Autor: man, Año: 1900\n",
      "3. Título: ultra, Autor: mega, Año: 2000\n",
      "\n",
      "--- Menú de Biblioteca ---\n",
      "1. Imprimir biblioteca\n",
      "2. Buscar libro por título\n",
      "3. Añadir libro\n",
      "4. Eliminar libro por autor\n",
      "5. Salir\n",
      "Título: Super, Autor: man, Año: 1800\n",
      "\n",
      "--- Menú de Biblioteca ---\n",
      "1. Imprimir biblioteca\n",
      "2. Buscar libro por título\n",
      "3. Añadir libro\n",
      "4. Eliminar libro por autor\n",
      "5. Salir\n",
      "Libro 'pop' añadido con éxito.\n",
      "\n",
      "--- Menú de Biblioteca ---\n",
      "1. Imprimir biblioteca\n",
      "2. Buscar libro por título\n",
      "3. Añadir libro\n",
      "4. Eliminar libro por autor\n",
      "5. Salir\n",
      "Gracias por usar nuestros servicios. Adiós.\n"
     ]
    }
   ],
   "source": [
    "# Inicialización de la biblioteca con 3 libros\n",
    "biblioteca = [\n",
    "    {\"titulo\": \"Super\", \"autor\": \"man\", \"año\": 1800},\n",
    "    {\"titulo\": \"mega\", \"autor\": \"man\", \"año\": 1900},\n",
    "    {\"titulo\": \"ultra\", \"autor\": \"mega\", \"año\":2000}\n",
    "]\n",
    "\n",
    "# Función para mostrar el menú y manejar las opciones\n",
    "def menu():\n",
    "    while True:\n",
    "        print(\"\\n--- Menú de Biblioteca ---\")\n",
    "        print(\"1. Imprimir biblioteca\")\n",
    "        print(\"2. Buscar libro por título\")\n",
    "        print(\"3. Añadir libro\")\n",
    "        print(\"4. Eliminar libro por autor\")\n",
    "        print(\"5. Salir\")\n",
    "        \n",
    "        opcion = input(\"Selecciona una opción (1-5): \")\n",
    "\n",
    "        if opcion == '1':\n",
    "            imprimir_biblioteca()\n",
    "        elif opcion == '2':\n",
    "            buscar_libro_por_titulo()\n",
    "        elif opcion == '3':\n",
    "            anadir_libro()\n",
    "        elif opcion == '4':\n",
    "            eliminar_libro_por_autor()\n",
    "        elif opcion == '5':\n",
    "            print('Gracias por usar nuestros servicios. Adiós.')\n",
    "            break\n",
    "        else:\n",
    "            print(\"Opción no válida. Por favor, selecciona una opción entre 1 y 5.\")\n",
    "            \n",
    "# Función para imprimir la biblioteca\n",
    "def imprimir_biblioteca():\n",
    "    if len(biblioteca) == 0:\n",
    "        print(\"La biblioteca está vacía.\")\n",
    "    else:\n",
    "        for i, libro in enumerate(biblioteca):\n",
    "            print(f\"{i+1}. Título: {libro['titulo']}, Autor: {libro['autor']}, Año: {libro['año']}\")\n",
    "\n",
    "# Función para buscar un libro por título\n",
    "def buscar_libro_por_titulo():\n",
    "    titulo = input(\"Introduce el título del libro a buscar: \")\n",
    "    encontrado = False\n",
    "    for libro in biblioteca:\n",
    "        if libro[\"titulo\"].lower() == titulo.lower():\n",
    "            print(f\"Título: {libro['titulo']}, Autor: {libro['autor']}, Año: {libro['año']}\")\n",
    "            encontrado = True\n",
    "            break\n",
    "    if not encontrado:\n",
    "        print(\"No se encontró ningún libro con ese título.\")\n",
    "\n",
    "# Función para añadir un libro\n",
    "def anadir_libro():\n",
    "    titulo = input(\"Introduce el título del libro: \")\n",
    "    autor = input(\"Introduce el autor del libro: \")\n",
    "    try:\n",
    "        año = int(input(\"Introduce el año de publicación: \"))\n",
    "        nuevo_libro = {\"titulo\": titulo, \"autor\": autor, \"año\": año}\n",
    "        biblioteca.append(nuevo_libro)\n",
    "        print(f\"Libro '{titulo}' añadido con éxito.\")\n",
    "    except ValueError:\n",
    "        print(\"El año debe ser un número. No se añadió el libro.\")\n",
    "\n",
    "# Función para eliminar un libro por autor\n",
    "def eliminar_libro_por_autor():\n",
    "    autor = input(\"Introduce el autor del libro a eliminar: \")\n",
    "    libro_eliminado = False\n",
    "    for libro in biblioteca:\n",
    "        if libro[\"autor\"].lower() == autor.lower():\n",
    "            biblioteca.remove(libro)\n",
    "            libro_eliminado = True\n",
    "    if libro_eliminado:\n",
    "        print(f\"Los libros del autor '{autor}' han sido eliminados.\")\n",
    "    else:\n",
    "        print(f\"No se encontró ningún libro del autor '{autor}'.\")\n",
    "\n",
    "\n",
    "\n",
    "# Ejecutar el menú\n",
    "menu()\n"
   ]
  },
  {
   "cell_type": "code",
   "execution_count": 2,
   "metadata": {},
   "outputs": [
    {
     "name": "stdout",
     "output_type": "stream",
     "text": [
      "\n",
      "--- Menú de Biblioteca ---\n",
      "1. Imprimir biblioteca\n",
      "2. Buscar libro por título\n",
      "3. Añadir libro\n",
      "4. Eliminar libro por autor\n",
      "5. Salir\n",
      "1. Título: Super, Autor: man, Año: 1800\n",
      "2. Título: mega, Autor: man, Año: 1900\n",
      "3. Título: ultra, Autor: mega, Año: 2000\n",
      "\n",
      "\n",
      "--- Menú de Biblioteca ---\n",
      "1. Imprimir biblioteca\n",
      "2. Buscar libro por título\n",
      "3. Añadir libro\n",
      "4. Eliminar libro por autor\n",
      "5. Salir\n",
      "Título: Super, Autor: man, Año: 1800\n",
      "\n",
      "--- Menú de Biblioteca ---\n",
      "1. Imprimir biblioteca\n",
      "2. Buscar libro por título\n",
      "3. Añadir libro\n",
      "4. Eliminar libro por autor\n",
      "5. Salir\n",
      "Libro 'pep' añadido con éxito.\n",
      "\n",
      "--- Menú de Biblioteca ---\n",
      "1. Imprimir biblioteca\n",
      "2. Buscar libro por título\n",
      "3. Añadir libro\n",
      "4. Eliminar libro por autor\n",
      "5. Salir\n",
      "Se han eliminado 1 libro(s) del autor 'pop'.\n",
      "\n",
      "--- Menú de Biblioteca ---\n",
      "1. Imprimir biblioteca\n",
      "2. Buscar libro por título\n",
      "3. Añadir libro\n",
      "4. Eliminar libro por autor\n",
      "5. Salir\n",
      "1. Título: Super, Autor: man, Año: 1800\n",
      "2. Título: mega, Autor: man, Año: 1900\n",
      "3. Título: ultra, Autor: mega, Año: 2000\n",
      "\n",
      "\n",
      "--- Menú de Biblioteca ---\n",
      "1. Imprimir biblioteca\n",
      "2. Buscar libro por título\n",
      "3. Añadir libro\n",
      "4. Eliminar libro por autor\n",
      "5. Salir\n",
      "Gracias por usar nuestros servicios. Adiós.\n"
     ]
    }
   ],
   "source": [
    "# Inicialización de la biblioteca con 3 libros\n",
    "biblioteca = [\n",
    "    {\"titulo\": \"Super\", \"autor\": \"man\", \"año\": 1800},\n",
    "    {\"titulo\": \"mega\", \"autor\": \"man\", \"año\": 1900},\n",
    "    {\"titulo\": \"ultra\", \"autor\": \"mega\", \"año\": 2000}\n",
    "]\n",
    "\n",
    "# Función para mostrar el menú y manejar las opciones\n",
    "def menu():\n",
    "    while True:\n",
    "        print(\"\\n--- Menú de Biblioteca ---\")\n",
    "        print(\"1. Imprimir biblioteca\")\n",
    "        print(\"2. Buscar libro por título\")\n",
    "        print(\"3. Añadir libro\")\n",
    "        print(\"4. Eliminar libro por autor\")\n",
    "        print(\"5. Salir\")\n",
    "        \n",
    "        opcion = input(\"Selecciona una opción (1-5): \")\n",
    "\n",
    "        if opcion == '1':\n",
    "            imprimir_biblioteca()\n",
    "        elif opcion == '2':\n",
    "            buscar_libro_por_titulo()\n",
    "        elif opcion == '3':\n",
    "            anadir_libro()\n",
    "        elif opcion == '4':\n",
    "            eliminar_libro_por_autor()\n",
    "        elif opcion == '5':\n",
    "            print('Gracias por usar nuestros servicios. Adiós.')\n",
    "            break\n",
    "        else:\n",
    "            print(\"Opción no válida. Por favor, selecciona una opción entre 1 y 5.\")\n",
    "\n",
    "# Función para imprimir la biblioteca\n",
    "def imprimir_biblioteca():\n",
    "    if len(biblioteca) == 0:\n",
    "        print(\"La biblioteca está vacía.\")\n",
    "    else:\n",
    "        for i, libro in enumerate(biblioteca):\n",
    "            print(f\"{i+1}. Título: {libro['titulo']}, Autor: {libro['autor']}, Año: {libro['año']}\")\n",
    "        print()  # Espacio adicional para claridad\n",
    "\n",
    "# Función para buscar un libro por título\n",
    "def buscar_libro_por_titulo():\n",
    "    titulo = input(\"Introduce el título del libro a buscar: \")\n",
    "    encontrado = False\n",
    "    for libro in biblioteca:\n",
    "        if libro[\"titulo\"].lower() == titulo.lower():\n",
    "            print(f\"Título: {libro['titulo']}, Autor: {libro['autor']}, Año: {libro['año']}\")\n",
    "            encontrado = True\n",
    "            break\n",
    "    if not encontrado:\n",
    "        print(\"No se encontró ningún libro con ese título.\")\n",
    "\n",
    "# Función para añadir un libro\n",
    "def anadir_libro():\n",
    "    titulo = input(\"Introduce el título del libro: \")\n",
    "    autor = input(\"Introduce el autor del libro: \")\n",
    "    try:\n",
    "        año = int(input(\"Introduce el año de publicación: \"))\n",
    "        nuevo_libro = {\"titulo\": titulo, \"autor\": autor, \"año\": año}\n",
    "        biblioteca.append(nuevo_libro)\n",
    "        print(f\"Libro '{titulo}' añadido con éxito.\")\n",
    "    except ValueError:\n",
    "        print(\"El año debe ser un número. No se añadió el libro.\")\n",
    "\n",
    "# Función para eliminar libros por autor\n",
    "def eliminar_libro_por_autor():\n",
    "    autor = input(\"Introduce el autor del libro a eliminar: \")\n",
    "    libros_eliminados = [libro for libro in biblioteca if libro[\"autor\"].lower() == autor.lower()]\n",
    "    \n",
    "    if libros_eliminados:\n",
    "        for libro in libros_eliminados:\n",
    "            biblioteca.remove(libro)\n",
    "        print(f\"Se han eliminado {len(libros_eliminados)} libro(s) del autor '{autor}'.\")\n",
    "    else:\n",
    "        print(f\"No se encontró ningún libro del autor '{autor}'.\")\n",
    "\n",
    "# Ejecutar el menú\n",
    "menu()\n"
   ]
  },
  {
   "cell_type": "code",
   "execution_count": 15,
   "metadata": {},
   "outputs": [
    {
     "data": {
      "text/plain": [
       "<function __main__.km_millas(distancia_km)>"
      ]
     },
     "execution_count": 15,
     "metadata": {},
     "output_type": "execute_result"
    }
   ],
   "source": [
    "km_millas"
   ]
  },
  {
   "attachments": {},
   "cell_type": "markdown",
   "metadata": {},
   "source": [
    "Al ejecutar el código anterior, no corre nada, simplemente almacenamos en memoria la función para usarla posteriormente. **Ahora podremos llamar a la función tantas veces como queramos, desde cualquier parte del código.**"
   ]
  },
  {
   "cell_type": "code",
   "execution_count": 11,
   "metadata": {},
   "outputs": [
    {
     "name": "stdout",
     "output_type": "stream",
     "text": [
      "1.24\n",
      "3.1\n",
      "6.2\n"
     ]
    }
   ],
   "source": [
    "print(km_millas(2))\n",
    "print(km_millas(5))\n",
    "print(km_millas(10))"
   ]
  },
  {
   "cell_type": "markdown",
   "metadata": {},
   "source": [
    "Las funciones no tienen por qué llevar argumentos. Eso sí, **es obligatorio** poner los parentesis, tanto en la declaración, como luego al llamar la función."
   ]
  },
  {
   "cell_type": "code",
   "execution_count": 12,
   "metadata": {},
   "outputs": [
    {
     "data": {
      "text/plain": [
       "datetime.time(12, 56, 11, 963394)"
      ]
     },
     "execution_count": 12,
     "metadata": {},
     "output_type": "execute_result"
    }
   ],
   "source": [
    "from datetime import datetime\n",
    "datetime.now().time()"
   ]
  },
  {
   "cell_type": "code",
   "execution_count": 13,
   "metadata": {},
   "outputs": [
    {
     "name": "stdout",
     "output_type": "stream",
     "text": [
      "12:56:15.331013\n"
     ]
    }
   ],
   "source": [
    "now = datetime.now().time()\n",
    "print(now)"
   ]
  },
  {
   "cell_type": "code",
   "execution_count": 19,
   "metadata": {},
   "outputs": [],
   "source": [
    "from datetime import datetime\n",
    "\n",
    "def que_hora_es():\n",
    "    now = datetime.now().time()\n",
    "\n",
    "    print(now)\n",
    "    # return now"
   ]
  },
  {
   "cell_type": "code",
   "execution_count": 20,
   "metadata": {},
   "outputs": [
    {
     "name": "stdout",
     "output_type": "stream",
     "text": [
      "12:58:13.250046\n",
      "None\n"
     ]
    }
   ],
   "source": [
    "hora = que_hora_es()\n",
    "print(hora)"
   ]
  },
  {
   "cell_type": "code",
   "execution_count": 21,
   "metadata": {},
   "outputs": [
    {
     "name": "stdout",
     "output_type": "stream",
     "text": [
      "None\n"
     ]
    }
   ],
   "source": [
    "print(hora)"
   ]
  },
  {
   "cell_type": "markdown",
   "metadata": {},
   "source": [
    "**Tampoco tienen por qué llevar un `return`**. No siempre es necesario un output. En tal caso, devuelve `None`"
   ]
  },
  {
   "cell_type": "code",
   "execution_count": 22,
   "metadata": {},
   "outputs": [
    {
     "name": "stdout",
     "output_type": "stream",
     "text": [
      "12:58:25.311296\n",
      "None\n"
     ]
    }
   ],
   "source": [
    "from datetime import datetime\n",
    "\n",
    "def que_hora_es():\n",
    "    now = datetime.now().time()\n",
    "    print(now)\n",
    "\n",
    "print(que_hora_es())"
   ]
  },
  {
   "cell_type": "code",
   "execution_count": 23,
   "metadata": {},
   "outputs": [],
   "source": [
    "del now"
   ]
  },
  {
   "cell_type": "code",
   "execution_count": 24,
   "metadata": {},
   "outputs": [
    {
     "ename": "NameError",
     "evalue": "name 'now' is not defined",
     "output_type": "error",
     "traceback": [
      "\u001b[1;31m---------------------------------------------------------------------------\u001b[0m",
      "\u001b[1;31mNameError\u001b[0m                                 Traceback (most recent call last)",
      "Cell \u001b[1;32mIn[24], line 1\u001b[0m\n\u001b[1;32m----> 1\u001b[0m \u001b[43mnow\u001b[49m\n",
      "\u001b[1;31mNameError\u001b[0m: name 'now' is not defined"
     ]
    }
   ],
   "source": [
    "now"
   ]
  },
  {
   "cell_type": "code",
   "execution_count": 41,
   "metadata": {},
   "outputs": [
    {
     "name": "stdout",
     "output_type": "stream",
     "text": [
      "1\n"
     ]
    }
   ],
   "source": [
    "x,y,z = 1,2,3\n",
    "print(x)"
   ]
  },
  {
   "cell_type": "code",
   "execution_count": 19,
   "metadata": {},
   "outputs": [
    {
     "name": "stdout",
     "output_type": "stream",
     "text": [
      "variable a 1\n",
      "variable b 2\n",
      "variable c 3\n",
      "3\n"
     ]
    }
   ],
   "source": [
    "def variables():\n",
    "    a = 1 # Variable local\n",
    "    b = 2 # Variable local\n",
    "    c = a + b # Variable local\n",
    "    print(\"variable a\", a)\n",
    "    print(\"variable b\", b)\n",
    "    print(\"variable c\", c)\n",
    "    return c,a,b # Variable local\n",
    "\n",
    "resultado_c, r_a, r_b = variables() # Variable global\n",
    "print(resultado_c)\n",
    "#print(a)"
   ]
  },
  {
   "cell_type": "code",
   "execution_count": 23,
   "metadata": {},
   "outputs": [
    {
     "name": "stdout",
     "output_type": "stream",
     "text": [
      "3\n",
      "3 6 9\n"
     ]
    }
   ],
   "source": [
    "def variables_2():\n",
    "    n1 = 3\n",
    "    n2 = 6\n",
    "    n3 = 9\n",
    "    print(n1)\n",
    "    \n",
    "    return n1, n2, n3\n",
    "\n",
    "\n",
    "a,b,c = variables_2()\n",
    "print(a,b,c)\n",
    "#print(n1)"
   ]
  },
  {
   "cell_type": "code",
   "execution_count": 28,
   "metadata": {},
   "outputs": [
    {
     "ename": "NameError",
     "evalue": "name 'a' is not defined",
     "output_type": "error",
     "traceback": [
      "\u001b[1;31m---------------------------------------------------------------------------\u001b[0m",
      "\u001b[1;31mNameError\u001b[0m                                 Traceback (most recent call last)",
      "Cell \u001b[1;32mIn[28], line 1\u001b[0m\n\u001b[1;32m----> 1\u001b[0m \u001b[38;5;28mprint\u001b[39m(\u001b[43ma\u001b[49m)\n",
      "\u001b[1;31mNameError\u001b[0m: name 'a' is not defined"
     ]
    }
   ],
   "source": [
    "print(a)"
   ]
  },
  {
   "cell_type": "code",
   "execution_count": 27,
   "metadata": {},
   "outputs": [
    {
     "name": "stdout",
     "output_type": "stream",
     "text": [
      "1\n"
     ]
    }
   ],
   "source": [
    "print(r_a)"
   ]
  },
  {
   "cell_type": "markdown",
   "metadata": {},
   "source": [
    "También puedes poner varias salidas en el return, simplemente separándolas por comas. O si lo que quieres es un único elemento, agruparlos en una colección también puede ser otra opción."
   ]
  },
  {
   "cell_type": "code",
   "execution_count": 40,
   "metadata": {},
   "outputs": [
    {
     "name": "stdout",
     "output_type": "stream",
     "text": [
      "(datetime.time(13, 8, 27, 447968), datetime.date(2024, 2, 12))\n"
     ]
    }
   ],
   "source": [
    "def que_hora_es():\n",
    "    time = datetime.now().time()\n",
    "    date = datetime.now().date()\n",
    "    return time, date\n",
    "\n",
    "print(que_hora_es())"
   ]
  },
  {
   "cell_type": "code",
   "execution_count": 41,
   "metadata": {},
   "outputs": [
    {
     "name": "stdout",
     "output_type": "stream",
     "text": [
      "13:08:28.759717\n",
      "2024-02-12\n"
     ]
    }
   ],
   "source": [
    "hora, fecha = que_hora_es()\n",
    "print(hora)\n",
    "print(fecha)"
   ]
  },
  {
   "cell_type": "markdown",
   "metadata": {},
   "source": [
    "### Tipos de datos de los argumentos\n",
    "Lo que quieras: numeros, texto, listas, tuplas, diccionarios, objetos de clases que hayas definido..."
   ]
  },
  {
   "cell_type": "code",
   "execution_count": 27,
   "metadata": {},
   "outputs": [
    {
     "name": "stdout",
     "output_type": "stream",
     "text": [
      "hola 4 5.6 [5, 6, 7, 8]\n"
     ]
    },
    {
     "ename": "TypeError",
     "evalue": "funcion_argumentos_mixtos() missing 1 required positional argument: 'arg4'",
     "output_type": "error",
     "traceback": [
      "\u001b[1;31m---------------------------------------------------------------------------\u001b[0m",
      "\u001b[1;31mTypeError\u001b[0m                                 Traceback (most recent call last)",
      "Cell \u001b[1;32mIn[27], line 6\u001b[0m\n\u001b[0;32m      4\u001b[0m funcion_argumentos_mixtos(\u001b[38;5;124m'\u001b[39m\u001b[38;5;124mhola\u001b[39m\u001b[38;5;124m'\u001b[39m,\u001b[38;5;241m4\u001b[39m,\u001b[38;5;241m5.6\u001b[39m,[\u001b[38;5;241m5\u001b[39m,\u001b[38;5;241m6\u001b[39m,\u001b[38;5;241m7\u001b[39m,\u001b[38;5;241m8\u001b[39m])\n\u001b[0;32m      5\u001b[0m \u001b[38;5;66;03m#print(arg1)\u001b[39;00m\n\u001b[1;32m----> 6\u001b[0m \u001b[43mfuncion_argumentos_mixtos\u001b[49m\u001b[43m(\u001b[49m\u001b[38;5;124;43m'\u001b[39;49m\u001b[38;5;124;43mhola\u001b[39;49m\u001b[38;5;124;43m'\u001b[39;49m\u001b[43m,\u001b[49m\u001b[38;5;241;43m4\u001b[39;49m\u001b[43m,\u001b[49m\u001b[38;5;241;43m5\u001b[39;49m\u001b[43m)\u001b[49m\n",
      "\u001b[1;31mTypeError\u001b[0m: funcion_argumentos_mixtos() missing 1 required positional argument: 'arg4'"
     ]
    }
   ],
   "source": [
    "def funcion_argumentos_mixtos(arg1,arg2,arg3,arg4):\n",
    "    print(arg1,arg2,arg3,arg4)\n",
    "\n",
    "funcion_argumentos_mixtos('hola',4,5.6,[5,6,7,8])\n",
    "#print(arg1)\n",
    "funcion_argumentos_mixtos('hola',4,5)"
   ]
  },
  {
   "cell_type": "code",
   "execution_count": 42,
   "metadata": {},
   "outputs": [],
   "source": [
    "def recibe_mix(sssss, lista, diccionario):\n",
    "    print(lista)\n",
    "    # print(type(sssss))\n",
    "    # return sssss"
   ]
  },
  {
   "cell_type": "code",
   "execution_count": 43,
   "metadata": {},
   "outputs": [
    {
     "name": "stdout",
     "output_type": "stream",
     "text": [
      "esto es string\n"
     ]
    }
   ],
   "source": [
    "recibe_mix(True, \"esto es string\", 75)"
   ]
  },
  {
   "cell_type": "code",
   "execution_count": 44,
   "metadata": {},
   "outputs": [
    {
     "name": "stdout",
     "output_type": "stream",
     "text": [
      "esto es string\n"
     ]
    }
   ],
   "source": [
    "s = True\n",
    "l = \"esto es string\"\n",
    "d = 75\n",
    "\n",
    "recibe_mix(s, l, d)"
   ]
  },
  {
   "cell_type": "code",
   "execution_count": 42,
   "metadata": {},
   "outputs": [
    {
     "data": {
      "text/plain": [
       "True"
      ]
     },
     "execution_count": 42,
     "metadata": {},
     "output_type": "execute_result"
    }
   ],
   "source": [
    "s"
   ]
  },
  {
   "cell_type": "code",
   "execution_count": 46,
   "metadata": {},
   "outputs": [
    {
     "ename": "NameError",
     "evalue": "name 'sssss' is not defined",
     "output_type": "error",
     "traceback": [
      "\u001b[1;31m---------------------------------------------------------------------------\u001b[0m",
      "\u001b[1;31mNameError\u001b[0m                                 Traceback (most recent call last)",
      "Cell \u001b[1;32mIn[46], line 1\u001b[0m\n\u001b[1;32m----> 1\u001b[0m \u001b[43msssss\u001b[49m\n",
      "\u001b[1;31mNameError\u001b[0m: name 'sssss' is not defined"
     ]
    }
   ],
   "source": [
    "sssss"
   ]
  },
  {
   "cell_type": "markdown",
   "metadata": {},
   "source": [
    "<table align=\"left\">\n",
    " <tr><td width=\"80\"><img src=\"./img/error.png\" style=\"width:auto;height:auto\"></td>\n",
    "     <td style=\"text-align:left\">\n",
    "         <h3>ERRORES variables de la función</h3>\n",
    "         \n",
    " </td></tr>\n",
    "</table>"
   ]
  },
  {
   "cell_type": "code",
   "execution_count": 47,
   "metadata": {},
   "outputs": [
    {
     "name": "stdout",
     "output_type": "stream",
     "text": [
      "(datetime.time(13, 11, 26, 498209), datetime.date(2024, 2, 12))\n"
     ]
    },
    {
     "ename": "NameError",
     "evalue": "name 'date' is not defined",
     "output_type": "error",
     "traceback": [
      "\u001b[1;31m---------------------------------------------------------------------------\u001b[0m",
      "\u001b[1;31mNameError\u001b[0m                                 Traceback (most recent call last)",
      "Cell \u001b[1;32mIn[47], line 10\u001b[0m\n\u001b[0;32m      7\u001b[0m     \u001b[38;5;28;01mreturn\u001b[39;00m time, date\n\u001b[0;32m      9\u001b[0m \u001b[38;5;28mprint\u001b[39m(que_hora_es())\n\u001b[1;32m---> 10\u001b[0m \u001b[43mdate\u001b[49m\n",
      "\u001b[1;31mNameError\u001b[0m: name 'date' is not defined"
     ]
    }
   ],
   "source": [
    "# Todo lo que declaremos dentro de la función se crea UNICAMENTE para la función\n",
    "# Fuera de la misma, esas variables no existen\n",
    "\n",
    "def que_hora_es():\n",
    "    time = datetime.now().time()\n",
    "    date = datetime.now().date()\n",
    "    return time, date\n",
    "\n",
    "print(que_hora_es())\n",
    "date"
   ]
  },
  {
   "cell_type": "markdown",
   "metadata": {},
   "source": [
    "Se crea un namespace interno dentro de las funciones, es decir, que lo que declaremos dentro, se queda dentro. No lo podremos usar fuera. Además, ten en cuenta que todo lo que introduzcamos dentro de flujos de control (`if/else`, bucles...), nos vale para el resto de la función"
   ]
  },
  {
   "cell_type": "code",
   "execution_count": 34,
   "metadata": {},
   "outputs": [
    {
     "data": {
      "text/plain": [
       "'Error'"
      ]
     },
     "execution_count": 34,
     "metadata": {},
     "output_type": "execute_result"
    }
   ],
   "source": [
    "def numero_ifs(numero):\n",
    "    # out = 0\n",
    "    if numero == 1:\n",
    "        if numero == 1:\n",
    "            if numero == 1:\n",
    "                if numero == 1:\n",
    "                    out = 1\n",
    "    else:\n",
    "        out = \"Error\"\n",
    "    return out\n",
    "\n",
    "numero_ifs(2)"
   ]
  },
  {
   "cell_type": "code",
   "execution_count": 53,
   "metadata": {},
   "outputs": [
    {
     "ename": "UnboundLocalError",
     "evalue": "cannot access local variable 'out' where it is not associated with a value",
     "output_type": "error",
     "traceback": [
      "\u001b[1;31m---------------------------------------------------------------------------\u001b[0m",
      "\u001b[1;31mUnboundLocalError\u001b[0m                         Traceback (most recent call last)",
      "Cell \u001b[1;32mIn[53], line 1\u001b[0m\n\u001b[1;32m----> 1\u001b[0m \u001b[43mnumero_ifs\u001b[49m\u001b[43m(\u001b[49m\u001b[38;5;241;43m2\u001b[39;49m\u001b[43m)\u001b[49m\n",
      "Cell \u001b[1;32mIn[52], line 9\u001b[0m, in \u001b[0;36mnumero_ifs\u001b[1;34m(numero)\u001b[0m\n\u001b[0;32m      6\u001b[0m                 out \u001b[38;5;241m=\u001b[39m \u001b[38;5;241m1\u001b[39m\n\u001b[0;32m      7\u001b[0m \u001b[38;5;66;03m# else:\u001b[39;00m\n\u001b[0;32m      8\u001b[0m \u001b[38;5;66;03m#     out = \"Error\"\u001b[39;00m\n\u001b[1;32m----> 9\u001b[0m \u001b[38;5;28;01mreturn\u001b[39;00m \u001b[43mout\u001b[49m\n",
      "\u001b[1;31mUnboundLocalError\u001b[0m: cannot access local variable 'out' where it is not associated with a value"
     ]
    }
   ],
   "source": [
    "numero_ifs(2)"
   ]
  },
  {
   "cell_type": "code",
   "execution_count": 37,
   "metadata": {},
   "outputs": [
    {
     "ename": "TypeError",
     "evalue": "km_millas() missing 1 required positional argument: 'distancia_km'",
     "output_type": "error",
     "traceback": [
      "\u001b[1;31m---------------------------------------------------------------------------\u001b[0m",
      "\u001b[1;31mTypeError\u001b[0m                                 Traceback (most recent call last)",
      "Cell \u001b[1;32mIn[37], line 6\u001b[0m\n\u001b[0;32m      3\u001b[0m     distancia_millas \u001b[38;5;241m=\u001b[39m distancia_km \u001b[38;5;241m*\u001b[39m \u001b[38;5;241m0.62\u001b[39m\n\u001b[0;32m      4\u001b[0m     \u001b[38;5;28;01mreturn\u001b[39;00m distancia_millas\n\u001b[1;32m----> 6\u001b[0m \u001b[43mkm_millas\u001b[49m\u001b[43m(\u001b[49m\u001b[43m)\u001b[49m\n",
      "\u001b[1;31mTypeError\u001b[0m: km_millas() missing 1 required positional argument: 'distancia_km'"
     ]
    }
   ],
   "source": [
    "# Si no introducimos argumentos en una función que SI tiene argumentos, salta un error de este estilo\n",
    "def km_millas(distancia_km):\n",
    "    distancia_millas = distancia_km * 0.62\n",
    "    return distancia_millas\n",
    "\n",
    "km_millas()"
   ]
  },
  {
   "cell_type": "markdown",
   "metadata": {},
   "source": [
    "Cuidado también con la sintaxis de línea. Después de dos puntos `:`, viene todo el bloque de código tabulado, de la función"
   ]
  },
  {
   "cell_type": "markdown",
   "metadata": {},
   "source": [
    "<table align=\"left\">\n",
    " <tr><td width=\"80\"><img src=\"./img/ejercicio.png\" style=\"width:auto;height:auto\"></td>\n",
    "     <td style=\"text-align:left\">\n",
    "         <h3>Ejercicio. Crea tu propia función</h3>\n",
    "\n",
    "Crea tu propia función. En este caso, queremos implementar una función para saber si podremos ir de excursión a la montaña. Para ello, la función recibirá dos argumentos: tiempo, que será un booleano, y una lista con acompañantes. Si hace buen tiempo y al menos vienen dos personas conmigo -> return el primero que se apuntó a la lista, si solo hace buen tiempo -> return \"A la montaña solo o en pareja\", y si no, return \"No podemos ir\"\n",
    "         \n",
    " </td></tr>\n",
    "</table>"
   ]
  },
  {
   "cell_type": "code",
   "execution_count": 43,
   "metadata": {},
   "outputs": [],
   "source": [
    "def analisis_finde_montaña(tiempo,gente):\n",
    "    texto = \"Valor por defecto\"\n",
    "    if tiempo and len(gente)>=2:\n",
    "        texto = gente[0]\n",
    "    elif tiempo:\n",
    "        texto = 'A la montaña solo o en pareja'\n",
    "    else:\n",
    "        texto = 'No podemos ir'\n",
    "    return texto\n"
   ]
  },
  {
   "cell_type": "code",
   "execution_count": 46,
   "metadata": {},
   "outputs": [
    {
     "data": {
      "text/plain": [
       "'Maria'"
      ]
     },
     "execution_count": 46,
     "metadata": {},
     "output_type": "execute_result"
    }
   ],
   "source": [
    "analisis_finde_montaña(True, ['Maria','Jon','Aitor'])"
   ]
  },
  {
   "cell_type": "code",
   "execution_count": 47,
   "metadata": {},
   "outputs": [
    {
     "data": {
      "text/plain": [
       "'A la montaña solo o en pareja'"
      ]
     },
     "execution_count": 47,
     "metadata": {},
     "output_type": "execute_result"
    }
   ],
   "source": [
    "analisis_finde_montaña(True, ['Maria'])"
   ]
  },
  {
   "cell_type": "code",
   "execution_count": 49,
   "metadata": {},
   "outputs": [
    {
     "data": {
      "text/plain": [
       "'No podemos ir'"
      ]
     },
     "execution_count": 49,
     "metadata": {},
     "output_type": "execute_result"
    }
   ],
   "source": [
    "analisis_finde_montaña(False, ['Maria','Kontxi','German'])"
   ]
  },
  {
   "cell_type": "code",
   "execution_count": null,
   "metadata": {},
   "outputs": [],
   "source": []
  },
  {
   "cell_type": "code",
   "execution_count": 61,
   "metadata": {},
   "outputs": [
    {
     "name": "stdout",
     "output_type": "stream",
     "text": [
      "No hay plan de montaña\n"
     ]
    }
   ],
   "source": [
    "tiempo = False\n",
    "l_a = [\"María\", \"Javier\"]\n",
    "\n",
    "if tiempo and len(l_a) >= 2:\n",
    "    msg = l_a[0]\n",
    "elif tiempo:\n",
    "    msg = \"A la montaña solo o en pareja\"\n",
    "else:\n",
    "    msg = \"No hay plan de montaña\"\n",
    "\n",
    "print(msg)"
   ]
  },
  {
   "cell_type": "code",
   "execution_count": 72,
   "metadata": {},
   "outputs": [],
   "source": [
    "def plan_montaña(tiempo:bool, lista_amigos:list):\n",
    "    '''\n",
    "    Comunica el tipo de plan a la montaña en función al tiempo y a los acompañantes\n",
    "    '''\n",
    "    if tiempo and len(lista_amigos) >= 2:\n",
    "        msg = l_a[0]\n",
    "    elif tiempo:\n",
    "        msg = \"A la montaña solo o en pareja\"\n",
    "    else:\n",
    "        msg = \"No hay plan de montaña\"\n",
    "    return msg"
   ]
  },
  {
   "cell_type": "code",
   "execution_count": 68,
   "metadata": {},
   "outputs": [
    {
     "name": "stdout",
     "output_type": "stream",
     "text": [
      "A la montaña solo o en pareja\n"
     ]
    }
   ],
   "source": [
    "print(plan_montaña(True, [\"María\"]))"
   ]
  },
  {
   "cell_type": "code",
   "execution_count": 69,
   "metadata": {},
   "outputs": [
    {
     "name": "stdout",
     "output_type": "stream",
     "text": [
      "María\n"
     ]
    }
   ],
   "source": [
    "print(plan_montaña(True, [\"María\",\"Paco\"]))"
   ]
  },
  {
   "cell_type": "code",
   "execution_count": 70,
   "metadata": {},
   "outputs": [
    {
     "name": "stdout",
     "output_type": "stream",
     "text": [
      "No hay plan de montaña\n"
     ]
    }
   ],
   "source": [
    "print(plan_montaña(False, [\"María\",\"Paco\"]))"
   ]
  },
  {
   "cell_type": "markdown",
   "metadata": {},
   "source": [
    "## 2. Argumentos posicionales\n",
    "Ya sabes cómo crear funciones con un solo argumento. Tendrás la opción de implementarlas con todos los argumentos que quieras. Ahora bien, ten en cuenta dos cosas:\n",
    "\n",
    "1. **El orden** de los argumentos. Cuando llamemos a la función, tenemos que seguir el mismo orden de argumentos que en la declaración de la función.\n",
    "2. **Son obligatorios**. Si los declaramos en la función, después al llamarla, tenemos que poner todos sus argumentos. Luego veremos que hay una manera de poner argumentos opcionales."
   ]
  },
  {
   "cell_type": "code",
   "execution_count": 50,
   "metadata": {},
   "outputs": [
    {
     "data": {
      "text/plain": [
       "84.0"
      ]
     },
     "execution_count": 50,
     "metadata": {},
     "output_type": "execute_result"
    }
   ],
   "source": [
    "def multiplica(x1, x2, x3, x4):\n",
    "    return (x1*x2*x3)/x4\n",
    "\n",
    "multiplica(4,6,7,2)"
   ]
  },
  {
   "cell_type": "markdown",
   "metadata": {},
   "source": [
    "Fijate que los argumentos siguen un determinado orden: x1, x2, x3, x4. Cuando llamamos a la función, introduciremos 4 argumentos y la función los recogerá en ese orden. Asignará 4 a x1, 6 a x2, etc. Podemos también especificar el nombre del argumento en la llamada, lo que nos permite tener mayor flexibilidad en el orden."
   ]
  },
  {
   "cell_type": "code",
   "execution_count": 83,
   "metadata": {},
   "outputs": [
    {
     "data": {
      "text/plain": [
       "84.0"
      ]
     },
     "execution_count": 83,
     "metadata": {},
     "output_type": "execute_result"
    }
   ],
   "source": [
    "multiplica(x4 = 2,\n",
    "           x2 = 6,\n",
    "           x3 = 7,\n",
    "           x1 = 4)"
   ]
  },
  {
   "cell_type": "markdown",
   "metadata": {},
   "source": [
    "<table align=\"left\">\n",
    " <tr><td width=\"80\"><img src=\"./img/error.png\" style=\"width:auto;height:auto\"></td>\n",
    "     <td style=\"text-align:left\">\n",
    "         <h3>ERRORES Traza del error dentro de la función</h3>\n",
    "         \n",
    " </td></tr>\n",
    "</table>"
   ]
  },
  {
   "cell_type": "code",
   "execution_count": 75,
   "metadata": {},
   "outputs": [
    {
     "ename": "ZeroDivisionError",
     "evalue": "division by zero",
     "output_type": "error",
     "traceback": [
      "\u001b[1;31m---------------------------------------------------------------------------\u001b[0m",
      "\u001b[1;31mZeroDivisionError\u001b[0m                         Traceback (most recent call last)",
      "Cell \u001b[1;32mIn[75], line 1\u001b[0m\n\u001b[1;32m----> 1\u001b[0m \u001b[43mmultiplica\u001b[49m\u001b[43m(\u001b[49m\u001b[38;5;241;43m4\u001b[39;49m\u001b[43m,\u001b[49m\n\u001b[0;32m      2\u001b[0m \u001b[43m           \u001b[49m\u001b[38;5;241;43m6\u001b[39;49m\u001b[43m,\u001b[49m\n\u001b[0;32m      3\u001b[0m \u001b[43m           \u001b[49m\u001b[38;5;241;43m7\u001b[39;49m\u001b[43m,\u001b[49m\n\u001b[0;32m      4\u001b[0m \u001b[43m           \u001b[49m\u001b[38;5;241;43m0\u001b[39;49m\u001b[43m)\u001b[49m\n",
      "Cell \u001b[1;32mIn[74], line 2\u001b[0m, in \u001b[0;36mmultiplica\u001b[1;34m(x1, x2, x3, x4)\u001b[0m\n\u001b[0;32m      1\u001b[0m \u001b[38;5;28;01mdef\u001b[39;00m \u001b[38;5;21mmultiplica\u001b[39m(x1, x2, x3, x4):\n\u001b[1;32m----> 2\u001b[0m     \u001b[38;5;28;01mreturn\u001b[39;00m \u001b[43m(\u001b[49m\u001b[43mx1\u001b[49m\u001b[38;5;241;43m*\u001b[39;49m\u001b[43mx2\u001b[49m\u001b[38;5;241;43m*\u001b[39;49m\u001b[43mx3\u001b[49m\u001b[43m)\u001b[49m\u001b[38;5;241;43m/\u001b[39;49m\u001b[43mx4\u001b[49m\n",
      "\u001b[1;31mZeroDivisionError\u001b[0m: division by zero"
     ]
    }
   ],
   "source": [
    "multiplica(4,\n",
    "           6,\n",
    "           7,\n",
    "           0)"
   ]
  },
  {
   "cell_type": "code",
   "execution_count": 54,
   "metadata": {},
   "outputs": [
    {
     "name": "stdout",
     "output_type": "stream",
     "text": [
      "division by zero\n"
     ]
    }
   ],
   "source": [
    "try:\n",
    "    multiplica(4,\n",
    "           6,\n",
    "           7,\n",
    "           0)\n",
    "except ZeroDivisionError as e:\n",
    "    print(e)"
   ]
  },
  {
   "cell_type": "markdown",
   "metadata": {},
   "source": [
    "Fijate que aparece toda la traza del error, tanto la línea donde llamas a la función, como el error dentro de la función. Podemos solventar el error, introduciendo un bloque `try/except`"
   ]
  },
  {
   "cell_type": "code",
   "execution_count": 76,
   "metadata": {},
   "outputs": [
    {
     "name": "stdout",
     "output_type": "stream",
     "text": [
      "Error en la funcion\n",
      "division by zero\n"
     ]
    }
   ],
   "source": [
    "try:\n",
    "    print(multiplica(x1 = 4,\n",
    "           x2 = 6,\n",
    "           x3 = 7,\n",
    "           x4 = 0))\n",
    "    \n",
    "except ZeroDivisionError as e:\n",
    "    print(\"Error en la funcion\")\n",
    "    print(e)"
   ]
  },
  {
   "cell_type": "markdown",
   "metadata": {},
   "source": [
    "## 3. Argumentos variables\n",
    "En los ejemplos anteriores teníamos que fijar un número concreto de argumentos, pero hay ocasiones que no tenemos seguro cuántos argumentos son. Por suerte, las funciones de Python nos aportan esa flexibilidad mediante `*`\n",
    "\n",
    "Veamos cómo implementar una función multiplicadora con numero variable de argumentos"
   ]
  },
  {
   "cell_type": "code",
   "execution_count": 89,
   "metadata": {},
   "outputs": [
    {
     "name": "stdout",
     "output_type": "stream",
     "text": [
      "Hola mundo\n",
      "Hola mundo\n"
     ]
    }
   ],
   "source": [
    "print(\"Hola\", \"mundo\")\n",
    "print(\"Hola\" + \" \" + \"mundo\")"
   ]
  },
  {
   "cell_type": "code",
   "execution_count": 60,
   "metadata": {},
   "outputs": [
    {
     "name": "stdout",
     "output_type": "stream",
     "text": [
      "10\n",
      "\n",
      "420\n",
      "\n",
      "2\n"
     ]
    }
   ],
   "source": [
    "def multipl_var(*args):\n",
    "    \n",
    "    total = 1\n",
    "    for i in args:\n",
    "        total = total * i\n",
    "        #print(i)\n",
    "    return total\n",
    "    \n",
    "    \n",
    "print(multipl_var(2, 5))\n",
    "print()\n",
    "print(multipl_var(2, 5, 6, 7))\n",
    "print()\n",
    "print(multipl_var(2))"
   ]
  },
  {
   "cell_type": "code",
   "execution_count": 63,
   "metadata": {},
   "outputs": [
    {
     "data": {
      "text/plain": [
       "0"
      ]
     },
     "execution_count": 63,
     "metadata": {},
     "output_type": "execute_result"
    }
   ],
   "source": [
    "def suma_var(*args):\n",
    "    total=0\n",
    "    for arg in args:\n",
    "        total = total + arg\n",
    "    return total\n",
    "\n",
    "suma_var()"
   ]
  },
  {
   "cell_type": "code",
   "execution_count": 80,
   "metadata": {},
   "outputs": [
    {
     "name": "stdout",
     "output_type": "stream",
     "text": [
      "3 4 6 9 hola True\n",
      "(3, 4)\n"
     ]
    }
   ],
   "source": [
    "print(3,4,6,9,\"hola\",True)\n",
    "print((3,4))"
   ]
  },
  {
   "cell_type": "markdown",
   "metadata": {},
   "source": [
    "Ten en cuenta que `*args` es algo variable con X elementos. Como no sabemos a priori cuantos son, tendremos que recorrerlos con un `for`, y para cada argumento, aplicarle una operación. Por tanto, `*args` es un iterable, en concreto una **tupla**. Lo que le está dando la funcionalidad de \"argumentos variables\" es `*`, no `args`. Igual que ponemos `*args`, podemos poner `*argumentos`.\n",
    "\n",
    "Puedes combinar argumentos posicionales con los `*args`"
   ]
  },
  {
   "cell_type": "code",
   "execution_count": 81,
   "metadata": {},
   "outputs": [
    {
     "data": {
      "text/plain": [
       "420.0"
      ]
     },
     "execution_count": 81,
     "metadata": {},
     "output_type": "execute_result"
    }
   ],
   "source": [
    "# En este ejemplo, uso el ultimo argumento para dividir todo lo que habiamos multiplicado por este argumento\n",
    "def multipl_var_div(*args, div):   \n",
    "    total = 1\n",
    "    for i in args:\n",
    "        total = total * i\n",
    "    return total/div\n",
    "\n",
    "multipl_var_div(2,5,3,6,2,1,7,div = 6)"
   ]
  },
  {
   "cell_type": "code",
   "execution_count": 82,
   "metadata": {},
   "outputs": [
    {
     "data": {
      "text/plain": [
       "5.0"
      ]
     },
     "execution_count": 82,
     "metadata": {},
     "output_type": "execute_result"
    }
   ],
   "source": [
    "def multipl_var_div(div, *args):   \n",
    "    total = 1\n",
    "    for i in args:\n",
    "        total = total * i\n",
    "    return total/div\n",
    "\n",
    "multipl_var_div(6,2,5,3)"
   ]
  },
  {
   "cell_type": "markdown",
   "metadata": {},
   "source": [
    "<table align=\"left\">\n",
    " <tr><td width=\"80\"><img src=\"./img/error.png\" style=\"width:auto;height:auto\"></td>\n",
    "     <td style=\"text-align:left\">\n",
    "         <h3>ERRORES con argumentos variables</h3>\n",
    "         \n",
    " </td></tr>\n",
    "</table>"
   ]
  },
  {
   "cell_type": "markdown",
   "metadata": {},
   "source": [
    "Declara los argumentos variables al principio, y los fijos al final para evitar errores. Además, si los combinas, tendrás que concretar cuáles son los argumentos fijos"
   ]
  },
  {
   "cell_type": "code",
   "execution_count": 66,
   "metadata": {},
   "outputs": [
    {
     "data": {
      "text/plain": [
       "5.0"
      ]
     },
     "execution_count": 66,
     "metadata": {},
     "output_type": "execute_result"
    }
   ],
   "source": [
    "def multipl_var_div(div, *args):   \n",
    "    total = 1\n",
    "    for i in args:\n",
    "        total = total * i\n",
    "    return total/div\n",
    "\n",
    "multipl_var_div(6, 2,5,3)"
   ]
  },
  {
   "cell_type": "code",
   "execution_count": 67,
   "metadata": {},
   "outputs": [
    {
     "data": {
      "text/plain": [
       "7"
      ]
     },
     "execution_count": 67,
     "metadata": {},
     "output_type": "execute_result"
    }
   ],
   "source": [
    "def funcion_amaia(r1,r2,*args):\n",
    "    total = 0\n",
    "    for a in args:\n",
    "        total = total +a\n",
    "    total = total -r1 -r2\n",
    "    return total\n",
    "\n",
    "funcion_amaia(1,2,1,2,3,4)"
   ]
  },
  {
   "cell_type": "markdown",
   "metadata": {},
   "source": [
    "<table align=\"left\">\n",
    " <tr><td width=\"80\"><img src=\"./img/ejercicio.png\" style=\"width:auto;height:auto\"></td>\n",
    "     <td style=\"text-align:left\">\n",
    "         <h3>Ejercicio argumentos variables</h3>\n",
    "Crea una función que reciba un numero variable de marcas de coche, las concatene todas separandolas por \"+\" y devuelva ese string concatenado\n",
    "         \n",
    " </td></tr>\n",
    "</table>"
   ]
  },
  {
   "cell_type": "code",
   "execution_count": 77,
   "metadata": {},
   "outputs": [
    {
     "data": {
      "text/plain": [
       "'BMW + Seat + Audi + Mercedes + Nissan'"
      ]
     },
     "execution_count": 77,
     "metadata": {},
     "output_type": "execute_result"
    }
   ],
   "source": [
    "def marcas_coche(*marcas):\n",
    "    return ' + ' .join(marcas)\n",
    "\n",
    "marcas_coche('BMW','Seat','Audi', 'Mercedes', 'Nissan')\n"
   ]
  },
  {
   "cell_type": "code",
   "execution_count": null,
   "metadata": {},
   "outputs": [],
   "source": []
  },
  {
   "cell_type": "code",
   "execution_count": null,
   "metadata": {},
   "outputs": [],
   "source": []
  },
  {
   "cell_type": "code",
   "execution_count": null,
   "metadata": {},
   "outputs": [],
   "source": []
  },
  {
   "cell_type": "code",
   "execution_count": 90,
   "metadata": {},
   "outputs": [
    {
     "data": {
      "text/plain": [
       "'Ford+VW'"
      ]
     },
     "execution_count": 90,
     "metadata": {},
     "output_type": "execute_result"
    }
   ],
   "source": [
    "\"Ford\"+\"+\"+\"VW\""
   ]
  },
  {
   "cell_type": "code",
   "execution_count": 91,
   "metadata": {},
   "outputs": [],
   "source": [
    "def marcas_coche(*args):\n",
    "    return \"+\".join(args)"
   ]
  },
  {
   "cell_type": "code",
   "execution_count": 92,
   "metadata": {},
   "outputs": [
    {
     "data": {
      "text/plain": [
       "'Ford+VW'"
      ]
     },
     "execution_count": 92,
     "metadata": {},
     "output_type": "execute_result"
    }
   ],
   "source": [
    "marcas_coche(\"Ford\",\"VW\")"
   ]
  },
  {
   "cell_type": "code",
   "execution_count": 93,
   "metadata": {},
   "outputs": [
    {
     "data": {
      "text/plain": [
       "'Ford+VW+Peugeot+Citroen+Toyota'"
      ]
     },
     "execution_count": 93,
     "metadata": {},
     "output_type": "execute_result"
    }
   ],
   "source": [
    "marcas_coche(\"Ford\",\"VW\",\"Peugeot\",\"Citroen\",\"Toyota\")"
   ]
  },
  {
   "cell_type": "markdown",
   "metadata": {},
   "source": [
    "### Argumentos variables con clave-valor\n",
    "Tenemos también la opción de introducir un diccionario como argumentos, de esta forma, aunque el numero de argumentos sea variable, tendremos un inidicador, la clave, y el valor de cada clave. Se implementa con `**`"
   ]
  },
  {
   "cell_type": "code",
   "execution_count": 80,
   "metadata": {
    "collapsed": true,
    "jupyter": {
     "outputs_hidden": true
    },
    "tags": []
   },
   "outputs": [],
   "source": [
    "def movil(**kwargs):\n",
    "    print(kwargs)\n",
    "    print(type(kwargs))\n",
    "    \n",
    "    for key, value in kwargs.items():\n",
    "        print(key, \"=\", value)\n"
   ]
  },
  {
   "cell_type": "code",
   "execution_count": 81,
   "metadata": {},
   "outputs": [
    {
     "name": "stdout",
     "output_type": "stream",
     "text": [
      "{'Camara': '24MPx', 'Bateria': 10, 'Peso': 200, 'precio': 300, 'marca': 'Sony'}\n",
      "<class 'dict'>\n",
      "Camara = 24MPx\n",
      "Bateria = 10\n",
      "Peso = 200\n",
      "precio = 300\n",
      "marca = Sony\n"
     ]
    }
   ],
   "source": [
    "movil(Camara = \"24MPx\", Bateria = 10, Peso = 200, precio = 300, marca = 'Sony')"
   ]
  },
  {
   "cell_type": "markdown",
   "metadata": {},
   "source": [
    "### Combinar `*args` con `**kwargs`\n",
    "No hay ningun problema en tener un numero variable de argumentos y también argumentos clave-valor, todo ello en la misma función."
   ]
  },
  {
   "cell_type": "code",
   "execution_count": 96,
   "metadata": {},
   "outputs": [],
   "source": [
    "def movil(div, *args, **kargs):\n",
    "    \n",
    "    for i in args:\n",
    "        print(i)\n",
    "        \n",
    "    for key, value in kargs.items():\n",
    "        print(key, \"=\", value)\n",
    "    \n",
    "    print(div)"
   ]
  },
  {
   "cell_type": "code",
   "execution_count": 97,
   "metadata": {},
   "outputs": [
    {
     "name": "stdout",
     "output_type": "stream",
     "text": [
      "Movil bueno\n",
      "Le dura la bateria\n",
      "Camara = 24MPx\n",
      "Bateria = 10\n",
      "Peso = 200\n",
      "hola\n"
     ]
    }
   ],
   "source": [
    "movil(\"hola\",\n",
    "      \"Movil bueno\",\n",
    "      \"Le dura la bateria\",\n",
    "      Camara = \"24MPx\",\n",
    "      Bateria = 10,\n",
    "      Peso = 200)"
   ]
  },
  {
   "cell_type": "markdown",
   "metadata": {},
   "source": [
    "## 4. Argumentos keyword\n",
    "Existe otro tipo de argumentos que son los *keyword*. Se caracterizan porque llevan un valor por defecto, y por tanto, si no usamos dicho argumento en la llamada, dentro de la función tomará el valor que hayamos dejado por defecto.\n",
    "\n",
    "Ten en cuenta que estos argumentos se colocan **al final**"
   ]
  },
  {
   "cell_type": "code",
   "execution_count": 82,
   "metadata": {},
   "outputs": [
    {
     "name": "stdout",
     "output_type": "stream",
     "text": [
      "hola_como_te_llamas\n",
      "hola como te llamas\n"
     ]
    }
   ],
   "source": [
    "print('hola','como','te','llamas',sep='_')\n",
    "print('hola','como','te','llamas',sep=' ')"
   ]
  },
  {
   "cell_type": "code",
   "execution_count": 83,
   "metadata": {},
   "outputs": [
    {
     "data": {
      "text/plain": [
       "[6, 2, 1]"
      ]
     },
     "execution_count": 83,
     "metadata": {},
     "output_type": "execute_result"
    }
   ],
   "source": [
    "sorted([2,1,6], reverse=True)"
   ]
  },
  {
   "cell_type": "code",
   "execution_count": null,
   "metadata": {},
   "outputs": [],
   "source": [
    "print()"
   ]
  },
  {
   "cell_type": "code",
   "execution_count": 99,
   "metadata": {
    "collapsed": true,
    "jupyter": {
     "outputs_hidden": true
    },
    "tags": []
   },
   "outputs": [
    {
     "name": "stdout",
     "output_type": "stream",
     "text": [
      "Su pedido AAA se entregará el 18-07-2021\n",
      "Su pedido AAA se entregará el 18-07-2021\n",
      "Contacte con Att. Cliente\n"
     ]
    }
   ],
   "source": [
    "def venta_online(pedido, fecha_entrega, incidencia=False):\n",
    "    \n",
    "    if incidencia:\n",
    "        print(\"Contacte con Att. Cliente\")\n",
    "    \n",
    "    else:\n",
    "        print(\"Su pedido\", pedido, \"se entregará el\", fecha_entrega)\n",
    "\n",
    "venta_online(\"AAA\", \"18-07-2021\")\n",
    "venta_online(\"AAA\", \"18-07-2021\", incidencia=False)\n",
    "venta_online(\"AAA\", \"18-07-2021\", incidencia=True)"
   ]
  },
  {
   "cell_type": "code",
   "execution_count": 100,
   "metadata": {},
   "outputs": [
    {
     "name": "stdout",
     "output_type": "stream",
     "text": [
      "0\n"
     ]
    }
   ],
   "source": [
    "def test_keyword(var=[3,5]):\n",
    "    print(var[0])\n",
    "\n",
    "test_keyword([0,5,8])"
   ]
  },
  {
   "cell_type": "markdown",
   "metadata": {},
   "source": [
    "<table align=\"left\">\n",
    " <tr><td width=\"80\"><img src=\"./img/error.png\" style=\"width:auto;height:auto\"></td>\n",
    "     <td style=\"text-align:left\">\n",
    "         <h3>ERRORES con argumentos keyword</h3>\n",
    "         \n",
    " </td></tr>\n",
    "</table>"
   ]
  },
  {
   "cell_type": "code",
   "execution_count": 100,
   "metadata": {},
   "outputs": [
    {
     "ename": "SyntaxError",
     "evalue": "non-default argument follows default argument (2909647941.py, line 1)",
     "output_type": "error",
     "traceback": [
      "\u001b[1;36m  Cell \u001b[1;32mIn[100], line 1\u001b[1;36m\u001b[0m\n\u001b[1;33m    def venta_online(pedido, incidencia=False, fecha_entrega):\u001b[0m\n\u001b[1;37m                                               ^\u001b[0m\n\u001b[1;31mSyntaxError\u001b[0m\u001b[1;31m:\u001b[0m non-default argument follows default argument\n"
     ]
    }
   ],
   "source": [
    "def venta_online(pedido, incidencia=False, fecha_entrega):\n",
    "    \n",
    "    if incidencia:\n",
    "        print(\"Contacte con Att. Cliente\")\n",
    "    \n",
    "    else:\n",
    "        print(\"Su pedido\", pedido, \"se entregará el\", fecha_entrega)\n",
    "\n",
    "venta_online(\"AAA\", \"18-07-2021\")"
   ]
  },
  {
   "cell_type": "markdown",
   "metadata": {},
   "source": [
    "## 5. Recursividad\n",
    "Una función se puede llamar a si misma en la propia declaración, como si de un bucle se tratase. Es un concepto algo complejo, pero elegante a la hora de implementar nuestros programas. La única parte negativa es que cuesta un poco comprender qué es lo que hace la función. Como todo, tiene sus ventajas y sus inconvenientes.\n",
    "\n",
    "Calculemos el factorial de un numero *!n*"
   ]
  },
  {
   "cell_type": "code",
   "execution_count": 1,
   "metadata": {},
   "outputs": [
    {
     "data": {
      "text/plain": [
       "[0, 1, 2, 3, 4]"
      ]
     },
     "execution_count": 1,
     "metadata": {},
     "output_type": "execute_result"
    }
   ],
   "source": [
    "list(range(5))"
   ]
  },
  {
   "cell_type": "code",
   "execution_count": null,
   "metadata": {},
   "outputs": [],
   "source": [
    "# 5! = 5*4*3*2*1\n",
    "# 4! = 4*3*2*1"
   ]
  },
  {
   "cell_type": "code",
   "execution_count": 46,
   "metadata": {},
   "outputs": [
    {
     "data": {
      "text/plain": [
       "120"
      ]
     },
     "execution_count": 46,
     "metadata": {},
     "output_type": "execute_result"
    }
   ],
   "source": [
    "5*4*3*2*1"
   ]
  },
  {
   "cell_type": "code",
   "execution_count": 1,
   "metadata": {
    "collapsed": true,
    "jupyter": {
     "outputs_hidden": true
    },
    "tags": []
   },
   "outputs": [
    {
     "name": "stdout",
     "output_type": "stream",
     "text": [
      "1\n",
      "output 1\n",
      "2\n",
      "output 2\n",
      "3\n",
      "output 6\n",
      "4\n",
      "output 24\n",
      "5\n",
      "output 120\n",
      "\n",
      " 120\n"
     ]
    }
   ],
   "source": [
    "# Lo podriamos calcular con un bucle\n",
    "num_factorial = 5\n",
    "\n",
    "output = 1\n",
    "\n",
    "for i in range(num_factorial):\n",
    "    # print('i', i)\n",
    "    output = output * (i+1)\n",
    "    print(i+1)\n",
    "    print(\"output\", output)\n",
    "    \n",
    "print('\\n',output)"
   ]
  },
  {
   "cell_type": "markdown",
   "metadata": {},
   "source": [
    "5! = 5 * 4 * 3 * 2 * 1\n",
    "\n",
    "4! = 4 * 3 * 2 * 1\n",
    "\n",
    "5! = 5 * 4!\n",
    "\n",
    "4! = 4 * 3!\n",
    "\n",
    "factorial(n) = n * factorial(n-1)"
   ]
  },
  {
   "cell_type": "code",
   "execution_count": 4,
   "metadata": {},
   "outputs": [],
   "source": [
    "# O mediante una funcion recursiva\n",
    "x=5\n",
    "def factorial(x):\n",
    "    if x == 1:\n",
    "        return x\n",
    "    else:\n",
    "        return x * factorial(x-1)"
   ]
  },
  {
   "cell_type": "code",
   "execution_count": 5,
   "metadata": {},
   "outputs": [
    {
     "data": {
      "text/plain": [
       "24"
      ]
     },
     "execution_count": 5,
     "metadata": {},
     "output_type": "execute_result"
    }
   ],
   "source": [
    "factorial(4)\n",
    "4 * factorial(3)\n",
    "4 * 3 * factorial(2)\n",
    "4 * 3 * 2 * factorial(1)\n",
    "4 * 3 * 2 * 1"
   ]
  },
  {
   "cell_type": "markdown",
   "metadata": {},
   "source": [
    "![imagen](./img/factorial.png)\n",
    "\n",
    "![imagen](./img/recursivity.jpg)\n",
    "\n",
    "[Ejemplo paso a paso de cómo se calcula un factorial mediante funciones recursivas](https://www.programiz.com/python-programming/recursion#:~:text=Following%20is%20an%20example%20of,*5*6%20%3D%20720%20.)"
   ]
  },
  {
   "cell_type": "markdown",
   "metadata": {},
   "source": [
    "## 6. Documentar funciones\n",
    "Como ya vimos en el primer Notebook, hay que documentar el código en la medida de lo posible. En particular, es necesario documentar bien las funciones. porque muchas veces las importamos de otro sitio, las usamos porque funcionan, pero no sabemos muy bien que hacen. Es por ello, que en Python existe un atributo dentro de las funciones, módulos, métodos o clases, que permite acceder a \"sus comentarios\", a su documentación, donde nos indica qué es lo que hace.\n",
    "\n",
    "Este atributo especial se llama *docstring*, y se accede mediante `nombre_funcion.__doc__`"
   ]
  },
  {
   "cell_type": "code",
   "execution_count": 85,
   "metadata": {},
   "outputs": [
    {
     "name": "stdout",
     "output_type": "stream",
     "text": [
      "4.840000000000001\n",
      "\n",
      "    Funcion que multiplica los dos argumentos: x*y\n",
      "    Inputs:\n",
      "        x: float\n",
      "        y: float\n",
      "        \n",
      "    Output:\n",
      "        x * y: float\n",
      "    \n"
     ]
    }
   ],
   "source": [
    "def multiplica(x:float, y:float):\n",
    "    '''\n",
    "    Funcion que multiplica los dos argumentos: x*y\n",
    "    Inputs:\n",
    "        x: float\n",
    "        y: float\n",
    "        \n",
    "    Output:\n",
    "        x * y: float\n",
    "    '''\n",
    "    return float(x*y)\n",
    "\n",
    "print(multiplica(2.2,2.2))\n",
    "print(multiplica.__doc__)"
   ]
  },
  {
   "cell_type": "markdown",
   "metadata": {},
   "source": [
    "Los comentarios que se ponen pueden ser de línea o multilínea. Para funciones sencillas puede ser suficiente con una sola línea de comentario, pero si fuesen más complejas, el *docstring* debería llevar la siguiente información:\n",
    "* Descripción de la función\n",
    "* Argumentos de entrada: nombre, tipos y qué es lo que hacen\n",
    "* Argumentos de salida: nombre, tipos y qué son"
   ]
  },
  {
   "cell_type": "markdown",
   "metadata": {},
   "source": [
    "## 7. Resumen"
   ]
  },
  {
   "cell_type": "code",
   "execution_count": null,
   "metadata": {},
   "outputs": [],
   "source": [
    "# Una funcion tiene la siguiente sintaxis\n",
    "def km_millas(distancia):\n",
    "    millas = distancia * 0.62\n",
    "    return millas\n",
    "\n",
    "# La podemos llamar cuántas veces queramos\n",
    "print(km_millas(2))\n",
    "print(km_millas(5))\n",
    "print(km_millas(10))\n",
    "\n",
    "# Las funciones pueden tener argumentos posicionales\n",
    "def multipl(x1, x2, x3, x4):\n",
    "    return (x1 * x2 * x3) / x4\n",
    "\n",
    "multipl(4,6,7,2)\n",
    "\n",
    "# Argumentos variables\n",
    "def multipl_var(*args):\n",
    "    print(type(args))\n",
    "    mult_tot = 1\n",
    "    \n",
    "    for i in args:\n",
    "        mult_tot = mult_tot * i\n",
    "        \n",
    "    return mult_tot\n",
    "\n",
    "\n",
    "multipl_var(4,5,6,3)\n",
    "\n",
    "\n",
    "# Argumentos con formato clave valor\n",
    "def movil(**kwargs):\n",
    "    \n",
    "    print(type(kwargs))\n",
    "    for key, value in kwargs.items():\n",
    "        print(key, \"=\", value)\n",
    "        \n",
    "    return kwargs\n",
    "\n",
    "# Llamamos a la funcion\n",
    "print(movil(Camara = \"24MPx\",\n",
    "           Bateria = 10,\n",
    "           Peso = 200))\n",
    "\n",
    "\n",
    "# Argumentos keyword\n",
    "def venta_online(pedido, fecha_entrega, incidencia = False):\n",
    "    \n",
    "    if(incidencia):\n",
    "        print(\"Contacte con Att. Cliente\")\n",
    "        \n",
    "    else:\n",
    "        print(\"Su pedido\", pedido, \"se entregará el\", fecha_entrega)\n",
    "        \n",
    "venta_online(\"AAA\", \"20-07-2020\")\n",
    "venta_online(\"AAA\", \"20-07-2020\", True)\n",
    "\n",
    "\n",
    "\n",
    "# Las funciones se documentan con el atributo docstring\n",
    "def multiplica(x,y):\n",
    "    \"\"\"\n",
    "    Funcion que multiplca los dos argumentos: x*y\n",
    "    \"\"\"\n",
    "    print(\"Empieza la funcion\")\n",
    "    # Mas comentarios\n",
    "    \n",
    "    return x*y\n",
    "\n",
    "print(multiplica(2,2))\n",
    "print(multiplica.__doc__)"
   ]
  }
 ],
 "metadata": {
  "kernelspec": {
   "display_name": "Python 3.7.4 64-bit",
   "language": "python",
   "name": "python3"
  },
  "language_info": {
   "codemirror_mode": {
    "name": "ipython",
    "version": 3
   },
   "file_extension": ".py",
   "mimetype": "text/x-python",
   "name": "python",
   "nbconvert_exporter": "python",
   "pygments_lexer": "ipython3",
   "version": "3.9.6"
  },
  "vscode": {
   "interpreter": {
    "hash": "90139cb9a825bf3d63f6f6704e828dbd1ff7edbd4d0c6e906a71235d6efc74af"
   }
  }
 },
 "nbformat": 4,
 "nbformat_minor": 4
}
