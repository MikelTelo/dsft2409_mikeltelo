{
 "cells": [
  {
   "cell_type": "markdown",
   "metadata": {},
   "source": [
    "![imagen](./img/ejercicios.png)"
   ]
  },
  {
   "cell_type": "markdown",
   "metadata": {},
   "source": [
    "# Ejercicios funciones\n",
    "## Ejercicio 1\n",
    "Escribe una función que convierta números del 1 al 7 en nombres de los dias de la semana. La función constará de un único argumento numérico y una salida de tipo string"
   ]
  },
  {
   "cell_type": "code",
   "execution_count": 4,
   "metadata": {},
   "outputs": [
    {
     "name": "stdout",
     "output_type": "stream",
     "text": [
      "El día correspondiente al número 2 es: Martes\n",
      "El día correspondiente al número 3 es: Miércoles\n",
      "El día correspondiente al número 4 es: Jueves\n",
      "Gracias por usar el programa. ¡Hasta luego!\n"
     ]
    }
   ],
   "source": [
    "def conversor_nums_dias():\n",
    "    while True:\n",
    "        # Pedir un número del 1 al 7 o la opción de salir\n",
    "        entrada = input('Introduce un número del 1 al 7 para obtener su día de la semana (o escribe \"salir\" para terminar): ')\n",
    "        \n",
    "        if entrada.lower() == 'salir':\n",
    "            print(\"Gracias por usar el programa. ¡Hasta luego!\")\n",
    "            break  # Salir del bucle si el usuario escribe 'salir'\n",
    "        \n",
    "        try:\n",
    "            num = int(entrada)  # Convertir la entrada a número\n",
    "            \n",
    "            # Diccionario que asigna números a días de la semana\n",
    "            diccionario_nums_dias = {\n",
    "                1: 'Lunes', \n",
    "                2: 'Martes', \n",
    "                3: 'Miércoles', \n",
    "                4: 'Jueves', \n",
    "                5: 'Viernes', \n",
    "                6: 'Sábado', \n",
    "                7: 'Domingo'\n",
    "            }\n",
    "            \n",
    "            # Si el número está en el rango, imprimimos el día\n",
    "            if 1 <= num <= 7:\n",
    "                print(f\"El día correspondiente al número {num} es: {diccionario_nums_dias[num]}\")\n",
    "            else:\n",
    "                print(\"Debes introducir un número del 1 al 7.\")\n",
    "        \n",
    "        except ValueError:\n",
    "            # Si se introduce algo que no es un número, mostramos el mensaje de error\n",
    "            print(\"Debes introducir un número válido o escribir 'salir'.\")\n",
    "\n",
    "# Ejecutar la función\n",
    "conversor_nums_dias()\n",
    "\n",
    "\n"
   ]
  },
  {
   "cell_type": "markdown",
   "metadata": {},
   "source": [
    "## Ejercicio 2\n",
    "En el ejercicio 8 de flujos de control, creábamos una pirámide invertida de números desde el 5. Crea una función que replique el comportamiento de la pirámide, y utiliza un único parámetro de entrada de la función para determinar el número de filas de la pirámide."
   ]
  },
  {
   "cell_type": "code",
   "execution_count": 7,
   "metadata": {},
   "outputs": [
    {
     "name": "stdout",
     "output_type": "stream",
     "text": [
      "5 4 3 2 1 \n",
      "4 3 2 1 \n",
      "3 2 1 \n",
      "2 1 \n",
      "1 \n"
     ]
    }
   ],
   "source": [
    "x=5\n",
    "while x>=1:\n",
    "    for num in range (x,0,-1):\n",
    "        print (num, end=' ')\n",
    "    print()\n",
    "    x -=1"
   ]
  },
  {
   "cell_type": "code",
   "execution_count": null,
   "metadata": {},
   "outputs": [],
   "source": [
    "def filas_piramide(x):\n",
    "    while true:\n",
    "        numero_de_filas = input('Introduce un numero entero (1-10) para definir el numero de filas:')\n",
    "\n",
    "        if numero_de_filas.lower() == 'salir':\n",
    "            print(\"Gracias por usar el programa. ¡Hasta luego!\")\n",
    "            break  # Salir del bucle si el usuario escribe 'salir'\n",
    "\n",
    "        try:\n",
    "               \n",
    "            x = int(numero_de_filas)\n",
    "            while x>=1:\n",
    "                for num in range (x,0,-1):\n",
    "                    print (num, end=' ')\n",
    "                print()\n",
    "                x -=1\n",
    "\n",
    "        except ValueError:\n",
    "            # Si se introduce algo que no es un número, mostramos el mensaje de error\n",
    "            print(\"Debes introducir un número válido o escribir 'salir'.\")\n",
    "    \n",
    "filas_piramide(x)"
   ]
  },
  {
   "cell_type": "code",
   "execution_count": 13,
   "metadata": {},
   "outputs": [
    {
     "name": "stdout",
     "output_type": "stream",
     "text": [
      "6 5 4 3 2 1 \n",
      "5 4 3 2 1 \n",
      "4 3 2 1 \n",
      "3 2 1 \n",
      "2 1 \n",
      "1 \n",
      "4 3 2 1 \n",
      "3 2 1 \n",
      "2 1 \n",
      "1 \n",
      "3 2 1 \n",
      "2 1 \n",
      "1 \n",
      "2 1 \n",
      "1 \n",
      "Gracias por usar el programa. ¡Hasta luego!\n"
     ]
    }
   ],
   "source": [
    "def filas_piramide():\n",
    "    while True:  # Uso correcto de True (con mayúscula)\n",
    "        numero_de_filas = input('Introduce un número entero (1-10) para definir el número de filas o escribe \"salir\" para terminar: ')\n",
    "\n",
    "        if numero_de_filas.lower() == 'salir':\n",
    "            print(\"Gracias por usar el programa. ¡Hasta luego!\")\n",
    "            break  # Salir del bucle si el usuario escribe 'salir'\n",
    "\n",
    "        try:\n",
    "            x = int(numero_de_filas)  # Convertir el input a número entero\n",
    "            \n",
    "            if 1 <= x <= 10:  # Asegurarse de que el número esté entre 1 y 10\n",
    "                while x >= 1:\n",
    "                    for num in range(x, 0, -1):\n",
    "                        print(num, end=' ')\n",
    "                    print()  # Salto de línea después de cada fila\n",
    "                    x -= 1\n",
    "            else:\n",
    "                print(\"Debes introducir un número entre 1 y 10.\")\n",
    "        \n",
    "        except ValueError:\n",
    "            # Si se introduce algo que no es un número, mostramos el mensaje de error\n",
    "            print(\"Debes introducir un número válido o escribir 'salir'.\")\n",
    "\n",
    "# Llamada a la función\n",
    "filas_piramide()\n"
   ]
  },
  {
   "cell_type": "markdown",
   "metadata": {},
   "source": [
    "## Ejercicio 3\n",
    "Escribe una función que compare dos números. La función tiene dos argumentos y hay tres salidas posibles: que sean iguales, que el primero sea  mayor que el segundo, o que el segundo sea mayor que el primero"
   ]
  },
  {
   "cell_type": "code",
   "execution_count": 16,
   "metadata": {},
   "outputs": [
    {
     "ename": "SyntaxError",
     "evalue": "invalid syntax (3907926691.py, line 8)",
     "output_type": "error",
     "traceback": [
      "\u001b[1;36m  Cell \u001b[1;32mIn[16], line 8\u001b[1;36m\u001b[0m\n\u001b[1;33m    elif:\u001b[0m\n\u001b[1;37m        ^\u001b[0m\n\u001b[1;31mSyntaxError\u001b[0m\u001b[1;31m:\u001b[0m invalid syntax\n"
     ]
    }
   ],
   "source": [
    "def comparador_de_numeros():\n",
    "    while True:\n",
    "        numeros = input('Introduce 2 numeros enteros o salir para cerrar el programa:')\n",
    "\n",
    "        if numeros.lower() == 'salir':\n",
    "            print(\"Gracias por usar el programa. ¡Hasta luego!\")\n",
    "            break  # Salir del bucle si el usuario escribe 'salir'\n",
    "        elif:\n",
    "            int(numeros) = num_1\n",
    "            int(numeros) = num_2\n",
    "            num_1 == num_2\n",
    "            print('Los numeros son iguales')\n",
    "        elif:\n",
    "            int(numeros) = num_1\n",
    "            int(numeros) = num_2\n",
    "            num_1 < num_2\n",
    "            print(f'el numero: {num_1} es menor que {num_2}')\n",
    "        elif:\n",
    "            int(numeros) = num_1\n",
    "            int(numeros) = num_2\n",
    "            num_1 > num_2\n",
    "            print(f'el numero: {num_1} es mayor que {num_2}')\n",
    "        else:\n",
    "            numeros != int\n",
    "            print ('Debes introducir dos numeros enteros')\n",
    "\n",
    "comparador_de_numeros()\n",
    "\n",
    "\n",
    "\n",
    "        "
   ]
  },
  {
   "cell_type": "code",
   "execution_count": 17,
   "metadata": {},
   "outputs": [
    {
     "name": "stdout",
     "output_type": "stream",
     "text": [
      "Debes introducir dos números enteros válidos, separados por un espacio.\n",
      "Debes introducir dos números enteros válidos, separados por un espacio.\n",
      "Debes introducir dos números enteros válidos, separados por un espacio.\n",
      "El número 1 es menor que 2.\n",
      "El número 3 es menor que 6.\n",
      "El número 4 es mayor que 0.\n",
      "Los números son iguales.\n",
      "Gracias por usar el programa. ¡Hasta luego!\n"
     ]
    }
   ],
   "source": [
    "def comparador_de_numeros():\n",
    "    while True:\n",
    "        numeros = input('Introduce 2 números enteros separados por un espacio o escribe \"salir\" para cerrar el programa: ')\n",
    "\n",
    "        if numeros.lower() == 'salir':\n",
    "            print(\"Gracias por usar el programa. ¡Hasta luego!\")\n",
    "            break  # Salir del bucle si el usuario escribe 'salir'\n",
    "\n",
    "        try:\n",
    "            # Dividir la entrada en dos números\n",
    "            num_1, num_2 = map(int, numeros.split())\n",
    "\n",
    "            # Comparar los números\n",
    "            if num_1 == num_2:\n",
    "                print('Los números son iguales.')\n",
    "            elif num_1 < num_2:\n",
    "                print(f'El número {num_1} es menor que {num_2}.')\n",
    "            else:\n",
    "                print(f'El número {num_1} es mayor que {num_2}.')\n",
    "        \n",
    "        except ValueError:\n",
    "            # Si no se pueden convertir ambos valores a enteros, se muestra un mensaje de error\n",
    "            print(\"Debes introducir dos números enteros válidos, separados por un espacio.\")\n",
    "\n",
    "# Ejecutar la función\n",
    "comparador_de_numeros()\n"
   ]
  },
  {
   "attachments": {},
   "cell_type": "markdown",
   "metadata": {},
   "source": [
    "## Ejercicio 4\n",
    "Escribe una función que sea un contador de letras. En el primer argumento tienes que introducir un texto, y el segundo que sea una letra que contar. La función tiene que devolver un entero con el número de veces que aparece esa letra, tanto mayúscula, como minúscula"
   ]
  },
  {
   "cell_type": "code",
   "execution_count": 20,
   "metadata": {},
   "outputs": [
    {
     "name": "stdout",
     "output_type": "stream",
     "text": [
      "La letra 'l' aparece 1 veces en el texto.\n"
     ]
    }
   ],
   "source": [
    "def contador_de_letras():\n",
    "    # Pedimos al usuario que introduzca el texto y la letra\n",
    "    texto = input(\"Introduce un texto: \")\n",
    "    letra = input(\"Introduce la letra que deseas contar: \")\n",
    "    \n",
    "    # Convertimos tanto el texto como la letra a minúsculas\n",
    "    texto = texto.lower()\n",
    "    letra = letra.lower()\n",
    "\n",
    "    # Contamos cuántas veces aparece la letra en el texto\n",
    "    conteo = texto.count(letra)\n",
    "\n",
    "    # Devolvemos el resultado\n",
    "    print(f\"La letra '{letra}' aparece {conteo} veces en el texto.\")\n",
    "\n",
    "# Llamada a la función\n",
    "contador_de_letras()\n"
   ]
  },
  {
   "cell_type": "markdown",
   "metadata": {},
   "source": [
    "## Ejercicio 5\n",
    "Escribe una función que tenga un único argumento, un string. La salida de la función tiene que ser un diccionario con el conteo de todas las letras de ese string, siendo la clave la letra y el valor el conteo."
   ]
  },
  {
   "cell_type": "code",
   "execution_count": 32,
   "metadata": {},
   "outputs": [
    {
     "name": "stdout",
     "output_type": "stream",
     "text": [
      "{'p': 1, 'r': 2, 'o': 2, 'g': 1, 'a': 2, 'm': 1, 'c': 1, 'i': 1, 'n': 1}\n"
     ]
    }
   ],
   "source": [
    "def contar_letras(cadena):\n",
    "    conteo = {}  # Diccionario para almacenar el conteo de cada letra\n",
    "\n",
    "    for letra in cadena:\n",
    "        if letra in conteo:\n",
    "            conteo[letra] += 1  # Si la letra ya está en el diccionario, aumentar el conteo\n",
    "        else:\n",
    "            conteo[letra] = 1  # Si la letra no está, añadirla con un conteo de 1\n",
    "    \n",
    "    return conteo\n",
    "\n",
    "# Ejemplo de uso\n",
    "resultado = contar_letras(\"programacion\")\n",
    "print(resultado)\n"
   ]
  },
  {
   "cell_type": "code",
   "execution_count": 21,
   "metadata": {},
   "outputs": [
    {
     "name": "stdout",
     "output_type": "stream",
     "text": [
      "Conteo de letras: {'h': 1, 'o': 1, 'l': 1, 'a': 2, ' ': 1, 'm': 1, 'n': 1}\n"
     ]
    }
   ],
   "source": [
    "\n",
    "def contar_letras(cadena):\n",
    "    conteo = {}  # Diccionario para almacenar el conteo de cada letra\n",
    "\n",
    "    for letra in cadena:\n",
    "        if letra in conteo:\n",
    "            conteo[letra] += 1  # Si la letra ya está en el diccionario, aumentar el conteo\n",
    "        else:\n",
    "            conteo[letra] = 1  # Si la letra no está, añadirla con un conteo de 1\n",
    "    \n",
    "    return conteo\n",
    "\n",
    "# Solicitar al usuario que introduzca un texto\n",
    "texto = input(\"Introduce un texto: \")\n",
    "\n",
    "# Contar las letras del texto introducido por el usuario\n",
    "resultado = contar_letras(texto)\n",
    "\n",
    "# Imprimir el resultado\n",
    "print(\"Conteo de letras:\", resultado)\n",
    "\n",
    "\n"
   ]
  },
  {
   "cell_type": "markdown",
   "metadata": {},
   "source": [
    "## Ejercicio 6\n",
    "Escribir una función que añada o elimine elementos en una lista. La función necesita los siguientes argumentos:\n",
    "* lista: la lista donde se añadirán o eliminarán los elementos\n",
    "* comando: \"add\" o \"remove\"\n",
    "* elemento: Por defecto es None.\n",
    "\n",
    "Tendrá como salida la lista"
   ]
  },
  {
   "cell_type": "code",
   "execution_count": 117,
   "metadata": {},
   "outputs": [],
   "source": []
  },
  {
   "cell_type": "code",
   "execution_count": null,
   "metadata": {},
   "outputs": [],
   "source": []
  },
  {
   "cell_type": "code",
   "execution_count": null,
   "metadata": {},
   "outputs": [],
   "source": []
  },
  {
   "cell_type": "code",
   "execution_count": null,
   "metadata": {},
   "outputs": [],
   "source": []
  },
  {
   "cell_type": "code",
   "execution_count": null,
   "metadata": {},
   "outputs": [],
   "source": []
  },
  {
   "cell_type": "code",
   "execution_count": null,
   "metadata": {},
   "outputs": [],
   "source": []
  },
  {
   "cell_type": "markdown",
   "metadata": {},
   "source": [
    "## Ejercicio 7\n",
    "Crea una función que reciba un número arbitrario de palabras, y devuelva una frase completa, separando las palabras con espacios."
   ]
  },
  {
   "cell_type": "code",
   "execution_count": null,
   "metadata": {},
   "outputs": [],
   "source": []
  },
  {
   "cell_type": "code",
   "execution_count": 140,
   "metadata": {},
   "outputs": [],
   "source": []
  },
  {
   "cell_type": "code",
   "execution_count": null,
   "metadata": {},
   "outputs": [],
   "source": []
  },
  {
   "cell_type": "code",
   "execution_count": null,
   "metadata": {},
   "outputs": [],
   "source": []
  },
  {
   "cell_type": "markdown",
   "metadata": {},
   "source": [
    "## Ejercicio 8\n",
    "Escribe un programa que obtenga el enésimo número de la [serie de Fibonacci](https://es.wikipedia.org/wiki/Sucesi%C3%B3n_de_Fibonacci). Tienes que crear una función recursiva con un único argumento.\n",
    "\n",
    "```Python\n",
    "fibonacci(2) = 1\n",
    "fibonacci(4) = 3\n",
    "fibonacci(5) = 5\n",
    "fibonacci(8) = 21\n",
    "```"
   ]
  },
  {
   "cell_type": "markdown",
   "metadata": {},
   "source": [
    "fibonacci(n) = fibonacci(n-1) + fibonacci(n-2)"
   ]
  },
  {
   "cell_type": "code",
   "execution_count": 10,
   "metadata": {},
   "outputs": [],
   "source": []
  },
  {
   "cell_type": "code",
   "execution_count": null,
   "metadata": {},
   "outputs": [],
   "source": []
  },
  {
   "cell_type": "code",
   "execution_count": null,
   "metadata": {},
   "outputs": [],
   "source": []
  },
  {
   "cell_type": "code",
   "execution_count": null,
   "metadata": {},
   "outputs": [],
   "source": []
  },
  {
   "cell_type": "code",
   "execution_count": null,
   "metadata": {},
   "outputs": [],
   "source": []
  },
  {
   "cell_type": "code",
   "execution_count": null,
   "metadata": {},
   "outputs": [],
   "source": []
  },
  {
   "attachments": {},
   "cell_type": "markdown",
   "metadata": {},
   "source": [
    "## Ejercicio 9\n",
    "Define en una única celda las siguientes funciones:\n",
    "* Función que calcule el área de un cuadrado\n",
    "* Función que calcule el área de un triángulo\n",
    "* Función que calcule el área de un círculo\n",
    "\n",
    "En otra celda, calcular el area de:\n",
    "* Dos círculos de radio 10 + un triángulo de base 3 y altura 7\n",
    "* Un cuadrado de lado = 10 + 3 círculos (uno de radio = 4 y los otros dos de radio = 6) + 5 triángulos de base = 2 + altura = 4"
   ]
  },
  {
   "cell_type": "code",
   "execution_count": 143,
   "metadata": {},
   "outputs": [],
   "source": []
  },
  {
   "cell_type": "code",
   "execution_count": 152,
   "metadata": {},
   "outputs": [],
   "source": []
  },
  {
   "cell_type": "code",
   "execution_count": null,
   "metadata": {},
   "outputs": [],
   "source": []
  },
  {
   "cell_type": "markdown",
   "metadata": {},
   "source": [
    "## Ejercicio 10\n",
    "\n",
    "Guarda las funciones de estos ejercicios en un fichero llamado `funciones.py` e importalas desde este jupyter notebook para probar que puedes hacer uso de ellas."
   ]
  },
  {
   "cell_type": "code",
   "execution_count": null,
   "metadata": {},
   "outputs": [],
   "source": []
  }
 ],
 "metadata": {
  "kernelspec": {
   "display_name": "Python 3.7.4 64-bit",
   "language": "python",
   "name": "python3"
  },
  "language_info": {
   "codemirror_mode": {
    "name": "ipython",
    "version": 3
   },
   "file_extension": ".py",
   "mimetype": "text/x-python",
   "name": "python",
   "nbconvert_exporter": "python",
   "pygments_lexer": "ipython3",
   "version": "3.12.7"
  },
  "vscode": {
   "interpreter": {
    "hash": "90139cb9a825bf3d63f6f6704e828dbd1ff7edbd4d0c6e906a71235d6efc74af"
   }
  }
 },
 "nbformat": 4,
 "nbformat_minor": 4
}
