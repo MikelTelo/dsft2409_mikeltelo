{
 "cells": [
  {
   "cell_type": "markdown",
   "metadata": {},
   "source": [
    "![imagen](./img/ejercicios.png)"
   ]
  },
  {
   "cell_type": "markdown",
   "metadata": {},
   "source": [
    "## Ejercicio 1\n",
    "Dada la siguiente lista:\n",
    "> ```ejer_1 = [1,2,3,4,5]```\n",
    "\n",
    "Inviértela para que quede de la siguiente manera\n",
    "> ```ejer_1 = [5,4,3,2,1]```"
   ]
  },
  {
   "cell_type": "code",
   "execution_count": 1,
   "metadata": {},
   "outputs": [
    {
     "name": "stdout",
     "output_type": "stream",
     "text": [
      "[5, 4, 3, 2, 1]\n"
     ]
    }
   ],
   "source": [
    "ejer_1 = [1,2,3,4,5]\n",
    "ejer_1.sort(reverse=True)\n",
    "print(ejer_1)"
   ]
  },
  {
   "cell_type": "markdown",
   "metadata": {},
   "source": [
    "## Ejercicio 2\n",
    "Eleva todos los elementos de la lista al cuadrado\n",
    "> ```ejer_2 = [1,2,3,4,5]```"
   ]
  },
  {
   "cell_type": "code",
   "execution_count": 4,
   "metadata": {},
   "outputs": [
    {
     "data": {
      "text/plain": [
       "[1, 4, 9, 16, 25]"
      ]
     },
     "execution_count": 4,
     "metadata": {},
     "output_type": "execute_result"
    }
   ],
   "source": [
    "ejer_2 = [1,2,3,4,5]\n",
    "ejer_2 = [num**2 for num in ejer_2]\n",
    "ejer_2"
   ]
  },
  {
   "cell_type": "markdown",
   "metadata": {},
   "source": [
    "## Ejercicio 3\n",
    "Crea una lista nueva con todas las combinaciones de las siguientes dos listas:\n",
    "> ```ejer_3_1 = [\"Hola\", \"amigo\"]```\n",
    ">\n",
    "> ```ejer_3_2 = [\"Que\", \"tal\"]```\n",
    "\n",
    "Obten el siguiente output:\n",
    "\n",
    "```['Hola Que', 'Hola tal', 'amigo Que', 'amigo tal']```"
   ]
  },
  {
   "cell_type": "code",
   "execution_count": 1,
   "metadata": {},
   "outputs": [
    {
     "name": "stdout",
     "output_type": "stream",
     "text": [
      "['Hola Que', 'Hola tal', 'amigo Que', 'amigo tal']\n"
     ]
    }
   ],
   "source": [
    "ejer_3_1 = [\"Hola\", \"amigo\"]\n",
    "ejer_3_2 = [\"Que\", \"tal\"]\n",
    "\n",
    "# Lista vacía para almacenar las combinaciones\n",
    "combinaciones = []\n",
    "\n",
    "# Usar bucles anidados para generar todas las combinaciones\n",
    "for palabra1 in ejer_3_1:\n",
    "    for palabra2 in ejer_3_2:\n",
    "        combinaciones.append(palabra1 + \" \" + palabra2)\n",
    "\n",
    "# Imprimir la lista con las combinaciones\n",
    "print(combinaciones)\n"
   ]
  },
  {
   "attachments": {},
   "cell_type": "markdown",
   "metadata": {},
   "source": [
    "## Ejercicio 4\n",
    "Dada la siguiente lista, encuentra por el índice el valor 45 y sustitúyelo por el 0\n",
    "> ```ejer_4 = [20, 47, 19, 29, 45, 67, 78, 90]```"
   ]
  },
  {
   "cell_type": "code",
   "execution_count": 2,
   "metadata": {},
   "outputs": [
    {
     "name": "stdout",
     "output_type": "stream",
     "text": [
      "[20, 47, 19, 29, 0, 67, 78, 90]\n"
     ]
    }
   ],
   "source": [
    "ejer_4 = [20, 47, 19, 29, 45, 67, 78, 90]\n",
    "\n",
    "# Encontrar el índice del valor 45\n",
    "indice = ejer_4.index(45)\n",
    "\n",
    "# Sustituir el valor en el índice encontrado por 0\n",
    "ejer_4[indice] = 0\n",
    "\n",
    "# Imprimir la lista actualizada\n",
    "print(ejer_4)\n"
   ]
  },
  {
   "cell_type": "markdown",
   "metadata": {},
   "source": [
    "## Ejercicio 5\n",
    "Dada la siguiente lista, elimina todos los valores iguales a 3\n",
    "> ```ejer_5 = [3, 20, 3, 47, 19, 3, 29, 45, 67, 78, 90, 3, 3]```\n",
    "\n",
    "TIP: No intentes eliminar elementos sobre la lista que estás iterando. Haz una copia con `ejer_5.copy()`."
   ]
  },
  {
   "cell_type": "code",
   "execution_count": 5,
   "metadata": {},
   "outputs": [
    {
     "name": "stdout",
     "output_type": "stream",
     "text": [
      "[20, 47, 19, 29, 45, 67, 78, 90]\n"
     ]
    }
   ],
   "source": [
    "ejer_5 = [3, 20, 3, 47, 19, 3, 29, 45, 67, 78, 90, 3, 3]\n",
    "\n",
    "# Hacemos una copia de la lista\n",
    "ejer_5_copy = ejer_5.copy()\n",
    "\n",
    "# Eliminamos todos los valores 3 de la copia de la lista\n",
    "ejer_5_copy = [num for num in ejer_5_copy if num != 3]\n",
    "\n",
    "# Imprimir la lista actualizada\n",
    "print(ejer_5_copy)\n"
   ]
  },
  {
   "attachments": {},
   "cell_type": "markdown",
   "metadata": {},
   "source": [
    "## Ejercicio 6\n",
    "1. Crea una tupla con 3 elementos\n",
    "2. Crea otra tupla con un elemento y comprueba su tipo\n",
    "3. Crea una tupla con elementos de diferentes tipos\n",
    "4. Imprime por pantalla el primer y último elemento de la tupla del apartado 3. Usa `len` para el último\n",
    "5. Añade un elemento a la tupla del apartado 3.\n",
    "6. Eliminar un elemento de la tupla del apartado 5, que se encuentre más o menos en la mitad.\n",
    "7. Convierte la tupla del apartado 5 en una lista"
   ]
  },
  {
   "cell_type": "code",
   "execution_count": 6,
   "metadata": {},
   "outputs": [
    {
     "name": "stdout",
     "output_type": "stream",
     "text": [
      "<class 'tuple'>\n",
      "<class 'tuple'>\n"
     ]
    }
   ],
   "source": [
    "ejer_6_1 = (1,2,3)\n",
    "ejer_6_2 = (4,)\n",
    "ejer_6_3 = (\"a\",1.5,True)\n",
    "print(type(ejer_6_2))\n",
    "print(type(ejer_6_3))"
   ]
  },
  {
   "cell_type": "code",
   "execution_count": 10,
   "metadata": {},
   "outputs": [
    {
     "name": "stdout",
     "output_type": "stream",
     "text": [
      "a\n",
      "True\n"
     ]
    }
   ],
   "source": [
    "print(ejer_6_3[0])\n",
    "print(ejer_6_3[len(ejer_6_3)-1])"
   ]
  },
  {
   "cell_type": "code",
   "execution_count": 11,
   "metadata": {},
   "outputs": [
    {
     "name": "stdout",
     "output_type": "stream",
     "text": [
      "Tupla modificada: ('a', 1.5, True, 'nuevo_elemento')\n"
     ]
    }
   ],
   "source": [
    "# Convertir la tupla en lista\n",
    "ejer_6_3_lista = list(ejer_6_3)\n",
    "\n",
    "# Añadir un elemento\n",
    "ejer_6_3_lista.append(\"nuevo_elemento\")\n",
    "\n",
    "# Convertir de nuevo a tupla\n",
    "ejer_6_3_modificada = tuple(ejer_6_3_lista)\n",
    "\n",
    "print(\"Tupla modificada:\", ejer_6_3_modificada)\n"
   ]
  },
  {
   "cell_type": "code",
   "execution_count": 12,
   "metadata": {},
   "outputs": [
    {
     "name": "stdout",
     "output_type": "stream",
     "text": [
      "Tupla después de eliminar el elemento del medio: ('a', 1.5, 'nuevo_elemento')\n"
     ]
    }
   ],
   "source": [
    "# Convertir la tupla a lista\n",
    "ejer_6_3_lista = list(ejer_6_3_modificada)\n",
    "\n",
    "# Eliminar el elemento del medio\n",
    "indice_medio = len(ejer_6_3_lista) // 2\n",
    "elemento_eliminado = ejer_6_3_lista.pop(indice_medio)\n",
    "\n",
    "# Convertir de nuevo a tupla\n",
    "ejer_6_3_modificada = tuple(ejer_6_3_lista)\n",
    "\n",
    "print(\"Tupla después de eliminar el elemento del medio:\", ejer_6_3_modificada)"
   ]
  },
  {
   "cell_type": "code",
   "execution_count": 13,
   "metadata": {},
   "outputs": [
    {
     "name": "stdout",
     "output_type": "stream",
     "text": [
      "Lista resultante: ['a', 1.5, 'nuevo_elemento']\n"
     ]
    }
   ],
   "source": [
    "# Convertir la tupla a lista\n",
    "ejer_6_3_lista = list(ejer_6_3_modificada)\n",
    "\n",
    "print(\"Lista resultante:\", ejer_6_3_lista)\n"
   ]
  },
  {
   "attachments": {},
   "cell_type": "markdown",
   "metadata": {},
   "source": [
    "## Ejercicio 7\n",
    "Concatena todos los elementos de la tupla en un único string. Para ello utiliza el metodo `.join()` de los Strings\n",
    "> ```ejer_7 = (\"cien\", \"cañones\", \"por\", \"banda\")```\n",
    "\n",
    "Resultado: `cien cañones por banda`"
   ]
  },
  {
   "cell_type": "code",
   "execution_count": 16,
   "metadata": {},
   "outputs": [
    {
     "name": "stdout",
     "output_type": "stream",
     "text": [
      "cien cañones por banda\n"
     ]
    }
   ],
   "source": [
    "ejer_7 = (\"cien\", \"cañones\", \"por\", \"banda\")\n",
    "\n",
    "# Usar el método join para concatenar los elementos de la tupla con un espacio entre ellos\n",
    "resultado = \" \".join(ejer_7)\n",
    "\n",
    "# Imprimir el resultado\n",
    "print(resultado)\n"
   ]
  },
  {
   "cell_type": "markdown",
   "metadata": {},
   "source": [
    "## Ejercicio 8\n",
    "Obten el tercer elemento de la siguiente tupla, y el tercero empezando por la cola\n",
    "> ```ejer_8 = (3, 20, 3, 47, 19, 3, 29, 45, 67, 78, 90, 3, 3)```"
   ]
  },
  {
   "cell_type": "code",
   "execution_count": 18,
   "metadata": {},
   "outputs": [
    {
     "name": "stdout",
     "output_type": "stream",
     "text": [
      "3 90\n"
     ]
    }
   ],
   "source": [
    "ejer_8 = (3, 20, 3, 47, 19, 3, 29, 45, 67, 78, 90, 3, 3)\n",
    "print(ejer_8[2],ejer_8[-3])"
   ]
  },
  {
   "attachments": {},
   "cell_type": "markdown",
   "metadata": {},
   "source": [
    "## Ejercicio 9\n",
    "1. ¿Cuántas veces se repite el 3 en la siguiente tupla?\n",
    "2. Crea una tupla nueva con los elementos desde la posición 5 a la 10.\n",
    "3. ¿Cuántos elementos tiene la tupla `ejer_9`?\n",
    "4. Comprueba si el numero 60 está en la tupla\n",
    "> ```ejer_9 = (3, 20, 3, 47, 19, 3, 29, 45, 67, 78, 90, 3, 3, 5, 2, 4, 7, 9, 4, 2, 4, 3, 3, 4, 6, 7)```"
   ]
  },
  {
   "cell_type": "code",
   "execution_count": 19,
   "metadata": {},
   "outputs": [
    {
     "name": "stdout",
     "output_type": "stream",
     "text": [
      "El número 3 se repite 7 veces.\n",
      "Tupla nueva (elementos desde la posición 5 a la 10): (3, 29, 45, 67, 78, 90)\n",
      "La tupla 'ejer_9' tiene 26 elementos.\n",
      "¿El número 60 está en la tupla? False\n"
     ]
    }
   ],
   "source": [
    "ejer_9 = (3, 20, 3, 47, 19, 3, 29, 45, 67, 78, 90, 3, 3, 5, 2, 4, 7, 9, 4, 2, 4, 3, 3, 4, 6, 7)\n",
    "\n",
    "# 1. ¿Cuántas veces se repite el 3 en la tupla?\n",
    "repeticiones_3 = ejer_9.count(3)\n",
    "print(f\"El número 3 se repite {repeticiones_3} veces.\")\n",
    "\n",
    "# 2. Crear una tupla nueva con los elementos desde la posición 5 a la 10\n",
    "tupla_nueva = ejer_9[5:11]\n",
    "print(f\"Tupla nueva (elementos desde la posición 5 a la 10): {tupla_nueva}\")\n",
    "\n",
    "# 3. ¿Cuántos elementos tiene la tupla 'ejer_9'?\n",
    "num_elementos = len(ejer_9)\n",
    "print(f\"La tupla 'ejer_9' tiene {num_elementos} elementos.\")\n",
    "\n",
    "# 4. Comprueba si el número 60 está en la tupla\n",
    "numero_60_existe = 60 in ejer_9\n",
    "print(f\"¿El número 60 está en la tupla? {numero_60_existe}\")\n"
   ]
  },
  {
   "attachments": {},
   "cell_type": "markdown",
   "metadata": {},
   "source": [
    "## Ejercicio 10\n",
    "1. Convierte la tupla del ejercicio 9 en una lista\n",
    "2. Convierte la tupla del ejercicio 9 en un set\n",
    "3. Convierte la tupla del ejercicio 9 en un diccionario. Usa también los índices"
   ]
  },
  {
   "cell_type": "code",
   "execution_count": 20,
   "metadata": {},
   "outputs": [
    {
     "name": "stdout",
     "output_type": "stream",
     "text": [
      "Lista convertida: [3, 20, 3, 47, 19, 3, 29, 45, 67, 78, 90, 3, 3, 5, 2, 4, 7, 9, 4, 2, 4, 3, 3, 4, 6, 7]\n",
      "Set convertido (sin duplicados): {2, 3, 67, 5, 4, 7, 6, 9, 45, 78, 47, 19, 20, 90, 29}\n",
      "Diccionario convertido (índices como claves): {0: 3, 1: 20, 2: 3, 3: 47, 4: 19, 5: 3, 6: 29, 7: 45, 8: 67, 9: 78, 10: 90, 11: 3, 12: 3, 13: 5, 14: 2, 15: 4, 16: 7, 17: 9, 18: 4, 19: 2, 20: 4, 21: 3, 22: 3, 23: 4, 24: 6, 25: 7}\n"
     ]
    }
   ],
   "source": [
    "ejer_9 = (3, 20, 3, 47, 19, 3, 29, 45, 67, 78, 90, 3, 3, 5, 2, 4, 7, 9, 4, 2, 4, 3, 3, 4, 6, 7)\n",
    "\n",
    "# 1. Convierte la tupla en una lista\n",
    "lista_ejer_9 = list(ejer_9)\n",
    "print(f\"Lista convertida: {lista_ejer_9}\")\n",
    "\n",
    "# 2. Convierte la tupla en un set (conjunto)\n",
    "set_ejer_9 = set(ejer_9)\n",
    "print(f\"Set convertido (sin duplicados): {set_ejer_9}\")\n",
    "\n",
    "# 3. Convierte la tupla en un diccionario, usando los índices como claves\n",
    "diccionario_ejer_9 = {i: ejer_9[i] for i in range(len(ejer_9))}\n",
    "print(f\"Diccionario convertido (índices como claves): {diccionario_ejer_9}\")\n"
   ]
  },
  {
   "cell_type": "markdown",
   "metadata": {},
   "source": [
    "## Ejercicio 11\n",
    "Convierte la siguiente lista en un diccionario\n",
    "> ```ejer_11 = [(\"x\", 1), (\"x\", 2), (\"x\", 3), (\"y\", 1), (\"y\", 2), (\"z\", 1)]```\n",
    "\n",
    "TIP: Puedes usar dos variables de control en un bucle `for`. Una por cada valor de las tuplas."
   ]
  },
  {
   "cell_type": "code",
   "execution_count": 21,
   "metadata": {},
   "outputs": [
    {
     "name": "stdout",
     "output_type": "stream",
     "text": [
      "{'x': [1, 2, 3], 'y': [1, 2], 'z': [1]}\n"
     ]
    }
   ],
   "source": [
    "ejer_11 = [(\"x\", 1), (\"x\", 2), (\"x\", 3), (\"y\", 1), (\"y\", 2), (\"z\", 1)]\n",
    "\n",
    "# Inicializamos un diccionario vacío\n",
    "diccionario = {}\n",
    "\n",
    "# Usamos un bucle for para recorrer las tuplas\n",
    "for clave, valor in ejer_11:\n",
    "    if clave in diccionario:\n",
    "        diccionario[clave].append(valor)  # Si la clave ya existe, añadimos el valor a la lista\n",
    "    else:\n",
    "        diccionario[clave] = [valor]  # Si la clave no existe, creamos una nueva lista con el valor\n",
    "\n",
    "# Imprimir el diccionario resultante\n",
    "print(diccionario)\n"
   ]
  },
  {
   "attachments": {},
   "cell_type": "markdown",
   "metadata": {},
   "source": [
    "## Ejercicio 12\n",
    "1. Crea una lista ordenada ascendente con las claves del diccionario\n",
    "2. Crea otra lista ordenada descendente con los valores\n",
    "3. Añade una nueva clave/valor\n",
    "4. Busca la clave igual a 2 dentro del diccionario\n",
    "5. Itera la clave y el valor del diccionario con un único for\n",
    "> ```ejer_12 = {4:78, 2:98, 8:234, 5:29}```"
   ]
  },
  {
   "cell_type": "code",
   "execution_count": 22,
   "metadata": {},
   "outputs": [
    {
     "name": "stdout",
     "output_type": "stream",
     "text": [
      "Claves ordenadas ascendentemente: [2, 4, 5, 8]\n",
      "Valores ordenados descendentemente: [234, 98, 78, 29]\n",
      "Diccionario después de añadir una nueva clave/valor: {4: 78, 2: 98, 8: 234, 5: 29, 3: 150}\n",
      "La clave 2 tiene el valor: 98\n",
      "Iterando sobre las claves y valores del diccionario:\n",
      "Clave: 4, Valor: 78\n",
      "Clave: 2, Valor: 98\n",
      "Clave: 8, Valor: 234\n",
      "Clave: 5, Valor: 29\n",
      "Clave: 3, Valor: 150\n"
     ]
    }
   ],
   "source": [
    "ejer_12 = {4: 78, 2: 98, 8: 234, 5: 29}\n",
    "\n",
    "# 1. Crear una lista ordenada ascendente con las claves del diccionario\n",
    "claves_ascendente = sorted(ejer_12.keys())\n",
    "print(\"Claves ordenadas ascendentemente:\", claves_ascendente)\n",
    "\n",
    "# 2. Crear otra lista ordenada descendente con los valores\n",
    "valores_descendente = sorted(ejer_12.values(), reverse=True)\n",
    "print(\"Valores ordenados descendentemente:\", valores_descendente)\n",
    "\n",
    "# 3. Añadir una nueva clave/valor\n",
    "ejer_12[3] = 150  # Por ejemplo, añadir la clave 3 con el valor 150\n",
    "print(\"Diccionario después de añadir una nueva clave/valor:\", ejer_12)\n",
    "\n",
    "# 4. Buscar la clave igual a 2 dentro del diccionario\n",
    "clave_a_buscar = 2\n",
    "if clave_a_buscar in ejer_12:\n",
    "    print(f\"La clave {clave_a_buscar} tiene el valor: {ejer_12[clave_a_buscar]}\")\n",
    "else:\n",
    "    print(f\"La clave {clave_a_buscar} no se encontró en el diccionario.\")\n",
    "\n",
    "# 5. Iterar la clave y el valor del diccionario con un único for\n",
    "print(\"Iterando sobre las claves y valores del diccionario:\")\n",
    "for clave, valor in ejer_12.items():\n",
    "    print(f\"Clave: {clave}, Valor: {valor}\")\n"
   ]
  },
  {
   "cell_type": "markdown",
   "metadata": {},
   "source": [
    "## Ejercicio 13\n",
    "Junta ambos diccionarios. Para ello, utiliza `update`\n",
    "> ```ejer_13_1 = {1: 11, 2: 22}```\n",
    ">\n",
    "> ```ejer_13_2 = {3: 33, 4: 44}```"
   ]
  },
  {
   "cell_type": "code",
   "execution_count": 23,
   "metadata": {},
   "outputs": [
    {
     "name": "stdout",
     "output_type": "stream",
     "text": [
      "Diccionario combinado: {1: 11, 2: 22, 3: 33, 4: 44}\n"
     ]
    }
   ],
   "source": [
    "ejer_13_1 = {1: 11, 2: 22}\n",
    "ejer_13_2 = {3: 33, 4: 44}\n",
    "\n",
    "# Usar el método update para juntar los diccionarios\n",
    "ejer_13_1.update(ejer_13_2)\n",
    "\n",
    "# Imprimir el diccionario resultante\n",
    "print(\"Diccionario combinado:\", ejer_13_1)\n"
   ]
  },
  {
   "cell_type": "markdown",
   "metadata": {},
   "source": [
    "## Ejercicio 14\n",
    "Suma todos los valores del dicionario\n",
    "> ```ejer_14 = {1: 11, 2: 22, 3: 33, 4: 44, 5: 55}```"
   ]
  },
  {
   "cell_type": "code",
   "execution_count": 24,
   "metadata": {},
   "outputs": [
    {
     "name": "stdout",
     "output_type": "stream",
     "text": [
      "La suma de todos los valores del diccionario es: 165\n"
     ]
    }
   ],
   "source": [
    "ejer_14 = {1: 11, 2: 22, 3: 33, 4: 44, 5: 55}\n",
    "\n",
    "# Sumar todos los valores del diccionario\n",
    "suma_total = sum(ejer_14.values())\n",
    "\n",
    "# Imprimir la suma total\n",
    "print(\"La suma de todos los valores del diccionario es:\", suma_total)\n"
   ]
  },
  {
   "cell_type": "markdown",
   "metadata": {},
   "source": [
    "## Ejercicio 15\n",
    "Multiplica todos los valores del diccionario\n",
    "> ```ejer_15 = {1: 11, 2: 22, 3: 33, 4: 44, 5: 55}```"
   ]
  },
  {
   "cell_type": "code",
   "execution_count": 25,
   "metadata": {},
   "outputs": [
    {
     "name": "stdout",
     "output_type": "stream",
     "text": [
      "El producto de todos los valores del diccionario es: 19326120\n"
     ]
    }
   ],
   "source": [
    "ejer_15 = {1: 11, 2: 22, 3: 33, 4: 44, 5: 55}\n",
    "\n",
    "# Inicializar el producto en 1 (ya que es la identidad de la multiplicación)\n",
    "producto_total = 1\n",
    "\n",
    "# Multiplicar todos los valores del diccionario\n",
    "for valor in ejer_15.values():\n",
    "    producto_total *= valor  # Multiplica el valor actual al producto total\n",
    "\n",
    "# Imprimir el producto total\n",
    "print(\"El producto de todos los valores del diccionario es:\", producto_total)\n"
   ]
  },
  {
   "cell_type": "markdown",
   "metadata": {},
   "source": [
    "## Ejercicio 16\n",
    "1. Crea un set de tres elementos\n",
    "2. Añade un cuarto\n",
    "3. Elimina el último elemento añadido\n",
    "4. Elimina el elemento 10, si está presente. Usa `discard()`"
   ]
  },
  {
   "cell_type": "code",
   "execution_count": 26,
   "metadata": {},
   "outputs": [
    {
     "name": "stdout",
     "output_type": "stream",
     "text": [
      "Set inicial: {1, 2, 3}\n",
      "Set después de añadir un cuarto elemento: {1, 2, 3, 4}\n",
      "Set después de eliminar el último elemento añadido: {1, 2, 3}\n",
      "Set después de intentar eliminar el elemento 10: {1, 2, 3}\n"
     ]
    }
   ],
   "source": [
    "# 1. Crea un set de tres elementos\n",
    "mi_set = {1, 2, 3}\n",
    "print(\"Set inicial:\", mi_set)\n",
    "\n",
    "# 2. Añade un cuarto elemento\n",
    "mi_set.add(4)\n",
    "print(\"Set después de añadir un cuarto elemento:\", mi_set)\n",
    "\n",
    "# 3. Elimina el último elemento añadido (en este caso, el 4)\n",
    "mi_set.remove(4)  # Aquí usamos remove porque sabemos que el 4 está presente\n",
    "print(\"Set después de eliminar el último elemento añadido:\", mi_set)\n",
    "\n",
    "# 4. Elimina el elemento 10, si está presente. Usa discard()\n",
    "mi_set.discard(10)  # No hay problema si 10 no está en el set\n",
    "print(\"Set después de intentar eliminar el elemento 10:\", mi_set)\n"
   ]
  },
  {
   "cell_type": "code",
   "execution_count": null,
   "metadata": {},
   "outputs": [],
   "source": []
  }
 ],
 "metadata": {
  "kernelspec": {
   "display_name": "Python 3.7.4 64-bit",
   "language": "python",
   "name": "python3"
  },
  "language_info": {
   "codemirror_mode": {
    "name": "ipython",
    "version": 3
   },
   "file_extension": ".py",
   "mimetype": "text/x-python",
   "name": "python",
   "nbconvert_exporter": "python",
   "pygments_lexer": "ipython3",
   "version": "3.12.4"
  },
  "vscode": {
   "interpreter": {
    "hash": "90139cb9a825bf3d63f6f6704e828dbd1ff7edbd4d0c6e906a71235d6efc74af"
   }
  }
 },
 "nbformat": 4,
 "nbformat_minor": 4
}
