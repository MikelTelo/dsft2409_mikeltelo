{
 "cells": [
  {
   "cell_type": "markdown",
   "metadata": {},
   "source": [
    "![imagen](./img/ejercicios.png)"
   ]
  },
  {
   "cell_type": "markdown",
   "metadata": {},
   "source": [
    "# Ejercicios Flujos de control"
   ]
  },
  {
   "cell_type": "markdown",
   "metadata": {},
   "source": [
    "## Ejercicio 1\n",
    "Declara una variable numérica que será una hora cualquiera del día. Implementa la siguiente casuística:\n",
    "\n",
    "* Si es entre las 0 y las 8, print \"Durmiendo\"\n",
    "* Si es entre las 9 y las 18, print \"Trabajando\"\n",
    "* Si es entre las 19 y las 21, print \"Clase\"\n",
    "* Si es entre las 22 y las 24, print \"Descanso\"\n",
    "* En cualquier otro caso, print \"Transporte o error\""
   ]
  },
  {
   "cell_type": "code",
   "execution_count": 11,
   "metadata": {},
   "outputs": [
    {
     "name": "stdout",
     "output_type": "stream",
     "text": [
      "Transporte o error\n"
     ]
    }
   ],
   "source": [
    "hora = float(input('¿Que hora es en formato xx?'))\n",
    "if hora >= 0 and hora <= 8:\n",
    "    print('Durmiendo')\n",
    "elif hora >=9 and hora <=18:\n",
    "    print('Trabajando')\n",
    "elif hora >=19 and hora <=21:\n",
    "    print('Clase')\n",
    "elif hora >=22 and hora <=24:\n",
    "    print('Descanso')\n",
    "else:\n",
    "    print('Transporte o error')\n",
    "    "
   ]
  },
  {
   "cell_type": "markdown",
   "metadata": {},
   "source": [
    "## Ejercicio 2\n",
    "En este ejercicio vamos a implementar un calculador de precios de casas muy sencillo. Tenemos las siguientes variables:\n",
    "\n",
    "> superficie\n",
    ">\n",
    "> distrito\n",
    "\n",
    "Implementa la siguiente casuística:\n",
    "\n",
    "1. Si el distrito es \"Moncloa\" o \"Centro\", y además la superficie es superior a 100 metros cuadrados, el precio de la casa es de 1000\n",
    "2. Si el distrito es \"Salamanca\", y además la superficie de la casa es al menos de 150 metros, el precio de la casa es de 1500\n",
    "3. Si el distrito no es \"Retiro\" y la superficie está entre 60 y 80 metros, el precio es de 600\n",
    "4. En cualquier otro caso, el precio será de 0"
   ]
  },
  {
   "cell_type": "code",
   "execution_count": 8,
   "metadata": {},
   "outputs": [
    {
     "name": "stdout",
     "output_type": "stream",
     "text": [
      "Precio 0\n"
     ]
    }
   ],
   "source": [
    "superficie = int(input('Introduce m2 utiles en numero entero'))\n",
    "distrito = input('Introduce tu area de residencia \"Moncloa, Centro, Salamanca o Retiro\"')\n",
    "\n",
    "if (distrito == 'Moncloa' or distrito == 'Centro') and superficie >100:\n",
    "    print('Precio 1000')\n",
    "elif distrito == 'Salamanca' and superficie >= 150:\n",
    "    print('Precio 1500')\n",
    "elif distrito != 'Retiro' and superficie >=60 and superficie <=80:\n",
    "    print ('Precio 600')\n",
    "else: \n",
    "    print('Precio 0')"
   ]
  },
  {
   "cell_type": "markdown",
   "metadata": {},
   "source": [
    "## Ejercicio 3\n",
    "En este ejercicio vamos a realizar un programa muy parecido. Para este caso queremos que se cumplan las siguientes condiciones:\n",
    "\n",
    "1. Primero se compruebe si el distrito es \"Retiro\". Si es asá, que imprima \"Distrito Retiro\", y si no, \"Otro distrito\"\n",
    "2. Si el distrito es \"Retiro\", comprueba si la superficie es mayor de 100 metros cuadrados. En tal caso, que imprima un precio de 1000, y si no, de 500.\n",
    "\n",
    "Prueba a usar `ifs` anidados"
   ]
  },
  {
   "cell_type": "code",
   "execution_count": 12,
   "metadata": {},
   "outputs": [
    {
     "name": "stdout",
     "output_type": "stream",
     "text": [
      "Distrito Retiro\n",
      "precio 500\n"
     ]
    }
   ],
   "source": [
    "superficie = int(input('Introduce m2 utiles en numero entero'))\n",
    "distrito = input('Introduce tu area de residencia \"Moncloa, Centro, Salamanca o Retiro\"')\n",
    "\n",
    "if distrito != 'Retiro':\n",
    "    print ('Otro distrito')\n",
    "elif distrito == 'Retiro':\n",
    "    print('Distrito Retiro')\n",
    "    if superficie >100:\n",
    "        print('precio 1000')\n",
    "    elif superficie <100:\n",
    "        print('precio 500')\n",
    "\n",
    "\n"
   ]
  },
  {
   "cell_type": "markdown",
   "metadata": {},
   "source": [
    "## Ejercicio 4\n",
    "Escribe un programa que tenga dos variables: un numero, y una lista numérica. El programa debe recorrer la lista e imprimir por pantalla cada elemento de la lista multiplicado por el número"
   ]
  },
  {
   "cell_type": "code",
   "execution_count": 18,
   "metadata": {},
   "outputs": [
    {
     "name": "stdout",
     "output_type": "stream",
     "text": [
      "2 multiplicado por 2 es 4\n",
      "2 multiplicado por 2 es 4\n",
      "4 multiplicado por 2 es 8\n",
      "4 multiplicado por 2 es 8\n",
      "6 multiplicado por 2 es 12\n",
      "6 multiplicado por 2 es 12\n",
      "8 multiplicado por 2 es 16\n",
      "8 multiplicado por 2 es 16\n",
      "10 multiplicado por 2 es 20\n",
      "10 multiplicado por 2 es 20\n"
     ]
    }
   ],
   "source": [
    "# Variables\n",
    "numero = 2\n",
    "lista_numerica = [2, 4, 6, 8, 10]  # Lista numérica de ejemplo\n",
    "\n",
    "# Recorrer la lista e imprimir cada elemento multiplicado por el número\n",
    "for i in lista_numerica:\n",
    "    resultado = i * numero\n",
    "    print(f\"{i} multiplicado por {numero} es {resultado}\")\n",
    "    print(i, \"multiplicado por\", numero, \"es\", resultado)\n",
    "\n"
   ]
  },
  {
   "cell_type": "markdown",
   "metadata": {},
   "source": [
    "## Ejercicio 5\n",
    "Imprime por pantalla cada número del -10 al -1. En ese orden. Consulta [la documentación](https://www.w3schools.com/python/ref_func_range.asp) de `range`"
   ]
  },
  {
   "cell_type": "code",
   "execution_count": 16,
   "metadata": {},
   "outputs": [
    {
     "name": "stdout",
     "output_type": "stream",
     "text": [
      "-10\n",
      "-9\n",
      "-8\n",
      "-7\n",
      "-6\n",
      "-5\n",
      "-4\n",
      "-3\n",
      "-2\n",
      "-1\n"
     ]
    }
   ],
   "source": [
    "# Imprimir los números del -10 al -1\n",
    "for numero in range(-10, 0):  # El 0 no se incluye\n",
    "    print(numero)\n"
   ]
  },
  {
   "cell_type": "markdown",
   "metadata": {},
   "source": [
    "## Ejercicio 6\n",
    "Dada la siguiente lista:\n",
    "\n",
    "> list1 = [12, 15, 32, 42, 55, 75, 122, 132, 150, 180, 200]\n",
    "\n",
    "Implementa un programa que los recorra e imprima por pantalla todos los divisibles por 5. Si nos encontramos con alguno que sea mayor que 150, detener el bucle."
   ]
  },
  {
   "cell_type": "code",
   "execution_count": 32,
   "metadata": {},
   "outputs": [
    {
     "name": "stdout",
     "output_type": "stream",
     "text": [
      "15\n",
      "55\n",
      "75\n",
      "150\n"
     ]
    }
   ],
   "source": [
    "list1 = [12, 15, 32, 42, 55, 75, 122, 132, 150, 180, 200]\n",
    "for num in list1:\n",
    "    resultado = num%5\n",
    "    if num > 150:\n",
    "            break\n",
    "    if resultado == 0:\n",
    "        print(num)\n",
    "\n",
    "    \n",
    "\n",
    "    "
   ]
  },
  {
   "attachments": {},
   "cell_type": "markdown",
   "metadata": {},
   "source": [
    "## Ejercicio 7\n",
    "Escribe un programa en Python que imprima por pantalla todos los números que cumplan que sean divisibles por 5 y divisibles por 7, dentro del rango de valores (150, 350)."
   ]
  },
  {
   "cell_type": "code",
   "execution_count": 30,
   "metadata": {},
   "outputs": [
    {
     "name": "stdout",
     "output_type": "stream",
     "text": [
      "175\n",
      "210\n",
      "245\n",
      "280\n",
      "315\n",
      "350\n"
     ]
    }
   ],
   "source": [
    "for num in range(150,351):\n",
    "    resultado = num%5\n",
    "    resultado2 = num%7\n",
    "    if resultado == 0 and resultado2 ==0:\n",
    "        print(num)"
   ]
  },
  {
   "cell_type": "markdown",
   "metadata": {},
   "source": [
    "## Ejercicio 8\n",
    "Implementa un programa que imprima por pantalla el siguiente patrón\n",
    "\n",
    "5 4 3 2 1 \n",
    "\n",
    "4 3 2 1 \n",
    "\n",
    "3 2 1 \n",
    "\n",
    "2 1 \n",
    "\n",
    "1\n",
    "\n",
    "NOTA: NO hay lineas en blanco entre una línea y otra."
   ]
  },
  {
   "cell_type": "code",
   "execution_count": 56,
   "metadata": {},
   "outputs": [
    {
     "name": "stdout",
     "output_type": "stream",
     "text": [
      "5 4 3 2 1 \n",
      "\n",
      "4 3 2 1 \n",
      "\n",
      "3 2 1 \n",
      "\n",
      "2 1 \n",
      "\n",
      "1 \n",
      "\n"
     ]
    }
   ],
   "source": [
    "for num in range (5,0,-1):\n",
    "    print (num, end=' ')\n",
    "print('\\n')\n",
    "for num in range (4,0,-1):\n",
    "    print (num, end=' ')\n",
    "print('\\n')\n",
    "for num in range (3,0,-1):\n",
    "    print (num, end=' ')\n",
    "print('\\n')\n",
    "for num in range (2,0,-1):\n",
    "    print (num, end=' ')\n",
    "print('\\n')\n",
    "for num in range (1,0,-1):\n",
    "    print (num, end=' ')\n",
    "print('\\n')\n"
   ]
  },
  {
   "cell_type": "code",
   "execution_count": 21,
   "metadata": {},
   "outputs": [
    {
     "name": "stdout",
     "output_type": "stream",
     "text": [
      "5 4 3 2 1 \n",
      "4 3 2 1 \n",
      "3 2 1 \n",
      "2 1 \n",
      "1 \n"
     ]
    }
   ],
   "source": [
    "x=5\n",
    "while x>=1:\n",
    "    for num in range (x,0,-1):\n",
    "        print (num, end=' ')\n",
    "    print()\n",
    "    x -=1"
   ]
  },
  {
   "cell_type": "markdown",
   "metadata": {},
   "source": [
    "## Ejercicio 9\n",
    "En este ejercicio vamos a crear un pequeño juego. Se trata de intentar adivinar un numero del 1 al 5. Tenemos dos intentos para acertar. Pasos a seguir:\n",
    "\n",
    "1. Ya viene implementado con la librería `random` cómo obtener un número aleatorio del 1 al 5\n",
    "2. Tendrás que declarar en una variable el numero de vidas, y mediante un bucle while, comprobar que todavia quedan vidas.\n",
    "3. Dentro del bucle, obtener el valor del usuario y comprobar si es ese el numero a adivinar. Si no, actualizar las vidas.\n",
    "4. Si acertamos, salimos del bucle e imprimimos por pantalla \"You win\". Y si perdemos también salimos del bucle, pero en este caso imprimimos por pantalla \"You lose\".\n",
    "\n",
    "TIP: te puede resultar útil usar la sentencia `else` cuando acabe el bucle `while`. Lo que haya dentro de ese `else` se ejecutará una vez acabe la ejecución del `while`. Lo podrás usar para cuando pierdas."
   ]
  },
  {
   "cell_type": "code",
   "execution_count": 27,
   "metadata": {},
   "outputs": [
    {
     "name": "stdout",
     "output_type": "stream",
     "text": [
      "Incorrecto. Te quedan 1 vidas.\n",
      "Incorrecto. Te quedan 0 vidas.\n",
      "You lose. El número era: 2\n"
     ]
    }
   ],
   "source": [
    "import random\n",
    "\n",
    "# 1. Obtener un número aleatorio del 1 al 5\n",
    "numero_a_adivinar = random.randint(1, 5)\n",
    "\n",
    "# 2. Declarar el número de vidas\n",
    "vidas = 2\n",
    "\n",
    "# 3. Bucle para comprobar si quedan vidas\n",
    "while vidas > 0:\n",
    "    # Obtener el valor del usuario\n",
    "    try:\n",
    "        intento = int(input(\"Adivina un número del 1 al 5: \"))\n",
    "    except ValueError:\n",
    "        print(\"Por favor, introduce un número válido.\")\n",
    "        continue\n",
    "\n",
    "    # 4. Comprobar si el número es correcto\n",
    "    if intento == numero_a_adivinar:\n",
    "        print(\"You win!\")\n",
    "        break  # Salimos del bucle si adivinamos correctamente\n",
    "    else:\n",
    "        vidas -= 1  # Actualizar las vidas\n",
    "        print(f\"Incorrecto. Te quedan {vidas} vidas.\")\n",
    "\n",
    "# 5. Usar else en el bucle while para cuando se pierden todas las vidas\n",
    "else:\n",
    "    print(\"You lose. El número era:\", numero_a_adivinar)\n"
   ]
  },
  {
   "cell_type": "code",
   "execution_count": null,
   "metadata": {},
   "outputs": [],
   "source": []
  },
  {
   "cell_type": "code",
   "execution_count": null,
   "metadata": {},
   "outputs": [],
   "source": []
  },
  {
   "cell_type": "code",
   "execution_count": 150,
   "metadata": {},
   "outputs": [],
   "source": []
  },
  {
   "cell_type": "code",
   "execution_count": null,
   "metadata": {},
   "outputs": [],
   "source": []
  },
  {
   "cell_type": "code",
   "execution_count": null,
   "metadata": {},
   "outputs": [],
   "source": []
  }
 ],
 "metadata": {
  "kernelspec": {
   "display_name": "Python 3.7.4 64-bit",
   "language": "python",
   "name": "python3"
  },
  "language_info": {
   "codemirror_mode": {
    "name": "ipython",
    "version": 3
   },
   "file_extension": ".py",
   "mimetype": "text/x-python",
   "name": "python",
   "nbconvert_exporter": "python",
   "pygments_lexer": "ipython3",
   "version": "3.12.4"
  },
  "vscode": {
   "interpreter": {
    "hash": "90139cb9a825bf3d63f6f6704e828dbd1ff7edbd4d0c6e906a71235d6efc74af"
   }
  }
 },
 "nbformat": 4,
 "nbformat_minor": 4
}
